{
 "cells": [
  {
   "cell_type": "code",
   "execution_count": 1,
   "metadata": {},
   "outputs": [],
   "source": [
    "import numpy as np\n",
    "import pandas as pd"
   ]
  },
  {
   "cell_type": "code",
   "execution_count": 3,
   "metadata": {},
   "outputs": [],
   "source": [
    "# 用户评分矩阵\n",
    "R = np.array([[4,0,2,0,1],\n",
    "             [0,2,3,0,0],\n",
    "             [1,0,2,4,0],\n",
    "             [5,0,0,3,1],\n",
    "             [0,0,1,5,1],\n",
    "             [0,3,2,4,1],])"
   ]
  },
  {
   "cell_type": "code",
   "execution_count": 29,
   "metadata": {},
   "outputs": [],
   "source": [
    "def LFM_grad_desc(R, K=2, max_iter=1000, alpha=0.0001, lamda=0.002 ):\n",
    "    \"\"\"\n",
    "    LFM随机梯度下降求解\n",
    "    R 为用户~评分矩阵\n",
    "    K 隐含特征向量维度\n",
    "    max_iter 最大学习次数\n",
    "    alpha  步长 学习率\n",
    "    lamda 正则化系数\n",
    "    \"\"\"\n",
    "    M = R.shape[0]\n",
    "    N = R.shape[1]\n",
    "    \n",
    "    # 随机生成\n",
    "    P = np.random.rand(M, K)\n",
    "    Q = np.random.rand(N, K)\n",
    "    Q = Q.T\n",
    "    \n",
    "    # 开始迭代\n",
    "    for step in range(max_iter):\n",
    "        # 对所有的用户和物品进行遍历\n",
    "        for u in range(M):\n",
    "            for i in range(N):\n",
    "                # 取出当前用户有评分的数据 计算偏差\n",
    "                if R[u][i] > 0:\n",
    "                    # 预测值和真实值的偏差\n",
    "                    error_ui = np.dot(P[u, :], Q[:, i]) - R[u][i]\n",
    "                    # 按照随机梯度下降算法更新 Pu Qi\n",
    "                    for k in range(K):\n",
    "                        P[u][k] = P[u][k] - alpha *(2 * error_ui * Q[k][i] + 2 * lamda * P[u][k]) \n",
    "                        Q[k][i] = Q[k][i] - alpha * (2 * error_ui * P[u][k] + 2 * lamda * Q[k][i])\n",
    "        # 所有的u,i遍历完, 所有的特征向量更新完成, 得到P, Q,计算预测评分矩阵\n",
    "#         pred_r = np.dot(P, Q)\n",
    "        cost = 0\n",
    "        # 计算当前损失\n",
    "        for u in range(M):\n",
    "            for i in range(N):\n",
    "                if R[u][i] > 0:\n",
    "                    cost += (np.dot(P[u, :], Q[:, i]) - R[u][i]) ** 2\n",
    "                    # 加上正则项\n",
    "                    for k in range(K):\n",
    "                        cost += lamda * (P[u][k] ** 2 + Q[k][i] ** 2)\n",
    "        if cost < 0.0001:\n",
    "            break\n",
    "                # 计算当前损失函数\n",
    "    return P, Q.T, cost\n",
    "    "
   ]
  },
  {
   "cell_type": "code",
   "execution_count": 26,
   "metadata": {},
   "outputs": [
    {
     "data": {
      "text/plain": [
       "0.5620410875527074"
      ]
     },
     "execution_count": 26,
     "metadata": {},
     "output_type": "execute_result"
    }
   ],
   "source": [
    "# 给定超参数\n",
    "\n",
    "K = 5\n",
    "max_iter = 5000\n",
    "alpha = 0.0002\n",
    "lamda = 0.004\n",
    "\n",
    "P, Q, cost = LFM_grad_desc(R, K, max_iter, alpha, lamda)\n",
    "cost"
   ]
  },
  {
   "cell_type": "code",
   "execution_count": 30,
   "metadata": {},
   "outputs": [
    {
     "data": {
      "text/plain": [
       "array([[4.00317344, 2.5609118 , 1.99820875, 4.0881203 , 0.94033135],\n",
       "       [3.48130085, 2.01114171, 2.98635932, 3.85264815, 1.01698779],\n",
       "       [1.00221031, 1.1391706 , 2.00185156, 3.98988605, 0.53883581],\n",
       "       [4.9862868 , 2.80056786, 1.32466519, 3.01322878, 0.96207941],\n",
       "       [5.44870669, 3.57049707, 1.02547399, 4.97626743, 1.00917979],\n",
       "       [4.60455032, 2.97437932, 1.97259598, 4.00246548, 1.07184879]])"
      ]
     },
     "execution_count": 30,
     "metadata": {},
     "output_type": "execute_result"
    }
   ],
   "source": [
    "# 预测值\n",
    "pred_r = np.dot(P, Q.T)\n",
    "pred_r"
   ]
  },
  {
   "cell_type": "code",
   "execution_count": 31,
   "metadata": {},
   "outputs": [
    {
     "data": {
      "text/plain": [
       "array([[ 0.76857183,  0.85574357,  0.72694329,  0.77816719,  0.66023326],\n",
       "       [-0.01840529,  1.10777752,  0.84940372,  0.74088171,  1.12995235],\n",
       "       [ 0.19013119,  1.67210952,  0.75868741,  0.12486243, -0.08200108],\n",
       "       [ 0.84899843, -0.08243641,  0.78097054,  0.93404336,  0.98227355],\n",
       "       [ 1.52171146,  0.38571054,  1.2092196 ,  1.00782098,  0.1800176 ],\n",
       "       [ 1.2399479 ,  0.82012406,  0.37491222,  0.60080662,  1.05284866]])"
      ]
     },
     "execution_count": 31,
     "metadata": {},
     "output_type": "execute_result"
    }
   ],
   "source": [
    "P"
   ]
  },
  {
   "cell_type": "code",
   "execution_count": 32,
   "metadata": {},
   "outputs": [
    {
     "data": {
      "text/plain": [
       "array([[ 1.53600905, -0.12107087,  1.09068628,  1.58044972,  1.36849297],\n",
       "       [ 1.18838861,  0.21285954,  0.67455845,  0.75218142,  0.59025801],\n",
       "       [-0.33319138,  1.13094501,  0.22267458,  0.65403211,  0.93250863],\n",
       "       [ 1.12660252,  1.5569562 ,  1.42647761,  0.88467383,  0.24915074],\n",
       "       [ 0.23070751,  0.18141495,  0.26344633,  0.19616059,  0.39927572]])"
      ]
     },
     "execution_count": 32,
     "metadata": {},
     "output_type": "execute_result"
    }
   ],
   "source": [
    "Q"
   ]
  },
  {
   "cell_type": "code",
   "execution_count": null,
   "metadata": {},
   "outputs": [],
   "source": []
  }
 ],
 "metadata": {
  "kernelspec": {
   "display_name": "Python 3",
   "language": "python",
   "name": "python3"
  },
  "language_info": {
   "codemirror_mode": {
    "name": "ipython",
    "version": 3
   },
   "file_extension": ".py",
   "mimetype": "text/x-python",
   "name": "python",
   "nbconvert_exporter": "python",
   "pygments_lexer": "ipython3",
   "version": "3.7.3"
  }
 },
 "nbformat": 4,
 "nbformat_minor": 2
}
