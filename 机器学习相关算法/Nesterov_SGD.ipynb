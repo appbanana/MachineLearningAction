{
 "cells": [
  {
   "cell_type": "code",
   "execution_count": 6,
   "metadata": {},
   "outputs": [],
   "source": [
    "# Nesterov方法的python实现 参考链接 https://www.cnblogs.com/leixingzhi7/p/9520135.html\n",
    "# 参考链接 https://blog.csdn.net/bvl10101111/article/details/72615961\n",
    "#  注意 这个算法有点问题"
   ]
  },
  {
   "cell_type": "code",
   "execution_count": 1,
   "metadata": {},
   "outputs": [],
   "source": [
    "import random\n",
    "import numpy as np\n",
    "import pandas as pd\n",
    "from IPython.core.interactiveshell import InteractiveShell\n"
   ]
  },
  {
   "cell_type": "code",
   "execution_count": 2,
   "metadata": {},
   "outputs": [],
   "source": [
    "# #全部行都能输出\n",
    "InteractiveShell.ast_node_interactivity = \"all\""
   ]
  },
  {
   "cell_type": "code",
   "execution_count": 3,
   "metadata": {},
   "outputs": [],
   "source": [
    "# 构造线性回归数据\n",
    "def gen_line_data(sample_num=100):\n",
    "    \"\"\"\n",
    "    y = 3*x1 + 4*x2\n",
    "    :return:\n",
    "    \"\"\"\n",
    "    x1 = np.linspace(0, 9, sample_num)\n",
    "    x2 = np.linspace(4, 13, sample_num)\n",
    "    x = np.concatenate(([x1], [x2]), axis=0).T\n",
    "    y = np.dot(x, np.array([3, 4]).T)  # y 列向量\n",
    "    return x, y\n"
   ]
  },
  {
   "cell_type": "code",
   "execution_count": 4,
   "metadata": {},
   "outputs": [],
   "source": [
    "x, y = gen_line_data()"
   ]
  },
  {
   "cell_type": "code",
   "execution_count": 7,
   "metadata": {},
   "outputs": [],
   "source": [
    "def nesterov_algo(samples, y, step_size=0.01, eps = 0.9, max_iter_count=10000):\n",
    "    \"\"\"\n",
    "    eps  衰减力度,可以用来调节,该值越大那么之前的梯度对现在方向的影响也越大\n",
    "    \"\"\"\n",
    "    sample_num, dim = samples.shape\n",
    "    np.random.seed(66)\n",
    "    # 初始化特征的权重\n",
    "    w = np.random.randn(dim)\n",
    "    # 更新速度参数\n",
    "    v = np.zeros((dim,), dtype=np.float32)\n",
    "    loss = 10\n",
    "    num_iter = 0\n",
    "    while loss > 0.001 and num_iter < max_iter_count:\n",
    "        error = np.zeros((dim, ), dtype=np.float32)\n",
    "        sub_samples_index = random.sample(range(sample_num), int(np.ceil(sample_num * 0.2)))\n",
    "        sub_samples = samples[sub_samples_index]\n",
    "        sub_samples_y = y[sub_samples_index]\n",
    "        \n",
    "        temp_w = w + eps * v\n",
    "        for i in range(len(sub_samples)):\n",
    "            pred_y = np.dot(temp_w, sub_samples[i])\n",
    "            for j in range(dim):\n",
    "                error[j] += (y[i] - pred_y) * samples[i, j]\n",
    "        # 在这里进行速度更新\n",
    "        v = eps * v - step_size * error\n",
    "        # 使用动量来更新参数\n",
    "        w = w + v  \n",
    "        \n",
    "        for i in range(sample_num):\n",
    "            pred_y = np.dot(w, samples[i])\n",
    "            loss += (y[i] - pred_y) ** 2 \n",
    "        loss = loss / sample_num\n",
    "        if num_iter % 50 == 0:\n",
    "            print(\"num_iter: \", num_iter, \"the loss:\", loss)\n",
    "        num_iter += 1\n",
    "        \n",
    "    return w\n",
    "            \n",
    "\n",
    "    "
   ]
  },
  {
   "cell_type": "code",
   "execution_count": 8,
   "metadata": {},
   "outputs": [
    {
     "name": "stdout",
     "output_type": "stream",
     "text": [
      "num_iter:  0 the loss: 86268.56547849572\n"
     ]
    },
    {
     "name": "stderr",
     "output_type": "stream",
     "text": [
      "/anaconda3/lib/python3.7/site-packages/ipykernel_launcher.py:23: RuntimeWarning: invalid value encountered in double_scalars\n"
     ]
    },
    {
     "data": {
      "text/plain": [
       "array([ nan, -inf])"
      ]
     },
     "execution_count": 8,
     "metadata": {},
     "output_type": "execute_result"
    }
   ],
   "source": [
    "nesterov_algo(x, y)"
   ]
  },
  {
   "cell_type": "code",
   "execution_count": null,
   "metadata": {},
   "outputs": [],
   "source": []
  }
 ],
 "metadata": {
  "kernelspec": {
   "display_name": "Python 3",
   "language": "python",
   "name": "python3"
  },
  "language_info": {
   "codemirror_mode": {
    "name": "ipython",
    "version": 3
   },
   "file_extension": ".py",
   "mimetype": "text/x-python",
   "name": "python",
   "nbconvert_exporter": "python",
   "pygments_lexer": "ipython3",
   "version": "3.7.3"
  }
 },
 "nbformat": 4,
 "nbformat_minor": 2
}
