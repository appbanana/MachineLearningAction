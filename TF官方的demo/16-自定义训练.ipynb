{
 "cells": [
  {
   "cell_type": "code",
   "execution_count": 1,
   "metadata": {},
   "outputs": [],
   "source": [
    "import os\n",
    "import time\n",
    "import numpy as np\n",
    "import pandas as pd\n",
    "import tensorflow as tf\n",
    "from tensorflow import keras, feature_column\n",
    "from sklearn import model_selection, preprocessing\n",
    "import matplotlib.pyplot as plt\n",
    "import seaborn as sns\n",
    "import tensorflow_hub as hub\n",
    "import PIL.Image as Image\n",
    "import tensorflow_datasets as tfds\n",
    "\n",
    "from IPython.core.interactiveshell import InteractiveShell\n"
   ]
  },
  {
   "cell_type": "code",
   "execution_count": 2,
   "metadata": {},
   "outputs": [],
   "source": [
    "# 配置项\n",
    "# 这个要放到设置中文之前否则还是小方框\n",
    "plt.style.use(\"seaborn\")\n",
    "\n",
    "# 指定默认字体 用来正常显示中文标签\n",
    "plt.rcParams['font.sans-serif'] = ['SimHei']\n",
    "# 解决保存图像是负号'-'显示为方块的问题\n",
    "plt.rcParams['axes.unicode_minus'] = False\n",
    "\n",
    "# #全部行都能输出\n",
    "InteractiveShell.ast_node_interactivity = \"all\""
   ]
  },
  {
   "cell_type": "code",
   "execution_count": 5,
   "metadata": {},
   "outputs": [
    {
     "data": {
      "text/plain": [
       "<tf.Variable 'UnreadVariable' shape=() dtype=float32, numpy=6.0>"
      ]
     },
     "execution_count": 5,
     "metadata": {},
     "output_type": "execute_result"
    },
    {
     "data": {
      "text/plain": [
       "<tf.Variable 'UnreadVariable' shape=() dtype=float32, numpy=36.0>"
      ]
     },
     "execution_count": 5,
     "metadata": {},
     "output_type": "execute_result"
    }
   ],
   "source": [
    "v = tf.Variable(3.0)\n",
    "assert v.numpy() == 3.0\n",
    "\n",
    "# 通过assign函数更新旧值\n",
    "# 重新赋值\n",
    "v.assign(6)\n",
    "assert v.numpy() == 6.0\n",
    "\n",
    "v.assign(tf.square(v))\n",
    "assert v.numpy() == 36"
   ]
  },
  {
   "cell_type": "markdown",
   "metadata": {},
   "source": [
    "### 自定义线性数据 并训练模型"
   ]
  },
  {
   "cell_type": "code",
   "execution_count": 13,
   "metadata": {},
   "outputs": [],
   "source": [
    "class Model(object):\n",
    "    def __init__(self):\n",
    "        # 初始化w和b的值 这你可以随机初始化\n",
    "        self.w = tf.Variable(5.0)\n",
    "        self.b = tf.Variable(0.0)\n",
    "        \n",
    "    def __call__(self, x):\n",
    "        # y = w * x + b\n",
    "        return self.w * x + self.b\n",
    "\n",
    "# 损失函数\n",
    "def loss(y_true, y_pred):\n",
    "    # 均方误差\n",
    "    return tf.reduce_mean(tf.square(y_true - y_pred))"
   ]
  },
  {
   "cell_type": "code",
   "execution_count": 12,
   "metadata": {},
   "outputs": [],
   "source": [
    "model = Model()\n",
    "# 测试模型\n",
    "assert model(3).numpy() == 15.0"
   ]
  },
  {
   "cell_type": "code",
   "execution_count": 16,
   "metadata": {},
   "outputs": [],
   "source": [
    "# 模拟数据\n",
    "TRUE_W = 3.0\n",
    "TRUE_b = 2.0\n",
    "NUM_EXAMPLES = 1000\n",
    "\n",
    "x = tf.random.normal(shape=[NUM_EXAMPLES])\n",
    "noise = tf.random.normal(shape=[NUM_EXAMPLES])\n",
    "\n",
    "y = TRUE_W * x + TRUE_b + noise\n"
   ]
  },
  {
   "cell_type": "code",
   "execution_count": 17,
   "metadata": {},
   "outputs": [
    {
     "data": {
      "text/plain": [
       "<matplotlib.collections.PathCollection at 0x1a33cd2ac8>"
      ]
     },
     "execution_count": 17,
     "metadata": {},
     "output_type": "execute_result"
    },
    {
     "data": {
      "image/png": "[encoded data removed]",
      "text/plain": [
       "<Figure size 576x396 with 1 Axes>"
      ]
     },
     "metadata": {},
     "output_type": "display_data"
    }
   ],
   "source": [
    "# 画出这些散点图\n",
    "plt.scatter(x, y, c='b')\n",
    "plt.show()"
   ]
  },
  {
   "cell_type": "code",
   "execution_count": 19,
   "metadata": {},
   "outputs": [
    {
     "name": "stdout",
     "output_type": "stream",
     "text": [
      "Current loss: \n"
     ]
    },
    {
     "data": {
      "text/plain": [
       "(None,)"
      ]
     },
     "execution_count": 19,
     "metadata": {},
     "output_type": "execute_result"
    },
    {
     "name": "stdout",
     "output_type": "stream",
     "text": [
      "8.939884\n"
     ]
    }
   ],
   "source": [
    "# 训练前的MSE\n",
    "print('Current loss: '),\n",
    "print(loss(model(x), y).numpy())"
   ]
  },
  {
   "cell_type": "code",
   "execution_count": 23,
   "metadata": {},
   "outputs": [],
   "source": [
    "# 定义训练\n",
    "def train(model, x, y, learning_rate=0.001):\n",
    "    with tf.GradientTape() as t:\n",
    "        # 计算均方误差\n",
    "        curr_loss = loss(y, model(x))\n",
    "    # 计算w,b的梯度向量\n",
    "    dw, db = t.gradient(curr_loss, [model.w, model.b])\n",
    "    # 更新w,b\n",
    "    model.w.assign_sub(dw * learning_rate)\n",
    "    model.b.assign_sub(db * learning_rate)\n",
    "    \n",
    "\n",
    "    "
   ]
  },
  {
   "cell_type": "code",
   "execution_count": 32,
   "metadata": {},
   "outputs": [
    {
     "name": "stdout",
     "output_type": "stream",
     "text": [
      "Epoch  0: W=5.00 b=0.00, loss=8.62660\n",
      "Epoch 50: W=3.78 b=1.31, loss=2.02323\n",
      "Epoch 100: W=3.32 b=1.77, loss=1.14049\n",
      "Epoch 150: W=3.14 b=1.94, loss=1.02197\n",
      "Epoch 200: W=3.08 b=2.00, loss=1.00598\n",
      "Epoch 250: W=3.05 b=2.02, loss=1.00381\n",
      "Epoch 300: W=3.04 b=2.02, loss=1.00351\n",
      "Epoch 350: W=3.04 b=2.03, loss=1.00347\n",
      "Epoch 400: W=3.04 b=2.03, loss=1.00346\n",
      "Epoch 450: W=3.04 b=2.03, loss=1.00346\n",
      "Epoch 500: W=3.04 b=2.03, loss=1.00346\n",
      "Epoch 550: W=3.04 b=2.03, loss=1.00346\n",
      "Epoch 600: W=3.04 b=2.03, loss=1.00346\n",
      "Epoch 650: W=3.04 b=2.03, loss=1.00346\n",
      "Epoch 700: W=3.04 b=2.03, loss=1.00346\n",
      "Epoch 750: W=3.04 b=2.03, loss=1.00346\n",
      "Epoch 800: W=3.04 b=2.03, loss=1.00346\n",
      "Epoch 850: W=3.04 b=2.03, loss=1.00346\n",
      "Epoch 900: W=3.04 b=2.03, loss=1.00346\n",
      "Epoch 950: W=3.04 b=2.03, loss=1.00346\n"
     ]
    }
   ],
   "source": [
    "# 训练模型\n",
    "model = Model()\n",
    "ws = []\n",
    "bs = []\n",
    "epochs = range(1000)\n",
    "\n",
    "for i in epochs:\n",
    "    ws.append(model.w.numpy())\n",
    "    bs.append(model.b.numpy())\n",
    "    train(model, x, y, learning_rate=0.01)\n",
    "    curr_loss = loss(y, model(x))\n",
    "    if curr_loss < 0.0001:\n",
    "        break\n",
    "    if i % 50 == 0:\n",
    "        print('Epoch %2d: W=%1.2f b=%1.2f, loss=%2.5f' %\n",
    "        (i, ws[-1], bs[-1], curr_loss))"
   ]
  },
  {
   "cell_type": "code",
   "execution_count": 34,
   "metadata": {},
   "outputs": [
    {
     "data": {
      "text/plain": [
       "[<matplotlib.lines.Line2D at 0x1a375d9668>,\n",
       " <matplotlib.lines.Line2D at 0x1a375d97f0>]"
      ]
     },
     "execution_count": 34,
     "metadata": {},
     "output_type": "execute_result"
    },
    {
     "data": {
      "text/plain": [
       "[<matplotlib.lines.Line2D at 0x1a38002da0>,\n",
       " <matplotlib.lines.Line2D at 0x1a375d9f60>]"
      ]
     },
     "execution_count": 34,
     "metadata": {},
     "output_type": "execute_result"
    },
    {
     "data": {
      "text/plain": [
       "<matplotlib.legend.Legend at 0x1a375d9dd8>"
      ]
     },
     "execution_count": 34,
     "metadata": {},
     "output_type": "execute_result"
    },
    {
     "data": {
      "image/png": "[encoded data removed]",
      "text/plain": [
       "<Figure size 576x396 with 1 Axes>"
      ]
     },
     "metadata": {},
     "output_type": "display_data"
    }
   ],
   "source": [
    "# 显示所有\n",
    "plt.plot(epochs, ws, 'r',\n",
    "         epochs, bs, 'b')\n",
    "plt.plot([TRUE_W] * len(epochs), 'r--',\n",
    "         [TRUE_b] * len(epochs), 'b--')\n",
    "plt.legend(['W', 'b', 'true W', 'true_b'])\n",
    "plt.show()"
   ]
  },
  {
   "cell_type": "code",
   "execution_count": null,
   "metadata": {},
   "outputs": [],
   "source": []
  }
 ],
 "metadata": {
  "kernelspec": {
   "display_name": "Python 3",
   "language": "python",
   "name": "python3"
  },
  "language_info": {
   "codemirror_mode": {
    "name": "ipython",
    "version": 3
   },
   "file_extension": ".py",
   "mimetype": "text/x-python",
   "name": "python",
   "nbconvert_exporter": "python",
   "pygments_lexer": "ipython3",
   "version": "3.7.3"
  }
 },
 "nbformat": 4,
 "nbformat_minor": 2
}
