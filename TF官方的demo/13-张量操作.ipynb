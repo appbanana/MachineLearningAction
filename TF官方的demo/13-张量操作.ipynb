{
 "cells": [
  {
   "cell_type": "code",
   "execution_count": 23,
   "metadata": {},
   "outputs": [],
   "source": [
    "import os\n",
    "import time\n",
    "import numpy as np\n",
    "import pandas as pd\n",
    "import tensorflow as tf\n",
    "from tensorflow import keras, feature_column\n",
    "from sklearn import model_selection, preprocessing\n",
    "import matplotlib.pyplot as plt\n",
    "import seaborn as sns\n",
    "import tensorflow_hub as hub\n",
    "import PIL.Image as Image\n",
    "import tensorflow_datasets as tfds\n",
    "\n",
    "from IPython.core.interactiveshell import InteractiveShell\n"
   ]
  },
  {
   "cell_type": "code",
   "execution_count": 5,
   "metadata": {},
   "outputs": [],
   "source": [
    "# 配置项\n",
    "# 这个要放到设置中文之前否则还是小方框\n",
    "plt.style.use(\"seaborn\")\n",
    "\n",
    "# 指定默认字体 用来正常显示中文标签\n",
    "plt.rcParams['font.sans-serif'] = ['SimHei']\n",
    "# 解决保存图像是负号'-'显示为方块的问题\n",
    "plt.rcParams['axes.unicode_minus'] = False\n",
    "\n",
    "# #全部行都能输出\n",
    "InteractiveShell.ast_node_interactivity = \"all\""
   ]
  },
  {
   "cell_type": "code",
   "execution_count": 9,
   "metadata": {},
   "outputs": [
    {
     "data": {
      "text/plain": [
       "<tf.Tensor: id=26, shape=(), dtype=int32, numpy=6>"
      ]
     },
     "execution_count": 9,
     "metadata": {},
     "output_type": "execute_result"
    },
    {
     "data": {
      "text/plain": [
       "<tf.Tensor: id=30, shape=(2,), dtype=int32, numpy=array([3, 6], dtype=int32)>"
      ]
     },
     "execution_count": 9,
     "metadata": {},
     "output_type": "execute_result"
    },
    {
     "data": {
      "text/plain": [
       "<tf.Tensor: id=34, shape=(), dtype=int32, numpy=30>"
      ]
     },
     "execution_count": 9,
     "metadata": {},
     "output_type": "execute_result"
    },
    {
     "data": {
      "text/plain": [
       "<tf.Tensor: id=42, shape=(), dtype=int32, numpy=10>"
      ]
     },
     "execution_count": 9,
     "metadata": {},
     "output_type": "execute_result"
    },
    {
     "data": {
      "text/plain": [
       "<tf.Tensor: id=48, shape=(), dtype=int32, numpy=13>"
      ]
     },
     "execution_count": 9,
     "metadata": {},
     "output_type": "execute_result"
    }
   ],
   "source": [
    "# Tensor 其实类似于numpy scipy库 提供各种数据操作 eg:加,减,乘,除,以及各种线性代数的计算\n",
    "tf.add(2, 4)\n",
    "tf.add([1, 2], [2, 4])\n",
    "tf.multiply(5, 6)\n",
    "tf.reduce_sum([1, 2, 3, 4])\n",
    "tf.square(2) + tf.square(3)"
   ]
  },
  {
   "cell_type": "code",
   "execution_count": 13,
   "metadata": {},
   "outputs": [
    {
     "data": {
      "text/plain": [
       "<tf.Tensor: id=58, shape=(1, 2), dtype=int32, numpy=array([[12, 15]], dtype=int32)>"
      ]
     },
     "execution_count": 13,
     "metadata": {},
     "output_type": "execute_result"
    }
   ],
   "source": [
    "# 1 x 1的矩阵乘以 1 x 2的矩阵\n",
    "tf.matmul([[3]], [[4, 5]])"
   ]
  },
  {
   "cell_type": "code",
   "execution_count": 18,
   "metadata": {},
   "outputs": [
    {
     "data": {
      "text/plain": [
       "array([[1., 1., 1.],\n",
       "       [1., 1., 1.],\n",
       "       [1., 1., 1.]])"
      ]
     },
     "execution_count": 18,
     "metadata": {},
     "output_type": "execute_result"
    },
    {
     "data": {
      "text/plain": [
       "<tf.Tensor: id=73, shape=(3, 3), dtype=float64, numpy=\n",
       "array([[44., 44., 44.],\n",
       "       [44., 44., 44.],\n",
       "       [44., 44., 44.]])>"
      ]
     },
     "execution_count": 18,
     "metadata": {},
     "output_type": "execute_result"
    },
    {
     "data": {
      "text/plain": [
       "array([[54., 54., 54.],\n",
       "       [54., 54., 54.],\n",
       "       [54., 54., 54.]])"
      ]
     },
     "execution_count": 18,
     "metadata": {},
     "output_type": "execute_result"
    },
    {
     "data": {
      "text/plain": [
       "array([[44., 44., 44.],\n",
       "       [44., 44., 44.],\n",
       "       [44., 44., 44.]])"
      ]
     },
     "execution_count": 18,
     "metadata": {},
     "output_type": "execute_result"
    }
   ],
   "source": [
    "# Tensor和NumPy中的ndarray之间的相互转换\n",
    "ndarray = np.ones((3, 3))\n",
    "ndarray\n",
    "\n",
    "# tf.Tensor会自动转换\n",
    "tensor = tf.multiply(ndarray, 44)\n",
    "tensor\n",
    "\n",
    "# numpy内部也会自动转换\n",
    "np.add(tensor, 10)\n",
    "\n",
    "# 显示转换\n",
    "tensor.numpy()"
   ]
  },
  {
   "cell_type": "code",
   "execution_count": 21,
   "metadata": {},
   "outputs": [
    {
     "data": {
      "text/plain": [
       "<tf.Tensor: id=98, shape=(3, 3), dtype=float32, numpy=\n",
       "array([[0.4164703 , 0.3663733 , 0.08413434],\n",
       "       [0.36332703, 0.73588   , 0.44184303],\n",
       "       [0.6715127 , 0.09204984, 0.526211  ]], dtype=float32)>"
      ]
     },
     "execution_count": 21,
     "metadata": {},
     "output_type": "execute_result"
    },
    {
     "data": {
      "text/plain": [
       "False"
      ]
     },
     "execution_count": 21,
     "metadata": {},
     "output_type": "execute_result"
    },
    {
     "data": {
      "text/plain": [
       "False"
      ]
     },
     "execution_count": 21,
     "metadata": {},
     "output_type": "execute_result"
    }
   ],
   "source": [
    "x = tf.random.uniform([3, 3])\n",
    "x\n",
    "# 因为我安转的是CPU版的 所以不支持\n",
    "tf.test.is_gpu_available()\n",
    "x.device.endswith('GPU:0')"
   ]
  },
  {
   "cell_type": "code",
   "execution_count": 22,
   "metadata": {},
   "outputs": [
    {
     "data": {
      "text/plain": [
       "'/job:localhost/replica:0/task:0/device:CPU:0'"
      ]
     },
     "execution_count": 22,
     "metadata": {},
     "output_type": "execute_result"
    }
   ],
   "source": [
    "x.device"
   ]
  },
  {
   "cell_type": "code",
   "execution_count": 26,
   "metadata": {},
   "outputs": [
    {
     "name": "stdout",
     "output_type": "stream",
     "text": [
      "On CPU:\n",
      "10 loops: 205.46ms\n"
     ]
    }
   ],
   "source": [
    "# 如我特殊指定, tf会自动决定由哪个设备执行哪个操作, 如想指定,就需要tf.device的上下文管理器\n",
    "def time_matmul(x):\n",
    "  start = time.time()\n",
    "  for loop in range(10):\n",
    "    tf.matmul(x, x)\n",
    "\n",
    "  result = time.time()-start\n",
    "\n",
    "  print(\"10 loops: {:0.2f}ms\".format(1000*result))\n",
    "\n",
    "# 强制在cpu上执行\n",
    "print(\"On CPU:\")\n",
    "with tf.device('CPU:0'):\n",
    "    x = tf.random.uniform([1000, 1000])\n",
    "    assert x.device.endswith(\"CPU:0\")\n",
    "    time_matmul(x)\n",
    "\n",
    "\n",
    "# 因为电脑不支持 就没办法演示了\n",
    "if tf.test.is_gpu_available():\n",
    "  print(\"On GPU:\")\n",
    "  with tf.device(\"GPU:0\"): # Or GPU:1 for the 2nd GPU, GPU:2 for the 3rd etc.\n",
    "    x = tf.random.uniform([1000, 1000])\n",
    "    assert x.device.endswith(\"GPU:0\")\n",
    "    time_matmul(x)"
   ]
  },
  {
   "cell_type": "code",
   "execution_count": 39,
   "metadata": {},
   "outputs": [
    {
     "data": {
      "text/plain": [
       "<TensorDataset shapes: (6,), types: tf.int32>"
      ]
     },
     "execution_count": 39,
     "metadata": {},
     "output_type": "execute_result"
    },
    {
     "data": {
      "text/plain": [
       "30"
      ]
     },
     "execution_count": 39,
     "metadata": {},
     "output_type": "execute_result"
    },
    {
     "data": {
      "text/plain": [
       "<TextLineDatasetV2 shapes: (), types: tf.string>"
      ]
     },
     "execution_count": 39,
     "metadata": {},
     "output_type": "execute_result"
    },
    {
     "data": {
      "text/plain": [
       "[<tf.Tensor: id=483, shape=(), dtype=string, numpy=b''>,\n",
       " <tf.Tensor: id=484, shape=(), dtype=string, numpy=b'  Line 1'>,\n",
       " <tf.Tensor: id=485, shape=(), dtype=string, numpy=b'  Line 2'>,\n",
       " <tf.Tensor: id=486, shape=(), dtype=string, numpy=b'  Line 3'>,\n",
       " <tf.Tensor: id=487, shape=(), dtype=string, numpy=b'  '>]"
      ]
     },
     "execution_count": 39,
     "metadata": {},
     "output_type": "execute_result"
    },
    {
     "data": {
      "text/plain": [
       "'/var/folders/mk/dvh8rm551972h0f6l5dl5y680000gn/T/tmpbf8aub4a'"
      ]
     },
     "execution_count": 39,
     "metadata": {},
     "output_type": "execute_result"
    }
   ],
   "source": [
    "# 使用 tf.data.Dataset操作\n",
    "ds_tensors = tf.data.Dataset.from_tensors([1, 2, 3, 4, 5, 6])\n",
    "ds_tensors\n",
    "\n",
    "# TextLineDataset 创建Dataset\n",
    "import tempfile\n",
    "\n",
    "_, filename = tempfile.mkstemp()\n",
    "with open(filename, 'w') as f:\n",
    "  f.write(\"\"\"\n",
    "  Line 1\n",
    "  Line 2\n",
    "  Line 3\n",
    "  \"\"\")\n",
    "\n",
    "ds_file = tf.data.TextLineDataset(filename)\n",
    "ds_file\n",
    "[*ds_file]\n",
    "filename"
   ]
  },
  {
   "cell_type": "code",
   "execution_count": 38,
   "metadata": {},
   "outputs": [
    {
     "data": {
      "text/plain": [
       "[<tf.Tensor: id=398, shape=(6,), dtype=int32, numpy=array([1, 2, 3, 4, 5, 6], dtype=int32)>]"
      ]
     },
     "execution_count": 38,
     "metadata": {},
     "output_type": "execute_result"
    },
    {
     "data": {
      "text/plain": [
       "[<tf.Tensor: id=411, shape=(6,), dtype=int32, numpy=array([ 1,  4,  9, 16, 25, 36], dtype=int32)>]"
      ]
     },
     "execution_count": 38,
     "metadata": {},
     "output_type": "execute_result"
    },
    {
     "data": {
      "text/plain": [
       "[<tf.Tensor: id=428, shape=(6,), dtype=int32, numpy=array([ 1,  4,  9, 16, 25, 36], dtype=int32)>]"
      ]
     },
     "execution_count": 38,
     "metadata": {},
     "output_type": "execute_result"
    },
    {
     "data": {
      "text/plain": [
       "[<tf.Tensor: id=449, shape=(1, 6), dtype=int32, numpy=array([[ 1,  4,  9, 16, 25, 36]], dtype=int32)>]"
      ]
     },
     "execution_count": 38,
     "metadata": {},
     "output_type": "execute_result"
    },
    {
     "data": {
      "text/plain": [
       "[<tf.Tensor: id=460, shape=(2, 2), dtype=string, numpy=\n",
       " array([[b'', b'  Line 1'],\n",
       "        [b'  Line 2', b'  Line 3']], dtype=object)>,\n",
       " <tf.Tensor: id=461, shape=(1, 1), dtype=string, numpy=array([[b'  ']], dtype=object)>]"
      ]
     },
     "execution_count": 38,
     "metadata": {},
     "output_type": "execute_result"
    }
   ],
   "source": [
    "#  map, batch, shuffle 操作\n",
    "[*ds_tensors]\n",
    "tran_tensors = ds_tensors.map(tf.square)\n",
    "[*tran_tensors]\n",
    "\n",
    "tran_tensors = ds_tensors.map(tf.square).shuffle(2)\n",
    "[*tran_tensors]\n",
    "\n",
    "tran_tensors = ds_tensors.map(tf.square).shuffle(2).batch(2)\n",
    "[*tran_tensors]\n",
    "\n",
    "ds_file = ds_file.batch(2)\n",
    "[*ds_file]"
   ]
  },
  {
   "cell_type": "code",
   "execution_count": 40,
   "metadata": {},
   "outputs": [
    {
     "name": "stdout",
     "output_type": "stream",
     "text": [
      "tf.Tensor([1 2 3 4 5 6], shape=(6,), dtype=int32)\n"
     ]
    }
   ],
   "source": [
    "# tf.data.Dataset迭代操作\n",
    "for x in ds_tensors:\n",
    "    print(x)"
   ]
  },
  {
   "cell_type": "code",
   "execution_count": null,
   "metadata": {},
   "outputs": [],
   "source": []
  }
 ],
 "metadata": {
  "kernelspec": {
   "display_name": "Python 3",
   "language": "python",
   "name": "python3"
  },
  "language_info": {
   "codemirror_mode": {
    "name": "ipython",
    "version": 3
   },
   "file_extension": ".py",
   "mimetype": "text/x-python",
   "name": "python",
   "nbconvert_exporter": "python",
   "pygments_lexer": "ipython3",
   "version": "3.7.3"
  }
 },
 "nbformat": 4,
 "nbformat_minor": 2
}
