{
 "cells": [
  {
   "cell_type": "code",
   "execution_count": 1,
   "metadata": {},
   "outputs": [],
   "source": [
    "import os\n",
    "import numpy as np\n",
    "import pandas as pd\n",
    "import tensorflow as tf\n",
    "from tensorflow import keras, feature_column\n",
    "from sklearn import model_selection, preprocessing\n",
    "import matplotlib.pyplot as plt\n",
    "import seaborn as sns\n",
    "import tensorflow_hub as hub\n",
    "import PIL.Image as Image\n",
    "import tensorflow_datasets as tfds\n",
    "\n",
    "# from IPython.core.interactiveshell import InteractiveShell\n"
   ]
  },
  {
   "cell_type": "code",
   "execution_count": 2,
   "metadata": {},
   "outputs": [],
   "source": [
    "# 配置项\n",
    "# 这个要放到设置中文之前否则还是小方框\n",
    "plt.style.use(\"seaborn\")\n",
    "\n",
    "# 指定默认字体 用来正常显示中文标签\n",
    "plt.rcParams['font.sans-serif'] = ['SimHei']\n",
    "# 解决保存图像是负号'-'显示为方块的问题\n",
    "plt.rcParams['axes.unicode_minus'] = False\n",
    "\n",
    "# #全部行都能输出\n",
    "# InteractiveShell.ast_node_interactivity = \"all\""
   ]
  },
  {
   "cell_type": "code",
   "execution_count": 3,
   "metadata": {},
   "outputs": [],
   "source": [
    "imdb = keras.datasets.imdb\n",
    "\n",
    "(train_data, train_labels), (test_data, test_labels) = imdb.load_data(num_words=10000)"
   ]
  },
  {
   "cell_type": "code",
   "execution_count": 4,
   "metadata": {},
   "outputs": [
    {
     "data": {
      "text/plain": [
       "(25000,)"
      ]
     },
     "execution_count": 4,
     "metadata": {},
     "output_type": "execute_result"
    }
   ],
   "source": [
    "train_data.shape"
   ]
  },
  {
   "cell_type": "code",
   "execution_count": 5,
   "metadata": {},
   "outputs": [],
   "source": [
    "# 一个映射单词到整数索引的词典\n",
    "word_index = imdb.get_word_index()\n",
    "\n",
    "# 保留第一个索引\n",
    "word_index = {k:(v+3) for k,v in word_index.items()}\n",
    "word_index[\"<PAD>\"] = 0\n",
    "word_index[\"<START>\"] = 1\n",
    "word_index[\"<UNK>\"] = 2  # unknown\n",
    "word_index[\"<UNUSED>\"] = 3\n",
    "\n",
    "reverse_word_index = dict([(value, key) for (key, value) in word_index.items()])\n",
    "\n",
    "def decode_review(text):\n",
    "    return ' '.join([reverse_word_index.get(i, '?') for i in text])"
   ]
  },
  {
   "cell_type": "code",
   "execution_count": 6,
   "metadata": {},
   "outputs": [],
   "source": [
    "# 由于神经网络要求输入必须一样 现在通过pad_sequences这个方法使每条评论长度为256 不够的话在后面填充<PAD>\n",
    "train_data = keras.preprocessing.sequence.pad_sequences(train_data, \n",
    "                                                        value=word_index[\"<PAD>\"], \n",
    "                                                        padding='post', \n",
    "                                                        maxlen=256)\n",
    "test_data = keras.preprocessing.sequence.pad_sequences(test_data, \n",
    "                                                       value=word_index[\"<PAD>\"], \n",
    "                                                       padding='post', \n",
    "                                                       maxlen=256)"
   ]
  },
  {
   "cell_type": "code",
   "execution_count": 7,
   "metadata": {},
   "outputs": [
    {
     "name": "stdout",
     "output_type": "stream",
     "text": [
      "Model: \"sequential\"\n",
      "_________________________________________________________________\n",
      "Layer (type)                 Output Shape              Param #   \n",
      "=================================================================\n",
      "embedding (Embedding)        (None, None, 16)          160000    \n",
      "_________________________________________________________________\n",
      "global_average_pooling1d (Gl (None, 16)                0         \n",
      "_________________________________________________________________\n",
      "dense (Dense)                (None, 16)                272       \n",
      "_________________________________________________________________\n",
      "dense_1 (Dense)              (None, 1)                 17        \n",
      "=================================================================\n",
      "Total params: 160,289\n",
      "Trainable params: 160,289\n",
      "Non-trainable params: 0\n",
      "_________________________________________________________________\n"
     ]
    }
   ],
   "source": [
    "# 构建模型\n",
    "vocab_size = 10000\n",
    "\n",
    "model = keras.Sequential([\n",
    "    keras.layers.Embedding(vocab_size, 16),\n",
    "    keras.layers.GlobalAveragePooling1D(),\n",
    "    keras.layers.Dense(16, activation='relu'),\n",
    "    keras.layers.Dense(1, activation='sigmoid')\n",
    "])\n",
    "model.summary()"
   ]
  },
  {
   "cell_type": "code",
   "execution_count": null,
   "metadata": {},
   "outputs": [
    {
     "name": "stderr",
     "output_type": "stream",
     "text": [
      "WARNING: Logging before flag parsing goes to stderr.\n",
      "W0821 17:28:42.743319 4452369856 deprecation.py:323] From /anaconda3/lib/python3.7/site-packages/tensorflow/python/ops/math_grad.py:1250: add_dispatch_support.<locals>.wrapper (from tensorflow.python.ops.array_ops) is deprecated and will be removed in a future version.\n",
      "Instructions for updating:\n",
      "Use tf.where in 2.0, which has the same broadcast rule as np.where\n"
     ]
    },
    {
     "name": "stdout",
     "output_type": "stream",
     "text": [
      "Train on 15000 samples, validate on 10000 samples\n",
      "Epoch 1/40\n",
      "15000/15000 [==============================] - 1s 66us/sample - loss: 0.6919 - accuracy: 0.5491 - val_loss: 0.6901 - val_accuracy: 0.5719\n",
      "Epoch 2/40\n",
      "15000/15000 [==============================] - 1s 40us/sample - loss: 0.6866 - accuracy: 0.6506 - val_loss: 0.6827 - val_accuracy: 0.6928\n",
      "Epoch 3/40\n",
      "15000/15000 [==============================] - 1s 35us/sample - loss: 0.6747 - accuracy: 0.7301 - val_loss: 0.6681 - val_accuracy: 0.7438\n",
      "Epoch 4/40\n",
      "15000/15000 [==============================] - 1s 36us/sample - loss: 0.6546 - accuracy: 0.7493 - val_loss: 0.6452 - val_accuracy: 0.7564\n",
      "Epoch 5/40\n",
      "15000/15000 [==============================] - 1s 37us/sample - loss: 0.6248 - accuracy: 0.7815 - val_loss: 0.6138 - val_accuracy: 0.7752\n",
      "Epoch 6/40\n",
      "15000/15000 [==============================] - 1s 38us/sample - loss: 0.5860 - accuracy: 0.8039 - val_loss: 0.5750 - val_accuracy: 0.7928\n",
      "Epoch 7/40\n",
      "15000/15000 [==============================] - 1s 46us/sample - loss: 0.5400 - accuracy: 0.8181 - val_loss: 0.5314 - val_accuracy: 0.8113\n",
      "Epoch 8/40\n",
      "15000/15000 [==============================] - 1s 50us/sample - loss: 0.4929 - accuracy: 0.8376 - val_loss: 0.4902 - val_accuracy: 0.8251\n",
      "Epoch 9/40\n",
      "15000/15000 [==============================] - 1s 44us/sample - loss: 0.4483 - accuracy: 0.8535 - val_loss: 0.4523 - val_accuracy: 0.8381\n",
      "Epoch 10/40\n",
      "15000/15000 [==============================] - 1s 47us/sample - loss: 0.4085 - accuracy: 0.8675 - val_loss: 0.4205 - val_accuracy: 0.8457\n",
      "Epoch 11/40\n",
      "15000/15000 [==============================] - 1s 45us/sample - loss: 0.3745 - accuracy: 0.8759 - val_loss: 0.3941 - val_accuracy: 0.8544\n",
      "Epoch 12/40\n",
      "15000/15000 [==============================] - 1s 36us/sample - loss: 0.3459 - accuracy: 0.8861 - val_loss: 0.3737 - val_accuracy: 0.8582\n",
      "Epoch 13/40\n",
      "15000/15000 [==============================] - 1s 39us/sample - loss: 0.3221 - accuracy: 0.8912 - val_loss: 0.3551 - val_accuracy: 0.8648\n",
      "Epoch 14/40\n",
      "15000/15000 [==============================] - 1s 38us/sample - loss: 0.3005 - accuracy: 0.8965 - val_loss: 0.3415 - val_accuracy: 0.8693\n",
      "Epoch 15/40\n",
      "15000/15000 [==============================] - 1s 36us/sample - loss: 0.2825 - accuracy: 0.9025 - val_loss: 0.3302 - val_accuracy: 0.8717\n",
      "Epoch 16/40\n",
      "15000/15000 [==============================] - 0s 33us/sample - loss: 0.2664 - accuracy: 0.9069 - val_loss: 0.3210 - val_accuracy: 0.8739\n",
      "Epoch 17/40\n",
      "15000/15000 [==============================] - 1s 39us/sample - loss: 0.2517 - accuracy: 0.9119 - val_loss: 0.3134 - val_accuracy: 0.8760\n",
      "Epoch 18/40\n",
      "15000/15000 [==============================] - 1s 35us/sample - loss: 0.2387 - accuracy: 0.9167 - val_loss: 0.3068 - val_accuracy: 0.8792\n",
      "Epoch 19/40\n",
      "15000/15000 [==============================] - 1s 34us/sample - loss: 0.2270 - accuracy: 0.9200 - val_loss: 0.3014 - val_accuracy: 0.8803\n",
      "Epoch 20/40\n",
      "15000/15000 [==============================] - 1s 35us/sample - loss: 0.2166 - accuracy: 0.9235 - val_loss: 0.2977 - val_accuracy: 0.8812\n",
      "Epoch 21/40\n",
      "15000/15000 [==============================] - 1s 36us/sample - loss: 0.2059 - accuracy: 0.9295 - val_loss: 0.2945 - val_accuracy: 0.8825\n",
      "Epoch 22/40\n",
      "15000/15000 [==============================] - 1s 34us/sample - loss: 0.1970 - accuracy: 0.9316 - val_loss: 0.2916 - val_accuracy: 0.8832\n",
      "Epoch 23/40\n",
      "15000/15000 [==============================] - 1s 37us/sample - loss: 0.1880 - accuracy: 0.9357 - val_loss: 0.2904 - val_accuracy: 0.8827\n",
      "Epoch 24/40\n",
      "15000/15000 [==============================] - 1s 49us/sample - loss: 0.1802 - accuracy: 0.9399 - val_loss: 0.2886 - val_accuracy: 0.8847\n",
      "Epoch 25/40\n",
      "15000/15000 [==============================] - 1s 51us/sample - loss: 0.1723 - accuracy: 0.9435 - val_loss: 0.2870 - val_accuracy: 0.8841\n",
      "Epoch 26/40\n",
      "15000/15000 [==============================] - 1s 43us/sample - loss: 0.1652 - accuracy: 0.9467 - val_loss: 0.2875 - val_accuracy: 0.8828\n",
      "Epoch 27/40\n",
      "15000/15000 [==============================] - 1s 49us/sample - loss: 0.1585 - accuracy: 0.9491 - val_loss: 0.2868 - val_accuracy: 0.8837\n",
      "Epoch 28/40\n",
      "15000/15000 [==============================] - 1s 43us/sample - loss: 0.1521 - accuracy: 0.9525 - val_loss: 0.2873 - val_accuracy: 0.8854\n",
      "Epoch 29/40\n",
      "15000/15000 [==============================] - 1s 46us/sample - loss: 0.1465 - accuracy: 0.9552 - val_loss: 0.2887 - val_accuracy: 0.8838\n",
      "Epoch 30/40\n",
      "15000/15000 [==============================] - 1s 41us/sample - loss: 0.1406 - accuracy: 0.9565 - val_loss: 0.2880 - val_accuracy: 0.8862\n",
      "Epoch 31/40\n",
      "15000/15000 [==============================] - 1s 44us/sample - loss: 0.1347 - accuracy: 0.9598 - val_loss: 0.2891 - val_accuracy: 0.8865\n",
      "Epoch 32/40\n",
      " 6656/15000 [============>.................] - ETA: 0s - loss: 0.1332 - accuracy: 0.9599"
     ]
    }
   ],
   "source": [
    "# 编译\n",
    "model.compile(optimizer='adam', \n",
    "              loss='binary_crossentropy',\n",
    "              metrics=['accuracy'])\n",
    "# 取前10000个作为验证集\n",
    "x_val = train_data[:10000]\n",
    "partial_x_train = train_data[10000:]\n",
    "\n",
    "y_val = train_labels[:10000]\n",
    "partial_y_train = train_labels[10000:]\n",
    "\n",
    "history = model.fit(partial_x_train, \n",
    "          partial_y_train, \n",
    "          validation_data=(x_val, y_val), \n",
    "          epochs=40, \n",
    "          batch_size=512, \n",
    "          verbose=1)"
   ]
  },
  {
   "cell_type": "code",
   "execution_count": 10,
   "metadata": {},
   "outputs": [
    {
     "data": {
      "image/png": "[encoded data removed]",
      "text/plain": [
       "<Figure size 576x396 with 1 Axes>"
      ]
     },
     "metadata": {},
     "output_type": "display_data"
    }
   ],
   "source": [
    "history_dict = history.history\n",
    "\n",
    "acc = history_dict['accuracy']\n",
    "val_acc = history_dict['val_accuracy']\n",
    "loss = history_dict['loss']\n",
    "val_loss = history_dict['val_loss']\n",
    "\n",
    "epochs = range(1, len(acc) + 1)\n",
    "\n",
    "# “bo”代表 \"蓝点\"\n",
    "plt.plot(epochs, loss, 'bo', label='Training loss')\n",
    "# b代表“蓝色实线”\n",
    "plt.plot(epochs, val_loss, 'b', label='Validation loss')\n",
    "plt.title('Training and validation loss')\n",
    "plt.xlabel('Epochs')\n",
    "plt.ylabel('Loss')\n",
    "plt.legend()\n",
    "\n",
    "plt.show()"
   ]
  },
  {
   "cell_type": "code",
   "execution_count": 11,
   "metadata": {},
   "outputs": [
    {
     "data": {
      "image/png": "[encoded data removed]",
      "text/plain": [
       "<Figure size 576x396 with 1 Axes>"
      ]
     },
     "metadata": {},
     "output_type": "display_data"
    }
   ],
   "source": [
    "plt.clf()   # 清除数字\n",
    "\n",
    "plt.plot(epochs, acc, 'bo', label='Training acc')\n",
    "plt.plot(epochs, val_acc, 'b', label='Validation acc')\n",
    "plt.title('Training and validation accuracy')\n",
    "plt.xlabel('Epochs')\n",
    "plt.ylabel('Accuracy')\n",
    "plt.legend()\n",
    "\n",
    "plt.show()"
   ]
  },
  {
   "cell_type": "code",
   "execution_count": null,
   "metadata": {},
   "outputs": [],
   "source": []
  }
 ],
 "metadata": {
  "kernelspec": {
   "display_name": "Python 3",
   "language": "python",
   "name": "python3"
  },
  "language_info": {
   "codemirror_mode": {
    "name": "ipython",
    "version": 3
   },
   "file_extension": ".py",
   "mimetype": "text/x-python",
   "name": "python",
   "nbconvert_exporter": "python",
   "pygments_lexer": "ipython3",
   "version": "3.7.3"
  }
 },
 "nbformat": 4,
 "nbformat_minor": 2
}
