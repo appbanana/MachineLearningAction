{
 "cells": [
  {
   "cell_type": "code",
   "execution_count": 32,
   "metadata": {},
   "outputs": [],
   "source": [
    "import time\n",
    "from datetime import datetime\n",
    "from datetime import datetime\n",
    "import numpy as np\n",
    "import pandas as pd\n",
    "from sklearn import (model_selection, ensemble, decomposition, \n",
    "                     svm, feature_selection, metrics)\n",
    "from matplotlib import pyplot as plt\n",
    "import scikitplot as skplt # 绘画roc曲线"
   ]
  },
  {
   "cell_type": "code",
   "execution_count": 2,
   "metadata": {},
   "outputs": [
    {
     "data": {
      "text/html": [
       "<div>\n",
       "<style scoped>\n",
       "    .dataframe tbody tr th:only-of-type {\n",
       "        vertical-align: middle;\n",
       "    }\n",
       "\n",
       "    .dataframe tbody tr th {\n",
       "        vertical-align: top;\n",
       "    }\n",
       "\n",
       "    .dataframe thead th {\n",
       "        text-align: right;\n",
       "    }\n",
       "</style>\n",
       "<table border=\"1\" class=\"dataframe\">\n",
       "  <thead>\n",
       "    <tr style=\"text-align: right;\">\n",
       "      <th></th>\n",
       "      <th>ID_code</th>\n",
       "      <th>target</th>\n",
       "      <th>var_0</th>\n",
       "      <th>var_1</th>\n",
       "      <th>var_2</th>\n",
       "      <th>var_3</th>\n",
       "      <th>var_4</th>\n",
       "      <th>var_5</th>\n",
       "      <th>var_6</th>\n",
       "      <th>var_7</th>\n",
       "      <th>...</th>\n",
       "      <th>var_190</th>\n",
       "      <th>var_191</th>\n",
       "      <th>var_192</th>\n",
       "      <th>var_193</th>\n",
       "      <th>var_194</th>\n",
       "      <th>var_195</th>\n",
       "      <th>var_196</th>\n",
       "      <th>var_197</th>\n",
       "      <th>var_198</th>\n",
       "      <th>var_199</th>\n",
       "    </tr>\n",
       "  </thead>\n",
       "  <tbody>\n",
       "    <tr>\n",
       "      <th>0</th>\n",
       "      <td>train_0</td>\n",
       "      <td>0</td>\n",
       "      <td>8.9255</td>\n",
       "      <td>-6.7863</td>\n",
       "      <td>11.9081</td>\n",
       "      <td>5.0930</td>\n",
       "      <td>11.4607</td>\n",
       "      <td>-9.2834</td>\n",
       "      <td>5.1187</td>\n",
       "      <td>18.6266</td>\n",
       "      <td>...</td>\n",
       "      <td>4.4354</td>\n",
       "      <td>3.9642</td>\n",
       "      <td>3.1364</td>\n",
       "      <td>1.6910</td>\n",
       "      <td>18.5227</td>\n",
       "      <td>-2.3978</td>\n",
       "      <td>7.8784</td>\n",
       "      <td>8.5635</td>\n",
       "      <td>12.7803</td>\n",
       "      <td>-1.0914</td>\n",
       "    </tr>\n",
       "    <tr>\n",
       "      <th>1</th>\n",
       "      <td>train_1</td>\n",
       "      <td>0</td>\n",
       "      <td>11.5006</td>\n",
       "      <td>-4.1473</td>\n",
       "      <td>13.8588</td>\n",
       "      <td>5.3890</td>\n",
       "      <td>12.3622</td>\n",
       "      <td>7.0433</td>\n",
       "      <td>5.6208</td>\n",
       "      <td>16.5338</td>\n",
       "      <td>...</td>\n",
       "      <td>7.6421</td>\n",
       "      <td>7.7214</td>\n",
       "      <td>2.5837</td>\n",
       "      <td>10.9516</td>\n",
       "      <td>15.4305</td>\n",
       "      <td>2.0339</td>\n",
       "      <td>8.1267</td>\n",
       "      <td>8.7889</td>\n",
       "      <td>18.3560</td>\n",
       "      <td>1.9518</td>\n",
       "    </tr>\n",
       "    <tr>\n",
       "      <th>2</th>\n",
       "      <td>train_2</td>\n",
       "      <td>0</td>\n",
       "      <td>8.6093</td>\n",
       "      <td>-2.7457</td>\n",
       "      <td>12.0805</td>\n",
       "      <td>7.8928</td>\n",
       "      <td>10.5825</td>\n",
       "      <td>-9.0837</td>\n",
       "      <td>6.9427</td>\n",
       "      <td>14.6155</td>\n",
       "      <td>...</td>\n",
       "      <td>2.9057</td>\n",
       "      <td>9.7905</td>\n",
       "      <td>1.6704</td>\n",
       "      <td>1.6858</td>\n",
       "      <td>21.6042</td>\n",
       "      <td>3.1417</td>\n",
       "      <td>-6.5213</td>\n",
       "      <td>8.2675</td>\n",
       "      <td>14.7222</td>\n",
       "      <td>0.3965</td>\n",
       "    </tr>\n",
       "    <tr>\n",
       "      <th>3</th>\n",
       "      <td>train_3</td>\n",
       "      <td>0</td>\n",
       "      <td>11.0604</td>\n",
       "      <td>-2.1518</td>\n",
       "      <td>8.9522</td>\n",
       "      <td>7.1957</td>\n",
       "      <td>12.5846</td>\n",
       "      <td>-1.8361</td>\n",
       "      <td>5.8428</td>\n",
       "      <td>14.9250</td>\n",
       "      <td>...</td>\n",
       "      <td>4.4666</td>\n",
       "      <td>4.7433</td>\n",
       "      <td>0.7178</td>\n",
       "      <td>1.4214</td>\n",
       "      <td>23.0347</td>\n",
       "      <td>-1.2706</td>\n",
       "      <td>-2.9275</td>\n",
       "      <td>10.2922</td>\n",
       "      <td>17.9697</td>\n",
       "      <td>-8.9996</td>\n",
       "    </tr>\n",
       "    <tr>\n",
       "      <th>4</th>\n",
       "      <td>train_4</td>\n",
       "      <td>0</td>\n",
       "      <td>9.8369</td>\n",
       "      <td>-1.4834</td>\n",
       "      <td>12.8746</td>\n",
       "      <td>6.6375</td>\n",
       "      <td>12.2772</td>\n",
       "      <td>2.4486</td>\n",
       "      <td>5.9405</td>\n",
       "      <td>19.2514</td>\n",
       "      <td>...</td>\n",
       "      <td>-1.4905</td>\n",
       "      <td>9.5214</td>\n",
       "      <td>-0.1508</td>\n",
       "      <td>9.1942</td>\n",
       "      <td>13.2876</td>\n",
       "      <td>-1.5121</td>\n",
       "      <td>3.9267</td>\n",
       "      <td>9.5031</td>\n",
       "      <td>17.9974</td>\n",
       "      <td>-8.8104</td>\n",
       "    </tr>\n",
       "  </tbody>\n",
       "</table>\n",
       "<p>5 rows × 202 columns</p>\n",
       "</div>"
      ],
      "text/plain": [
       "   ID_code  target    var_0   var_1    var_2   var_3    var_4   var_5   var_6  \\\n",
       "0  train_0       0   8.9255 -6.7863  11.9081  5.0930  11.4607 -9.2834  5.1187   \n",
       "1  train_1       0  11.5006 -4.1473  13.8588  5.3890  12.3622  7.0433  5.6208   \n",
       "2  train_2       0   8.6093 -2.7457  12.0805  7.8928  10.5825 -9.0837  6.9427   \n",
       "3  train_3       0  11.0604 -2.1518   8.9522  7.1957  12.5846 -1.8361  5.8428   \n",
       "4  train_4       0   9.8369 -1.4834  12.8746  6.6375  12.2772  2.4486  5.9405   \n",
       "\n",
       "     var_7   ...     var_190  var_191  var_192  var_193  var_194  var_195  \\\n",
       "0  18.6266   ...      4.4354   3.9642   3.1364   1.6910  18.5227  -2.3978   \n",
       "1  16.5338   ...      7.6421   7.7214   2.5837  10.9516  15.4305   2.0339   \n",
       "2  14.6155   ...      2.9057   9.7905   1.6704   1.6858  21.6042   3.1417   \n",
       "3  14.9250   ...      4.4666   4.7433   0.7178   1.4214  23.0347  -1.2706   \n",
       "4  19.2514   ...     -1.4905   9.5214  -0.1508   9.1942  13.2876  -1.5121   \n",
       "\n",
       "   var_196  var_197  var_198  var_199  \n",
       "0   7.8784   8.5635  12.7803  -1.0914  \n",
       "1   8.1267   8.7889  18.3560   1.9518  \n",
       "2  -6.5213   8.2675  14.7222   0.3965  \n",
       "3  -2.9275  10.2922  17.9697  -8.9996  \n",
       "4   3.9267   9.5031  17.9974  -8.8104  \n",
       "\n",
       "[5 rows x 202 columns]"
      ]
     },
     "execution_count": 2,
     "metadata": {},
     "output_type": "execute_result"
    }
   ],
   "source": [
    "file_path = '/Users/JQC/Desktop/Santander/train.csv'\n",
    "data = pd.read_csv(file_path)\n",
    "data.head()"
   ]
  },
  {
   "cell_type": "code",
   "execution_count": 3,
   "metadata": {},
   "outputs": [
    {
     "data": {
      "text/plain": [
       "(200000, 202)"
      ]
     },
     "execution_count": 3,
     "metadata": {},
     "output_type": "execute_result"
    }
   ],
   "source": [
    "data.shape"
   ]
  },
  {
   "cell_type": "code",
   "execution_count": 4,
   "metadata": {},
   "outputs": [
    {
     "data": {
      "text/plain": [
       "8.951238929246692"
      ]
     },
     "execution_count": 4,
     "metadata": {},
     "output_type": "execute_result"
    }
   ],
   "source": [
    "data[data['target'] == 0].shape[0] / data[data['target'] == 1].shape[0]"
   ]
  },
  {
   "cell_type": "code",
   "execution_count": 5,
   "metadata": {},
   "outputs": [],
   "source": [
    "X = data.iloc[:, 2:]\n",
    "y = data['target']"
   ]
  },
  {
   "cell_type": "code",
   "execution_count": 6,
   "metadata": {},
   "outputs": [
    {
     "name": "stdout",
     "output_type": "stream",
     "text": [
      "0.997915\n"
     ]
    },
    {
     "data": {
      "text/plain": [
       "'02:08'"
      ]
     },
     "execution_count": 6,
     "metadata": {},
     "output_type": "execute_result"
    }
   ],
   "source": [
    "# 先使用随机森林进行 看看大致效果 并查看各个特征对模型的贡献度\n",
    "start = time.time()\n",
    "\n",
    "clf = ensemble.RandomForestClassifier(n_estimators=30,\n",
    "                                      n_jobs=6,\n",
    "                                      random_state=66,\n",
    "                                     ).fit(X, y)\n",
    "print(clf.score(X, y))\n",
    "datetime.fromtimestamp(time.time() - start).strftime(\"%M:%S\")"
   ]
  },
  {
   "cell_type": "code",
   "execution_count": 7,
   "metadata": {},
   "outputs": [
    {
     "data": {
      "text/plain": [
       "<matplotlib.axes._subplots.AxesSubplot at 0x1a13986898>"
      ]
     },
     "execution_count": 7,
     "metadata": {},
     "output_type": "execute_result"
    },
    {
     "data": {
      "image/png": "[encoded data removed]",
      "text/plain": [
       "<Figure size 432x288 with 1 Axes>"
      ]
     },
     "metadata": {
      "needs_background": "light"
     },
     "output_type": "display_data"
    }
   ],
   "source": [
    "skplt.metrics.plot_roc(y,\n",
    "                        clf.predict_proba(X),\n",
    "                        plot_micro=False,\n",
    "                        plot_macro=False,\n",
    "                      )"
   ]
  },
  {
   "cell_type": "code",
   "execution_count": 8,
   "metadata": {},
   "outputs": [
    {
     "name": "stdout",
     "output_type": "stream",
     "text": [
      "(200,)\n"
     ]
    },
    {
     "data": {
      "text/html": [
       "<div>\n",
       "<style scoped>\n",
       "    .dataframe tbody tr th:only-of-type {\n",
       "        vertical-align: middle;\n",
       "    }\n",
       "\n",
       "    .dataframe tbody tr th {\n",
       "        vertical-align: top;\n",
       "    }\n",
       "\n",
       "    .dataframe thead th {\n",
       "        text-align: right;\n",
       "    }\n",
       "</style>\n",
       "<table border=\"1\" class=\"dataframe\">\n",
       "  <thead>\n",
       "    <tr style=\"text-align: right;\">\n",
       "      <th></th>\n",
       "      <th>0</th>\n",
       "      <th>columns</th>\n",
       "      <th>cumsum</th>\n",
       "    </tr>\n",
       "  </thead>\n",
       "  <tbody>\n",
       "    <tr>\n",
       "      <th>0</th>\n",
       "      <td>0.012463</td>\n",
       "      <td>var_81</td>\n",
       "      <td>0.012463</td>\n",
       "    </tr>\n",
       "    <tr>\n",
       "      <th>1</th>\n",
       "      <td>0.009743</td>\n",
       "      <td>var_139</td>\n",
       "      <td>0.022206</td>\n",
       "    </tr>\n",
       "    <tr>\n",
       "      <th>2</th>\n",
       "      <td>0.009381</td>\n",
       "      <td>var_12</td>\n",
       "      <td>0.031587</td>\n",
       "    </tr>\n",
       "    <tr>\n",
       "      <th>3</th>\n",
       "      <td>0.008850</td>\n",
       "      <td>var_53</td>\n",
       "      <td>0.040436</td>\n",
       "    </tr>\n",
       "    <tr>\n",
       "      <th>4</th>\n",
       "      <td>0.008744</td>\n",
       "      <td>var_26</td>\n",
       "      <td>0.049181</td>\n",
       "    </tr>\n",
       "    <tr>\n",
       "      <th>5</th>\n",
       "      <td>0.008428</td>\n",
       "      <td>var_110</td>\n",
       "      <td>0.057609</td>\n",
       "    </tr>\n",
       "    <tr>\n",
       "      <th>6</th>\n",
       "      <td>0.008386</td>\n",
       "      <td>var_166</td>\n",
       "      <td>0.065995</td>\n",
       "    </tr>\n",
       "    <tr>\n",
       "      <th>7</th>\n",
       "      <td>0.007877</td>\n",
       "      <td>var_146</td>\n",
       "      <td>0.073871</td>\n",
       "    </tr>\n",
       "    <tr>\n",
       "      <th>8</th>\n",
       "      <td>0.007686</td>\n",
       "      <td>var_109</td>\n",
       "      <td>0.081557</td>\n",
       "    </tr>\n",
       "    <tr>\n",
       "      <th>9</th>\n",
       "      <td>0.007667</td>\n",
       "      <td>var_22</td>\n",
       "      <td>0.089224</td>\n",
       "    </tr>\n",
       "    <tr>\n",
       "      <th>10</th>\n",
       "      <td>0.007657</td>\n",
       "      <td>var_174</td>\n",
       "      <td>0.096881</td>\n",
       "    </tr>\n",
       "    <tr>\n",
       "      <th>11</th>\n",
       "      <td>0.007574</td>\n",
       "      <td>var_6</td>\n",
       "      <td>0.104455</td>\n",
       "    </tr>\n",
       "    <tr>\n",
       "      <th>12</th>\n",
       "      <td>0.007368</td>\n",
       "      <td>var_76</td>\n",
       "      <td>0.111823</td>\n",
       "    </tr>\n",
       "    <tr>\n",
       "      <th>13</th>\n",
       "      <td>0.007334</td>\n",
       "      <td>var_80</td>\n",
       "      <td>0.119157</td>\n",
       "    </tr>\n",
       "    <tr>\n",
       "      <th>14</th>\n",
       "      <td>0.007111</td>\n",
       "      <td>var_198</td>\n",
       "      <td>0.126269</td>\n",
       "    </tr>\n",
       "    <tr>\n",
       "      <th>15</th>\n",
       "      <td>0.007080</td>\n",
       "      <td>var_99</td>\n",
       "      <td>0.133348</td>\n",
       "    </tr>\n",
       "    <tr>\n",
       "      <th>16</th>\n",
       "      <td>0.007031</td>\n",
       "      <td>var_179</td>\n",
       "      <td>0.140380</td>\n",
       "    </tr>\n",
       "    <tr>\n",
       "      <th>17</th>\n",
       "      <td>0.007020</td>\n",
       "      <td>var_165</td>\n",
       "      <td>0.147399</td>\n",
       "    </tr>\n",
       "    <tr>\n",
       "      <th>18</th>\n",
       "      <td>0.006999</td>\n",
       "      <td>var_2</td>\n",
       "      <td>0.154398</td>\n",
       "    </tr>\n",
       "    <tr>\n",
       "      <th>19</th>\n",
       "      <td>0.006931</td>\n",
       "      <td>var_133</td>\n",
       "      <td>0.161328</td>\n",
       "    </tr>\n",
       "    <tr>\n",
       "      <th>20</th>\n",
       "      <td>0.006929</td>\n",
       "      <td>var_13</td>\n",
       "      <td>0.168258</td>\n",
       "    </tr>\n",
       "    <tr>\n",
       "      <th>21</th>\n",
       "      <td>0.006915</td>\n",
       "      <td>var_78</td>\n",
       "      <td>0.175173</td>\n",
       "    </tr>\n",
       "    <tr>\n",
       "      <th>22</th>\n",
       "      <td>0.006773</td>\n",
       "      <td>var_148</td>\n",
       "      <td>0.181946</td>\n",
       "    </tr>\n",
       "    <tr>\n",
       "      <th>23</th>\n",
       "      <td>0.006737</td>\n",
       "      <td>var_44</td>\n",
       "      <td>0.188683</td>\n",
       "    </tr>\n",
       "    <tr>\n",
       "      <th>24</th>\n",
       "      <td>0.006684</td>\n",
       "      <td>var_21</td>\n",
       "      <td>0.195367</td>\n",
       "    </tr>\n",
       "    <tr>\n",
       "      <th>25</th>\n",
       "      <td>0.006620</td>\n",
       "      <td>var_94</td>\n",
       "      <td>0.201987</td>\n",
       "    </tr>\n",
       "    <tr>\n",
       "      <th>26</th>\n",
       "      <td>0.006611</td>\n",
       "      <td>var_190</td>\n",
       "      <td>0.208597</td>\n",
       "    </tr>\n",
       "    <tr>\n",
       "      <th>27</th>\n",
       "      <td>0.006567</td>\n",
       "      <td>var_1</td>\n",
       "      <td>0.215164</td>\n",
       "    </tr>\n",
       "    <tr>\n",
       "      <th>28</th>\n",
       "      <td>0.006464</td>\n",
       "      <td>var_164</td>\n",
       "      <td>0.221628</td>\n",
       "    </tr>\n",
       "    <tr>\n",
       "      <th>29</th>\n",
       "      <td>0.006453</td>\n",
       "      <td>var_40</td>\n",
       "      <td>0.228081</td>\n",
       "    </tr>\n",
       "    <tr>\n",
       "      <th>...</th>\n",
       "      <td>...</td>\n",
       "      <td>...</td>\n",
       "      <td>...</td>\n",
       "    </tr>\n",
       "    <tr>\n",
       "      <th>170</th>\n",
       "      <td>0.003931</td>\n",
       "      <td>var_38</td>\n",
       "      <td>0.888780</td>\n",
       "    </tr>\n",
       "    <tr>\n",
       "      <th>171</th>\n",
       "      <td>0.003927</td>\n",
       "      <td>var_187</td>\n",
       "      <td>0.892707</td>\n",
       "    </tr>\n",
       "    <tr>\n",
       "      <th>172</th>\n",
       "      <td>0.003922</td>\n",
       "      <td>var_54</td>\n",
       "      <td>0.896630</td>\n",
       "    </tr>\n",
       "    <tr>\n",
       "      <th>173</th>\n",
       "      <td>0.003917</td>\n",
       "      <td>var_17</td>\n",
       "      <td>0.900547</td>\n",
       "    </tr>\n",
       "    <tr>\n",
       "      <th>174</th>\n",
       "      <td>0.003912</td>\n",
       "      <td>var_98</td>\n",
       "      <td>0.904459</td>\n",
       "    </tr>\n",
       "    <tr>\n",
       "      <th>175</th>\n",
       "      <td>0.003903</td>\n",
       "      <td>var_84</td>\n",
       "      <td>0.908362</td>\n",
       "    </tr>\n",
       "    <tr>\n",
       "      <th>176</th>\n",
       "      <td>0.003899</td>\n",
       "      <td>var_101</td>\n",
       "      <td>0.912261</td>\n",
       "    </tr>\n",
       "    <tr>\n",
       "      <th>177</th>\n",
       "      <td>0.003898</td>\n",
       "      <td>var_138</td>\n",
       "      <td>0.916158</td>\n",
       "    </tr>\n",
       "    <tr>\n",
       "      <th>178</th>\n",
       "      <td>0.003897</td>\n",
       "      <td>var_25</td>\n",
       "      <td>0.920055</td>\n",
       "    </tr>\n",
       "    <tr>\n",
       "      <th>179</th>\n",
       "      <td>0.003895</td>\n",
       "      <td>var_47</td>\n",
       "      <td>0.923950</td>\n",
       "    </tr>\n",
       "    <tr>\n",
       "      <th>180</th>\n",
       "      <td>0.003872</td>\n",
       "      <td>var_57</td>\n",
       "      <td>0.927822</td>\n",
       "    </tr>\n",
       "    <tr>\n",
       "      <th>181</th>\n",
       "      <td>0.003871</td>\n",
       "      <td>var_100</td>\n",
       "      <td>0.931693</td>\n",
       "    </tr>\n",
       "    <tr>\n",
       "      <th>182</th>\n",
       "      <td>0.003869</td>\n",
       "      <td>var_42</td>\n",
       "      <td>0.935563</td>\n",
       "    </tr>\n",
       "    <tr>\n",
       "      <th>183</th>\n",
       "      <td>0.003866</td>\n",
       "      <td>var_29</td>\n",
       "      <td>0.939428</td>\n",
       "    </tr>\n",
       "    <tr>\n",
       "      <th>184</th>\n",
       "      <td>0.003864</td>\n",
       "      <td>var_27</td>\n",
       "      <td>0.943292</td>\n",
       "    </tr>\n",
       "    <tr>\n",
       "      <th>185</th>\n",
       "      <td>0.003861</td>\n",
       "      <td>var_104</td>\n",
       "      <td>0.947153</td>\n",
       "    </tr>\n",
       "    <tr>\n",
       "      <th>186</th>\n",
       "      <td>0.003858</td>\n",
       "      <td>var_185</td>\n",
       "      <td>0.951011</td>\n",
       "    </tr>\n",
       "    <tr>\n",
       "      <th>187</th>\n",
       "      <td>0.003845</td>\n",
       "      <td>var_161</td>\n",
       "      <td>0.954856</td>\n",
       "    </tr>\n",
       "    <tr>\n",
       "      <th>188</th>\n",
       "      <td>0.003814</td>\n",
       "      <td>var_182</td>\n",
       "      <td>0.958670</td>\n",
       "    </tr>\n",
       "    <tr>\n",
       "      <th>189</th>\n",
       "      <td>0.003814</td>\n",
       "      <td>var_189</td>\n",
       "      <td>0.962485</td>\n",
       "    </tr>\n",
       "    <tr>\n",
       "      <th>190</th>\n",
       "      <td>0.003805</td>\n",
       "      <td>var_120</td>\n",
       "      <td>0.966290</td>\n",
       "    </tr>\n",
       "    <tr>\n",
       "      <th>191</th>\n",
       "      <td>0.003794</td>\n",
       "      <td>var_7</td>\n",
       "      <td>0.970085</td>\n",
       "    </tr>\n",
       "    <tr>\n",
       "      <th>192</th>\n",
       "      <td>0.003782</td>\n",
       "      <td>var_30</td>\n",
       "      <td>0.973867</td>\n",
       "    </tr>\n",
       "    <tr>\n",
       "      <th>193</th>\n",
       "      <td>0.003781</td>\n",
       "      <td>var_103</td>\n",
       "      <td>0.977647</td>\n",
       "    </tr>\n",
       "    <tr>\n",
       "      <th>194</th>\n",
       "      <td>0.003755</td>\n",
       "      <td>var_136</td>\n",
       "      <td>0.981402</td>\n",
       "    </tr>\n",
       "    <tr>\n",
       "      <th>195</th>\n",
       "      <td>0.003742</td>\n",
       "      <td>var_61</td>\n",
       "      <td>0.985144</td>\n",
       "    </tr>\n",
       "    <tr>\n",
       "      <th>196</th>\n",
       "      <td>0.003722</td>\n",
       "      <td>var_158</td>\n",
       "      <td>0.988866</td>\n",
       "    </tr>\n",
       "    <tr>\n",
       "      <th>197</th>\n",
       "      <td>0.003716</td>\n",
       "      <td>var_14</td>\n",
       "      <td>0.992582</td>\n",
       "    </tr>\n",
       "    <tr>\n",
       "      <th>198</th>\n",
       "      <td>0.003715</td>\n",
       "      <td>var_140</td>\n",
       "      <td>0.996298</td>\n",
       "    </tr>\n",
       "    <tr>\n",
       "      <th>199</th>\n",
       "      <td>0.003702</td>\n",
       "      <td>var_10</td>\n",
       "      <td>1.000000</td>\n",
       "    </tr>\n",
       "  </tbody>\n",
       "</table>\n",
       "<p>200 rows × 3 columns</p>\n",
       "</div>"
      ],
      "text/plain": [
       "            0  columns    cumsum\n",
       "0    0.012463   var_81  0.012463\n",
       "1    0.009743  var_139  0.022206\n",
       "2    0.009381   var_12  0.031587\n",
       "3    0.008850   var_53  0.040436\n",
       "4    0.008744   var_26  0.049181\n",
       "5    0.008428  var_110  0.057609\n",
       "6    0.008386  var_166  0.065995\n",
       "7    0.007877  var_146  0.073871\n",
       "8    0.007686  var_109  0.081557\n",
       "9    0.007667   var_22  0.089224\n",
       "10   0.007657  var_174  0.096881\n",
       "11   0.007574    var_6  0.104455\n",
       "12   0.007368   var_76  0.111823\n",
       "13   0.007334   var_80  0.119157\n",
       "14   0.007111  var_198  0.126269\n",
       "15   0.007080   var_99  0.133348\n",
       "16   0.007031  var_179  0.140380\n",
       "17   0.007020  var_165  0.147399\n",
       "18   0.006999    var_2  0.154398\n",
       "19   0.006931  var_133  0.161328\n",
       "20   0.006929   var_13  0.168258\n",
       "21   0.006915   var_78  0.175173\n",
       "22   0.006773  var_148  0.181946\n",
       "23   0.006737   var_44  0.188683\n",
       "24   0.006684   var_21  0.195367\n",
       "25   0.006620   var_94  0.201987\n",
       "26   0.006611  var_190  0.208597\n",
       "27   0.006567    var_1  0.215164\n",
       "28   0.006464  var_164  0.221628\n",
       "29   0.006453   var_40  0.228081\n",
       "..        ...      ...       ...\n",
       "170  0.003931   var_38  0.888780\n",
       "171  0.003927  var_187  0.892707\n",
       "172  0.003922   var_54  0.896630\n",
       "173  0.003917   var_17  0.900547\n",
       "174  0.003912   var_98  0.904459\n",
       "175  0.003903   var_84  0.908362\n",
       "176  0.003899  var_101  0.912261\n",
       "177  0.003898  var_138  0.916158\n",
       "178  0.003897   var_25  0.920055\n",
       "179  0.003895   var_47  0.923950\n",
       "180  0.003872   var_57  0.927822\n",
       "181  0.003871  var_100  0.931693\n",
       "182  0.003869   var_42  0.935563\n",
       "183  0.003866   var_29  0.939428\n",
       "184  0.003864   var_27  0.943292\n",
       "185  0.003861  var_104  0.947153\n",
       "186  0.003858  var_185  0.951011\n",
       "187  0.003845  var_161  0.954856\n",
       "188  0.003814  var_182  0.958670\n",
       "189  0.003814  var_189  0.962485\n",
       "190  0.003805  var_120  0.966290\n",
       "191  0.003794    var_7  0.970085\n",
       "192  0.003782   var_30  0.973867\n",
       "193  0.003781  var_103  0.977647\n",
       "194  0.003755  var_136  0.981402\n",
       "195  0.003742   var_61  0.985144\n",
       "196  0.003722  var_158  0.988866\n",
       "197  0.003716   var_14  0.992582\n",
       "198  0.003715  var_140  0.996298\n",
       "199  0.003702   var_10  1.000000\n",
       "\n",
       "[200 rows x 3 columns]"
      ]
     },
     "execution_count": 8,
     "metadata": {},
     "output_type": "execute_result"
    }
   ],
   "source": [
    "# 查看每个特征对模型的贡献度\n",
    "print(clf.feature_importances_.shape)\n",
    "df = pd.DataFrame(clf.feature_importances_)\n",
    "df['columns'] = data.columns[2:]\n",
    "df = df.sort_values(by=[0], ascending=False)\n",
    "df['cumsum'] = df[0].cumsum()\n",
    "df.index = range(df.shape[0])\n",
    "# 由下面的数据可以看出,特征维度对模型的贡献度很均匀 \n",
    "df"
   ]
  },
  {
   "cell_type": "code",
   "execution_count": 9,
   "metadata": {},
   "outputs": [
    {
     "data": {
      "text/plain": [
       "(200000, 199)"
      ]
     },
     "execution_count": 9,
     "metadata": {},
     "output_type": "execute_result"
    }
   ],
   "source": [
    "X_fvar = feature_selection.VarianceThreshold(0.01).fit_transform(X)\n",
    "X_fvar.shape"
   ]
  },
  {
   "cell_type": "code",
   "execution_count": 10,
   "metadata": {},
   "outputs": [
    {
     "data": {
      "text/plain": [
       "array([[  8.9255,  -6.7863,  11.9081, ...,   8.5635,  12.7803,  -1.0914],\n",
       "       [ 11.5006,  -4.1473,  13.8588, ...,   8.7889,  18.356 ,   1.9518],\n",
       "       [  8.6093,  -2.7457,  12.0805, ...,   8.2675,  14.7222,   0.3965],\n",
       "       ...,\n",
       "       [ 11.2232,  -5.0518,  10.5127, ...,   8.7155,  13.8329,   4.1995],\n",
       "       [  9.7148,  -8.6098,  13.6104, ...,  10.0342,  15.5289, -13.9001],\n",
       "       [ 10.8762,  -5.7105,  12.1183, ...,   8.1857,  12.1284,   0.1385]])"
      ]
     },
     "execution_count": 10,
     "metadata": {},
     "output_type": "execute_result"
    }
   ],
   "source": [
    "X_fvar"
   ]
  },
  {
   "cell_type": "code",
   "execution_count": 11,
   "metadata": {},
   "outputs": [
    {
     "name": "stdout",
     "output_type": "stream",
     "text": [
      "k= 144\n",
      "0.8996850018248843\n"
     ]
    },
    {
     "data": {
      "text/plain": [
       "'11:51'"
      ]
     },
     "execution_count": 11,
     "metadata": {},
     "output_type": "execute_result"
    }
   ],
   "source": [
    "# 再次使用互信息法进行相关性过滤 过滤掉互信息量小于0的特征\n",
    "result = feature_selection.mutual_info_classif(X_fvar, y)\n",
    "start = time.time()\n",
    "\n",
    "k = result[result>0].shape[0]\n",
    "print('k=', k)\n",
    "x_fmic = feature_selection.SelectKBest(feature_selection.mutual_info_classif, k).fit_transform(X_fvar, y)\n",
    "# \n",
    "rfc = ensemble.RandomForestClassifier(n_estimators=10, random_state=66, n_jobs=3)\n",
    "print(model_selection.cross_val_score(rfc, x_fmic, y, cv=5).mean())\n",
    "\n",
    "datetime.fromtimestamp(time.time() - start).strftime(\"%M:%S\")"
   ]
  },
  {
   "cell_type": "code",
   "execution_count": 12,
   "metadata": {},
   "outputs": [
    {
     "data": {
      "text/plain": [
       "(200000, 144)"
      ]
     },
     "execution_count": 12,
     "metadata": {},
     "output_type": "execute_result"
    }
   ],
   "source": [
    "x_fmic.shape"
   ]
  },
  {
   "cell_type": "code",
   "execution_count": 13,
   "metadata": {},
   "outputs": [
    {
     "data": {
      "text/plain": [
       "array([[  8.9255,  -6.7863,  11.9081, ...,   8.5635,  12.7803,  -1.0914],\n",
       "       [ 11.5006,  -4.1473,  13.8588, ...,   8.7889,  18.356 ,   1.9518],\n",
       "       [  8.6093,  -2.7457,  12.0805, ...,   8.2675,  14.7222,   0.3965],\n",
       "       ...,\n",
       "       [ 11.2232,  -5.0518,  10.5127, ...,   8.7155,  13.8329,   4.1995],\n",
       "       [  9.7148,  -8.6098,  13.6104, ...,  10.0342,  15.5289, -13.9001],\n",
       "       [ 10.8762,  -5.7105,  12.1183, ...,   8.1857,  12.1284,   0.1385]])"
      ]
     },
     "execution_count": 13,
     "metadata": {},
     "output_type": "execute_result"
    }
   ],
   "source": [
    "type(x_fmic)\n",
    "x_fmic "
   ]
  },
  {
   "cell_type": "code",
   "execution_count": 14,
   "metadata": {},
   "outputs": [],
   "source": [
    "# 下面划分测试机和训练集\n",
    "X_ = pd.DataFrame(x_fmic)\n",
    "X_train,X_test, y_train, y_test = model_selection.train_test_split(X_, y,test_size=0.3, random_state=0)\n",
    "# 恢复索引\n",
    "for i in [X_train,X_test, y_train, y_test]:\n",
    "    i.index = range(i.shape[0])"
   ]
  },
  {
   "cell_type": "code",
   "execution_count": 42,
   "metadata": {},
   "outputs": [
    {
     "name": "stdout",
     "output_type": "stream",
     "text": [
      "0.8981\n"
     ]
    },
    {
     "data": {
      "text/plain": [
       "'03:17'"
      ]
     },
     "execution_count": 42,
     "metadata": {},
     "output_type": "execute_result"
    }
   ],
   "source": [
    "# 先使用随机森林进行 看看大致效果 并查看各个特征对模型的贡献度\n",
    "start = time.time()\n",
    "\n",
    "clf = ensemble.RandomForestClassifier(n_estimators=100,\n",
    "                                      n_jobs=6,\n",
    "                                      random_state=66,\n",
    "                                     ).fit(X_train, y_train)\n",
    "print(clf.score(X_test, y_test))\n",
    "datetime.fromtimestamp(time.time() - start).strftime(\"%M:%S\")"
   ]
  },
  {
   "cell_type": "code",
   "execution_count": 44,
   "metadata": {},
   "outputs": [
    {
     "data": {
      "text/plain": [
       "<matplotlib.axes._subplots.AxesSubplot at 0x1a1e1ce3c8>"
      ]
     },
     "execution_count": 44,
     "metadata": {},
     "output_type": "execute_result"
    },
    {
     "data": {
      "image/png": "[encoded data removed]",
      "text/plain": [
       "<Figure size 432x288 with 1 Axes>"
      ]
     },
     "metadata": {
      "needs_background": "light"
     },
     "output_type": "display_data"
    }
   ],
   "source": [
    "skplt.metrics.plot_roc(y_test,\n",
    "                        clf.predict_proba(X_test),\n",
    "                        plot_micro=False,\n",
    "                        plot_macro=False,\n",
    "#                         classes_to_plot=None,\n",
    "#                         ax=None,\n",
    "#                         figsize=None,\n",
    "#                         cmap='nipy_spectral',\n",
    "#                         title_fontsize='large',\n",
    "#                         text_fontsize='medium',\n",
    "                      )"
   ]
  },
  {
   "cell_type": "code",
   "execution_count": 46,
   "metadata": {},
   "outputs": [],
   "source": [
    "# 调参\n",
    "# 使用n_estimators 绘画学习曲线  挑选出最优的n_estimators\n",
    "train_score = []\n",
    "test_score = []\n",
    "for i in range(10, 600, 30):\n",
    "    clf = ensemble.RandomForestClassifier(n_estimators=i, \n",
    "                                          n_jobs=4,\n",
    "                                          random_state=66,\n",
    "                                         ).fit(X_train, y_train)\n",
    "    train_score.append(clf.score(X_train, y_train))\n",
    "    test_score.append(clf.score(X_test, y_test))"
   ]
  },
  {
   "cell_type": "code",
   "execution_count": 71,
   "metadata": {},
   "outputs": [],
   "source": [
    "train_score = []\n",
    "test_score = []\n",
    "for i in range(15, 90, 3):\n",
    "    clf = ensemble.RandomForestClassifier(n_estimators=i, \n",
    "                                          n_jobs=4,\n",
    "                                          random_state=66,\n",
    "                                         ).fit(X_train, y_train)\n",
    "    train_score.append(clf.score(X_train, y_train))\n",
    "    test_score.append(clf.score(X_test, y_test))\n",
    "    "
   ]
  },
  {
   "cell_type": "code",
   "execution_count": 72,
   "metadata": {},
   "outputs": [
    {
     "data": {
      "image/png": "[encoded data removed]",
      "text/plain": [
       "<Figure size 432x288 with 1 Axes>"
      ]
     },
     "metadata": {
      "needs_background": "light"
     },
     "output_type": "display_data"
    }
   ],
   "source": [
    "plt.figure()\n",
    "plt.plot(range(15, 90, 3), train_score, 'b--', label='train')\n",
    "plt.plot(range(15, 90, 3), test_score, 'r-', label='test')\n",
    "plt.legend()\n",
    "plt.show()"
   ]
  },
  {
   "cell_type": "code",
   "execution_count": 79,
   "metadata": {},
   "outputs": [
    {
     "name": "stdout",
     "output_type": "stream",
     "text": [
      "0.9997928571428571\n",
      "14\n",
      "57\n"
     ]
    }
   ],
   "source": [
    "test_max = np.max(train_score)\n",
    "test_index = train_score.index(test_max)\n",
    "n_estimators = [*range(15, 90, 3)][test_index]\n",
    "print(test_max)\n",
    "print(test_index)\n",
    "print(n_estimators)"
   ]
  },
  {
   "cell_type": "code",
   "execution_count": 88,
   "metadata": {},
   "outputs": [
    {
     "data": {
      "text/plain": [
       "<matplotlib.axes._subplots.AxesSubplot at 0x1a205b0160>"
      ]
     },
     "execution_count": 88,
     "metadata": {},
     "output_type": "execute_result"
    },
    {
     "data": {
      "image/png": "[encoded data removed]",
      "text/plain": [
       "<Figure size 432x288 with 1 Axes>"
      ]
     },
     "metadata": {
      "needs_background": "light"
     },
     "output_type": "display_data"
    }
   ],
   "source": [
    "# 接下来看一下 auc面积\n",
    "clf = ensemble.RandomForestClassifier(n_estimators=100, \n",
    "                                      n_jobs=4,\n",
    "                                      random_state=66,\n",
    "                                     ).fit(X_train, y_train)\n",
    "skplt.metrics.plot_roc(y_test,\n",
    "                        clf.predict_proba(X_test),\n",
    "                        plot_micro=False,\n",
    "                        plot_macro=False,\n",
    "                      )"
   ]
  },
  {
   "cell_type": "code",
   "execution_count": 92,
   "metadata": {},
   "outputs": [
    {
     "data": {
      "image/png": "[encoded data removed]",
      "text/plain": [
       "<Figure size 432x288 with 1 Axes>"
      ]
     },
     "metadata": {
      "needs_background": "light"
     },
     "output_type": "display_data"
    }
   ],
   "source": [
    "# 这个可以不做 只有出现过拟合时才进行裁剪树  我只是看一下这个最大深度对模型的影响\n",
    "# 从下图可以看出 基本上当深度为3时都已经基本不变化 所以去深度为3\n",
    "train_score = []\n",
    "test_score = []\n",
    "for i in range(3, 15, 1):\n",
    "    clf = ensemble.RandomForestClassifier(n_estimators=57, \n",
    "                                          n_jobs=4,\n",
    "                                          max_depth=i,\n",
    "                                          random_state=66,\n",
    "                                         ).fit(X_train, y_train)\n",
    "    train_score.append(clf.score(X_train, y_train))\n",
    "    test_score.append(clf.score(X_test, y_test))\n",
    "plt.figure()\n",
    "plt.plot(range(3, 15, 1), train_score, 'b--', label='train')\n",
    "plt.plot(range(3, 15, 1), test_score, 'r-', label='test')\n",
    "plt.legend()\n",
    "plt.show()"
   ]
  },
  {
   "cell_type": "code",
   "execution_count": 94,
   "metadata": {},
   "outputs": [
    {
     "name": "stdout",
     "output_type": "stream",
     "text": [
      "0.9049785714285714\n",
      "14\n"
     ]
    }
   ],
   "source": [
    "train_max = np.max(train_score)\n",
    "train_index = train_score.index(train_max)\n",
    "print(train_max)\n",
    "print([*range(3, 15, 1)][train_index])"
   ]
  },
  {
   "cell_type": "code",
   "execution_count": 96,
   "metadata": {},
   "outputs": [
    {
     "data": {
      "text/plain": [
       "<matplotlib.axes._subplots.AxesSubplot at 0x1a206de4a8>"
      ]
     },
     "execution_count": 96,
     "metadata": {},
     "output_type": "execute_result"
    },
    {
     "data": {
      "image/png": "[encoded data removed]",
      "text/plain": [
       "<Figure size 432x288 with 1 Axes>"
      ]
     },
     "metadata": {
      "needs_background": "light"
     },
     "output_type": "display_data"
    }
   ],
   "source": [
    "# 接下来看一下 auc面积\n",
    "clf = ensemble.RandomForestClassifier(n_estimators=57, \n",
    "                                      n_jobs=9,\n",
    "#                                       max_depth=3,\n",
    "                                      random_state=66,\n",
    "                                     ).fit(X_train, y_train)\n",
    "skplt.metrics.plot_roc(y_test,\n",
    "                        clf.predict_proba(X_test),\n",
    "                        plot_micro=False,\n",
    "                        plot_macro=False,\n",
    "                      )"
   ]
  },
  {
   "cell_type": "code",
   "execution_count": 49,
   "metadata": {},
   "outputs": [
    {
     "name": "stdout",
     "output_type": "stream",
     "text": [
      "under ratio 1:1.000000 testing accuracy 0.999865, recall is 0.998657', auc is 1.000000\n",
      "03:15:300742\n",
      "under ratio 1:1.473684 testing accuracy 0.999840, recall is 0.998408', auc is 1.000000\n",
      "02:53:487428\n",
      "under ratio 1:1.947368 testing accuracy 0.999820, recall is 0.998209', auc is 1.000000\n",
      "02:39:056407\n",
      "under ratio 1:2.421053 testing accuracy 0.999830, recall is 0.998308', auc is 1.000000\n",
      "02:27:718477\n",
      "under ratio 1:2.894737 testing accuracy 0.999835, recall is 0.998358', auc is 1.000000\n",
      "02:19:221560\n",
      "under ratio 1:3.368421 testing accuracy 0.999820, recall is 0.998209', auc is 1.000000\n",
      "02:12:790460\n",
      "under ratio 1:3.842105 testing accuracy 0.999790, recall is 0.997910', auc is 1.000000\n",
      "02:09:112532\n",
      "under ratio 1:4.315789 testing accuracy 0.999835, recall is 0.998358', auc is 1.000000\n",
      "02:04:272706\n",
      "under ratio 1:4.789474 testing accuracy 0.999820, recall is 0.998209', auc is 1.000000\n",
      "02:01:036022\n",
      "under ratio 1:5.263158 testing accuracy 0.999850, recall is 0.998507', auc is 1.000000\n",
      "01:58:727637\n",
      "under ratio 1:5.736842 testing accuracy 0.999805, recall is 0.998060', auc is 1.000000\n",
      "01:55:744706\n",
      "under ratio 1:6.210526 testing accuracy 0.999825, recall is 0.998259', auc is 1.000000\n",
      "01:52:052431\n",
      "under ratio 1:6.684211 testing accuracy 0.999785, recall is 0.997860', auc is 1.000000\n",
      "01:50:337624\n",
      "under ratio 1:7.157895 testing accuracy 0.999795, recall is 0.997960', auc is 1.000000\n",
      "01:48:701861\n",
      "under ratio 1:7.631579 testing accuracy 0.999795, recall is 0.997960', auc is 1.000000\n",
      "01:48:452136\n",
      "under ratio 1:8.105263 testing accuracy 0.999820, recall is 0.998209', auc is 1.000000\n",
      "01:46:252799\n",
      "under ratio 1:8.578947 testing accuracy 0.999765, recall is 0.997661', auc is 1.000000\n",
      "01:44:491276\n",
      "under ratio 1:9.052632 testing accuracy 0.999755, recall is 0.997562', auc is 1.000000\n",
      "01:44:344623\n",
      "under ratio 1:9.526316 testing accuracy 0.999790, recall is 0.997910', auc is 1.000000\n",
      "01:44:387903\n",
      "under ratio 1:10.000000 testing accuracy 0.999765, recall is 0.997661', auc is 1.000000\n",
      "01:43:336102\n"
     ]
    }
   ],
   "source": [
    "# 通过调节class_weight 使样本尽可能多捕捉少数类 来提升准确率\n",
    "i_range = np.linspace(1, 10, 20)\n",
    "for i in i_range:\n",
    "    start = time.time()\n",
    "    clf = ensemble.RandomForestClassifier(n_estimators=57, \n",
    "                                      n_jobs=9,\n",
    "                                      random_state=66,\n",
    "#                                           class_weight='balanced',\n",
    "#                                           class_weight={0: 1, 1: 50},\n",
    "                                          class_weight={1:i}, # 注意，这里写的其实是 类别1权重：10， 类别0的权重：1这个比例\n",
    "\n",
    "                                     ).fit(X_, y)\n",
    "    score = clf.score(X_, y)\n",
    "    y_pred = clf.predict(X_)\n",
    "    # 召回率 召回率越大，尽可能的捕捉少数类\n",
    "    recall = metrics.recall_score(y, y_pred)\n",
    "    auc = metrics.roc_auc_score(y_test, clf.predict_proba(X_test)[:, 1])\n",
    "    print(\"under ratio 1:%f testing accuracy %f, recall is %f', auc is %f\" %(i, score,recall, auc))\n",
    "    print(datetime.fromtimestamp(time.time() - start).strftime(\"%M:%S:%f\"))\n",
    "    "
   ]
  },
  {
   "cell_type": "code",
   "execution_count": 48,
   "metadata": {},
   "outputs": [
    {
     "name": "stdout",
     "output_type": "stream",
     "text": [
      "under ratio 1:10.000000 testing accuracy 0.999775, recall is 0.997761', auc is 1.000000\n",
      "01:56:326733\n"
     ]
    }
   ],
   "source": [
    "start = time.time()\n",
    "clf = ensemble.RandomForestClassifier(n_estimators=57, \n",
    "                                  n_jobs=9,\n",
    "                                  random_state=66,\n",
    "                                      class_weight='balanced',\n",
    "#                                       class_weight={0: 1, 1: 50},\n",
    "#                                       class_weight={1:10}, # 注意，这里写的其实是 类别1权重：10， 类别0的权重：1这个比例\n",
    "\n",
    "                                 ).fit(X_, y)\n",
    "score = clf.score(X_, y)\n",
    "y_pred = clf.predict(X_)\n",
    "# 召回率 召回率越大，尽可能的捕捉少数类\n",
    "recall = metrics.recall_score(y, y_pred)\n",
    "auc = metrics.roc_auc_score(y_test, clf.predict_proba(X_test)[:, 1])\n",
    "print(\"under ratio 1:%f testing accuracy %f, recall is %f', auc is %f\" %(i, score,recall, auc))\n",
    "print(datetime.fromtimestamp(time.time() - start).strftime(\"%M:%S:%f\"))\n"
   ]
  },
  {
   "cell_type": "code",
   "execution_count": 39,
   "metadata": {},
   "outputs": [
    {
     "data": {
      "text/plain": [
       "0"
      ]
     },
     "execution_count": 39,
     "metadata": {},
     "output_type": "execute_result"
    }
   ],
   "source": [
    "np.sum([clf.predict(X_test) == 1])"
   ]
  },
  {
   "cell_type": "code",
   "execution_count": 42,
   "metadata": {},
   "outputs": [
    {
     "data": {
      "text/plain": [
       "6114"
      ]
     },
     "execution_count": 42,
     "metadata": {},
     "output_type": "execute_result"
    }
   ],
   "source": [
    "np.sum([y_test == 1])"
   ]
  },
  {
   "cell_type": "code",
   "execution_count": 43,
   "metadata": {},
   "outputs": [
    {
     "data": {
      "text/plain": [
       "0"
      ]
     },
     "execution_count": 43,
     "metadata": {},
     "output_type": "execute_result"
    }
   ],
   "source": [
    "np.sum([y_pred == 1])"
   ]
  },
  {
   "cell_type": "code",
   "execution_count": null,
   "metadata": {},
   "outputs": [],
   "source": []
  }
 ],
 "metadata": {
  "kernelspec": {
   "display_name": "Python 3",
   "language": "python",
   "name": "python3"
  },
  "language_info": {
   "codemirror_mode": {
    "name": "ipython",
    "version": 3
   },
   "file_extension": ".py",
   "mimetype": "text/x-python",
   "name": "python",
   "nbconvert_exporter": "python",
   "pygments_lexer": "ipython3",
   "version": "3.7.3"
  }
 },
 "nbformat": 4,
 "nbformat_minor": 2
}
