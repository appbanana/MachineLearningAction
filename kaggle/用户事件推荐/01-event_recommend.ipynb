{
 "cells": [
  {
   "cell_type": "code",
   "execution_count": 117,
   "metadata": {},
   "outputs": [],
   "source": [
    "import time\n",
    "import itertools\n",
    "import dateutil\n",
    "import pickle\n",
    "import datetime\n",
    "import locale\n",
    "import hashlib\n",
    "import pycountry\n",
    "import pandas as pd\n",
    "import numpy as np\n",
    "import scipy\n",
    "from scipy.spatial import distance as ssd\n",
    "from sklearn import model_selection, preprocessing, metrics\n",
    "from collections import defaultdict\n"
   ]
  },
  {
   "cell_type": "code",
   "execution_count": 11,
   "metadata": {},
   "outputs": [
    {
     "data": {
      "text/plain": [
       "((15398, 6), (10237, 4))"
      ]
     },
     "execution_count": 11,
     "metadata": {},
     "output_type": "execute_result"
    }
   ],
   "source": [
    "df_train = pd.read_csv('/Users/JQC/Desktop/data/train.csv')\n",
    "df_test = pd.read_csv('/Users/JQC/Desktop/data/test.csv')\n",
    "\n",
    "df_train.shape, df_test.shape"
   ]
  },
  {
   "cell_type": "code",
   "execution_count": 12,
   "metadata": {},
   "outputs": [
    {
     "data": {
      "text/plain": [
       "((15398, 6), (10237, 4))"
      ]
     },
     "execution_count": 12,
     "metadata": {},
     "output_type": "execute_result"
    }
   ],
   "source": [
    "df_train.drop_duplicates(inplace=True)\n",
    "df_test.drop_duplicates(inplace=True)\n",
    "\n",
    "df_train.shape, df_test.shape"
   ]
  },
  {
   "cell_type": "code",
   "execution_count": 13,
   "metadata": {},
   "outputs": [
    {
     "data": {
      "text/html": [
       "<div>\n",
       "<style scoped>\n",
       "    .dataframe tbody tr th:only-of-type {\n",
       "        vertical-align: middle;\n",
       "    }\n",
       "\n",
       "    .dataframe tbody tr th {\n",
       "        vertical-align: top;\n",
       "    }\n",
       "\n",
       "    .dataframe thead th {\n",
       "        text-align: right;\n",
       "    }\n",
       "</style>\n",
       "<table border=\"1\" class=\"dataframe\">\n",
       "  <thead>\n",
       "    <tr style=\"text-align: right;\">\n",
       "      <th></th>\n",
       "      <th>user</th>\n",
       "      <th>event</th>\n",
       "      <th>invited</th>\n",
       "      <th>timestamp</th>\n",
       "      <th>interested</th>\n",
       "      <th>not_interested</th>\n",
       "    </tr>\n",
       "  </thead>\n",
       "  <tbody>\n",
       "    <tr>\n",
       "      <th>0</th>\n",
       "      <td>3044012</td>\n",
       "      <td>1918771225</td>\n",
       "      <td>0</td>\n",
       "      <td>2012-10-02 15:53:05.754000+00:00</td>\n",
       "      <td>0</td>\n",
       "      <td>0</td>\n",
       "    </tr>\n",
       "    <tr>\n",
       "      <th>1</th>\n",
       "      <td>3044012</td>\n",
       "      <td>1502284248</td>\n",
       "      <td>0</td>\n",
       "      <td>2012-10-02 15:53:05.754000+00:00</td>\n",
       "      <td>0</td>\n",
       "      <td>0</td>\n",
       "    </tr>\n",
       "    <tr>\n",
       "      <th>2</th>\n",
       "      <td>3044012</td>\n",
       "      <td>2529072432</td>\n",
       "      <td>0</td>\n",
       "      <td>2012-10-02 15:53:05.754000+00:00</td>\n",
       "      <td>1</td>\n",
       "      <td>0</td>\n",
       "    </tr>\n",
       "    <tr>\n",
       "      <th>3</th>\n",
       "      <td>3044012</td>\n",
       "      <td>3072478280</td>\n",
       "      <td>0</td>\n",
       "      <td>2012-10-02 15:53:05.754000+00:00</td>\n",
       "      <td>0</td>\n",
       "      <td>0</td>\n",
       "    </tr>\n",
       "    <tr>\n",
       "      <th>4</th>\n",
       "      <td>3044012</td>\n",
       "      <td>1390707377</td>\n",
       "      <td>0</td>\n",
       "      <td>2012-10-02 15:53:05.754000+00:00</td>\n",
       "      <td>0</td>\n",
       "      <td>0</td>\n",
       "    </tr>\n",
       "  </tbody>\n",
       "</table>\n",
       "</div>"
      ],
      "text/plain": [
       "      user       event  invited                         timestamp  interested  \\\n",
       "0  3044012  1918771225        0  2012-10-02 15:53:05.754000+00:00           0   \n",
       "1  3044012  1502284248        0  2012-10-02 15:53:05.754000+00:00           0   \n",
       "2  3044012  2529072432        0  2012-10-02 15:53:05.754000+00:00           1   \n",
       "3  3044012  3072478280        0  2012-10-02 15:53:05.754000+00:00           0   \n",
       "4  3044012  1390707377        0  2012-10-02 15:53:05.754000+00:00           0   \n",
       "\n",
       "   not_interested  \n",
       "0               0  \n",
       "1               0  \n",
       "2               0  \n",
       "3               0  \n",
       "4               0  "
      ]
     },
     "execution_count": 13,
     "metadata": {},
     "output_type": "execute_result"
    }
   ],
   "source": [
    "df_train.head()"
   ]
  },
  {
   "cell_type": "code",
   "execution_count": 14,
   "metadata": {},
   "outputs": [
    {
     "data": {
      "text/html": [
       "<div>\n",
       "<style scoped>\n",
       "    .dataframe tbody tr th:only-of-type {\n",
       "        vertical-align: middle;\n",
       "    }\n",
       "\n",
       "    .dataframe tbody tr th {\n",
       "        vertical-align: top;\n",
       "    }\n",
       "\n",
       "    .dataframe thead th {\n",
       "        text-align: right;\n",
       "    }\n",
       "</style>\n",
       "<table border=\"1\" class=\"dataframe\">\n",
       "  <thead>\n",
       "    <tr style=\"text-align: right;\">\n",
       "      <th></th>\n",
       "      <th>user</th>\n",
       "      <th>event</th>\n",
       "      <th>invited</th>\n",
       "      <th>timestamp</th>\n",
       "    </tr>\n",
       "  </thead>\n",
       "  <tbody>\n",
       "    <tr>\n",
       "      <th>0</th>\n",
       "      <td>1776192</td>\n",
       "      <td>2877501688</td>\n",
       "      <td>0</td>\n",
       "      <td>2012-11-30 11:39:01.230000+00:00</td>\n",
       "    </tr>\n",
       "    <tr>\n",
       "      <th>1</th>\n",
       "      <td>1776192</td>\n",
       "      <td>3025444328</td>\n",
       "      <td>0</td>\n",
       "      <td>2012-11-30 11:39:01.230000+00:00</td>\n",
       "    </tr>\n",
       "    <tr>\n",
       "      <th>2</th>\n",
       "      <td>1776192</td>\n",
       "      <td>4078218285</td>\n",
       "      <td>0</td>\n",
       "      <td>2012-11-30 11:39:01.230000+00:00</td>\n",
       "    </tr>\n",
       "    <tr>\n",
       "      <th>3</th>\n",
       "      <td>1776192</td>\n",
       "      <td>1024025121</td>\n",
       "      <td>0</td>\n",
       "      <td>2012-11-30 11:39:01.230000+00:00</td>\n",
       "    </tr>\n",
       "    <tr>\n",
       "      <th>4</th>\n",
       "      <td>1776192</td>\n",
       "      <td>2972428928</td>\n",
       "      <td>0</td>\n",
       "      <td>2012-11-30 11:39:21.985000+00:00</td>\n",
       "    </tr>\n",
       "  </tbody>\n",
       "</table>\n",
       "</div>"
      ],
      "text/plain": [
       "      user       event  invited                         timestamp\n",
       "0  1776192  2877501688        0  2012-11-30 11:39:01.230000+00:00\n",
       "1  1776192  3025444328        0  2012-11-30 11:39:01.230000+00:00\n",
       "2  1776192  4078218285        0  2012-11-30 11:39:01.230000+00:00\n",
       "3  1776192  1024025121        0  2012-11-30 11:39:01.230000+00:00\n",
       "4  1776192  2972428928        0  2012-11-30 11:39:21.985000+00:00"
      ]
     },
     "execution_count": 14,
     "metadata": {},
     "output_type": "execute_result"
    }
   ],
   "source": [
    "df_test.head()"
   ]
  },
  {
   "cell_type": "code",
   "execution_count": 15,
   "metadata": {},
   "outputs": [
    {
     "name": "stdout",
     "output_type": "stream",
     "text": [
      "<class 'pandas.core.frame.DataFrame'>\n",
      "Int64Index: 15398 entries, 0 to 15397\n",
      "Data columns (total 6 columns):\n",
      "user              15398 non-null int64\n",
      "event             15398 non-null int64\n",
      "invited           15398 non-null int64\n",
      "timestamp         15398 non-null object\n",
      "interested        15398 non-null int64\n",
      "not_interested    15398 non-null int64\n",
      "dtypes: int64(5), object(1)\n",
      "memory usage: 842.1+ KB\n"
     ]
    }
   ],
   "source": [
    "# 没有缺失值\n",
    "df_train.info()"
   ]
  },
  {
   "cell_type": "code",
   "execution_count": 16,
   "metadata": {},
   "outputs": [
    {
     "name": "stdout",
     "output_type": "stream",
     "text": [
      "<class 'pandas.core.frame.DataFrame'>\n",
      "Int64Index: 10237 entries, 0 to 10236\n",
      "Data columns (total 4 columns):\n",
      "user         10237 non-null int64\n",
      "event        10237 non-null int64\n",
      "invited      10237 non-null int64\n",
      "timestamp    10237 non-null object\n",
      "dtypes: int64(3), object(1)\n",
      "memory usage: 399.9+ KB\n"
     ]
    }
   ],
   "source": [
    "# 没有缺失值\n",
    "df_test.info()"
   ]
  },
  {
   "cell_type": "markdown",
   "metadata": {},
   "source": [
    "## 处理user和event关联数据"
   ]
  },
  {
   "cell_type": "code",
   "execution_count": 17,
   "metadata": {},
   "outputs": [],
   "source": [
    "# 获取训练集合测试集中所有不重复的用户\n",
    "unique_users = set(df_train.user) | set(df_test.user)\n",
    "# 元祖推导式 在把众多元祖转化为字典 dict((422002690, 0), (2678956041, 1),...)\n",
    "user_index_dic = dict(((user, index) for index, user in enumerate(unique_users)))\n",
    "\n",
    "# 取出所有不重复的事件\n",
    "unique_events = set(df_train.event) | set(df_test.event)\n",
    "event_index_dic = dict(((event, index) for index, event in enumerate(unique_events)))\n",
    "\n",
    "# 建立user~event的稀疏矩阵\n",
    "user_event_scores = scipy.sparse.dok_matrix((len(unique_users), len(unique_events)))\n",
    "\n",
    "# 将训练集中的user~event 对应到user_event_scores中 score为interested - not_interested\n",
    "for line in df_train.itertuples():\n",
    "    user_index = user_index_dic[line[1]]\n",
    "    event_index = event_index_dic[line[2]]\n",
    "    user_event_scores[user_index, event_index] = line[5] - line[6]\n",
    "\n",
    "\n",
    "scipy.io.mmwrite(\"PE_userEventScores\", user_event_scores)\n",
    "pickle.dump(user_index_dic, open(\"PE_userIndex.pkl\", 'wb'))\n",
    "pickle.dump(event_index_dic, open(\"PE_eventIndex.pkl\", 'wb'))"
   ]
  },
  {
   "cell_type": "markdown",
   "metadata": {},
   "source": [
    "## 用户与用户相似度矩阵"
   ]
  },
  {
   "cell_type": "code",
   "execution_count": 151,
   "metadata": {},
   "outputs": [
    {
     "data": {
      "text/html": [
       "<div>\n",
       "<style scoped>\n",
       "    .dataframe tbody tr th:only-of-type {\n",
       "        vertical-align: middle;\n",
       "    }\n",
       "\n",
       "    .dataframe tbody tr th {\n",
       "        vertical-align: top;\n",
       "    }\n",
       "\n",
       "    .dataframe thead th {\n",
       "        text-align: right;\n",
       "    }\n",
       "</style>\n",
       "<table border=\"1\" class=\"dataframe\">\n",
       "  <thead>\n",
       "    <tr style=\"text-align: right;\">\n",
       "      <th></th>\n",
       "      <th>user_id</th>\n",
       "      <th>locale</th>\n",
       "      <th>birthyear</th>\n",
       "      <th>gender</th>\n",
       "      <th>joinedAt</th>\n",
       "      <th>location</th>\n",
       "      <th>timezone</th>\n",
       "    </tr>\n",
       "  </thead>\n",
       "  <tbody>\n",
       "    <tr>\n",
       "      <th>0</th>\n",
       "      <td>3197468391</td>\n",
       "      <td>id_ID</td>\n",
       "      <td>1993</td>\n",
       "      <td>male</td>\n",
       "      <td>2012-10-02T06:40:55.524Z</td>\n",
       "      <td>Medan  Indonesia</td>\n",
       "      <td>480.0</td>\n",
       "    </tr>\n",
       "    <tr>\n",
       "      <th>1</th>\n",
       "      <td>3537982273</td>\n",
       "      <td>id_ID</td>\n",
       "      <td>1992</td>\n",
       "      <td>male</td>\n",
       "      <td>2012-09-29T18:03:12.111Z</td>\n",
       "      <td>Medan  Indonesia</td>\n",
       "      <td>420.0</td>\n",
       "    </tr>\n",
       "    <tr>\n",
       "      <th>2</th>\n",
       "      <td>823183725</td>\n",
       "      <td>en_US</td>\n",
       "      <td>1975</td>\n",
       "      <td>male</td>\n",
       "      <td>2012-10-06T03:14:07.149Z</td>\n",
       "      <td>Stratford  Ontario</td>\n",
       "      <td>-240.0</td>\n",
       "    </tr>\n",
       "    <tr>\n",
       "      <th>3</th>\n",
       "      <td>1872223848</td>\n",
       "      <td>en_US</td>\n",
       "      <td>1991</td>\n",
       "      <td>female</td>\n",
       "      <td>2012-11-04T08:59:43.783Z</td>\n",
       "      <td>Tehran  Iran</td>\n",
       "      <td>210.0</td>\n",
       "    </tr>\n",
       "    <tr>\n",
       "      <th>4</th>\n",
       "      <td>3429017717</td>\n",
       "      <td>id_ID</td>\n",
       "      <td>1995</td>\n",
       "      <td>female</td>\n",
       "      <td>2012-09-10T16:06:53.132Z</td>\n",
       "      <td>NaN</td>\n",
       "      <td>420.0</td>\n",
       "    </tr>\n",
       "  </tbody>\n",
       "</table>\n",
       "</div>"
      ],
      "text/plain": [
       "      user_id locale birthyear  gender                  joinedAt  \\\n",
       "0  3197468391  id_ID      1993    male  2012-10-02T06:40:55.524Z   \n",
       "1  3537982273  id_ID      1992    male  2012-09-29T18:03:12.111Z   \n",
       "2   823183725  en_US      1975    male  2012-10-06T03:14:07.149Z   \n",
       "3  1872223848  en_US      1991  female  2012-11-04T08:59:43.783Z   \n",
       "4  3429017717  id_ID      1995  female  2012-09-10T16:06:53.132Z   \n",
       "\n",
       "             location  timezone  \n",
       "0    Medan  Indonesia     480.0  \n",
       "1    Medan  Indonesia     420.0  \n",
       "2  Stratford  Ontario    -240.0  \n",
       "3        Tehran  Iran     210.0  \n",
       "4                 NaN     420.0  "
      ]
     },
     "execution_count": 151,
     "metadata": {},
     "output_type": "execute_result"
    }
   ],
   "source": [
    "df_users = pd.read_csv('/Users/JQC/Desktop/data/users.csv', \n",
    "#                        dtype = {'column_name' : int, 'timezone': int}\n",
    "                      )\n",
    "\n",
    "df_users.head()"
   ]
  },
  {
   "cell_type": "code",
   "execution_count": 4,
   "metadata": {},
   "outputs": [
    {
     "name": "stdout",
     "output_type": "stream",
     "text": [
      "<class 'pandas.core.frame.DataFrame'>\n",
      "RangeIndex: 38209 entries, 0 to 38208\n",
      "Data columns (total 7 columns):\n",
      "user_id      38209 non-null int64\n",
      "locale       38209 non-null object\n",
      "birthyear    38209 non-null object\n",
      "gender       38100 non-null object\n",
      "joinedAt     38152 non-null object\n",
      "location     32745 non-null object\n",
      "timezone     37773 non-null float64\n",
      "dtypes: float64(1), int64(1), object(5)\n",
      "memory usage: 2.0+ MB\n"
     ]
    }
   ],
   "source": [
    "df_users.info()"
   ]
  },
  {
   "cell_type": "code",
   "execution_count": 147,
   "metadata": {},
   "outputs": [],
   "source": [
    "# 将国家转化为对应的索引\n",
    "countryIdMap = defaultdict(int)\n",
    "ctryIdx = defaultdict(int)\n",
    "for index, country in enumerate(pycountry.countries):\n",
    "    countryIdMap[country.name.lower()] = index + 1\n",
    "    if country.name.lower() == \"usa\":\n",
    "        ctryIdx[\"US\"] = index\n",
    "    if country.name.lower() == \"canada\":\n",
    "        ctryIdx[\"CA\"] = index\n",
    "        \n",
    "for cc in ctryIdx.keys():\n",
    "    # 获取美国 加拿大的省份\n",
    "  for s in pycountry.subdivisions.get(country_code=cc):\n",
    "    countryIdMap[s.name.lower()] = ctryIdx[cc] + 1"
   ]
  },
  {
   "cell_type": "code",
   "execution_count": 150,
   "metadata": {},
   "outputs": [
    {
     "data": {
      "text/plain": [
       "'201210'"
      ]
     },
     "execution_count": 150,
     "metadata": {},
     "output_type": "execute_result"
    }
   ],
   "source": [
    "# 辅助函数\n",
    "# 日期处理函数\n",
    "def join_time_to_YM(join_time):\n",
    "    if join_time.lower() == 'none':\n",
    "        return 0\n",
    "    dttm = datetime.datetime.strptime(str(join_time), \"%Y-%m-%dT%H:%M:%S.%fZ\")\n",
    "    return \"\".join([str(dttm.year), str(dttm.month)])\n",
    "\n",
    "\n",
    "\n",
    "def getCountryId(location):\n",
    "    if (isinstance(location, str)\n",
    "        and len(location.strip()) > 0\n",
    "        and location.rfind(\"  \") > -1):\n",
    "      return countryIdMap[location[location.rindex(\"  \") + 2:].lower()]\n",
    "    else:\n",
    "      return 0\n",
    "join_time_to_YM(df_users.loc[0, 'joinedAt'])\n"
   ]
  },
  {
   "cell_type": "code",
   "execution_count": 152,
   "metadata": {},
   "outputs": [],
   "source": [
    "# birthyear 处理特殊值 23-May 16-Mar\n",
    "df_users.loc[df_users.birthyear == '23-May', 'birthyear'] = '1923'\n",
    "df_users.loc[df_users.birthyear == '16-Mar', 'birthyear'] = '1916'\n",
    "df_users.loc[df_users.birthyear == 'None', 'birthyear'] = '0'\n",
    "\n",
    "# timezone处理缺失值\n",
    "df_users.timezone.fillna(0, inplace=True)\n",
    "\n",
    "# 将birthyear timezone 转化为整型\n",
    "df_users.birthyear = df_users.birthyear.apply(lambda x: int(x))\n",
    "df_users.timezone = df_users.timezone.apply(lambda x: int(x))\n",
    "\n",
    "# gender 用众数去填充\n",
    "df_users.gender.fillna('male', inplace=True)\n",
    "df_users.gender = df_users.gender.map({'male': 1, 'female': 0})\n",
    "\n",
    "# joinedAt 日期转化为201210\n",
    "df_users.joinedAt = df_users.loc[df_users.joinedAt.notna(), 'joinedAt'].apply(lambda x: join_time_to_YM(x)).astype(int)\n",
    "# joinedAt 缺失值填充0\n",
    "# df_users.loc[df_users.joinedAt.isna(), 'joinedAt'] = 0\n",
    "\n",
    "# 处理locale 将locale转化为对应的索引\n",
    "# locale.locale_alias.keys() --> ['zh_cn', uk, ....] 各个地方的语言\n",
    "df_users.locale = df_users.locale.apply(lambda x: list(locale.locale_alias.keys()).index('id_ID'.lower()))\n",
    "df_users.location = df_users.location.apply(lambda x: getCountryId(x))\n",
    "\n",
    "# \n",
    "user_matrix = scipy.sparse.dok_matrix((len(unique_users), len(df_users.columns) - 1))\n",
    "for u_id in df_users.user_id:\n",
    "    if not u_id in user_index_dic:\n",
    "        continue\n",
    "    user_index = user_index_dic[u_id]\n",
    "    user_matrix[user_index] = df_users.loc[df_users.user_id == u_id, df_users.columns[df_users.columns != 'user_id']]\n",
    "user_matrix = preprocessing.normalize(user_matrix, norm='l1', axis=0)\n",
    "scipy.io.mmwrite('US_userMatrix', user_matrix)\n",
    "\n",
    "# 计算用户的相似度 并保存到本地\n",
    "userSimMatrix = metrics.pairwise.cosine_similarity(user_matrix)\n",
    "scipy.io.mmwrite(\"US_userSimMatrix\", userSimMatrix)"
   ]
  },
  {
   "cell_type": "markdown",
   "metadata": {},
   "source": [
    "## 用户社交关系挖掘"
   ]
  },
  {
   "cell_type": "code",
   "execution_count": 133,
   "metadata": {},
   "outputs": [
    {
     "data": {
      "text/html": [
       "<div>\n",
       "<style scoped>\n",
       "    .dataframe tbody tr th:only-of-type {\n",
       "        vertical-align: middle;\n",
       "    }\n",
       "\n",
       "    .dataframe tbody tr th {\n",
       "        vertical-align: top;\n",
       "    }\n",
       "\n",
       "    .dataframe thead th {\n",
       "        text-align: right;\n",
       "    }\n",
       "</style>\n",
       "<table border=\"1\" class=\"dataframe\">\n",
       "  <thead>\n",
       "    <tr style=\"text-align: right;\">\n",
       "      <th></th>\n",
       "      <th>user</th>\n",
       "      <th>friends</th>\n",
       "    </tr>\n",
       "  </thead>\n",
       "  <tbody>\n",
       "    <tr>\n",
       "      <th>0</th>\n",
       "      <td>3197468391</td>\n",
       "      <td>1346449342 3873244116 4226080662 1222907620 54...</td>\n",
       "    </tr>\n",
       "    <tr>\n",
       "      <th>1</th>\n",
       "      <td>3537982273</td>\n",
       "      <td>1491560444 395798035 2036380346 899375619 3534...</td>\n",
       "    </tr>\n",
       "    <tr>\n",
       "      <th>2</th>\n",
       "      <td>823183725</td>\n",
       "      <td>1484954627 1950387873 1652977611 4185960823 42...</td>\n",
       "    </tr>\n",
       "    <tr>\n",
       "      <th>3</th>\n",
       "      <td>1872223848</td>\n",
       "      <td>83361640 723814682 557944478 1724049724 253059...</td>\n",
       "    </tr>\n",
       "    <tr>\n",
       "      <th>4</th>\n",
       "      <td>3429017717</td>\n",
       "      <td>4253303705 2130310957 1838389374 3928735761 71...</td>\n",
       "    </tr>\n",
       "  </tbody>\n",
       "</table>\n",
       "</div>"
      ],
      "text/plain": [
       "         user                                            friends\n",
       "0  3197468391  1346449342 3873244116 4226080662 1222907620 54...\n",
       "1  3537982273  1491560444 395798035 2036380346 899375619 3534...\n",
       "2   823183725  1484954627 1950387873 1652977611 4185960823 42...\n",
       "3  1872223848  83361640 723814682 557944478 1724049724 253059...\n",
       "4  3429017717  4253303705 2130310957 1838389374 3928735761 71..."
      ]
     },
     "execution_count": 133,
     "metadata": {},
     "output_type": "execute_result"
    }
   ],
   "source": [
    "df_friends = pd.read_csv('/Users/JQC/Desktop/data/user_friends.csv')\n",
    "df_friends.head()"
   ]
  },
  {
   "cell_type": "code",
   "execution_count": 135,
   "metadata": {},
   "outputs": [
    {
     "data": {
      "text/html": [
       "<div>\n",
       "<style scoped>\n",
       "    .dataframe tbody tr th:only-of-type {\n",
       "        vertical-align: middle;\n",
       "    }\n",
       "\n",
       "    .dataframe tbody tr th {\n",
       "        vertical-align: top;\n",
       "    }\n",
       "\n",
       "    .dataframe thead th {\n",
       "        text-align: right;\n",
       "    }\n",
       "</style>\n",
       "<table border=\"1\" class=\"dataframe\">\n",
       "  <thead>\n",
       "    <tr style=\"text-align: right;\">\n",
       "      <th></th>\n",
       "      <th>user</th>\n",
       "      <th>friends</th>\n",
       "      <th>friend_count</th>\n",
       "    </tr>\n",
       "  </thead>\n",
       "  <tbody>\n",
       "    <tr>\n",
       "      <th>0</th>\n",
       "      <td>3197468391</td>\n",
       "      <td>1346449342 3873244116 4226080662 1222907620 54...</td>\n",
       "      <td>3623.0</td>\n",
       "    </tr>\n",
       "    <tr>\n",
       "      <th>1</th>\n",
       "      <td>3537982273</td>\n",
       "      <td>1491560444 395798035 2036380346 899375619 3534...</td>\n",
       "      <td>1467.0</td>\n",
       "    </tr>\n",
       "    <tr>\n",
       "      <th>2</th>\n",
       "      <td>823183725</td>\n",
       "      <td>1484954627 1950387873 1652977611 4185960823 42...</td>\n",
       "      <td>96.0</td>\n",
       "    </tr>\n",
       "    <tr>\n",
       "      <th>3</th>\n",
       "      <td>1872223848</td>\n",
       "      <td>83361640 723814682 557944478 1724049724 253059...</td>\n",
       "      <td>13.0</td>\n",
       "    </tr>\n",
       "    <tr>\n",
       "      <th>4</th>\n",
       "      <td>3429017717</td>\n",
       "      <td>4253303705 2130310957 1838389374 3928735761 71...</td>\n",
       "      <td>1136.0</td>\n",
       "    </tr>\n",
       "  </tbody>\n",
       "</table>\n",
       "</div>"
      ],
      "text/plain": [
       "         user                                            friends  friend_count\n",
       "0  3197468391  1346449342 3873244116 4226080662 1222907620 54...        3623.0\n",
       "1  3537982273  1491560444 395798035 2036380346 899375619 3534...        1467.0\n",
       "2   823183725  1484954627 1950387873 1652977611 4185960823 42...          96.0\n",
       "3  1872223848  83361640 723814682 557944478 1724049724 253059...          13.0\n",
       "4  3429017717  4253303705 2130310957 1838389374 3928735761 71...        1136.0"
      ]
     },
     "execution_count": 135,
     "metadata": {},
     "output_type": "execute_result"
    }
   ],
   "source": [
    "df_friends['friend_count'] = df_friends.loc[df_friends.friends.notna(), 'friends'].apply(lambda x: len(x.split(' ')))\n",
    "df_friends.loc[df_friends.friends.isna(), 'friend_count'] = 0\n",
    "df_friends.head()"
   ]
  },
  {
   "cell_type": "code",
   "execution_count": 131,
   "metadata": {},
   "outputs": [
    {
     "name": "stdout",
     "output_type": "stream",
     "text": [
      "运行时间:0.3067625800768534 min\n"
     ]
    }
   ],
   "source": [
    "start_time = time.time()\n",
    "user_friends = scipy.sparse.dok_matrix((len(unique_users), len(unique_users)))\n",
    "# 将friends为空的地方全填 0\n",
    "df_friends[df_friends.friends.isna()] = 0\n",
    "# for user in df_friends[df_friends.friends.notna()].user:\n",
    "for user in df_friends.user:\n",
    "    # 查看当前用户是否在user_index_dic 实际上是查看当前用户是否存在于训练集和测试集\n",
    "    if user in user_index_dic:\n",
    "        # 取出当前用户对应的索引\n",
    "        cur_user_index = user_index_dic[user] \n",
    "        if type(df_friends.loc[df_friends.user==user, 'friends']) == type(0):\n",
    "            user_friends[cur_user_index] = 0\n",
    "            continue\n",
    "        # 接下来就要遍历当前用户中所有的朋友,查看他朋友对参加event的积极性\n",
    "        for friend in df_friends.loc[df_friends.user==user, 'friends'].str.split(' ').tolist()[0]:\n",
    "            # 判断当前用户的朋友是否存在于训练集和测试集中\n",
    "            # 因为当初user_index_dic中的key为int类型的 现在也要转化一下\n",
    "            friend = int(friend)\n",
    "            if friend in user_index_dic:\n",
    "                user_index = user_index_dic[friend]\n",
    "                event_for_user = user_event_scores[user_index]\n",
    "                # 查看朋友对事件的积极度 朋友感兴趣的所有事件/ 所有事件\n",
    "                score = np.sum(event_for_user) / user_event_scores.shape[1]\n",
    "                user_friends[cur_user_index, user_index] += score\n",
    "\n",
    "# l1范式归一化\n",
    "user_friends = preprocessing.normalize(user_friends, norm=\"l1\", axis=0, copy=False)\n",
    "scipy.io.mmwrite(\"UF_userFriends\", user_friends)\n",
    "\n",
    "num_friends = np.zeros(len(unique_users))\n",
    "for user in df_friends.user:\n",
    "    if user in user_index_dic:\n",
    "        user_index = user_index_dic[user]\n",
    "        num_friends[user_index] = df_friends.loc[df_friends.user == user, 'friend_count']\n",
    "\n",
    "# 归一化数组\n",
    "num_friends = (num_friends - num_friends.min()) / (num_friends.max() - num_friends.min())\n",
    "scipy.io.mmwrite('UF_numFriends', np.mat(num_friends))\n",
    "\n",
    "end_time = time.time()\n",
    "print('运行时间:%s min' % str((end_time - start_time) / 60))"
   ]
  },
  {
   "cell_type": "markdown",
   "metadata": {},
   "source": [
    "## 5.构造event和event相似度数据"
   ]
  },
  {
   "cell_type": "code",
   "execution_count": 156,
   "metadata": {},
   "outputs": [
    {
     "name": "stdout",
     "output_type": "stream",
     "text": [
      "运行时间:2.8156172037124634 min\n"
     ]
    }
   ],
   "source": [
    "start_time = time.time()\n",
    "\n",
    "def getFeatureHash(value):\n",
    "    if len(value.strip()) == 0:\n",
    "      return -1\n",
    "    elif value.lower() == 'none':\n",
    "        return 0\n",
    "    else:\n",
    "      return int(hashlib.sha224(value.encode('utf8')).hexdigest()[0:4], 16)\n",
    "\n",
    "# events 这个文件太大了 (1.17g) 不想电脑被卡死就采取读取文件方式\n",
    "with open('/Users/JQC/Desktop/data/events.csv', 'r') as f:\n",
    "    f.readline().strip().split(',')\n",
    "    nevents = len(event_index_dic.keys())\n",
    "    eventPropMatrix = scipy.sparse.dok_matrix((nevents, 7))\n",
    "    eventContMatrix = scipy.sparse.dok_matrix((nevents, 100))\n",
    "    for line in f:\n",
    "        cols = line.strip().split(\",\")\n",
    "        eventId = int(cols[0])\n",
    "        if eventId in event_index_dic:\n",
    "            i = event_index_dic[eventId]\n",
    "            eventPropMatrix[i, 0] = join_time_to_YM(cols[2]) # start_time\n",
    "            eventPropMatrix[i, 1] = getFeatureHash(cols[3]) # city\n",
    "            eventPropMatrix[i, 2] = getFeatureHash(cols[4]) # state\n",
    "            eventPropMatrix[i, 3] = getFeatureHash(cols[5]) # zip\n",
    "            eventPropMatrix[i, 4] = getFeatureHash(cols[6]) # country .encode('utf8')\n",
    "            eventPropMatrix[i, 5] = 0 if len(cols[7].strip()) == 0 else float(cols[7]) # lat\n",
    "            eventPropMatrix[i, 6] = 0 if len(cols[8].strip()) == 0 else float(cols[8]) # lon\n",
    "            # 第9列开始是c_1, c_2....c_100\n",
    "            for j in range(9, 109):\n",
    "              eventContMatrix[i, j-9] = cols[j]\n",
    "            \n",
    "end_time = time.time()\n",
    "print('运行时间:%s min' % str((end_time - start_time) / 60))"
   ]
  },
  {
   "cell_type": "code",
   "execution_count": 157,
   "metadata": {},
   "outputs": [
    {
     "data": {
      "text/plain": [
       "<13418x1 sparse matrix of type '<class 'numpy.float64'>'\n",
       "\twith 13418 stored elements in Dictionary Of Keys format>"
      ]
     },
     "execution_count": 157,
     "metadata": {},
     "output_type": "execute_result"
    }
   ],
   "source": [
    "eventPropMatrix[:, 0]"
   ]
  },
  {
   "cell_type": "code",
   "execution_count": 159,
   "metadata": {},
   "outputs": [],
   "source": [
    "# l1范式 归一化\n",
    "eventPropMatrix = preprocessing.normalize(eventPropMatrix,\n",
    "    norm=\"l1\", axis=0, copy=False)\n",
    "eventContMatrix = preprocessing.normalize(eventContMatrix,\n",
    "    norm=\"l1\", axis=0, copy=False)\n",
    "\n",
    "# 写入本地\n",
    "scipy.io.mmwrite(\"EV_eventPropMatrix\", eventPropMatrix)\n",
    "scipy.io.mmwrite(\"EV_eventContMatrix\", eventContMatrix)"
   ]
  },
  {
   "cell_type": "code",
   "execution_count": 163,
   "metadata": {},
   "outputs": [
    {
     "name": "stdout",
     "output_type": "stream",
     "text": [
      "运行时间:10.01778351465861 min\n"
     ]
    }
   ],
   "source": [
    "start_time = time.time()\n",
    "\n",
    "# 计算事件之间的相似度\n",
    "eventPropSim = metrics.pairwise.cosine_similarity(eventPropMatrix)\n",
    "eventContSim = metrics.pairwise.cosine_similarity(eventContMatrix)\n",
    "\n",
    "# 写入本地\n",
    "scipy.io.mmwrite(\"EV_eventPropSim\", eventPropSim)\n",
    "scipy.io.mmwrite(\"EV_eventContSim\", eventContSim)\n",
    "\n",
    "\n",
    "end_time = time.time()\n",
    "print('运行时间:%s min' % str((end_time - start_time) / 60))"
   ]
  },
  {
   "cell_type": "code",
   "execution_count": 164,
   "metadata": {},
   "outputs": [
    {
     "data": {
      "text/plain": [
       "array([[1.        , 0.99999755, 0.36096396, ..., 0.52486899, 0.5658294 ,\n",
       "        0.99999755],\n",
       "       [0.99999755, 1.        , 0.36136045, ..., 0.52487027, 0.56583079,\n",
       "        1.        ],\n",
       "       [0.36096396, 0.36136045, 1.        , ..., 0.50146408, 0.4291896 ,\n",
       "        0.36136044],\n",
       "       ...,\n",
       "       [0.52486899, 0.52487027, 0.50146408, ..., 1.        , 0.9676884 ,\n",
       "        0.52487027],\n",
       "       [0.5658294 , 0.56583079, 0.4291896 , ..., 0.9676884 , 1.        ,\n",
       "        0.56583079],\n",
       "       [0.99999755, 1.        , 0.36136044, ..., 0.52487027, 0.56583079,\n",
       "        1.        ]])"
      ]
     },
     "execution_count": 164,
     "metadata": {},
     "output_type": "execute_result"
    }
   ],
   "source": [
    "eventPropSim"
   ]
  },
  {
   "cell_type": "markdown",
   "metadata": {},
   "source": [
    "## 6.活跃度/event热度 数据"
   ]
  },
  {
   "cell_type": "code",
   "execution_count": 165,
   "metadata": {},
   "outputs": [
    {
     "data": {
      "text/html": [
       "<div>\n",
       "<style scoped>\n",
       "    .dataframe tbody tr th:only-of-type {\n",
       "        vertical-align: middle;\n",
       "    }\n",
       "\n",
       "    .dataframe tbody tr th {\n",
       "        vertical-align: top;\n",
       "    }\n",
       "\n",
       "    .dataframe thead th {\n",
       "        text-align: right;\n",
       "    }\n",
       "</style>\n",
       "<table border=\"1\" class=\"dataframe\">\n",
       "  <thead>\n",
       "    <tr style=\"text-align: right;\">\n",
       "      <th></th>\n",
       "      <th>event</th>\n",
       "      <th>yes</th>\n",
       "      <th>maybe</th>\n",
       "      <th>invited</th>\n",
       "      <th>no</th>\n",
       "    </tr>\n",
       "  </thead>\n",
       "  <tbody>\n",
       "    <tr>\n",
       "      <th>0</th>\n",
       "      <td>1159822043</td>\n",
       "      <td>1975964455 252302513 4226086795 3805886383 142...</td>\n",
       "      <td>2733420590 517546982 1350834692 532087573 5831...</td>\n",
       "      <td>1723091036 3795873583 4109144917 3560622906 31...</td>\n",
       "      <td>3575574655 1077296663</td>\n",
       "    </tr>\n",
       "    <tr>\n",
       "      <th>1</th>\n",
       "      <td>686467261</td>\n",
       "      <td>2394228942 2686116898 1056558062 3792942231 41...</td>\n",
       "      <td>1498184352 645689144 3770076778 331335845 4239...</td>\n",
       "      <td>1788073374 733302094 1830571649 676508092 7081...</td>\n",
       "      <td>NaN</td>\n",
       "    </tr>\n",
       "    <tr>\n",
       "      <th>2</th>\n",
       "      <td>1186208412</td>\n",
       "      <td>NaN</td>\n",
       "      <td>3320380166 3810793697</td>\n",
       "      <td>1379121209 440668682</td>\n",
       "      <td>1728988561 2950720854</td>\n",
       "    </tr>\n",
       "    <tr>\n",
       "      <th>3</th>\n",
       "      <td>2621578336</td>\n",
       "      <td>NaN</td>\n",
       "      <td>NaN</td>\n",
       "      <td>NaN</td>\n",
       "      <td>NaN</td>\n",
       "    </tr>\n",
       "    <tr>\n",
       "      <th>4</th>\n",
       "      <td>855842686</td>\n",
       "      <td>2406118796 3550897984 294255260 1125817077 109...</td>\n",
       "      <td>2671721559 1761448345 2356975806 2666669465 10...</td>\n",
       "      <td>1518670705 880919237 2326414227 2673818347 332...</td>\n",
       "      <td>3500235232</td>\n",
       "    </tr>\n",
       "  </tbody>\n",
       "</table>\n",
       "</div>"
      ],
      "text/plain": [
       "        event                                                yes  \\\n",
       "0  1159822043  1975964455 252302513 4226086795 3805886383 142...   \n",
       "1   686467261  2394228942 2686116898 1056558062 3792942231 41...   \n",
       "2  1186208412                                                NaN   \n",
       "3  2621578336                                                NaN   \n",
       "4   855842686  2406118796 3550897984 294255260 1125817077 109...   \n",
       "\n",
       "                                               maybe  \\\n",
       "0  2733420590 517546982 1350834692 532087573 5831...   \n",
       "1  1498184352 645689144 3770076778 331335845 4239...   \n",
       "2                              3320380166 3810793697   \n",
       "3                                                NaN   \n",
       "4  2671721559 1761448345 2356975806 2666669465 10...   \n",
       "\n",
       "                                             invited                     no  \n",
       "0  1723091036 3795873583 4109144917 3560622906 31...  3575574655 1077296663  \n",
       "1  1788073374 733302094 1830571649 676508092 7081...                    NaN  \n",
       "2                               1379121209 440668682  1728988561 2950720854  \n",
       "3                                                NaN                    NaN  \n",
       "4  1518670705 880919237 2326414227 2673818347 332...             3500235232  "
      ]
     },
     "execution_count": 165,
     "metadata": {},
     "output_type": "execute_result"
    }
   ],
   "source": [
    "df_event_attendees = pd.read_csv('/Users/JQC/Desktop/data/event_attendees.csv')\n",
    "df_event_attendees.head()"
   ]
  },
  {
   "cell_type": "code",
   "execution_count": 251,
   "metadata": {},
   "outputs": [
    {
     "name": "stdout",
     "output_type": "stream",
     "text": [
      "运行时间:0.15210508505503337 min\n"
     ]
    }
   ],
   "source": [
    "start_time = time.time()\n",
    "\n",
    "eventPopularity = scipy.sparse.dok_matrix((len(unique_events), 1))\n",
    "for event in df_event_attendees.event[(df_event_attendees.yes.notna()) & (df_event_attendees.no.notna())]:\n",
    "    if event in event_index_dic:\n",
    "        # pd.isna(df_event_attendees.loc[df_event_attendees.event == event, 'yes']).values[0]\n",
    "        event_index = event_index_dic[event]\n",
    "        eventPopularity[event_index, 0] = len(df_event_attendees.loc[df_event_attendees.event == event, 'yes'].values[0].split(' ')[0]) - \\\n",
    "        len(df_event_attendees.loc[df_event_attendees.event == event, 'no'].values[0].split(' ')[0])\n",
    "\n",
    "eventPopularity = preprocessing.normalize(eventPopularity, norm='l1',  axis=0, copy=False)\n",
    "scipy.io.mmwrite('EA_eventPopularity', eventPopularity)\n",
    "\n",
    "end_time = time.time()\n",
    "print('运行时间:%s min' % str((end_time - start_time) / 60))"
   ]
  },
  {
   "cell_type": "code",
   "execution_count": 252,
   "metadata": {},
   "outputs": [
    {
     "data": {
      "text/plain": [
       "<13418x1 sparse matrix of type '<class 'numpy.float64'>'\n",
       "\twith 3622 stored elements in Compressed Sparse Column format>"
      ]
     },
     "execution_count": 252,
     "metadata": {},
     "output_type": "execute_result"
    }
   ],
   "source": [
    "eventPopularity"
   ]
  },
  {
   "cell_type": "markdown",
   "metadata": {},
   "source": [
    "## 8.构建特征"
   ]
  },
  {
   "cell_type": "code",
   "execution_count": 390,
   "metadata": {},
   "outputs": [],
   "source": [
    "def userReco(userId, eventId):\n",
    "    \"\"\"\n",
    "    根据User-based协同过滤，得到event的推荐度\n",
    "    基本的伪代码思路如下：\n",
    "    \"\"\"\n",
    "    # event推荐度\n",
    "    i = user_index_dic[userId]\n",
    "    j = event_index_dic[eventId]\n",
    "    # 拿到用户之间的相似度 再拿到j事件下所有的得分\n",
    "    vs = user_event_scores[:, j]\n",
    "    sims = userSimMatrix[i, :]\n",
    "    # 向量相乘当前用户对该事件的推荐度\n",
    "    prod = sims * vs\n",
    "    return prod[0] - user_event_scores[i, j]\n",
    "\n",
    "\n",
    "def eventReco(userId, eventId):\n",
    "    \"\"\"\n",
    "    根据基于物品的协同过滤，得到Event的推荐度\n",
    "    基本的伪代码思路如下：\n",
    "    \"\"\"\n",
    "    i = user_index_dic[userId]\n",
    "    j = event_index_dic[eventId]\n",
    "    js = user_event_scores[i, :]\n",
    "    psim = eventPropSim[:, j]\n",
    "    csim = eventContSim[:, j]\n",
    "    # 拿到事件的相似度乘以 事件的score 得到事件的推荐度\n",
    "    pprod = js * psim\n",
    "    cprod = js * csim\n",
    "    pscore = pprod[0] - user_event_scores[i, j]\n",
    "    cscore = cprod[0] - user_event_scores[i, j]\n",
    "\n",
    "    return pscore, cscore\n",
    "\n",
    "def userPop(userId):\n",
    "    \"\"\"\n",
    "    基于用户的朋友个数来推断用户的社交程度\n",
    "    主要的考量是如果用户的朋友非常多，可能会更倾向于参加各种社交活动\n",
    "    \"\"\"\n",
    "    if userId in user_index_dic:\n",
    "        i = user_index_dic[userId]\n",
    "        # 该用户有多少朋友\n",
    "        return num_friends[i]\n",
    "    else:\n",
    "        return 0\n",
    "\n",
    "def friendInfluence(userId):\n",
    "    \"\"\"\n",
    "    朋友对用户的影响\n",
    "    主要考虑用户所有的朋友中，有多少是非常喜欢参加各种社交活动/event的\n",
    "    用户的朋友圈如果都积极参与各种event，可能会对当前用户有一定的影响\n",
    "    \"\"\"\n",
    "    nusers = np.shape(user_friends)[1]\n",
    "    i = user_index_dic[userId]\n",
    "    # 该用户的朋友积极参加活动的程度\n",
    "#     return (user_friends[i, :].sum(axis=0) / nusers)[0,0]\n",
    "    return user_friends[i].sum()\n",
    "\n",
    "def eventPop(eventId):\n",
    "    \"\"\"\n",
    "    本活动本身的热度\n",
    "    主要是通过参与的人数来界定的\n",
    "    \"\"\"\n",
    "    i = event_index_dic[eventId]\n",
    "    return eventPopularity[i, 0]"
   ]
  },
  {
   "cell_type": "code",
   "execution_count": null,
   "metadata": {},
   "outputs": [],
   "source": []
  },
  {
   "cell_type": "code",
   "execution_count": 264,
   "metadata": {},
   "outputs": [],
   "source": [
    "data_train = pd.DataFrame(columns=['userId', 'eventId', \"invited\", \"user_reco\", \"evt_p_reco\",\n",
    "        \"evt_c_reco\", \"user_pop\", \"frnd_infl\", \"evt_pop\", 'interested', 'not_interested'])"
   ]
  },
  {
   "cell_type": "code",
   "execution_count": 384,
   "metadata": {},
   "outputs": [],
   "source": [
    "data_train.userId = df_train.user\n",
    "data_train.eventId = df_train.event\n",
    "data_train.invited = df_train.invited\n",
    "data_train.interested = df_train.interested\n",
    "data_train.not_interested = df_train.not_interested"
   ]
  },
  {
   "cell_type": "code",
   "execution_count": 386,
   "metadata": {},
   "outputs": [
    {
     "name": "stdout",
     "output_type": "stream",
     "text": [
      "运行时间:4.286600251992543 min\n"
     ]
    }
   ],
   "source": [
    "start_time = time.time()\n",
    "\n",
    "for index, line in enumerate(data_train.itertuples()):\n",
    "    userId = int(line[1])\n",
    "    eventId = int(line[2])\n",
    "    i = user_index_dic[userId]\n",
    "    j = event_index_dic[eventId]\n",
    "    evt_p_reco, evt_c_reco = eventReco(userId, eventId)\n",
    "    \n",
    "    data_train.loc[index, 'user_reco'] = userReco(userId, eventId)\n",
    "    data_train.loc[index, 'evt_p_reco'] = evt_p_reco    \n",
    "    data_train.loc[index, 'evt_c_reco'] = evt_c_reco\n",
    "    \n",
    "    data_train.loc[index, 'user_pop'] = userPop(userId)\n",
    "    data_train.loc[index, 'frnd_infl'] = friendInfluence(userId)\n",
    "    data_train.loc[index, 'evt_pop'] = eventPop(eventId)\n",
    "\n",
    "end_time = time.time()\n",
    "print('运行时间:%s min' % str((end_time - start_time) / 60))"
   ]
  },
  {
   "cell_type": "code",
   "execution_count": 387,
   "metadata": {},
   "outputs": [
    {
     "data": {
      "text/html": [
       "<div>\n",
       "<style scoped>\n",
       "    .dataframe tbody tr th:only-of-type {\n",
       "        vertical-align: middle;\n",
       "    }\n",
       "\n",
       "    .dataframe tbody tr th {\n",
       "        vertical-align: top;\n",
       "    }\n",
       "\n",
       "    .dataframe thead th {\n",
       "        text-align: right;\n",
       "    }\n",
       "</style>\n",
       "<table border=\"1\" class=\"dataframe\">\n",
       "  <thead>\n",
       "    <tr style=\"text-align: right;\">\n",
       "      <th></th>\n",
       "      <th>userId</th>\n",
       "      <th>eventId</th>\n",
       "      <th>invited</th>\n",
       "      <th>user_reco</th>\n",
       "      <th>evt_p_reco</th>\n",
       "      <th>evt_c_reco</th>\n",
       "      <th>user_pop</th>\n",
       "      <th>frnd_infl</th>\n",
       "      <th>evt_pop</th>\n",
       "      <th>interested</th>\n",
       "      <th>not_interested</th>\n",
       "    </tr>\n",
       "  </thead>\n",
       "  <tbody>\n",
       "    <tr>\n",
       "      <th>0</th>\n",
       "      <td>3044012</td>\n",
       "      <td>1918771225</td>\n",
       "      <td>0</td>\n",
       "      <td>0.000000</td>\n",
       "      <td>0.290735</td>\n",
       "      <td>0</td>\n",
       "      <td>0.175499</td>\n",
       "      <td>0</td>\n",
       "      <td>-0.000245942</td>\n",
       "      <td>0</td>\n",
       "      <td>0</td>\n",
       "    </tr>\n",
       "    <tr>\n",
       "      <th>1</th>\n",
       "      <td>3044012</td>\n",
       "      <td>1502284248</td>\n",
       "      <td>0</td>\n",
       "      <td>0.000000</td>\n",
       "      <td>0.907079</td>\n",
       "      <td>0.447731</td>\n",
       "      <td>0.175499</td>\n",
       "      <td>0</td>\n",
       "      <td>0</td>\n",
       "      <td>0</td>\n",
       "      <td>0</td>\n",
       "    </tr>\n",
       "    <tr>\n",
       "      <th>2</th>\n",
       "      <td>3044012</td>\n",
       "      <td>2529072432</td>\n",
       "      <td>0</td>\n",
       "      <td>65.239331</td>\n",
       "      <td>0</td>\n",
       "      <td>0</td>\n",
       "      <td>0.175499</td>\n",
       "      <td>0</td>\n",
       "      <td>-0.000245942</td>\n",
       "      <td>1</td>\n",
       "      <td>0</td>\n",
       "    </tr>\n",
       "    <tr>\n",
       "      <th>3</th>\n",
       "      <td>3044012</td>\n",
       "      <td>3072478280</td>\n",
       "      <td>0</td>\n",
       "      <td>0.000000</td>\n",
       "      <td>0.381639</td>\n",
       "      <td>0.186315</td>\n",
       "      <td>0.175499</td>\n",
       "      <td>0</td>\n",
       "      <td>0</td>\n",
       "      <td>0</td>\n",
       "      <td>0</td>\n",
       "    </tr>\n",
       "    <tr>\n",
       "      <th>4</th>\n",
       "      <td>3044012</td>\n",
       "      <td>1390707377</td>\n",
       "      <td>0</td>\n",
       "      <td>13.993137</td>\n",
       "      <td>1</td>\n",
       "      <td>0.0208354</td>\n",
       "      <td>0.175499</td>\n",
       "      <td>0</td>\n",
       "      <td>0.000245942</td>\n",
       "      <td>0</td>\n",
       "      <td>0</td>\n",
       "    </tr>\n",
       "  </tbody>\n",
       "</table>\n",
       "</div>"
      ],
      "text/plain": [
       "    userId     eventId  invited  user_reco evt_p_reco evt_c_reco  user_pop  \\\n",
       "0  3044012  1918771225        0   0.000000   0.290735          0  0.175499   \n",
       "1  3044012  1502284248        0   0.000000   0.907079   0.447731  0.175499   \n",
       "2  3044012  2529072432        0  65.239331          0          0  0.175499   \n",
       "3  3044012  3072478280        0   0.000000   0.381639   0.186315  0.175499   \n",
       "4  3044012  1390707377        0  13.993137          1  0.0208354  0.175499   \n",
       "\n",
       "  frnd_infl      evt_pop  interested  not_interested  \n",
       "0         0 -0.000245942           0               0  \n",
       "1         0            0           0               0  \n",
       "2         0 -0.000245942           1               0  \n",
       "3         0            0           0               0  \n",
       "4         0  0.000245942           0               0  "
      ]
     },
     "execution_count": 387,
     "metadata": {},
     "output_type": "execute_result"
    }
   ],
   "source": [
    "data_train.head()"
   ]
  },
  {
   "cell_type": "code",
   "execution_count": 436,
   "metadata": {},
   "outputs": [
    {
     "data": {
      "text/html": [
       "<div>\n",
       "<style scoped>\n",
       "    .dataframe tbody tr th:only-of-type {\n",
       "        vertical-align: middle;\n",
       "    }\n",
       "\n",
       "    .dataframe tbody tr th {\n",
       "        vertical-align: top;\n",
       "    }\n",
       "\n",
       "    .dataframe thead th {\n",
       "        text-align: right;\n",
       "    }\n",
       "</style>\n",
       "<table border=\"1\" class=\"dataframe\">\n",
       "  <thead>\n",
       "    <tr style=\"text-align: right;\">\n",
       "      <th></th>\n",
       "      <th>userId</th>\n",
       "      <th>eventId</th>\n",
       "      <th>invited</th>\n",
       "      <th>user_reco</th>\n",
       "      <th>evt_p_reco</th>\n",
       "      <th>evt_c_reco</th>\n",
       "      <th>user_pop</th>\n",
       "      <th>frnd_infl</th>\n",
       "      <th>evt_pop</th>\n",
       "    </tr>\n",
       "  </thead>\n",
       "  <tbody>\n",
       "    <tr>\n",
       "      <th>0</th>\n",
       "      <td>1776192</td>\n",
       "      <td>2877501688</td>\n",
       "      <td>0</td>\n",
       "      <td>NaN</td>\n",
       "      <td>NaN</td>\n",
       "      <td>NaN</td>\n",
       "      <td>NaN</td>\n",
       "      <td>NaN</td>\n",
       "      <td>NaN</td>\n",
       "    </tr>\n",
       "    <tr>\n",
       "      <th>1</th>\n",
       "      <td>1776192</td>\n",
       "      <td>3025444328</td>\n",
       "      <td>0</td>\n",
       "      <td>NaN</td>\n",
       "      <td>NaN</td>\n",
       "      <td>NaN</td>\n",
       "      <td>NaN</td>\n",
       "      <td>NaN</td>\n",
       "      <td>NaN</td>\n",
       "    </tr>\n",
       "    <tr>\n",
       "      <th>2</th>\n",
       "      <td>1776192</td>\n",
       "      <td>4078218285</td>\n",
       "      <td>0</td>\n",
       "      <td>NaN</td>\n",
       "      <td>NaN</td>\n",
       "      <td>NaN</td>\n",
       "      <td>NaN</td>\n",
       "      <td>NaN</td>\n",
       "      <td>NaN</td>\n",
       "    </tr>\n",
       "    <tr>\n",
       "      <th>3</th>\n",
       "      <td>1776192</td>\n",
       "      <td>1024025121</td>\n",
       "      <td>0</td>\n",
       "      <td>NaN</td>\n",
       "      <td>NaN</td>\n",
       "      <td>NaN</td>\n",
       "      <td>NaN</td>\n",
       "      <td>NaN</td>\n",
       "      <td>NaN</td>\n",
       "    </tr>\n",
       "    <tr>\n",
       "      <th>4</th>\n",
       "      <td>1776192</td>\n",
       "      <td>2972428928</td>\n",
       "      <td>0</td>\n",
       "      <td>NaN</td>\n",
       "      <td>NaN</td>\n",
       "      <td>NaN</td>\n",
       "      <td>NaN</td>\n",
       "      <td>NaN</td>\n",
       "      <td>NaN</td>\n",
       "    </tr>\n",
       "  </tbody>\n",
       "</table>\n",
       "</div>"
      ],
      "text/plain": [
       "    userId     eventId  invited user_reco evt_p_reco evt_c_reco user_pop  \\\n",
       "0  1776192  2877501688        0       NaN        NaN        NaN      NaN   \n",
       "1  1776192  3025444328        0       NaN        NaN        NaN      NaN   \n",
       "2  1776192  4078218285        0       NaN        NaN        NaN      NaN   \n",
       "3  1776192  1024025121        0       NaN        NaN        NaN      NaN   \n",
       "4  1776192  2972428928        0       NaN        NaN        NaN      NaN   \n",
       "\n",
       "  frnd_infl evt_pop  \n",
       "0       NaN     NaN  \n",
       "1       NaN     NaN  \n",
       "2       NaN     NaN  \n",
       "3       NaN     NaN  \n",
       "4       NaN     NaN  "
      ]
     },
     "execution_count": 436,
     "metadata": {},
     "output_type": "execute_result"
    }
   ],
   "source": [
    "data_test = pd.DataFrame(columns=['userId', 'eventId', \"invited\", \"user_reco\", \"evt_p_reco\",\n",
    "        \"evt_c_reco\", \"user_pop\", \"frnd_infl\", \"evt_pop\"])\n",
    "data_test.userId = df_test.user\n",
    "data_test.eventId = df_test.event\n",
    "data_test.invited = df_test.invited\n",
    "\n",
    "data_test.head()"
   ]
  },
  {
   "cell_type": "code",
   "execution_count": 438,
   "metadata": {},
   "outputs": [
    {
     "name": "stdout",
     "output_type": "stream",
     "text": [
      "运行时间:2.6350266496340433 min\n"
     ]
    }
   ],
   "source": [
    "start_time = time.time()\n",
    "\n",
    "for index, line in enumerate(data_test.itertuples()):\n",
    "    userId = int(line[1])\n",
    "    eventId = int(line[2])\n",
    "    i = user_index_dic[userId]\n",
    "    j = event_index_dic[eventId]\n",
    "    evt_p_reco, evt_c_reco = eventReco(userId, eventId)\n",
    "    \n",
    "    data_test.loc[index, 'user_reco'] = userReco(userId, eventId)\n",
    "    data_test.loc[index, 'evt_p_reco'] = evt_p_reco    \n",
    "    data_test.loc[index, 'evt_c_reco'] = evt_c_reco\n",
    "    \n",
    "    data_test.loc[index, 'user_pop'] = userPop(userId)\n",
    "    data_test.loc[index, 'frnd_infl'] = friendInfluence(userId)\n",
    "    data_test.loc[index, 'evt_pop'] = eventPop(eventId)\n",
    "\n",
    "end_time = time.time()\n",
    "print('运行时间:%s min' % str((end_time - start_time) / 60))"
   ]
  },
  {
   "cell_type": "code",
   "execution_count": 441,
   "metadata": {},
   "outputs": [
    {
     "data": {
      "text/html": [
       "<div>\n",
       "<style scoped>\n",
       "    .dataframe tbody tr th:only-of-type {\n",
       "        vertical-align: middle;\n",
       "    }\n",
       "\n",
       "    .dataframe tbody tr th {\n",
       "        vertical-align: top;\n",
       "    }\n",
       "\n",
       "    .dataframe thead th {\n",
       "        text-align: right;\n",
       "    }\n",
       "</style>\n",
       "<table border=\"1\" class=\"dataframe\">\n",
       "  <thead>\n",
       "    <tr style=\"text-align: right;\">\n",
       "      <th></th>\n",
       "      <th>userId</th>\n",
       "      <th>eventId</th>\n",
       "      <th>invited</th>\n",
       "      <th>user_reco</th>\n",
       "      <th>evt_p_reco</th>\n",
       "      <th>evt_c_reco</th>\n",
       "      <th>user_pop</th>\n",
       "      <th>frnd_infl</th>\n",
       "      <th>evt_pop</th>\n",
       "    </tr>\n",
       "  </thead>\n",
       "  <tbody>\n",
       "    <tr>\n",
       "      <th>0</th>\n",
       "      <td>1776192</td>\n",
       "      <td>2877501688</td>\n",
       "      <td>0</td>\n",
       "      <td>0</td>\n",
       "      <td>0</td>\n",
       "      <td>0</td>\n",
       "      <td>0.0896861</td>\n",
       "      <td>0</td>\n",
       "      <td>0</td>\n",
       "    </tr>\n",
       "    <tr>\n",
       "      <th>1</th>\n",
       "      <td>1776192</td>\n",
       "      <td>3025444328</td>\n",
       "      <td>0</td>\n",
       "      <td>0</td>\n",
       "      <td>0</td>\n",
       "      <td>0</td>\n",
       "      <td>0.0896861</td>\n",
       "      <td>0</td>\n",
       "      <td>0.000245942</td>\n",
       "    </tr>\n",
       "    <tr>\n",
       "      <th>2</th>\n",
       "      <td>1776192</td>\n",
       "      <td>4078218285</td>\n",
       "      <td>0</td>\n",
       "      <td>0</td>\n",
       "      <td>0</td>\n",
       "      <td>0</td>\n",
       "      <td>0.0896861</td>\n",
       "      <td>0</td>\n",
       "      <td>0</td>\n",
       "    </tr>\n",
       "    <tr>\n",
       "      <th>3</th>\n",
       "      <td>1776192</td>\n",
       "      <td>1024025121</td>\n",
       "      <td>0</td>\n",
       "      <td>0</td>\n",
       "      <td>0</td>\n",
       "      <td>0</td>\n",
       "      <td>0.0896861</td>\n",
       "      <td>0</td>\n",
       "      <td>0</td>\n",
       "    </tr>\n",
       "    <tr>\n",
       "      <th>4</th>\n",
       "      <td>1776192</td>\n",
       "      <td>2972428928</td>\n",
       "      <td>0</td>\n",
       "      <td>0</td>\n",
       "      <td>0</td>\n",
       "      <td>0</td>\n",
       "      <td>0.0896861</td>\n",
       "      <td>0</td>\n",
       "      <td>0</td>\n",
       "    </tr>\n",
       "  </tbody>\n",
       "</table>\n",
       "</div>"
      ],
      "text/plain": [
       "    userId     eventId  invited user_reco  evt_p_reco  evt_c_reco   user_pop  \\\n",
       "0  1776192  2877501688        0         0           0           0  0.0896861   \n",
       "1  1776192  3025444328        0         0           0           0  0.0896861   \n",
       "2  1776192  4078218285        0         0           0           0  0.0896861   \n",
       "3  1776192  1024025121        0         0           0           0  0.0896861   \n",
       "4  1776192  2972428928        0         0           0           0  0.0896861   \n",
       "\n",
       "  frnd_infl      evt_pop  \n",
       "0         0            0  \n",
       "1         0  0.000245942  \n",
       "2         0            0  \n",
       "3         0            0  \n",
       "4         0            0  "
      ]
     },
     "execution_count": 441,
     "metadata": {},
     "output_type": "execute_result"
    }
   ],
   "source": [
    "data_test.head()"
   ]
  },
  {
   "cell_type": "code",
   "execution_count": 448,
   "metadata": {},
   "outputs": [],
   "source": [
    "# 生成的训练数据和测试数据保存到本地\n",
    "data_train.to_csv('data_train.csv', index=False)\n",
    "data_test.to_csv('data_test.csv', index=False)"
   ]
  },
  {
   "cell_type": "markdown",
   "metadata": {},
   "source": [
    "## 建模与预测\n"
   ]
  },
  {
   "cell_type": "code",
   "execution_count": 478,
   "metadata": {},
   "outputs": [],
   "source": [
    "# 终于到了建模 哈哈....\n",
    "\n",
    "import numpy as np\n",
    "import pandas as pd\n",
    "from sklearn import metrics, model_selection, linear_model, naive_bayes, preprocessing\n",
    "from matplotlib import pyplot as plt\n",
    "import scikitplot as skplt\n"
   ]
  },
  {
   "cell_type": "code",
   "execution_count": 450,
   "metadata": {},
   "outputs": [],
   "source": [
    "train_df = pd.read_csv('data_train.csv')"
   ]
  },
  {
   "cell_type": "code",
   "execution_count": 451,
   "metadata": {},
   "outputs": [
    {
     "data": {
      "text/html": [
       "<div>\n",
       "<style scoped>\n",
       "    .dataframe tbody tr th:only-of-type {\n",
       "        vertical-align: middle;\n",
       "    }\n",
       "\n",
       "    .dataframe tbody tr th {\n",
       "        vertical-align: top;\n",
       "    }\n",
       "\n",
       "    .dataframe thead th {\n",
       "        text-align: right;\n",
       "    }\n",
       "</style>\n",
       "<table border=\"1\" class=\"dataframe\">\n",
       "  <thead>\n",
       "    <tr style=\"text-align: right;\">\n",
       "      <th></th>\n",
       "      <th>userId</th>\n",
       "      <th>eventId</th>\n",
       "      <th>invited</th>\n",
       "      <th>user_reco</th>\n",
       "      <th>evt_p_reco</th>\n",
       "      <th>evt_c_reco</th>\n",
       "      <th>user_pop</th>\n",
       "      <th>frnd_infl</th>\n",
       "      <th>evt_pop</th>\n",
       "      <th>interested</th>\n",
       "      <th>not_interested</th>\n",
       "    </tr>\n",
       "  </thead>\n",
       "  <tbody>\n",
       "    <tr>\n",
       "      <th>0</th>\n",
       "      <td>3044012</td>\n",
       "      <td>1918771225</td>\n",
       "      <td>0</td>\n",
       "      <td>0.000000</td>\n",
       "      <td>0.290735</td>\n",
       "      <td>0.000000</td>\n",
       "      <td>0.175499</td>\n",
       "      <td>0.0</td>\n",
       "      <td>-0.000246</td>\n",
       "      <td>0</td>\n",
       "      <td>0</td>\n",
       "    </tr>\n",
       "    <tr>\n",
       "      <th>1</th>\n",
       "      <td>3044012</td>\n",
       "      <td>1502284248</td>\n",
       "      <td>0</td>\n",
       "      <td>0.000000</td>\n",
       "      <td>0.907079</td>\n",
       "      <td>0.447731</td>\n",
       "      <td>0.175499</td>\n",
       "      <td>0.0</td>\n",
       "      <td>0.000000</td>\n",
       "      <td>0</td>\n",
       "      <td>0</td>\n",
       "    </tr>\n",
       "    <tr>\n",
       "      <th>2</th>\n",
       "      <td>3044012</td>\n",
       "      <td>2529072432</td>\n",
       "      <td>0</td>\n",
       "      <td>65.239331</td>\n",
       "      <td>0.000000</td>\n",
       "      <td>0.000000</td>\n",
       "      <td>0.175499</td>\n",
       "      <td>0.0</td>\n",
       "      <td>-0.000246</td>\n",
       "      <td>1</td>\n",
       "      <td>0</td>\n",
       "    </tr>\n",
       "    <tr>\n",
       "      <th>3</th>\n",
       "      <td>3044012</td>\n",
       "      <td>3072478280</td>\n",
       "      <td>0</td>\n",
       "      <td>0.000000</td>\n",
       "      <td>0.381639</td>\n",
       "      <td>0.186315</td>\n",
       "      <td>0.175499</td>\n",
       "      <td>0.0</td>\n",
       "      <td>0.000000</td>\n",
       "      <td>0</td>\n",
       "      <td>0</td>\n",
       "    </tr>\n",
       "    <tr>\n",
       "      <th>4</th>\n",
       "      <td>3044012</td>\n",
       "      <td>1390707377</td>\n",
       "      <td>0</td>\n",
       "      <td>13.993137</td>\n",
       "      <td>1.000000</td>\n",
       "      <td>0.020835</td>\n",
       "      <td>0.175499</td>\n",
       "      <td>0.0</td>\n",
       "      <td>0.000246</td>\n",
       "      <td>0</td>\n",
       "      <td>0</td>\n",
       "    </tr>\n",
       "  </tbody>\n",
       "</table>\n",
       "</div>"
      ],
      "text/plain": [
       "    userId     eventId  invited  user_reco  evt_p_reco  evt_c_reco  user_pop  \\\n",
       "0  3044012  1918771225        0   0.000000    0.290735    0.000000  0.175499   \n",
       "1  3044012  1502284248        0   0.000000    0.907079    0.447731  0.175499   \n",
       "2  3044012  2529072432        0  65.239331    0.000000    0.000000  0.175499   \n",
       "3  3044012  3072478280        0   0.000000    0.381639    0.186315  0.175499   \n",
       "4  3044012  1390707377        0  13.993137    1.000000    0.020835  0.175499   \n",
       "\n",
       "   frnd_infl   evt_pop  interested  not_interested  \n",
       "0        0.0 -0.000246           0               0  \n",
       "1        0.0  0.000000           0               0  \n",
       "2        0.0 -0.000246           1               0  \n",
       "3        0.0  0.000000           0               0  \n",
       "4        0.0  0.000246           0               0  "
      ]
     },
     "execution_count": 451,
     "metadata": {},
     "output_type": "execute_result"
    }
   ],
   "source": [
    "train_df.head()"
   ]
  },
  {
   "cell_type": "code",
   "execution_count": 452,
   "metadata": {},
   "outputs": [
    {
     "name": "stdout",
     "output_type": "stream",
     "text": [
      "<class 'pandas.core.frame.DataFrame'>\n",
      "RangeIndex: 15398 entries, 0 to 15397\n",
      "Data columns (total 11 columns):\n",
      "userId            15398 non-null int64\n",
      "eventId           15398 non-null int64\n",
      "invited           15398 non-null int64\n",
      "user_reco         15398 non-null float64\n",
      "evt_p_reco        15398 non-null float64\n",
      "evt_c_reco        15398 non-null float64\n",
      "user_pop          15398 non-null float64\n",
      "frnd_infl         15398 non-null float64\n",
      "evt_pop           15398 non-null float64\n",
      "interested        15398 non-null int64\n",
      "not_interested    15398 non-null int64\n",
      "dtypes: float64(6), int64(5)\n",
      "memory usage: 1.3 MB\n"
     ]
    }
   ],
   "source": [
    "train_df.info()"
   ]
  },
  {
   "cell_type": "code",
   "execution_count": 453,
   "metadata": {},
   "outputs": [
    {
     "data": {
      "text/plain": [
       "(15398, 11)"
      ]
     },
     "execution_count": 453,
     "metadata": {},
     "output_type": "execute_result"
    }
   ],
   "source": [
    "train_df.shape"
   ]
  },
  {
   "cell_type": "code",
   "execution_count": 454,
   "metadata": {},
   "outputs": [
    {
     "data": {
      "text/plain": [
       "0    14744\n",
       "1      654\n",
       "Name: invited, dtype: int64"
      ]
     },
     "execution_count": 454,
     "metadata": {},
     "output_type": "execute_result"
    }
   ],
   "source": [
    "train_df.invited.value_counts()"
   ]
  },
  {
   "cell_type": "code",
   "execution_count": 455,
   "metadata": {},
   "outputs": [
    {
     "data": {
      "text/plain": [
       "22.54434250764526"
      ]
     },
     "execution_count": 455,
     "metadata": {},
     "output_type": "execute_result"
    }
   ],
   "source": [
    "# 样本不均衡\n",
    "train_df.invited.value_counts()[0] / train_df.invited.value_counts()[1] "
   ]
  },
  {
   "cell_type": "code",
   "execution_count": 462,
   "metadata": {},
   "outputs": [],
   "source": [
    "# 因为补集朴素贝叶斯对样本不均衡问题有很好的效果而且运行速度很快 所以我优先考虑使用补集朴素贝叶斯进行尝试\n",
    "# 补集朴素贝叶斯的特点就是 数据中不能有负数\n",
    "train_df_data = train_df.copy()\n",
    "train_df_data.iloc[:, 3:9] = preprocessing.MinMaxScaler().fit_transform(train_df_data.iloc[:, 3:9])\n",
    "# 划分训练集和测试集\n",
    "\n",
    "# X = train_df_data.loc[:, train_df.columns[train_df.columns != 'invited']]\n",
    "X = train_df_data.iloc[:, 3:]\n",
    "\n",
    "y = train_df_data.iloc[:, 2]\n",
    "\n",
    "X_train, X_test, y_train, y_test = model_selection.train_test_split(X, y, test_size=0.3, random_state=66)\n"
   ]
  },
  {
   "cell_type": "code",
   "execution_count": 463,
   "metadata": {},
   "outputs": [
    {
     "data": {
      "text/html": [
       "<div>\n",
       "<style scoped>\n",
       "    .dataframe tbody tr th:only-of-type {\n",
       "        vertical-align: middle;\n",
       "    }\n",
       "\n",
       "    .dataframe tbody tr th {\n",
       "        vertical-align: top;\n",
       "    }\n",
       "\n",
       "    .dataframe thead th {\n",
       "        text-align: right;\n",
       "    }\n",
       "</style>\n",
       "<table border=\"1\" class=\"dataframe\">\n",
       "  <thead>\n",
       "    <tr style=\"text-align: right;\">\n",
       "      <th></th>\n",
       "      <th>user_reco</th>\n",
       "      <th>evt_p_reco</th>\n",
       "      <th>evt_c_reco</th>\n",
       "      <th>user_pop</th>\n",
       "      <th>frnd_infl</th>\n",
       "      <th>evt_pop</th>\n",
       "      <th>interested</th>\n",
       "      <th>not_interested</th>\n",
       "    </tr>\n",
       "  </thead>\n",
       "  <tbody>\n",
       "    <tr>\n",
       "      <th>10305</th>\n",
       "      <td>0.096724</td>\n",
       "      <td>0.652174</td>\n",
       "      <td>0.540641</td>\n",
       "      <td>0.306971</td>\n",
       "      <td>0.210184</td>\n",
       "      <td>0.625</td>\n",
       "      <td>0</td>\n",
       "      <td>0</td>\n",
       "    </tr>\n",
       "    <tr>\n",
       "      <th>7896</th>\n",
       "      <td>0.018372</td>\n",
       "      <td>0.648632</td>\n",
       "      <td>0.537982</td>\n",
       "      <td>0.180595</td>\n",
       "      <td>0.130011</td>\n",
       "      <td>0.500</td>\n",
       "      <td>0</td>\n",
       "      <td>0</td>\n",
       "    </tr>\n",
       "    <tr>\n",
       "      <th>12265</th>\n",
       "      <td>0.009186</td>\n",
       "      <td>0.744315</td>\n",
       "      <td>0.582555</td>\n",
       "      <td>0.262332</td>\n",
       "      <td>0.130011</td>\n",
       "      <td>0.500</td>\n",
       "      <td>0</td>\n",
       "      <td>0</td>\n",
       "    </tr>\n",
       "    <tr>\n",
       "      <th>2296</th>\n",
       "      <td>0.009186</td>\n",
       "      <td>0.670988</td>\n",
       "      <td>0.537263</td>\n",
       "      <td>0.227069</td>\n",
       "      <td>0.238353</td>\n",
       "      <td>0.500</td>\n",
       "      <td>0</td>\n",
       "      <td>0</td>\n",
       "    </tr>\n",
       "    <tr>\n",
       "      <th>9396</th>\n",
       "      <td>0.009186</td>\n",
       "      <td>0.669520</td>\n",
       "      <td>0.540849</td>\n",
       "      <td>0.049124</td>\n",
       "      <td>0.130011</td>\n",
       "      <td>0.500</td>\n",
       "      <td>0</td>\n",
       "      <td>0</td>\n",
       "    </tr>\n",
       "  </tbody>\n",
       "</table>\n",
       "</div>"
      ],
      "text/plain": [
       "       user_reco  evt_p_reco  evt_c_reco  user_pop  frnd_infl  evt_pop  \\\n",
       "10305   0.096724    0.652174    0.540641  0.306971   0.210184    0.625   \n",
       "7896    0.018372    0.648632    0.537982  0.180595   0.130011    0.500   \n",
       "12265   0.009186    0.744315    0.582555  0.262332   0.130011    0.500   \n",
       "2296    0.009186    0.670988    0.537263  0.227069   0.238353    0.500   \n",
       "9396    0.009186    0.669520    0.540849  0.049124   0.130011    0.500   \n",
       "\n",
       "       interested  not_interested  \n",
       "10305           0               0  \n",
       "7896            0               0  \n",
       "12265           0               0  \n",
       "2296            0               0  \n",
       "9396            0               0  "
      ]
     },
     "execution_count": 463,
     "metadata": {},
     "output_type": "execute_result"
    }
   ],
   "source": [
    "X_train.head()"
   ]
  },
  {
   "cell_type": "code",
   "execution_count": 464,
   "metadata": {},
   "outputs": [
    {
     "name": "stdout",
     "output_type": "stream",
     "text": [
      "0.3548895899053628\n"
     ]
    }
   ],
   "source": [
    "# 因为补集朴素贝叶斯对样本不均衡问题有很好的效果而且运行速度很快 所以我优先考虑使用补集朴素贝叶斯\n",
    "# 补集朴素贝叶斯的特点就是 数据中不能有负数\n",
    "clf = naive_bayes.ComplementNB()\n",
    "clf.fit(X_train, y_train)\n",
    "print(clf.score(X_train, y_train))"
   ]
  },
  {
   "cell_type": "code",
   "execution_count": 465,
   "metadata": {},
   "outputs": [
    {
     "data": {
      "text/plain": [
       "array([[3462, 6853],\n",
       "       [ 100,  363]])"
      ]
     },
     "execution_count": 465,
     "metadata": {},
     "output_type": "execute_result"
    }
   ],
   "source": [
    "# 查看模型的评估指标\n",
    "metrics.confusion_matrix(y_train, clf.predict(X_train))"
   ]
  },
  {
   "cell_type": "code",
   "execution_count": 431,
   "metadata": {},
   "outputs": [
    {
     "data": {
      "text/plain": [
       "(0.7840172786177105, 0.3548895899053628)"
      ]
     },
     "execution_count": 431,
     "metadata": {},
     "output_type": "execute_result"
    }
   ],
   "source": [
    "metrics.recall_score(y_train, clf.predict(X_train)), metrics.accuracy_score(y_train, clf.predict(X_train))"
   ]
  },
  {
   "cell_type": "code",
   "execution_count": 432,
   "metadata": {},
   "outputs": [
    {
     "data": {
      "text/plain": [
       "<matplotlib.axes._subplots.AxesSubplot at 0x1a3a147908>"
      ]
     },
     "execution_count": 432,
     "metadata": {},
     "output_type": "execute_result"
    },
    {
     "data": {
      "image/png": "[encoded data removed]",
      "text/plain": [
       "<Figure size 432x288 with 1 Axes>"
      ]
     },
     "metadata": {
      "needs_background": "light"
     },
     "output_type": "display_data"
    }
   ],
   "source": [
    "# 虽然recall_score 还可以 但是auc不太好 因为这个模型没有什么可调的参数 只能换模型尝试\n",
    "test_proba_df = pd.DataFrame(clf.predict_proba(X_train))\n",
    "skplt.metrics.plot_roc(y_train, test_proba_df, plot_micro=False, plot_macro=False)"
   ]
  },
  {
   "cell_type": "code",
   "execution_count": 473,
   "metadata": {},
   "outputs": [
    {
     "name": "stderr",
     "output_type": "stream",
     "text": [
      "/anaconda3/lib/python3.7/site-packages/sklearn/linear_model/stochastic_gradient.py:183: FutureWarning: max_iter and tol parameters have been added in SGDClassifier in 0.19. If max_iter is set but tol is left unset, the default value for tol in 0.19 and 0.20 will be None (which is equivalent to -infinity, so it has no effect) but will change in 0.21 to 1e-3. Specify tol to silence this warning.\n",
      "  return sample_weight\n"
     ]
    },
    {
     "data": {
      "text/plain": [
       "0.9575269515521496"
      ]
     },
     "execution_count": 473,
     "metadata": {},
     "output_type": "execute_result"
    }
   ],
   "source": [
    "# 换SGDClassifier试一试\n",
    "clf = linear_model.SGDClassifier(max_iter=1000, \n",
    "                                 loss=\"log\", \n",
    "                                 penalty=\"l2\", \n",
    "#                                  class_weight='balanced'\n",
    "                                ).fit(train_df.iloc[:, 3:], train_df.iloc[:, 2])\n",
    "clf.score(train_df.iloc[:, 3:], train_df.iloc[:, 2])"
   ]
  },
  {
   "cell_type": "code",
   "execution_count": 474,
   "metadata": {},
   "outputs": [
    {
     "data": {
      "text/plain": [
       "<matplotlib.axes._subplots.AxesSubplot at 0x1a3a2f62e8>"
      ]
     },
     "execution_count": 474,
     "metadata": {},
     "output_type": "execute_result"
    },
    {
     "data": {
      "image/png": "[encoded data removed]",
      "text/plain": [
       "<Figure size 432x288 with 1 Axes>"
      ]
     },
     "metadata": {
      "needs_background": "light"
     },
     "output_type": "display_data"
    }
   ],
   "source": [
    "test_proba_df = pd.DataFrame(clf.predict_proba(train_df.iloc[:, 3:]))\n",
    "skplt.metrics.plot_roc(train_df.iloc[:, 2], test_proba_df, plot_micro=False, plot_macro=False)"
   ]
  },
  {
   "cell_type": "code",
   "execution_count": null,
   "metadata": {},
   "outputs": [],
   "source": []
  }
 ],
 "metadata": {
  "kernelspec": {
   "display_name": "Python 3",
   "language": "python",
   "name": "python3"
  },
  "language_info": {
   "codemirror_mode": {
    "name": "ipython",
    "version": 3
   },
   "file_extension": ".py",
   "mimetype": "text/x-python",
   "name": "python",
   "nbconvert_exporter": "python",
   "pygments_lexer": "ipython3",
   "version": "3.7.3"
  }
 },
 "nbformat": 4,
 "nbformat_minor": 2
}
