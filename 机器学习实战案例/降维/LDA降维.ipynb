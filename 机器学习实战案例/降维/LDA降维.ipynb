{
 "cells": [
  {
   "cell_type": "code",
   "execution_count": 3,
   "metadata": {},
   "outputs": [],
   "source": [
    "import numpy as np\n",
    "import pandas as pd\n",
    "import scipy as sp\n",
    "from sklearn import model_selection, metrics, datasets, preprocessing\n",
    "import matplotlib.pyplot as plt\n",
    "from matplotlib import colors, patches\n",
    "from IPython.core.interactiveshell import InteractiveShell\n"
   ]
  },
  {
   "cell_type": "code",
   "execution_count": 2,
   "metadata": {},
   "outputs": [],
   "source": [
    "# 配置项\n",
    "%config IPCompleter.greedy=True\n",
    "\n",
    "# 这个要放到设置中文之前否则还是小方框\n",
    "plt.style.use(\"seaborn\")\n",
    "\n",
    "# 指定默认字体 用来正常显示中文标签\n",
    "plt.rcParams['font.sans-serif'] = ['SimHei']\n",
    "# 解决保存图像是负号'-'显示为方块的问题\n",
    "plt.rcParams['axes.unicode_minus'] = False\n",
    "\n",
    "# #全部行都能输出\n",
    "InteractiveShell.ast_node_interactivity = \"all\""
   ]
  },
  {
   "cell_type": "code",
   "execution_count": 11,
   "metadata": {},
   "outputs": [
    {
     "data": {
      "text/html": [
       "<div>\n",
       "<style scoped>\n",
       "    .dataframe tbody tr th:only-of-type {\n",
       "        vertical-align: middle;\n",
       "    }\n",
       "\n",
       "    .dataframe tbody tr th {\n",
       "        vertical-align: top;\n",
       "    }\n",
       "\n",
       "    .dataframe thead th {\n",
       "        text-align: right;\n",
       "    }\n",
       "</style>\n",
       "<table border=\"1\" class=\"dataframe\">\n",
       "  <thead>\n",
       "    <tr style=\"text-align: right;\">\n",
       "      <th></th>\n",
       "      <th>sepal length (cm)</th>\n",
       "      <th>sepal width (cm)</th>\n",
       "      <th>petal length (cm)</th>\n",
       "      <th>petal width (cm)</th>\n",
       "      <th>target</th>\n",
       "    </tr>\n",
       "  </thead>\n",
       "  <tbody>\n",
       "    <tr>\n",
       "      <th>0</th>\n",
       "      <td>5.1</td>\n",
       "      <td>3.5</td>\n",
       "      <td>1.4</td>\n",
       "      <td>0.2</td>\n",
       "      <td>0</td>\n",
       "    </tr>\n",
       "    <tr>\n",
       "      <th>1</th>\n",
       "      <td>4.9</td>\n",
       "      <td>3.0</td>\n",
       "      <td>1.4</td>\n",
       "      <td>0.2</td>\n",
       "      <td>0</td>\n",
       "    </tr>\n",
       "    <tr>\n",
       "      <th>2</th>\n",
       "      <td>4.7</td>\n",
       "      <td>3.2</td>\n",
       "      <td>1.3</td>\n",
       "      <td>0.2</td>\n",
       "      <td>0</td>\n",
       "    </tr>\n",
       "    <tr>\n",
       "      <th>3</th>\n",
       "      <td>4.6</td>\n",
       "      <td>3.1</td>\n",
       "      <td>1.5</td>\n",
       "      <td>0.2</td>\n",
       "      <td>0</td>\n",
       "    </tr>\n",
       "    <tr>\n",
       "      <th>4</th>\n",
       "      <td>5.0</td>\n",
       "      <td>3.6</td>\n",
       "      <td>1.4</td>\n",
       "      <td>0.2</td>\n",
       "      <td>0</td>\n",
       "    </tr>\n",
       "    <tr>\n",
       "      <th>5</th>\n",
       "      <td>5.4</td>\n",
       "      <td>3.9</td>\n",
       "      <td>1.7</td>\n",
       "      <td>0.4</td>\n",
       "      <td>0</td>\n",
       "    </tr>\n",
       "    <tr>\n",
       "      <th>6</th>\n",
       "      <td>4.6</td>\n",
       "      <td>3.4</td>\n",
       "      <td>1.4</td>\n",
       "      <td>0.3</td>\n",
       "      <td>0</td>\n",
       "    </tr>\n",
       "    <tr>\n",
       "      <th>7</th>\n",
       "      <td>5.0</td>\n",
       "      <td>3.4</td>\n",
       "      <td>1.5</td>\n",
       "      <td>0.2</td>\n",
       "      <td>0</td>\n",
       "    </tr>\n",
       "    <tr>\n",
       "      <th>8</th>\n",
       "      <td>4.4</td>\n",
       "      <td>2.9</td>\n",
       "      <td>1.4</td>\n",
       "      <td>0.2</td>\n",
       "      <td>0</td>\n",
       "    </tr>\n",
       "    <tr>\n",
       "      <th>9</th>\n",
       "      <td>4.9</td>\n",
       "      <td>3.1</td>\n",
       "      <td>1.5</td>\n",
       "      <td>0.1</td>\n",
       "      <td>0</td>\n",
       "    </tr>\n",
       "  </tbody>\n",
       "</table>\n",
       "</div>"
      ],
      "text/plain": [
       "   sepal length (cm)  sepal width (cm)  petal length (cm)  petal width (cm)  \\\n",
       "0                5.1               3.5                1.4               0.2   \n",
       "1                4.9               3.0                1.4               0.2   \n",
       "2                4.7               3.2                1.3               0.2   \n",
       "3                4.6               3.1                1.5               0.2   \n",
       "4                5.0               3.6                1.4               0.2   \n",
       "5                5.4               3.9                1.7               0.4   \n",
       "6                4.6               3.4                1.4               0.3   \n",
       "7                5.0               3.4                1.5               0.2   \n",
       "8                4.4               2.9                1.4               0.2   \n",
       "9                4.9               3.1                1.5               0.1   \n",
       "\n",
       "   target  \n",
       "0       0  \n",
       "1       0  \n",
       "2       0  \n",
       "3       0  \n",
       "4       0  \n",
       "5       0  \n",
       "6       0  \n",
       "7       0  \n",
       "8       0  \n",
       "9       0  "
      ]
     },
     "execution_count": 11,
     "metadata": {},
     "output_type": "execute_result"
    },
    {
     "name": "stdout",
     "output_type": "stream",
     "text": [
      "<class 'pandas.core.frame.DataFrame'>\n",
      "RangeIndex: 150 entries, 0 to 149\n",
      "Data columns (total 5 columns):\n",
      "sepal length (cm)    150 non-null float64\n",
      "sepal width (cm)     150 non-null float64\n",
      "petal length (cm)    150 non-null float64\n",
      "petal width (cm)     150 non-null float64\n",
      "target               150 non-null int64\n",
      "dtypes: float64(4), int64(1)\n",
      "memory usage: 5.9 KB\n"
     ]
    },
    {
     "data": {
      "text/plain": [
       "array([0, 1, 2])"
      ]
     },
     "execution_count": 11,
     "metadata": {},
     "output_type": "execute_result"
    }
   ],
   "source": [
    "data = datasets.load_iris()\n",
    "df = pd.DataFrame(data.data, columns=data.feature_names)\n",
    "df['target'] = data.target\n",
    "df.head(10)\n",
    "df.info()\n",
    "np.unique(df.target)"
   ]
  },
  {
   "cell_type": "code",
   "execution_count": 39,
   "metadata": {},
   "outputs": [
    {
     "name": "stdout",
     "output_type": "stream",
     "text": [
      "Mean Vector class 0: [5.006 3.428 1.462 0.246]\n",
      "\n",
      "Mean Vector class 1: [5.936 2.77  4.26  1.326]\n",
      "\n",
      "Mean Vector class 2: [6.588 2.974 5.552 2.026]\n",
      "\n"
     ]
    }
   ],
   "source": [
    "np.set_printoptions(precision=4)\n",
    "mean_vectors = []\n",
    "# 每一类 在每一个维度上均值\n",
    "for i in range(3):\n",
    "    mean_vectors.append(df.loc[df.target == i, df.columns[:-1]].mean(axis=0).values)\n",
    "    print('Mean Vector class %s: %s\\n' %(i, mean_vectors[i]))\n"
   ]
  },
  {
   "cell_type": "code",
   "execution_count": null,
   "metadata": {},
   "outputs": [],
   "source": [
    "# -  <img src=\"img/5.png\" alt=\"FAO\" width=\"330\" >"
   ]
  },
  {
   "cell_type": "markdown",
   "metadata": {},
   "source": [
    "### 计算两个 4×4 维矩阵：类内散布矩阵和类间散布矩阵\n",
    "![avatar](img/5.png)\n"
   ]
  },
  {
   "cell_type": "code",
   "execution_count": 41,
   "metadata": {},
   "outputs": [
    {
     "data": {
      "text/plain": [
       "array([[38.9562, 13.63  , 24.6246,  5.645 ],\n",
       "       [13.63  , 16.962 ,  8.1208,  4.8084],\n",
       "       [24.6246,  8.1208, 27.2226,  6.2718],\n",
       "       [ 5.645 ,  4.8084,  6.2718,  6.1566]])"
      ]
     },
     "execution_count": 41,
     "metadata": {},
     "output_type": "execute_result"
    }
   ],
   "source": [
    "S_W = np.zeros((4, 4))\n",
    "for i, mv in zip(range(3), mean_vectors):\n",
    "    class_sc_mat = np.zeros((4,4))\n",
    "    for row in df.loc[df.target == i, df.columns[:-1]].values:\n",
    "        # 转化为列向量\n",
    "        row, mv = row.reshape(4, 1), mv.reshape(4, 1)\n",
    "        class_sc_mat += np.dot((row - mv), (row - mv).T)\n",
    "    S_W += class_sc_mat\n",
    "S_W"
   ]
  },
  {
   "cell_type": "markdown",
   "metadata": {},
   "source": [
    "-  <img src=\"img/6.png\" alt=\"FAO\" width=\"430\" >"
   ]
  },
  {
   "cell_type": "code",
   "execution_count": 45,
   "metadata": {},
   "outputs": [
    {
     "data": {
      "text/plain": [
       "array([[ 63.2121, -19.9527, 165.2484,  71.2793],\n",
       "       [-19.9527,  11.3449, -57.2396, -22.9327],\n",
       "       [165.2484, -57.2396, 437.1028, 186.774 ],\n",
       "       [ 71.2793, -22.9327, 186.774 ,  80.4133]])"
      ]
     },
     "execution_count": 45,
     "metadata": {},
     "output_type": "execute_result"
    }
   ],
   "source": [
    "S_B = np.zeros((4, 4))\n",
    "# 计算每个特征的均值\n",
    "overall_mean = np.mean(df.loc[:, df.columns[:-1]], axis=0).values\n",
    "for i, mv in zip(range(3), mean_vectors):\n",
    "    num = len(df.loc[df.target == i, df.columns[:-1]])\n",
    "    overall_mean_, mv_ = overall_mean.reshape(4, 1), mv.reshape(4, 1)\n",
    "    S_B += num * np.dot((mv_ - overall_mean_), (mv_ - overall_mean_).T)\n",
    "\n",
    "S_B"
   ]
  },
  {
   "cell_type": "markdown",
   "metadata": {},
   "source": [
    "-  <img src=\"img/7.png\" alt=\"FAO\" width=\"230\" >"
   ]
  },
  {
   "cell_type": "code",
   "execution_count": 61,
   "metadata": {},
   "outputs": [
    {
     "data": {
      "text/plain": [
       "array([ 3.2192e+01+0.000e+00j,  2.8539e-01+0.000e+00j,\n",
       "       -2.8907e-15+2.366e-15j, -2.8907e-15-2.366e-15j])"
      ]
     },
     "execution_count": 61,
     "metadata": {},
     "output_type": "execute_result"
    },
    {
     "data": {
      "text/plain": [
       "array([[-0.2087+0.j    , -0.0065+0.j    , -0.1416+0.5257j,\n",
       "        -0.1416-0.5257j],\n",
       "       [-0.3862+0.j    , -0.5866+0.j    , -0.2125-0.2304j,\n",
       "        -0.2125+0.2304j],\n",
       "       [ 0.554 +0.j    ,  0.2526+0.j    , -0.2703-0.2289j,\n",
       "        -0.2703+0.2289j],\n",
       "       [ 0.7074+0.j    , -0.7695+0.j    ,  0.6927+0.j    ,\n",
       "         0.6927-0.j    ]])"
      ]
     },
     "execution_count": 61,
     "metadata": {},
     "output_type": "execute_result"
    },
    {
     "name": "stdout",
     "output_type": "stream",
     "text": [
      "\n",
      "Eigenvector 1: \n",
      "[[-0.2087]\n",
      " [-0.3862]\n",
      " [ 0.554 ]\n",
      " [ 0.7074]]\n",
      "Eigenvalue 1: 3.22e+01\n",
      "\n",
      "Eigenvector 2: \n",
      "[[-0.0065]\n",
      " [-0.5866]\n",
      " [ 0.2526]\n",
      " [-0.7695]]\n",
      "Eigenvalue 2: 2.85e-01\n",
      "\n",
      "Eigenvector 3: \n",
      "[[-0.1416]\n",
      " [-0.2125]\n",
      " [-0.2703]\n",
      " [ 0.6927]]\n",
      "Eigenvalue 3: -2.89e-15\n",
      "\n",
      "Eigenvector 4: \n",
      "[[-0.1416]\n",
      " [-0.2125]\n",
      " [-0.2703]\n",
      " [ 0.6927]]\n",
      "Eigenvalue 4: -2.89e-15\n"
     ]
    }
   ],
   "source": [
    "# eig_vals 为特征值 eig_vecs为特征向量\n",
    "eig_vals, eig_vecs = np.linalg.eig(np.dot(np.linalg.inv(S_W), S_B))\n",
    "# eig_vals, eig_vecs = np.linalg.eig(np.linalg.inv(S_W).dot(S_B))\n",
    "eig_vals\n",
    "eig_vecs\n",
    "for i in range(len(eig_vals)):\n",
    "    eigvec_sc = eig_vecs[:,i].reshape(4,1)   \n",
    "    print('\\nEigenvector {}: \\n{}'.format(i+1, eigvec_sc.real))\n",
    "    print('Eigenvalue {:}: {:.2e}'.format(i+1, eig_vals[i].real))"
   ]
  },
  {
   "cell_type": "markdown",
   "metadata": {},
   "source": [
    "### 特征值与特征向量：\n",
    "- 特征向量：表示映射方向\n",
    "- 特征值：特征向量的重要程度"
   ]
  },
  {
   "cell_type": "code",
   "execution_count": 67,
   "metadata": {},
   "outputs": [
    {
     "data": {
      "text/plain": [
       "[(32.191929198278025,\n",
       "  array([-0.2087+0.j, -0.3862+0.j,  0.554 +0.j,  0.7074+0.j])),\n",
       " (0.28539104262306647,\n",
       "  array([-0.0065+0.j, -0.5866+0.j,  0.2526+0.j, -0.7695+0.j])),\n",
       " (3.7355530009793716e-15,\n",
       "  array([-0.1416+0.5257j, -0.2125-0.2304j, -0.2703-0.2289j,  0.6927+0.j    ])),\n",
       " (3.7355530009793716e-15,\n",
       "  array([-0.1416-0.5257j, -0.2125+0.2304j, -0.2703+0.2289j,  0.6927-0.j    ]))]"
      ]
     },
     "execution_count": 67,
     "metadata": {},
     "output_type": "execute_result"
    }
   ],
   "source": [
    "# 特征值, 特征向量\n",
    "eig_pairs = [(np.abs(eig_vals[i]), eig_vecs[:,i])  for i in range(len(eig_vals))]\n",
    "# 按照元祖第一个值 从大到小排序\n",
    "eig_pairs = sorted(eig_pairs, key=lambda k: k[0], reverse=True)\n",
    "\n",
    "eig_pairs"
   ]
  },
  {
   "cell_type": "code",
   "execution_count": 56,
   "metadata": {},
   "outputs": [
    {
     "name": "stdout",
     "output_type": "stream",
     "text": [
      "eigenvalue 1: 99.12%\n",
      "eigenvalue 2: 0.88%\n",
      "eigenvalue 3: 0.00%\n",
      "eigenvalue 4: 0.00%\n"
     ]
    }
   ],
   "source": [
    "# 可解释性方差 查看每个特征值占比\n",
    "eigv_sum = sum(eig_vals)\n",
    "for i,j in enumerate(eig_pairs):\n",
    "    print('eigenvalue {0:}: {1:.2%}'.format(i+1, (j[0]/eigv_sum).real))"
   ]
  },
  {
   "cell_type": "code",
   "execution_count": 73,
   "metadata": {},
   "outputs": [
    {
     "name": "stdout",
     "output_type": "stream",
     "text": [
      "Matrix W:\n",
      " [[-0.2087 -0.0065]\n",
      " [-0.3862 -0.5866]\n",
      " [ 0.554   0.2526]\n",
      " [ 0.7074 -0.7695]]\n"
     ]
    }
   ],
   "source": [
    "# 因为前列特征几乎涵盖了所有的特征 所以取前两维\n",
    "W = np.hstack((eig_pairs[0][1].reshape(4,1), eig_pairs[1][1].reshape(4,1)))\n",
    "print('Matrix W:\\n', W.real)"
   ]
  },
  {
   "cell_type": "code",
   "execution_count": 74,
   "metadata": {},
   "outputs": [
    {
     "data": {
      "text/plain": [
       "array([[-1.4992, -1.8868],\n",
       "       [-1.2644, -1.5921],\n",
       "       [-1.3553, -1.7334],\n",
       "       [-1.185 , -1.6236],\n",
       "       [-1.517 , -1.9448],\n",
       "       [-1.4086, -2.2015],\n",
       "       [-1.2855, -1.9018],\n",
       "       [-1.3843, -1.8022],\n",
       "       [-1.1214, -1.5302],\n",
       "       [-1.3183, -1.5486],\n",
       "       [-1.5837, -1.9808],\n",
       "       [-1.2872, -1.7756],\n",
       "       [-1.3142, -1.5145],\n",
       "       [-1.3761, -1.587 ],\n",
       "       [-1.9492, -2.2351],\n",
       "       [-1.7752, -2.5473],\n",
       "       [-1.6302, -2.3025],\n",
       "       [-1.4285, -1.9637],\n",
       "       [-1.5034, -2.0678],\n",
       "       [-1.4889, -2.1144],\n",
       "       [-1.357 , -1.7543],\n",
       "       [-1.3796, -2.1327],\n",
       "       [-1.6551, -2.0432],\n",
       "       [-1.0436, -1.9245],\n",
       "       [-1.121 , -1.6999],\n",
       "       [-1.1744, -1.5423],\n",
       "       [-1.1874, -1.9308],\n",
       "       [-1.4647, -1.8622],\n",
       "       [-1.4815, -1.8287],\n",
       "       [-1.189 , -1.6576],\n",
       "       [-1.1713, -1.5996],\n",
       "       [-1.3263, -1.9587],\n",
       "       [-1.7671, -2.1372],\n",
       "       [-1.853 , -2.3   ],\n",
       "       [-1.2476, -1.6255],\n",
       "       [-1.4733, -1.7606],\n",
       "       [-1.6381, -1.9146],\n",
       "       [-1.5668, -1.8672],\n",
       "       [-1.2154, -1.6141],\n",
       "       [-1.4052, -1.8028],\n",
       "       [-1.463 , -1.9883],\n",
       "       [-0.8952, -1.2811],\n",
       "       [-1.2926, -1.7315],\n",
       "       [-1.0846, -2.1434],\n",
       "       [-1.1966, -2.0903],\n",
       "       [-1.1728, -1.6684],\n",
       "       [-1.5043, -2.0122],\n",
       "       [-1.279 , -1.7075],\n",
       "       [-1.5628, -1.9801],\n",
       "       [-1.4011, -1.7688],\n",
       "       [ 0.8971, -1.8131],\n",
       "       [ 0.9823, -1.9366],\n",
       "       [ 1.1381, -1.7802],\n",
       "       [ 1.0993, -1.3752],\n",
       "       [ 1.1713, -1.6774],\n",
       "       [ 1.1414, -1.5435],\n",
       "       [ 1.1461, -2.0211],\n",
       "       [ 0.5859, -1.3759],\n",
       "       [ 0.9703, -1.5828],\n",
       "       [ 1.0227, -1.7101],\n",
       "       [ 0.8303, -1.0914],\n",
       "       [ 0.9977, -1.8918],\n",
       "       [ 0.8213, -1.0889],\n",
       "       [ 1.2008, -1.6312],\n",
       "       [ 0.6251, -1.8288],\n",
       "       [ 0.8321, -1.8282],\n",
       "       [ 1.2265, -1.8141],\n",
       "       [ 0.7253, -1.3557],\n",
       "       [ 1.4102, -1.3487],\n",
       "       [ 0.8043, -1.3645],\n",
       "       [ 1.4651, -2.0884],\n",
       "       [ 0.7809, -1.6724],\n",
       "       [ 1.4951, -1.4243],\n",
       "       [ 1.098 , -1.4187],\n",
       "       [ 0.8459, -1.6572],\n",
       "       [ 0.8916, -1.7689],\n",
       "       [ 1.1487, -1.5519],\n",
       "       [ 1.4154, -1.8489],\n",
       "       [ 1.1816, -1.758 ],\n",
       "       [ 0.4524, -1.4479],\n",
       "       [ 0.8084, -1.3305],\n",
       "       [ 0.6822, -1.2788],\n",
       "       [ 0.756 , -1.5601],\n",
       "       [ 1.662 , -1.5661],\n",
       "       [ 1.2683, -1.8128],\n",
       "       [ 1.0593, -2.1283],\n",
       "       [ 1.0691, -1.8294],\n",
       "       [ 1.1539, -1.2794],\n",
       "       [ 0.8634, -1.7612],\n",
       "       [ 1.022 , -1.4925],\n",
       "       [ 1.1343, -1.3732],\n",
       "       [ 1.1068, -1.7151],\n",
       "       [ 0.85  , -1.4762],\n",
       "       [ 0.6036, -1.3179],\n",
       "       [ 1.0347, -1.56  ],\n",
       "       [ 0.8272, -1.6596],\n",
       "       [ 0.9366, -1.6779],\n",
       "       [ 0.8876, -1.6559],\n",
       "       [ 0.41  , -1.5886],\n",
       "       [ 0.9198, -1.6445],\n",
       "       [ 2.5029, -2.3852],\n",
       "       [ 1.916 , -1.7956],\n",
       "       [ 2.1134, -1.9319],\n",
       "       [ 1.9406, -1.713 ],\n",
       "       [ 2.254 , -2.0302],\n",
       "       [ 2.3969, -1.7584],\n",
       "       [ 1.7072, -1.6701],\n",
       "       [ 2.1197, -1.5427],\n",
       "       [ 2.1224, -1.4304],\n",
       "       [ 2.2546, -2.5418],\n",
       "       [ 1.6475, -2.1705],\n",
       "       [ 1.9015, -1.749 ],\n",
       "       [ 1.9544, -2.031 ],\n",
       "       [ 2.0294, -1.7799],\n",
       "       [ 2.231 , -2.239 ],\n",
       "       [ 1.9914, -2.3501],\n",
       "       [ 1.8049, -1.7982],\n",
       "       [ 2.1932, -2.2801],\n",
       "       [ 2.8381, -1.6026],\n",
       "       [ 1.729 , -1.2211],\n",
       "       [ 2.1086, -2.2524],\n",
       "       [ 1.879 , -1.9804],\n",
       "       [ 2.4379, -1.5395],\n",
       "       [ 1.6301, -1.7725],\n",
       "       [ 1.9703, -2.1558],\n",
       "       [ 1.8585, -1.7938],\n",
       "       [ 1.5569, -1.8557],\n",
       "       [ 1.556 , -1.9471],\n",
       "       [ 2.1706, -1.8858],\n",
       "       [ 1.6835, -1.5731],\n",
       "       [ 2.0974, -1.6122],\n",
       "       [ 1.8437, -2.2032],\n",
       "       [ 2.2413, -1.9628],\n",
       "       [ 1.49  , -1.5498],\n",
       "       [ 1.8153, -1.2279],\n",
       "       [ 2.2405, -2.0392],\n",
       "       [ 2.1719, -2.468 ],\n",
       "       [ 1.7871, -1.8562],\n",
       "       [ 1.5214, -1.9717],\n",
       "       [ 1.8395, -2.1156],\n",
       "       [ 2.2043, -2.2946],\n",
       "       [ 1.8148, -2.3452],\n",
       "       [ 1.916 , -1.7956],\n",
       "       [ 2.2403, -2.2012],\n",
       "       [ 2.2532, -2.4636],\n",
       "       [ 1.9506, -2.26  ],\n",
       "       [ 1.8334, -1.7068],\n",
       "       [ 1.7801, -2.0279],\n",
       "       [ 2.0113, -2.4409],\n",
       "       [ 1.7085, -1.8953]])"
      ]
     },
     "execution_count": 74,
     "metadata": {},
     "output_type": "execute_result"
    }
   ],
   "source": [
    "X_lda = np.dot(df.iloc[:, :-1].values, W)\n",
    "X_lda"
   ]
  },
  {
   "cell_type": "code",
   "execution_count": 76,
   "metadata": {},
   "outputs": [
    {
     "name": "stderr",
     "output_type": "stream",
     "text": [
      "/anaconda3/lib/python3.7/site-packages/matplotlib/cbook/__init__.py:424: MatplotlibDeprecationWarning: \n",
      "Passing one of 'on', 'true', 'off', 'false' as a boolean is deprecated; use an actual boolean (True/False) instead.\n",
      "  warn_deprecated(\"2.2\", \"Passing one of 'on', 'true', 'off', 'false' as a \"\n"
     ]
    },
    {
     "data": {
      "image/png": "[encoded data removed]",
      "text/plain": [
       "<Figure size 576x396 with 1 Axes>"
      ]
     },
     "metadata": {},
     "output_type": "display_data"
    }
   ],
   "source": [
    "from matplotlib import pyplot as plt\n",
    "\n",
    "def plot_step_lda():\n",
    "\n",
    "    ax = plt.subplot(111)\n",
    "    for label,marker,color in zip(\n",
    "        range(3),('^', 's', 'o'),('blue', 'red', 'green')):\n",
    "\n",
    "        plt.scatter(x=X_lda[:,0].real[df.target == label],\n",
    "                y=X_lda[:,1].real[df.target == label],\n",
    "                marker=marker,\n",
    "                color=color,\n",
    "                alpha=0.5,\n",
    "                label=label_dict[label]\n",
    "                )\n",
    "\n",
    "    plt.xlabel('LD1')\n",
    "    plt.ylabel('LD2')\n",
    "\n",
    "    leg = plt.legend(loc='upper right', fancybox=True)\n",
    "    leg.get_frame().set_alpha(0.5)\n",
    "    plt.title('LDA: Iris projection onto the first 2 linear discriminants')\n",
    "\n",
    "    # hide axis ticks\n",
    "    plt.tick_params(axis=\"both\", which=\"both\", bottom=\"off\", top=\"off\",  \n",
    "            labelbottom=\"on\", left=\"off\", right=\"off\", labelleft=\"on\")\n",
    "\n",
    "    # remove axis spines\n",
    "    ax.spines[\"top\"].set_visible(False)  \n",
    "    ax.spines[\"right\"].set_visible(False)\n",
    "    ax.spines[\"bottom\"].set_visible(False)\n",
    "    ax.spines[\"left\"].set_visible(False)    \n",
    "\n",
    "    plt.grid()\n",
    "    plt.tight_layout\n",
    "    plt.show()\n",
    "\n",
    "label_dict = {0: 'Setosa', 1: 'Versicolor', 2:'Virginica'}\n",
    "plot_step_lda()"
   ]
  },
  {
   "cell_type": "code",
   "execution_count": 78,
   "metadata": {},
   "outputs": [],
   "source": [
    "from sklearn.discriminant_analysis import LinearDiscriminantAnalysis as LDA\n",
    "\n",
    "# LDA\n",
    "sklearn_lda = LDA(n_components=2)\n",
    "X_lda_sklearn = sklearn_lda.fit_transform(df.iloc[:, :-1], df.target)"
   ]
  },
  {
   "cell_type": "code",
   "execution_count": 81,
   "metadata": {},
   "outputs": [],
   "source": [
    "def plot_scikit_lda(X, title):\n",
    "\n",
    "    ax = plt.subplot(111)\n",
    "    for label,marker,color in zip(\n",
    "        range(3),('^', 's', 'o'),('blue', 'red', 'green')):\n",
    "\n",
    "        plt.scatter(x=X[:,0][df.target == label],\n",
    "                    y=X[:,1][df.target == label] * -1, # flip the figure\n",
    "                    marker=marker,\n",
    "                    color=color,\n",
    "                    alpha=0.5,\n",
    "                    label=label_dict[label])\n",
    "\n",
    "    plt.xlabel('LD1')\n",
    "    plt.ylabel('LD2')\n",
    "\n",
    "    leg = plt.legend(loc='upper right', fancybox=True)\n",
    "    leg.get_frame().set_alpha(0.5)\n",
    "    plt.title(title)\n",
    "\n",
    "    # hide axis ticks\n",
    "    plt.tick_params(axis=\"both\", which=\"both\", bottom=\"off\", top=\"off\",  \n",
    "            labelbottom=\"on\", left=\"off\", right=\"off\", labelleft=\"on\")\n",
    "\n",
    "    # remove axis spines\n",
    "    ax.spines[\"top\"].set_visible(False)  \n",
    "    ax.spines[\"right\"].set_visible(False)\n",
    "    ax.spines[\"bottom\"].set_visible(False)\n",
    "    ax.spines[\"left\"].set_visible(False)    \n",
    "\n",
    "    plt.grid()\n",
    "    plt.tight_layout\n",
    "    plt.show()\n"
   ]
  },
  {
   "cell_type": "code",
   "execution_count": 82,
   "metadata": {},
   "outputs": [
    {
     "name": "stderr",
     "output_type": "stream",
     "text": [
      "/anaconda3/lib/python3.7/site-packages/matplotlib/cbook/__init__.py:424: MatplotlibDeprecationWarning: \n",
      "Passing one of 'on', 'true', 'off', 'false' as a boolean is deprecated; use an actual boolean (True/False) instead.\n",
      "  warn_deprecated(\"2.2\", \"Passing one of 'on', 'true', 'off', 'false' as a \"\n"
     ]
    },
    {
     "data": {
      "image/png": "[encoded data removed]",
      "text/plain": [
       "<Figure size 576x396 with 1 Axes>"
      ]
     },
     "metadata": {},
     "output_type": "display_data"
    },
    {
     "data": {
      "image/png": "[encoded data removed]",
      "text/plain": [
       "<Figure size 576x396 with 1 Axes>"
      ]
     },
     "metadata": {},
     "output_type": "display_data"
    }
   ],
   "source": [
    "plot_step_lda()\n",
    "plot_scikit_lda(X_lda_sklearn, title='Default LDA via scikit-learn')"
   ]
  },
  {
   "cell_type": "code",
   "execution_count": null,
   "metadata": {},
   "outputs": [],
   "source": []
  }
 ],
 "metadata": {
  "kernelspec": {
   "display_name": "Python 3",
   "language": "python",
   "name": "python3"
  },
  "language_info": {
   "codemirror_mode": {
    "name": "ipython",
    "version": 3
   },
   "file_extension": ".py",
   "mimetype": "text/x-python",
   "name": "python",
   "nbconvert_exporter": "python",
   "pygments_lexer": "ipython3",
   "version": "3.7.3"
  }
 },
 "nbformat": 4,
 "nbformat_minor": 2
}
