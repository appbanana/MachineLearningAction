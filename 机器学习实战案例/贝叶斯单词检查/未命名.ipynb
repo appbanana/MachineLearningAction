{
 "cells": [
  {
   "cell_type": "code",
   "execution_count": 43,
   "metadata": {},
   "outputs": [],
   "source": [
    "import numpy as np\n",
    "import pandas as pd\n",
    "import scipy as sp\n",
    "from sklearn import model_selection, metrics, datasets, naive_bayes, preprocessing, pipeline\n",
    "import matplotlib.pyplot as plt\n",
    "from matplotlib import colors, patches\n",
    "from IPython.core.interactiveshell import InteractiveShell\n"
   ]
  },
  {
   "cell_type": "code",
   "execution_count": 2,
   "metadata": {},
   "outputs": [],
   "source": [
    "# 配置项\n",
    "%config IPCompleter.greedy=True\n",
    "\n",
    "# 这个要放到设置中文之前否则还是小方框\n",
    "plt.style.use(\"seaborn\")\n",
    "\n",
    "# 指定默认字体 用来正常显示中文标签\n",
    "plt.rcParams['font.sans-serif'] = ['SimHei']\n",
    "# 解决保存图像是负号'-'显示为方块的问题\n",
    "plt.rcParams['axes.unicode_minus'] = False\n",
    "\n",
    "# #全部行都能输出\n",
    "InteractiveShell.ast_node_interactivity = \"all\""
   ]
  },
  {
   "cell_type": "markdown",
   "metadata": {},
   "source": [
    "### 思路:求解argmaxc P(c|w) = argmaxc P(w|c) * P(c) / P(w)\n",
    "- P(c) 文章中单词被拼写正确的概率\n",
    "- P(w|c) 是已知正确的单词c的前提下,被拼错成w单词的概率\n",
    "- argmaxc, 用来枚举所有可能的 c 并且选取概率最大的\n"
   ]
  },
  {
   "cell_type": "code",
   "execution_count": 21,
   "metadata": {},
   "outputs": [],
   "source": [
    "def words(text):\n",
    "    \"\"\"\n",
    "    将所有单词全部提前出来,并且剔除特殊字符\n",
    "    \"\"\"\n",
    "#     flag 支持re.I 不区分大小写\n",
    "#     re.I(re.IGNORECASE) 使匹配对大小写不敏感\n",
    "#     re.L(re.LOCAL) 做本地化识别（locale-aware）匹配\n",
    "#     re.M(re.MULTILINE) 多行匹配，影响 ^ 和 $\n",
    "#     re.S(re.DOTALL) 使 . 匹配包括换行在内的所有字符\n",
    "#     re.U(re.UNICODE) 根据Unicode字符集解析字符。这个标志影响 \\w, \\W, \\b, \\B.\n",
    "#     re.X(re.VERBOSE) 该标志通过给予你更灵活的格式以便你将正则表达式写得更易于理解。\n",
    "    return re.findall('[a-z]+', text.lower(), flags=0)\n",
    "\n",
    "def train(features):\n",
    "    \"\"\"\n",
    "    统计单词出现的频次\n",
    "    要是遇到我们从来没有过见过的新词怎么办. 假如说一个词拼写完全正确, 但是语料库中没有包含这个词, \n",
    "    从而这个词也永远不会出现在训练集中. 于是, 我们就要返回出现这个词的概率是0. 这个情况不太妙, \n",
    "    因为概率为0这个代表了这个事件绝对不可能发生, 而在我们的概率模型中, \n",
    "    我们期望用一个很小的概率来代表这种情况. lambda: 1\n",
    "    \"\"\"\n",
    "    model = collections.defaultdict(lambda: 1)\n",
    "    for f in features:\n",
    "        model[f] += 1\n",
    "    return model"
   ]
  },
  {
   "cell_type": "code",
   "execution_count": 22,
   "metadata": {},
   "outputs": [],
   "source": [
    "# 读取单词\n",
    "NWORDS = train(words(open('big.txt').read()))\n",
    " \n",
    "alphabet = 'abcdefghijklmnopqrstuvwxyz'"
   ]
  },
  {
   "cell_type": "markdown",
   "metadata": {},
   "source": [
    "### 编辑距离\n",
    "两个词之间的编辑距离定义为了使用插入(在词中插入一个字母),删除(从词中删除一个字母),\n",
    "交换(交换相邻的两个字母),替换(将一个字母天幻成另外一个字母)的操作从一个词变成另外一个词"
   ]
  },
  {
   "cell_type": "code",
   "execution_count": 28,
   "metadata": {},
   "outputs": [],
   "source": [
    "# 返回所有与单词w编辑距离为1的集合\n",
    "def edits1(word):\n",
    "    n = len(word)\n",
    "    # 在单词中插入一个字母\n",
    "    insert_words = [word[:i] + c + word[i:] for i in range(n+1) for c in alphabet]\n",
    "    # 从单词删除一个字母\n",
    "    delete_words = [word[:i] + word[i+1:] for i in range(n)]\n",
    "    # 交换某一个字符\n",
    "    change_words = [word[:i] + word[i+1] + word[i] + word[i+2:] for i in range(n-1)]\n",
    "    # 替换其中的某一个字符\n",
    "    replace_words = [word[:i] + c + word[i+1:] for i in range(n) for c in alphabet]\n",
    "    # 去重返回\n",
    "    return set(insert_words + delete_words + change_words + replace_words)"
   ]
  },
  {
   "cell_type": "code",
   "execution_count": 36,
   "metadata": {},
   "outputs": [],
   "source": [
    "# 返回所有与候选单词编辑距离为2的单词 这样写比我想象中的高明\n",
    "def edits2(word):\n",
    "    return set(w2 for w1 in edits1(word) for w2 in edits1(w1))\n",
    "\n",
    "# edits2改进版 只返回资料库中存在的单词\n",
    "def known_edits2(word):\n",
    "    return set(w2 for w1 in edits1(word) for w2 in edits1(w1) if w2 in NWORDS)"
   ]
  },
  {
   "cell_type": "code",
   "execution_count": 33,
   "metadata": {},
   "outputs": [
    {
     "data": {
      "text/plain": [
       "114324"
      ]
     },
     "execution_count": 33,
     "metadata": {},
     "output_type": "execute_result"
    }
   ],
   "source": [
    "len(edits2('something'))"
   ]
  },
  {
   "cell_type": "code",
   "execution_count": 37,
   "metadata": {},
   "outputs": [],
   "source": [
    "# 识别单词,把正确的单词当做候选词\n",
    "def known(words):\n",
    "    return set(w for w in words if w in NWORDS)\n",
    "\n",
    "#如果known(set)非空, candidate 就会选取这个集合, 而不继续计算后面的\n",
    "def correct(word):\n",
    "    candidates = known([word]) or known(edits1(word)) or known_edits2(word) or [word]\n",
    "    return max(candidates, key=lambda w: NWORDS[w])"
   ]
  },
  {
   "cell_type": "code",
   "execution_count": 42,
   "metadata": {},
   "outputs": [
    {
     "data": {
      "text/plain": [
       "'know'"
      ]
     },
     "execution_count": 42,
     "metadata": {},
     "output_type": "execute_result"
    },
    {
     "data": {
      "text/plain": [
       "'apply'"
      ]
     },
     "execution_count": 42,
     "metadata": {},
     "output_type": "execute_result"
    },
    {
     "data": {
      "text/plain": [
       "'apple'"
      ]
     },
     "execution_count": 42,
     "metadata": {},
     "output_type": "execute_result"
    },
    {
     "data": {
      "text/plain": [
       "'less'"
      ]
     },
     "execution_count": 42,
     "metadata": {},
     "output_type": "execute_result"
    }
   ],
   "source": [
    "# 验证检查\n",
    "correct('knon')\n",
    "correct('appl')\n",
    "correct('apple')\n",
    "correct('tess')"
   ]
  },
  {
   "cell_type": "code",
   "execution_count": null,
   "metadata": {},
   "outputs": [],
   "source": []
  },
  {
   "cell_type": "code",
   "execution_count": null,
   "metadata": {},
   "outputs": [],
   "source": []
  },
  {
   "cell_type": "code",
   "execution_count": null,
   "metadata": {},
   "outputs": [],
   "source": []
  }
 ],
 "metadata": {
  "kernelspec": {
   "display_name": "Python 3",
   "language": "python",
   "name": "python3"
  },
  "language_info": {
   "codemirror_mode": {
    "name": "ipython",
    "version": 3
   },
   "file_extension": ".py",
   "mimetype": "text/x-python",
   "name": "python",
   "nbconvert_exporter": "python",
   "pygments_lexer": "ipython3",
   "version": "3.7.3"
  }
 },
 "nbformat": 4,
 "nbformat_minor": 2
}
