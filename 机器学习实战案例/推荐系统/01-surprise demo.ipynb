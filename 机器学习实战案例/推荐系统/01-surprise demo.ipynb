{
 "cells": [
  {
   "cell_type": "code",
   "execution_count": 1,
   "metadata": {},
   "outputs": [],
   "source": [
    "# 参考链接 https://blog.csdn.net/qq_40006058/article/details/85345058\n",
    "# 推荐算法理解 参考链接 http://tieba.baidu.com/p/5494769518?traceid="
   ]
  },
  {
   "cell_type": "code",
   "execution_count": 54,
   "metadata": {},
   "outputs": [],
   "source": [
    "import random\n",
    "import os\n",
    "import pandas as pd\n",
    "import numpy as np\n",
    "from surprise import SVD, Dataset, evaluate, print_perf, model_selection, Reader\n",
    "import surprise"
   ]
  },
  {
   "cell_type": "code",
   "execution_count": 17,
   "metadata": {},
   "outputs": [],
   "source": [
    "random.seed(66)"
   ]
  },
  {
   "cell_type": "code",
   "execution_count": 22,
   "metadata": {},
   "outputs": [],
   "source": [
    "data = Dataset.load_builtin('ml-100k')"
   ]
  },
  {
   "cell_type": "code",
   "execution_count": 25,
   "metadata": {},
   "outputs": [
    {
     "name": "stdout",
     "output_type": "stream",
     "text": [
      "Evaluating RMSE, MAE of algorithm SVD on 3 split(s).\n",
      "\n",
      "                  Fold 1  Fold 2  Fold 3  Mean    Std     \n",
      "RMSE (testset)    0.9460  0.9475  0.9397  0.9444  0.0034  \n",
      "MAE (testset)     0.7452  0.7466  0.7432  0.7450  0.0014  \n",
      "Fit time          3.64    3.75    3.70    3.70    0.04    \n",
      "Test time         0.30    0.29    0.28    0.29    0.01    \n"
     ]
    }
   ],
   "source": [
    "# SVD矩阵分解\n",
    "algo = surprise.SVD()\n",
    "# pref = surprise.evaluate(algo, data, measures=['rmse', 'mae'])\n",
    "# 3折交叉验证训练\n",
    "pref = model_selection.cross_validate(algo, data, measures=['rmse', 'mae'], cv=3, verbose=True)"
   ]
  },
  {
   "cell_type": "raw",
   "metadata": {},
   "source": [
    "pref"
   ]
  },
  {
   "cell_type": "code",
   "execution_count": 43,
   "metadata": {},
   "outputs": [],
   "source": [
    "### 划分训练集合测试集\n",
    "data = Dataset.load_builtin('ml-100k')\n",
    "train_data, test_data = model_selection.train_test_split(data, test_size=0.3, random_state=0)"
   ]
  },
  {
   "cell_type": "code",
   "execution_count": 44,
   "metadata": {},
   "outputs": [
    {
     "data": {
      "text/plain": [
       "<surprise.prediction_algorithms.matrix_factorization.SVD at 0x119fbb588>"
      ]
     },
     "execution_count": 44,
     "metadata": {},
     "output_type": "execute_result"
    }
   ],
   "source": [
    "algo = SVD()\n",
    "algo.fit(train_data)\n"
   ]
  },
  {
   "cell_type": "code",
   "execution_count": 46,
   "metadata": {},
   "outputs": [
    {
     "name": "stdout",
     "output_type": "stream",
     "text": [
      "RMSE: 0.9527\n"
     ]
    },
    {
     "data": {
      "text/plain": [
       "0.9527068145147576"
      ]
     },
     "execution_count": 46,
     "metadata": {},
     "output_type": "execute_result"
    }
   ],
   "source": [
    "pred = algo.test(test_data)\n",
    "surprise.accuracy.rmse(pred)"
   ]
  },
  {
   "cell_type": "markdown",
   "metadata": {},
   "source": [
    "### Train on a whole trainset and the predict() method\n"
   ]
  },
  {
   "cell_type": "code",
   "execution_count": 47,
   "metadata": {},
   "outputs": [
    {
     "name": "stdout",
     "output_type": "stream",
     "text": [
      "Computing the msd similarity matrix...\n",
      "Done computing similarity matrix.\n"
     ]
    },
    {
     "data": {
      "text/plain": [
       "<surprise.prediction_algorithms.knns.KNNBasic at 0x118e0b438>"
      ]
     },
     "execution_count": 47,
     "metadata": {},
     "output_type": "execute_result"
    }
   ],
   "source": [
    "data = Dataset.load_builtin('ml-100k')\n",
    "train_data = data.build_full_trainset()\n",
    "\n",
    "# 建立模型 训练\n",
    "algo = surprise.KNNBasic()\n",
    "# 训练模型\n",
    "algo.fit(train_data)"
   ]
  },
  {
   "cell_type": "code",
   "execution_count": 49,
   "metadata": {},
   "outputs": [
    {
     "name": "stdout",
     "output_type": "stream",
     "text": [
      "user: 196        item: 302        r_ui = 4.00   est = 4.06   {'actual_k': 40, 'was_impossible': False}\n"
     ]
    },
    {
     "data": {
      "text/plain": [
       "Prediction(uid='196', iid='302', r_ui=4, est=4.06292421377939, details={'actual_k': 40, 'was_impossible': False})"
      ]
     },
     "execution_count": 49,
     "metadata": {},
     "output_type": "execute_result"
    }
   ],
   "source": [
    "uid = str(196)  # 原始用户id\n",
    "iid = str(302)  # 原始物品ID\n",
    "# 预测用户(uid) 对电影(iid)的评分 r_ui 真实得分\n",
    "algo.predict(uid, iid, r_ui=4, verbose=True)"
   ]
  },
  {
   "cell_type": "markdown",
   "metadata": {},
   "source": [
    "### 加载自己的数据集"
   ]
  },
  {
   "cell_type": "code",
   "execution_count": 28,
   "metadata": {},
   "outputs": [],
   "source": [
    "# 指定文件所在路径\n",
    "file_path = os.path.expanduser('~/.surprise_data/ml-100k/ml-100k/u.data')\n",
    "# 告诉文本阅读器，文本的格式是怎么样的\n",
    "reader = Reader(line_format='user item rating timestamp', sep='\\t')\n",
    "# 加载数据\n",
    "data = Dataset.load_from_file(file_path, reader=reader)\n"
   ]
  },
  {
   "cell_type": "raw",
   "metadata": {},
   "source": [
    "model_selection.cross_validate(surprise.BaselineOnly(), data, measures=['rmse', 'mae'], cv=3, verbose=True)"
   ]
  },
  {
   "cell_type": "code",
   "execution_count": 51,
   "metadata": {},
   "outputs": [
    {
     "name": "stdout",
     "output_type": "stream",
     "text": [
      "Estimating biases using als...\n"
     ]
    },
    {
     "data": {
      "text/plain": [
       "<surprise.prediction_algorithms.baseline_only.BaselineOnly at 0x11b7a2278>"
      ]
     },
     "execution_count": 51,
     "metadata": {},
     "output_type": "execute_result"
    }
   ],
   "source": [
    "train_data, test_data = model_selection.train_test_split(data, test_size=0.3, random_state=0)\n",
    "# 给定用户和Item，给出基于baseline的估计值\n",
    "algo = surprise.BaselineOnly()\n",
    "algo.fit(train_data)"
   ]
  },
  {
   "cell_type": "code",
   "execution_count": 52,
   "metadata": {},
   "outputs": [
    {
     "name": "stdout",
     "output_type": "stream",
     "text": [
      "user: 196        item: 302        r_ui = 4.00   est = 3.53   {'was_impossible': False}\n"
     ]
    },
    {
     "data": {
      "text/plain": [
       "Prediction(uid=196, iid=302, r_ui=4, est=3.527671428571429, details={'was_impossible': False})"
      ]
     },
     "execution_count": 52,
     "metadata": {},
     "output_type": "execute_result"
    }
   ],
   "source": [
    "algo.predict(196, 302, 4, verbose=True)"
   ]
  },
  {
   "cell_type": "markdown",
   "metadata": {},
   "source": [
    "### 加载DataFrame格式的数据"
   ]
  },
  {
   "cell_type": "code",
   "execution_count": 56,
   "metadata": {},
   "outputs": [
    {
     "data": {
      "text/html": [
       "<div>\n",
       "<style scoped>\n",
       "    .dataframe tbody tr th:only-of-type {\n",
       "        vertical-align: middle;\n",
       "    }\n",
       "\n",
       "    .dataframe tbody tr th {\n",
       "        vertical-align: top;\n",
       "    }\n",
       "\n",
       "    .dataframe thead th {\n",
       "        text-align: right;\n",
       "    }\n",
       "</style>\n",
       "<table border=\"1\" class=\"dataframe\">\n",
       "  <thead>\n",
       "    <tr style=\"text-align: right;\">\n",
       "      <th></th>\n",
       "      <th>itemID</th>\n",
       "      <th>userID</th>\n",
       "      <th>rating</th>\n",
       "    </tr>\n",
       "  </thead>\n",
       "  <tbody>\n",
       "    <tr>\n",
       "      <th>0</th>\n",
       "      <td>1</td>\n",
       "      <td>9</td>\n",
       "      <td>3</td>\n",
       "    </tr>\n",
       "    <tr>\n",
       "      <th>1</th>\n",
       "      <td>1</td>\n",
       "      <td>32</td>\n",
       "      <td>2</td>\n",
       "    </tr>\n",
       "    <tr>\n",
       "      <th>2</th>\n",
       "      <td>1</td>\n",
       "      <td>2</td>\n",
       "      <td>4</td>\n",
       "    </tr>\n",
       "    <tr>\n",
       "      <th>3</th>\n",
       "      <td>2</td>\n",
       "      <td>45</td>\n",
       "      <td>3</td>\n",
       "    </tr>\n",
       "    <tr>\n",
       "      <th>4</th>\n",
       "      <td>2</td>\n",
       "      <td>user_foo</td>\n",
       "      <td>1</td>\n",
       "    </tr>\n",
       "  </tbody>\n",
       "</table>\n",
       "</div>"
      ],
      "text/plain": [
       "   itemID    userID  rating\n",
       "0       1         9       3\n",
       "1       1        32       2\n",
       "2       1         2       4\n",
       "3       2        45       3\n",
       "4       2  user_foo       1"
      ]
     },
     "execution_count": 56,
     "metadata": {},
     "output_type": "execute_result"
    }
   ],
   "source": [
    "# 制造数据\n",
    "ratings_dict = {'itemID': [1, 1, 1, 2, 2],\n",
    "                'userID': [9, 32, 2, 45, 'user_foo'],\n",
    "                'rating': [3, 2, 4, 3, 1]}\n",
    "df = pd.DataFrame(ratings_dict)\n",
    "df"
   ]
  },
  {
   "cell_type": "code",
   "execution_count": 59,
   "metadata": {},
   "outputs": [
    {
     "data": {
      "text/plain": [
       "<surprise.dataset.DatasetAutoFolds at 0x11af61390>"
      ]
     },
     "execution_count": 59,
     "metadata": {},
     "output_type": "execute_result"
    }
   ],
   "source": [
    "reader = surprise.Reader(rating_scale=(1, 5))\n",
    "data = Dataset.load_from_df(df, reader)\n",
    "data"
   ]
  },
  {
   "cell_type": "code",
   "execution_count": 60,
   "metadata": {},
   "outputs": [
    {
     "data": {
      "text/plain": [
       "{'test_rmse': array([0.90717444, 2.21240707, 3.        ]),\n",
       " 'test_mae': array([0.81337504, 2.20379093, 3.        ]),\n",
       " 'fit_time': (0.00016617774963378906,\n",
       "  8.296966552734375e-05,\n",
       "  5.5789947509765625e-05),\n",
       " 'test_time': (0.00010800361633300781,\n",
       "  6.461143493652344e-05,\n",
       "  3.1948089599609375e-05)}"
      ]
     },
     "execution_count": 60,
     "metadata": {},
     "output_type": "execute_result"
    }
   ],
   "source": [
    "# 根据训练集的分布特征随机给出一个预测值\n",
    "model_selection.cross_validate(surprise.NormalPredictor(), data, measures=['rmse', 'mae'], cv=3)"
   ]
  },
  {
   "cell_type": "markdown",
   "metadata": {},
   "source": [
    "### K折交叉验证"
   ]
  },
  {
   "cell_type": "code",
   "execution_count": 63,
   "metadata": {},
   "outputs": [
    {
     "name": "stdout",
     "output_type": "stream",
     "text": [
      "RMSE: 0.9372\n",
      "RMSE: 0.9240\n",
      "RMSE: 0.9199\n"
     ]
    }
   ],
   "source": [
    "# 加载数据\n",
    "data = Dataset.load_builtin('ml-100k')\n",
    "kf = model_selection.KFold(n_splits=3)\n",
    "algo = surprise.SVDpp()\n",
    "\n",
    "for train_data, test_data in kf.split(data):\n",
    "    # 训练 预测\n",
    "    algo.fit(train_data)\n",
    "    pred = algo.test(test_data)\n",
    "    \n",
    "    surprise.accuracy.rmse(pred, verbose=True)"
   ]
  },
  {
   "cell_type": "markdown",
   "metadata": {},
   "source": [
    "### PredefinedKFold 加载多个文件目录, eg: [train0, test0, train1, test1,...]"
   ]
  },
  {
   "cell_type": "code",
   "execution_count": 64,
   "metadata": {},
   "outputs": [],
   "source": [
    "files_dir = os.path.expanduser('~/.surprise_data/ml-100k/ml-100k/')\n",
    "reader = surprise.Reader('ml-100k')\n",
    "\n",
    "train_files = files_dir + 'u%d.base'\n",
    "test_files = files_dir + 'u%d.test'\n",
    "\n",
    "# [(u1.base, u1.test), (u2.base, u2.test), ... (u5.base, u5.test)]\n",
    "fold_files = [(train_files % i, test_files % i) for i in range(1, 6)]"
   ]
  },
  {
   "cell_type": "code",
   "execution_count": 66,
   "metadata": {},
   "outputs": [],
   "source": [
    "data = Dataset.load_from_folds(fold_files, reader)\n",
    "pkf = model_selection.PredefinedKFold()"
   ]
  },
  {
   "cell_type": "code",
   "execution_count": 67,
   "metadata": {},
   "outputs": [
    {
     "name": "stdout",
     "output_type": "stream",
     "text": [
      "RMSE: 0.9517\n",
      "RMSE: 0.9382\n",
      "RMSE: 0.9356\n",
      "RMSE: 0.9326\n",
      "RMSE: 0.9339\n"
     ]
    }
   ],
   "source": [
    "algo = surprise.SVD()\n",
    "for train_data, test_data in pkf.split(data):\n",
    "    algo.fit(train_data)\n",
    "    pred = algo.test(test_data)\n",
    "    surprise.accuracy.rmse(pred, verbose=True)"
   ]
  },
  {
   "cell_type": "markdown",
   "metadata": {},
   "source": [
    "### 网格搜索寻找最优参数"
   ]
  },
  {
   "cell_type": "code",
   "execution_count": 71,
   "metadata": {},
   "outputs": [],
   "source": [
    "data = Dataset.load_builtin('ml-100k')\n",
    "\n",
    "param_grid = {'n_epochs': [5, 10], 'lr_all': [0.002, 0.005],\n",
    "              'reg_all': [0.4, 0.6]}\n",
    "grid_search = model_selection.GridSearchCV(SVD, param_grid=param_grid, measures=['rmse', 'mae'], cv=3)\n",
    "grid_search.fit(data)"
   ]
  },
  {
   "cell_type": "code",
   "execution_count": 42,
   "metadata": {},
   "outputs": [
    {
     "data": {
      "text/plain": [
       "{'rmse': {'n_epochs': 10, 'lr_all': 0.005, 'reg_all': 0.4},\n",
       " 'mae': {'n_epochs': 10, 'lr_all': 0.005, 'reg_all': 0.4}}"
      ]
     },
     "execution_count": 42,
     "metadata": {},
     "output_type": "execute_result"
    }
   ],
   "source": [
    "grid_search.best_params"
   ]
  },
  {
   "cell_type": "code",
   "execution_count": 68,
   "metadata": {},
   "outputs": [
    {
     "data": {
      "text/plain": [
       "{'split0_test_rmse': array([1.00134143, 1.00765761, 0.97784742, 0.98658819, 0.98208853,\n",
       "        0.99036983, 0.9674461 , 0.97729525]),\n",
       " 'split1_test_rmse': array([0.99854436, 1.00430696, 0.97465316, 0.98303722, 0.97938324,\n",
       "        0.98722469, 0.96479225, 0.97436013]),\n",
       " 'split2_test_rmse': array([0.99181419, 0.9982668 , 0.96878332, 0.97786103, 0.97259605,\n",
       "        0.98145909, 0.95921016, 0.96934216]),\n",
       " 'mean_test_rmse': array([0.99723333, 1.00341046, 0.9737613 , 0.98249548, 0.97802261,\n",
       "        0.9863512 , 0.96381617, 0.97366584]),\n",
       " 'std_test_rmse': array([0.00399843, 0.00388584, 0.00375376, 0.00358339, 0.00399293,\n",
       "        0.00368986, 0.00343242, 0.00328374]),\n",
       " 'rank_test_rmse': array([7, 8, 3, 5, 4, 6, 1, 2]),\n",
       " 'split0_test_mae': array([0.81041145, 0.81911603, 0.78598981, 0.79691577, 0.79026612,\n",
       "        0.80083287, 0.77646284, 0.78807264]),\n",
       " 'split1_test_mae': array([0.80597304, 0.81450348, 0.78135737, 0.79200482, 0.78591202,\n",
       "        0.79605217, 0.77203078, 0.78356387]),\n",
       " 'split2_test_mae': array([0.8017508 , 0.81061441, 0.77836942, 0.7896079 , 0.78176143,\n",
       "        0.79289277, 0.76932682, 0.78132667]),\n",
       " 'mean_test_mae': array([0.8060451 , 0.81474464, 0.78190553, 0.79284283, 0.78597986,\n",
       "        0.7965926 , 0.77260682, 0.78432106]),\n",
       " 'std_test_mae': array([0.00353606, 0.00347496, 0.00313507, 0.0030417 , 0.00347236,\n",
       "        0.00326398, 0.0029416 , 0.0028056 ]),\n",
       " 'rank_test_mae': array([7, 8, 2, 5, 4, 6, 1, 3]),\n",
       " 'mean_fit_time': array([1.15467985, 0.96410926, 1.08623068, 0.96092224, 1.97297517,\n",
       "        1.82697248, 1.90186048, 2.06135027]),\n",
       " 'std_fit_time': array([0.09013452, 0.04487784, 0.18158564, 0.05103392, 0.09920958,\n",
       "        0.01633884, 0.10801551, 0.0582199 ]),\n",
       " 'mean_test_time': array([0.39799651, 0.32080706, 0.37071363, 0.33635481, 0.35122132,\n",
       "        0.29873522, 0.30870167, 0.32791495]),\n",
       " 'std_test_time': array([0.08992335, 0.06836431, 0.12257129, 0.08294894, 0.08408918,\n",
       "        0.0252472 , 0.02012824, 0.0787166 ]),\n",
       " 'params': [{'n_epochs': 5, 'lr_all': 0.002, 'reg_all': 0.4},\n",
       "  {'n_epochs': 5, 'lr_all': 0.002, 'reg_all': 0.6},\n",
       "  {'n_epochs': 5, 'lr_all': 0.005, 'reg_all': 0.4},\n",
       "  {'n_epochs': 5, 'lr_all': 0.005, 'reg_all': 0.6},\n",
       "  {'n_epochs': 10, 'lr_all': 0.002, 'reg_all': 0.4},\n",
       "  {'n_epochs': 10, 'lr_all': 0.002, 'reg_all': 0.6},\n",
       "  {'n_epochs': 10, 'lr_all': 0.005, 'reg_all': 0.4},\n",
       "  {'n_epochs': 10, 'lr_all': 0.005, 'reg_all': 0.6}],\n",
       " 'param_n_epochs': [5, 5, 5, 5, 10, 10, 10, 10],\n",
       " 'param_lr_all': [0.002, 0.002, 0.005, 0.005, 0.002, 0.002, 0.005, 0.005],\n",
       " 'param_reg_all': [0.4, 0.6, 0.4, 0.6, 0.4, 0.6, 0.4, 0.6]}"
      ]
     },
     "execution_count": 68,
     "metadata": {},
     "output_type": "execute_result"
    }
   ],
   "source": [
    "grid_search.cv_results"
   ]
  },
  {
   "cell_type": "code",
   "execution_count": 72,
   "metadata": {},
   "outputs": [
    {
     "data": {
      "text/plain": [
       "<surprise.prediction_algorithms.matrix_factorization.SVD at 0x11af40cf8>"
      ]
     },
     "execution_count": 72,
     "metadata": {},
     "output_type": "execute_result"
    }
   ],
   "source": [
    "algo.fit(data.build_full_trainset())\n"
   ]
  },
  {
   "cell_type": "code",
   "execution_count": 73,
   "metadata": {},
   "outputs": [
    {
     "name": "stdout",
     "output_type": "stream",
     "text": [
      "user: 193        item: 302        r_ui = 4.00   est = 3.53   {'was_impossible': False}\n"
     ]
    },
    {
     "data": {
      "text/plain": [
       "Prediction(uid=193, iid=302, r_ui=4, est=3.52986, details={'was_impossible': False})"
      ]
     },
     "execution_count": 73,
     "metadata": {},
     "output_type": "execute_result"
    }
   ],
   "source": [
    "algo.predict(193, 302, 4, verbose=True)\n"
   ]
  },
  {
   "cell_type": "markdown",
   "metadata": {},
   "source": [
    "### ALS & SGD"
   ]
  },
  {
   "cell_type": "code",
   "execution_count": 75,
   "metadata": {},
   "outputs": [
    {
     "name": "stdout",
     "output_type": "stream",
     "text": [
      "Using ALS\n"
     ]
    }
   ],
   "source": [
    "print('Using ALS')\n",
    "bsl_options = {'method': 'als',\n",
    "               'n_epochs': 5,\n",
    "               'reg_u': 12,\n",
    "               'reg_i': 5\n",
    "               }\n",
    "algo = surprise.BaselineOnly(bsl_options=bsl_options)\n"
   ]
  },
  {
   "cell_type": "code",
   "execution_count": 76,
   "metadata": {},
   "outputs": [
    {
     "name": "stdout",
     "output_type": "stream",
     "text": [
      "Using SGD\n"
     ]
    }
   ],
   "source": [
    "print('Using SGD')\n",
    "bsl_options = {'method': 'sgd',\n",
    "               'learning_rate': .00005,\n",
    "               }\n",
    "algo = surprise.BaselineOnly(bsl_options=bsl_options)\n"
   ]
  },
  {
   "cell_type": "markdown",
   "metadata": {},
   "source": [
    "### sim_options相似度参数"
   ]
  },
  {
   "cell_type": "code",
   "execution_count": 77,
   "metadata": {},
   "outputs": [],
   "source": [
    "sim_options = {'name': 'cosine', # 相似度\n",
    "               'user_based': False  # True计算用户之间的相似度 False计算的是Item之间的相似度\n",
    "               }\n",
    "algo = surprise.KNNBasic(sim_options=sim_options)\n"
   ]
  },
  {
   "cell_type": "code",
   "execution_count": 79,
   "metadata": {},
   "outputs": [],
   "source": [
    "sim_options = {'name': 'pearson_baseline',\n",
    "               'shrinkage': 0  # no shrinkage\n",
    "               }\n",
    "algo = surprise.KNNBasic(sim_options=sim_options)\n"
   ]
  },
  {
   "cell_type": "code",
   "execution_count": null,
   "metadata": {},
   "outputs": [],
   "source": [
    "su"
   ]
  }
 ],
 "metadata": {
  "kernelspec": {
   "display_name": "Python 3",
   "language": "python",
   "name": "python3"
  },
  "language_info": {
   "codemirror_mode": {
    "name": "ipython",
    "version": 3
   },
   "file_extension": ".py",
   "mimetype": "text/x-python",
   "name": "python",
   "nbconvert_exporter": "python",
   "pygments_lexer": "ipython3",
   "version": "3.7.3"
  }
 },
 "nbformat": 4,
 "nbformat_minor": 2
}
