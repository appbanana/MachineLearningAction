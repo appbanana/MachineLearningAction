{
 "cells": [
  {
   "cell_type": "code",
   "execution_count": 5,
   "metadata": {},
   "outputs": [],
   "source": [
    "# 由于下载的文件无法解压 数据处理部分暂时省略"
   ]
  },
  {
   "cell_type": "code",
   "execution_count": 71,
   "metadata": {},
   "outputs": [],
   "source": [
    "import os\n",
    "import io\n",
    "import surprise\n",
    "import pickle\n",
    "from surprise import model_selection\n",
    "import pickle\n"
   ]
  },
  {
   "cell_type": "markdown",
   "metadata": {},
   "source": [
    "### 针对音乐预测"
   ]
  },
  {
   "cell_type": "code",
   "execution_count": 25,
   "metadata": {},
   "outputs": [],
   "source": [
    "# 重建歌单id到歌单名的映射字典\n",
    "# {'326644112': '不悔梦归处，只怨太匆匆。'...}\n",
    "file_path = '/Users/JQC/Desktop/recommendation_system_codes/'\n",
    "id_to_name_dic = pickle.load(open(file_path+'popular_playlist.pkl', 'rb'), encoding='utf8')\n",
    "# 歌单名称 到歌单id映射 eg:{'不悔梦归处，只怨太匆匆。': '326644112', ...}\n",
    "name_to_id_dic = {}\n",
    "for key, value in id_to_name_dic.items():\n",
    "    name_to_id_dic[value] = key\n",
    "    "
   ]
  },
  {
   "cell_type": "code",
   "execution_count": 26,
   "metadata": {},
   "outputs": [],
   "source": [
    "file_path_ = os.path.expanduser(file_path + 'popular_music_suprise_format.txt')\n",
    "reader = surprise.Reader(line_format='user item rating timestamp', sep=',')\n",
    "# 读取文件数据\n",
    "music_data = surprise.Dataset.load_from_file(file_path_, reader=reader)\n",
    "# 构建数据集\n",
    "trainset = music_data.build_full_trainset()"
   ]
  },
  {
   "cell_type": "code",
   "execution_count": 27,
   "metadata": {},
   "outputs": [
    {
     "data": {
      "text/plain": [
       "<surprise.trainset.Trainset at 0x111a404e0>"
      ]
     },
     "execution_count": 27,
     "metadata": {},
     "output_type": "execute_result"
    }
   ],
   "source": [
    "trainset"
   ]
  },
  {
   "cell_type": "code",
   "execution_count": 30,
   "metadata": {},
   "outputs": [
    {
     "data": {
      "text/plain": [
       "<bound method Trainset.all_users of <surprise.trainset.Trainset object at 0x111a404e0>>"
      ]
     },
     "execution_count": 30,
     "metadata": {},
     "output_type": "execute_result"
    }
   ],
   "source": [
    "trainset.all_users"
   ]
  },
  {
   "cell_type": "code",
   "execution_count": 31,
   "metadata": {},
   "outputs": [
    {
     "name": "stderr",
     "output_type": "stream",
     "text": [
      "/anaconda3/lib/python3.7/site-packages/surprise/prediction_algorithms/algo_base.py:51: UserWarning: train() is deprecated. Use fit() instead\n",
      "  warnings.warn('train() is deprecated. Use fit() instead', UserWarning)\n"
     ]
    },
    {
     "name": "stdout",
     "output_type": "stream",
     "text": [
      "Estimating biases using als...\n",
      "Computing the msd similarity matrix...\n",
      "Done computing similarity matrix.\n"
     ]
    },
    {
     "data": {
      "text/plain": [
       "<surprise.prediction_algorithms.knns.KNNBaseline at 0x116e88c50>"
      ]
     },
     "execution_count": 31,
     "metadata": {},
     "output_type": "execute_result"
    }
   ],
   "source": [
    "# 开始训练模型\n",
    "#sim_options = {'name': 'pearson_baseline', 'user_based': False}\n",
    "algo = surprise.KNNBaseline()\n",
    "algo.train(trainset)"
   ]
  },
  {
   "cell_type": "code",
   "execution_count": 51,
   "metadata": {},
   "outputs": [
    {
     "name": "stdout",
     "output_type": "stream",
     "text": [
      "歌单名称 世事无常，唯愿你好\n",
      "和歌单 《 世事无常，唯愿你好 》 最接近的10个歌单为：\n",
      "\n"
     ]
    },
    {
     "data": {
      "text/plain": [
       "['【华语】暖心物语 纯白思念',\n",
       " '暗暗作祟| 不甘朋友不敢恋人',\n",
       " '专属你的周杰伦',\n",
       " '「华语歌曲」',\n",
       " '[小风收集]21世纪年轻人的音乐',\n",
       " '十七岁那年，以为能和你永远',\n",
       " '热门流行华语歌曲50首',\n",
       " '最易上手吉他弹唱超精选',\n",
       " '打开任意门，就有对的人',\n",
       " '行车路上，一曲长歌']"
      ]
     },
     "execution_count": 51,
     "metadata": {},
     "output_type": "execute_result"
    }
   ],
   "source": [
    "current_playlist = list(name_to_id_dic.keys())[820]\n",
    "print(\"歌单名称\", current_playlist)\n",
    "\n",
    "# 根据字典的映射取出这个歌单对应的id\n",
    "# 68720536\n",
    "playlist_raw_id = name_to_id_dic[current_playlist]\n",
    "# 将原始的id转化为数据集中inner_id\n",
    "playlist_inner_id = algo.trainset.to_inner_uid(playlist_raw_id)\n",
    "# 推荐前10个\n",
    "recomment_list = algo.get_neighbors(playlist_inner_id, k=10)\n",
    "recomment_list = [algo.trainset.to_raw_uid(iid) for iid in recomment_list]\n",
    "recomment_list = [id_to_name_dic[uid] for uid in recomment_list]\n",
    "print(\"和歌单 《\", current_playlist, \"》 最接近的10个歌单为：\\n\")\n",
    "\n",
    "recomment_list"
   ]
  },
  {
   "cell_type": "markdown",
   "metadata": {},
   "source": [
    "### 模板之针对用户进行预测 "
   ]
  },
  {
   "cell_type": "code",
   "execution_count": 58,
   "metadata": {},
   "outputs": [],
   "source": [
    "# 重建歌曲id到歌曲名的映射字典\n",
    "# '287140': '梦不落\\t孙燕姿',\n",
    "song_id_name_dic = pickle.load(open(file_path + \"popular_song.pkl\",\"rb\"), encoding='utf8')\n",
    "# 歌曲到id的映射 '梦不落\\t孙燕姿': '287257',\n",
    "song_name_id_dic = {}\n",
    "for key, value in song_id_name_dic.items():\n",
    "    song_name_id_dic[value] = key\n"
   ]
  },
  {
   "cell_type": "code",
   "execution_count": 61,
   "metadata": {},
   "outputs": [
    {
     "name": "stdout",
     "output_type": "stream",
     "text": [
      "user: 4          item: 478        r_ui = 1.00   est = 1.00   {'was_impossible': False} 听见下雨的声音\t魏如昀\n",
      "user: 4          item: 429        r_ui = 1.00   est = 1.00   {'was_impossible': False} 梦一场\t萧敬腾\n",
      "user: 4          item: 936        r_ui = 1.00   est = 1.00   {'was_impossible': False} 干杯\t西瓜Kune\n",
      "user: 4          item: 937        r_ui = 1.00   est = 1.00   {'was_impossible': False} 给自己的歌 (Live) - live\t纵贯线\n",
      "user: 4          item: 938        r_ui = 1.00   est = 1.00   {'was_impossible': False} 小半\t陈粒\n",
      "user: 4          item: 939        r_ui = 1.00   est = 1.00   {'was_impossible': False} 思念是一种病(Live) - live\t张震岳\n",
      "user: 4          item: 940        r_ui = 1.00   est = 1.00   {'was_impossible': False} 可以不可以\t丁当\n",
      "user: 4          item: 941        r_ui = 1.00   est = 1.00   {'was_impossible': False} 秋酿\t房东的猫\n",
      "user: 4          item: 616        r_ui = 1.00   est = 1.00   {'was_impossible': False} 退后\t周杰伦\n",
      "user: 4          item: 942        r_ui = 1.00   est = 1.00   {'was_impossible': False} 阴天\t莫文蔚\n",
      "user: 4          item: 943        r_ui = 1.00   est = 1.00   {'was_impossible': False} 痛爱\t容祖儿\n",
      "user: 4          item: 944        r_ui = 1.00   est = 1.00   {'was_impossible': False} 二十世纪少年(Unplugged) - unplug\tPing Pung\n",
      "user: 4          item: 945        r_ui = 1.00   est = 1.00   {'was_impossible': False} 前所未见\t陈慧琳\n",
      "user: 4          item: 946        r_ui = 1.00   est = 1.00   {'was_impossible': False} 追梦赤子心\tGALA\n",
      "user: 4          item: 947        r_ui = 1.00   est = 1.00   {'was_impossible': False} 如果你也听说\t张惠妹\n",
      "user: 4          item: 948        r_ui = 1.00   est = 1.00   {'was_impossible': False} 寄生\t吴克羣\n",
      "user: 4          item: 949        r_ui = 1.00   est = 1.00   {'was_impossible': False} 怎么唱情歌\t刘惜君\n",
      "user: 4          item: 55         r_ui = 1.00   est = 1.00   {'was_impossible': False} 忽然之间\t巴士那\n",
      "user: 4          item: 950        r_ui = 1.00   est = 1.00   {'was_impossible': False} 烟霞\t容祖儿\n",
      "user: 4          item: 138        r_ui = 1.00   est = 1.00   {'was_impossible': False} 小幸运\t双笙\n",
      "user: 4          item: 951        r_ui = 1.00   est = 1.00   {'was_impossible': False} 错过\t王铮亮\n",
      "user: 4          item: 952        r_ui = 1.00   est = 1.00   {'was_impossible': False} 泪海\t许茹芸\n",
      "user: 4          item: 453        r_ui = 1.00   est = 1.00   {'was_impossible': False} 外面的世界\t莫文蔚\n",
      "user: 4          item: 840        r_ui = 1.00   est = 1.00   {'was_impossible': False} 短发\t梁咏琪\n",
      "user: 4          item: 953        r_ui = 1.00   est = 1.00   {'was_impossible': False} 遗憾\t方炯镔\n",
      "user: 4          item: 954        r_ui = 1.00   est = 1.00   {'was_impossible': False} 假如让我说下去\t杨千嬅\n",
      "user: 4          item: 955        r_ui = 1.00   est = 1.00   {'was_impossible': False} 爱你\t许志安\n",
      "user: 4          item: 956        r_ui = 1.00   est = 1.00   {'was_impossible': False} 你的手信\t陈慧敏\n",
      "user: 4          item: 352        r_ui = 1.00   est = 1.00   {'was_impossible': False} 遗憾\t许美静\n",
      "user: 4          item: 957        r_ui = 1.00   est = 1.00   {'was_impossible': False} 无终\t谢春花\n",
      "user: 4          item: 958        r_ui = 1.00   est = 1.00   {'was_impossible': False} 骄傲的少年\t南征北战\n",
      "user: 4          item: 959        r_ui = 1.00   est = 1.00   {'was_impossible': False} 一个人一座城\t曹寅\n",
      "user: 4          item: 960        r_ui = 1.00   est = 1.00   {'was_impossible': False} 好得很\t麦家瑜\n",
      "user: 4          item: 961        r_ui = 1.00   est = 1.00   {'was_impossible': False} 终身美丽\t郑秀文\n",
      "user: 4          item: 962        r_ui = 1.00   est = 1.00   {'was_impossible': False} 倾城\t许美静\n",
      "user: 4          item: 963        r_ui = 1.00   est = 1.00   {'was_impossible': False} 想要你知道\t许亚童\n",
      "user: 4          item: 964        r_ui = 1.00   est = 1.00   {'was_impossible': False} 忆她\t赵烁\n",
      "user: 4          item: 965        r_ui = 1.00   est = 1.00   {'was_impossible': False} 边走边唱\t李荣浩\n",
      "user: 4          item: 966        r_ui = 1.00   est = 1.00   {'was_impossible': False} 再见只是陌生人\t庄心妍\n",
      "user: 4          item: 967        r_ui = 1.00   est = 1.00   {'was_impossible': False} 每条伤心的大街\t飘乐队\n",
      "user: 4          item: 968        r_ui = 1.00   est = 1.00   {'was_impossible': False} 死结\t李玖哲\n",
      "user: 4          item: 969        r_ui = 1.00   est = 1.00   {'was_impossible': False} 我是你的影子\tXun(易硕成)\n",
      "user: 4          item: 970        r_ui = 1.00   est = 1.00   {'was_impossible': False} 孤儿仔\t陈奕迅\n",
      "user: 4          item: 971        r_ui = 1.00   est = 1.00   {'was_impossible': False} 霜雪千年\t双笙\n",
      "user: 4          item: 972        r_ui = 1.00   est = 1.00   {'was_impossible': False} 想起小时候\t前冲\n",
      "user: 4          item: 755        r_ui = 1.00   est = 1.00   {'was_impossible': False} 给自己的情书\t王菲\n",
      "user: 4          item: 279        r_ui = 1.00   est = 1.00   {'was_impossible': False} 情非得已\t庾澄庆\n",
      "user: 4          item: 973        r_ui = 1.00   est = 1.00   {'was_impossible': False} 听说爱情回来过(Live) - live\t张敬轩\n",
      "user: 4          item: 715        r_ui = 1.00   est = 1.00   {'was_impossible': False} 至少还有你\t林忆莲\n",
      "user: 4          item: 974        r_ui = 1.00   est = 1.00   {'was_impossible': False} 致自己\t齐一\n",
      "user: 4          item: 975        r_ui = 1.00   est = 1.00   {'was_impossible': False} 可惜我不是他\tXun\n",
      "user: 4          item: 976        r_ui = 1.00   est = 1.00   {'was_impossible': False} 恋人心\t魏新雨\n",
      "user: 4          item: 977        r_ui = 1.00   est = 1.00   {'was_impossible': False} 美好事物\t房东的猫\n",
      "user: 4          item: 978        r_ui = 1.00   est = 1.00   {'was_impossible': False} 你就要走了\t花粥\n",
      "user: 4          item: 979        r_ui = 1.00   est = 1.00   {'was_impossible': False} 一半\t薛之谦\n",
      "user: 4          item: 259        r_ui = 1.00   est = 1.00   {'was_impossible': False} 斑马斑马 - 翻唱\t房东的猫\n",
      "user: 4          item: 980        r_ui = 1.00   est = 1.00   {'was_impossible': False} 还想听你的故事\t谢春花\n",
      "user: 4          item: 981        r_ui = 1.00   est = 1.00   {'was_impossible': False} 房间\t刘瑞琦\n",
      "user: 4          item: 982        r_ui = 1.00   est = 1.00   {'was_impossible': False} 狮子座(live)\t曾轶可\n",
      "user: 4          item: 611        r_ui = 1.00   est = 1.00   {'was_impossible': False} 青花瓷\t周杰伦\n",
      "user: 4          item: 983        r_ui = 1.00   est = 1.00   {'was_impossible': False} 目前\t洪卓立\n",
      "user: 4          item: 984        r_ui = 1.00   est = 1.00   {'was_impossible': False} 月球下的人\t李幸倪\n",
      "user: 4          item: 985        r_ui = 1.00   est = 1.00   {'was_impossible': False} 明明\t钟一宪\n",
      "user: 4          item: 986        r_ui = 1.00   est = 1.00   {'was_impossible': False} 一棵会开花的树(demo)\t谢春花\n",
      "user: 4          item: 987        r_ui = 1.00   est = 1.00   {'was_impossible': False} 借我\t谢春花\n",
      "user: 4          item: 209        r_ui = 1.00   est = 1.00   {'was_impossible': False} 丑八怪\t薛之谦\n",
      "user: 4          item: 988        r_ui = 1.00   est = 1.00   {'was_impossible': False} 习惯失恋\t容祖儿\n",
      "user: 4          item: 989        r_ui = 1.00   est = 1.00   {'was_impossible': False} 红玫瑰\t陈奕迅\n",
      "user: 4          item: 192        r_ui = 1.00   est = 1.00   {'was_impossible': False} 漂洋过海来看你\t周深\n",
      "user: 4          item: 990        r_ui = 1.00   est = 1.00   {'was_impossible': False} 那女孩对我说\t黄义达\n",
      "user: 4          item: 991        r_ui = 1.00   est = 1.00   {'was_impossible': False} 后来\t群星\n",
      "user: 4          item: 992        r_ui = 1.00   est = 1.00   {'was_impossible': False} 喜剧之王\t李荣浩\n",
      "user: 4          item: 993        r_ui = 1.00   est = 1.00   {'was_impossible': False} 爱你\t陈芳语\n",
      "user: 4          item: 994        r_ui = 1.00   est = 1.00   {'was_impossible': False} 我爱你\t卢广仲\n",
      "user: 4          item: 995        r_ui = 1.00   est = 1.00   {'was_impossible': False} 遇见你的时候所有星星都落到我头上\t高姗\n",
      "user: 4          item: 996        r_ui = 1.00   est = 1.00   {'was_impossible': False} 一身诗意千寻瀑\t不才\n",
      "user: 4          item: 997        r_ui = 1.00   est = 1.00   {'was_impossible': False} 你在烦恼什么\t苏打绿\n",
      "user: 4          item: 998        r_ui = 1.00   est = 1.00   {'was_impossible': False} 我为自己代言\t魏晨\n",
      "user: 4          item: 141        r_ui = 1.00   est = 1.00   {'was_impossible': False} 夜空中最亮的星\t逃跑计划\n",
      "user: 4          item: 999        r_ui = 1.00   est = 1.00   {'was_impossible': False} 阴天快乐\t陈奕迅\n",
      "user: 4          item: 132        r_ui = 1.00   est = 1.00   {'was_impossible': False} 原谅\t张玉华\n",
      "user: 4          item: 1000       r_ui = 1.00   est = 1.00   {'was_impossible': False} 放过自己\t庄心妍\n",
      "user: 4          item: 1001       r_ui = 1.00   est = 1.00   {'was_impossible': False} 最好的我\t龚芝怡\n",
      "user: 4          item: 317        r_ui = 1.00   est = 1.00   {'was_impossible': False} 爱一点\t莫艳琳\n",
      "user: 4          item: 1002       r_ui = 1.00   est = 1.00   {'was_impossible': False} 陪我看日出\t蔡淳佳\n",
      "user: 4          item: 1003       r_ui = 1.00   est = 1.00   {'was_impossible': False} 幸福了 然后呢\tA-Lin\n",
      "user: 4          item: 1004       r_ui = 1.00   est = 1.00   {'was_impossible': False} 耿耿于怀\t麦浚龙\n",
      "user: 4          item: 1005       r_ui = 1.00   est = 1.00   {'was_impossible': False} 不说出的温柔\t范逸臣\n",
      "user: 4          item: 1006       r_ui = 1.00   est = 1.00   {'was_impossible': False} 初爱\t杨宗纬\n",
      "user: 4          item: 1007       r_ui = 1.00   est = 1.00   {'was_impossible': False} 只不过是\t花粥\n",
      "user: 4          item: 1008       r_ui = 1.00   est = 1.00   {'was_impossible': False} 理想三旬\t陈鸿宇\n",
      "user: 4          item: 137        r_ui = 1.00   est = 1.00   {'was_impossible': False} 小幸运（Cover 田馥甄）\t金玟岐\n",
      "user: 4          item: 1009       r_ui = 1.00   est = 1.00   {'was_impossible': False} 那又如何\t应嘉俐\n",
      "user: 4          item: 1010       r_ui = 1.00   est = 1.00   {'was_impossible': False} 小相思\t花粥\n",
      "user: 4          item: 1011       r_ui = 1.00   est = 1.00   {'was_impossible': False} 我不难过\t孙燕姿\n",
      "user: 4          item: 1012       r_ui = 1.00   est = 1.00   {'was_impossible': False} 你看不到的天空\t蔡旻佑\n",
      "user: 4          item: 1013       r_ui = 1.00   est = 1.00   {'was_impossible': False} 耿耿于怀\t王笑文\n",
      "user: 4          item: 1014       r_ui = 1.00   est = 1.00   {'was_impossible': False} 试探\t王般若\n",
      "user: 4          item: 1015       r_ui = 1.00   est = 1.00   {'was_impossible': False} 有你陪伴的夏天\t黄婧\n",
      "user: 4          item: 1016       r_ui = 1.00   est = 1.00   {'was_impossible': False} 不说再见\t好妹妹乐队\n"
     ]
    }
   ],
   "source": [
    "#内部编码的4号用户\n",
    "user_inner_id = 4\n",
    "# 获取用户的真实评价\n",
    "user_rating = trainset.ur[user_inner_id]\n",
    "# 拿到item的id  (478, 1.0),\n",
    "items = map(lambda x:x[0], user_rating)\n",
    "for song in items:\n",
    "    print(algo.predict(user_inner_id, song, r_ui=1), song_id_name_dic[algo.trainset.to_raw_iid(song)])"
   ]
  },
  {
   "cell_type": "markdown",
   "metadata": {},
   "source": [
    "### 2.用矩阵分解进行预测"
   ]
  },
  {
   "cell_type": "code",
   "execution_count": 62,
   "metadata": {},
   "outputs": [],
   "source": [
    "music_file_path = os.path.expanduser(file_path + './popular_music_suprise_format.txt')\n",
    "reader = surprise.Rerader(line_format='user item rating timestamp', sep=',')\n",
    "data = surprise.Dataset.load_from_file(music_file_path, reader=reader)\n",
    "# 将所有数据全部转为训练数据 \n",
    "train_data = data.build_full_trainset()"
   ]
  },
  {
   "cell_type": "code",
   "execution_count": 65,
   "metadata": {},
   "outputs": [
    {
     "data": {
      "text/plain": [
       "<surprise.prediction_algorithms.matrix_factorization.NMF at 0x116e9a860>"
      ]
     },
     "execution_count": 65,
     "metadata": {},
     "output_type": "execute_result"
    }
   ],
   "source": [
    "# NMF 矩阵分解 建模 训练数据\n",
    "algo = surprise.NMF()\n",
    "algo.fit(trainset)"
   ]
  },
  {
   "cell_type": "code",
   "execution_count": 66,
   "metadata": {},
   "outputs": [
    {
     "name": "stdout",
     "output_type": "stream",
     "text": [
      "user: 4          item: 478        r_ui = 1.00   est = 1.00   {'was_impossible': True, 'reason': 'User and item are unkown.'} 听见下雨的声音\t魏如昀\n",
      "user: 4          item: 429        r_ui = 1.00   est = 1.00   {'was_impossible': True, 'reason': 'User and item are unkown.'} 梦一场\t萧敬腾\n",
      "user: 4          item: 936        r_ui = 1.00   est = 1.00   {'was_impossible': True, 'reason': 'User and item are unkown.'} 干杯\t西瓜Kune\n",
      "user: 4          item: 937        r_ui = 1.00   est = 1.00   {'was_impossible': True, 'reason': 'User and item are unkown.'} 给自己的歌 (Live) - live\t纵贯线\n",
      "user: 4          item: 938        r_ui = 1.00   est = 1.00   {'was_impossible': True, 'reason': 'User and item are unkown.'} 小半\t陈粒\n",
      "user: 4          item: 939        r_ui = 1.00   est = 1.00   {'was_impossible': True, 'reason': 'User and item are unkown.'} 思念是一种病(Live) - live\t张震岳\n",
      "user: 4          item: 940        r_ui = 1.00   est = 1.00   {'was_impossible': True, 'reason': 'User and item are unkown.'} 可以不可以\t丁当\n",
      "user: 4          item: 941        r_ui = 1.00   est = 1.00   {'was_impossible': True, 'reason': 'User and item are unkown.'} 秋酿\t房东的猫\n",
      "user: 4          item: 616        r_ui = 1.00   est = 1.00   {'was_impossible': True, 'reason': 'User and item are unkown.'} 退后\t周杰伦\n",
      "user: 4          item: 942        r_ui = 1.00   est = 1.00   {'was_impossible': True, 'reason': 'User and item are unkown.'} 阴天\t莫文蔚\n",
      "user: 4          item: 943        r_ui = 1.00   est = 1.00   {'was_impossible': True, 'reason': 'User and item are unkown.'} 痛爱\t容祖儿\n",
      "user: 4          item: 944        r_ui = 1.00   est = 1.00   {'was_impossible': True, 'reason': 'User and item are unkown.'} 二十世纪少年(Unplugged) - unplug\tPing Pung\n",
      "user: 4          item: 945        r_ui = 1.00   est = 1.00   {'was_impossible': True, 'reason': 'User and item are unkown.'} 前所未见\t陈慧琳\n",
      "user: 4          item: 946        r_ui = 1.00   est = 1.00   {'was_impossible': True, 'reason': 'User and item are unkown.'} 追梦赤子心\tGALA\n",
      "user: 4          item: 947        r_ui = 1.00   est = 1.00   {'was_impossible': True, 'reason': 'User and item are unkown.'} 如果你也听说\t张惠妹\n",
      "user: 4          item: 948        r_ui = 1.00   est = 1.00   {'was_impossible': True, 'reason': 'User and item are unkown.'} 寄生\t吴克羣\n",
      "user: 4          item: 949        r_ui = 1.00   est = 1.00   {'was_impossible': True, 'reason': 'User and item are unkown.'} 怎么唱情歌\t刘惜君\n",
      "user: 4          item: 55         r_ui = 1.00   est = 1.00   {'was_impossible': True, 'reason': 'User and item are unkown.'} 忽然之间\t巴士那\n",
      "user: 4          item: 950        r_ui = 1.00   est = 1.00   {'was_impossible': True, 'reason': 'User and item are unkown.'} 烟霞\t容祖儿\n",
      "user: 4          item: 138        r_ui = 1.00   est = 1.00   {'was_impossible': True, 'reason': 'User and item are unkown.'} 小幸运\t双笙\n",
      "user: 4          item: 951        r_ui = 1.00   est = 1.00   {'was_impossible': True, 'reason': 'User and item are unkown.'} 错过\t王铮亮\n",
      "user: 4          item: 952        r_ui = 1.00   est = 1.00   {'was_impossible': True, 'reason': 'User and item are unkown.'} 泪海\t许茹芸\n",
      "user: 4          item: 453        r_ui = 1.00   est = 1.00   {'was_impossible': True, 'reason': 'User and item are unkown.'} 外面的世界\t莫文蔚\n",
      "user: 4          item: 840        r_ui = 1.00   est = 1.00   {'was_impossible': True, 'reason': 'User and item are unkown.'} 短发\t梁咏琪\n",
      "user: 4          item: 953        r_ui = 1.00   est = 1.00   {'was_impossible': True, 'reason': 'User and item are unkown.'} 遗憾\t方炯镔\n",
      "user: 4          item: 954        r_ui = 1.00   est = 1.00   {'was_impossible': True, 'reason': 'User and item are unkown.'} 假如让我说下去\t杨千嬅\n",
      "user: 4          item: 955        r_ui = 1.00   est = 1.00   {'was_impossible': True, 'reason': 'User and item are unkown.'} 爱你\t许志安\n",
      "user: 4          item: 956        r_ui = 1.00   est = 1.00   {'was_impossible': True, 'reason': 'User and item are unkown.'} 你的手信\t陈慧敏\n",
      "user: 4          item: 352        r_ui = 1.00   est = 1.00   {'was_impossible': True, 'reason': 'User and item are unkown.'} 遗憾\t许美静\n",
      "user: 4          item: 957        r_ui = 1.00   est = 1.00   {'was_impossible': True, 'reason': 'User and item are unkown.'} 无终\t谢春花\n",
      "user: 4          item: 958        r_ui = 1.00   est = 1.00   {'was_impossible': True, 'reason': 'User and item are unkown.'} 骄傲的少年\t南征北战\n",
      "user: 4          item: 959        r_ui = 1.00   est = 1.00   {'was_impossible': True, 'reason': 'User and item are unkown.'} 一个人一座城\t曹寅\n",
      "user: 4          item: 960        r_ui = 1.00   est = 1.00   {'was_impossible': True, 'reason': 'User and item are unkown.'} 好得很\t麦家瑜\n",
      "user: 4          item: 961        r_ui = 1.00   est = 1.00   {'was_impossible': True, 'reason': 'User and item are unkown.'} 终身美丽\t郑秀文\n",
      "user: 4          item: 962        r_ui = 1.00   est = 1.00   {'was_impossible': True, 'reason': 'User and item are unkown.'} 倾城\t许美静\n",
      "user: 4          item: 963        r_ui = 1.00   est = 1.00   {'was_impossible': True, 'reason': 'User and item are unkown.'} 想要你知道\t许亚童\n",
      "user: 4          item: 964        r_ui = 1.00   est = 1.00   {'was_impossible': True, 'reason': 'User and item are unkown.'} 忆她\t赵烁\n",
      "user: 4          item: 965        r_ui = 1.00   est = 1.00   {'was_impossible': True, 'reason': 'User and item are unkown.'} 边走边唱\t李荣浩\n",
      "user: 4          item: 966        r_ui = 1.00   est = 1.00   {'was_impossible': True, 'reason': 'User and item are unkown.'} 再见只是陌生人\t庄心妍\n",
      "user: 4          item: 967        r_ui = 1.00   est = 1.00   {'was_impossible': True, 'reason': 'User and item are unkown.'} 每条伤心的大街\t飘乐队\n",
      "user: 4          item: 968        r_ui = 1.00   est = 1.00   {'was_impossible': True, 'reason': 'User and item are unkown.'} 死结\t李玖哲\n",
      "user: 4          item: 969        r_ui = 1.00   est = 1.00   {'was_impossible': True, 'reason': 'User and item are unkown.'} 我是你的影子\tXun(易硕成)\n",
      "user: 4          item: 970        r_ui = 1.00   est = 1.00   {'was_impossible': True, 'reason': 'User and item are unkown.'} 孤儿仔\t陈奕迅\n",
      "user: 4          item: 971        r_ui = 1.00   est = 1.00   {'was_impossible': True, 'reason': 'User and item are unkown.'} 霜雪千年\t双笙\n",
      "user: 4          item: 972        r_ui = 1.00   est = 1.00   {'was_impossible': True, 'reason': 'User and item are unkown.'} 想起小时候\t前冲\n",
      "user: 4          item: 755        r_ui = 1.00   est = 1.00   {'was_impossible': True, 'reason': 'User and item are unkown.'} 给自己的情书\t王菲\n",
      "user: 4          item: 279        r_ui = 1.00   est = 1.00   {'was_impossible': True, 'reason': 'User and item are unkown.'} 情非得已\t庾澄庆\n",
      "user: 4          item: 973        r_ui = 1.00   est = 1.00   {'was_impossible': True, 'reason': 'User and item are unkown.'} 听说爱情回来过(Live) - live\t张敬轩\n",
      "user: 4          item: 715        r_ui = 1.00   est = 1.00   {'was_impossible': True, 'reason': 'User and item are unkown.'} 至少还有你\t林忆莲\n",
      "user: 4          item: 974        r_ui = 1.00   est = 1.00   {'was_impossible': True, 'reason': 'User and item are unkown.'} 致自己\t齐一\n",
      "user: 4          item: 975        r_ui = 1.00   est = 1.00   {'was_impossible': True, 'reason': 'User and item are unkown.'} 可惜我不是他\tXun\n",
      "user: 4          item: 976        r_ui = 1.00   est = 1.00   {'was_impossible': True, 'reason': 'User and item are unkown.'} 恋人心\t魏新雨\n",
      "user: 4          item: 977        r_ui = 1.00   est = 1.00   {'was_impossible': True, 'reason': 'User and item are unkown.'} 美好事物\t房东的猫\n",
      "user: 4          item: 978        r_ui = 1.00   est = 1.00   {'was_impossible': True, 'reason': 'User and item are unkown.'} 你就要走了\t花粥\n",
      "user: 4          item: 979        r_ui = 1.00   est = 1.00   {'was_impossible': True, 'reason': 'User and item are unkown.'} 一半\t薛之谦\n",
      "user: 4          item: 259        r_ui = 1.00   est = 1.00   {'was_impossible': True, 'reason': 'User and item are unkown.'} 斑马斑马 - 翻唱\t房东的猫\n",
      "user: 4          item: 980        r_ui = 1.00   est = 1.00   {'was_impossible': True, 'reason': 'User and item are unkown.'} 还想听你的故事\t谢春花\n",
      "user: 4          item: 981        r_ui = 1.00   est = 1.00   {'was_impossible': True, 'reason': 'User and item are unkown.'} 房间\t刘瑞琦\n",
      "user: 4          item: 982        r_ui = 1.00   est = 1.00   {'was_impossible': True, 'reason': 'User and item are unkown.'} 狮子座(live)\t曾轶可\n",
      "user: 4          item: 611        r_ui = 1.00   est = 1.00   {'was_impossible': True, 'reason': 'User and item are unkown.'} 青花瓷\t周杰伦\n",
      "user: 4          item: 983        r_ui = 1.00   est = 1.00   {'was_impossible': True, 'reason': 'User and item are unkown.'} 目前\t洪卓立\n",
      "user: 4          item: 984        r_ui = 1.00   est = 1.00   {'was_impossible': True, 'reason': 'User and item are unkown.'} 月球下的人\t李幸倪\n",
      "user: 4          item: 985        r_ui = 1.00   est = 1.00   {'was_impossible': True, 'reason': 'User and item are unkown.'} 明明\t钟一宪\n",
      "user: 4          item: 986        r_ui = 1.00   est = 1.00   {'was_impossible': True, 'reason': 'User and item are unkown.'} 一棵会开花的树(demo)\t谢春花\n",
      "user: 4          item: 987        r_ui = 1.00   est = 1.00   {'was_impossible': True, 'reason': 'User and item are unkown.'} 借我\t谢春花\n",
      "user: 4          item: 209        r_ui = 1.00   est = 1.00   {'was_impossible': True, 'reason': 'User and item are unkown.'} 丑八怪\t薛之谦\n",
      "user: 4          item: 988        r_ui = 1.00   est = 1.00   {'was_impossible': True, 'reason': 'User and item are unkown.'} 习惯失恋\t容祖儿\n",
      "user: 4          item: 989        r_ui = 1.00   est = 1.00   {'was_impossible': True, 'reason': 'User and item are unkown.'} 红玫瑰\t陈奕迅\n",
      "user: 4          item: 192        r_ui = 1.00   est = 1.00   {'was_impossible': True, 'reason': 'User and item are unkown.'} 漂洋过海来看你\t周深\n",
      "user: 4          item: 990        r_ui = 1.00   est = 1.00   {'was_impossible': True, 'reason': 'User and item are unkown.'} 那女孩对我说\t黄义达\n",
      "user: 4          item: 991        r_ui = 1.00   est = 1.00   {'was_impossible': True, 'reason': 'User and item are unkown.'} 后来\t群星\n",
      "user: 4          item: 992        r_ui = 1.00   est = 1.00   {'was_impossible': True, 'reason': 'User and item are unkown.'} 喜剧之王\t李荣浩\n",
      "user: 4          item: 993        r_ui = 1.00   est = 1.00   {'was_impossible': True, 'reason': 'User and item are unkown.'} 爱你\t陈芳语\n",
      "user: 4          item: 994        r_ui = 1.00   est = 1.00   {'was_impossible': True, 'reason': 'User and item are unkown.'} 我爱你\t卢广仲\n",
      "user: 4          item: 995        r_ui = 1.00   est = 1.00   {'was_impossible': True, 'reason': 'User and item are unkown.'} 遇见你的时候所有星星都落到我头上\t高姗\n",
      "user: 4          item: 996        r_ui = 1.00   est = 1.00   {'was_impossible': True, 'reason': 'User and item are unkown.'} 一身诗意千寻瀑\t不才\n",
      "user: 4          item: 997        r_ui = 1.00   est = 1.00   {'was_impossible': True, 'reason': 'User and item are unkown.'} 你在烦恼什么\t苏打绿\n",
      "user: 4          item: 998        r_ui = 1.00   est = 1.00   {'was_impossible': True, 'reason': 'User and item are unkown.'} 我为自己代言\t魏晨\n",
      "user: 4          item: 141        r_ui = 1.00   est = 1.00   {'was_impossible': True, 'reason': 'User and item are unkown.'} 夜空中最亮的星\t逃跑计划\n",
      "user: 4          item: 999        r_ui = 1.00   est = 1.00   {'was_impossible': True, 'reason': 'User and item are unkown.'} 阴天快乐\t陈奕迅\n",
      "user: 4          item: 132        r_ui = 1.00   est = 1.00   {'was_impossible': True, 'reason': 'User and item are unkown.'} 原谅\t张玉华\n",
      "user: 4          item: 1000       r_ui = 1.00   est = 1.00   {'was_impossible': True, 'reason': 'User and item are unkown.'} 放过自己\t庄心妍\n",
      "user: 4          item: 1001       r_ui = 1.00   est = 1.00   {'was_impossible': True, 'reason': 'User and item are unkown.'} 最好的我\t龚芝怡\n",
      "user: 4          item: 317        r_ui = 1.00   est = 1.00   {'was_impossible': True, 'reason': 'User and item are unkown.'} 爱一点\t莫艳琳\n",
      "user: 4          item: 1002       r_ui = 1.00   est = 1.00   {'was_impossible': True, 'reason': 'User and item are unkown.'} 陪我看日出\t蔡淳佳\n",
      "user: 4          item: 1003       r_ui = 1.00   est = 1.00   {'was_impossible': True, 'reason': 'User and item are unkown.'} 幸福了 然后呢\tA-Lin\n",
      "user: 4          item: 1004       r_ui = 1.00   est = 1.00   {'was_impossible': True, 'reason': 'User and item are unkown.'} 耿耿于怀\t麦浚龙\n",
      "user: 4          item: 1005       r_ui = 1.00   est = 1.00   {'was_impossible': True, 'reason': 'User and item are unkown.'} 不说出的温柔\t范逸臣\n",
      "user: 4          item: 1006       r_ui = 1.00   est = 1.00   {'was_impossible': True, 'reason': 'User and item are unkown.'} 初爱\t杨宗纬\n",
      "user: 4          item: 1007       r_ui = 1.00   est = 1.00   {'was_impossible': True, 'reason': 'User and item are unkown.'} 只不过是\t花粥\n",
      "user: 4          item: 1008       r_ui = 1.00   est = 1.00   {'was_impossible': True, 'reason': 'User and item are unkown.'} 理想三旬\t陈鸿宇\n",
      "user: 4          item: 137        r_ui = 1.00   est = 1.00   {'was_impossible': True, 'reason': 'User and item are unkown.'} 小幸运（Cover 田馥甄）\t金玟岐\n",
      "user: 4          item: 1009       r_ui = 1.00   est = 1.00   {'was_impossible': True, 'reason': 'User and item are unkown.'} 那又如何\t应嘉俐\n",
      "user: 4          item: 1010       r_ui = 1.00   est = 1.00   {'was_impossible': True, 'reason': 'User and item are unkown.'} 小相思\t花粥\n",
      "user: 4          item: 1011       r_ui = 1.00   est = 1.00   {'was_impossible': True, 'reason': 'User and item are unkown.'} 我不难过\t孙燕姿\n",
      "user: 4          item: 1012       r_ui = 1.00   est = 1.00   {'was_impossible': True, 'reason': 'User and item are unkown.'} 你看不到的天空\t蔡旻佑\n",
      "user: 4          item: 1013       r_ui = 1.00   est = 1.00   {'was_impossible': True, 'reason': 'User and item are unkown.'} 耿耿于怀\t王笑文\n",
      "user: 4          item: 1014       r_ui = 1.00   est = 1.00   {'was_impossible': True, 'reason': 'User and item are unkown.'} 试探\t王般若\n",
      "user: 4          item: 1015       r_ui = 1.00   est = 1.00   {'was_impossible': True, 'reason': 'User and item are unkown.'} 有你陪伴的夏天\t黄婧\n",
      "user: 4          item: 1016       r_ui = 1.00   est = 1.00   {'was_impossible': True, 'reason': 'User and item are unkown.'} 不说再见\t好妹妹乐队\n"
     ]
    }
   ],
   "source": [
    "#内部编码的4号用户\n",
    "user_inner_id = 4\n",
    "# 获取用户的真实评价\n",
    "user_rating = trainset.ur[user_inner_id]\n",
    "# 拿到item的id  (478, 1.0),\n",
    "items = map(lambda x:x[0], user_rating)\n",
    "for song in items:\n",
    "    print(algo.predict(user_inner_id, song, r_ui=1), song_id_name_dic[algo.trainset.to_raw_iid(song)])"
   ]
  },
  {
   "cell_type": "markdown",
   "metadata": {},
   "source": [
    "### 3.模型存储"
   ]
  },
  {
   "cell_type": "code",
   "execution_count": 68,
   "metadata": {},
   "outputs": [],
   "source": [
    "surprise.dump.dump('./recommand.model', algo=algo)\n",
    "algo = surprise.dump.load('./recommand.model')"
   ]
  },
  {
   "cell_type": "markdown",
   "metadata": {},
   "source": [
    "### 4.不同的推荐系统算法评估"
   ]
  },
  {
   "cell_type": "code",
   "execution_count": 78,
   "metadata": {},
   "outputs": [],
   "source": [
    "music_file_path = os.path.expanduser(file_path + './popular_music_suprise_format.txt')\n",
    "reader = surprise.Reader(line_format='user item rating timestamp', sep=',')\n",
    "# 这个数据有问题 暂且先补考虑 主要理解这个思路\n",
    "# data = surprise.Dataset.load_from_file(music_file_path, reader=reader)\n",
    "data = surprise.Dataset.load_builtin('ml-100k')"
   ]
  },
  {
   "cell_type": "code",
   "execution_count": 79,
   "metadata": {},
   "outputs": [
    {
     "name": "stdout",
     "output_type": "stream",
     "text": [
      "Evaluating RMSE, MAE of algorithm NormalPredictor on 3 split(s).\n",
      "\n",
      "                  Fold 1  Fold 2  Fold 3  Mean    Std     \n",
      "RMSE (testset)    1.5150  1.5217  1.5234  1.5201  0.0036  \n",
      "MAE (testset)     1.2137  1.2210  1.2240  1.2196  0.0043  \n",
      "Fit time          0.12    0.16    0.13    0.14    0.02    \n",
      "Test time         0.55    0.21    0.27    0.34    0.15    \n"
     ]
    },
    {
     "data": {
      "text/plain": [
       "{'test_rmse': array([1.51502341, 1.52173312, 1.52340444]),\n",
       " 'test_mae': array([1.21370909, 1.22097947, 1.22399595]),\n",
       " 'fit_time': (0.11741399765014648, 0.1614069938659668, 0.1290912628173828),\n",
       " 'test_time': (0.5503711700439453, 0.20740818977355957, 0.2677040100097656)}"
      ]
     },
     "execution_count": 79,
     "metadata": {},
     "output_type": "execute_result"
    }
   ],
   "source": [
    "# NormalPredictor\n",
    "norm_algo = surprise.NormalPredictor()\n",
    "model_selection.cross_validate(norm_algo, data, measures=['rmse', 'mae'], cv=3, verbose=True)"
   ]
  },
  {
   "cell_type": "code",
   "execution_count": 80,
   "metadata": {},
   "outputs": [
    {
     "name": "stdout",
     "output_type": "stream",
     "text": [
      "Estimating biases using als...\n",
      "Computing the msd similarity matrix...\n",
      "Done computing similarity matrix.\n",
      "Estimating biases using als...\n",
      "Computing the msd similarity matrix...\n",
      "Done computing similarity matrix.\n",
      "Estimating biases using als...\n",
      "Computing the msd similarity matrix...\n",
      "Done computing similarity matrix.\n",
      "Evaluating RMSE, MAE of algorithm KNNBaseline on 3 split(s).\n",
      "\n",
      "                  Fold 1  Fold 2  Fold 3  Mean    Std     \n",
      "RMSE (testset)    0.9354  0.9349  0.9366  0.9356  0.0007  \n",
      "MAE (testset)     0.7371  0.7363  0.7391  0.7375  0.0012  \n",
      "Fit time          0.50    0.45    0.45    0.46    0.02    \n",
      "Test time         6.65    6.31    6.29    6.42    0.17    \n"
     ]
    }
   ],
   "source": [
    "# KNNBaseline 比较下面数据 这个比上面的模型要好一些\n",
    "line_algo = surprise.KNNBaseline()\n",
    "pref = model_selection.cross_validate(line_algo, data, measures=['rmse', 'mae'], cv=3, verbose=True)"
   ]
  },
  {
   "cell_type": "code",
   "execution_count": 81,
   "metadata": {},
   "outputs": [
    {
     "name": "stdout",
     "output_type": "stream",
     "text": [
      "Computing the msd similarity matrix...\n",
      "Done computing similarity matrix.\n",
      "Computing the msd similarity matrix...\n",
      "Done computing similarity matrix.\n",
      "Computing the msd similarity matrix...\n",
      "Done computing similarity matrix.\n",
      "Evaluating RMSE, MAE of algorithm KNNBasic on 3 split(s).\n",
      "\n",
      "                  Fold 1  Fold 2  Fold 3  Mean    Std     \n",
      "RMSE (testset)    0.9871  0.9913  0.9867  0.9884  0.0021  \n",
      "MAE (testset)     0.7803  0.7846  0.7806  0.7818  0.0019  \n",
      "Fit time          0.30    0.30    0.28    0.29    0.01    \n",
      "Test time         5.28    5.00    5.00    5.09    0.13    \n"
     ]
    }
   ],
   "source": [
    "# 基础版的协同过滤\n",
    "basic_algo = surprise.KNNBasic()\n",
    "pref = model_selection.cross_validate(basic_algo, data, measures=['rmse', 'mae'], cv=3, verbose=True)"
   ]
  },
  {
   "cell_type": "code",
   "execution_count": 82,
   "metadata": {},
   "outputs": [
    {
     "name": "stdout",
     "output_type": "stream",
     "text": [
      "Computing the msd similarity matrix...\n",
      "Done computing similarity matrix.\n",
      "Computing the msd similarity matrix...\n",
      "Done computing similarity matrix.\n",
      "Computing the msd similarity matrix...\n",
      "Done computing similarity matrix.\n",
      "Evaluating RMSE, MAE of algorithm KNNWithMeans on 3 split(s).\n",
      "\n",
      "                  Fold 1  Fold 2  Fold 3  Mean    Std     \n",
      "RMSE (testset)    0.9536  0.9606  0.9572  0.9571  0.0029  \n",
      "MAE (testset)     0.7532  0.7557  0.7537  0.7542  0.0011  \n",
      "Fit time          0.30    0.32    0.39    0.33    0.04    \n",
      "Test time         5.81    5.43    5.69    5.64    0.16    \n"
     ]
    }
   ],
   "source": [
    "# 均值版的协同过滤\n",
    "mean_algo = surprise.KNNWithMeans()\n",
    "pref = model_selection.cross_validate(mean_algo, data, measures=['rmse', 'mae'], cv=3, verbose=True)"
   ]
  },
  {
   "cell_type": "code",
   "execution_count": 83,
   "metadata": {},
   "outputs": [
    {
     "name": "stdout",
     "output_type": "stream",
     "text": [
      "Computing the msd similarity matrix...\n",
      "Done computing similarity matrix.\n",
      "Computing the msd similarity matrix...\n",
      "Done computing similarity matrix.\n",
      "Computing the msd similarity matrix...\n",
      "Done computing similarity matrix.\n",
      "Evaluating RMSE, MAE of algorithm KNNWithZScore on 3 split(s).\n",
      "\n",
      "                  Fold 1  Fold 2  Fold 3  Mean    Std     \n",
      "RMSE (testset)    0.9552  0.9561  0.9583  0.9565  0.0013  \n",
      "MAE (testset)     0.7486  0.7498  0.7535  0.7506  0.0021  \n",
      "Fit time          0.38    0.39    0.38    0.39    0.00    \n",
      "Test time         7.21    6.44    6.29    6.64    0.40    \n"
     ]
    }
   ],
   "source": [
    "# 均值版的协同过滤\n",
    "zscore_algo = surprise.KNNWithZScore()\n",
    "pref = model_selection.cross_validate(zscore_algo, data, measures=['rmse', 'mae'], cv=3, verbose=True)"
   ]
  },
  {
   "cell_type": "code",
   "execution_count": 84,
   "metadata": {},
   "outputs": [
    {
     "name": "stdout",
     "output_type": "stream",
     "text": [
      "Evaluating RMSE, MAE of algorithm SVD on 3 split(s).\n",
      "\n",
      "                  Fold 1  Fold 2  Fold 3  Mean    Std     \n",
      "RMSE (testset)    0.9437  0.9513  0.9459  0.9470  0.0032  \n",
      "MAE (testset)     0.7483  0.7482  0.7461  0.7475  0.0010  \n",
      "Fit time          3.86    3.84    4.26    3.99    0.19    \n",
      "Test time         0.43    0.27    0.30    0.33    0.07    \n"
     ]
    }
   ],
   "source": [
    "svd_algo = surprise.SVD()\n",
    "pref = model_selection.cross_validate(svd_algo, data, measures=['rmse', 'mae'], cv=3, verbose=True)"
   ]
  },
  {
   "cell_type": "code",
   "execution_count": 85,
   "metadata": {},
   "outputs": [
    {
     "name": "stdout",
     "output_type": "stream",
     "text": [
      "Evaluating RMSE, MAE of algorithm SVDpp on 3 split(s).\n",
      "\n",
      "                  Fold 1  Fold 2  Fold 3  Mean    Std     \n",
      "RMSE (testset)    0.9264  0.9276  0.9283  0.9274  0.0008  \n",
      "MAE (testset)     0.7275  0.7290  0.7305  0.7290  0.0012  \n",
      "Fit time          128.78  125.28  128.25  127.44  1.54    \n",
      "Test time         5.98    5.81    5.74    5.85    0.10    \n"
     ]
    }
   ],
   "source": [
    "svdPP_algo = surprise.SVDpp()\n",
    "pref = model_selection.cross_validate(svdPP_algo, data, measures=['rmse', 'mae'], cv=3, verbose=True)"
   ]
  },
  {
   "cell_type": "code",
   "execution_count": null,
   "metadata": {},
   "outputs": [],
   "source": []
  },
  {
   "cell_type": "code",
   "execution_count": null,
   "metadata": {},
   "outputs": [],
   "source": []
  },
  {
   "cell_type": "code",
   "execution_count": null,
   "metadata": {},
   "outputs": [],
   "source": []
  },
  {
   "cell_type": "code",
   "execution_count": null,
   "metadata": {},
   "outputs": [],
   "source": []
  }
 ],
 "metadata": {
  "kernelspec": {
   "display_name": "Python 3",
   "language": "python",
   "name": "python3"
  },
  "language_info": {
   "codemirror_mode": {
    "name": "ipython",
    "version": 3
   },
   "file_extension": ".py",
   "mimetype": "text/x-python",
   "name": "python",
   "nbconvert_exporter": "python",
   "pygments_lexer": "ipython3",
   "version": "3.7.3"
  }
 },
 "nbformat": 4,
 "nbformat_minor": 2
}
