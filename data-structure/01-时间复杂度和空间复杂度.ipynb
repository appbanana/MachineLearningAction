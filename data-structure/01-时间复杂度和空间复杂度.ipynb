{
 "cells": [
  {
   "cell_type": "code",
   "execution_count": 51,
   "metadata": {},
   "outputs": [],
   "source": [
    "import time\n",
    "import datetime\n",
    "import functools\n"
   ]
  },
  {
   "cell_type": "code",
   "execution_count": 62,
   "metadata": {},
   "outputs": [],
   "source": [
    "# 使用装饰器封装一个统计函数运行时间的函数\n",
    "def print_func_run_time(func):\n",
    "    def inner_func(*args, **kw):\n",
    "        start = time.time()\n",
    "        result = func(*args, **kw)\n",
    "        end = time.time()\n",
    "        print(datetime.datetime.fromtimestamp(end- start).strftime(\"%M:%S:%f\"))\n",
    "        return result\n",
    "    return inner_func"
   ]
  },
  {
   "cell_type": "code",
   "execution_count": 63,
   "metadata": {},
   "outputs": [],
   "source": [
    "# 斐波那契数列 测试时间复杂度\n",
    "# @print_func_run_time\n",
    "def fib(n):\n",
    "    if n < 2:\n",
    "        return n\n",
    "    return fib(n-1) + fib(n-2)"
   ]
  },
  {
   "cell_type": "code",
   "execution_count": 64,
   "metadata": {},
   "outputs": [
    {
     "name": "stdout",
     "output_type": "stream",
     "text": [
      "00:00:038087\n"
     ]
    }
   ],
   "source": [
    "start = time.time()\n",
    "fib(25)\n",
    "end = time.time()\n",
    "print(datetime.datetime.fromtimestamp(end- start).strftime(\"%M:%S:%f\"))"
   ]
  },
  {
   "cell_type": "code",
   "execution_count": null,
   "metadata": {},
   "outputs": [],
   "source": []
  }
 ],
 "metadata": {
  "kernelspec": {
   "display_name": "Python 3",
   "language": "python",
   "name": "python3"
  },
  "language_info": {
   "codemirror_mode": {
    "name": "ipython",
    "version": 3
   },
   "file_extension": ".py",
   "mimetype": "text/x-python",
   "name": "python",
   "nbconvert_exporter": "python",
   "pygments_lexer": "ipython3",
   "version": "3.7.0"
  }
 },
 "nbformat": 4,
 "nbformat_minor": 1
}
