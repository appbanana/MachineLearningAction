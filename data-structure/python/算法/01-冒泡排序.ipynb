{
 "cells": [
  {
   "cell_type": "code",
   "execution_count": 7,
   "metadata": {},
   "outputs": [
    {
     "name": "stdout",
     "output_type": "stream",
     "text": [
      "[17, 20, 26, 31, 44, 54, 55, 77, 93]\n"
     ]
    }
   ],
   "source": [
    "def bubble_sort(alist):\n",
    "    \"\"\"\n",
    "    思路:依次比较相邻两个元素的大小 如果第一个比第二个元素大 就交换位置 \n",
    "    实际上每次找到最大值,并放到最后\n",
    "    \"\"\"\n",
    "    # 第一次需要遍历n-1次 第二次需要遍历n-2次\n",
    "    for i in range(len(alist)-1,0, -1):\n",
    "        for j in range(i):\n",
    "            # 实际上冒泡排序把最大的元素扔到最后\n",
    "            if alist[j] > alist[j+1]:\n",
    "                alist[j], alist[j+1] = alist[j+1], alist[j]\n",
    "\n",
    "li = [54,26,93,17,77,31,44,55,20]\n",
    "bubble_sort(li)\n",
    "print(li)"
   ]
  },
  {
   "cell_type": "code",
   "execution_count": null,
   "metadata": {},
   "outputs": [],
   "source": []
  }
 ],
 "metadata": {
  "kernelspec": {
   "display_name": "Python 3",
   "language": "python",
   "name": "python3"
  },
  "language_info": {
   "codemirror_mode": {
    "name": "ipython",
    "version": 3
   },
   "file_extension": ".py",
   "mimetype": "text/x-python",
   "name": "python",
   "nbconvert_exporter": "python",
   "pygments_lexer": "ipython3",
   "version": "3.7.3"
  }
 },
 "nbformat": 4,
 "nbformat_minor": 2
}
