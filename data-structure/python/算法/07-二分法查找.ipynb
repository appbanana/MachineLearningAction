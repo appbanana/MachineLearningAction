{
 "cells": [
  {
   "cell_type": "code",
   "execution_count": 5,
   "metadata": {},
   "outputs": [
    {
     "name": "stdout",
     "output_type": "stream",
     "text": [
      "False\n",
      "True\n"
     ]
    }
   ],
   "source": [
    "# 二分法查找 这个是人家的, 下面的是我的\n",
    "def binary_search(alist, item):\n",
    "    first = 0\n",
    "    last = len(alist)-1\n",
    "    while first<=last:\n",
    "      midpoint = (first + last)//2\n",
    "      if alist[midpoint] == item:\n",
    "          return True\n",
    "      elif item < alist[midpoint]:\n",
    "          last = midpoint-1\n",
    "      else:\n",
    "          first = midpoint+1\n",
    "    return False\n",
    "testlist = [0, 1, 2, 8, 13, 17, 19, 32, 42,]\n",
    "print(binary_search(testlist, 3))\n",
    "print(binary_search(testlist, 13))"
   ]
  },
  {
   "cell_type": "code",
   "execution_count": 6,
   "metadata": {},
   "outputs": [
    {
     "name": "stdout",
     "output_type": "stream",
     "text": [
      "False\n",
      "True\n"
     ]
    }
   ],
   "source": [
    "def binary_search2(alist, item):\n",
    "    first = 0\n",
    "    last = len(alist) - 1\n",
    "    while first <= last:\n",
    "        mid = (first + last) // 2\n",
    "        if alist[mid] == item:\n",
    "            return True\n",
    "        elif alist[mid] > item:\n",
    "            last = mid -1\n",
    "        else:\n",
    "            first = mid + 1\n",
    "    return False\n",
    "\n",
    "testlist = [0, 1, 2, 8, 13, 17, 19, 32, 42,]\n",
    "print(binary_search2(testlist, 3))\n",
    "print(binary_search2(testlist, 13))"
   ]
  },
  {
   "cell_type": "code",
   "execution_count": null,
   "metadata": {},
   "outputs": [],
   "source": []
  }
 ],
 "metadata": {
  "kernelspec": {
   "display_name": "Python 3",
   "language": "python",
   "name": "python3"
  },
  "language_info": {
   "codemirror_mode": {
    "name": "ipython",
    "version": 3
   },
   "file_extension": ".py",
   "mimetype": "text/x-python",
   "name": "python",
   "nbconvert_exporter": "python",
   "pygments_lexer": "ipython3",
   "version": "3.7.3"
  }
 },
 "nbformat": 4,
 "nbformat_minor": 2
}
