{
 "cells": [
  {
   "cell_type": "code",
   "execution_count": 3,
   "metadata": {},
   "outputs": [
    {
     "name": "stdout",
     "output_type": "stream",
     "text": [
      "[17, 20, 31, 44, 54, 55, 77, 93, 226]\n"
     ]
    }
   ],
   "source": [
    "def selection_sort(alist):\n",
    "    n = len(alist)\n",
    "    # 需要n-1次才能选择操作\n",
    "    for i in range(n-1):\n",
    "        min_index = i\n",
    "        for j in range(i+1, n):\n",
    "            # 如果当前元素比假定的最小值小的话 就记录下当前最小值的下标\n",
    "            if alist[j] < alist[min_index]:\n",
    "                min_index = j\n",
    "        # 如果min_index不等于i,说明假定不成立,需要交换位置, 依次筛选出最小值\n",
    "        if min_index != i:\n",
    "            alist[i], alist[min_index] = alist[min_index], alist[i]\n",
    "\n",
    "alist = [54,226,93,17,77,31,44,55,20]\n",
    "selection_sort(alist)\n",
    "print(alist)"
   ]
  },
  {
   "cell_type": "code",
   "execution_count": null,
   "metadata": {},
   "outputs": [],
   "source": []
  }
 ],
 "metadata": {
  "kernelspec": {
   "display_name": "Python 3",
   "language": "python",
   "name": "python3"
  },
  "language_info": {
   "codemirror_mode": {
    "name": "ipython",
    "version": 3
   },
   "file_extension": ".py",
   "mimetype": "text/x-python",
   "name": "python",
   "nbconvert_exporter": "python",
   "pygments_lexer": "ipython3",
   "version": "3.7.3"
  }
 },
 "nbformat": 4,
 "nbformat_minor": 2
}
