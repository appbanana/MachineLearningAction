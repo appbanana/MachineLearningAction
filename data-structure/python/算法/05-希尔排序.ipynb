{
 "cells": [
  {
   "cell_type": "code",
   "execution_count": 13,
   "metadata": {},
   "outputs": [
    {
     "name": "stdout",
     "output_type": "stream",
     "text": [
      "[17, 20, 26, 31, 44, 54, 55, 77, 93]\n"
     ]
    }
   ],
   "source": [
    "def shell_sort(alist):\n",
    "    n = len(alist)\n",
    "    # 初始步长\n",
    "    gap = n // 2\n",
    "    while gap > 0:\n",
    "        # 按步长进行插入排序\n",
    "        for i in range(gap, n):\n",
    "            j = i\n",
    "            # 插入排序\n",
    "            # 这实际上是列比较 排序\n",
    "            while j>=gap and alist[j-gap] > alist[j]:\n",
    "                alist[j-gap], alist[j] = alist[j], alist[j-gap]\n",
    "                j -= gap\n",
    "        # 得到新的步长\n",
    "        gap = gap // 2\n",
    "\n",
    "alist = [54,26,93,17,77,31,44,55,20]\n",
    "shell_sort(alist)\n",
    "print(alist)"
   ]
  },
  {
   "cell_type": "code",
   "execution_count": 15,
   "metadata": {},
   "outputs": [
    {
     "name": "stdout",
     "output_type": "stream",
     "text": [
      "[17, 20, 26, 31, 44, 54, 55, 77, 93]\n"
     ]
    }
   ],
   "source": [
    "def shell_sort2(alist):\n",
    "    n = len(alist)\n",
    "    gap = n // 2\n",
    "    \n",
    "    while gap > 0:\n",
    "        for i in range(gap, n):\n",
    "            j = i\n",
    "            while j >= gap and alist[j-gap] > alist[j]:\n",
    "                alist[j], alist[j-gap] = alist[j-gap], alist[j]\n",
    "                j -= gap\n",
    "        gap = gap // 2\n",
    "        \n",
    "alist = [54,26,93,17,77,31,44,55,20]\n",
    "shell_sort2(alist)\n",
    "print(alist)"
   ]
  },
  {
   "cell_type": "code",
   "execution_count": null,
   "metadata": {},
   "outputs": [],
   "source": []
  }
 ],
 "metadata": {
  "kernelspec": {
   "display_name": "Python 3",
   "language": "python",
   "name": "python3"
  },
  "language_info": {
   "codemirror_mode": {
    "name": "ipython",
    "version": 3
   },
   "file_extension": ".py",
   "mimetype": "text/x-python",
   "name": "python",
   "nbconvert_exporter": "python",
   "pygments_lexer": "ipython3",
   "version": "3.7.3"
  }
 },
 "nbformat": 4,
 "nbformat_minor": 2
}
