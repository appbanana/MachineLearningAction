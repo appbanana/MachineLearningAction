{
 "cells": [
  {
   "cell_type": "code",
   "execution_count": 5,
   "metadata": {},
   "outputs": [
    {
     "name": "stdout",
     "output_type": "stream",
     "text": [
      "[17, 20, 26, 31, 44, 54, 55, 77, 93]\n"
     ]
    }
   ],
   "source": [
    "def quick_sort(alist, start, end):\n",
    "    \"\"\"快速排序\"\"\"\n",
    "\n",
    "    # 递归的退出条件\n",
    "    if start >= end:\n",
    "        return\n",
    "\n",
    "    # 设定起始元素为要寻找位置的基准元素\n",
    "    mid = alist[start]\n",
    "\n",
    "    # low为序列左边的由左向右移动的游标\n",
    "    low = start\n",
    "\n",
    "    # high为序列右边的由右向左移动的游标\n",
    "    high = end\n",
    "\n",
    "    while low < high:\n",
    "        # 如果low与high未重合，high指向的元素不比基准元素小，则high向左移动\n",
    "        while low < high and alist[high] >= mid:\n",
    "            high -= 1\n",
    "        # 将high指向的元素放到low的位置上\n",
    "        alist[low] = alist[high]\n",
    "\n",
    "        # 如果low与high未重合，low指向的元素比基准元素小，则low向右移动\n",
    "        while low < high and alist[low] < mid:\n",
    "            low += 1\n",
    "        # 将low指向的元素放到high的位置上\n",
    "        alist[high] = alist[low]\n",
    "\n",
    "    # 退出循环后，low与high重合，此时所指位置为基准元素的正确位置\n",
    "    # 将基准元素放到该位置\n",
    "    alist[low] = mid\n",
    "\n",
    "    # 对基准元素左边的子序列进行快速排序\n",
    "    quick_sort(alist, start, low-1)\n",
    "\n",
    "    # 对基准元素右边的子序列进行快速排序\n",
    "    quick_sort(alist, low+1, end)\n",
    "\n",
    "\n",
    "alist = [54,26,93,17,77,31,44,55,20]\n",
    "quick_sort2(alist,0,len(alist)-1)\n",
    "print(alist)"
   ]
  },
  {
   "cell_type": "code",
   "execution_count": 6,
   "metadata": {},
   "outputs": [
    {
     "name": "stdout",
     "output_type": "stream",
     "text": [
      "[17, 20, 26, 31, 44, 54, 55, 77, 93]\n"
     ]
    }
   ],
   "source": [
    "def quick_sort2(alist, start, end):\n",
    "    \"\"\"\n",
    "    快速排序\n",
    "    \"\"\"\n",
    "    # 递归终止条件\n",
    "    if start >= end:\n",
    "        return \n",
    "    \n",
    "    # 基准元素\n",
    "    mid = alist[start]\n",
    "    \n",
    "    low = start\n",
    "    high = end\n",
    "    \n",
    "    while low < high:\n",
    "        if low < high and alist[high] >= mid:\n",
    "            high -= 1\n",
    "        alist[low] = alist[high]\n",
    "        \n",
    "        if low < high and alist[low] < mid:\n",
    "            low += 1\n",
    "        alist[high] = alist[low]\n",
    "        \n",
    "    alist[low] = mid\n",
    "    quick_sort2(alist, 0, low-1)\n",
    "    quick_sort2(alist, low+1, end)\n",
    "    \n",
    "alist = [54,26,93,17,77,31,44,55,20]\n",
    "quick_sort2(alist,0,len(alist)-1)\n",
    "print(alist)"
   ]
  },
  {
   "cell_type": "code",
   "execution_count": null,
   "metadata": {},
   "outputs": [],
   "source": []
  },
  {
   "cell_type": "code",
   "execution_count": null,
   "metadata": {},
   "outputs": [],
   "source": []
  }
 ],
 "metadata": {
  "kernelspec": {
   "display_name": "Python 3",
   "language": "python",
   "name": "python3"
  },
  "language_info": {
   "codemirror_mode": {
    "name": "ipython",
    "version": 3
   },
   "file_extension": ".py",
   "mimetype": "text/x-python",
   "name": "python",
   "nbconvert_exporter": "python",
   "pygments_lexer": "ipython3",
   "version": "3.7.3"
  }
 },
 "nbformat": 4,
 "nbformat_minor": 2
}
