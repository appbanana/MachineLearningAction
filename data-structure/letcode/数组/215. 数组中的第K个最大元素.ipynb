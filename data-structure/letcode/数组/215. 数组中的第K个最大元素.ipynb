{
 "cells": [
  {
   "cell_type": "code",
   "execution_count": 1,
   "metadata": {},
   "outputs": [],
   "source": [
    "# 215. 数组中的第K个最大元素\n",
    "# https://leetcode-cn.com/problems/kth-largest-element-in-an-array/"
   ]
  },
  {
   "cell_type": "code",
   "execution_count": null,
   "metadata": {},
   "outputs": [],
   "source": [
    "import heapq\n",
    "\n",
    "class Solution:\n",
    "    def findKthLargest(self, nums: List[int], k: int) -> int:\n",
    "        \"\"\"\n",
    "        思路: 使用堆来实现 其实底层实现是使用小顶堆来处理, 小顶堆长度为k, 如果第k+1元素之后比堆顶大, 添加进去\n",
    "        待所有元素添加完毕, 返回堆顶元素即可\n",
    "        \"\"\"\n",
    "        if nums is None: return None\n",
    "        return heapq.nlargest(k, nums)[-1]\n",
    "        "
   ]
  }
 ],
 "metadata": {
  "kernelspec": {
   "display_name": "Python 3",
   "language": "python",
   "name": "python3"
  },
  "language_info": {
   "codemirror_mode": {
    "name": "ipython",
    "version": 3
   },
   "file_extension": ".py",
   "mimetype": "text/x-python",
   "name": "python",
   "nbconvert_exporter": "python",
   "pygments_lexer": "ipython3",
   "version": "3.7.3"
  }
 },
 "nbformat": 4,
 "nbformat_minor": 2
}
