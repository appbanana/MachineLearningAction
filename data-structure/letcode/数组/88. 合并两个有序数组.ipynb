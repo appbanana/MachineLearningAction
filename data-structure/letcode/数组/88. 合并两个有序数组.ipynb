{
 "cells": [
  {
   "cell_type": "code",
   "execution_count": 1,
   "metadata": {},
   "outputs": [],
   "source": [
    "# 88. 合并两个有序数组\n",
    "# https://leetcode-cn.com/problems/merge-sorted-array/"
   ]
  },
  {
   "cell_type": "code",
   "execution_count": 50,
   "metadata": {},
   "outputs": [],
   "source": [
    "class Solution:\n",
    "    def merge(self, nums1: list, m: int, nums2: list, n: int) -> None:\n",
    "        \"\"\"\n",
    "        时间复杂度: O(m+n)\n",
    "        空间复杂度: O(m)\n",
    "        \"\"\"\n",
    "\n",
    "        if nums2 is None or nums1 is None: return \n",
    "\n",
    "        if len(nums1) == 0 is None or len(nums2) == 0: return \n",
    "        # 将nums1前m个元素备份\n",
    "        left_array = nums1[:m]\n",
    "        nums2 = nums2[:n]\n",
    "        # li是标记left_array的索引, ri是记录nums2的索引, ai标记nums1的索引\n",
    "        li, ri, ai = 0, 0, 0\n",
    "        \n",
    "        # 如果li, ri都小于他们数组的长度 进入while循环\n",
    "        while li < len(left_array) and ri < len(nums2):\n",
    "            if nums2[ri] < left_array[li]:\n",
    "                # 如果nums2[ri] < left_array[li], 将nums2中的元素添加到nums1中,与此同时对应的索引加1\n",
    "                nums1[ai] = nums2[ri]\n",
    "                ai += 1\n",
    "                ri += 1\n",
    "            else:\n",
    "                nums1[ai] = left_array[li]\n",
    "                ai += 1\n",
    "                li += 1\n",
    "                \n",
    "        # 再次检测, 那个数组的元素没有遍历完, 没有遍历完的顺序添加到nums1后面\n",
    "        if li < len(left_array):\n",
    "            nums1[ai:] = left_array[li:]\n",
    "        if ri < len(nums2):\n",
    "            nums1[ai:] = nums2[ri:]\n",
    "            \n",
    "    \n",
    "    def merge2(self, nums1: list, m: int, nums2: list, n: int) -> None:\n",
    "        \"\"\"\n",
    "        时间复杂度: O(m+n)\n",
    "        空间复杂度: O(1)\n",
    "        \"\"\"\n",
    "\n",
    "        if nums2 is None or nums1 is None: return \n",
    "\n",
    "        if len(nums1) == 0 is None or len(nums2) == 0: return \n",
    "        \n",
    "        p1, p2 = m -1, n-1\n",
    "        p = m + n -1\n",
    "        \n",
    "        while p1 >= 0 and p2 >= 0:\n",
    "            if nums2[p2] > nums1[p1]:\n",
    "                nums1[p] = nums2[p2]\n",
    "                p -= 1\n",
    "                p2 -= 1\n",
    "            else:\n",
    "                nums1[p] = nums1[p1]\n",
    "                p1 -= 1\n",
    "                p -= 1\n",
    "                \n",
    "        if p2 >= 0:\n",
    "            nums1[:p2+1] = nums2[:p2+1]\n",
    "        "
   ]
  },
  {
   "cell_type": "code",
   "execution_count": 51,
   "metadata": {},
   "outputs": [],
   "source": [
    "solution = Solution()"
   ]
  },
  {
   "cell_type": "code",
   "execution_count": 52,
   "metadata": {},
   "outputs": [],
   "source": [
    "nums1 = [1,2,3,0,0,0]\n",
    "m = 3\n",
    "nums2 = [2,5,6]\n",
    "n = 3"
   ]
  },
  {
   "cell_type": "code",
   "execution_count": 53,
   "metadata": {},
   "outputs": [
    {
     "name": "stdout",
     "output_type": "stream",
     "text": [
      "0 0 0\n",
      "1 0 1\n",
      "2 0 2\n",
      "2 1 3\n",
      "[1, 2, 2, 3, 5, 6]\n"
     ]
    }
   ],
   "source": [
    "solution.merge(nums1, m, nums2, n)"
   ]
  },
  {
   "cell_type": "code",
   "execution_count": 54,
   "metadata": {},
   "outputs": [],
   "source": []
  },
  {
   "cell_type": "code",
   "execution_count": 21,
   "metadata": {},
   "outputs": [
    {
     "data": {
      "text/plain": [
       "[1, 3, 6]"
      ]
     },
     "execution_count": 21,
     "metadata": {},
     "output_type": "execute_result"
    }
   ],
   "source": [
    "temp"
   ]
  },
  {
   "cell_type": "code",
   "execution_count": 22,
   "metadata": {},
   "outputs": [
    {
     "data": {
      "text/plain": [
       "[1, 3, 6]"
      ]
     },
     "execution_count": 22,
     "metadata": {},
     "output_type": "execute_result"
    }
   ],
   "source": [
    "nums1"
   ]
  },
  {
   "cell_type": "code",
   "execution_count": 23,
   "metadata": {},
   "outputs": [],
   "source": [
    "nums1.extend([2, 5])"
   ]
  },
  {
   "cell_type": "code",
   "execution_count": 24,
   "metadata": {},
   "outputs": [
    {
     "data": {
      "text/plain": [
       "[1, 3, 6, 2, 5]"
      ]
     },
     "execution_count": 24,
     "metadata": {},
     "output_type": "execute_result"
    }
   ],
   "source": [
    "nums1"
   ]
  },
  {
   "cell_type": "code",
   "execution_count": 43,
   "metadata": {},
   "outputs": [],
   "source": [
    "temp= [1, 2]\n"
   ]
  },
  {
   "cell_type": "code",
   "execution_count": 44,
   "metadata": {},
   "outputs": [],
   "source": [
    "temp[2:] = [4, 5]"
   ]
  },
  {
   "cell_type": "code",
   "execution_count": 45,
   "metadata": {},
   "outputs": [
    {
     "data": {
      "text/plain": [
       "[1, 2, 4, 5]"
      ]
     },
     "execution_count": 45,
     "metadata": {},
     "output_type": "execute_result"
    }
   ],
   "source": [
    "temp"
   ]
  },
  {
   "cell_type": "code",
   "execution_count": null,
   "metadata": {},
   "outputs": [],
   "source": []
  }
 ],
 "metadata": {
  "kernelspec": {
   "display_name": "Python 3",
   "language": "python",
   "name": "python3"
  },
  "language_info": {
   "codemirror_mode": {
    "name": "ipython",
    "version": 3
   },
   "file_extension": ".py",
   "mimetype": "text/x-python",
   "name": "python",
   "nbconvert_exporter": "python",
   "pygments_lexer": "ipython3",
   "version": "3.7.3"
  }
 },
 "nbformat": 4,
 "nbformat_minor": 2
}
