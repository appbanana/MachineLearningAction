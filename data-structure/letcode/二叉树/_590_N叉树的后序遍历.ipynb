{
 "cells": [
  {
   "cell_type": "code",
   "execution_count": 1,
   "metadata": {},
   "outputs": [],
   "source": [
    "# 590. N叉树的后序遍历\n",
    "# https://leetcode-cn.com/problems/n-ary-tree-postorder-traversal/submissions/\n",
    "\n",
    "class Node:\n",
    "    def __init__(self, val, children):\n",
    "        self.val = val\n",
    "        self.children = children\n",
    "\n",
    "class Solution:\n",
    "    # python3版本 迭代\n",
    "    # 执行用时 : 232 ms, 在N-ary Tree Postorder Traversal的Python3提交中击败了5.90% 的用户\n",
    "    # 内存消耗 : 17.4 MB, 在N-ary Tree Postorder Traversal的Python3提交中击败了99.50% 的用户\n",
    "    def preorder(self, root: Node) -> list:\n",
    "        if root is None: return []\n",
    "        stack = [root]\n",
    "        order_list = []\n",
    "        while len(stack):\n",
    "            node = stack.pop()\n",
    "            order_list.insert(0, node.val)\n",
    "            temp = []\n",
    "            for i in node.children:\n",
    "                temp.append(i)\n",
    "            if len(temp):\n",
    "                stack.extend(temp)\n",
    "        return order_list\n",
    "    \n",
    "     # 递归来实现\n",
    "    # 执行用时 : 132 ms, 在N-ary Tree Postorder Traversal的Python3提交中击败了53.09% 的用户\n",
    "    # 内存消耗 : 17.6 MB, 在N-ary Tree Postorder Traversal的Python3提交中击败了84.16% 的用户\n",
    "    def postorder(self, root: TreeNode) -> List[int]:\n",
    "        order_list = []\n",
    "        self.real_postorder(root, order_list)\n",
    "        return order_list\n",
    "    \n",
    "    def real_postorder(self, node: TreeNode, order_list:list): \n",
    "        if node is None: return \n",
    "        for i in node.children:\n",
    "            self.real_postorder(i, order_list)  \n",
    "        order_list.append(node.val)\n",
    "\n",
    "    \n",
    "\n",
    "    \n"
   ]
  },
  {
   "cell_type": "code",
   "execution_count": null,
   "metadata": {},
   "outputs": [],
   "source": []
  }
 ],
 "metadata": {
  "kernelspec": {
   "display_name": "Python 3",
   "language": "python",
   "name": "python3"
  },
  "language_info": {
   "codemirror_mode": {
    "name": "ipython",
    "version": 3
   },
   "file_extension": ".py",
   "mimetype": "text/x-python",
   "name": "python",
   "nbconvert_exporter": "python",
   "pygments_lexer": "ipython3",
   "version": "3.7.3"
  }
 },
 "nbformat": 4,
 "nbformat_minor": 2
}
