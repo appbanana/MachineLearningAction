{
 "cells": [
  {
   "cell_type": "code",
   "execution_count": 2,
   "metadata": {},
   "outputs": [],
   "source": [
    "# 105. 从前序与中序遍历序列构造二叉树\n",
    "# https://leetcode-cn.com/problems/construct-binary-tree-from-preorder-and-inorder-traversal/\n",
    "\n",
    "class TreeNode:\n",
    "    def __init__(self, x):\n",
    "        self.val = x\n",
    "        self.left = None\n",
    "        self.right = None\n",
    "\n",
    "class Solution:\n",
    "    \n",
    "    # 这个方法不好\n",
    "    # 执行用时 : 300 ms, 在Construct Binary Tree from Preorder and Inorder Traversal的Python3提交中击败了62.25% 的用户\n",
    "    # 内存消耗 : 87.2 MB, 在Construct Binary Tree from Preorder and Inorder Traversal的Python3提交中击败了72.23% 的用户\n",
    "    def buildTree(self, preorder: list, inorder: list) -> TreeNode:\n",
    "        if not preorder: return\n",
    "        root = TreeNode(preorder[0])\n",
    "        in_index = inorder.index(root.val)\n",
    "        root.left = self.buildTree(preorder[1:in_index+1], inorder[:in_index])\n",
    "        root.right = self.buildTree(preorder[in_index+1:], inorder[in_index+1:])\n",
    "        return root\n",
    "   \n"
   ]
  },
  {
   "cell_type": "code",
   "execution_count": null,
   "metadata": {},
   "outputs": [],
   "source": []
  }
 ],
 "metadata": {
  "kernelspec": {
   "display_name": "Python 3",
   "language": "python",
   "name": "python3"
  },
  "language_info": {
   "codemirror_mode": {
    "name": "ipython",
    "version": 3
   },
   "file_extension": ".py",
   "mimetype": "text/x-python",
   "name": "python",
   "nbconvert_exporter": "python",
   "pygments_lexer": "ipython3",
   "version": "3.7.3"
  }
 },
 "nbformat": 4,
 "nbformat_minor": 2
}
