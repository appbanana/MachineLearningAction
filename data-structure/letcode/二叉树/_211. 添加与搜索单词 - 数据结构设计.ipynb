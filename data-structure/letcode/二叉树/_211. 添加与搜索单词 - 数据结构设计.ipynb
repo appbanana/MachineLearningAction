{
 "cells": [
  {
   "cell_type": "code",
   "execution_count": 1,
   "metadata": {},
   "outputs": [],
   "source": [
    "# 211. 添加与搜索单词 - 数据结构设计\n",
    "# https://leetcode-cn.com/problems/add-and-search-word-data-structure-design/"
   ]
  },
  {
   "cell_type": "code",
   "execution_count": 47,
   "metadata": {},
   "outputs": [],
   "source": [
    "class WordDictionary:\n",
    "\n",
    "    def __init__(self):\n",
    "        \"\"\"\n",
    "        Initialize your data structure here.\n",
    "        \"\"\"\n",
    "        self.lookup = {}\n",
    "        \n",
    "\n",
    "    def addWord(self, word: str) -> None:\n",
    "        \"\"\"\n",
    "        Adds a word into the data structure.\n",
    "        \"\"\"\n",
    "        tree = self.lookup\n",
    "        for c in word:\n",
    "            # 一直循环创建字典当树的分支\n",
    "            tree = tree.setdefault(c, {})\n",
    "            \n",
    "        # 代表单词结束的标志 相当于一个标识符\n",
    "        tree = tree.setdefault('#', {})\n",
    "        \n",
    "\n",
    "    def search(self, word: str) -> bool:\n",
    "        \"\"\"\n",
    "        Returns if the word is in the data structure. A word could contain the dot character '.' to represent any one letter.\n",
    "        \"\"\"\n",
    "        if word is None or len(word) == 0:\n",
    "            return False\n",
    "        def helper(word, tree):\n",
    "#             if word is None:\n",
    "            if not word:\n",
    "                # 当搜索结束时 看看#在不在这个字典中,在的话 说明是个是个单词, 不在的话 说明不是单词\n",
    "                if '#' in tree:\n",
    "                    return True\n",
    "                return False\n",
    "            \n",
    "            if word[0] == '.':\n",
    "                for t in tree:\n",
    "                    # t 相当于是个键, value是个字典\n",
    "                    if helper(word[1:], tree[t]):\n",
    "                        return True\n",
    "            elif word[0] in tree:\n",
    "                if helper(word[1:], tree[word[0]]):\n",
    "                    return True\n",
    "            return False\n",
    "        \n",
    "        return helper(word, self.lookup)\n"
   ]
  },
  {
   "cell_type": "code",
   "execution_count": 48,
   "metadata": {},
   "outputs": [],
   "source": [
    "obj = WordDictionary()\n",
    "obj.addWord('bad')\n",
    "obj.addWord('bed')\n",
    "obj.addWord(\"dad\")\n",
    "\n",
    "# param_2 = obj.search(word)"
   ]
  },
  {
   "cell_type": "code",
   "execution_count": 49,
   "metadata": {},
   "outputs": [
    {
     "data": {
      "text/plain": [
       "{'b': {'a': {'d': {'#': {}}}, 'e': {'d': {'#': {}}}},\n",
       " 'd': {'a': {'d': {'#': {}}}}}"
      ]
     },
     "execution_count": 49,
     "metadata": {},
     "output_type": "execute_result"
    }
   ],
   "source": [
    "obj.lookup"
   ]
  },
  {
   "cell_type": "code",
   "execution_count": 51,
   "metadata": {},
   "outputs": [
    {
     "name": "stdout",
     "output_type": "stream",
     "text": [
      "----- == bed\n",
      "----- == ed\n",
      "----- == d\n",
      "----- == \n",
      "#####-----  0\n"
     ]
    },
    {
     "data": {
      "text/plain": [
       "True"
      ]
     },
     "execution_count": 51,
     "metadata": {},
     "output_type": "execute_result"
    }
   ],
   "source": [
    "obj.search('bed')"
   ]
  },
  {
   "cell_type": "code",
   "execution_count": 52,
   "metadata": {},
   "outputs": [
    {
     "name": "stdout",
     "output_type": "stream",
     "text": [
      "----- == be\n",
      "----- == e\n",
      "----- == \n",
      "#####-----  0\n"
     ]
    },
    {
     "data": {
      "text/plain": [
       "False"
      ]
     },
     "execution_count": 52,
     "metadata": {},
     "output_type": "execute_result"
    }
   ],
   "source": [
    "obj.search('be')"
   ]
  },
  {
   "cell_type": "code",
   "execution_count": null,
   "metadata": {},
   "outputs": [],
   "source": []
  },
  {
   "cell_type": "code",
   "execution_count": 17,
   "metadata": {},
   "outputs": [],
   "source": []
  },
  {
   "cell_type": "code",
   "execution_count": 17,
   "metadata": {},
   "outputs": [],
   "source": []
  },
  {
   "cell_type": "code",
   "execution_count": 17,
   "metadata": {},
   "outputs": [],
   "source": []
  },
  {
   "cell_type": "code",
   "execution_count": 17,
   "metadata": {},
   "outputs": [],
   "source": [
    "class WordDictionary:\n",
    "\n",
    "    def __init__(self):\n",
    "        \"\"\"\n",
    "        Initialize your data structure here.\n",
    "        \"\"\"\n",
    "        from collections import defaultdict\n",
    "        self.lookup = {}\n",
    "        \n",
    "\n",
    "    def addWord(self, word: str) -> None:\n",
    "        \"\"\"\n",
    "        Adds a word into the data structure.\n",
    "        \"\"\"\n",
    "        tree = self.lookup\n",
    "        for a in word:\n",
    "            tree = tree.setdefault(a, {})\n",
    "        tree[\"#\"] = {}\n",
    "        \n",
    "\n",
    "    def search(self, word: str) -> bool:\n",
    "        \"\"\"\n",
    "        Returns if the word is in the data structure. A word could contain the dot character '.' to represent any one letter.\n",
    "        \"\"\"\n",
    "        \n",
    "        def helper(word, tree):\n",
    "            if not word:\n",
    "                if \"#\" in tree:\n",
    "                    return True\n",
    "                return False\n",
    "            if word[0] == \".\":\n",
    "                for t in tree:\n",
    "                    if helper(word[1:], tree[t]):\n",
    "                        return True\n",
    "            elif word[0] in tree:\n",
    "                if helper(word[1:], tree[word[0]]):\n",
    "                    return True\n",
    "            return False\n",
    "        return helper(word, self.lookup)"
   ]
  },
  {
   "cell_type": "code",
   "execution_count": 20,
   "metadata": {},
   "outputs": [],
   "source": [
    "wd = WordDictionary()\n",
    "\n",
    "# wd.addWord('abc')\n",
    "# wd.addWord('abc2')\n",
    "# wd.addWord('abx')\n",
    "wd.addWord(\"bad\")\n",
    "wd.addWord('bed')\n",
    "wd.addWord(\"dad\")\n",
    "wd.addWord(\"mad\")\n",
    "# wd.addWord('baded')\n",
    "# search(\"pad\") -> false\n",
    "# search(\"bad\") -> true\n",
    "# search(\".ad\") -> true\n",
    "# search(\"b..\") -> true\n",
    "\n",
    "# {'a': {'b': {'c': {'#': {}, \n",
    "#                    '2': {'#': {}}\n",
    "#                   }\n",
    "#             }\n",
    "#       }\n",
    "# }\n"
   ]
  },
  {
   "cell_type": "code",
   "execution_count": 21,
   "metadata": {},
   "outputs": [
    {
     "data": {
      "text/plain": [
       "{'b': {'a': {'d': {'#': {}}}, 'e': {'d': {'#': {}}}},\n",
       " 'd': {'a': {'d': {'#': {}}}},\n",
       " 'm': {'a': {'d': {'#': {}}}}}"
      ]
     },
     "execution_count": 21,
     "metadata": {},
     "output_type": "execute_result"
    }
   ],
   "source": [
    "wd.lookup"
   ]
  },
  {
   "cell_type": "code",
   "execution_count": 46,
   "metadata": {},
   "outputs": [
    {
     "data": {
      "text/plain": [
       "True"
      ]
     },
     "execution_count": 46,
     "metadata": {},
     "output_type": "execute_result"
    }
   ],
   "source": [
    "wd.search(\"bed\")"
   ]
  },
  {
   "cell_type": "code",
   "execution_count": null,
   "metadata": {},
   "outputs": [],
   "source": []
  }
 ],
 "metadata": {
  "kernelspec": {
   "display_name": "Python 3",
   "language": "python",
   "name": "python3"
  },
  "language_info": {
   "codemirror_mode": {
    "name": "ipython",
    "version": 3
   },
   "file_extension": ".py",
   "mimetype": "text/x-python",
   "name": "python",
   "nbconvert_exporter": "python",
   "pygments_lexer": "ipython3",
   "version": "3.7.3"
  }
 },
 "nbformat": 4,
 "nbformat_minor": 2
}
