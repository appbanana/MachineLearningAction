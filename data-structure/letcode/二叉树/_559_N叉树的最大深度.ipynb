{
 "cells": [
  {
   "cell_type": "code",
   "execution_count": 6,
   "metadata": {},
   "outputs": [],
   "source": [
    "# 104. 二叉树的最大深度\n",
    "# https://leetcode-cn.com/problems/binary-tree-level-order-traversal/comments/\n",
    "\n",
    "class TreeNode:\n",
    "    def __init__(self, x):\n",
    "        self.val = x\n",
    "        self.left = None\n",
    "        self.right = None\n",
    "\n",
    "class Solution:\n",
    "        \n",
    "    # 递归来实现\n",
    "    # 执行用时 : 72 ms, 在Maximum Depth of Binary Tree的Python3提交中击败了52.53% 的用户\n",
    "    # 内存消耗 : 15 MB, 在Maximum Depth of Binary Tree的Python3提交中击败了86.22% 的用户\n",
    "    def maxDepth(self, root: TreeNode) -> int:\n",
    "        return self.height(root)\n",
    "    \n",
    "    def height(self, node: TreeNode) -> int:\n",
    "        if node is None: return 0\n",
    "        return 1 + max(self.height(node.left), self.height(node.right))\n",
    "\n",
    "\n",
    "    # 迭代实现\n",
    "    # 执行用时 : 72 ms, 在Maximum Depth of Binary Tree的Python3提交中击败了52.53% 的用户\n",
    "    # 内存消耗 : 14.3 MB, 在Maximum Depth of Binary Tree的Python3提交中击败了98.81% 的用户\n",
    "    def maxDepth(self, root: TreeNode) -> int:\n",
    "        if root is None: return 0\n",
    "\n",
    "        return height\n",
    "    \n"
   ]
  },
  {
   "cell_type": "code",
   "execution_count": 7,
   "metadata": {},
   "outputs": [
    {
     "data": {
      "text/plain": [
       "5"
      ]
     },
     "execution_count": 7,
     "metadata": {},
     "output_type": "execute_result"
    }
   ],
   "source": [
    "max(3, 5)"
   ]
  },
  {
   "cell_type": "code",
   "execution_count": null,
   "metadata": {},
   "outputs": [],
   "source": []
  }
 ],
 "metadata": {
  "kernelspec": {
   "display_name": "Python 3",
   "language": "python",
   "name": "python3"
  },
  "language_info": {
   "codemirror_mode": {
    "name": "ipython",
    "version": 3
   },
   "file_extension": ".py",
   "mimetype": "text/x-python",
   "name": "python",
   "nbconvert_exporter": "python",
   "pygments_lexer": "ipython3",
   "version": "3.7.3"
  }
 },
 "nbformat": 4,
 "nbformat_minor": 2
}
