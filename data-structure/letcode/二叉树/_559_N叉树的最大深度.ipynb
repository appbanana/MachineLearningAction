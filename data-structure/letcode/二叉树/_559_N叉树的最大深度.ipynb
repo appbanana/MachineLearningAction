{
 "cells": [
  {
   "cell_type": "code",
   "execution_count": 9,
   "metadata": {},
   "outputs": [],
   "source": [
    "# 104. 二叉树的最大深度\n",
    "# https://leetcode-cn.com/problems/binary-tree-level-order-traversal/comments/\n",
    "\n",
    "class Node:\n",
    "    def __init__(self, val, children):\n",
    "        self.val = val\n",
    "        self.children = children\n",
    "\n",
    "class Solution:\n",
    "        \n",
    "    # 递归来实现\n",
    "    # 执行用时 : 120 ms, 在Maximum Depth of N-ary Tree的Python3提交中击败了56.07% 的用户\n",
    "    # 内存消耗 : 17.4 MB, 在Maximum Depth of N-ary Tree的Python3提交中击败了96.05% 的用户\n",
    "    def maxDepth(self, root: Node) -> int:\n",
    "        return self.height(root)\n",
    "    \n",
    "    def height(self, node: 'Node') -> int:\n",
    "        if node is None: return 0\n",
    "        depth = 0\n",
    "        for i in node.children:\n",
    "            depth = max(self.height(i), depth)\n",
    "        return 1 + depth\n",
    "\n",
    "\n",
    "    # 迭代实现\n",
    "    # 执行用时 : 124 ms, 在Maximum Depth of N-ary Tree的Python3提交中击败了48.32% 的用户\n",
    "    # 内存消耗 : 17.2 MB, 在Maximum Depth of N-ary Tree的Python3提交中击败了99.12% 的用户\n",
    "    def maxDepth(self, root: Node) -> int:\n",
    "        if root is None: return 0\n",
    "        queue = [root]\n",
    "        level_size = 1\n",
    "        height = 0\n",
    "        while len(queue):\n",
    "            node = queue.pop(0)\n",
    "            level_size -= 1\n",
    "            if len(node.children):\n",
    "                queue.extend(node.children)\n",
    "            if level_size == 0:\n",
    "                height += 1\n",
    "                level_size = len(queue)\n",
    "        return height\n",
    "    \n"
   ]
  },
  {
   "cell_type": "code",
   "execution_count": 7,
   "metadata": {},
   "outputs": [
    {
     "data": {
      "text/plain": [
       "5"
      ]
     },
     "execution_count": 7,
     "metadata": {},
     "output_type": "execute_result"
    }
   ],
   "source": [
    "max(3, 5)"
   ]
  },
  {
   "cell_type": "code",
   "execution_count": 10,
   "metadata": {},
   "outputs": [
    {
     "data": {
      "text/plain": [
       "<map at 0x10940ab70>"
      ]
     },
     "execution_count": 10,
     "metadata": {},
     "output_type": "execute_result"
    }
   ],
   "source": []
  },
  {
   "cell_type": "code",
   "execution_count": 15,
   "metadata": {},
   "outputs": [
    {
     "data": {
      "text/plain": [
       "[1, 9, 16]"
      ]
     },
     "execution_count": 15,
     "metadata": {},
     "output_type": "execute_result"
    }
   ],
   "source": [
    "[*map(lambda x: x ** 2, [1, 3, 4])]"
   ]
  },
  {
   "cell_type": "code",
   "execution_count": null,
   "metadata": {},
   "outputs": [],
   "source": []
  }
 ],
 "metadata": {
  "kernelspec": {
   "display_name": "Python 3",
   "language": "python",
   "name": "python3"
  },
  "language_info": {
   "codemirror_mode": {
    "name": "ipython",
    "version": 3
   },
   "file_extension": ".py",
   "mimetype": "text/x-python",
   "name": "python",
   "nbconvert_exporter": "python",
   "pygments_lexer": "ipython3",
   "version": "3.7.3"
  }
 },
 "nbformat": 4,
 "nbformat_minor": 2
}
