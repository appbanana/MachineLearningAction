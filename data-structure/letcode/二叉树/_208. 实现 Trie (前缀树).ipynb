{
 "cells": [
  {
   "cell_type": "code",
   "execution_count": 1,
   "metadata": {},
   "outputs": [],
   "source": [
    "# _208. 实现 Trie (前缀树)\n",
    "# https://leetcode-cn.com/problems/implement-trie-prefix-tree/"
   ]
  },
  {
   "cell_type": "code",
   "execution_count": 2,
   "metadata": {},
   "outputs": [],
   "source": [
    "class Trie:\n",
    "\n",
    "    def __init__(self):\n",
    "        \"\"\"\n",
    "        Initialize your data structure here.\n",
    "        \"\"\"\n",
    "        self.lookup = {}\n",
    "        \n",
    "\n",
    "    def insert(self, word: str) -> None:\n",
    "        \"\"\"\n",
    "        Inserts a word into the trie.\n",
    "        \"\"\"\n",
    "        tree = self.lookup\n",
    "        for c in word:\n",
    "            tree = tree.setdefault(c, {})\n",
    "            \n",
    "        # 单词结束标志符\n",
    "        tree.setdefault('#', {})\n",
    "        \n",
    "\n",
    "    def search(self, word: str) -> bool:\n",
    "        \"\"\"\n",
    "        Returns if the word is in the trie.\n",
    "        \"\"\"\n",
    "        \n",
    "        def helper(word, tree):\n",
    "            if not word:\n",
    "                if '#' in tree:\n",
    "                    return True\n",
    "                return False\n",
    "            if word[0] == '.':\n",
    "                for t in tree:\n",
    "                    if helper(word[1:], t):\n",
    "                        return True\n",
    "            elif word[0] in tree:\n",
    "                if helper(word[1:], tree[word[0]]):\n",
    "                    return True\n",
    "            return False\n",
    "        return helper(word, self.lookup)\n",
    "        \n",
    "\n",
    "    def startsWith(self, prefix: str) -> bool:\n",
    "        \"\"\"\n",
    "        Returns if there is any word in the trie that starts with the given prefix.\n",
    "        \"\"\"\n",
    "        tree = self.lookup\n",
    "        for key in prefix:\n",
    "            if key in tree:\n",
    "                tree = tree[key]\n",
    "            else:\n",
    "                return False\n",
    "        return True\n",
    "            \n",
    "\n",
    "\n"
   ]
  },
  {
   "cell_type": "code",
   "execution_count": 4,
   "metadata": {},
   "outputs": [],
   "source": [
    "obj = Trie()\n",
    "obj.insert('word')\n",
    "obj.insert('bed')\n",
    "obj.insert('bad')\n",
    "obj.insert('quick')\n",
    "obj.insert('quickly')\n",
    "\n"
   ]
  },
  {
   "cell_type": "code",
   "execution_count": 5,
   "metadata": {},
   "outputs": [
    {
     "data": {
      "text/plain": [
       "True"
      ]
     },
     "execution_count": 5,
     "metadata": {},
     "output_type": "execute_result"
    }
   ],
   "source": [
    "obj.search('word')"
   ]
  },
  {
   "cell_type": "code",
   "execution_count": 6,
   "metadata": {},
   "outputs": [
    {
     "data": {
      "text/plain": [
       "True"
      ]
     },
     "execution_count": 6,
     "metadata": {},
     "output_type": "execute_result"
    }
   ],
   "source": [
    "obj.startsWith('quic')"
   ]
  },
  {
   "cell_type": "code",
   "execution_count": null,
   "metadata": {},
   "outputs": [],
   "source": []
  }
 ],
 "metadata": {
  "kernelspec": {
   "display_name": "Python 3",
   "language": "python",
   "name": "python3"
  },
  "language_info": {
   "codemirror_mode": {
    "name": "ipython",
    "version": 3
   },
   "file_extension": ".py",
   "mimetype": "text/x-python",
   "name": "python",
   "nbconvert_exporter": "python",
   "pygments_lexer": "ipython3",
   "version": "3.7.3"
  }
 },
 "nbformat": 4,
 "nbformat_minor": 2
}
