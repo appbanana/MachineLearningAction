{
 "cells": [
  {
   "cell_type": "code",
   "execution_count": 1,
   "metadata": {},
   "outputs": [],
   "source": [
    "# 662. 二叉树最大宽度\n",
    "# https://leetcode-cn.com/problems/maximum-width-of-binary-tree/"
   ]
  },
  {
   "cell_type": "code",
   "execution_count": 5,
   "metadata": {},
   "outputs": [],
   "source": [
    "class TreeNode:\n",
    "    def __init__(self, x):\n",
    "        self.val = x\n",
    "        self.left = None\n",
    "        self.right = None\n",
    "\n",
    "import collections\n",
    "class Solution:\n",
    "    \n",
    "    \"\"\"\n",
    "    仿照满二叉树标记节点索引, 拿最右边节点索引减去最左边的索引 在加1 就是最大宽度\n",
    "    \"\"\"\n",
    "    def widthOfBinaryTree(self, root: TreeNode) -> int:\n",
    "        \"\"\"\n",
    "        思路: 仿照满二叉树标记节点索引, 然后每一层最右边节点索引减去最左边的索引 在加1 就是最大宽度\n",
    "\n",
    "        \"\"\"\n",
    "        if root is None: return 0\n",
    "        # 队列 存放节点\n",
    "        queue = collections.deque([])\n",
    "        queue.append(root)\n",
    "        # 队列 记录节点的下标 root下标初始化为0\n",
    "        index_list = collections.deque([])\n",
    "        index_list.append(0)\n",
    "        # 初始化最大宽度为1\n",
    "        max_width = 1\n",
    "        # 记录每一层节点的数量, 初始化为1\n",
    "        level_size = 1\n",
    "        \n",
    "        # 这其实就是层序遍历\n",
    "        while len(queue):\n",
    "            node = queue.popleft()\n",
    "            level_size -= 1\n",
    "            index = index_list.popleft()\n",
    "            \n",
    "            if node.left is not None:\n",
    "                queue.append(node.left)\n",
    "                # 左子节点的下标是 2*i+1\n",
    "                index_list.append(2 * index + 1)\n",
    "            if node.right is not None:\n",
    "                queue.append(node.right)\n",
    "                # 右子节点的下标是 2*i+2\n",
    "                index_list.append(2 * index + 2)\n",
    "            \n",
    "            if level_size == 0:\n",
    "                level_size = len(queue)\n",
    "                if len(index_list) >= 2:\n",
    "                    max_width = max(max_width, index_list[-1] - index_list[0] + 1)\n",
    "            \n",
    "        return max_width\n",
    "    "
   ]
  },
  {
   "cell_type": "code",
   "execution_count": 6,
   "metadata": {},
   "outputs": [],
   "source": [
    "import collections\n",
    "index_list = collections.deque([])\n",
    "index_list.append(0)"
   ]
  },
  {
   "cell_type": "code",
   "execution_count": 7,
   "metadata": {},
   "outputs": [
    {
     "data": {
      "text/plain": [
       "0"
      ]
     },
     "execution_count": 7,
     "metadata": {},
     "output_type": "execute_result"
    }
   ],
   "source": [
    "index_list[-1]"
   ]
  },
  {
   "cell_type": "code",
   "execution_count": 4,
   "metadata": {},
   "outputs": [
    {
     "ename": "IndexError",
     "evalue": "pop from an empty deque",
     "output_type": "error",
     "traceback": [
      "\u001b[0;31m---------------------------------------------------------------------------\u001b[0m",
      "\u001b[0;31mIndexError\u001b[0m                                Traceback (most recent call last)",
      "\u001b[0;32m<ipython-input-4-7bb4b7f33922>\u001b[0m in \u001b[0;36m<module>\u001b[0;34m\u001b[0m\n\u001b[0;32m----> 1\u001b[0;31m \u001b[0mindex_list\u001b[0m\u001b[0;34m.\u001b[0m\u001b[0mpop\u001b[0m\u001b[0;34m(\u001b[0m\u001b[0;34m)\u001b[0m\u001b[0;34m\u001b[0m\u001b[0;34m\u001b[0m\u001b[0m\n\u001b[0m",
      "\u001b[0;31mIndexError\u001b[0m: pop from an empty deque"
     ]
    }
   ],
   "source": []
  },
  {
   "cell_type": "code",
   "execution_count": null,
   "metadata": {},
   "outputs": [],
   "source": []
  }
 ],
 "metadata": {
  "kernelspec": {
   "display_name": "Python 3",
   "language": "python",
   "name": "python3"
  },
  "language_info": {
   "codemirror_mode": {
    "name": "ipython",
    "version": 3
   },
   "file_extension": ".py",
   "mimetype": "text/x-python",
   "name": "python",
   "nbconvert_exporter": "python",
   "pygments_lexer": "ipython3",
   "version": "3.7.3"
  }
 },
 "nbformat": 4,
 "nbformat_minor": 2
}
