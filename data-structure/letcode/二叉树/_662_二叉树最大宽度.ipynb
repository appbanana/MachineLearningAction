{
 "cells": [
  {
   "cell_type": "code",
   "execution_count": 8,
   "metadata": {},
   "outputs": [],
   "source": [
    "# 662. 二叉树最大宽度\n",
    "# https://leetcode-cn.com/problems/maximum-width-of-binary-tree/\n",
    "\n",
    "class TreeNode:\n",
    "    def __init__(self, x):\n",
    "        self.val = x\n",
    "        self.left = None\n",
    "        self.right = None\n",
    "\n",
    "class Solution:\n",
    "    \n",
    "    # 迭代来实现 后序 左 右 根 输出这种格式的[[1], [2, 3], [4, 5, 6, 7]]\n",
    "    # 执行用时 : 64 ms, 在Binary Tree Level Order Traversal的Python3提交中击败了46.54% 的用户\n",
    "    # 内存消耗 : 13 MB, 在Binary Tree Level Order Traversal的Python3提交中击败了99.59% 的用户\n",
    "    def widthOfBinaryTree(self, root: TreeNode) -> int:\n",
    "        if root is None: return []\n",
    "        stack = [root]\n",
    "        order_list = []\n",
    "        inner_list = []\n",
    "        level_size = 1\n",
    "        while len(stack):\n",
    "            node = stack.pop(0)\n",
    "            inner_list.append(node.val)\n",
    "            level_size = level_size -1\n",
    "            if node.left:\n",
    "                stack.append(node.left)\n",
    "            if node.right:\n",
    "                stack.append(node.right)\n",
    "            if level_size == 0:\n",
    "                level_size = len(stack)\n",
    "                order_list.append(inner_list)\n",
    "                # 这不可能用clear 这涉及到深层拷贝\n",
    "                inner_list = []\n",
    "\n",
    "        return order_list\n",
    "    \n"
   ]
  }
 ],
 "metadata": {
  "kernelspec": {
   "display_name": "Python 3",
   "language": "python",
   "name": "python3"
  },
  "language_info": {
   "codemirror_mode": {
    "name": "ipython",
    "version": 3
   },
   "file_extension": ".py",
   "mimetype": "text/x-python",
   "name": "python",
   "nbconvert_exporter": "python",
   "pygments_lexer": "ipython3",
   "version": "3.7.3"
  }
 },
 "nbformat": 4,
 "nbformat_minor": 2
}
