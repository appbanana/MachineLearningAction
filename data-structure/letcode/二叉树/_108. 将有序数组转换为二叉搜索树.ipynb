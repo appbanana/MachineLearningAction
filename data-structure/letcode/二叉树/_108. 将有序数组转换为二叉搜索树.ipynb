{
 "cells": [
  {
   "cell_type": "code",
   "execution_count": 1,
   "metadata": {},
   "outputs": [],
   "source": [
    "# 108. 将有序数组转换为二叉搜索树\n",
    "# https://leetcode-cn.com/problems/convert-sorted-array-to-binary-search-tree/"
   ]
  },
  {
   "cell_type": "code",
   "execution_count": 16,
   "metadata": {},
   "outputs": [],
   "source": [
    "class TreeNode:\n",
    "    def __init__(self, x):\n",
    "        self.val = x\n",
    "        self.left = None\n",
    "        self.right = None\n",
    "\n",
    "class Solution:\n",
    "    def sortedArrayToBST(self, nums: list) -> TreeNode:\n",
    "        if nums is None:\n",
    "            return None\n",
    "        begin = 0\n",
    "        end = len(nums) - 1\n",
    "        return self.buildTree(nums, begin, end)\n",
    "    \n",
    "    def buildTree(self, nums: list,  begin: int, end: int):\n",
    "        if begin > end:\n",
    "            return None\n",
    "        print(begin + end)\n",
    "        mid = (begin + end) >> 1\n",
    "        root = TreeNode(nums[mid])\n",
    "        \n",
    "        root.left = self.buildTree(nums, begin, mid - 1)\n",
    "        root.right = self.buildTree(nums, mid + 1, end)\n",
    "        return root"
   ]
  },
  {
   "cell_type": "code",
   "execution_count": 6,
   "metadata": {},
   "outputs": [
    {
     "data": {
      "text/plain": [
       "int"
      ]
     },
     "execution_count": 6,
     "metadata": {},
     "output_type": "execute_result"
    }
   ],
   "source": []
  },
  {
   "cell_type": "code",
   "execution_count": null,
   "metadata": {},
   "outputs": [],
   "source": []
  }
 ],
 "metadata": {
  "kernelspec": {
   "display_name": "Python 3",
   "language": "python",
   "name": "python3"
  },
  "language_info": {
   "codemirror_mode": {
    "name": "ipython",
    "version": 3
   },
   "file_extension": ".py",
   "mimetype": "text/x-python",
   "name": "python",
   "nbconvert_exporter": "python",
   "pygments_lexer": "ipython3",
   "version": "3.7.3"
  }
 },
 "nbformat": 4,
 "nbformat_minor": 2
}
