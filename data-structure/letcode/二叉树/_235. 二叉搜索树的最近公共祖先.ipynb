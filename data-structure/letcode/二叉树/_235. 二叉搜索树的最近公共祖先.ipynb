{
 "cells": [
  {
   "cell_type": "code",
   "execution_count": 1,
   "metadata": {},
   "outputs": [],
   "source": [
    "# 235. 二叉搜索树的最近公共祖先\n",
    "# https://leetcode-cn.com/problems/lowest-common-ancestor-of-a-binary-search-tree/"
   ]
  },
  {
   "cell_type": "code",
   "execution_count": 2,
   "metadata": {},
   "outputs": [],
   "source": [
    "class TreeNode:\n",
    "    def __init__(self, x):\n",
    "        self.val = x\n",
    "        self.left = None\n",
    "        self.right = None\n",
    "\n",
    "class Solution:\n",
    "    def lowestCommonAncestor(self, root: 'TreeNode', p: 'TreeNode', q: 'TreeNode') -> 'TreeNode':\n",
    "        \"\"\"\n",
    "        非递归 思路: 利用二叉搜索树的性质, 左子树小于父节点,右子树大于父节点的值\n",
    "        \"\"\"\n",
    "        if root is None:\n",
    "            return root\n",
    "        p_val = p.val\n",
    "        q_val = q.val\n",
    "        parent_val = root.val\n",
    "        \n",
    "        node = root\n",
    "        while node:\n",
    "            parent_val = node.val\n",
    "            \n",
    "            if p_val < parent_val and q_val < parent_val:\n",
    "                node = node.left\n",
    "            elif p_val > parent_val and q_val > parent_val:\n",
    "                node = node.right\n",
    "            else:\n",
    "                return node\n",
    "        return None\n",
    "        \n",
    "    \n",
    "    def lowestCommonAncestor(self, root: 'TreeNode', p: 'TreeNode', q: 'TreeNode') -> 'TreeNode':\n",
    "        \"\"\"\n",
    "        递归 思路: 利用二叉搜索树的性质, 左子树小于父节点,右子树大于父节点的值\n",
    "        \"\"\"\n",
    "        if root is None:\n",
    "            return root\n",
    "        \n",
    "        p_val = p.val\n",
    "        q_val = q.val\n",
    "        \n",
    "        parent_val = root.val\n",
    "        \n",
    "        if p_val < parent_val and q_val < parent_val:\n",
    "            # 同时比父节点小 该节点可能不是最近的父节点\n",
    "            return self.lowestCommonAncestor(root.left, p, q)\n",
    "        \n",
    "        if p_val > parent_val and q_val > parent_val:\n",
    "            # 同时大于父节点,往右找\n",
    "            return self.lowestCommonAncestor(root.right, p, q)\n",
    "        return root\n",
    "        "
   ]
  },
  {
   "cell_type": "code",
   "execution_count": null,
   "metadata": {},
   "outputs": [],
   "source": []
  }
 ],
 "metadata": {
  "kernelspec": {
   "display_name": "Python 3",
   "language": "python",
   "name": "python3"
  },
  "language_info": {
   "codemirror_mode": {
    "name": "ipython",
    "version": 3
   },
   "file_extension": ".py",
   "mimetype": "text/x-python",
   "name": "python",
   "nbconvert_exporter": "python",
   "pygments_lexer": "ipython3",
   "version": "3.7.3"
  }
 },
 "nbformat": 4,
 "nbformat_minor": 2
}
