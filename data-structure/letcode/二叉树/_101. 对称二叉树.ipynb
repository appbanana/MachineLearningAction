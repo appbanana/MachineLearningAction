{
 "cells": [
  {
   "cell_type": "code",
   "execution_count": 1,
   "metadata": {},
   "outputs": [],
   "source": [
    "# 101. 对称二叉树\n",
    "# https://leetcode-cn.com/problems/symmetric-tree/"
   ]
  },
  {
   "cell_type": "code",
   "execution_count": null,
   "metadata": {},
   "outputs": [],
   "source": [
    "class TreeNode:\n",
    "    def __init__(self, x):\n",
    "        self.val = x\n",
    "        self.left = None\n",
    "        self.right = None\n",
    "        \n",
    "import collections\n",
    "class Solution:\n",
    "    def isSymmetric(self, root: TreeNode) -> bool:\n",
    "        \"\"\"\n",
    "        满二叉树  2^n\n",
    "        \"\"\"\n",
    "        \n",
    "        if root is None: return False\n",
    "        queue = collections.deque([])\n",
    "        queue.append(root)\n",
    "        \n",
    "        temp = []\n",
    "        level_size = 1\n",
    "        none_count = 0\n",
    "        while len(queue):\n",
    "            node = queue.popleft()\n",
    "            level_size -= 1\n",
    "            if node is None:\n",
    "                temp.append(None)\n",
    "                none_count += 1\n",
    "                continue\n",
    "                \n",
    "            temp.append(node.val)\n",
    "            queue.append(node.left)\n",
    "            queue.append(node.right)\n",
    "                \n",
    "            if level_size == 0:\n",
    "                level_size = len(queue) + none_count\n",
    "                if temp != temp[::-1]:\n",
    "                    return False\n",
    "                temp = []\n",
    "                none_count = 0\n",
    "            \n",
    "        return True\n",
    "            \n",
    "            \n",
    "        \n",
    "        "
   ]
  },
  {
   "cell_type": "code",
   "execution_count": null,
   "metadata": {},
   "outputs": [],
   "source": []
  },
  {
   "cell_type": "code",
   "execution_count": null,
   "metadata": {},
   "outputs": [],
   "source": []
  },
  {
   "cell_type": "code",
   "execution_count": null,
   "metadata": {},
   "outputs": [],
   "source": []
  }
 ],
 "metadata": {
  "kernelspec": {
   "display_name": "Python 3",
   "language": "python",
   "name": "python3"
  },
  "language_info": {
   "codemirror_mode": {
    "name": "ipython",
    "version": 3
   },
   "file_extension": ".py",
   "mimetype": "text/x-python",
   "name": "python",
   "nbconvert_exporter": "python",
   "pygments_lexer": "ipython3",
   "version": "3.7.3"
  }
 },
 "nbformat": 4,
 "nbformat_minor": 2
}
