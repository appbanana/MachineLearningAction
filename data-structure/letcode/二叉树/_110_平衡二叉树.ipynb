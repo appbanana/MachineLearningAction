{
 "cells": [
  {
   "cell_type": "code",
   "execution_count": 7,
   "metadata": {},
   "outputs": [],
   "source": [
    "# 110. 平衡二叉树\n",
    "# https://leetcode-cn.com/problems/balanced-binary-tree/comments/\n",
    "class TreeNode:\n",
    "    def __init__(self, x):\n",
    "        self.val = x\n",
    "        self.left = None\n",
    "        self.right = None\n",
    "\n",
    "class Solution:\n",
    "    # 执行用时 : 108 ms, 在Balanced Binary Tree的Python3提交中击败了43.53% 的用户\n",
    "    # 内存消耗 : 17.3 MB, 在Balanced Binary Tree的Python3提交中击败了98.42% 的用户\n",
    "    def height(self, node: TreeNode) -> int:\n",
    "        if node is None: return 0\n",
    "        return 1 + max(self.height(node.left), self.height(node.right))\n",
    "    \n",
    "    def isBalanced(self, root: TreeNode) -> bool:\n",
    "        if root is None: return True\n",
    "        if abs(self.height(root.left) - self.height(root.right)) >= 2: return False\n",
    "        \n",
    "        return self.isBalanced(root.left) and self.isBalanced(root.right)  \n",
    "\n",
    "    # 求高度使用迭代来实现\n",
    "    # 执行用时 : 104 ms, 在Balanced Binary Tree的Python3提交中击败了52.42% 的用户\n",
    "    # 内存消耗 : 13.9 MB, 在Balanced Binary Tree的Python3提交中击败了99.41% 的用户\n",
    "    def maxDepth(self, root: TreeNode) -> int:\n",
    "        if root is None: return 0\n",
    "        stack = [root]\n",
    "        level_size = 1\n",
    "        height = 0\n",
    "        while len(stack):\n",
    "            node = stack.pop(0)\n",
    "            level_size = level_size -1\n",
    "            if node.left:\n",
    "                stack.append(node.left)\n",
    "            if node.right:\n",
    "                stack.append(node.right)\n",
    "            if level_size == 0:\n",
    "                level_size = len(stack)\n",
    "                height += 1\n",
    "        return height\n",
    "        \n",
    "    def isBalanced(self, root: TreeNode) -> bool:\n",
    "        if root is None: return True\n",
    "        if abs(self.maxDepth(root.left) - self.maxDepth(root.right)) >= 2: return False\n",
    "        \n",
    "        return self.isBalanced(root.left) and self.isBalanced(root.right)   \n",
    "    "
   ]
  },
  {
   "cell_type": "code",
   "execution_count": 2,
   "metadata": {},
   "outputs": [
    {
     "data": {
      "text/plain": [
       "1"
      ]
     },
     "execution_count": 2,
     "metadata": {},
     "output_type": "execute_result"
    }
   ],
   "source": []
  },
  {
   "cell_type": "code",
   "execution_count": null,
   "metadata": {},
   "outputs": [],
   "source": []
  }
 ],
 "metadata": {
  "kernelspec": {
   "display_name": "Python 3",
   "language": "python",
   "name": "python3"
  },
  "language_info": {
   "codemirror_mode": {
    "name": "ipython",
    "version": 3
   },
   "file_extension": ".py",
   "mimetype": "text/x-python",
   "name": "python",
   "nbconvert_exporter": "python",
   "pygments_lexer": "ipython3",
   "version": "3.7.3"
  }
 },
 "nbformat": 4,
 "nbformat_minor": 2
}
