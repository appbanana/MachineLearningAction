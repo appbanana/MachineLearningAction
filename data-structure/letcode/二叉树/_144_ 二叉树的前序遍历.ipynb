{
 "cells": [
  {
   "cell_type": "code",
   "execution_count": 8,
   "metadata": {},
   "outputs": [],
   "source": [
    "# 144. 二叉树的前序遍历\n",
    "# https://leetcode-cn.com/problems/binary-tree-preorder-traversal/\n",
    "\n",
    "class TreeNode:\n",
    "    def __init__(self, x):\n",
    "        self.val = x\n",
    "        self.left = None\n",
    "        self.right = None\n",
    "\n",
    "class Solution:\n",
    "#     def __init__(self):  \n",
    "#         self.order_list = []\n",
    "        \n",
    "    # 递归来实现\n",
    "    def preorderTraversal(self, root: TreeNode) -> List[int]:\n",
    "        order_list = []\n",
    "        self.preorder(root, order_list)\n",
    "        return order_list\n",
    "    \n",
    "    def preorder(self, node: TreeNode, order_list:list): \n",
    "        if node is None: return \n",
    "        order_list.append(node.val)\n",
    "        self.preorder(node.left, order_list)\n",
    "        self.preorder(node.right, order_list) \n",
    "    \n",
    "    # 迭代来实现 根 左 右\n",
    "    def preorderTraversal1(self, root: TreeNode) -> list:\n",
    "        if root is None: return []\n",
    "        # 记录node的顺序\n",
    "        stack = [root]\n",
    "        order_list = []\n",
    "        while len(stack):\n",
    "            node = stack.pop()\n",
    "            order_list.append(node.val)\n",
    "            if node.right is not None:\n",
    "                stack.append(node.right)\n",
    "            if node.left is not None:\n",
    "                stack.append(node.left)\n",
    "        return order_list\n",
    "    \n"
   ]
  },
  {
   "cell_type": "code",
   "execution_count": 2,
   "metadata": {},
   "outputs": [],
   "source": []
  },
  {
   "cell_type": "code",
   "execution_count": null,
   "metadata": {},
   "outputs": [],
   "source": []
  }
 ],
 "metadata": {
  "kernelspec": {
   "display_name": "Python 3",
   "language": "python",
   "name": "python3"
  },
  "language_info": {
   "codemirror_mode": {
    "name": "ipython",
    "version": 3
   },
   "file_extension": ".py",
   "mimetype": "text/x-python",
   "name": "python",
   "nbconvert_exporter": "python",
   "pygments_lexer": "ipython3",
   "version": "3.7.3"
  }
 },
 "nbformat": 4,
 "nbformat_minor": 2
}
