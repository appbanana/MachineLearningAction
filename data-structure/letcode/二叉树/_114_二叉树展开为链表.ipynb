{
 "cells": [
  {
   "cell_type": "code",
   "execution_count": 8,
   "metadata": {},
   "outputs": [],
   "source": [
    "# 114. 二叉树展开为链表\n",
    "# https://leetcode-cn.com/problems/flatten-binary-tree-to-linked-list/\n",
    "# 思路: 前序来实现\n",
    "\n",
    "class TreeNode:\n",
    "    def __init__(self, x):\n",
    "        self.val = x\n",
    "        self.left = None\n",
    "        self.right = None\n",
    "\n",
    "class Solution:\n",
    "    \n",
    "    # 迭代来实现 思路:使用前序遍历,把遍历的node拼接到新的node(new_root)上\n",
    "    # 执行用时 : 92 ms, 在Flatten Binary Tree to Linked List的Python3提交中击败了19.35% 的用户\n",
    "    # 内存消耗 : 13.2 MB, 在Flatten Binary Tree to Linked List的Python3提交中击败了95.43% 的用户\n",
    "    def flatten(self, root: TreeNode) -> None:\n",
    "        if root is None: return root\n",
    "        stack = [root]\n",
    "        new_root = TreeNode(0)\n",
    "        head = new_root\n",
    "        while len(stack):\n",
    "            node = stack.pop()\n",
    "            if node.right:\n",
    "                stack.append(node.right)\n",
    "            if node.left:\n",
    "                stack.append(node.left)\n",
    "            new_root.right = node\n",
    "            # 将当前节点的左子树置空\n",
    "            node.left = None\n",
    "            new_root = new_root.right\n",
    "        root = head.right\n",
    "    \n"
   ]
  }
 ],
 "metadata": {
  "kernelspec": {
   "display_name": "Python 3",
   "language": "python",
   "name": "python3"
  },
  "language_info": {
   "codemirror_mode": {
    "name": "ipython",
    "version": 3
   },
   "file_extension": ".py",
   "mimetype": "text/x-python",
   "name": "python",
   "nbconvert_exporter": "python",
   "pygments_lexer": "ipython3",
   "version": "3.7.3"
  }
 },
 "nbformat": 4,
 "nbformat_minor": 2
}
