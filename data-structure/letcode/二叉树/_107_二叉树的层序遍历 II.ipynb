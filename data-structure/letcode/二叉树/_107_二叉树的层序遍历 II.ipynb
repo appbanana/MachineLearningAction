{
 "cells": [
  {
   "cell_type": "code",
   "execution_count": 1,
   "metadata": {},
   "outputs": [],
   "source": [
    "# 107. 二叉树的层次遍历 II\n",
    "# https://leetcode-cn.com/problems/binary-tree-level-order-traversal-ii/\n",
    "\n",
    "class TreeNode:\n",
    "    def __init__(self, x):\n",
    "        self.val = x\n",
    "        self.left = None\n",
    "        self.right = None\n",
    "\n",
    "class Solution:\n",
    "\n",
    "    \n",
    "    # 迭代来实现 后序 左 右 根 输出这种格式的[[4, 5, 6, 7], [2, 3], [1],]\n",
    "    # 执行用时 : 64 ms, 在Binary Tree Level Order Traversal II的Python3提交中击败了44.87% 的用户\n",
    "    # 内存消耗 : 13.1 MB, 在Binary Tree Level Order Traversal II的Python3提交中击败了98.71% 的用户\n",
    "    def levelOrder1(self, root: TreeNode) -> list:\n",
    "        if root is None: return []\n",
    "        # 队列 先进先出\n",
    "        queue = [root]\n",
    "        order_list = []\n",
    "        inner_list = []\n",
    "        level_size = 1\n",
    "        while len(queue):\n",
    "            node = queue.pop(0)\n",
    "            inner_list.append(node.val)\n",
    "            level_size -= 1\n",
    "            if node.left:\n",
    "                queue.append(node.left)\n",
    "            if node.right:\n",
    "                queue.append(node.right)\n",
    "            if level_size == 0:\n",
    "                order_list.append(inner_list)\n",
    "                inner_list = []\n",
    "                level_size = len(queue)\n",
    "        order_list.reverse()\n",
    "        return order_list\n",
    "    \n",
    "    # 迭代来实现 后序 左 右 根 输出这种格式的[1, 2, 3, 4, 5]\n",
    "    def levelOrder2(self, root: TreeNode) -> list:\n",
    "        if root is None: return []\n",
    "        stack = [root]\n",
    "        order_list = []\n",
    "        while len(stack):\n",
    "            node = stack.pop(0)\n",
    "            order_list.append(node.val)\n",
    "            if node.left:\n",
    "                stack.append(node.left)\n",
    "            if node.right:\n",
    "                stack.append(node.right)\n",
    "        return order_list\n",
    "    \n"
   ]
  },
  {
   "cell_type": "code",
   "execution_count": 2,
   "metadata": {},
   "outputs": [],
   "source": [
    "a = [[1], [2, 3], [4, 5, 6, 7]]\n",
    "a.reverse()"
   ]
  },
  {
   "cell_type": "code",
   "execution_count": 3,
   "metadata": {},
   "outputs": [
    {
     "data": {
      "text/plain": [
       "[[4, 5, 6, 7], [2, 3], [1]]"
      ]
     },
     "execution_count": 3,
     "metadata": {},
     "output_type": "execute_result"
    }
   ],
   "source": [
    "a\n"
   ]
  },
  {
   "cell_type": "code",
   "execution_count": null,
   "metadata": {},
   "outputs": [],
   "source": []
  }
 ],
 "metadata": {
  "kernelspec": {
   "display_name": "Python 3",
   "language": "python",
   "name": "python3"
  },
  "language_info": {
   "codemirror_mode": {
    "name": "ipython",
    "version": 3
   },
   "file_extension": ".py",
   "mimetype": "text/x-python",
   "name": "python",
   "nbconvert_exporter": "python",
   "pygments_lexer": "ipython3",
   "version": "3.7.3"
  }
 },
 "nbformat": 4,
 "nbformat_minor": 2
}
