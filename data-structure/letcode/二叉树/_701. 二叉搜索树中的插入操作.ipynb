{
 "cells": [
  {
   "cell_type": "code",
   "execution_count": 1,
   "metadata": {},
   "outputs": [],
   "source": [
    "# 701. 二叉搜索树中的插入操作\n",
    "# https://leetcode-cn.com/problems/insert-into-a-binary-search-tree/"
   ]
  },
  {
   "cell_type": "code",
   "execution_count": null,
   "metadata": {},
   "outputs": [],
   "source": [
    "# Definition for a binary tree node.\n",
    "class TreeNode:\n",
    "    def __init__(self, x):\n",
    "        self.val = x\n",
    "        self.left = None\n",
    "        self.right = None\n",
    "\n",
    "class Solution:\n",
    "    def insertIntoBST(self, root: TreeNode, val: int) -> TreeNode:\n",
    "        \"\"\"\n",
    "        注意: 插入的节点一定是叶子节点\n",
    "        \"\"\"\n",
    "        if root is None:\n",
    "            # 如果根节点为空 直接让root指向新创建的节点\n",
    "            root = TreeNode(val)\n",
    "            return root\n",
    "        \n",
    "        curr = root\n",
    "        parent = curr\n",
    "        # 寻找val的父节点\n",
    "        while curr is not None:\n",
    "            # 记录比较结果 下面要用到\n",
    "            cmp = val - curr.val\n",
    "            parent = curr\n",
    "            if cmp > 0:\n",
    "                # val 大于当前节点的值 往curr的右子节点找\n",
    "                curr = curr.right\n",
    "            elif cmp < 0:\n",
    "                # val小于当前节点的值 往curr的右子节点找\n",
    "                curr = curr.left\n",
    "            else:\n",
    "                # 如果相等 直接覆盖 当然也可以不做任何处理 可以直接返回root\n",
    "                curr.val = val\n",
    "                return root\n",
    "            \n",
    "        node = TreeNode(val)\n",
    "        # 根据cmp比较结果设置左或者右子节点\n",
    "        if cmp > 0:\n",
    "            parent.right = node\n",
    "        else:\n",
    "            parent.left = node\n",
    "            \n",
    "        return root\n",
    "        "
   ]
  }
 ],
 "metadata": {
  "kernelspec": {
   "display_name": "Python 3",
   "language": "python",
   "name": "python3"
  },
  "language_info": {
   "codemirror_mode": {
    "name": "ipython",
    "version": 3
   },
   "file_extension": ".py",
   "mimetype": "text/x-python",
   "name": "python",
   "nbconvert_exporter": "python",
   "pygments_lexer": "ipython3",
   "version": "3.7.3"
  }
 },
 "nbformat": 4,
 "nbformat_minor": 2
}
