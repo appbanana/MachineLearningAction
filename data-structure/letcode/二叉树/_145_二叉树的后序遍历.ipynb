{
 "cells": [
  {
   "cell_type": "code",
   "execution_count": 3,
   "metadata": {},
   "outputs": [],
   "source": [
    "# 145. 二叉树的后序遍历\n",
    "# https://leetcode-cn.com/problems/binary-tree-postorder-traversal/\n",
    "\n",
    "class TreeNode:\n",
    "    def __init__(self, x):\n",
    "        self.val = x\n",
    "        self.left = None\n",
    "        self.right = None\n",
    "\n",
    "class Solution:\n",
    "\n",
    "    # 尾递归来实现 后序 左 右 根\n",
    "    # 执行用时 : 52 ms, 在Binary Tree Postorder Traversal的Python3提交中击败了85.66% 的用户\n",
    "    # 内存消耗 : 12.9 MB, 在Binary Tree Postorder Traversal的Python3提交中击败了99.14% 的用户\n",
    "    def postorderTraversal(self, root: TreeNode) -> list:\n",
    "        order_list = []\n",
    "        self.postorder(root, order_list)\n",
    "        return order_list\n",
    "    \n",
    "    def postorder(self, node: TreeNode, order_list:list): \n",
    "        if node is None: return \n",
    "        self.postorder(node.left, order_list)\n",
    "        self.postorder(node.right, order_list) \n",
    "        order_list.append(node.val)\n",
    "    \n",
    "    # 迭代来实现 后序 左 右 根\n",
    "    # 执行用时 : 52 ms, 在Binary Tree Postorder Traversal的Python3提交中击败了85.66% 的用户\n",
    "    # 内存消耗 : 13 MB, 在Binary Tree Postorder Traversal的Python3提交中击败了86.45% 的用户\n",
    "    def postorderTraversal(self, root: TreeNode) -> list:\n",
    "        if root is None: return []\n",
    "        stack = [root]\n",
    "        order_list = []\n",
    "        while len(stack):\n",
    "            node = stack.pop()\n",
    "            if node.left:\n",
    "                stack.append(node.left)\n",
    "            if node.right:\n",
    "                stack.append(node.right)\n",
    "            order_list.insert(0, node.val)\n",
    "        return order_list\n",
    "    \n"
   ]
  },
  {
   "cell_type": "code",
   "execution_count": null,
   "metadata": {},
   "outputs": [],
   "source": []
  }
 ],
 "metadata": {
  "kernelspec": {
   "display_name": "Python 3",
   "language": "python",
   "name": "python3"
  },
  "language_info": {
   "codemirror_mode": {
    "name": "ipython",
    "version": 3
   },
   "file_extension": ".py",
   "mimetype": "text/x-python",
   "name": "python",
   "nbconvert_exporter": "python",
   "pygments_lexer": "ipython3",
   "version": "3.7.3"
  }
 },
 "nbformat": 4,
 "nbformat_minor": 2
}
