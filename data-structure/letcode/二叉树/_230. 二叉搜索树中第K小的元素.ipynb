{
 "cells": [
  {
   "cell_type": "code",
   "execution_count": 1,
   "metadata": {},
   "outputs": [],
   "source": [
    "# 230. 二叉搜索树中第K小的元素\n",
    "# https://leetcode-cn.com/problems/kth-smallest-element-in-a-bst/"
   ]
  },
  {
   "cell_type": "code",
   "execution_count": 2,
   "metadata": {},
   "outputs": [],
   "source": [
    "class TreeNode:\n",
    "    def __init__(self, x):\n",
    "        self.val = x\n",
    "        self.left = None\n",
    "        self.right = None\n",
    "\n",
    "class Solution:\n",
    "    def kthSmallest(self, root: TreeNode, k: int) -> int:\n",
    "        \"\"\"\n",
    "        思路: 采取中序遍历, 当元素个数等于k时停止遍历,最后一个就是要找的元素\n",
    "        \"\"\"\n",
    "        if root is None:\n",
    "            return root\n",
    "        \n",
    "        stack = []\n",
    "        container = []\n",
    "        curr = root\n",
    "        while curr or len(stack):\n",
    "            if curr is not None:\n",
    "                stack.append(curr)\n",
    "                curr = curr.left\n",
    "            else:\n",
    "                node = stack.pop()\n",
    "                container.append(node.val)\n",
    "                if len(container) == k:\n",
    "                    break\n",
    "                curr = node.right\n",
    "        return container.pop()\n",
    "        "
   ]
  },
  {
   "cell_type": "code",
   "execution_count": 3,
   "metadata": {},
   "outputs": [
    {
     "data": {
      "text/plain": [
       "9"
      ]
     },
     "execution_count": 3,
     "metadata": {},
     "output_type": "execute_result"
    }
   ],
   "source": [
    "test_array = [1, 2, 6, 8, 9]\n",
    "test_array.pop()"
   ]
  },
  {
   "cell_type": "code",
   "execution_count": null,
   "metadata": {},
   "outputs": [],
   "source": []
  }
 ],
 "metadata": {
  "kernelspec": {
   "display_name": "Python 3",
   "language": "python",
   "name": "python3"
  },
  "language_info": {
   "codemirror_mode": {
    "name": "ipython",
    "version": 3
   },
   "file_extension": ".py",
   "mimetype": "text/x-python",
   "name": "python",
   "nbconvert_exporter": "python",
   "pygments_lexer": "ipython3",
   "version": "3.7.3"
  }
 },
 "nbformat": 4,
 "nbformat_minor": 2
}
