{
 "cells": [
  {
   "cell_type": "code",
   "execution_count": 1,
   "metadata": {},
   "outputs": [],
   "source": [
    "# 99. 恢复二叉搜索树\n",
    "# https://leetcode-cn.com/problems/recover-binary-search-tree/\n"
   ]
  },
  {
   "cell_type": "code",
   "execution_count": 1,
   "metadata": {},
   "outputs": [],
   "source": [
    "class TreeNode:\n",
    "    def __init__(self, x):\n",
    "        self.val = x\n",
    "        self.left = None\n",
    "        self.right = None\n",
    "\n",
    "class Solution:\n",
    "    def recoverTree(self, root: TreeNode) -> None:\n",
    "        \"\"\"\n",
    "        思路: 中序遍历, 找到prev比后面node值大的节点\n",
    "        \"\"\"\n",
    "        stack = []\n",
    "        curr = root\n",
    "        prev_node = None\n",
    "        # 前面节点值比后面node值大的节点\n",
    "        handle_gt_node = None\n",
    "        # 要处理的node\n",
    "        handle_node = None\n",
    "        \n",
    "        while curr or len(stack):\n",
    "            if curr is not None:\n",
    "                stack.append(curr)\n",
    "                curr = curr.left\n",
    "            else:\n",
    "                node = stack.pop()\n",
    "                if prev_node and prev_node.val > node.val:\n",
    "                    # 如果prev_node的值比后面的值大 记录一下handle_gt_node, handle_node\n",
    "                    if handle_gt_node is None:\n",
    "                        handle_gt_node = prev_node\n",
    "                    handle_node = node\n",
    "                    \n",
    "                prev_node = node\n",
    "                curr = node.right\n",
    "        # 交换位置       \n",
    "        handle_gt_node.val, handle_node.val = handle_node.val, handle_gt_node.val\n",
    "                \n",
    "        "
   ]
  },
  {
   "cell_type": "code",
   "execution_count": null,
   "metadata": {},
   "outputs": [],
   "source": [
    "class Solution {\n",
    "    public void recoverTree(TreeNode root) {\n",
    "        TreeNode first = null;\n",
    "        TreeNode second = null;\n",
    "        TreeNode pre = null;\n",
    "        Stack<TreeNode> s = new Stack<>();\n",
    "        while(root != null || !s.isEmpty()){\n",
    "            \n",
    "            while(root != null){\n",
    "                s.push(root);\n",
    "                root = root.left;\n",
    "            }\n",
    "            \n",
    "            if(!s.isEmpty()){\n",
    "                root = s.pop();\n",
    "                if(pre != null && pre.val > root.val){\n",
    "                    if(first == null){\n",
    "                         first = pre;\n",
    "                    }\n",
    "                    second = root;\n",
    "                }\n",
    "                pre = root;\n",
    "                root = root.right;\n",
    "            }\n",
    "            \n",
    "        }\n",
    "        int t = first.val;\n",
    "        first.val = second.val;\n",
    "        second.val = t;\n",
    "    }\n",
    "    \n",
    "}"
   ]
  }
 ],
 "metadata": {
  "kernelspec": {
   "display_name": "Python 3",
   "language": "python",
   "name": "python3"
  },
  "language_info": {
   "codemirror_mode": {
    "name": "ipython",
    "version": 3
   },
   "file_extension": ".py",
   "mimetype": "text/x-python",
   "name": "python",
   "nbconvert_exporter": "python",
   "pygments_lexer": "ipython3",
   "version": "3.7.3"
  }
 },
 "nbformat": 4,
 "nbformat_minor": 2
}
