{
 "cells": [
  {
   "cell_type": "code",
   "execution_count": 1,
   "metadata": {},
   "outputs": [],
   "source": [
    "# 226. 翻转二叉树\n",
    "# https://leetcode-cn.com/problems/invert-binary-tree/"
   ]
  },
  {
   "cell_type": "code",
   "execution_count": 9,
   "metadata": {},
   "outputs": [],
   "source": [
    "class TreeNode:\n",
    "    def __init__(self, x):\n",
    "        self.val = x\n",
    "        self.left = None\n",
    "        self.right = None\n",
    "\n",
    "class Solution:\n",
    "    def invertTree(self, root: TreeNode) -> TreeNode:\n",
    "        \"\"\"\n",
    "        前序遍历实现\n",
    "        \"\"\"\n",
    "        if root is None:\n",
    "            return \n",
    "        temp = root.left\n",
    "        root.left = root.right\n",
    "        root.right = temp\n",
    "        \n",
    "        self.invertTree(root.left)\n",
    "        self.invertTree(root.right)\n",
    "        \n",
    "        return root\n",
    "    \n",
    "    def invertTree(self, root: TreeNode) -> TreeNode:\n",
    "        \"\"\"\n",
    "        后序遍历\n",
    "        \"\"\"\n",
    "        if root is None:\n",
    "            return root\n",
    "        self.invertTree(root.left)\n",
    "        self.invertTree(root.right)\n",
    "        \n",
    "        temp = root.left\n",
    "        root.left = root.right\n",
    "        root.right = temp\n",
    "        \n",
    "        return root\n",
    "    \n",
    "    def invertTree(self, root: TreeNode) -> TreeNode:\n",
    "        \"\"\"\n",
    "        中序遍历\n",
    "        \"\"\"\n",
    "        \n",
    "        if root is None:\n",
    "            return \n",
    "        self.invertTree(root.left)\n",
    "        \n",
    "        temp = root.left\n",
    "        root.left = root.right\n",
    "        root.right = temp\n",
    "        \n",
    "        # 因为已经反转过了  这的left其实就是原来的right\n",
    "        self.invertTree(root.left)\n",
    "        return root\n",
    "    \n",
    "    def invertTree(self, root: TreeNode) -> TreeNode:\n",
    "        \"\"\"\n",
    "        层序遍历\n",
    "        \"\"\"\n",
    "        if root is None:\n",
    "            return root\n",
    "        \n",
    "        import collections\n",
    "        queue = collections.deque([])\n",
    "        \n",
    "        queue.append(root)\n",
    "        \n",
    "        while len(queue) != 0:\n",
    "            node = queue.popleft()\n",
    "            \n",
    "#             temp = node.left\n",
    "#             node.left = node.right\n",
    "#             node.right = temp\n",
    "            node.left, node.right = node.right, node.left\n",
    "\n",
    "            if node.left is not None:\n",
    "                queue.append(node.left)\n",
    "            \n",
    "            if node.right is not None:\n",
    "                queue.append(node.right)\n",
    "        \n",
    "        return root\n",
    "        "
   ]
  },
  {
   "cell_type": "code",
   "execution_count": 14,
   "metadata": {},
   "outputs": [],
   "source": [
    "import collections\n",
    "d = collections.deque([])\n",
    "d.append('a')\n",
    "d.append('b')\n",
    "d.append('c')"
   ]
  },
  {
   "cell_type": "code",
   "execution_count": 15,
   "metadata": {},
   "outputs": [
    {
     "data": {
      "text/plain": [
       "deque(['a', 'b', 'c'])"
      ]
     },
     "execution_count": 15,
     "metadata": {},
     "output_type": "execute_result"
    }
   ],
   "source": [
    "d"
   ]
  },
  {
   "cell_type": "code",
   "execution_count": 16,
   "metadata": {},
   "outputs": [
    {
     "data": {
      "text/plain": [
       "'a'"
      ]
     },
     "execution_count": 16,
     "metadata": {},
     "output_type": "execute_result"
    }
   ],
   "source": [
    "d.popleft()"
   ]
  },
  {
   "cell_type": "code",
   "execution_count": 8,
   "metadata": {},
   "outputs": [
    {
     "data": {
      "text/plain": [
       "True"
      ]
     },
     "execution_count": 8,
     "metadata": {},
     "output_type": "execute_result"
    }
   ],
   "source": [
    "not test is  None"
   ]
  },
  {
   "cell_type": "code",
   "execution_count": 17,
   "metadata": {},
   "outputs": [
    {
     "data": {
      "text/plain": [
       "False"
      ]
     },
     "execution_count": 17,
     "metadata": {},
     "output_type": "execute_result"
    }
   ],
   "source": [
    "[] is None"
   ]
  },
  {
   "cell_type": "code",
   "execution_count": null,
   "metadata": {},
   "outputs": [],
   "source": []
  }
 ],
 "metadata": {
  "kernelspec": {
   "display_name": "Python 3",
   "language": "python",
   "name": "python3"
  },
  "language_info": {
   "codemirror_mode": {
    "name": "ipython",
    "version": 3
   },
   "file_extension": ".py",
   "mimetype": "text/x-python",
   "name": "python",
   "nbconvert_exporter": "python",
   "pygments_lexer": "ipython3",
   "version": "3.7.3"
  }
 },
 "nbformat": 4,
 "nbformat_minor": 2
}
