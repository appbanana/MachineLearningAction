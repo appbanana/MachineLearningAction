{
 "cells": [
  {
   "cell_type": "code",
   "execution_count": 1,
   "metadata": {},
   "outputs": [],
   "source": [
    "# 938. 二叉搜索树的范围和\n",
    "# https://leetcode-cn.com/problems/range-sum-of-bst/"
   ]
  },
  {
   "cell_type": "code",
   "execution_count": 4,
   "metadata": {},
   "outputs": [],
   "source": [
    "class TreeNode:\n",
    "    def __init__(self, x):\n",
    "        self.val = x\n",
    "        self.left = None\n",
    "        self.right = None\n",
    "\n",
    "class Solution:\n",
    "    def rangeSumBST(self, root: TreeNode, L: int, R: int) -> int:\n",
    "        \"\"\"\n",
    "        这道题 我不是很明白他的意思\n",
    "        \"\"\"\n",
    "        if root is None:\n",
    "            return 0\n",
    "        stack = [root]\n",
    "        sum_res = 0\n",
    "        while len(stack):\n",
    "            node = stack.pop()\n",
    "            if node:\n",
    "                if L <= node.val <= R:\n",
    "                    sum_res += node.val\n",
    "                if L < node.val:\n",
    "                    stack.append(node.left)\n",
    "                if node.val < R:\n",
    "                    stack.append(node.right)\n",
    "        return sum_res        \n",
    "        \n",
    "        "
   ]
  },
  {
   "cell_type": "code",
   "execution_count": null,
   "metadata": {},
   "outputs": [],
   "source": []
  }
 ],
 "metadata": {
  "kernelspec": {
   "display_name": "Python 3",
   "language": "python",
   "name": "python3"
  },
  "language_info": {
   "codemirror_mode": {
    "name": "ipython",
    "version": 3
   },
   "file_extension": ".py",
   "mimetype": "text/x-python",
   "name": "python",
   "nbconvert_exporter": "python",
   "pygments_lexer": "ipython3",
   "version": "3.7.3"
  }
 },
 "nbformat": 4,
 "nbformat_minor": 2
}
