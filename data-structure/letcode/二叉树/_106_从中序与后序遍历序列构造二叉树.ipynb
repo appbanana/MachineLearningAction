{
 "cells": [
  {
   "cell_type": "code",
   "execution_count": 8,
   "metadata": {},
   "outputs": [],
   "source": [
    "# 106. 从中序与后序遍历序列构造二叉树\n",
    "# https://leetcode-cn.com/problems/construct-binary-tree-from-inorder-and-postorder-traversal/\n",
    "# 思路: 前序来实现\n",
    "\n",
    "class TreeNode:\n",
    "    def __init__(self, x):\n",
    "        self.val = x\n",
    "        self.left = None\n",
    "        self.right = None\n",
    "\n",
    "class Solution:\n",
    "    \n",
    "    # 这个方法不好\n",
    "    # 执行用时 : 396 ms, 在Construct Binary Tree from Inorder and Postorder Traversal的Python3提交中击败了28.33% 的用户\n",
    "    # 内存消耗 : 87.3 MB, 在Construct Binary Tree from Inorder and Postorder Traversal的Python3提交中击败了72.50% 的用户\n",
    "    def buildTree(self, inorder: list, postorder: list) -> TreeNode:         \n",
    "        if not postorder: return \n",
    "        i = inorder.index(postorder[-1])\n",
    "        root = TreeNode(postorder[-1])\n",
    "        root.left = self.buildTree(inorder[:i],postorder[:i])\n",
    "        root.right = self.buildTree(inorder[i+1:],postorder[i:-1])\n",
    "        return root\n",
    "   \n"
   ]
  }
 ],
 "metadata": {
  "kernelspec": {
   "display_name": "Python 3",
   "language": "python",
   "name": "python3"
  },
  "language_info": {
   "codemirror_mode": {
    "name": "ipython",
    "version": 3
   },
   "file_extension": ".py",
   "mimetype": "text/x-python",
   "name": "python",
   "nbconvert_exporter": "python",
   "pygments_lexer": "ipython3",
   "version": "3.7.3"
  }
 },
 "nbformat": 4,
 "nbformat_minor": 2
}
