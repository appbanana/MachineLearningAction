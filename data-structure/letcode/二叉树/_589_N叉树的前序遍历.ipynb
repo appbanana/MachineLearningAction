{
 "cells": [
  {
   "cell_type": "code",
   "execution_count": 1,
   "metadata": {},
   "outputs": [],
   "source": [
    "# 589. N叉树的前序遍历\n",
    "# https://leetcode-cn.com/problems/n-ary-tree-preorder-traversal/\n",
    "\n",
    "class Node:\n",
    "    def __init__(self, val, children):\n",
    "        self.val = val\n",
    "        self.children = children\n",
    "\n",
    "class Solution:\n",
    "    # python3版本 迭代\n",
    "    # 执行用时 : 132 ms, 在N-ary Tree Preorder Traversal的Python3提交中击败了53.65% 的用户\n",
    "    # 内存消耗 : 17.5 MB, 在N-ary Tree Preorder Traversal的Python3提交中击败了91.32% 的用户\n",
    "    def preorder(self, root: Node) -> list:\n",
    "        if root is None: return []\n",
    "        stack = [root]\n",
    "        order_list = []\n",
    "        while len(stack):\n",
    "            node = stack.pop()\n",
    "            order_list.append(node.val)\n",
    "            temp = []\n",
    "            for i in node.children:\n",
    "                temp.append(i)\n",
    "            if len(temp):\n",
    "                temp.reverse()\n",
    "                stack.extend(temp)\n",
    "        return order_list\n",
    "    \n",
    "     # 递归来实现\n",
    "    # 执行用时 : 128 ms, 在N-ary Tree Preorder Traversal的Python3提交中击败了61.16% 的用户\n",
    "    # 内存消耗 : 17.4 MB, 在N-ary Tree Preorder Traversal的Python3提交中击败了98.87% 的用户\n",
    "    def preorderTraversal(self, root: TreeNode) -> List[int]:\n",
    "        order_list = []\n",
    "        self.preorder(root, order_list)\n",
    "        return order_list\n",
    "    \n",
    "    def preorder(self, node: TreeNode, order_list:list): \n",
    "        if node is None: return \n",
    "        order_list.append(node.val)\n",
    "        for i in node.children:\n",
    "            self.preorder(i, order_list)            \n",
    "    \n",
    "\n",
    "    \n"
   ]
  },
  {
   "cell_type": "code",
   "execution_count": null,
   "metadata": {},
   "outputs": [],
   "source": []
  }
 ],
 "metadata": {
  "kernelspec": {
   "display_name": "Python 3",
   "language": "python",
   "name": "python3"
  },
  "language_info": {
   "codemirror_mode": {
    "name": "ipython",
    "version": 3
   },
   "file_extension": ".py",
   "mimetype": "text/x-python",
   "name": "python",
   "nbconvert_exporter": "python",
   "pygments_lexer": "ipython3",
   "version": "3.7.3"
  }
 },
 "nbformat": 4,
 "nbformat_minor": 2
}
