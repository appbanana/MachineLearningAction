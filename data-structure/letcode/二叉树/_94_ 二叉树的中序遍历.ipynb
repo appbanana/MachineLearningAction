{
 "cells": [
  {
   "cell_type": "code",
   "execution_count": 5,
   "metadata": {},
   "outputs": [],
   "source": [
    "# 94. 二叉树的中序遍历\n",
    "# https://leetcode-cn.com/problems/binary-tree-inorder-traversal/\n",
    "\n",
    "class TreeNode:\n",
    "    def __init__(self, x):\n",
    "        self.val = x\n",
    "        self.left = None\n",
    "        self.right = None\n",
    "\n",
    "class Solution:\n",
    "        \n",
    "    # 递归来实现 中序 左 根 右\n",
    "    # 执行用时 : 56 ms, 在Python3提交中击败了50.93% 的用户\n",
    "    # 内存消耗 : 13.1 MB, 在Python3提交中击败了73.72% 的用户\n",
    "    def inorderTraversal(self, root: TreeNode) -> list:\n",
    "        order_list = []\n",
    "        self.inorder(root, order_list)\n",
    "        return order_list\n",
    "    \n",
    "    def inorder(self, node: TreeNode, order_list:list): \n",
    "        if node is None: return \n",
    "        self.inorder(node.left, order_list)\n",
    "        order_list.append(node.val)\n",
    "        self.inorder(node.right, order_list) \n",
    "    \n",
    "    # 迭代来实现 左 根 右\n",
    "    # 执行用时 : 60 ms, 在BTIT的Python3提交中击败了38.56% 的用户\n",
    "    # 内存消耗 : 13 MB, 在BTIT的Python3提交中击败了94.25% 的用户\n",
    "    def inorderTraversal(self, root: TreeNode) -> list:\n",
    "        if root is None: return []\n",
    "        stack = []\n",
    "        order_list = []\n",
    "        curr = root\n",
    "        while curr or len(stack):\n",
    "            if curr is not None:\n",
    "                stack.append(curr)\n",
    "                curr = curr.left\n",
    "            else:\n",
    "                node = stack.pop()\n",
    "                order_list.append(node.val)\n",
    "                curr = node.right\n",
    "        return order_list\n",
    "    \n"
   ]
  },
  {
   "cell_type": "code",
   "execution_count": null,
   "metadata": {},
   "outputs": [],
   "source": [
    "class TreeNode:\n",
    "    def __init__(self, x):\n",
    "        self.val = x\n",
    "        self.left = None\n",
    "        self.right = None\n",
    "\n",
    "class Solution:\n",
    "    def inorderTraversal(self, root: TreeNode) -> List[int]:\n",
    "        if root is None:\n",
    "            return root\n",
    "        \n",
    "        stack, container = [], []\n",
    "        curr = root\n",
    "        while curr or len(stack):\n",
    "            if curr is not None:\n",
    "                stack.append(curr)\n",
    "                curr = curr.left\n",
    "            else:\n",
    "                node = stack.pop()\n",
    "                container.append(node.val)\n",
    "                curr = node.right\n",
    "        return container\n",
    "\n",
    "\n"
   ]
  }
 ],
 "metadata": {
  "kernelspec": {
   "display_name": "Python 3",
   "language": "python",
   "name": "python3"
  },
  "language_info": {
   "codemirror_mode": {
    "name": "ipython",
    "version": 3
   },
   "file_extension": ".py",
   "mimetype": "text/x-python",
   "name": "python",
   "nbconvert_exporter": "python",
   "pygments_lexer": "ipython3",
   "version": "3.7.3"
  }
 },
 "nbformat": 4,
 "nbformat_minor": 2
}
