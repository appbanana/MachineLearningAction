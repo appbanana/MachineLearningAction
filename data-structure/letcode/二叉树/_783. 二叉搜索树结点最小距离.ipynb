{
 "cells": [
  {
   "cell_type": "code",
   "execution_count": 1,
   "metadata": {},
   "outputs": [],
   "source": [
    "# 783. 二叉搜索树结点最小距离\n",
    "# https://leetcode-cn.com/problems/minimum-distance-between-bst-nodes/"
   ]
  },
  {
   "cell_type": "code",
   "execution_count": 3,
   "metadata": {},
   "outputs": [],
   "source": [
    "class TreeNode:\n",
    "    def __init__(self, x):\n",
    "        self.val = x\n",
    "        self.left = None\n",
    "        self.right = None\n",
    "\n",
    "class Solution:\n",
    "    def minDiffInBST(self, root: TreeNode) -> int:\n",
    "        \"\"\"\n",
    "        思路:中序遍历 升序输出 比较相邻两个元素之差\n",
    "        \"\"\"\n",
    "        if root is None: \n",
    "            return 0\n",
    "        \n",
    "        curr = root\n",
    "        stack = []\n",
    "        min_value = float('inf')\n",
    "        last_val = None\n",
    "\n",
    "        while curr or len(stack):\n",
    "            if curr is not None:\n",
    "                stack.append(curr)\n",
    "                curr = curr.left\n",
    "            else:\n",
    "                node = stack.pop()\n",
    "                if last_val is not None:\n",
    "                    min_value = min(abs(node.val - last_val), abs(min_value))\n",
    "        \n",
    "                last_val = node.val\n",
    "                curr = node.right\n",
    "                \n",
    "        return min_value     "
   ]
  },
  {
   "cell_type": "code",
   "execution_count": null,
   "metadata": {},
   "outputs": [],
   "source": [
    "class TreeNode:\n",
    "    def __init__(self, x):\n",
    "        self.val = x\n",
    "        self.left = None\n",
    "        self.right = None\n",
    "\n",
    "class Solution:\n",
    "    def __init__(self):\n",
    "        self.last_node = None\n",
    "        self.min_value = float('inf')\n",
    "        \n",
    "    def minDiffInBST(self, root: TreeNode) -> int:\n",
    "        \"\"\"\n",
    "        思路:中序遍历 升序输出 比较相邻两个元素之差\n",
    "        \"\"\"\n",
    "        if root is None: \n",
    "            return 0\n",
    "        \n",
    "        self.minDiffInBST(root.left)\n",
    "        if self.last_node:\n",
    "            self.min_value = min(abs(root.val - self.last_node.val), abs(self.min_value))\n",
    "        self.last_node = root\n",
    "        \n",
    "        self.minDiffInBST(root.right)\n",
    "        \n",
    "        return self.min_value \n",
    "    \n",
    "\n",
    "\n"
   ]
  },
  {
   "cell_type": "code",
   "execution_count": null,
   "metadata": {},
   "outputs": [],
   "source": []
  },
  {
   "cell_type": "code",
   "execution_count": null,
   "metadata": {},
   "outputs": [],
   "source": []
  }
 ],
 "metadata": {
  "kernelspec": {
   "display_name": "Python 3",
   "language": "python",
   "name": "python3"
  },
  "language_info": {
   "codemirror_mode": {
    "name": "ipython",
    "version": 3
   },
   "file_extension": ".py",
   "mimetype": "text/x-python",
   "name": "python",
   "nbconvert_exporter": "python",
   "pygments_lexer": "ipython3",
   "version": "3.7.3"
  }
 },
 "nbformat": 4,
 "nbformat_minor": 2
}
