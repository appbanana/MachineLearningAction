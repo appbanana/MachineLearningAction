{
 "cells": [
  {
   "cell_type": "code",
   "execution_count": 1,
   "metadata": {},
   "outputs": [],
   "source": [
    "# 23. 合并K个排序链表\n",
    "# https://leetcode-cn.com/problems/merge-k-sorted-lists/"
   ]
  },
  {
   "cell_type": "code",
   "execution_count": 103,
   "metadata": {},
   "outputs": [],
   "source": [
    "import queue\n",
    "\n",
    "class ListNode:\n",
    "    def __init__(self, x):\n",
    "        self.val = x\n",
    "        self.next = None\n",
    "\n",
    "class Solution:\n",
    "    \n",
    "    def mergeKLists1(self, lists) -> ListNode:\n",
    "        if lists is None or len(lists) == 0: return\n",
    "        newHead = ListNode(0)\n",
    "        node = newHead\n",
    "        while True:\n",
    "            min_index = -1\n",
    "            # 遍历数组中每一个链表\n",
    "            for index in range(len(lists)):\n",
    "                if lists[index] is None: continue\n",
    "                if min_index == -1 or lists[index].val < lists[min_index].val:\n",
    "                    min_index = index\n",
    "            # 如果min_index还是-1的话 说明数组中的链表已经全部为空\n",
    "            if min_index == -1: break\n",
    "#             print('min_index----222', min_index)\n",
    "\n",
    "            node.next = lists[min_index]\n",
    "            lists[min_index] = lists[min_index].next\n",
    "            node = node.next\n",
    "            \n",
    "            for index, link_node in enumerate(lists):\n",
    "                print('index', index, link_node.val)\n",
    "            \n",
    "        return newHead.next\n",
    "\n",
    "    def mergeKLists2(self, lists) -> ListNode:\n",
    "        \"\"\"\n",
    "         思路3 - 逐一两两合并, O(kn)\n",
    "        \"\"\"\n",
    "        if lists is None or len(lists) == 0: return None\n",
    "        for i in range(1,len(lists)):\n",
    "            print('i', i)\n",
    "            lists[0] = self.mergeTwoLists(lists[0], lists[i])\n",
    "        return lists[0]\n",
    "\n",
    "\n",
    "    def mergeTwoLists(self, l1: ListNode, l2: ListNode) -> ListNode:\n",
    "        if l1 is None: return l2\n",
    "        if l2 is None: return l1\n",
    "        \n",
    "        if l1.val <= l2.val:\n",
    "            head = l1\n",
    "            l1 = l1.next\n",
    "        else:\n",
    "            head = l2\n",
    "            l2 = l2.next\n",
    "    \n",
    "        node = head\n",
    "        while l1 is not None and l2 is not None:\n",
    "            if l1.val <= l2.val:\n",
    "                node.next = l1\n",
    "                l1 = l1.next\n",
    "            else:\n",
    "                node.next = l2\n",
    "                l2 = l2.next\n",
    "            node = node.next\n",
    "        \n",
    "        if l1 is not None:\n",
    "            node.next = l1\n",
    "        if l2 is not None:\n",
    "            node.next = l2\n",
    "        return head\n",
    "    \n",
    "    # 这个有问题\n",
    "    def mergeKLists3(self, lists) -> ListNode:\n",
    "        \"\"\"\n",
    "        思路: 采用优先级队列来实现\n",
    "        \"\"\"\n",
    "        if lists is None or len(lists) == 0: return None\n",
    "        \n",
    "        new_head = ListNode(0)\n",
    "        cur = new_head\n",
    "        priority_queue = queue.PriorityQueue()\n",
    "        for link in lists:\n",
    "            if link:\n",
    "                priority_queue.put((link.val, link))\n",
    "                \n",
    "        while not priority_queue.empty():\n",
    "            val, node = priority_queue.get()\n",
    "            cur.next = ListNode(val)\n",
    "            cur = cur.next\n",
    "            if node:\n",
    "                priority_queue.put((node.val, node))\n",
    "                \n",
    "        return new_head.next\n",
    "        \n",
    "    def mergeKLists4(self, lists) -> ListNode:\n",
    "        \"\"\"\n",
    "        思路: 分而治之  这个还不是很理解\n",
    "        \"\"\"\n",
    "        if lists is None or len(lists) == 0: return None\n",
    "        step = 1\n",
    "        while step < len(lists):\n",
    "            next_step = step << 1\n",
    "            for i in range(0, len(lists) - step, next_step):\n",
    "                lists[i] = self.mergeTwoLists(lists[i], lists[i+step])\n",
    "            step = step * 2\n",
    "        return lists[0] if len(lists) > 0 else lists\n",
    "\n",
    "        "
   ]
  },
  {
   "cell_type": "code",
   "execution_count": 98,
   "metadata": {},
   "outputs": [],
   "source": [
    "first = ListNode(0)\n",
    "first.next = None\n",
    "last_node = first\n",
    "for i in range(1, 5):\n",
    "    node = ListNode(i)\n",
    "    last_node.next = node\n",
    "    last_node = node"
   ]
  },
  {
   "cell_type": "code",
   "execution_count": 107,
   "metadata": {},
   "outputs": [
    {
     "name": "stdout",
     "output_type": "stream",
     "text": [
      "0\n",
      "1\n",
      "2\n",
      "3\n",
      "4\n"
     ]
    }
   ],
   "source": [
    "node = first\n",
    "while (node is not None):\n",
    "    print(node.val)\n",
    "    node = node.next"
   ]
  },
  {
   "cell_type": "code",
   "execution_count": 100,
   "metadata": {},
   "outputs": [],
   "source": [
    "second = ListNode(8)\n",
    "second.next = None\n",
    "last_node = second\n",
    "for i in range(9, 12):\n",
    "    node = ListNode(i)\n",
    "    last_node.next = node\n",
    "    last_node = node"
   ]
  },
  {
   "cell_type": "code",
   "execution_count": 108,
   "metadata": {},
   "outputs": [
    {
     "name": "stdout",
     "output_type": "stream",
     "text": [
      "8\n",
      "9\n",
      "10\n",
      "11\n"
     ]
    }
   ],
   "source": [
    "node = second\n",
    "while (node is not None):\n",
    "    print(node.val)\n",
    "    node = node.next"
   ]
  },
  {
   "cell_type": "code",
   "execution_count": 109,
   "metadata": {},
   "outputs": [],
   "source": [
    "# 测试\n",
    "solution = Solution()"
   ]
  },
  {
   "cell_type": "code",
   "execution_count": 97,
   "metadata": {},
   "outputs": [
    {
     "name": "stdout",
     "output_type": "stream",
     "text": [
      "i 1\n"
     ]
    }
   ],
   "source": [
    "new_head = solution.mergeKLists2([first, second])"
   ]
  },
  {
   "cell_type": "code",
   "execution_count": 89,
   "metadata": {},
   "outputs": [
    {
     "name": "stdout",
     "output_type": "stream",
     "text": [
      "0\n",
      "1\n",
      "2\n",
      "3\n",
      "4\n",
      "8\n",
      "9\n",
      "10\n",
      "11\n"
     ]
    }
   ],
   "source": [
    "node = new_head\n",
    "while (node is not None):\n",
    "    print(node.val)\n",
    "    node = node.next\n",
    "    "
   ]
  },
  {
   "cell_type": "code",
   "execution_count": 78,
   "metadata": {},
   "outputs": [
    {
     "name": "stdout",
     "output_type": "stream",
     "text": [
      "i 1\n"
     ]
    }
   ],
   "source": [
    "new_head = solution.mergeKLists2([first, second])"
   ]
  },
  {
   "cell_type": "code",
   "execution_count": 79,
   "metadata": {},
   "outputs": [
    {
     "name": "stdout",
     "output_type": "stream",
     "text": [
      "0\n",
      "1\n",
      "2\n",
      "3\n",
      "4\n",
      "8\n",
      "9\n",
      "10\n",
      "11\n"
     ]
    }
   ],
   "source": [
    "node = new_head\n",
    "while (node is not None):\n",
    "    print(node.val)\n",
    "    node = node.next"
   ]
  },
  {
   "cell_type": "code",
   "execution_count": 110,
   "metadata": {},
   "outputs": [
    {
     "ename": "KeyboardInterrupt",
     "evalue": "",
     "output_type": "error",
     "traceback": [
      "\u001b[0;31m---------------------------------------------------------------------------\u001b[0m",
      "\u001b[0;31mKeyboardInterrupt\u001b[0m                         Traceback (most recent call last)",
      "\u001b[0;32m<ipython-input-110-a1ea90d22f70>\u001b[0m in \u001b[0;36m<module>\u001b[0;34m\u001b[0m\n\u001b[0;32m----> 1\u001b[0;31m \u001b[0mnew_head\u001b[0m \u001b[0;34m=\u001b[0m \u001b[0msolution\u001b[0m\u001b[0;34m.\u001b[0m\u001b[0mmergeKLists3\u001b[0m\u001b[0;34m(\u001b[0m\u001b[0;34m[\u001b[0m\u001b[0mfirst\u001b[0m\u001b[0;34m,\u001b[0m \u001b[0msecond\u001b[0m\u001b[0;34m]\u001b[0m\u001b[0;34m)\u001b[0m\u001b[0;34m\u001b[0m\u001b[0;34m\u001b[0m\u001b[0m\n\u001b[0m",
      "\u001b[0;32m<ipython-input-103-35e820850d05>\u001b[0m in \u001b[0;36mmergeKLists3\u001b[0;34m(self, lists)\u001b[0m\n\u001b[1;32m     85\u001b[0m         \u001b[0;32mwhile\u001b[0m \u001b[0;32mnot\u001b[0m \u001b[0mpriority_queue\u001b[0m\u001b[0;34m.\u001b[0m\u001b[0mempty\u001b[0m\u001b[0;34m(\u001b[0m\u001b[0;34m)\u001b[0m\u001b[0;34m:\u001b[0m\u001b[0;34m\u001b[0m\u001b[0;34m\u001b[0m\u001b[0m\n\u001b[1;32m     86\u001b[0m             \u001b[0mval\u001b[0m\u001b[0;34m,\u001b[0m \u001b[0mnode\u001b[0m \u001b[0;34m=\u001b[0m \u001b[0mpriority_queue\u001b[0m\u001b[0;34m.\u001b[0m\u001b[0mget\u001b[0m\u001b[0;34m(\u001b[0m\u001b[0;34m)\u001b[0m\u001b[0;34m\u001b[0m\u001b[0;34m\u001b[0m\u001b[0m\n\u001b[0;32m---> 87\u001b[0;31m             \u001b[0mcur\u001b[0m\u001b[0;34m.\u001b[0m\u001b[0mnext\u001b[0m \u001b[0;34m=\u001b[0m \u001b[0mListNode\u001b[0m\u001b[0;34m(\u001b[0m\u001b[0mval\u001b[0m\u001b[0;34m)\u001b[0m\u001b[0;34m\u001b[0m\u001b[0;34m\u001b[0m\u001b[0m\n\u001b[0m\u001b[1;32m     88\u001b[0m             \u001b[0mcur\u001b[0m \u001b[0;34m=\u001b[0m \u001b[0mcur\u001b[0m\u001b[0;34m.\u001b[0m\u001b[0mnext\u001b[0m\u001b[0;34m\u001b[0m\u001b[0;34m\u001b[0m\u001b[0m\n\u001b[1;32m     89\u001b[0m             \u001b[0;32mif\u001b[0m \u001b[0mnode\u001b[0m\u001b[0;34m:\u001b[0m\u001b[0;34m\u001b[0m\u001b[0;34m\u001b[0m\u001b[0m\n",
      "\u001b[0;31mKeyboardInterrupt\u001b[0m: "
     ]
    }
   ],
   "source": [
    "new_head = solution.mergeKLists3([first, second])"
   ]
  },
  {
   "cell_type": "code",
   "execution_count": null,
   "metadata": {},
   "outputs": [],
   "source": [
    "node = new_head\n",
    "while (node is not None):\n",
    "    print(node.val)\n",
    "    node = node.next"
   ]
  }
 ],
 "metadata": {
  "kernelspec": {
   "display_name": "Python 3",
   "language": "python",
   "name": "python3"
  },
  "language_info": {
   "codemirror_mode": {
    "name": "ipython",
    "version": 3
   },
   "file_extension": ".py",
   "mimetype": "text/x-python",
   "name": "python",
   "nbconvert_exporter": "python",
   "pygments_lexer": "ipython3",
   "version": "3.7.3"
  }
 },
 "nbformat": 4,
 "nbformat_minor": 2
}
