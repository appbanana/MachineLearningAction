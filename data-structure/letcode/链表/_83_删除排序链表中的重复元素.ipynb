{
 "cells": [
  {
   "cell_type": "code",
   "execution_count": 6,
   "metadata": {},
   "outputs": [],
   "source": [
    "# 206. 反转链表\n",
    "#  https://leetcode-cn.com/problems/reverse-linked-list/\n",
    "class ListNode:\n",
    "    def __init__(self, x=0):\n",
    "        self.val = x\n",
    "        self.next = None\n",
    "\n",
    "class Solution:\n",
    "    # 递归法 时间复杂度O(n) 空间复杂度O(？)\n",
    "    def reverseList(self, head: ListNode) -> ListNode:\n",
    "        if head is None or head.next is None: \n",
    "            return head\n",
    "        new_head = self.reverseList(head.next)\n",
    "        head.next.next = head\n",
    "        head.next = None\n",
    "        return new_head\n",
    "    \n",
    "    # while 循环 时间复杂度O(n) 空间复杂度O(1)\n",
    "    def reverseList1(self, head: ListNode) -> ListNode: \n",
    "        if head is None or head.next is None: \n",
    "            return head\n",
    "        new_head = None\n",
    "        while head is not None:\n",
    "            temp = head.next\n",
    "            head.next = new_head\n",
    "            new_head = head\n",
    "            head = temp\n",
    "        return new_head\n",
    "        "
   ]
  },
  {
   "cell_type": "code",
   "execution_count": 7,
   "metadata": {},
   "outputs": [],
   "source": [
    "first = ListNode()\n",
    "first.next = None\n",
    "last_node = first\n",
    "for i in range(1, 10):\n",
    "    node = ListNode(i)\n",
    "    last_node.next = node\n",
    "    last_node = node"
   ]
  },
  {
   "cell_type": "code",
   "execution_count": 8,
   "metadata": {},
   "outputs": [
    {
     "name": "stdout",
     "output_type": "stream",
     "text": [
      "0\n",
      "1\n",
      "2\n",
      "3\n",
      "4\n",
      "5\n",
      "6\n",
      "7\n",
      "8\n",
      "9\n"
     ]
    }
   ],
   "source": [
    "node = first\n",
    "while (node is not None):\n",
    "    print(node.val)\n",
    "    node = node.next"
   ]
  },
  {
   "cell_type": "code",
   "execution_count": 9,
   "metadata": {},
   "outputs": [],
   "source": [
    "# 测试\n",
    "solution = Solution()\n",
    "# new_head = solution.reverseList(head=first)\n",
    "new_head = solution.reverseList1(head=first)"
   ]
  },
  {
   "cell_type": "code",
   "execution_count": 11,
   "metadata": {},
   "outputs": [
    {
     "name": "stdout",
     "output_type": "stream",
     "text": [
      "9\n",
      "8\n",
      "7\n",
      "6\n",
      "5\n",
      "4\n",
      "3\n",
      "2\n",
      "1\n",
      "0\n"
     ]
    }
   ],
   "source": [
    "node = new_head\n",
    "while (node is not None):\n",
    "    print(node.val)\n",
    "    node = node.next"
   ]
  },
  {
   "cell_type": "code",
   "execution_count": null,
   "metadata": {},
   "outputs": [],
   "source": []
  }
 ],
 "metadata": {
  "kernelspec": {
   "display_name": "Python 3",
   "language": "python",
   "name": "python3"
  },
  "language_info": {
   "codemirror_mode": {
    "name": "ipython",
    "version": 3
   },
   "file_extension": ".py",
   "mimetype": "text/x-python",
   "name": "python",
   "nbconvert_exporter": "python",
   "pygments_lexer": "ipython3",
   "version": "3.7.0"
  }
 },
 "nbformat": 4,
 "nbformat_minor": 1
}
