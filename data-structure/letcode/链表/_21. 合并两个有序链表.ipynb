{
 "cells": [
  {
   "cell_type": "code",
   "execution_count": 2,
   "metadata": {},
   "outputs": [],
   "source": [
    "# 21. 合并两个有序链表\n",
    "# https://leetcode-cn.com/problems/merge-two-sorted-lists/"
   ]
  },
  {
   "cell_type": "code",
   "execution_count": 39,
   "metadata": {},
   "outputs": [],
   "source": [
    "class ListNode:\n",
    "    def __init__(self, x):\n",
    "        self.val = x\n",
    "        self.next = None\n",
    "\n",
    "class Solution:\n",
    "    def mergeTwoLists1(self, l1: ListNode, l2: ListNode) -> ListNode:\n",
    "        if l1 is None: return l2\n",
    "        if l2 is None: return l1\n",
    "        \n",
    "        # 虚拟头结点\n",
    "        newHead = ListNode(0)\n",
    "        node = newHead\n",
    "        while l1 is not None and l2 is not None:\n",
    "            val1 = l1.val\n",
    "            val2 = l2.val\n",
    "            if val1 <= val2:\n",
    "                node.next = ListNode(val1)\n",
    "                l1 = l1.next\n",
    "            else:\n",
    "                node.next = ListNode(val2)\n",
    "                l2 = l2.next\n",
    "            node = node.next\n",
    "            \n",
    "        if l1 is not None:\n",
    "            node.next = l1\n",
    "        if l2 is not None:\n",
    "            node.next = l2\n",
    "    \n",
    "        return newHead.next\n",
    "    \n",
    "    def mergeTwoLists2(self, l1: ListNode, l2: ListNode) -> ListNode:\n",
    "        if l1 is None: return l2\n",
    "        if l2 is None: return l1\n",
    "        \n",
    "        if l1.val <= l2.val:\n",
    "            head = l1\n",
    "            l1 = l1.next\n",
    "        else:\n",
    "            head = l2\n",
    "            l2 = l2.next\n",
    "            \n",
    "        node = head\n",
    "        while l1 is not None and l2 is not None:\n",
    "            if l1.val <= l2.val:\n",
    "                node.next = l1\n",
    "                l1 = l1.next\n",
    "            else:\n",
    "                node.next = l2\n",
    "                l2 = l2.next\n",
    "            node = node.next\n",
    "        \n",
    "        if l1 is not None:\n",
    "            node.next = l1\n",
    "        if l2 is not None:\n",
    "            node.next = l2\n",
    "        return head\n",
    "\n",
    "    \n",
    "    def mergeTwoLists(self, l1: ListNode, l2: ListNode) -> ListNode:\n",
    "        \"\"\"\n",
    "        递归来实现\n",
    "        \"\"\"\n",
    "        if l1 is None: return l2\n",
    "        if l2 is None: return l1\n",
    "        \n",
    "        if l1.val <= l2.val:\n",
    "            l1.next = self.mergeTwoLists(l1.next, l2)\n",
    "            return l1\n",
    "        else:\n",
    "            l2.next = self.mergeTwoLists(l1, l2.next)\n",
    "            return l2\n"
   ]
  },
  {
   "cell_type": "code",
   "execution_count": 42,
   "metadata": {},
   "outputs": [],
   "source": [
    "first = ListNode(0)\n",
    "first.next = None\n",
    "last_node = first\n",
    "for i in range(1, 5):\n",
    "    node = ListNode(i)\n",
    "    last_node.next = node\n",
    "    last_node = node"
   ]
  },
  {
   "cell_type": "code",
   "execution_count": 43,
   "metadata": {},
   "outputs": [
    {
     "name": "stdout",
     "output_type": "stream",
     "text": [
      "0\n",
      "1\n",
      "2\n",
      "3\n",
      "4\n"
     ]
    }
   ],
   "source": [
    "node = first\n",
    "while (node is not None):\n",
    "    print(node.val)\n",
    "    node = node.next"
   ]
  },
  {
   "cell_type": "code",
   "execution_count": 44,
   "metadata": {},
   "outputs": [],
   "source": [
    "second = ListNode(8)\n",
    "second.next = None\n",
    "last_node = second\n",
    "for i in range(9, 12):\n",
    "    node = ListNode(i)\n",
    "    last_node.next = node\n",
    "    last_node = node"
   ]
  },
  {
   "cell_type": "code",
   "execution_count": 45,
   "metadata": {},
   "outputs": [
    {
     "name": "stdout",
     "output_type": "stream",
     "text": [
      "8\n",
      "9\n",
      "10\n",
      "11\n"
     ]
    }
   ],
   "source": [
    "node = second\n",
    "while (node is not None):\n",
    "    print(node.val)\n",
    "    node = node.next"
   ]
  },
  {
   "cell_type": "code",
   "execution_count": 46,
   "metadata": {},
   "outputs": [],
   "source": [
    "# 测试\n",
    "solution = Solution()\n",
    "new_head = solution.mergeTwoLists2(first, second)"
   ]
  },
  {
   "cell_type": "code",
   "execution_count": 47,
   "metadata": {},
   "outputs": [
    {
     "name": "stdout",
     "output_type": "stream",
     "text": [
      "0\n",
      "1\n",
      "2\n",
      "3\n",
      "4\n",
      "8\n",
      "9\n",
      "10\n",
      "11\n"
     ]
    }
   ],
   "source": [
    "node = new_head\n",
    "while (node is not None):\n",
    "    print(node.val)\n",
    "    node = node.next"
   ]
  },
  {
   "cell_type": "code",
   "execution_count": null,
   "metadata": {},
   "outputs": [],
   "source": []
  }
 ],
 "metadata": {
  "kernelspec": {
   "display_name": "Python 3",
   "language": "python",
   "name": "python3"
  },
  "language_info": {
   "codemirror_mode": {
    "name": "ipython",
    "version": 3
   },
   "file_extension": ".py",
   "mimetype": "text/x-python",
   "name": "python",
   "nbconvert_exporter": "python",
   "pygments_lexer": "ipython3",
   "version": "3.7.3"
  }
 },
 "nbformat": 4,
 "nbformat_minor": 2
}
