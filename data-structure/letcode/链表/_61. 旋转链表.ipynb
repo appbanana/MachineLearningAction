{
 "cells": [
  {
   "cell_type": "code",
   "execution_count": 1,
   "metadata": {},
   "outputs": [],
   "source": [
    "# 61. 旋转链表  https://leetcode-cn.com/problems/rotate-list/\n",
    "# 思路:先找到分割点\n"
   ]
  },
  {
   "cell_type": "code",
   "execution_count": 197,
   "metadata": {},
   "outputs": [],
   "source": [
    "class ListNode:\n",
    "    def __init__(self, x):\n",
    "        self.val = x\n",
    "        self.next = None\n",
    "\n",
    "class Solution:\n",
    "    def rotateRight(self, head: 'ListNode', k: 'int') -> 'ListNode':\n",
    "        if not head or k ==0:\n",
    "            return head\n",
    "        if head.next is None:\n",
    "            return head\n",
    "        \n",
    "        length = 0\n",
    "        # 尾结点\n",
    "        tail = None\n",
    "        node = head\n",
    "        while node:\n",
    "            tail = node\n",
    "            node = node.next\n",
    "            length += 1\n",
    "        \n",
    "        # 循环环\n",
    "        tail.next = head\n",
    "        \n",
    "        tail = head\n",
    "        k = length - k % length\n",
    "        # 新头节点位置 k\n",
    "        # 新尾节点位置 k-1\n",
    "        for i in range(k-1):\n",
    "            tail = tail.next\n",
    "        \n",
    "        new_head = tail.next\n",
    "        tail.next = None\n",
    "        return new_head\n",
    "        \n",
    "    \n",
    "        "
   ]
  },
  {
   "cell_type": "code",
   "execution_count": 202,
   "metadata": {},
   "outputs": [],
   "source": [
    "first = ListNode(0)\n",
    "last_node = first\n",
    "for i in range(1, 6):\n",
    "    node = ListNode(i)\n",
    "    last_node.next = node\n",
    "    last_node = node"
   ]
  },
  {
   "cell_type": "code",
   "execution_count": 203,
   "metadata": {},
   "outputs": [
    {
     "name": "stdout",
     "output_type": "stream",
     "text": [
      "0\n",
      "1\n",
      "2\n",
      "3\n",
      "4\n",
      "5\n"
     ]
    }
   ],
   "source": [
    "node = first\n",
    "while (node is not None):\n",
    "    print(node.val)\n",
    "    node = node.next"
   ]
  },
  {
   "cell_type": "code",
   "execution_count": 205,
   "metadata": {},
   "outputs": [],
   "source": [
    "# 测试\n",
    "solution = Solution()\n",
    "# solution.deleteNode(first.next)\n",
    "head = first\n",
    "new_head = solution.rotateRight(head, 2)"
   ]
  },
  {
   "cell_type": "code",
   "execution_count": 206,
   "metadata": {},
   "outputs": [
    {
     "name": "stdout",
     "output_type": "stream",
     "text": [
      "4\n",
      "5\n",
      "0\n",
      "1\n",
      "2\n",
      "3\n"
     ]
    }
   ],
   "source": [
    "node = new_head\n",
    "while (node is not None):\n",
    "    print(node.val)\n",
    "    node = node.next"
   ]
  },
  {
   "cell_type": "code",
   "execution_count": 183,
   "metadata": {},
   "outputs": [
    {
     "name": "stdout",
     "output_type": "stream",
     "text": [
      "0\n",
      "1\n",
      "2\n",
      "3\n",
      "4\n",
      "5\n"
     ]
    }
   ],
   "source": [
    "first = ListNode(0)\n",
    "last_node = first\n",
    "for i in range(1, 6):\n",
    "    node = ListNode(i)\n",
    "    last_node.next = node\n",
    "    last_node = node\n",
    "    \n",
    "node = first\n",
    "while (node is not None):\n",
    "    print(node.val)\n",
    "    node = node.next"
   ]
  },
  {
   "cell_type": "code",
   "execution_count": null,
   "metadata": {},
   "outputs": [],
   "source": []
  },
  {
   "cell_type": "code",
   "execution_count": null,
   "metadata": {},
   "outputs": [],
   "source": [
    "class Solution:\n",
    "    def rotateRight(self, head: 'ListNode', k: 'int') -> 'ListNode':\n",
    "        # base cases\n",
    "        if not head:\n",
    "            return None\n",
    "        if not head.next:\n",
    "            return head\n",
    "        \n",
    "        # close the linked list into the ring\n",
    "        old_tail = head\n",
    "        n = 1\n",
    "        while old_tail.next:\n",
    "            old_tail = old_tail.next\n",
    "            n += 1\n",
    "        old_tail.next = head\n",
    "        \n",
    "        # find new tail : (n - k % n - 1)th node\n",
    "        # and new head : (n - k % n)th node\n",
    "        new_tail = head\n",
    "        for i in range(n - k % n - 1):\n",
    "            new_tail = new_tail.next\n",
    "        new_head = new_tail.next\n",
    "        \n",
    "        # break the ring\n",
    "        new_tail.next = None\n",
    "        \n",
    "        return new_head"
   ]
  }
 ],
 "metadata": {
  "kernelspec": {
   "display_name": "Python 3",
   "language": "python",
   "name": "python3"
  },
  "language_info": {
   "codemirror_mode": {
    "name": "ipython",
    "version": 3
   },
   "file_extension": ".py",
   "mimetype": "text/x-python",
   "name": "python",
   "nbconvert_exporter": "python",
   "pygments_lexer": "ipython3",
   "version": "3.7.3"
  }
 },
 "nbformat": 4,
 "nbformat_minor": 2
}
