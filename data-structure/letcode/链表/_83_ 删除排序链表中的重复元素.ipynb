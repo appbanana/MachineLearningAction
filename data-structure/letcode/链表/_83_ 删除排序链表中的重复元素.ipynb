{
 "cells": [
  {
   "cell_type": "code",
   "execution_count": 18,
   "metadata": {},
   "outputs": [],
   "source": [
    "# 83. 删除排序链表中的重复元素 使每个元素只出现一次\n",
    "#  https://leetcode-cn.com/problems/remove-duplicates-from-sorted-list/\n",
    "class ListNode:\n",
    "    def __init__(self, x=0):\n",
    "        self.val = x\n",
    "        self.next = None\n",
    "\n",
    "class Solution:\n",
    "    def deleteDuplicates(self, head):\n",
    "        \"\"\"\n",
    "        使用集合再次优化\n",
    "        :type head: ListNode\n",
    "        :rtype: ListNode\n",
    "        # 参考链接 https://www.colabug.com/5615485.html\n",
    "        \"\"\"\n",
    "        container = set()\n",
    "        curr = head\n",
    "        prev = head\n",
    "        while curr is not None: \n",
    "            if curr.val not in container:\n",
    "                # 如果container容器中没有当前这个元素，把当前元素添加到集合中，并把当前节点暂存为prev\n",
    "                container.add(curr.val)\n",
    "                prev = curr\n",
    "            else:\n",
    "                # 将上一个节点的next指向当前节点的next\n",
    "                prev.next = curr.next\n",
    "            curr = curr.next\n",
    "\n",
    "        return head\n",
    "    \n",
    "    def deleteDuplicates0(self, head):\n",
    "        \"\"\"\n",
    "        使用集合优化\n",
    "        :type head: ListNode\n",
    "        :rtype: ListNode\n",
    "        # 参考链接 https://www.colabug.com/5615485.html\n",
    "\n",
    "        \"\"\"\n",
    "        container = set()\n",
    "        new_head = ListNode(0)\n",
    "        temp = new_head\n",
    "        while head is not None: \n",
    "            if head.val not in container:\n",
    "                container.add(head.val)\n",
    "                temp.next = head\n",
    "                temp = temp.next\n",
    "            head = head.next\n",
    "        # 及得最后要置空  \n",
    "        temp.next = None\n",
    "        return new_head.next\n",
    "    \n",
    "    def deleteDuplicates1(self, head):\n",
    "        \"\"\"\n",
    "        :type head: ListNode\n",
    "        :rtype: ListNode\n",
    "        \"\"\"\n",
    "        node = head\n",
    "        while node: \n",
    "            val = node.val\n",
    "            if node.next and node.next.val == val:\n",
    "                node.next = node.next.next\n",
    "            else:\n",
    "                node = node.next\n",
    "        return head\n",
    "    \n",
    "#     def deleteDuplicates2(self, head):\n",
    "#         \"\"\"\n",
    "#         :type head: ListNode\n",
    "#         :rtype: ListNode\n",
    "#         \"\"\"\n",
    "#         if head is None or head.next is None:\n",
    "#             return head\n",
    "#         head = self.deleteDuplicates2(head.next)\n",
    "#         if head.val == head.next.val:\n",
    "#             head = head.next\n",
    "\n",
    "#         return head        \n",
    "        "
   ]
  },
  {
   "cell_type": "code",
   "execution_count": 14,
   "metadata": {},
   "outputs": [],
   "source": [
    "first = ListNode()\n",
    "first.next = None\n",
    "last_node = first\n",
    "for i in range(1, 10):\n",
    "    node = ListNode(i)\n",
    "#     if i == 2 or i == 3:\n",
    "#         node.val = 6\n",
    "#     if i == 4 or i == 5:\n",
    "#         node.val = 5\n",
    "    if i < 3:\n",
    "        node.val = 1\n",
    "    if i > 5:\n",
    "        node.val = 3\n",
    "    last_node.next = node\n",
    "    last_node = node"
   ]
  },
  {
   "cell_type": "code",
   "execution_count": 15,
   "metadata": {},
   "outputs": [
    {
     "name": "stdout",
     "output_type": "stream",
     "text": [
      "0\n",
      "1\n",
      "1\n",
      "3\n",
      "4\n",
      "5\n",
      "3\n",
      "3\n",
      "3\n",
      "3\n"
     ]
    }
   ],
   "source": [
    "node = first\n",
    "while (node is not None):\n",
    "    print(node.val)\n",
    "    node = node.next"
   ]
  },
  {
   "cell_type": "code",
   "execution_count": 19,
   "metadata": {},
   "outputs": [],
   "source": [
    "# 测试\n",
    "solution = Solution()\n",
    "head = solution.deleteDuplicates(first)\n",
    "# head = solution.deleteDuplicates2(first)"
   ]
  },
  {
   "cell_type": "code",
   "execution_count": 20,
   "metadata": {},
   "outputs": [
    {
     "name": "stdout",
     "output_type": "stream",
     "text": [
      "0\n",
      "1\n",
      "3\n",
      "4\n",
      "5\n"
     ]
    }
   ],
   "source": [
    "node = head\n",
    "while (node is not None):\n",
    "    print(node.val)\n",
    "    node = node.next"
   ]
  },
  {
   "cell_type": "code",
   "execution_count": null,
   "metadata": {},
   "outputs": [],
   "source": []
  }
 ],
 "metadata": {
  "kernelspec": {
   "display_name": "Python 3",
   "language": "python",
   "name": "python3"
  },
  "language_info": {
   "codemirror_mode": {
    "name": "ipython",
    "version": 3
   },
   "file_extension": ".py",
   "mimetype": "text/x-python",
   "name": "python",
   "nbconvert_exporter": "python",
   "pygments_lexer": "ipython3",
   "version": "3.7.3"
  }
 },
 "nbformat": 4,
 "nbformat_minor": 2
}
