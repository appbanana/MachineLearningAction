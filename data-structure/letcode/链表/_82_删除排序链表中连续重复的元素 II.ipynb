{
 "cells": [
  {
   "cell_type": "code",
   "execution_count": 43,
   "metadata": {},
   "outputs": [],
   "source": [
    "# 82. 删除排序链表中连续重复的元素 II\n",
    "#  https://leetcode-cn.com/problems/remove-duplicates-from-sorted-list-ii/comments/\n",
    "class ListNode:\n",
    "    def __init__(self, x=0):\n",
    "        self.val = x\n",
    "        self.next = None\n",
    "\n",
    "class Solution:\n",
    "    def deleteDuplicates(self, head):\n",
    "        \"\"\"\n",
    "        :type head: ListNode\n",
    "        :rtype: ListNode\n",
    "        \"\"\"\n",
    "        new_head = ListNode()\n",
    "        temp = new_head\n",
    "        while head is not None and head.next is not None: \n",
    "            if head.val == head.next.val:\n",
    "                # 如果元素一直一样 一直删\n",
    "                while head.next and head.val == head.next.val:\n",
    "                    head = head.next\n",
    "                # 把一样的元素跳过去\n",
    "                head = head.next\n",
    "            else:\n",
    "                # 不一样的话 让new_head的next指向head 与此同时使new_head的指向它自己的next\n",
    "                # 所以需要临时变量temp先保存一下new_head\n",
    "                temp.next = head\n",
    "                temp = temp.next\n",
    "                head = head.next\n",
    "        temp.next = head;\n",
    "        return new_head.next;        \n",
    "        "
   ]
  },
  {
   "cell_type": "code",
   "execution_count": 44,
   "metadata": {},
   "outputs": [],
   "source": [
    "first = ListNode()\n",
    "first.next = None\n",
    "last_node = first\n",
    "for i in range(1, 10):\n",
    "    node = ListNode(i)\n",
    "    if i > 1 and i < 4:\n",
    "        node.val = 2\n",
    "    if i > 4 and i < 7:\n",
    "        node.val = 6\n",
    "    last_node.next = node\n",
    "    last_node = node"
   ]
  },
  {
   "cell_type": "code",
   "execution_count": 45,
   "metadata": {},
   "outputs": [
    {
     "name": "stdout",
     "output_type": "stream",
     "text": [
      "0\n",
      "1\n",
      "2\n",
      "2\n",
      "4\n",
      "6\n",
      "6\n",
      "7\n",
      "8\n",
      "9\n"
     ]
    }
   ],
   "source": [
    "node = first\n",
    "while (node is not None):\n",
    "    print(node.val)\n",
    "    node = node.next"
   ]
  },
  {
   "cell_type": "code",
   "execution_count": 46,
   "metadata": {},
   "outputs": [],
   "source": [
    "# 测试\n",
    "solution = Solution()\n",
    "head = solution.deleteDuplicates(first)"
   ]
  },
  {
   "cell_type": "code",
   "execution_count": 47,
   "metadata": {},
   "outputs": [
    {
     "name": "stdout",
     "output_type": "stream",
     "text": [
      "0\n",
      "1\n",
      "4\n",
      "7\n",
      "8\n",
      "9\n"
     ]
    }
   ],
   "source": [
    "node = head\n",
    "while (node is not None):\n",
    "    print(node.val)\n",
    "    node = node.next"
   ]
  }
 ],
 "metadata": {
  "kernelspec": {
   "display_name": "Python 3",
   "language": "python",
   "name": "python3"
  },
  "language_info": {
   "codemirror_mode": {
    "name": "ipython",
    "version": 3
   },
   "file_extension": ".py",
   "mimetype": "text/x-python",
   "name": "python",
   "nbconvert_exporter": "python",
   "pygments_lexer": "ipython3",
   "version": "3.7.0"
  }
 },
 "nbformat": 4,
 "nbformat_minor": 1
}
