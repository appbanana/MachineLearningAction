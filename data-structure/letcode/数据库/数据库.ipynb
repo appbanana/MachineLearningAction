{
 "cells": [
  {
   "cell_type": "code",
   "execution_count": 1,
   "metadata": {},
   "outputs": [
    {
     "ename": "SyntaxError",
     "evalue": "invalid syntax (<ipython-input-1-7cfdc2020fcf>, line 3)",
     "output_type": "error",
     "traceback": [
      "\u001b[0;36m  File \u001b[0;32m\"<ipython-input-1-7cfdc2020fcf>\"\u001b[0;36m, line \u001b[0;32m3\u001b[0m\n\u001b[0;31m    select distinct l1.num from Logs l1 join Logs l2 on l1.Id = l2.Id-1 join Logs l3 on l2.Id = l3.Id-1 where l1.num=l2.num and l2.num=l3.num;\u001b[0m\n\u001b[0m                  ^\u001b[0m\n\u001b[0;31mSyntaxError\u001b[0m\u001b[0;31m:\u001b[0m invalid syntax\n"
     ]
    }
   ],
   "source": [
    "# 180. 连续出现的数字\n",
    "# https://leetcode-cn.com/problems/consecutive-numbers/solution/\n",
    "# 执行用时 : 849 ms, 在Consecutive Numbers的MySQL提交中击败了29.68% 的用户\n",
    "SELECT DISTINCT l1.Num as ConsecutiveNums FROM Logs l1, Logs l2, Logs l3\n",
    "WHERE l1.Id = l2.Id - 1 AND l2.Id = l3.Id - 1\n",
    "AND l1.Num = l2.Num AND l2.Num = l3.Num;\n",
    "\n",
    "select distinct l1.Num as ConsecutiveNums from Logs l1 inner join Logs l2 on l1.Id=l2.Id-1 \\\n",
    "inner join Logs l3 on l1.Id=l3.Id-2 where l1.Num=l2.Num and l2.Num=l3.Num;"
   ]
  },
  {
   "cell_type": "code",
   "execution_count": null,
   "metadata": {},
   "outputs": [],
   "source": [
    "# 181. 超过经理收入的员工\n",
    "# https://leetcode-cn.com/problems/employees-earning-more-than-their-managers/submissions/\n",
    "select e1.Name as Employee from Employee as e1, Employee as e2 where e1.ManagerId = e2.Id and e1.Salary > e2.Salary;"
   ]
  },
  {
   "cell_type": "code",
   "execution_count": null,
   "metadata": {},
   "outputs": [],
   "source": [
    "# 182. 查找重复的电子邮箱\n",
    "# https://leetcode-cn.com/problems/duplicate-emails/comments/\n",
    "select distinct p.Email from Person p group by p.Email having count(p.Email) > 1;"
   ]
  },
  {
   "cell_type": "code",
   "execution_count": null,
   "metadata": {},
   "outputs": [],
   "source": [
    "# 178. 分数排名\n",
    "# https://leetcode-cn.com/problems/rank-scores/\n",
    "\n",
    "\n"
   ]
  }
 ],
 "metadata": {
  "kernelspec": {
   "display_name": "Python 3",
   "language": "python",
   "name": "python3"
  },
  "language_info": {
   "codemirror_mode": {
    "name": "ipython",
    "version": 3
   },
   "file_extension": ".py",
   "mimetype": "text/x-python",
   "name": "python",
   "nbconvert_exporter": "python",
   "pygments_lexer": "ipython3",
   "version": "3.7.3"
  }
 },
 "nbformat": 4,
 "nbformat_minor": 2
}
