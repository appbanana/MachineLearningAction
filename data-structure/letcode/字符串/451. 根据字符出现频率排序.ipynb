{
 "cells": [
  {
   "cell_type": "code",
   "execution_count": 1,
   "metadata": {},
   "outputs": [],
   "source": [
    "# 451. 根据字符出现频率排序\n",
    "# https://leetcode-cn.com/problems/sort-characters-by-frequency/"
   ]
  },
  {
   "cell_type": "code",
   "execution_count": 28,
   "metadata": {},
   "outputs": [],
   "source": [
    "import collections\n",
    "from operator import itemgetter\n",
    "\n",
    "class Solution:\n",
    "    def frequencySort(self, s: str) -> str:\n",
    "        if s is None or len(s) == 1: return s\n",
    "        counter = collections.defaultdict(int)\n",
    "        \n",
    "        # 遍历时间复杂度为 O(N) 因为要建立一个字典存储元素, 此时空间复杂度最坏为O(N) N为字符长度\n",
    "        for c in s:\n",
    "            counter[c] = counter[c] + 1\n",
    "        \n",
    "        # 排序 平均最好的时间复杂度为O(Klog(K)) 最坏时间复杂度为O(K^2) K为字典键的数量\n",
    "        sorted_array = sorted(counter.items(), key=itemgetter(1), reverse=True)\n",
    "        \n",
    "        # 遍历排好序的数组 时间复杂度O(K) 空间复杂度O(N)\n",
    "        string = ''\n",
    "        for key, value in sorted_array:\n",
    "            string += key * value   \n",
    "        return string "
   ]
  },
  {
   "cell_type": "code",
   "execution_count": 34,
   "metadata": {},
   "outputs": [],
   "source": [
    "c = collections.defaultdict(int)\n",
    "# c = collections.Counter()\n",
    "\n",
    "for ch in \"Aabb\":\n",
    "    c[ch] = c[ch] + 1"
   ]
  },
  {
   "cell_type": "code",
   "execution_count": 35,
   "metadata": {},
   "outputs": [
    {
     "data": {
      "text/plain": [
       "defaultdict(int, {'A': 1, 'a': 1, 'b': 2})"
      ]
     },
     "execution_count": 35,
     "metadata": {},
     "output_type": "execute_result"
    }
   ],
   "source": [
    "c"
   ]
  },
  {
   "cell_type": "code",
   "execution_count": 38,
   "metadata": {},
   "outputs": [
    {
     "data": {
      "text/plain": [
       "[('b', 2), ('A', 1), ('a', 1)]"
      ]
     },
     "execution_count": 38,
     "metadata": {},
     "output_type": "execute_result"
    }
   ],
   "source": [
    "temp = sorted(c.items(), key=itemgetter(1), reverse=True)\n",
    "temp"
   ]
  },
  {
   "cell_type": "code",
   "execution_count": 25,
   "metadata": {},
   "outputs": [
    {
     "data": {
      "text/plain": [
       "['A', 'a', 'b', 'b']"
      ]
     },
     "execution_count": 25,
     "metadata": {},
     "output_type": "execute_result"
    }
   ],
   "source": [
    "string = ''\n",
    "for key, value in temp:\n",
    "    string += key * value\n",
    "    "
   ]
  },
  {
   "cell_type": "code",
   "execution_count": 39,
   "metadata": {},
   "outputs": [
    {
     "data": {
      "text/plain": [
       "'aa'"
      ]
     },
     "execution_count": 39,
     "metadata": {},
     "output_type": "execute_result"
    }
   ],
   "source": [
    "'a' * 2"
   ]
  },
  {
   "cell_type": "code",
   "execution_count": null,
   "metadata": {},
   "outputs": [],
   "source": []
  }
 ],
 "metadata": {
  "kernelspec": {
   "display_name": "Python 3",
   "language": "python",
   "name": "python3"
  },
  "language_info": {
   "codemirror_mode": {
    "name": "ipython",
    "version": 3
   },
   "file_extension": ".py",
   "mimetype": "text/x-python",
   "name": "python",
   "nbconvert_exporter": "python",
   "pygments_lexer": "ipython3",
   "version": "3.7.3"
  }
 },
 "nbformat": 4,
 "nbformat_minor": 2
}
