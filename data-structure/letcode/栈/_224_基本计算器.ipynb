{
 "cells": [
  {
   "cell_type": "code",
   "execution_count": null,
   "metadata": {},
   "outputs": [],
   "source": [
    "# 224. 基本计算器 https://leetcode-cn.com/problems/basic-calculator/"
   ]
  },
  {
   "cell_type": "code",
   "execution_count": 1,
   "metadata": {},
   "outputs": [],
   "source": [
    "class Solution:\n",
    "    def calculate(self, s: str) -> int:\n",
    "        stack = []\n",
    "        # 记录数字的符号, 因为题目说没有负数,说明第一个为正数,设为1\n",
    "        sign = 1\n",
    "        # 数字\n",
    "        num = 0\n",
    "        # 结果\n",
    "        res = 0\n",
    "        for c in s:\n",
    "            if c.isdigit():\n",
    "                num = num * 10 + int(c)\n",
    "            elif c == \"+\":\n",
    "                res += sign * num\n",
    "                # 为下一次做准备\n",
    "                num = 0\n",
    "                sign = 1\n",
    "\n",
    "            elif c == \"-\":\n",
    "                res += sign * num\n",
    "                # 为下一次做准备\n",
    "                num = 0\n",
    "                sign = -1\n",
    "            elif c == \"(\":\n",
    "                stack.append(res)\n",
    "                stack.append(sign)\n",
    "                sign = 1\n",
    "                res = 0\n",
    "            elif c == \")\":\n",
    "                res += sign * num\n",
    "                num = 0\n",
    "                res = stack.pop() * res + stack.pop()\n",
    "        res += sign * num\n",
    "        return res"
   ]
  },
  {
   "cell_type": "code",
   "execution_count": 2,
   "metadata": {},
   "outputs": [
    {
     "data": {
      "text/plain": [
       "9"
      ]
     },
     "execution_count": 2,
     "metadata": {},
     "output_type": "execute_result"
    }
   ],
   "source": [
    "solution = Solution()\n",
    "test = \"(1+(4+5+2)-3)+(6+8)\"\n",
    "# test = '4+5+2-1'\n",
    "test = \"1+(4+5+2)-3\"\n",
    "\n",
    "solution.calculate(test)"
   ]
  },
  {
   "cell_type": "code",
   "execution_count": 3,
   "metadata": {},
   "outputs": [],
   "source": [
    "class Solution2:\n",
    "    def calculate(self, s: str) -> int:\n",
    "        stack = []\n",
    "        # 因为为非负数 sign初始化为1\n",
    "        num, sign= 0, 1\n",
    "        res = 0\n",
    "        for c in s:\n",
    "            if c.isdigit():\n",
    "                # 处理存数字字符串  eg:'123'\n",
    "                num = num * 10 + int(c)\n",
    "            elif c == '+':\n",
    "                res += sign * num\n",
    "                sign = 1\n",
    "                num = 0\n",
    "            elif c == '-':\n",
    "                res += sign * num\n",
    "                sign = -1\n",
    "                num = 0\n",
    "            elif c == '(':\n",
    "                # 入栈 把符号和结果暂时保存下来\n",
    "                stack.append(res)\n",
    "                stack.append(sign)\n",
    "                res = 0\n",
    "                sign = 1\n",
    "            elif c == ')':\n",
    "                res += sign * num\n",
    "                num = 0\n",
    "                temp_sign = stack.pop()\n",
    "                temp_res = stack.pop()\n",
    "                res = temp_sign * res + temp_res\n",
    "        res += sign * num\n",
    "        return res\n"
   ]
  },
  {
   "cell_type": "code",
   "execution_count": 4,
   "metadata": {},
   "outputs": [
    {
     "data": {
      "text/plain": [
       "23"
      ]
     },
     "execution_count": 4,
     "metadata": {},
     "output_type": "execute_result"
    }
   ],
   "source": [
    "solution2 = Solution2()\n",
    "test = '1+2+3-9'\n",
    "# test = \"(4+5+2)\"\n",
    "# test = '(1+(4+5+2)-3)' # 9\n",
    "test = \"(1+(4+5+2)-3)+(6+8)\" # 23\n",
    "# test = '123'\n",
    "solution2.calculate(test)"
   ]
  },
  {
   "cell_type": "code",
   "execution_count": null,
   "metadata": {},
   "outputs": [],
   "source": []
  }
 ],
 "metadata": {
  "kernelspec": {
   "display_name": "Python 3",
   "language": "python",
   "name": "python3"
  },
  "language_info": {
   "codemirror_mode": {
    "name": "ipython",
    "version": 3
   },
   "file_extension": ".py",
   "mimetype": "text/x-python",
   "name": "python",
   "nbconvert_exporter": "python",
   "pygments_lexer": "ipython3",
   "version": "3.7.3"
  }
 },
 "nbformat": 4,
 "nbformat_minor": 2
}
