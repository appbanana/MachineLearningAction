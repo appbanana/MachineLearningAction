{
 "cells": [
  {
   "cell_type": "code",
   "execution_count": 20,
   "metadata": {},
   "outputs": [],
   "source": [
    "# 150. 逆波兰表达式求值\n",
    "# https://leetcode-cn.com/problems/evaluate-reverse-polish-notation/\n",
    "class Solution:        \n",
    "    def evalRPN(self, tokens: list) -> int:\n",
    "        dic_fun = {\n",
    "            '+': lambda x, y: x + y,\n",
    "            '-': lambda x, y: x - y,\n",
    "            '*': lambda x, y: x * y,\n",
    "            '/': lambda x, y: x / y\n",
    "        }\n",
    "        stack = []\n",
    "        for c in tokens:\n",
    "            if c in dic_fun:\n",
    "                # 操作符\n",
    "                # 右操作数\n",
    "                right = stack.pop()\n",
    "                # 左操作数\n",
    "                left = stack.pop()\n",
    "                result = dic_fun[c](left, right)\n",
    "                stack.append(int(result))\n",
    "            else:\n",
    "                stack.append(int(c))\n",
    "        return stack.pop()\n",
    "\n"
   ]
  },
  {
   "cell_type": "code",
   "execution_count": 22,
   "metadata": {},
   "outputs": [
    {
     "data": {
      "text/plain": [
       "22"
      ]
     },
     "execution_count": 22,
     "metadata": {},
     "output_type": "execute_result"
    }
   ],
   "source": [
    "solution = Solution()\n",
    "# solution.evalRPN([\"4\", \"13\", \"5\", \"/\", \"+\"])\n",
    "\n",
    "test = [\"10\", \"6\", \"9\", \"3\", \"+\", \"-11\", \"*\", \"/\", \"*\", \"17\", \"+\", \"5\", \"+\"]\n",
    "# test = [\"4\", \"13\", \"5\", \"/\", \"+\"]\n",
    "# test = [\"2\", \"1\", \"+\", \"3\", \"*\"]\n",
    "# test = [\"18\"]\n",
    "solution.evalRPN(test)\n"
   ]
  },
  {
   "cell_type": "code",
   "execution_count": null,
   "metadata": {},
   "outputs": [],
   "source": []
  }
 ],
 "metadata": {
  "kernelspec": {
   "display_name": "Python 3",
   "language": "python",
   "name": "python3"
  },
  "language_info": {
   "codemirror_mode": {
    "name": "ipython",
    "version": 3
   },
   "file_extension": ".py",
   "mimetype": "text/x-python",
   "name": "python",
   "nbconvert_exporter": "python",
   "pygments_lexer": "ipython3",
   "version": "3.7.3"
  }
 },
 "nbformat": 4,
 "nbformat_minor": 2
}
