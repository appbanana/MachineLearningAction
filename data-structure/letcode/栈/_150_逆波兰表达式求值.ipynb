{
 "cells": [
  {
   "cell_type": "code",
   "execution_count": 44,
   "metadata": {},
   "outputs": [],
   "source": [
    "# 150. 逆波兰表达式求值\n",
    "# https://leetcode-cn.com/problems/evaluate-reverse-polish-notation/\n",
    "class Solution:        \n",
    "    def evalRPN(self, tokens: list) -> int:\n",
    "        dic_fuc = {\n",
    "            '+': lambda x, y: x + y, \n",
    "            '-': lambda x, y: x - y, \n",
    "            '*': lambda x, y: x * y, \n",
    "            '/': lambda x, y: x / y\n",
    "        }\n",
    "        container = []\n",
    "        for item in tokens:\n",
    "            if item in dic_fuc:\n",
    "                # 最后一个\n",
    "                last = int(container.pop())\n",
    "                # 到处第二个\n",
    "                second = int(container.pop())\n",
    "                temp = dic_fuc[item](second, last)\n",
    "                container.append(int(temp))\n",
    "            else:\n",
    "                container.append(int(item))\n",
    "            \n",
    "        return container[0]\n",
    "\n"
   ]
  },
  {
   "cell_type": "code",
   "execution_count": 45,
   "metadata": {},
   "outputs": [
    {
     "data": {
      "text/plain": [
       "18"
      ]
     },
     "execution_count": 45,
     "metadata": {},
     "output_type": "execute_result"
    }
   ],
   "source": [
    "solution = Solution()\n",
    "# solution.evalRPN([\"4\", \"13\", \"5\", \"/\", \"+\"])\n",
    "\n",
    "test = [\"10\", \"6\", \"9\", \"3\", \"+\", \"-11\", \"*\", \"/\", \"*\", \"17\", \"+\", \"5\", \"+\"]\n",
    "test = [\"4\", \"13\", \"5\", \"/\", \"+\"]\n",
    "test = [\"2\", \"1\", \"+\", \"3\", \"*\"]\n",
    "test = [\"18\"]\n",
    "solution.evalRPN(test)\n"
   ]
  },
  {
   "cell_type": "code",
   "execution_count": 35,
   "metadata": {},
   "outputs": [
    {
     "data": {
      "text/plain": [
       "'/'"
      ]
     },
     "execution_count": 35,
     "metadata": {},
     "output_type": "execute_result"
    }
   ],
   "source": [
    "a = [\"4\", \"13\", \"5\", \"/\", \"+\"]\n",
    "a.pop(-2)"
   ]
  },
  {
   "cell_type": "code",
   "execution_count": 46,
   "metadata": {},
   "outputs": [
    {
     "data": {
      "text/plain": [
       "1"
      ]
     },
     "execution_count": 46,
     "metadata": {},
     "output_type": "execute_result"
    }
   ],
   "source": [
    "5 // 3"
   ]
  },
  {
   "cell_type": "code",
   "execution_count": 30,
   "metadata": {},
   "outputs": [
    {
     "data": {
      "text/plain": [
       "1.6666666666666667"
      ]
     },
     "execution_count": 30,
     "metadata": {},
     "output_type": "execute_result"
    }
   ],
   "source": [
    "5/ 3"
   ]
  },
  {
   "cell_type": "code",
   "execution_count": null,
   "metadata": {},
   "outputs": [],
   "source": []
  }
 ],
 "metadata": {
  "kernelspec": {
   "display_name": "Python 3",
   "language": "python",
   "name": "python3"
  },
  "language_info": {
   "codemirror_mode": {
    "name": "ipython",
    "version": 3
   },
   "file_extension": ".py",
   "mimetype": "text/x-python",
   "name": "python",
   "nbconvert_exporter": "python",
   "pygments_lexer": "ipython3",
   "version": "3.7.3"
  }
 },
 "nbformat": 4,
 "nbformat_minor": 2
}
