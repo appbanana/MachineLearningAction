{
 "cells": [
  {
   "cell_type": "code",
   "execution_count": 15,
   "metadata": {},
   "outputs": [],
   "source": [
    "# 856. 括号的分数\n",
    "# https://leetcode-cn.com/problems/score-of-parentheses/\n",
    "\n",
    "# 输入： \"()()\"\n",
    "# 输出： 2\n",
    "\n",
    "# 输入： \"(())\"\n",
    "# 输出： 2\n",
    "\n",
    "# 输入： \"(()(()))\"\n",
    "# 输出： 6\n",
    "\n",
    "class Solution:\n",
    "    def scoreOfParentheses(self, S: str) -> int:\n",
    "        score = 0\n",
    "        container = []\n",
    "        for c in S:\n",
    "            if c == '(':\n",
    "                # 有(就进栈0 标记占位\n",
    "                container.append(score)\n",
    "                score = 0\n",
    "            else:\n",
    "                # 如果是)就出栈\n",
    "                score += container.pop() + max(score, 1)\n",
    "        return score\n",
    "    \n",
    "\n"
   ]
  },
  {
   "cell_type": "code",
   "execution_count": 17,
   "metadata": {},
   "outputs": [
    {
     "data": {
      "text/plain": [
       "6"
      ]
     },
     "execution_count": 17,
     "metadata": {},
     "output_type": "execute_result"
    }
   ],
   "source": [
    "# 创建类\n",
    "solution = Solution()\n",
    "test = \"()\"  # 1\n",
    "test = \"(())\"  # 2\n",
    "test = \"()()\"  # 2\n",
    "test = \"(()(()))\"  # 6\n",
    "test = \"((()(())))\" # 12\n",
    "solution.scoreOfParentheses(test)"
   ]
  }
 ],
 "metadata": {
  "kernelspec": {
   "display_name": "Python 3",
   "language": "python",
   "name": "python3"
  },
  "language_info": {
   "codemirror_mode": {
    "name": "ipython",
    "version": 3
   },
   "file_extension": ".py",
   "mimetype": "text/x-python",
   "name": "python",
   "nbconvert_exporter": "python",
   "pygments_lexer": "ipython3",
   "version": "3.7.3"
  }
 },
 "nbformat": 4,
 "nbformat_minor": 2
}
