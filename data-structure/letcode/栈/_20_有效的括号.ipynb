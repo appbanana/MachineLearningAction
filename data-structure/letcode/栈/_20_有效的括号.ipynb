{
 "cells": [
  {
   "cell_type": "code",
   "execution_count": 1,
   "metadata": {},
   "outputs": [],
   "source": [
    "# 20. 有效的括号\n",
    "# https://leetcode-cn.com/problems/valid-parentheses/solution/\n",
    "class Solution:\n",
    "    def isValid(self, s: str) -> bool:\n",
    "        if s is None:\n",
    "            return False \n",
    "        dic_str = {'(': ')', '{': '}', '[': ']'}\n",
    "        container = []\n",
    "        for c in s:\n",
    "            if c in dic_str:\n",
    "                container.append(c)\n",
    "            else:\n",
    "                if len(container) == 0: return False\n",
    "                if c != dic_str[container.pop()]: return False\n",
    "        return len(container) == 0\n",
    "    \n",
    "\n"
   ]
  },
  {
   "cell_type": "code",
   "execution_count": 3,
   "metadata": {},
   "outputs": [
    {
     "data": {
      "text/plain": [
       "False"
      ]
     },
     "execution_count": 3,
     "metadata": {},
     "output_type": "execute_result"
    }
   ],
   "source": [
    "# 创建类\n",
    "solution = Solution()\n",
    "test = \"(()(()))\"\n",
    "solution.isValid('[')"
   ]
  }
 ],
 "metadata": {
  "kernelspec": {
   "display_name": "Python 3",
   "language": "python",
   "name": "python3"
  },
  "language_info": {
   "codemirror_mode": {
    "name": "ipython",
    "version": 3
   },
   "file_extension": ".py",
   "mimetype": "text/x-python",
   "name": "python",
   "nbconvert_exporter": "python",
   "pygments_lexer": "ipython3",
   "version": "3.7.3"
  }
 },
 "nbformat": 4,
 "nbformat_minor": 2
}
