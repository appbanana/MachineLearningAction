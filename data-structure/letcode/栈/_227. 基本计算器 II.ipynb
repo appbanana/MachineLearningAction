{
 "cells": [
  {
   "cell_type": "code",
   "execution_count": 1,
   "metadata": {},
   "outputs": [],
   "source": [
    "# 227. 基本计算器 II https://leetcode-cn.com/problems/basic-calculator-ii/\n"
   ]
  },
  {
   "cell_type": "code",
   "execution_count": 73,
   "metadata": {},
   "outputs": [],
   "source": [
    "class Solution:\n",
    "    \n",
    "    def calculate(self, s: str) -> int:\n",
    "        \"\"\"\n",
    "        先计算乘除 再去计算加减\n",
    "        \"\"\"\n",
    "        # 这个方法比较巧 不加这个可能会少加一个数\n",
    "        s += '+0'\n",
    "        stack = []\n",
    "        num = 0\n",
    "        # 记录上一次的操作符\n",
    "        sign = '+'\n",
    "        \n",
    "        for c in s:\n",
    "            if c.isdigit():\n",
    "                num = num * 10 + int(c)\n",
    "            elif c in ['+', '-', '*', '/']:\n",
    "                if sign == '+':\n",
    "                    stack.append(num)\n",
    "                elif sign == '-':\n",
    "                    stack.append(-num)\n",
    "                elif sign == '*':\n",
    "                    # 乘法就是取出栈中最后一个元素与当前元素相乘, 然后用计算的值去替换原来位置的值\n",
    "                    temp = stack.pop() * num\n",
    "                    stack.append(temp)\n",
    "                elif sign == '/':\n",
    "                    temp_num = stack.pop()\n",
    "                    # 计算负数的时候要注意一下\n",
    "                    result =temp_num // num if temp_num > 0 else -(-temp_num // num)\n",
    "                    stack.append(result)\n",
    "                sign, num = c, 0\n",
    "        return sum(stack)"
   ]
  },
  {
   "cell_type": "code",
   "execution_count": 74,
   "metadata": {},
   "outputs": [
    {
     "data": {
      "text/plain": [
       "13"
      ]
     },
     "execution_count": 74,
     "metadata": {},
     "output_type": "execute_result"
    }
   ],
   "source": [
    "solution = Solution()\n",
    "test = \" 3+5 / 2 \" # 5\n",
    "# test = \"1*2-3/4+5*6-7*8+9/10\"\n",
    "# test = \"1*2-3/4+5*6\"\n",
    "# test = \"1*2-3/4\" # 2\n",
    "test = \"14-3/2\"\n",
    "\n",
    "solution.calculate(test)"
   ]
  },
  {
   "cell_type": "code",
   "execution_count": 62,
   "metadata": {},
   "outputs": [],
   "source": [
    "def calculate(s: str) -> int:\n",
    "    # 小trick\n",
    "    s += \"+0\"\n",
    "    stack = []\n",
    "    num = 0\n",
    "    # 记录前一个符号\n",
    "    sign = \"+\"\n",
    "    for c in s:\n",
    "        if c.isdigit():\n",
    "            num = num * 10 + int(c)\n",
    "        elif c in {\"+\", \"-\", \"*\", \"/\"}:\n",
    "            #print(sign, num)\n",
    "            if sign == \"+\":\n",
    "                stack.append(num)\n",
    "            elif sign == \"-\":\n",
    "                stack.append(-num)\n",
    "            elif sign == \"*\":\n",
    "                stack[-1] = stack[-1] * num\n",
    "            elif sign == \"/\":\n",
    "                # 解决python的负数下取整\n",
    "                if stack[-1] < 0:\n",
    "                    stack[-1] = -(-stack[-1] // num)\n",
    "                else:\n",
    "                    stack[-1] = stack[-1] // num\n",
    "            sign, num = c, 0\n",
    "    return sum(stack)\n"
   ]
  },
  {
   "cell_type": "code",
   "execution_count": 63,
   "metadata": {},
   "outputs": [
    {
     "name": "stdout",
     "output_type": "stream",
     "text": [
      "1*2-3/4+5*6-7*8+ 9/10+0\n"
     ]
    },
    {
     "data": {
      "text/plain": [
       "-24"
      ]
     },
     "execution_count": 63,
     "metadata": {},
     "output_type": "execute_result"
    }
   ],
   "source": [
    "test = \"1*2-3/4+5*6-7*8+ 9/10\"\n",
    "# test = '123'\n",
    "# test = '1*2'\n",
    "calculate(test)"
   ]
  },
  {
   "cell_type": "code",
   "execution_count": 50,
   "metadata": {},
   "outputs": [
    {
     "data": {
      "text/plain": [
       "-1"
      ]
     },
     "execution_count": 50,
     "metadata": {},
     "output_type": "execute_result"
    }
   ],
   "source": [
    "-1//2"
   ]
  },
  {
   "cell_type": "code",
   "execution_count": null,
   "metadata": {},
   "outputs": [],
   "source": []
  }
 ],
 "metadata": {
  "kernelspec": {
   "display_name": "Python 3",
   "language": "python",
   "name": "python3"
  },
  "language_info": {
   "codemirror_mode": {
    "name": "ipython",
    "version": 3
   },
   "file_extension": ".py",
   "mimetype": "text/x-python",
   "name": "python",
   "nbconvert_exporter": "python",
   "pygments_lexer": "ipython3",
   "version": "3.7.3"
  }
 },
 "nbformat": 4,
 "nbformat_minor": 2
}
