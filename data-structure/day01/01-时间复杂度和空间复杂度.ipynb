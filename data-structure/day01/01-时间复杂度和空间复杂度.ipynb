{
 "cells": [
  {
   "cell_type": "code",
   "execution_count": 1,
   "metadata": {},
   "outputs": [],
   "source": [
    "import time\n",
    "import datetime\n",
    "import functools"
   ]
  },
  {
   "cell_type": "code",
   "execution_count": 2,
   "metadata": {},
   "outputs": [],
   "source": [
    "# 使用装饰器封装一个统计函数运行时间的函数\n",
    "def print_func_run_time(func):\n",
    "    def inner_func(*args, **kw):\n",
    "        start = time.time()\n",
    "        result = func(*args, **kw)\n",
    "        end = time.time()\n",
    "        print('所消耗时间：', datetime.datetime.fromtimestamp(end- start).strftime(\"%M:%S:%f\"))\n",
    "        return result\n",
    "    return inner_func"
   ]
  },
  {
   "cell_type": "code",
   "execution_count": 27,
   "metadata": {},
   "outputs": [],
   "source": [
    "# 斐波那契数列 测试时间复杂度\n",
    "# @print_func_run_time\n",
    "# 采用递归算法\n",
    "# 时间复杂度O(2^n)\n",
    "def fib(n):\n",
    "    if n < 2:\n",
    "        return n\n",
    "    return fib(n-1) + fib(n-2)\n",
    "\n",
    "@print_func_run_time\n",
    "def fib1(n):\n",
    "    if n <= 1:\n",
    "        return n\n",
    "    a, b = 0, 1\n",
    "    for i in range(1,n):\n",
    "        a, b = b, a+b\n",
    "    return b\n",
    "\n",
    "def fib2(n):\n",
    "    a, b = 0, 1\n",
    "    while n >= 0:\n",
    "        yield a\n",
    "        a, b = b, a+b\n",
    "        n-=1\n",
    "    return 'done'"
   ]
  },
  {
   "cell_type": "code",
   "execution_count": 14,
   "metadata": {},
   "outputs": [
    {
     "name": "stdout",
     "output_type": "stream",
     "text": [
      "9227465\n",
      "00:04:137584\n"
     ]
    }
   ],
   "source": [
    "start = time.time()\n",
    "print(fib(35))\n",
    "end = time.time()\n",
    "print(datetime.datetime.fromtimestamp(end- start).strftime(\"%M:%S:%f\"))"
   ]
  },
  {
   "cell_type": "code",
   "execution_count": 29,
   "metadata": {},
   "outputs": [
    {
     "name": "stdout",
     "output_type": "stream",
     "text": [
      "所消耗时间： 00:00:000005\n"
     ]
    },
    {
     "data": {
      "text/plain": [
       "102334155"
      ]
     },
     "execution_count": 29,
     "metadata": {},
     "output_type": "execute_result"
    }
   ],
   "source": [
    "fib1(40)"
   ]
  },
  {
   "cell_type": "code",
   "execution_count": 28,
   "metadata": {},
   "outputs": [
    {
     "name": "stdout",
     "output_type": "stream",
     "text": [
      "所消耗时间： 00:00:000001\n",
      "0\n",
      "所消耗时间： 00:00:000000\n",
      "1\n",
      "所消耗时间： 00:00:000003\n",
      "1\n",
      "所消耗时间： 00:00:000002\n",
      "2\n",
      "所消耗时间： 00:00:000002\n",
      "3\n",
      "所消耗时间： 00:00:000001\n",
      "5\n",
      "所消耗时间： 00:00:000001\n",
      "8\n",
      "所消耗时间： 00:00:000001\n",
      "13\n",
      "所消耗时间： 00:00:000001\n",
      "21\n",
      "所消耗时间： 00:00:000002\n",
      "34\n",
      "所消耗时间： 00:00:000002\n",
      "55\n"
     ]
    }
   ],
   "source": [
    "for i in range(11):\n",
    "    print(fib1(i))"
   ]
  },
  {
   "cell_type": "code",
   "execution_count": 7,
   "metadata": {},
   "outputs": [
    {
     "name": "stdout",
     "output_type": "stream",
     "text": [
      "0\n",
      "1\n",
      "1\n",
      "2\n",
      "3\n",
      "5\n"
     ]
    }
   ],
   "source": [
    "for i in fib2(5):\n",
    "    print(i)"
   ]
  },
  {
   "cell_type": "code",
   "execution_count": null,
   "metadata": {},
   "outputs": [],
   "source": []
  }
 ],
 "metadata": {
  "kernelspec": {
   "display_name": "Python 3",
   "language": "python",
   "name": "python3"
  },
  "language_info": {
   "codemirror_mode": {
    "name": "ipython",
    "version": 3
   },
   "file_extension": ".py",
   "mimetype": "text/x-python",
   "name": "python",
   "nbconvert_exporter": "python",
   "pygments_lexer": "ipython3",
   "version": "3.7.0"
  }
 },
 "nbformat": 4,
 "nbformat_minor": 1
}
