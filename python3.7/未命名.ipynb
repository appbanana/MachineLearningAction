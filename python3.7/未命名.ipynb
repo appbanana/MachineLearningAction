{
 "cells": [
  {
   "cell_type": "code",
   "execution_count": 3,
   "metadata": {},
   "outputs": [
    {
     "data": {
      "text/plain": [
       "\u001b[0;31mSignature:\u001b[0m \u001b[0mhash\u001b[0m\u001b[0;34m(\u001b[0m\u001b[0mobj\u001b[0m\u001b[0;34m,\u001b[0m \u001b[0;34m/\u001b[0m\u001b[0;34m)\u001b[0m\u001b[0;34m\u001b[0m\u001b[0;34m\u001b[0m\u001b[0m\n",
       "\u001b[0;31mDocstring:\u001b[0m\n",
       "Return the hash value for the given object.\n",
       "\n",
       "Two objects that compare equal must also have the same hash value, but the\n",
       "reverse is not necessarily true.\n",
       "\u001b[0;31mType:\u001b[0m      builtin_function_or_method\n"
      ]
     },
     "metadata": {},
     "output_type": "display_data"
    }
   ],
   "source": [
    "hash??"
   ]
  },
  {
   "cell_type": "code",
   "execution_count": 21,
   "metadata": {},
   "outputs": [],
   "source": [
    "def bubble_sort(array):\n",
    "    count = len(array)\n",
    "    for i in range(0, count):\n",
    "        print('*****----*****')\n",
    "        print(array[i])\n",
    "        for j in (0, count-1-i):\n",
    "            if array[i] > array[j]:\n",
    "                temp = array[i]\n",
    "                array[i] = array[j]\n",
    "                array[j] = temp\n",
    "        print(array)\n",
    "    return array\n"
   ]
  },
  {
   "cell_type": "code",
   "execution_count": 22,
   "metadata": {},
   "outputs": [
    {
     "name": "stdout",
     "output_type": "stream",
     "text": [
      "*****----*****\n",
      "36\n",
      "[36, 25, 48, 12, 25, 65, 43, 57]\n",
      "*****----*****\n",
      "25\n",
      "[36, 25, 48, 12, 25, 65, 43, 57]\n",
      "*****----*****\n",
      "48\n",
      "[48, 25, 36, 12, 25, 65, 43, 57]\n",
      "*****----*****\n",
      "12\n",
      "[48, 25, 36, 12, 25, 65, 43, 57]\n",
      "*****----*****\n",
      "25\n",
      "[48, 25, 36, 25, 12, 65, 43, 57]\n",
      "*****----*****\n",
      "65\n",
      "[65, 25, 48, 25, 12, 36, 43, 57]\n",
      "*****----*****\n",
      "43\n",
      "[65, 43, 48, 25, 12, 36, 25, 57]\n",
      "*****----*****\n",
      "57\n",
      "[65, 43, 48, 25, 12, 36, 25, 57]\n",
      "[65, 43, 48, 25, 12, 36, 25, 57]\n"
     ]
    }
   ],
   "source": [
    "array = [36, 25, 48, 12, 25, 65, 43, 57]\n",
    "print(bubble_sort(array))"
   ]
  },
  {
   "cell_type": "code",
   "execution_count": null,
   "metadata": {},
   "outputs": [],
   "source": []
  },
  {
   "cell_type": "code",
   "execution_count": null,
   "metadata": {},
   "outputs": [],
   "source": []
  }
 ],
 "metadata": {
  "kernelspec": {
   "display_name": "Python 3",
   "language": "python",
   "name": "python3"
  },
  "language_info": {
   "codemirror_mode": {
    "name": "ipython",
    "version": 3
   },
   "file_extension": ".py",
   "mimetype": "text/x-python",
   "name": "python",
   "nbconvert_exporter": "python",
   "pygments_lexer": "ipython3",
   "version": "3.7.3"
  }
 },
 "nbformat": 4,
 "nbformat_minor": 2
}
