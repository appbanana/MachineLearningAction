{
 "cells": [
  {
   "cell_type": "code",
   "execution_count": 16,
   "metadata": {},
   "outputs": [],
   "source": [
    "class ListNode:\n",
    "    def __init__(self, x=0):\n",
    "        self.val = x\n",
    "        self.next = None\n",
    "\n",
    "# while循环实现  取决于最长的那个链表长度 假设为最长链表长度n,那么时间复杂度O(n) 空间复杂度O(n)\n",
    "def add(h1, h2):\n",
    "    new_head = ListNode(0)\n",
    "    flag = 0\n",
    "    temp = new_head\n",
    "    while h1 or h2:\n",
    "        val1 = h1.val if h1 else 0\n",
    "        val2 = h2.val if h2 else 0\n",
    "        sum = flag + val1 + val2\n",
    "        flag = sum // 10\n",
    "        temp.next = ListNode(sum % 10)\n",
    "        temp = temp.next\n",
    "        h1 = h1.next if h1 else None\n",
    "        h2 = h2.next if h2 else None\n",
    "    if flag:\n",
    "        temp.next = ListNode(flag)\n",
    "    return new_head.next\n"
   ]
  },
  {
   "cell_type": "code",
   "execution_count": 3,
   "metadata": {},
   "outputs": [],
   "source": [
    "first = ListNode(1)\n",
    "first.next = None\n",
    "last_node = first\n",
    "for i in range(2, 7):\n",
    "    node = ListNode(i)\n",
    "    last_node.next = node\n",
    "    last_node = node\n"
   ]
  },
  {
   "cell_type": "code",
   "execution_count": 4,
   "metadata": {},
   "outputs": [
    {
     "name": "stdout",
     "output_type": "stream",
     "text": [
      "1\n",
      "2\n",
      "3\n",
      "4\n",
      "5\n",
      "6\n"
     ]
    }
   ],
   "source": [
    "node = first\n",
    "while (node is not None):\n",
    "    print(node.val)\n",
    "    node = node.next"
   ]
  },
  {
   "cell_type": "code",
   "execution_count": 20,
   "metadata": {},
   "outputs": [],
   "source": [
    "second = ListNode(5)\n",
    "second.next = None\n",
    "last_node = second\n",
    "for i in range(2, 5):\n",
    "    node = ListNode(i+8)\n",
    "    last_node.next = node\n",
    "    last_node = node"
   ]
  },
  {
   "cell_type": "code",
   "execution_count": 21,
   "metadata": {},
   "outputs": [
    {
     "name": "stdout",
     "output_type": "stream",
     "text": [
      "5\n",
      "10\n",
      "11\n",
      "12\n"
     ]
    }
   ],
   "source": [
    "node = second\n",
    "while (node is not None):\n",
    "    print(node.val)\n",
    "    node = node.next"
   ]
  },
  {
   "cell_type": "code",
   "execution_count": 22,
   "metadata": {},
   "outputs": [],
   "source": [
    "# 测试\n",
    "new_head = add(first, second)"
   ]
  },
  {
   "cell_type": "code",
   "execution_count": 23,
   "metadata": {},
   "outputs": [
    {
     "name": "stdout",
     "output_type": "stream",
     "text": [
      "6\n",
      "2\n",
      "5\n",
      "7\n",
      "6\n",
      "6\n"
     ]
    }
   ],
   "source": [
    "node = new_head\n",
    "while (node is not None):\n",
    "    print(node.val)\n",
    "    node = node.next"
   ]
  },
  {
   "cell_type": "code",
   "execution_count": 1,
   "metadata": {},
   "outputs": [
    {
     "data": {
      "text/plain": [
       "1"
      ]
     },
     "execution_count": 1,
     "metadata": {},
     "output_type": "execute_result"
    }
   ],
   "source": [
    "15 // 10"
   ]
  },
  {
   "cell_type": "code",
   "execution_count": null,
   "metadata": {},
   "outputs": [],
   "source": []
  }
 ],
 "metadata": {
  "kernelspec": {
   "display_name": "Python 3",
   "language": "python",
   "name": "python3"
  },
  "language_info": {
   "codemirror_mode": {
    "name": "ipython",
    "version": 3
   },
   "file_extension": ".py",
   "mimetype": "text/x-python",
   "name": "python",
   "nbconvert_exporter": "python",
   "pygments_lexer": "ipython3",
   "version": "3.7.3"
  }
 },
 "nbformat": 4,
 "nbformat_minor": 2
}
