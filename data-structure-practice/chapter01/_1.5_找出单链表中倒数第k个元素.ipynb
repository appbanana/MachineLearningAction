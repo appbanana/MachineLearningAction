{
 "cells": [
  {
   "cell_type": "code",
   "execution_count": 11,
   "metadata": {},
   "outputs": [],
   "source": [
    "class ListNode:\n",
    "    def __init__(self, x=0):\n",
    "        self.val = x\n",
    "        self.next = None\n",
    "# 实现思路 使用快慢指针 先让快指针走k步 然后快慢指针都一步一步的走 \n",
    "# 当快指针走到头 慢指针所在的位置就是想要的元素\n",
    "# 时间复杂度O(n) 空间复杂度O(1)\n",
    "def find_last_k_node(head, k):\n",
    "    if head is None or head.next is None: return head\n",
    "    slow = head\n",
    "    fast = head\n",
    "    i = 0\n",
    "    while i < k and fast:\n",
    "        fast = fast.next\n",
    "        i = i + 1\n",
    "        \n",
    "    if i < k: return None\n",
    "    while fast:\n",
    "        slow = slow.next\n",
    "        fast = fast.next\n",
    "    return slow"
   ]
  },
  {
   "cell_type": "code",
   "execution_count": 12,
   "metadata": {},
   "outputs": [],
   "source": [
    "first = ListNode(1)\n",
    "first.next = None\n",
    "last_node = first\n",
    "for i in range(2, 9):\n",
    "    node = ListNode(i)\n",
    "    last_node.next = node\n",
    "    last_node = node\n"
   ]
  },
  {
   "cell_type": "code",
   "execution_count": 13,
   "metadata": {},
   "outputs": [
    {
     "name": "stdout",
     "output_type": "stream",
     "text": [
      "1\n",
      "2\n",
      "3\n",
      "4\n",
      "5\n",
      "6\n",
      "7\n",
      "8\n"
     ]
    }
   ],
   "source": [
    "node = first\n",
    "while (node is not None):\n",
    "    print(node.val)\n",
    "    node = node.next"
   ]
  },
  {
   "cell_type": "code",
   "execution_count": 17,
   "metadata": {},
   "outputs": [
    {
     "data": {
      "text/plain": [
       "6"
      ]
     },
     "execution_count": 17,
     "metadata": {},
     "output_type": "execute_result"
    }
   ],
   "source": [
    "new_head = find_last_k_node(first, 3)\n",
    "new_head.val"
   ]
  },
  {
   "cell_type": "code",
   "execution_count": null,
   "metadata": {},
   "outputs": [],
   "source": []
  }
 ],
 "metadata": {
  "kernelspec": {
   "display_name": "Python 3",
   "language": "python",
   "name": "python3"
  },
  "language_info": {
   "codemirror_mode": {
    "name": "ipython",
    "version": 3
   },
   "file_extension": ".py",
   "mimetype": "text/x-python",
   "name": "python",
   "nbconvert_exporter": "python",
   "pygments_lexer": "ipython3",
   "version": "3.7.3"
  }
 },
 "nbformat": 4,
 "nbformat_minor": 2
}
