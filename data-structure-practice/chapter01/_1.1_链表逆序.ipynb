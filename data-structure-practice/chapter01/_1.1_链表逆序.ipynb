{
 "cells": [
  {
   "cell_type": "code",
   "execution_count": 90,
   "metadata": {},
   "outputs": [],
   "source": [
    "class ListNode:\n",
    "    def __init__(self, x=0):\n",
    "        self.val = x\n",
    "        self.next = None\n",
    "\n",
    "# while循环实现 时间复杂度O(n) 空间复杂度O(1)\n",
    "def reverse(head):\n",
    "    if head is None or head.next is None: return head\n",
    "    node = head\n",
    "    prev = None\n",
    "    while node is not None:\n",
    "        temp = node.next\n",
    "        node.next = prev\n",
    "        prev = node\n",
    "        node = temp\n",
    "    # 这应该返回原来链表中的最后一个元素\n",
    "    return prev\n",
    "\n",
    "# 插入法实现  时间复杂度O(n) 空间复杂度O(n)\n",
    "def reverse2(head):\n",
    "    if head is None or head.next is None: return head\n",
    "    new_head = ListNode(0)\n",
    "    while head is not None:\n",
    "        temp = head\n",
    "        head = head.next\n",
    "        node = new_head.next\n",
    "        new_head.next = temp\n",
    "        temp.next = node\n",
    "        # 这句话不能放到temp.next = node之后后,因为第一次后head.next会变成None\n",
    "#         head = head.next\n",
    "    return new_head.next\n",
    "\n",
    "# 递归法实现 时间复杂度O(n)\n",
    "def reverse1(head):\n",
    "    # 时间复杂度O(n)\n",
    "    if head is None or head.next is None: return head\n",
    "    \n",
    "    new_head = reverse(head.next)\n",
    "    head.next.next = head\n",
    "    head.next = None\n",
    "    return new_head"
   ]
  },
  {
   "cell_type": "code",
   "execution_count": 91,
   "metadata": {},
   "outputs": [],
   "source": [
    "first = ListNode(1)\n",
    "first.next = None\n",
    "last_node = first\n",
    "for i in range(2, 7):\n",
    "    node = ListNode(i)\n",
    "    last_node.next = node\n",
    "    last_node = node\n"
   ]
  },
  {
   "cell_type": "code",
   "execution_count": 92,
   "metadata": {},
   "outputs": [
    {
     "name": "stdout",
     "output_type": "stream",
     "text": [
      "1\n",
      "2\n",
      "3\n",
      "4\n",
      "5\n",
      "6\n"
     ]
    }
   ],
   "source": [
    "node = first\n",
    "while (node is not None):\n",
    "    print(node.val)\n",
    "    node = node.next"
   ]
  },
  {
   "cell_type": "code",
   "execution_count": 93,
   "metadata": {},
   "outputs": [
    {
     "name": "stdout",
     "output_type": "stream",
     "text": [
      "----111----\n",
      "1\n",
      "----111----\n",
      "2\n",
      "----111----\n",
      "3\n",
      "----111----\n",
      "4\n",
      "----111----\n",
      "5\n",
      "----111----\n",
      "6\n"
     ]
    }
   ],
   "source": [
    "# 测试\n",
    "new_head = reverse(first)\n"
   ]
  },
  {
   "cell_type": "code",
   "execution_count": 94,
   "metadata": {},
   "outputs": [
    {
     "name": "stdout",
     "output_type": "stream",
     "text": [
      "6\n",
      "5\n",
      "4\n",
      "3\n",
      "2\n",
      "1\n"
     ]
    }
   ],
   "source": [
    "node = new_head\n",
    "while (node is not None):\n",
    "    print(node.val)\n",
    "    node = node.next"
   ]
  },
  {
   "cell_type": "code",
   "execution_count": null,
   "metadata": {},
   "outputs": [],
   "source": []
  }
 ],
 "metadata": {
  "kernelspec": {
   "display_name": "Python 3",
   "language": "python",
   "name": "python3"
  },
  "language_info": {
   "codemirror_mode": {
    "name": "ipython",
    "version": 3
   },
   "file_extension": ".py",
   "mimetype": "text/x-python",
   "name": "python",
   "nbconvert_exporter": "python",
   "pygments_lexer": "ipython3",
   "version": "3.7.3"
  }
 },
 "nbformat": 4,
 "nbformat_minor": 2
}
