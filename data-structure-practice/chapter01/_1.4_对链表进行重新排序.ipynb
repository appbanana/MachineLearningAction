{
 "cells": [
  {
   "cell_type": "code",
   "execution_count": 1,
   "metadata": {},
   "outputs": [],
   "source": [
    "class ListNode:\n",
    "    def __init__(self, x=0):\n",
    "        self.val = x\n",
    "        self.next = None\n",
    "# 整体思路 找到中间那个节点  然后把后一半元素反转 最后前一半和后一半在依次添加\n",
    "# 时间复杂度O(n) 空间复杂度O(1)\n",
    "def reverse(head):\n",
    "    if head is None or head.next is None: return head\n",
    "    prev = None\n",
    "    while head:\n",
    "        temp = head.next\n",
    "        head.next = prev\n",
    "        prev = head\n",
    "        head = temp\n",
    "    return prev\n",
    "\n",
    "# 使用快慢指针实现 时间复杂度O(n) 空间复杂度O(1)\n",
    "def find_middle_node(head):\n",
    "    if head is None or head.next is None: return head\n",
    "    slow = head\n",
    "    fast = head\n",
    "    # 暂存慢指针  方面找到中间节点后 断开一分为二\n",
    "    slow_pre = head\n",
    "    while fast and fast.next:\n",
    "        slow_pre = slow\n",
    "        slow = slow.next\n",
    "        fast = fast.next.next\n",
    "        head = head.next\n",
    "    slow_pre = None\n",
    "    return slow\n",
    "\n",
    "def reorder(head):\n",
    "    if head is None or head.next is None: return head\n",
    "    mid_node = find_middle_node(head)\n",
    "    curr = reverse(mid_node)\n",
    "    node = head\n",
    "    prev = None\n",
    "    while node and curr:\n",
    "        # 先分别保存node和curr的next\n",
    "        temp = node.next\n",
    "        temp_curr = curr.next\n",
    "        # 开始赋值 \n",
    "        node.next = curr\n",
    "        curr.next = temp\n",
    "        # 分别让node和curr指向他们原本的next\n",
    "        curr = temp_curr\n",
    "        # 暂存上一个node\n",
    "        prev = node\n",
    "        node = temp\n",
    "    # 最后还会剩一个节点 \n",
    "    if node is None:\n",
    "        prev.next = curr\n",
    "    else:\n",
    "        node.next =  node  \n",
    "        # 将最后一个节点置为None\n",
    "        node.next = None\n",
    "    return head"
   ]
  },
  {
   "cell_type": "code",
   "execution_count": 2,
   "metadata": {},
   "outputs": [],
   "source": [
    "first = ListNode(1)\n",
    "first.next = None\n",
    "last_node = first\n",
    "for i in range(2, 9):\n",
    "    node = ListNode(i)\n",
    "    last_node.next = node\n",
    "    last_node = node\n"
   ]
  },
  {
   "cell_type": "code",
   "execution_count": 3,
   "metadata": {},
   "outputs": [
    {
     "name": "stdout",
     "output_type": "stream",
     "text": [
      "1\n",
      "2\n",
      "3\n",
      "4\n",
      "5\n",
      "6\n",
      "7\n",
      "8\n"
     ]
    }
   ],
   "source": [
    "node = first\n",
    "while (node is not None):\n",
    "    print(node.val)\n",
    "    node = node.next"
   ]
  },
  {
   "cell_type": "code",
   "execution_count": 4,
   "metadata": {},
   "outputs": [],
   "source": [
    "new_head = reorder(first)"
   ]
  },
  {
   "cell_type": "code",
   "execution_count": 5,
   "metadata": {},
   "outputs": [
    {
     "name": "stdout",
     "output_type": "stream",
     "text": [
      "1\n",
      "8\n",
      "2\n",
      "7\n",
      "3\n",
      "6\n",
      "4\n",
      "5\n"
     ]
    }
   ],
   "source": [
    "node = new_head\n",
    "while (node is not None):\n",
    "    print(node.val)\n",
    "    node = node.next"
   ]
  },
  {
   "cell_type": "code",
   "execution_count": null,
   "metadata": {},
   "outputs": [],
   "source": []
  },
  {
   "cell_type": "code",
   "execution_count": null,
   "metadata": {},
   "outputs": [],
   "source": []
  }
 ],
 "metadata": {
  "kernelspec": {
   "display_name": "Python 3",
   "language": "python",
   "name": "python3"
  },
  "language_info": {
   "codemirror_mode": {
    "name": "ipython",
    "version": 3
   },
   "file_extension": ".py",
   "mimetype": "text/x-python",
   "name": "python",
   "nbconvert_exporter": "python",
   "pygments_lexer": "ipython3",
   "version": "3.7.3"
  }
 },
 "nbformat": 4,
 "nbformat_minor": 2
}
