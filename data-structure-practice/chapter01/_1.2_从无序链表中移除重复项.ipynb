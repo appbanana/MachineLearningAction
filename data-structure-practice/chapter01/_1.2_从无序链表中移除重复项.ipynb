{
 "cells": [
  {
   "cell_type": "code",
   "execution_count": 32,
   "metadata": {},
   "outputs": [],
   "source": [
    "class ListNode:\n",
    "    def __init__(self, x=0):\n",
    "        self.val = x\n",
    "        self.next = None\n",
    "\n",
    "# while循环实现 时间复杂度O(n) 空间复杂度O(n)\n",
    "def remove_repeat(head):\n",
    "    if head is None or head.next is None: return head\n",
    "    container = set()\n",
    "    new_head = ListNode(0)\n",
    "    temp = new_head\n",
    "    while head is not None:\n",
    "        if head.val not in container:\n",
    "            container.add(head.val)\n",
    "            temp.next = head\n",
    "            temp = temp.next \n",
    "        head = head.next\n",
    "    # 最后要把temp最后一个元素的next置为None,以防止最后一个元素是重复的\n",
    "    temp.next = None\n",
    "    return new_head.next\n"
   ]
  },
  {
   "cell_type": "code",
   "execution_count": 44,
   "metadata": {},
   "outputs": [],
   "source": [
    "first = ListNode(1)\n",
    "first.next = None\n",
    "last_node = first\n",
    "for i in range(2, 7):\n",
    "    node = ListNode(i)\n",
    "    last_node.next = node\n",
    "#     if i == 3 or i==6:\n",
    "#         node.val = 1\n",
    "    if i > 2:\n",
    "        node.val = 6\n",
    "    last_node = node\n"
   ]
  },
  {
   "cell_type": "code",
   "execution_count": 45,
   "metadata": {},
   "outputs": [
    {
     "name": "stdout",
     "output_type": "stream",
     "text": [
      "1\n",
      "2\n",
      "6\n",
      "6\n",
      "6\n",
      "6\n"
     ]
    }
   ],
   "source": [
    "node = first\n",
    "while (node is not None):\n",
    "    print(node.val)\n",
    "    node = node.next"
   ]
  },
  {
   "cell_type": "code",
   "execution_count": 46,
   "metadata": {},
   "outputs": [],
   "source": [
    "# 测试\n",
    "new_head = remove_repeat(first)\n"
   ]
  },
  {
   "cell_type": "code",
   "execution_count": 47,
   "metadata": {},
   "outputs": [
    {
     "name": "stdout",
     "output_type": "stream",
     "text": [
      "1\n",
      "2\n",
      "6\n"
     ]
    }
   ],
   "source": [
    "node = new_head\n",
    "while (node is not None):\n",
    "    print(node.val)\n",
    "    node = node.next"
   ]
  },
  {
   "cell_type": "code",
   "execution_count": null,
   "metadata": {},
   "outputs": [],
   "source": []
  },
  {
   "cell_type": "code",
   "execution_count": null,
   "metadata": {},
   "outputs": [],
   "source": []
  }
 ],
 "metadata": {
  "kernelspec": {
   "display_name": "Python 3",
   "language": "python",
   "name": "python3"
  },
  "language_info": {
   "codemirror_mode": {
    "name": "ipython",
    "version": 3
   },
   "file_extension": ".py",
   "mimetype": "text/x-python",
   "name": "python",
   "nbconvert_exporter": "python",
   "pygments_lexer": "ipython3",
   "version": "3.7.3"
  }
 },
 "nbformat": 4,
 "nbformat_minor": 2
}
