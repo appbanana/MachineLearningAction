{
 "cells": [
  {
   "cell_type": "code",
   "execution_count": 2,
   "metadata": {},
   "outputs": [],
   "source": [
    "import numpy as np\n",
    "from matplotlib import pyplot as plt\n",
    "from sklearn import svm, datasets, linear_model"
   ]
  },
  {
   "cell_type": "code",
   "execution_count": 4,
   "metadata": {},
   "outputs": [
    {
     "data": {
      "text/plain": [
       "<matplotlib.collections.PathCollection at 0x11ac8c668>"
      ]
     },
     "execution_count": 4,
     "metadata": {},
     "output_type": "execute_result"
    },
    {
     "data": {
      "image/png": "[encoded data removed]",
      "text/plain": [
       "<Figure size 432x288 with 1 Axes>"
      ]
     },
     "metadata": {
      "needs_background": "light"
     },
     "output_type": "display_data"
    }
   ],
   "source": [
    "class_1 = 7\n",
    "class_2 = 4\n",
    "centers = [[0.0, 0.0], [1, 1]]\n",
    "cluster_std = [0.5, 1]\n",
    "X, y = datasets.make_blobs(n_samples=[class_1, class_2], \n",
    "                           centers=centers,\n",
    "                           cluster_std= cluster_std,\n",
    "                           random_state = 0,\n",
    "                           shuffle= False\n",
    "                          )\n",
    "plt.scatter(X[:, 0], X[:, 1], c=y, cmap='rainbow', s=30)"
   ]
  },
  {
   "cell_type": "code",
   "execution_count": 8,
   "metadata": {},
   "outputs": [
    {
     "name": "stderr",
     "output_type": "stream",
     "text": [
      "/usr/local/lib/python3.7/site-packages/sklearn/linear_model/logistic.py:432: FutureWarning: Default solver will be changed to 'lbfgs' in 0.22. Specify a solver to silence this warning.\n",
      "  FutureWarning)\n"
     ]
    },
    {
     "data": {
      "text/html": [
       "<div>\n",
       "<style scoped>\n",
       "    .dataframe tbody tr th:only-of-type {\n",
       "        vertical-align: middle;\n",
       "    }\n",
       "\n",
       "    .dataframe tbody tr th {\n",
       "        vertical-align: top;\n",
       "    }\n",
       "\n",
       "    .dataframe thead th {\n",
       "        text-align: right;\n",
       "    }\n",
       "</style>\n",
       "<table border=\"1\" class=\"dataframe\">\n",
       "  <thead>\n",
       "    <tr style=\"text-align: right;\">\n",
       "      <th></th>\n",
       "      <th>0</th>\n",
       "      <th>1</th>\n",
       "    </tr>\n",
       "  </thead>\n",
       "  <tbody>\n",
       "    <tr>\n",
       "      <th>0</th>\n",
       "      <td>0.604664</td>\n",
       "      <td>0.395336</td>\n",
       "    </tr>\n",
       "    <tr>\n",
       "      <th>1</th>\n",
       "      <td>0.458916</td>\n",
       "      <td>0.541084</td>\n",
       "    </tr>\n",
       "    <tr>\n",
       "      <th>2</th>\n",
       "      <td>0.717986</td>\n",
       "      <td>0.282014</td>\n",
       "    </tr>\n",
       "    <tr>\n",
       "      <th>3</th>\n",
       "      <td>0.679109</td>\n",
       "      <td>0.320891</td>\n",
       "    </tr>\n",
       "    <tr>\n",
       "      <th>4</th>\n",
       "      <td>0.664739</td>\n",
       "      <td>0.335261</td>\n",
       "    </tr>\n",
       "    <tr>\n",
       "      <th>5</th>\n",
       "      <td>0.562775</td>\n",
       "      <td>0.437225</td>\n",
       "    </tr>\n",
       "    <tr>\n",
       "      <th>6</th>\n",
       "      <td>0.662054</td>\n",
       "      <td>0.337946</td>\n",
       "    </tr>\n",
       "    <tr>\n",
       "      <th>7</th>\n",
       "      <td>0.355167</td>\n",
       "      <td>0.644833</td>\n",
       "    </tr>\n",
       "    <tr>\n",
       "      <th>8</th>\n",
       "      <td>0.381606</td>\n",
       "      <td>0.618394</td>\n",
       "    </tr>\n",
       "    <tr>\n",
       "      <th>9</th>\n",
       "      <td>0.585284</td>\n",
       "      <td>0.414716</td>\n",
       "    </tr>\n",
       "    <tr>\n",
       "      <th>10</th>\n",
       "      <td>0.501493</td>\n",
       "      <td>0.498507</td>\n",
       "    </tr>\n",
       "  </tbody>\n",
       "</table>\n",
       "</div>"
      ],
      "text/plain": [
       "           0         1\n",
       "0   0.604664  0.395336\n",
       "1   0.458916  0.541084\n",
       "2   0.717986  0.282014\n",
       "3   0.679109  0.320891\n",
       "4   0.664739  0.335261\n",
       "5   0.562775  0.437225\n",
       "6   0.662054  0.337946\n",
       "7   0.355167  0.644833\n",
       "8   0.381606  0.618394\n",
       "9   0.585284  0.414716\n",
       "10  0.501493  0.498507"
      ]
     },
     "execution_count": 8,
     "metadata": {},
     "output_type": "execute_result"
    }
   ],
   "source": [
    "# 探索概率和阈值的关系\n",
    "# 建立模型\n",
    "clf = linear_model.LogisticRegression().fit(X, y)\n",
    "prob = clf.predict_proba(X)\n",
    "\n",
    "import pandas as pd\n",
    "prob = pd.DataFrame(prob, columns=['0', '1'])\n",
    "prob"
   ]
  },
  {
   "cell_type": "code",
   "execution_count": 10,
   "metadata": {},
   "outputs": [],
   "source": [
    "# 使用阈值0.5 大于0.5的样本被预测为1，小于0.5的样本被预测为0\n",
    "for i in range(prob.shape[0]):\n",
    "    if prob.loc[i, '1'] > 0.5:\n",
    "        prob.loc[i, 'pred'] = 1\n",
    "    else:\n",
    "        prob.loc[i, 'pred'] = 0"
   ]
  },
  {
   "cell_type": "code",
   "execution_count": 12,
   "metadata": {},
   "outputs": [
    {
     "data": {
      "text/html": [
       "<div>\n",
       "<style scoped>\n",
       "    .dataframe tbody tr th:only-of-type {\n",
       "        vertical-align: middle;\n",
       "    }\n",
       "\n",
       "    .dataframe tbody tr th {\n",
       "        vertical-align: top;\n",
       "    }\n",
       "\n",
       "    .dataframe thead th {\n",
       "        text-align: right;\n",
       "    }\n",
       "</style>\n",
       "<table border=\"1\" class=\"dataframe\">\n",
       "  <thead>\n",
       "    <tr style=\"text-align: right;\">\n",
       "      <th></th>\n",
       "      <th>0</th>\n",
       "      <th>1</th>\n",
       "      <th>pred</th>\n",
       "      <th>y_true</th>\n",
       "    </tr>\n",
       "  </thead>\n",
       "  <tbody>\n",
       "    <tr>\n",
       "      <th>0</th>\n",
       "      <td>0.604664</td>\n",
       "      <td>0.395336</td>\n",
       "      <td>0.0</td>\n",
       "      <td>0</td>\n",
       "    </tr>\n",
       "    <tr>\n",
       "      <th>1</th>\n",
       "      <td>0.458916</td>\n",
       "      <td>0.541084</td>\n",
       "      <td>1.0</td>\n",
       "      <td>0</td>\n",
       "    </tr>\n",
       "    <tr>\n",
       "      <th>2</th>\n",
       "      <td>0.717986</td>\n",
       "      <td>0.282014</td>\n",
       "      <td>0.0</td>\n",
       "      <td>0</td>\n",
       "    </tr>\n",
       "    <tr>\n",
       "      <th>3</th>\n",
       "      <td>0.679109</td>\n",
       "      <td>0.320891</td>\n",
       "      <td>0.0</td>\n",
       "      <td>0</td>\n",
       "    </tr>\n",
       "    <tr>\n",
       "      <th>4</th>\n",
       "      <td>0.664739</td>\n",
       "      <td>0.335261</td>\n",
       "      <td>0.0</td>\n",
       "      <td>0</td>\n",
       "    </tr>\n",
       "    <tr>\n",
       "      <th>5</th>\n",
       "      <td>0.562775</td>\n",
       "      <td>0.437225</td>\n",
       "      <td>0.0</td>\n",
       "      <td>0</td>\n",
       "    </tr>\n",
       "    <tr>\n",
       "      <th>6</th>\n",
       "      <td>0.662054</td>\n",
       "      <td>0.337946</td>\n",
       "      <td>0.0</td>\n",
       "      <td>0</td>\n",
       "    </tr>\n",
       "    <tr>\n",
       "      <th>7</th>\n",
       "      <td>0.355167</td>\n",
       "      <td>0.644833</td>\n",
       "      <td>1.0</td>\n",
       "      <td>1</td>\n",
       "    </tr>\n",
       "    <tr>\n",
       "      <th>8</th>\n",
       "      <td>0.381606</td>\n",
       "      <td>0.618394</td>\n",
       "      <td>1.0</td>\n",
       "      <td>1</td>\n",
       "    </tr>\n",
       "    <tr>\n",
       "      <th>9</th>\n",
       "      <td>0.585284</td>\n",
       "      <td>0.414716</td>\n",
       "      <td>0.0</td>\n",
       "      <td>1</td>\n",
       "    </tr>\n",
       "    <tr>\n",
       "      <th>10</th>\n",
       "      <td>0.501493</td>\n",
       "      <td>0.498507</td>\n",
       "      <td>0.0</td>\n",
       "      <td>1</td>\n",
       "    </tr>\n",
       "  </tbody>\n",
       "</table>\n",
       "</div>"
      ],
      "text/plain": [
       "           0         1  pred  y_true\n",
       "0   0.604664  0.395336   0.0       0\n",
       "1   0.458916  0.541084   1.0       0\n",
       "2   0.717986  0.282014   0.0       0\n",
       "3   0.679109  0.320891   0.0       0\n",
       "4   0.664739  0.335261   0.0       0\n",
       "5   0.562775  0.437225   0.0       0\n",
       "6   0.662054  0.337946   0.0       0\n",
       "7   0.355167  0.644833   1.0       1\n",
       "8   0.381606  0.618394   1.0       1\n",
       "9   0.585284  0.414716   0.0       1\n",
       "10  0.501493  0.498507   0.0       1"
      ]
     },
     "execution_count": 12,
     "metadata": {},
     "output_type": "execute_result"
    }
   ],
   "source": [
    "# 在增加一列真实值\n",
    "prob['y_true'] = y\n",
    "prob"
   ]
  },
  {
   "cell_type": "code",
   "execution_count": 18,
   "metadata": {},
   "outputs": [
    {
     "data": {
      "text/plain": [
       "array([[2, 2],\n",
       "       [1, 6]])"
      ]
     },
     "execution_count": 18,
     "metadata": {},
     "output_type": "execute_result"
    }
   ],
   "source": [
    "from sklearn import metrics\n",
    "result = metrics.confusion_matrix(prob['y_true'], prob['pred'], labels=[1, 0])\n",
    "result"
   ]
  },
  {
   "cell_type": "code",
   "execution_count": 22,
   "metadata": {},
   "outputs": [
    {
     "name": "stdout",
     "output_type": "stream",
     "text": [
      "精确度： 0.6666666666666666\n",
      "召回率： 0.5\n"
     ]
    }
   ],
   "source": [
    "# 手动计算精确度和召回率\n",
    "# 精确度 所有预测为1的样本中，被预测正确的样本所占的比例\n",
    "p = result[0,0] / result[:, 0].sum()\n",
    "print('精确度：', p)\n",
    "\n",
    "# 召回率 所有真实为1的样本中，被预测正确的样本所占的比例\n",
    "r = result[0,0] / result[0, :].sum()\n",
    "print('召回率：', r)\n"
   ]
  },
  {
   "cell_type": "code",
   "execution_count": 23,
   "metadata": {},
   "outputs": [
    {
     "data": {
      "text/plain": [
       "0.6666666666666666"
      ]
     },
     "execution_count": 23,
     "metadata": {},
     "output_type": "execute_result"
    }
   ],
   "source": [
    "# 使用metrics接口计算\n",
    "metrics.precision_score(prob['y_true'], prob['pred'], labels=[1, 0])"
   ]
  },
  {
   "cell_type": "code",
   "execution_count": 26,
   "metadata": {},
   "outputs": [
    {
     "data": {
      "text/plain": [
       "0.5"
      ]
     },
     "execution_count": 26,
     "metadata": {},
     "output_type": "execute_result"
    }
   ],
   "source": [
    "metrics.recall_score(prob['y_true'], prob['pred'], labels=[1, 0])\n"
   ]
  },
  {
   "cell_type": "code",
   "execution_count": 27,
   "metadata": {},
   "outputs": [
    {
     "data": {
      "text/plain": [
       "0.5714285714285715"
      ]
     },
     "execution_count": 27,
     "metadata": {},
     "output_type": "execute_result"
    }
   ],
   "source": [
    "metrics.f1_score(prob['y_true'], prob['pred'], labels=[1, 0])"
   ]
  },
  {
   "cell_type": "code",
   "execution_count": 28,
   "metadata": {},
   "outputs": [
    {
     "data": {
      "text/html": [
       "<div>\n",
       "<style scoped>\n",
       "    .dataframe tbody tr th:only-of-type {\n",
       "        vertical-align: middle;\n",
       "    }\n",
       "\n",
       "    .dataframe tbody tr th {\n",
       "        vertical-align: top;\n",
       "    }\n",
       "\n",
       "    .dataframe thead th {\n",
       "        text-align: right;\n",
       "    }\n",
       "</style>\n",
       "<table border=\"1\" class=\"dataframe\">\n",
       "  <thead>\n",
       "    <tr style=\"text-align: right;\">\n",
       "      <th></th>\n",
       "      <th>0</th>\n",
       "      <th>1</th>\n",
       "      <th>pred</th>\n",
       "      <th>y_true</th>\n",
       "    </tr>\n",
       "  </thead>\n",
       "  <tbody>\n",
       "    <tr>\n",
       "      <th>0</th>\n",
       "      <td>0.604664</td>\n",
       "      <td>0.395336</td>\n",
       "      <td>0.0</td>\n",
       "      <td>0</td>\n",
       "    </tr>\n",
       "    <tr>\n",
       "      <th>1</th>\n",
       "      <td>0.458916</td>\n",
       "      <td>0.541084</td>\n",
       "      <td>1.0</td>\n",
       "      <td>0</td>\n",
       "    </tr>\n",
       "    <tr>\n",
       "      <th>2</th>\n",
       "      <td>0.717986</td>\n",
       "      <td>0.282014</td>\n",
       "      <td>0.0</td>\n",
       "      <td>0</td>\n",
       "    </tr>\n",
       "    <tr>\n",
       "      <th>3</th>\n",
       "      <td>0.679109</td>\n",
       "      <td>0.320891</td>\n",
       "      <td>0.0</td>\n",
       "      <td>0</td>\n",
       "    </tr>\n",
       "    <tr>\n",
       "      <th>4</th>\n",
       "      <td>0.664739</td>\n",
       "      <td>0.335261</td>\n",
       "      <td>0.0</td>\n",
       "      <td>0</td>\n",
       "    </tr>\n",
       "    <tr>\n",
       "      <th>5</th>\n",
       "      <td>0.562775</td>\n",
       "      <td>0.437225</td>\n",
       "      <td>1.0</td>\n",
       "      <td>0</td>\n",
       "    </tr>\n",
       "    <tr>\n",
       "      <th>6</th>\n",
       "      <td>0.662054</td>\n",
       "      <td>0.337946</td>\n",
       "      <td>0.0</td>\n",
       "      <td>0</td>\n",
       "    </tr>\n",
       "    <tr>\n",
       "      <th>7</th>\n",
       "      <td>0.355167</td>\n",
       "      <td>0.644833</td>\n",
       "      <td>1.0</td>\n",
       "      <td>1</td>\n",
       "    </tr>\n",
       "    <tr>\n",
       "      <th>8</th>\n",
       "      <td>0.381606</td>\n",
       "      <td>0.618394</td>\n",
       "      <td>1.0</td>\n",
       "      <td>1</td>\n",
       "    </tr>\n",
       "    <tr>\n",
       "      <th>9</th>\n",
       "      <td>0.585284</td>\n",
       "      <td>0.414716</td>\n",
       "      <td>1.0</td>\n",
       "      <td>1</td>\n",
       "    </tr>\n",
       "    <tr>\n",
       "      <th>10</th>\n",
       "      <td>0.501493</td>\n",
       "      <td>0.498507</td>\n",
       "      <td>1.0</td>\n",
       "      <td>1</td>\n",
       "    </tr>\n",
       "  </tbody>\n",
       "</table>\n",
       "</div>"
      ],
      "text/plain": [
       "           0         1  pred  y_true\n",
       "0   0.604664  0.395336   0.0       0\n",
       "1   0.458916  0.541084   1.0       0\n",
       "2   0.717986  0.282014   0.0       0\n",
       "3   0.679109  0.320891   0.0       0\n",
       "4   0.664739  0.335261   0.0       0\n",
       "5   0.562775  0.437225   1.0       0\n",
       "6   0.662054  0.337946   0.0       0\n",
       "7   0.355167  0.644833   1.0       1\n",
       "8   0.381606  0.618394   1.0       1\n",
       "9   0.585284  0.414716   1.0       1\n",
       "10  0.501493  0.498507   1.0       1"
      ]
     },
     "execution_count": 28,
     "metadata": {},
     "output_type": "execute_result"
    }
   ],
   "source": [
    "# 接下来改变阈值 再次测试\n",
    "for i in range(prob.shape[0]):\n",
    "    if prob.loc[i, '1'] > 0.4:\n",
    "        prob.loc[i, 'pred'] = 1\n",
    "    else:\n",
    "        prob.loc[i, 'pred'] = 0\n",
    "prob"
   ]
  },
  {
   "cell_type": "code",
   "execution_count": 29,
   "metadata": {},
   "outputs": [
    {
     "name": "stdout",
     "output_type": "stream",
     "text": [
      "精确度： 0.6666666666666666\n",
      "召回率： 1.0\n"
     ]
    }
   ],
   "source": [
    "result = metrics.confusion_matrix(prob['y_true'], prob['pred'], labels=[1, 0])\n",
    "p = result[0,0] / result[:, 0].sum()\n",
    "print('精确度：', p)\n",
    "\n",
    "# 召回率 所有真实为1的样本中，被预测正确的样本所占的比例\n",
    "r = result[0,0] / result[0, :].sum()\n",
    "print('召回率：', r)"
   ]
  },
  {
   "cell_type": "code",
   "execution_count": 30,
   "metadata": {},
   "outputs": [
    {
     "data": {
      "text/plain": [
       "<matplotlib.collections.PathCollection at 0x11e98bba8>"
      ]
     },
     "execution_count": 30,
     "metadata": {},
     "output_type": "execute_result"
    },
    {
     "data": {
      "image/png": "[encoded data removed]",
      "text/plain": [
       "<Figure size 432x288 with 1 Axes>"
      ]
     },
     "metadata": {
      "needs_background": "light"
     },
     "output_type": "display_data"
    }
   ],
   "source": [
    "# svm上概率问题\n",
    "class_1 = 500 # 类别1有500个样本\n",
    "class_2 = 50 # 类别2有50个样本  \n",
    "# 设置这两个类别的中心\n",
    "centers = [[0, 0], [2.0, 2.0]]\n",
    "# 设置这两个类的方差 方差越大 波动越大\n",
    "clusters_std = [1.5, 0.5]\n",
    "X, y = datasets.make_blobs(n_samples=[class_1, class_2], \n",
    "                           centers=centers, \n",
    "                           cluster_std=clusters_std,\n",
    "                           random_state=0,\n",
    "                           shuffle=False\n",
    "                          )\n",
    "plt.scatter(X[:, 0], X[:, 1], c=y, cmap='rainbow', s=10)"
   ]
  },
  {
   "cell_type": "code",
   "execution_count": 34,
   "metadata": {},
   "outputs": [
    {
     "data": {
      "text/plain": [
       "array([[0.68562801, 0.31437199],\n",
       "       [0.25662918, 0.74337082],\n",
       "       [0.96408796, 0.03591204],\n",
       "       ...,\n",
       "       [0.14987888, 0.85012112],\n",
       "       [0.35036657, 0.64963343],\n",
       "       [0.30946176, 0.69053824]])"
      ]
     },
     "execution_count": 34,
     "metadata": {},
     "output_type": "execute_result"
    }
   ],
   "source": [
    "# 建立模型\n",
    "clf_proba = svm.SVC(kernel='linear', probability=True).fit(X, y)\n",
    "clf_proba.predict_proba(X)"
   ]
  },
  {
   "cell_type": "code",
   "execution_count": 35,
   "metadata": {},
   "outputs": [
    {
     "data": {
      "text/plain": [
       "array([ -0.39182241,   0.95617053,  -2.24996184,  -2.63659269,\n",
       "        -3.65243197,  -1.67311996,  -2.56396417,  -2.80650393,\n",
       "        -1.76184723,  -4.7948575 ,  -7.59061196,  -3.66174848,\n",
       "        -2.2508023 ,  -4.27626526,   0.78571364,  -3.24751892,\n",
       "        -8.57016271,  -4.45823747,  -0.14034183,  -5.20657114,\n",
       "        -8.02181046,  -4.18420871,  -5.6222409 ,  -5.12602771,\n",
       "        -7.22592707,  -5.07749638,  -6.72386021,  -3.4945225 ,\n",
       "        -3.51475144,  -5.72941551,  -5.79160724,  -8.06232013,\n",
       "        -4.36303857,  -6.25419679,  -5.59426696,  -2.60919281,\n",
       "        -3.90887478,  -4.38754704,  -6.46432224,  -4.54279979,\n",
       "        -4.78961735,  -5.53727469,   1.33920817,  -2.27766451,\n",
       "        -4.39650854,  -2.97649872,  -2.26771979,  -2.40781748,\n",
       "        -1.41638181,  -3.26142275,  -2.7712218 ,  -4.87288439,\n",
       "        -3.2594128 ,  -5.91189118,   1.48676267,   0.5389064 ,\n",
       "        -2.76188843,  -3.36126945,  -2.64697843,  -1.63635284,\n",
       "        -5.04695135,  -1.59196902,  -5.5195418 ,  -2.10439349,\n",
       "        -2.29646147,  -4.63162339,  -5.21532213,  -4.19325629,\n",
       "        -3.37620335,  -5.0032094 ,  -6.04506666,  -2.84656859,\n",
       "         1.5004014 ,  -4.02677739,  -7.07160609,  -1.66193239,\n",
       "        -6.60981996,  -5.23458676,  -3.70189918,  -6.74089425,\n",
       "        -2.09584948,  -2.28398296,  -4.97899921,  -8.12174085,\n",
       "        -1.52566274,  -1.99176286,  -3.54013094,  -4.8845886 ,\n",
       "        -6.51002015,  -4.8526957 ,  -6.73649174,  -8.50103589,\n",
       "        -5.35477446,  -5.93972132,  -3.09197136,  -5.95218482,\n",
       "        -5.87802088,  -3.41531761,  -1.50581423,   1.69513218,\n",
       "        -5.08155767,  -1.17971205,  -5.3506946 ,  -5.21493342,\n",
       "        -3.73358514,  -2.01273566,  -3.39045625,  -6.34357458,\n",
       "        -3.54776648,  -0.17804673,  -6.26887557,  -4.17973771,\n",
       "        -6.68896346,  -3.46095619,  -5.47965411,  -7.30835247,\n",
       "        -4.41569899,  -4.95103272,  -4.52261342,  -2.32912228,\n",
       "        -5.78601433,  -4.75347157,  -7.10337939,  -0.4589064 ,\n",
       "        -7.67789856,  -4.01780827,  -4.3031773 ,  -1.83727693,\n",
       "        -7.40091653,  -5.95271547,  -6.91568411,  -5.20341905,\n",
       "        -7.19695832,  -3.02927263,  -4.48056922,  -7.48496425,\n",
       "        -0.07011269,  -5.80292499,  -3.38503533,  -4.58498843,\n",
       "        -2.76260661,  -3.01843998,  -2.67539002,  -4.1197355 ,\n",
       "        -0.94129257,  -5.89363772,  -1.6069038 ,  -2.6343464 ,\n",
       "        -3.04465464,  -4.23219535,  -3.91622593,  -5.29389964,\n",
       "        -3.59245628,  -8.41452726,  -3.09845691,  -2.71798914,\n",
       "        -7.1383473 ,  -4.61490324,  -4.57817871,  -4.34638288,\n",
       "        -6.5457838 ,  -4.91701759,  -6.57235561,  -1.01417607,\n",
       "        -3.91893483,  -4.52905816,  -4.47582917,  -7.84694737,\n",
       "        -6.49226452,  -2.82193743,  -2.87607739,  -7.0839848 ,\n",
       "        -5.2681034 ,  -4.4871544 ,  -2.54658631,  -7.54914279,\n",
       "        -2.70628288,  -5.99557957,  -8.02076603,  -4.00226228,\n",
       "        -2.84835501,  -1.9410333 ,  -3.86856886,  -4.99855904,\n",
       "        -6.21947623,  -5.05797444,  -2.97214824,  -3.26123902,\n",
       "        -5.27649982,  -3.13897861,  -6.48514315,  -9.55083209,\n",
       "        -6.46488612,  -7.98793665,  -0.94456569,  -3.41380968,\n",
       "        -7.093158  ,  -5.71901588,  -0.88438995,  -0.24381463,\n",
       "        -6.78212695,  -2.20666714,  -6.65580329,  -2.56305221,\n",
       "        -5.60001636,  -5.43216357,  -4.96741585,  -0.02572912,\n",
       "        -3.21839147,   1.13383091,  -1.58640099,  -7.57106914,\n",
       "        -4.16850181,  -6.48179088,  -4.67852158,  -6.99661419,\n",
       "        -2.1447926 ,  -5.31694653,  -2.63007619,  -2.55890478,\n",
       "        -6.4896746 ,  -3.94241071,  -2.71319258,  -4.70525843,\n",
       "        -5.61592746,  -4.7150336 ,  -2.85352156,  -0.49195707,\n",
       "        -8.16191324,  -3.80462978,  -6.43680611,  -4.58137592,\n",
       "        -1.38912206,  -6.93900334,  -7.7222725 ,  -8.41592264,\n",
       "        -5.613998  ,   0.44396046,  -3.07168078,  -1.36478732,\n",
       "        -1.20153628,  -6.30209808,  -6.49846303,  -0.60518198,\n",
       "        -3.83301464,  -6.40455571,  -0.22680504,   0.54161373,\n",
       "        -5.99626181,  -5.98077412,  -3.45857531,  -2.50268554,\n",
       "        -5.54970836,  -9.26535525,  -4.22097425,  -0.47257602,\n",
       "        -9.33187038,  -4.97705346,  -1.65256318,  -1.0000177 ,\n",
       "        -5.82202444,  -8.34541689,  -4.97060946,  -0.34446784,\n",
       "        -6.95722208,  -7.41413036,  -1.8343221 ,  -7.19145712,\n",
       "        -4.8082824 ,  -4.59805445,  -5.49449995,  -2.25570223,\n",
       "        -5.41145249,  -5.97739476,  -2.94240518,  -3.64911853,\n",
       "        -2.82208944,  -3.34705766,  -8.19712182,  -7.57201089,\n",
       "        -0.61670956,  -6.3752957 ,  -5.06738146,  -2.54344987,\n",
       "        -3.28382401,  -5.9927353 ,  -2.87730848,  -3.58324503,\n",
       "        -7.1488302 ,  -2.63140119,  -8.48092542,  -4.91672751,\n",
       "        -5.7488116 ,  -3.80044426,  -9.27859326,  -2.475992  ,\n",
       "        -6.06980518,  -2.90059294,  -5.22496057,  -5.97575155,\n",
       "        -6.18156775,  -5.38363878,  -7.41985155,  -6.73241325,\n",
       "        -4.43878791,  -9.06614408,  -1.69153658,  -3.71141045,\n",
       "        -3.19852116,  -4.05473804,  -3.45821856,  -4.92039492,\n",
       "        -6.55332449,  -1.28332784,  -4.17989583,  -5.45916562,\n",
       "        -3.80974949,  -4.27838346,  -5.31607024,  -0.62628865,\n",
       "        -2.21276478,  -3.7397342 ,  -6.66779473,  -2.38116892,\n",
       "        -2.83460004,  -7.01238422,  -2.75282445,  -3.01759368,\n",
       "        -6.14970454,  -6.1300394 ,  -7.58620719,  -3.14051577,\n",
       "        -5.82720807,  -2.52236034,  -7.03761018,  -7.82753368,\n",
       "        -8.8447092 ,  -3.11218173,  -4.22074847,  -0.99624534,\n",
       "        -3.45189404,  -1.46956557,  -9.42857926,  -2.75093993,\n",
       "        -0.61665367,  -2.09370852,  -9.34768018,  -3.39876535,\n",
       "        -5.8635608 ,  -2.12987936,  -8.40706474,  -3.84209244,\n",
       "        -0.5100329 ,  -2.48836494,  -1.54663048,  -4.30920238,\n",
       "        -5.73107193,  -1.89978615,  -6.17605033,  -3.10487492,\n",
       "        -5.51376743,  -4.32751131,  -8.20349197,  -3.87477609,\n",
       "        -1.78392197,  -6.17403966,  -6.52743333,  -3.02302099,\n",
       "        -4.99201913,  -5.72548424,  -7.83390422,  -1.19722286,\n",
       "        -4.59974076,  -2.99496132,  -6.83038116,  -5.1842235 ,\n",
       "        -0.78127198,  -2.88907207,  -3.95055581,  -6.33003274,\n",
       "        -4.47772201,  -2.77425683,  -4.44937971,  -4.2292366 ,\n",
       "        -1.15145162,  -4.92325347,  -5.40648383,  -7.37247783,\n",
       "        -4.65237446,  -7.04281259,  -0.69437244,  -4.99227188,\n",
       "        -3.02282976,  -2.52532913,  -6.52636286,  -5.48318846,\n",
       "        -3.71028837,  -6.91757625,  -5.54349414,  -6.05345046,\n",
       "        -0.43986605,  -4.75951272,  -1.82851406,  -3.24432919,\n",
       "        -7.20785221,  -4.0583863 ,  -3.27842271,  -0.68706448,\n",
       "        -2.76021537,  -5.54119808,  -4.08188794,  -6.4244794 ,\n",
       "        -4.76668274,  -0.2040958 ,  -2.42898945,  -2.03283232,\n",
       "        -4.12879797,  -2.70459163,  -6.04997273,  -2.79280244,\n",
       "        -4.20663028,   0.786804  ,  -3.65237777,  -3.55179726,\n",
       "        -5.3460864 , -10.31959605,  -6.69397854,  -6.53784926,\n",
       "        -7.56321471,  -4.98085596,  -1.79893146,  -3.89513404,\n",
       "        -5.18601688,  -3.82352518,  -5.20243998,  -3.11707515,\n",
       "        -5.80322513,  -4.42380099,  -5.74159836,  -6.6468986 ,\n",
       "        -3.18053496,  -4.28898663,  -6.73111304,  -3.21485845,\n",
       "        -4.79047586,  -4.51550728,  -2.70659984,  -3.61545839,\n",
       "        -7.86496861,  -0.1258212 ,  -7.6559803 ,  -3.15269699,\n",
       "        -2.87456418,  -6.74876767,  -0.42574712,  -7.58877495,\n",
       "        -5.30321115,  -4.79881591,  -4.5673199 ,  -3.6865868 ,\n",
       "        -4.46822682,  -1.45060265,  -0.53560561,  -4.94874171,\n",
       "        -1.26112294,  -1.66779284,  -5.57910033,  -5.87103484,\n",
       "        -3.35570045,  -6.25661833,  -1.51564145,   0.85085628,\n",
       "        -3.82725071,  -1.47077448,  -3.36154118,  -5.37972404,\n",
       "        -2.22844631,  -2.78684422,  -3.75603932,  -1.85645   ,\n",
       "        -3.33156093,  -2.32968944,  -5.06053069,  -1.73410541,\n",
       "        -1.68829408,  -3.79892942,  -1.62650712,  -1.00001873,\n",
       "        -6.07170511,  -4.89697898,  -3.66269926,  -3.13731451,\n",
       "        -5.08348781,  -3.71891247,  -2.09779606,  -3.04082162,\n",
       "        -5.12536015,  -2.96071945,  -4.28796395,  -6.6231135 ,\n",
       "         1.00003406,   0.03907036,   0.46718521,  -0.3467975 ,\n",
       "         0.32350521,   0.47563771,   1.10055427,  -0.67580418,\n",
       "        -0.46310299,   0.40806733,   1.17438632,  -0.55152081,\n",
       "         0.84476439,  -0.91257798,   0.63165546,  -0.13845693,\n",
       "        -0.22137683,   1.20116183,   1.18915628,  -0.40676459,\n",
       "         1.35964325,   1.14038015,   1.27914468,   0.19329823,\n",
       "        -0.16790648,  -0.62775078,   0.66095617,   2.18236076,\n",
       "         0.07018415,  -0.26762451,  -0.25529448,   0.32084111,\n",
       "         0.48016592,   0.28189794,   0.60568093,  -1.07472716,\n",
       "        -0.5088941 ,   0.74892526,   0.07203056,  -0.10668727,\n",
       "        -0.15662946,   0.09611498,  -0.39521586,  -0.79874442,\n",
       "         0.65613691,  -0.39386485,  -1.08601917,   1.44693858,\n",
       "         0.62992794,   0.76536897])"
      ]
     },
     "execution_count": 35,
     "metadata": {},
     "output_type": "execute_result"
    }
   ],
   "source": [
    "clf_proba.decision_function(X)"
   ]
  },
  {
   "cell_type": "code",
   "execution_count": 39,
   "metadata": {},
   "outputs": [
    {
     "data": {
      "image/png": "[encoded data removed]",
      "text/plain": [
       "<Figure size 432x288 with 1 Axes>"
      ]
     },
     "metadata": {
      "needs_background": "light"
     },
     "output_type": "display_data"
    }
   ],
   "source": [
    "# 绘制roc曲线\n",
    "# 召回率数组\n",
    "recall = []\n",
    "# 特异度\n",
    "specificity = []\n",
    "# 预测所属标签的概率\n",
    "clf_proba_predict = clf_proba.predict_proba(X)\n",
    "proba_range = np.linspace(clf_proba_predict.min(), clf_proba_predict.max(), num=50, endpoint=False)\n",
    "for i in proba_range:\n",
    "    y_predict = []\n",
    "    for j in range(X.shape[0]):\n",
    "        if clf_proba_predict[j, 1] > i:\n",
    "            y_predict.append(1)\n",
    "        else:\n",
    "            y_predict.append(0)\n",
    "    cm = metrics.confusion_matrix(y, y_pred=y_predict, labels=[1, 0])\n",
    "    # 召回率\n",
    "    recall.append(cm[0, 0] / cm[0, :].sum())\n",
    "    # 特异度\n",
    "    specificity.append(cm[1,0] / cm[1, :].sum())\n",
    "recall.sort()\n",
    "specificity.sort()\n",
    "plt.plot(specificity, recall, c='red')\n",
    "plt.plot(proba_range + 0.05, proba_range + 0.05, c='black', linestyle='--')\n",
    "plt.show()"
   ]
  },
  {
   "cell_type": "code",
   "execution_count": 43,
   "metadata": {},
   "outputs": [
    {
     "name": "stdout",
     "output_type": "stream",
     "text": [
      "FPR为: [0.    0.    0.006 0.006 0.008 0.008 0.01  0.01  0.014 0.014 0.018 0.018\n",
      " 0.022 0.022 0.024 0.024 0.028 0.028 0.03  0.03  0.032 0.032 0.036 0.036\n",
      " 0.04  0.04  0.042 0.042 0.044 0.044 0.05  0.05  0.054 0.054 0.058 0.058\n",
      " 0.066 0.066 0.072 0.072 0.074 0.074 0.086 0.086 1.   ]\n",
      "recall为: [0.   0.02 0.02 0.06 0.06 0.16 0.16 0.2  0.2  0.22 0.22 0.36 0.36 0.42\n",
      " 0.42 0.6  0.6  0.62 0.62 0.64 0.64 0.68 0.68 0.7  0.7  0.74 0.74 0.76\n",
      " 0.76 0.82 0.82 0.84 0.84 0.86 0.86 0.88 0.88 0.92 0.92 0.94 0.94 0.96\n",
      " 0.96 1.   1.  ]\n",
      "thresholds为: [  3.18236076   2.18236076   1.48676267   1.35964325   1.33920817\n",
      "   1.14038015   1.13383091   1.00003406   0.85085628   0.84476439\n",
      "   0.78571364   0.60568093   0.5389064    0.46718521   0.44396046\n",
      "   0.03907036  -0.07011269  -0.10668727  -0.1258212   -0.13845693\n",
      "  -0.14034183  -0.16790648  -0.2040958   -0.22137683  -0.24381463\n",
      "  -0.26762451  -0.34446784  -0.3467975   -0.39182241  -0.40676459\n",
      "  -0.4589064   -0.46310299  -0.49195707  -0.5088941   -0.53560561\n",
      "  -0.55152081  -0.62628865  -0.67580418  -0.78127198  -0.79874442\n",
      "  -0.88438995  -0.91257798  -1.01417607  -1.08601917 -10.31959605]\n"
     ]
    }
   ],
   "source": [
    "FPR, recall, thresholds = metrics.roc_curve(y, clf_proba.decision_function(X), pos_label=1)\n",
    "print('FPR为:', FPR)\n",
    "print('recall为:', recall)\n",
    "print('thresholds为:', thresholds)\n"
   ]
  },
  {
   "cell_type": "code",
   "execution_count": 44,
   "metadata": {},
   "outputs": [
    {
     "data": {
      "image/png": "[encoded data removed]",
      "text/plain": [
       "<Figure size 432x288 with 1 Axes>"
      ]
     },
     "metadata": {
      "needs_background": "light"
     },
     "output_type": "display_data"
    }
   ],
   "source": [
    "# 绘制roc曲线\n",
    "area = metrics.roc_auc_score(y, clf_proba.decision_function(X))\n",
    "\n",
    "plt.figure()\n",
    "plt.plot(FPR, recall, c='r', label='ROC curve （area = %.2f)' % area)\n",
    "plt.plot([0, 1], [0, 1], c='k', linestyle='--')\n",
    "plt.xlim([-0.05, 1.05])\n",
    "plt.ylim([-0.05, 1.05])\n",
    "plt.xlabel('False Positive Rate')\n",
    "plt.ylabel('Recall')\n",
    "plt.title('ROC曲线')\n",
    "plt.legend()\n",
    "plt.show()"
   ]
  },
  {
   "cell_type": "code",
   "execution_count": null,
   "metadata": {},
   "outputs": [],
   "source": []
  }
 ],
 "metadata": {
  "kernelspec": {
   "display_name": "Python 3",
   "language": "python",
   "name": "python3"
  },
  "language_info": {
   "codemirror_mode": {
    "name": "ipython",
    "version": 3
   },
   "file_extension": ".py",
   "mimetype": "text/x-python",
   "name": "python",
   "nbconvert_exporter": "python",
   "pygments_lexer": "ipython3",
   "version": "3.7.0"
  }
 },
 "nbformat": 4,
 "nbformat_minor": 1
}
