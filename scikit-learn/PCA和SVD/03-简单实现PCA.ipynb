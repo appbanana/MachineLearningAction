{
 "cells": [
  {
   "cell_type": "code",
   "execution_count": 1,
   "metadata": {},
   "outputs": [],
   "source": [
    "import numpy as np"
   ]
  },
  {
   "cell_type": "code",
   "execution_count": 23,
   "metadata": {},
   "outputs": [],
   "source": [
    "def pca(x, k):\n",
    "    x = np.array(x)\n",
    "    mean = np.mean(x, axis=0)\n",
    "    norm_x = x - mean\n",
    "    # 因为是2个特征 最后形成的是2 * 2的方阵\n",
    "    cov = np.dot(norm_x.T, norm_x)\n",
    "    # 求协方差的特征值和特征向量\n",
    "    eig_val, eig_vec = np.linalg.eig(cov)\n",
    "    eig_pairs = [(np.abs(eig_val[i]), eig_vec[:,i]) for i in range(x.shape[1])]\n",
    "    # 按照特征值 从大到小进行排序\n",
    "    eig_pairs.sort(key=lambda x: x[0], reverse=True)\n",
    "    # 拿出特征值最大所对应的向量 \n",
    "    feature=np.array([ele[1] for ele in eig_pairs[:k]])\n",
    "    \n",
    "    data=np.dot(norm_x,np.transpose(feature))\n",
    "\n",
    "    print (eig_val)\n",
    "    print('\\n')\n",
    "    print(eig_vec)\n",
    "    print('\\n')\n",
    "    print(eig_pairs)\n",
    "    print('\\n')\n",
    "    print(feature)\n",
    "    return data"
   ]
  },
  {
   "cell_type": "code",
   "execution_count": 25,
   "metadata": {},
   "outputs": [
    {
     "name": "stdout",
     "output_type": "stream",
     "text": [
      "[37.7067455   1.62658783]\n",
      "\n",
      "\n",
      "[[ 0.8549662  -0.51868371]\n",
      " [ 0.51868371  0.8549662 ]]\n",
      "\n",
      "\n",
      "[(37.70674550364642, array([0.8549662 , 0.51868371])), (1.6265878296869243, array([-0.51868371,  0.8549662 ]))]\n",
      "\n",
      "\n",
      "[[0.8549662  0.51868371]]\n"
     ]
    },
    {
     "data": {
      "text/plain": [
       "array([[-0.50917706],\n",
       "       [-2.40151069],\n",
       "       [-3.7751606 ],\n",
       "       [ 1.20075534],\n",
       "       [ 2.05572155],\n",
       "       [ 3.42937146]])"
      ]
     },
     "execution_count": 25,
     "metadata": {},
     "output_type": "execute_result"
    }
   ],
   "source": [
    "x = np.array([[-1, 1], [-2, -1], [-3, -2], [1, 1], [2, 1], [3, 2]])\n",
    "pca(x, 1)"
   ]
  },
  {
   "cell_type": "code",
   "execution_count": 26,
   "metadata": {},
   "outputs": [],
   "source": [
    "from sklearn import decomposition"
   ]
  },
  {
   "cell_type": "code",
   "execution_count": 29,
   "metadata": {},
   "outputs": [
    {
     "data": {
      "text/plain": [
       "array([[ 0.50917706],\n",
       "       [ 2.40151069],\n",
       "       [ 3.7751606 ],\n",
       "       [-1.20075534],\n",
       "       [-2.05572155],\n",
       "       [-3.42937146]])"
      ]
     },
     "execution_count": 29,
     "metadata": {},
     "output_type": "execute_result"
    }
   ],
   "source": [
    "pca = decomposition.PCA(n_components=1)\n",
    "pca.fit_transform(x)\n"
   ]
  },
  {
   "cell_type": "code",
   "execution_count": 28,
   "metadata": {},
   "outputs": [
    {
     "data": {
      "text/plain": [
       "array([7.5413491])"
      ]
     },
     "execution_count": 28,
     "metadata": {},
     "output_type": "execute_result"
    }
   ],
   "source": [
    "pca.explained_variance_"
   ]
  },
  {
   "cell_type": "code",
   "execution_count": 30,
   "metadata": {},
   "outputs": [
    {
     "data": {
      "text/plain": [
       "array([0.95864607])"
      ]
     },
     "execution_count": 30,
     "metadata": {},
     "output_type": "execute_result"
    }
   ],
   "source": [
    "pca.explained_variance_ratio_"
   ]
  },
  {
   "cell_type": "code",
   "execution_count": null,
   "metadata": {},
   "outputs": [],
   "source": []
  }
 ],
 "metadata": {
  "kernelspec": {
   "display_name": "Python 3",
   "language": "python",
   "name": "python3"
  },
  "language_info": {
   "codemirror_mode": {
    "name": "ipython",
    "version": 3
   },
   "file_extension": ".py",
   "mimetype": "text/x-python",
   "name": "python",
   "nbconvert_exporter": "python",
   "pygments_lexer": "ipython3",
   "version": "3.7.3"
  }
 },
 "nbformat": 4,
 "nbformat_minor": 2
}
