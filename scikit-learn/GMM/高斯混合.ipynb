{
 "cells": [
  {
   "cell_type": "code",
   "execution_count": 77,
   "metadata": {},
   "outputs": [],
   "source": [
    "import numpy as np\n",
    "import pandas as pd\n",
    "from sklearn import model_selection, mixture, metrics\n",
    "import matplotlib.pyplot as plt\n",
    "from matplotlib import colors\n",
    "from IPython.core.interactiveshell import InteractiveShell\n"
   ]
  },
  {
   "cell_type": "code",
   "execution_count": 2,
   "metadata": {},
   "outputs": [],
   "source": [
    "# 配置项\n",
    "# 这个要放到设置中文之前否则还是小方框\n",
    "plt.style.use(\"seaborn\")\n",
    "\n",
    "# 指定默认字体 用来正常显示中文标签\n",
    "plt.rcParams['font.sans-serif'] = ['SimHei']\n",
    "# 解决保存图像是负号'-'显示为方块的问题\n",
    "plt.rcParams['axes.unicode_minus'] = False\n",
    "\n",
    "# #全部行都能输出\n",
    "InteractiveShell.ast_node_interactivity = \"all\""
   ]
  },
  {
   "cell_type": "code",
   "execution_count": 5,
   "metadata": {},
   "outputs": [
    {
     "data": {
      "text/html": [
       "<div>\n",
       "<style scoped>\n",
       "    .dataframe tbody tr th:only-of-type {\n",
       "        vertical-align: middle;\n",
       "    }\n",
       "\n",
       "    .dataframe tbody tr th {\n",
       "        vertical-align: top;\n",
       "    }\n",
       "\n",
       "    .dataframe thead th {\n",
       "        text-align: right;\n",
       "    }\n",
       "</style>\n",
       "<table border=\"1\" class=\"dataframe\">\n",
       "  <thead>\n",
       "    <tr style=\"text-align: right;\">\n",
       "      <th></th>\n",
       "      <th>Sex</th>\n",
       "      <th>Height(cm)</th>\n",
       "      <th>Weight(kg)</th>\n",
       "    </tr>\n",
       "  </thead>\n",
       "  <tbody>\n",
       "    <tr>\n",
       "      <th>0</th>\n",
       "      <td>0</td>\n",
       "      <td>156.0</td>\n",
       "      <td>50.0</td>\n",
       "    </tr>\n",
       "    <tr>\n",
       "      <th>1</th>\n",
       "      <td>0</td>\n",
       "      <td>160.0</td>\n",
       "      <td>60.0</td>\n",
       "    </tr>\n",
       "    <tr>\n",
       "      <th>2</th>\n",
       "      <td>0</td>\n",
       "      <td>162.0</td>\n",
       "      <td>54.0</td>\n",
       "    </tr>\n",
       "    <tr>\n",
       "      <th>3</th>\n",
       "      <td>0</td>\n",
       "      <td>162.0</td>\n",
       "      <td>55.0</td>\n",
       "    </tr>\n",
       "    <tr>\n",
       "      <th>4</th>\n",
       "      <td>0</td>\n",
       "      <td>160.5</td>\n",
       "      <td>56.0</td>\n",
       "    </tr>\n",
       "  </tbody>\n",
       "</table>\n",
       "</div>"
      ],
      "text/plain": [
       "   Sex  Height(cm)  Weight(kg)\n",
       "0    0       156.0        50.0\n",
       "1    0       160.0        60.0\n",
       "2    0       162.0        54.0\n",
       "3    0       162.0        55.0\n",
       "4    0       160.5        56.0"
      ]
     },
     "execution_count": 5,
     "metadata": {},
     "output_type": "execute_result"
    },
    {
     "data": {
      "text/plain": [
       "(114, 3)"
      ]
     },
     "execution_count": 5,
     "metadata": {},
     "output_type": "execute_result"
    }
   ],
   "source": [
    "data = pd.read_csv('heightWeight.csv')\n",
    "# 0为女 1为男\n",
    "data.head()\n",
    "data.shape"
   ]
  },
  {
   "cell_type": "code",
   "execution_count": 6,
   "metadata": {},
   "outputs": [],
   "source": [
    "X, y = data.iloc[:, 1:], data.iloc[:, 0]"
   ]
  },
  {
   "cell_type": "code",
   "execution_count": 11,
   "metadata": {},
   "outputs": [
    {
     "data": {
      "text/plain": [
       "GaussianMixture(covariance_type='full', init_params='kmeans', max_iter=100,\n",
       "                means_init=None, n_components=2, n_init=1, precisions_init=None,\n",
       "                random_state=66, reg_covar=1e-06, tol=0.001, verbose=0,\n",
       "                verbose_interval=10, warm_start=False, weights_init=None)"
      ]
     },
     "execution_count": 11,
     "metadata": {},
     "output_type": "execute_result"
    }
   ],
   "source": [
    "# 划分训练集和测试集\n",
    "x_train, x_test, y_train, y_test = model_selection.train_test_split(X, y, test_size=0.3, random_state=42)\n",
    "gmm = mixture.GaussianMixture(n_components=2, covariance_type='full', random_state=66)\n",
    "gmm.fit(x_train)\n"
   ]
  },
  {
   "cell_type": "code",
   "execution_count": 12,
   "metadata": {},
   "outputs": [
    {
     "data": {
      "text/plain": [
       "array([[171.96442353,  66.84427353],\n",
       "       [159.71559464,  55.54456179]])"
      ]
     },
     "execution_count": 12,
     "metadata": {},
     "output_type": "execute_result"
    },
    {
     "data": {
      "text/plain": [
       "array([[[30.14860877, 16.86814659],\n",
       "        [16.86814659, 83.9314014 ]],\n",
       "\n",
       "       [[18.95244247, 13.82918032],\n",
       "        [13.82918032, 33.95170792]]])"
      ]
     },
     "execution_count": 12,
     "metadata": {},
     "output_type": "execute_result"
    },
    {
     "data": {
      "text/plain": [
       "array([0.40661911, 0.59338089])"
      ]
     },
     "execution_count": 12,
     "metadata": {},
     "output_type": "execute_result"
    }
   ],
   "source": [
    "gmm.means_\n",
    "gmm.covariances_\n",
    "gmm.weights_"
   ]
  },
  {
   "cell_type": "code",
   "execution_count": 15,
   "metadata": {},
   "outputs": [],
   "source": [
    "# Component labels 高斯的组成成分的索引\n",
    "y_train_pred = gmm.predict(x_train)\n",
    "y_test_pred = gmm.predict(x_test)\n"
   ]
  },
  {
   "cell_type": "code",
   "execution_count": 14,
   "metadata": {},
   "outputs": [
    {
     "data": {
      "text/plain": [
       "array([1, 0, 0, 1, 1, 1, 1, 0, 1, 1, 1, 1, 1, 1, 1, 1, 1, 0, 0, 1, 0, 0,\n",
       "       1, 1, 0, 1, 1, 0, 1, 1, 1, 1, 1, 1, 0, 0, 0, 1, 1, 1, 1, 1, 0, 0,\n",
       "       0, 1, 1, 1, 0, 1, 0, 1, 1, 0, 0, 1, 1, 1, 0, 1, 1, 1, 1, 1, 1, 0,\n",
       "       0, 0, 0, 0, 0, 1, 0, 0, 0, 1, 1, 1, 0])"
      ]
     },
     "execution_count": 14,
     "metadata": {},
     "output_type": "execute_result"
    }
   ],
   "source": [
    "y_train_pred"
   ]
  },
  {
   "cell_type": "code",
   "execution_count": 16,
   "metadata": {},
   "outputs": [],
   "source": [
    "# 取出第一个高斯(男生分身高布)的身高的均值 取出第二个高斯(女生身高的正态分布)函数身高的均值\n",
    "change = (gmm.means_[0][0] > gmm.means_[1][0])\n",
    "if change:\n",
    "    # 男的平均身高大于女的平均身高 组成成分0位男的高斯分布\n",
    "    z = (y_train_pred == 0)\n",
    "    # 标签预测为1(男)\n",
    "    y_train_pred[z] = 1\n",
    "    y_train_pred[~z] = 0\n",
    "    \n",
    "    z = (y_test_pred == 0)\n",
    "    y_test_pred[z] = 1\n",
    "    y_test_pred[~z] = 0\n",
    "    "
   ]
  },
  {
   "cell_type": "code",
   "execution_count": 74,
   "metadata": {},
   "outputs": [
    {
     "name": "stdout",
     "output_type": "stream",
     "text": [
      "训练集正确率 0.8481012658227848\n",
      "测试集正确率 0.7142857142857143\n",
      "\n",
      "\n",
      "训练集正确率 0.8481012658227848\n",
      "测试集正确率 0.7142857142857143\n"
     ]
    }
   ],
   "source": [
    "# 评估模型\n",
    "acc_train = np.mean(y_train_pred.ravel() == y_train)\n",
    "acc_test = np.mean(y_test_pred.ravel() == y_test)\n",
    "acc_train_str = '训练集正确率' + str(np.round(acc_train, 4))\n",
    "acc_test_str = '测试集准确率' + str(np.round(acc_test, 4))\n",
    "\n",
    "\n",
    "print('训练集正确率', np.mean(y_train_pred == y_train))\n",
    "print('测试集正确率', np.mean(y_test_pred == y_test))\n",
    "print('\\n')\n",
    "print('训练集正确率', metrics.accuracy_score(y_train, y_train_pred))\n",
    "print('测试集正确率', metrics.accuracy_score(y_test, y_test_pred))"
   ]
  },
  {
   "cell_type": "code",
   "execution_count": 36,
   "metadata": {},
   "outputs": [],
   "source": [
    "def expand(a, b):\n",
    "    d = (b - a) * 0.05\n",
    "    return a-d, b+d"
   ]
  },
  {
   "cell_type": "code",
   "execution_count": 75,
   "metadata": {},
   "outputs": [
    {
     "data": {
      "text/plain": [
       "<Figure size 648x504 with 0 Axes>"
      ]
     },
     "execution_count": 75,
     "metadata": {},
     "output_type": "execute_result"
    },
    {
     "data": {
      "text/plain": [
       "<matplotlib.collections.QuadMesh at 0x1a43fdf860>"
      ]
     },
     "execution_count": 75,
     "metadata": {},
     "output_type": "execute_result"
    },
    {
     "data": {
      "text/plain": [
       "<matplotlib.collections.PathCollection at 0x1a43fdfba8>"
      ]
     },
     "execution_count": 75,
     "metadata": {},
     "output_type": "execute_result"
    },
    {
     "data": {
      "text/plain": [
       "<matplotlib.collections.PathCollection at 0x1a43f7ae80>"
      ]
     },
     "execution_count": 75,
     "metadata": {},
     "output_type": "execute_result"
    },
    {
     "data": {
      "text/plain": [
       "<a list of 3 text.Text objects>"
      ]
     },
     "execution_count": 75,
     "metadata": {},
     "output_type": "execute_result"
    },
    {
     "data": {
      "text/plain": [
       "Text(147.0, 90.4844273912796, '训练集正确率0.8481')"
      ]
     },
     "execution_count": 75,
     "metadata": {},
     "output_type": "execute_result"
    },
    {
     "data": {
      "text/plain": [
       "Text(147.0, 87.72664108691937, '测试集准确率0.7143')"
      ]
     },
     "execution_count": 75,
     "metadata": {},
     "output_type": "execute_result"
    },
    {
     "data": {
      "text/plain": [
       "(147.0, 187.0)"
      ]
     },
     "execution_count": 75,
     "metadata": {},
     "output_type": "execute_result"
    },
    {
     "data": {
      "text/plain": [
       "(45.0, 95.0)"
      ]
     },
     "execution_count": 75,
     "metadata": {},
     "output_type": "execute_result"
    },
    {
     "data": {
      "text/plain": [
       "Text(0.5, 0, '身高(cm)')"
      ]
     },
     "execution_count": 75,
     "metadata": {},
     "output_type": "execute_result"
    },
    {
     "data": {
      "text/plain": [
       "Text(0, 0.5, '体重(kg)')"
      ]
     },
     "execution_count": 75,
     "metadata": {},
     "output_type": "execute_result"
    },
    {
     "data": {
      "text/plain": [
       "Text(0.5, 1.0, 'EM算法估算GMM的参数')"
      ]
     },
     "execution_count": 75,
     "metadata": {},
     "output_type": "execute_result"
    },
    {
     "data": {
      "image/png": "[encoded data removed]",
      "text/plain": [
       "<Figure size 648x504 with 1 Axes>"
      ]
     },
     "metadata": {},
     "output_type": "display_data"
    }
   ],
   "source": [
    "cm_light = colors.ListedColormap(['#FF8080', '#77E0A0'])\n",
    "cm_dark = colors.ListedColormap(['r', 'g'])\n",
    "# 身高的最小值 最大值\n",
    "x1_min, x1_max = np.min(x_train.iloc[:, 0], axis=0), np.max(x_train.iloc[:, 0], axis=0)\n",
    "# 体重的最小值,最大值\n",
    "x2_min, x2_max = np.min(x_train.iloc[:, 1], axis=0), np.max(x_train.iloc[:, 1], axis=0)\n",
    "\n",
    "# x1_min, x1_max = expand(x1_min, x1_max)\n",
    "# x2_min, x2_max = expand(x2_min, x2_max)\n",
    "    \n",
    "# 将上面的点形成30 * 30 个网格点 将两个一维向量转换为特征矩阵\n",
    "axis_x = np.linspace(x1_min - 5, x1_max + 5, num=30)\n",
    "axis_y = np.linspace(x2_min - 1, x2_max + 1, num=30)\n",
    "axis_x, axis_y = np.meshgrid(axis_x, axis_y)\n",
    "# ravel 拉平降维 在转置把数据变成900个点\n",
    "grid_data = np.stack([axis_x.ravel(), axis_y.ravel()], axis=1)\n",
    "# grid_data = np.stack((axis_x.flat, axis_y.flat), axis=1)\n",
    "\n",
    "# \n",
    "grid_hat = gmm.predict(grid_data).reshape(axis_x.shape)\n",
    "if change:\n",
    "    z = grid_hat == 0\n",
    "    grid_hat[z] = 1\n",
    "    grid_hat[~z] = 0\n",
    "plt.figure(figsize=(9, 7))\n",
    "plt.pcolormesh(axis_x, axis_y, grid_hat, cmap=cm_light)\n",
    "# 绘制训练集和测试集的散点图\n",
    "plt.scatter(x_train.iloc[:, 0], x_train.iloc[:, 1], s=50, c=y_train, marker='o', cmap=cm_dark, edgecolors='k')\n",
    "plt.scatter(x_test.iloc[:, 0], x_test.iloc[:, 1], s=60, c=y_test, marker='^', cmap=cm_dark, edgecolors='k')\n",
    "\n",
    "prob = gmm.predict_proba(grid_data)\n",
    "# 取出身高来自哪个组分的高斯\n",
    "prob = prob[:, 0].reshape(axis_x.shape)\n",
    "# prob 当做等高线的距离\n",
    "cs = plt.contour(axis_x, axis_y, prob, \n",
    "                 levels=[0.2, 0.5, 0.8], \n",
    "                 colors=list('rgb'), \n",
    "#                  linestyles=['--', '-', '--'],\n",
    "                 linewidths=2)\n",
    "# inline 数字显示样式不一样 \n",
    "plt.clabel(cs, fontsize=15, fmt='%.1f', inline=True)\n",
    "\n",
    "ax1_min, ax1_max, ax2_min, ax2_max = plt.axis()\n",
    "xx = 0.9*ax1_min + 0.1*ax1_max\n",
    "yy = 0.1*ax2_min + 0.9*ax2_max\n",
    "# plt.annotate\n",
    "plt.text(xx, yy, acc_train_str, fontsize=18)\n",
    "yy = 0.15*ax2_min + 0.85*ax2_max\n",
    "\n",
    "plt.text(xx, yy, acc_test_str, fontsize=18)\n",
    "plt.xlim((x1_min, x1_max))\n",
    "plt.ylim((x2_min, x2_max))\n",
    "plt.xlabel(u'身高(cm)', fontsize='large')\n",
    "plt.ylabel(u'体重(kg)', fontsize='large')\n",
    "plt.title(u'EM算法估算GMM的参数', fontsize=20)\n",
    "plt.grid()\n",
    "plt.show()"
   ]
  },
  {
   "cell_type": "code",
   "execution_count": 42,
   "metadata": {},
   "outputs": [
    {
     "data": {
      "text/plain": [
       "array([[146.995     , 148.37465517, 149.75431034, ..., 184.24568966,\n",
       "        185.62534483, 187.005     ],\n",
       "       [ 44.995     ,  44.995     ,  44.995     , ...,  95.005     ,\n",
       "         95.005     ,  95.005     ]])"
      ]
     },
     "execution_count": 42,
     "metadata": {},
     "output_type": "execute_result"
    }
   ],
   "source": [
    "xy"
   ]
  },
  {
   "cell_type": "code",
   "execution_count": 59,
   "metadata": {},
   "outputs": [
    {
     "data": {
      "text/plain": [
       "<a list of 3 text.Text objects>"
      ]
     },
     "execution_count": 59,
     "metadata": {},
     "output_type": "execute_result"
    },
    {
     "data": {
      "text/plain": [
       "Text(149.39600000000002, 92.00399999999999, '0.8481012658227848')"
      ]
     },
     "execution_count": 59,
     "metadata": {},
     "output_type": "execute_result"
    },
    {
     "data": {
      "text/plain": [
       "Text(149.39600000000002, 89.2535, '0.8481012658227848')"
      ]
     },
     "execution_count": 59,
     "metadata": {},
     "output_type": "execute_result"
    },
    {
     "data": {
      "text/plain": [
       "(145.0, 189.0)"
      ]
     },
     "execution_count": 59,
     "metadata": {},
     "output_type": "execute_result"
    },
    {
     "data": {
      "text/plain": [
       "(42.5, 97.5)"
      ]
     },
     "execution_count": 59,
     "metadata": {},
     "output_type": "execute_result"
    },
    {
     "data": {
      "text/plain": [
       "Text(0.5, 0, '身高(cm)')"
      ]
     },
     "execution_count": 59,
     "metadata": {},
     "output_type": "execute_result"
    },
    {
     "data": {
      "text/plain": [
       "Text(0, 0.5, '体重(kg)')"
      ]
     },
     "execution_count": 59,
     "metadata": {},
     "output_type": "execute_result"
    },
    {
     "data": {
      "text/plain": [
       "Text(0.5, 1.0, 'EM算法估算GMM的参数')"
      ]
     },
     "execution_count": 59,
     "metadata": {},
     "output_type": "execute_result"
    },
    {
     "data": {
      "image/png": "[encoded data removed]",
      "text/plain": [
       "<Figure size 576x396 with 1 Axes>"
      ]
     },
     "metadata": {},
     "output_type": "display_data"
    }
   ],
   "source": []
  },
  {
   "cell_type": "code",
   "execution_count": 56,
   "metadata": {},
   "outputs": [
    {
     "data": {
      "text/plain": [
       "(0.0, 1.0, 0.0, 1.0)"
      ]
     },
     "execution_count": 56,
     "metadata": {},
     "output_type": "execute_result"
    },
    {
     "data": {
      "image/png": "[encoded data removed]",
      "text/plain": [
       "<Figure size 576x396 with 1 Axes>"
      ]
     },
     "metadata": {},
     "output_type": "display_data"
    }
   ],
   "source": [
    "plt.axis()"
   ]
  },
  {
   "cell_type": "code",
   "execution_count": null,
   "metadata": {},
   "outputs": [],
   "source": []
  }
 ],
 "metadata": {
  "kernelspec": {
   "display_name": "Python 3",
   "language": "python",
   "name": "python3"
  },
  "language_info": {
   "codemirror_mode": {
    "name": "ipython",
    "version": 3
   },
   "file_extension": ".py",
   "mimetype": "text/x-python",
   "name": "python",
   "nbconvert_exporter": "python",
   "pygments_lexer": "ipython3",
   "version": "3.7.3"
  }
 },
 "nbformat": 4,
 "nbformat_minor": 2
}
