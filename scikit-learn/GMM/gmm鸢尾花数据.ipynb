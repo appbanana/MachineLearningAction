{
 "cells": [
  {
   "cell_type": "code",
   "execution_count": 3,
   "metadata": {},
   "outputs": [],
   "source": [
    "import numpy as np\n",
    "import pandas as pd\n",
    "from sklearn import model_selection, mixture, metrics, datasets\n",
    "import matplotlib.pyplot as plt\n",
    "from matplotlib import colors\n",
    "from IPython.core.interactiveshell import InteractiveShell\n"
   ]
  },
  {
   "cell_type": "code",
   "execution_count": 2,
   "metadata": {},
   "outputs": [],
   "source": [
    "# 配置项\n",
    "# 这个要放到设置中文之前否则还是小方框\n",
    "plt.style.use(\"seaborn\")\n",
    "\n",
    "# 指定默认字体 用来正常显示中文标签\n",
    "plt.rcParams['font.sans-serif'] = ['SimHei']\n",
    "# 解决保存图像是负号'-'显示为方块的问题\n",
    "plt.rcParams['axes.unicode_minus'] = False\n",
    "\n",
    "# #全部行都能输出\n",
    "InteractiveShell.ast_node_interactivity = \"all\""
   ]
  },
  {
   "cell_type": "code",
   "execution_count": 34,
   "metadata": {},
   "outputs": [],
   "source": [
    "%config IPCompleter.greedy=True\n"
   ]
  },
  {
   "cell_type": "code",
   "execution_count": 13,
   "metadata": {},
   "outputs": [
    {
     "data": {
      "text/html": [
       "<div>\n",
       "<style scoped>\n",
       "    .dataframe tbody tr th:only-of-type {\n",
       "        vertical-align: middle;\n",
       "    }\n",
       "\n",
       "    .dataframe tbody tr th {\n",
       "        vertical-align: top;\n",
       "    }\n",
       "\n",
       "    .dataframe thead th {\n",
       "        text-align: right;\n",
       "    }\n",
       "</style>\n",
       "<table border=\"1\" class=\"dataframe\">\n",
       "  <thead>\n",
       "    <tr style=\"text-align: right;\">\n",
       "      <th></th>\n",
       "      <th>花萼长度</th>\n",
       "      <th>花萼宽度</th>\n",
       "      <th>花瓣长度</th>\n",
       "      <th>花瓣宽度</th>\n",
       "      <th>target</th>\n",
       "    </tr>\n",
       "  </thead>\n",
       "  <tbody>\n",
       "    <tr>\n",
       "      <th>0</th>\n",
       "      <td>5.1</td>\n",
       "      <td>3.5</td>\n",
       "      <td>1.4</td>\n",
       "      <td>0.2</td>\n",
       "      <td>0</td>\n",
       "    </tr>\n",
       "    <tr>\n",
       "      <th>1</th>\n",
       "      <td>4.9</td>\n",
       "      <td>3.0</td>\n",
       "      <td>1.4</td>\n",
       "      <td>0.2</td>\n",
       "      <td>0</td>\n",
       "    </tr>\n",
       "    <tr>\n",
       "      <th>2</th>\n",
       "      <td>4.7</td>\n",
       "      <td>3.2</td>\n",
       "      <td>1.3</td>\n",
       "      <td>0.2</td>\n",
       "      <td>0</td>\n",
       "    </tr>\n",
       "    <tr>\n",
       "      <th>3</th>\n",
       "      <td>4.6</td>\n",
       "      <td>3.1</td>\n",
       "      <td>1.5</td>\n",
       "      <td>0.2</td>\n",
       "      <td>0</td>\n",
       "    </tr>\n",
       "    <tr>\n",
       "      <th>4</th>\n",
       "      <td>5.0</td>\n",
       "      <td>3.6</td>\n",
       "      <td>1.4</td>\n",
       "      <td>0.2</td>\n",
       "      <td>0</td>\n",
       "    </tr>\n",
       "  </tbody>\n",
       "</table>\n",
       "</div>"
      ],
      "text/plain": [
       "   花萼长度  花萼宽度  花瓣长度  花瓣宽度  target\n",
       "0   5.1   3.5   1.4   0.2       0\n",
       "1   4.9   3.0   1.4   0.2       0\n",
       "2   4.7   3.2   1.3   0.2       0\n",
       "3   4.6   3.1   1.5   0.2       0\n",
       "4   5.0   3.6   1.4   0.2       0"
      ]
     },
     "execution_count": 13,
     "metadata": {},
     "output_type": "execute_result"
    }
   ],
   "source": [
    "data = datasets.load_iris()\n",
    "\n",
    "X, y = data.data, data.target\n",
    "# data.head()\n",
    "iris_feature = u'花萼长度', u'花萼宽度', u'花瓣长度', u'花瓣宽度'\n",
    "df = pd.DataFrame(X, columns=iris_feature)\n",
    "df['target'] = y\n",
    "df.head()"
   ]
  },
  {
   "cell_type": "code",
   "execution_count": 14,
   "metadata": {},
   "outputs": [
    {
     "data": {
      "text/plain": [
       "array([0, 1, 2])"
      ]
     },
     "execution_count": 14,
     "metadata": {},
     "output_type": "execute_result"
    }
   ],
   "source": [
    "df['target'].unique()"
   ]
  },
  {
   "cell_type": "code",
   "execution_count": 33,
   "metadata": {},
   "outputs": [],
   "source": [
    "def expand(a, b, rate=0.05):\n",
    "    d = (b - a) * rate\n",
    "    return a-d, b+d"
   ]
  },
  {
   "cell_type": "code",
   "execution_count": 45,
   "metadata": {},
   "outputs": [
    {
     "data": {
      "text/plain": [
       "<Figure size 720x648 with 0 Axes>"
      ]
     },
     "execution_count": 45,
     "metadata": {},
     "output_type": "execute_result"
    },
    {
     "name": "stdout",
     "output_type": "stream",
     "text": [
      "【真实均值:】 \n",
      " [[5.006 3.428]\n",
      " [5.936 2.77 ]\n",
      " [6.588 2.974]]\n"
     ]
    },
    {
     "data": {
      "text/plain": [
       "GaussianMixture(covariance_type='full', init_params='kmeans', max_iter=100,\n",
       "                means_init=None, n_components=3, n_init=1, precisions_init=None,\n",
       "                random_state=66, reg_covar=1e-06, tol=0.001, verbose=0,\n",
       "                verbose_interval=10, warm_start=False, weights_init=None)"
      ]
     },
     "execution_count": 45,
     "metadata": {},
     "output_type": "execute_result"
    },
    {
     "name": "stdout",
     "output_type": "stream",
     "text": [
      "【预测均值:】\n",
      " [[5.01509042 3.45136929]\n",
      " [5.90637066 2.74742043]\n",
      " [6.69135935 3.03010885]]\n",
      "【预测协方差:】\n",
      " [[[0.11944295 0.08835036]\n",
      "  [0.08835036 0.11895089]]\n",
      "\n",
      " [[0.2771913  0.0894219 ]\n",
      "  [0.0894219  0.09420707]]\n",
      "\n",
      " [[0.35953784 0.05092452]\n",
      "  [0.05092452 0.08961421]]]\n",
      "【order:】\n",
      " [0 1 2]\n",
      "【准确率:】\n",
      " 准确率：78.67%\n"
     ]
    },
    {
     "data": {
      "text/plain": [
       "<matplotlib.axes._subplots.AxesSubplot at 0x109d4b4a8>"
      ]
     },
     "execution_count": 45,
     "metadata": {},
     "output_type": "execute_result"
    },
    {
     "data": {
      "text/plain": [
       "<matplotlib.collections.QuadMesh at 0x109dde2e8>"
      ]
     },
     "execution_count": 45,
     "metadata": {},
     "output_type": "execute_result"
    },
    {
     "data": {
      "text/plain": [
       "<matplotlib.collections.PathCollection at 0x109dde4e0>"
      ]
     },
     "execution_count": 45,
     "metadata": {},
     "output_type": "execute_result"
    },
    {
     "data": {
      "text/plain": [
       "Text(4.48, 4.16, '准确率：78.67%')"
      ]
     },
     "execution_count": 45,
     "metadata": {},
     "output_type": "execute_result"
    },
    {
     "data": {
      "text/plain": [
       "(4.3, 7.9)"
      ]
     },
     "execution_count": 45,
     "metadata": {},
     "output_type": "execute_result"
    },
    {
     "data": {
      "text/plain": [
       "(2.0, 4.4)"
      ]
     },
     "execution_count": 45,
     "metadata": {},
     "output_type": "execute_result"
    },
    {
     "data": {
      "text/plain": [
       "Text(0.5, 0, '花萼长度')"
      ]
     },
     "execution_count": 45,
     "metadata": {},
     "output_type": "execute_result"
    },
    {
     "data": {
      "text/plain": [
       "Text(0, 0.5, '花萼宽度')"
      ]
     },
     "execution_count": 45,
     "metadata": {},
     "output_type": "execute_result"
    },
    {
     "name": "stdout",
     "output_type": "stream",
     "text": [
      "【真实均值:】 \n",
      " [[5.006 1.462]\n",
      " [5.936 4.26 ]\n",
      " [6.588 5.552]]\n"
     ]
    },
    {
     "data": {
      "text/plain": [
       "GaussianMixture(covariance_type='full', init_params='kmeans', max_iter=100,\n",
       "                means_init=None, n_components=3, n_init=1, precisions_init=None,\n",
       "                random_state=66, reg_covar=1e-06, tol=0.001, verbose=0,\n",
       "                verbose_interval=10, warm_start=False, weights_init=None)"
      ]
     },
     "execution_count": 45,
     "metadata": {},
     "output_type": "execute_result"
    },
    {
     "name": "stdout",
     "output_type": "stream",
     "text": [
      "【预测均值:】\n",
      " [[5.00600062 1.46199859]\n",
      " [6.58889015 5.63329865]\n",
      " [6.04240837 4.41743067]]\n",
      "【预测协方差:】\n",
      " [[[0.12176526 0.01602832]\n",
      "  [0.01602832 0.02955648]]\n",
      "\n",
      " [[0.48521838 0.36602448]\n",
      "  [0.36602448 0.32601112]]\n",
      "\n",
      " [[0.281197   0.23747006]\n",
      "  [0.23747006 0.31503234]]]\n",
      "【order:】\n",
      " [0 2 1]\n",
      "【准确率:】\n",
      " 准确率：91.33%\n"
     ]
    },
    {
     "data": {
      "text/plain": [
       "<matplotlib.axes._subplots.AxesSubplot at 0x109d4b630>"
      ]
     },
     "execution_count": 45,
     "metadata": {},
     "output_type": "execute_result"
    },
    {
     "data": {
      "text/plain": [
       "<matplotlib.collections.QuadMesh at 0x109e060b8>"
      ]
     },
     "execution_count": 45,
     "metadata": {},
     "output_type": "execute_result"
    },
    {
     "data": {
      "text/plain": [
       "<matplotlib.collections.PathCollection at 0x109e06390>"
      ]
     },
     "execution_count": 45,
     "metadata": {},
     "output_type": "execute_result"
    },
    {
     "data": {
      "text/plain": [
       "Text(4.48, 6.3100000000000005, '准确率：91.33%')"
      ]
     },
     "execution_count": 45,
     "metadata": {},
     "output_type": "execute_result"
    },
    {
     "data": {
      "text/plain": [
       "(4.3, 7.9)"
      ]
     },
     "execution_count": 45,
     "metadata": {},
     "output_type": "execute_result"
    },
    {
     "data": {
      "text/plain": [
       "(1.0, 6.9)"
      ]
     },
     "execution_count": 45,
     "metadata": {},
     "output_type": "execute_result"
    },
    {
     "data": {
      "text/plain": [
       "Text(0.5, 0, '花萼长度')"
      ]
     },
     "execution_count": 45,
     "metadata": {},
     "output_type": "execute_result"
    },
    {
     "data": {
      "text/plain": [
       "Text(0, 0.5, '花瓣长度')"
      ]
     },
     "execution_count": 45,
     "metadata": {},
     "output_type": "execute_result"
    },
    {
     "name": "stdout",
     "output_type": "stream",
     "text": [
      "【真实均值:】 \n",
      " [[5.006 0.246]\n",
      " [5.936 1.326]\n",
      " [6.588 2.026]]\n"
     ]
    },
    {
     "data": {
      "text/plain": [
       "GaussianMixture(covariance_type='full', init_params='kmeans', max_iter=100,\n",
       "                means_init=None, n_components=3, n_init=1, precisions_init=None,\n",
       "                random_state=66, reg_covar=1e-06, tol=0.001, verbose=0,\n",
       "                verbose_interval=10, warm_start=False, weights_init=None)"
      ]
     },
     "execution_count": 45,
     "metadata": {},
     "output_type": "execute_result"
    },
    {
     "name": "stdout",
     "output_type": "stream",
     "text": [
      "【预测均值:】\n",
      " [[5.00606957 0.23932276]\n",
      " [6.56319256 2.02396872]\n",
      " [5.9485529  1.32071046]]\n",
      "【预测协方差:】\n",
      " [[[0.12407215 0.01034544]\n",
      "  [0.01034544 0.00869516]]\n",
      "\n",
      " [[0.41150166 0.05576534]\n",
      "  [0.05576534 0.077051  ]]\n",
      "\n",
      " [[0.29272399 0.08051723]\n",
      "  [0.08051723 0.05144897]]]\n",
      "【order:】\n",
      " [0 2 1]\n",
      "【准确率:】\n",
      " 准确率：96.00%\n"
     ]
    },
    {
     "data": {
      "text/plain": [
       "<matplotlib.axes._subplots.AxesSubplot at 0x109e06ac8>"
      ]
     },
     "execution_count": 45,
     "metadata": {},
     "output_type": "execute_result"
    },
    {
     "data": {
      "text/plain": [
       "<matplotlib.collections.QuadMesh at 0x10ac8f0b8>"
      ]
     },
     "execution_count": 45,
     "metadata": {},
     "output_type": "execute_result"
    },
    {
     "data": {
      "text/plain": [
       "<matplotlib.collections.PathCollection at 0x10ac8f048>"
      ]
     },
     "execution_count": 45,
     "metadata": {},
     "output_type": "execute_result"
    },
    {
     "data": {
      "text/plain": [
       "Text(4.48, 2.26, '准确率：96.00%')"
      ]
     },
     "execution_count": 45,
     "metadata": {},
     "output_type": "execute_result"
    },
    {
     "data": {
      "text/plain": [
       "(4.3, 7.9)"
      ]
     },
     "execution_count": 45,
     "metadata": {},
     "output_type": "execute_result"
    },
    {
     "data": {
      "text/plain": [
       "(0.1, 2.5)"
      ]
     },
     "execution_count": 45,
     "metadata": {},
     "output_type": "execute_result"
    },
    {
     "data": {
      "text/plain": [
       "Text(0.5, 0, '花萼长度')"
      ]
     },
     "execution_count": 45,
     "metadata": {},
     "output_type": "execute_result"
    },
    {
     "data": {
      "text/plain": [
       "Text(0, 0.5, '花瓣宽度')"
      ]
     },
     "execution_count": 45,
     "metadata": {},
     "output_type": "execute_result"
    },
    {
     "name": "stdout",
     "output_type": "stream",
     "text": [
      "【真实均值:】 \n",
      " [[3.428 1.462]\n",
      " [2.77  4.26 ]\n",
      " [2.974 5.552]]\n"
     ]
    },
    {
     "data": {
      "text/plain": [
       "GaussianMixture(covariance_type='full', init_params='kmeans', max_iter=100,\n",
       "                means_init=None, n_components=3, n_init=1, precisions_init=None,\n",
       "                random_state=66, reg_covar=1e-06, tol=0.001, verbose=0,\n",
       "                verbose_interval=10, warm_start=False, weights_init=None)"
      ]
     },
     "execution_count": 45,
     "metadata": {},
     "output_type": "execute_result"
    },
    {
     "name": "stdout",
     "output_type": "stream",
     "text": [
      "【预测均值:】\n",
      " [[3.4280001  1.46200001]\n",
      " [2.97017899 5.56073356]\n",
      " [2.80062882 4.43004173]]\n",
      "【预测协方差:】\n",
      " [[[0.1408169  0.01146398]\n",
      "  [0.01146398 0.029557  ]]\n",
      "\n",
      " [[0.11477629 0.07760424]\n",
      "  [0.07760424 0.38871247]]\n",
      "\n",
      " [[0.09376548 0.10702238]\n",
      "  [0.10702238 0.34454965]]]\n",
      "【order:】\n",
      " [0 2 1]\n",
      "【准确率:】\n",
      " 准确率：92.67%\n"
     ]
    },
    {
     "data": {
      "text/plain": [
       "<matplotlib.axes._subplots.AxesSubplot at 0x10ac8f9e8>"
      ]
     },
     "execution_count": 45,
     "metadata": {},
     "output_type": "execute_result"
    },
    {
     "data": {
      "text/plain": [
       "<matplotlib.collections.QuadMesh at 0x10ac99f60>"
      ]
     },
     "execution_count": 45,
     "metadata": {},
     "output_type": "execute_result"
    },
    {
     "data": {
      "text/plain": [
       "<matplotlib.collections.PathCollection at 0x10acb72b0>"
      ]
     },
     "execution_count": 45,
     "metadata": {},
     "output_type": "execute_result"
    },
    {
     "data": {
      "text/plain": [
       "Text(2.12, 6.3100000000000005, '准确率：92.67%')"
      ]
     },
     "execution_count": 45,
     "metadata": {},
     "output_type": "execute_result"
    },
    {
     "data": {
      "text/plain": [
       "(2.0, 4.4)"
      ]
     },
     "execution_count": 45,
     "metadata": {},
     "output_type": "execute_result"
    },
    {
     "data": {
      "text/plain": [
       "(1.0, 6.9)"
      ]
     },
     "execution_count": 45,
     "metadata": {},
     "output_type": "execute_result"
    },
    {
     "data": {
      "text/plain": [
       "Text(0.5, 0, '花萼宽度')"
      ]
     },
     "execution_count": 45,
     "metadata": {},
     "output_type": "execute_result"
    },
    {
     "data": {
      "text/plain": [
       "Text(0, 0.5, '花瓣长度')"
      ]
     },
     "execution_count": 45,
     "metadata": {},
     "output_type": "execute_result"
    },
    {
     "name": "stdout",
     "output_type": "stream",
     "text": [
      "【真实均值:】 \n",
      " [[3.428 0.246]\n",
      " [2.77  1.326]\n",
      " [2.974 2.026]]\n"
     ]
    },
    {
     "data": {
      "text/plain": [
       "GaussianMixture(covariance_type='full', init_params='kmeans', max_iter=100,\n",
       "                means_init=None, n_components=3, n_init=1, precisions_init=None,\n",
       "                random_state=66, reg_covar=1e-06, tol=0.001, verbose=0,\n",
       "                verbose_interval=10, warm_start=False, weights_init=None)"
      ]
     },
     "execution_count": 45,
     "metadata": {},
     "output_type": "execute_result"
    },
    {
     "name": "stdout",
     "output_type": "stream",
     "text": [
      "【预测均值:】\n",
      " [[3.42800002 0.246     ]\n",
      " [2.79653729 1.31219033]\n",
      " [2.93630578 1.98602153]]\n",
      "【预测协方差:】\n",
      " [[[0.14081698 0.009112  ]\n",
      "  [0.009112   0.010885  ]]\n",
      "\n",
      " [[0.09551199 0.04867612]\n",
      "  [0.04867612 0.03785257]]\n",
      "\n",
      " [[0.11264871 0.06193165]\n",
      "  [0.06193165 0.08968251]]]\n",
      "【order:】\n",
      " [0 1 2]\n",
      "【准确率:】\n",
      " 准确率：93.33%\n"
     ]
    },
    {
     "data": {
      "text/plain": [
       "<matplotlib.axes._subplots.AxesSubplot at 0x10acb7828>"
      ]
     },
     "execution_count": 45,
     "metadata": {},
     "output_type": "execute_result"
    },
    {
     "data": {
      "text/plain": [
       "<matplotlib.collections.QuadMesh at 0x10acc6e48>"
      ]
     },
     "execution_count": 45,
     "metadata": {},
     "output_type": "execute_result"
    },
    {
     "data": {
      "text/plain": [
       "<matplotlib.collections.PathCollection at 0x10acc6f28>"
      ]
     },
     "execution_count": 45,
     "metadata": {},
     "output_type": "execute_result"
    },
    {
     "data": {
      "text/plain": [
       "Text(2.12, 2.26, '准确率：93.33%')"
      ]
     },
     "execution_count": 45,
     "metadata": {},
     "output_type": "execute_result"
    },
    {
     "data": {
      "text/plain": [
       "(2.0, 4.4)"
      ]
     },
     "execution_count": 45,
     "metadata": {},
     "output_type": "execute_result"
    },
    {
     "data": {
      "text/plain": [
       "(0.1, 2.5)"
      ]
     },
     "execution_count": 45,
     "metadata": {},
     "output_type": "execute_result"
    },
    {
     "data": {
      "text/plain": [
       "Text(0.5, 0, '花萼宽度')"
      ]
     },
     "execution_count": 45,
     "metadata": {},
     "output_type": "execute_result"
    },
    {
     "data": {
      "text/plain": [
       "Text(0, 0.5, '花瓣宽度')"
      ]
     },
     "execution_count": 45,
     "metadata": {},
     "output_type": "execute_result"
    },
    {
     "name": "stdout",
     "output_type": "stream",
     "text": [
      "【真实均值:】 \n",
      " [[1.462 0.246]\n",
      " [4.26  1.326]\n",
      " [5.552 2.026]]\n"
     ]
    },
    {
     "data": {
      "text/plain": [
       "GaussianMixture(covariance_type='full', init_params='kmeans', max_iter=100,\n",
       "                means_init=None, n_components=3, n_init=1, precisions_init=None,\n",
       "                random_state=66, reg_covar=1e-06, tol=0.001, verbose=0,\n",
       "                verbose_interval=10, warm_start=False, weights_init=None)"
      ]
     },
     "execution_count": 45,
     "metadata": {},
     "output_type": "execute_result"
    },
    {
     "name": "stdout",
     "output_type": "stream",
     "text": [
      "【预测均值:】\n",
      " [[1.46199926 0.24599973]\n",
      " [4.32760641 1.36230588]\n",
      " [5.60395925 2.05454181]]\n",
      "【预测协方差:】\n",
      " [[[0.02955675 0.00594792]\n",
      "  [0.00594792 0.01088496]]\n",
      "\n",
      " [[0.25410046 0.0915205 ]\n",
      "  [0.0915205  0.05088324]]\n",
      "\n",
      " [[0.29156634 0.03719346]\n",
      "  [0.03719346 0.07073705]]]\n",
      "【order:】\n",
      " [0 1 2]\n",
      "【准确率:】\n",
      " 准确率：97.33%\n"
     ]
    },
    {
     "data": {
      "text/plain": [
       "<matplotlib.axes._subplots.AxesSubplot at 0x10acd1908>"
      ]
     },
     "execution_count": 45,
     "metadata": {},
     "output_type": "execute_result"
    },
    {
     "data": {
      "text/plain": [
       "<matplotlib.collections.QuadMesh at 0x10acf5e80>"
      ]
     },
     "execution_count": 45,
     "metadata": {},
     "output_type": "execute_result"
    },
    {
     "data": {
      "text/plain": [
       "<matplotlib.collections.PathCollection at 0x10acfe208>"
      ]
     },
     "execution_count": 45,
     "metadata": {},
     "output_type": "execute_result"
    },
    {
     "data": {
      "text/plain": [
       "Text(1.295, 2.26, '准确率：97.33%')"
      ]
     },
     "execution_count": 45,
     "metadata": {},
     "output_type": "execute_result"
    },
    {
     "data": {
      "text/plain": [
       "(1.0, 6.9)"
      ]
     },
     "execution_count": 45,
     "metadata": {},
     "output_type": "execute_result"
    },
    {
     "data": {
      "text/plain": [
       "(0.1, 2.5)"
      ]
     },
     "execution_count": 45,
     "metadata": {},
     "output_type": "execute_result"
    },
    {
     "data": {
      "text/plain": [
       "Text(0.5, 0, '花瓣长度')"
      ]
     },
     "execution_count": 45,
     "metadata": {},
     "output_type": "execute_result"
    },
    {
     "data": {
      "text/plain": [
       "Text(0, 0.5, '花瓣宽度')"
      ]
     },
     "execution_count": 45,
     "metadata": {},
     "output_type": "execute_result"
    },
    {
     "data": {
      "text/plain": [
       "Text(0.5, 0.98, 'EM算法无监督分类鸢尾花数据')"
      ]
     },
     "execution_count": 45,
     "metadata": {},
     "output_type": "execute_result"
    },
    {
     "data": {
      "image/png": "[encoded data removed]",
      "text/plain": [
       "<Figure size 720x648 with 6 Axes>"
      ]
     },
     "metadata": {},
     "output_type": "display_data"
    }
   ],
   "source": [
    "n_components = 3\n",
    "# 任意两个特征组合\n",
    "feature_pairs = [[0, 1], [0, 2], [0, 3], [1, 2], [1, 3], [2, 3]]\n",
    "plt.figure(figsize=(10, 9), facecolor='#FFFFFF')\n",
    "\n",
    "for k, pair in enumerate(feature_pairs):\n",
    "    data = df.iloc[:, pair]\n",
    "    m = [np.mean(data.loc[df.target == i], axis=0) for i in range(3)]\n",
    "    m = np.array(m)\n",
    "    print('【真实均值:】 \\n', m)\n",
    "    gmm = mixture.GaussianMixture(n_components=n_components, covariance_type='full', random_state=66)\n",
    "    gmm.fit(data)\n",
    "    print('【预测均值:】\\n', gmm.means_)\n",
    "    print('【预测协方差:】\\n', gmm.covariances_)\n",
    "    \n",
    "    # 预测数据属于哪个高斯组分\n",
    "    y_hat = gmm.predict(data)\n",
    "    # order \n",
    "    order = metrics.pairwise.pairwise_distances_argmin(m, gmm.means_, axis=1, metric='euclidean')\n",
    "    print('【order:】\\n', order)\n",
    "    \n",
    "    n_sample = df.target.shape[0]\n",
    "    n_types = 3\n",
    "    change = np.empty((n_types, n_sample), dtype=np.bool)\n",
    "    for i in range(n_types):\n",
    "        # 先记录一下数据属于哪个组分 然后在将数据置为对应的标签\n",
    "        change[i] = y_hat == order[i]\n",
    "    # 转了老半天 是为了搞出预测值\n",
    "    for i in range(n_types):\n",
    "        y_hat[change[i]] = i\n",
    "        \n",
    "    acc = '准确率：%.2f%%' % (100*np.mean(y_hat == y))\n",
    "    print('【准确率:】\\n', acc)\n",
    "    \n",
    "    cm_light = colors.ListedColormap(['#FF8080', '#77E0A0', '#A0A0FF'])\n",
    "    cm_dark = colors.ListedColormap(['r', 'g', '#6060FF'])\n",
    "    x1_min, x1_max = data.iloc[:, 0].min(), data.iloc[:, 0].max()\n",
    "    x2_min, x2_max = data.iloc[:, 1].min(), data.iloc[:, 1].max()\n",
    "    axis_x = np.linspace(x1_min-0.5, x1_max+0.5, 30)\n",
    "    axis_y = np.linspace(x2_min-0.5, x2_max+0.5, 30)\n",
    "    axis_x, axis_y = np.meshgrid(axis_x, axis_y)\n",
    "    grid_test = np.stack([axis_x.ravel(), axis_y.ravel()], axis=1)\n",
    "    grid_test_hat = gmm.predict(grid_test)\n",
    "    \n",
    "    change = np.empty((n_types, len(grid_test_hat)), dtype=np.bool)\n",
    "    for i in range(n_types):\n",
    "        change[i] = grid_test_hat == order[i]\n",
    "    # 转了老半天 是为了搞出预测值\n",
    "    for i in range(n_types):\n",
    "        grid_test_hat[change[i]] = i\n",
    "    grid_test_hat = grid_test_hat.reshape(axis_x.shape)\n",
    "    plt.subplot(3, 2, k+1)\n",
    "    plt.pcolormesh(axis_x, axis_y, grid_test_hat, cmap=cm_light)\n",
    "    plt.scatter(data.iloc[:, 0], data.iloc[:, 1], s=30, c=y, marker='o', cmap=cm_dark, edgecolors='k')\n",
    "    xx = 0.95 * x1_min + 0.05 * x1_max\n",
    "    yy = 0.1 * x2_min + 0.9 * x2_max\n",
    "    plt.text(xx, yy, acc, fontsize=14)\n",
    "    plt.xlim((x1_min, x1_max))\n",
    "    plt.ylim((x2_min, x2_max))\n",
    "    plt.xlabel(iris_feature[pair[0]], fontsize=14)\n",
    "    plt.ylabel(iris_feature[pair[1]], fontsize=14)\n",
    "    plt.grid()\n",
    "    \n",
    "plt.tight_layout(2)\n",
    "plt.suptitle(u'EM算法无监督分类鸢尾花数据', fontsize=20)\n",
    "plt.subplots_adjust(top=0.92)\n",
    "plt.show()\n",
    "\n",
    "          \n",
    "    "
   ]
  },
  {
   "cell_type": "code",
   "execution_count": 12,
   "metadata": {},
   "outputs": [
    {
     "data": {
      "text/plain": [
       "array([[5.006, 3.428, 1.462, 0.246, 0.   ],\n",
       "       [5.936, 2.77 , 4.26 , 1.326, 1.   ],\n",
       "       [6.588, 2.974, 5.552, 2.026, 2.   ]])"
      ]
     },
     "execution_count": 12,
     "metadata": {},
     "output_type": "execute_result"
    }
   ],
   "source": [
    "m = np.array([np.mean(data.loc[data.target == i, :], axis=0) for i in range(3)])  # 均值的实际值\n",
    "m"
   ]
  },
  {
   "cell_type": "code",
   "execution_count": 30,
   "metadata": {},
   "outputs": [
    {
     "data": {
      "text/plain": [
       "array([False, False, False,  True,  True,  True, False, False,  True,\n",
       "        True,  True,  True,  True,  True,  True,  True,  True,  True,\n",
       "        True,  True,  True,  True,  True,  True,  True,  True,  True,\n",
       "        True,  True,  True,  True,  True,  True,  True,  True,  True,\n",
       "        True,  True,  True,  True,  True,  True,  True,  True,  True,\n",
       "        True,  True,  True,  True,  True,  True,  True,  True,  True,\n",
       "        True,  True,  True,  True,  True,  True,  True,  True,  True,\n",
       "        True,  True,  True,  True,  True,  True,  True,  True,  True,\n",
       "        True,  True,  True,  True,  True,  True,  True,  True,  True,\n",
       "        True,  True,  True,  True,  True,  True,  True,  True,  True,\n",
       "        True,  True,  True,  True,  True,  True,  True,  True,  True,\n",
       "        True,  True,  True,  True,  True,  True,  True,  True,  True,\n",
       "        True,  True,  True,  True,  True,  True,  True,  True,  True,\n",
       "        True,  True,  True,  True,  True,  True,  True,  True,  True,\n",
       "        True,  True,  True,  True,  True,  True,  True,  True,  True,\n",
       "        True,  True,  True,  True,  True,  True,  True,  True,  True,\n",
       "        True,  True,  True,  True,  True,  True])"
      ]
     },
     "execution_count": 30,
     "metadata": {},
     "output_type": "execute_result"
    }
   ],
   "source": [
    "change = np.empty((n_sample, n_types), dtype=np.bool)\n",
    "change[:, 0]"
   ]
  },
  {
   "cell_type": "code",
   "execution_count": null,
   "metadata": {},
   "outputs": [],
   "source": []
  }
 ],
 "metadata": {
  "kernelspec": {
   "display_name": "Python 3",
   "language": "python",
   "name": "python3"
  },
  "language_info": {
   "codemirror_mode": {
    "name": "ipython",
    "version": 3
   },
   "file_extension": ".py",
   "mimetype": "text/x-python",
   "name": "python",
   "nbconvert_exporter": "python",
   "pygments_lexer": "ipython3",
   "version": "3.7.3"
  }
 },
 "nbformat": 4,
 "nbformat_minor": 2
}
