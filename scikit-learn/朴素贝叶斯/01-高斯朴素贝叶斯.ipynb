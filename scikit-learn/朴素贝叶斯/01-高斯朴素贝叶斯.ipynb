{
 "cells": [
  {
   "cell_type": "code",
   "execution_count": 1,
   "metadata": {},
   "outputs": [],
   "source": [
    " # pip3 install watermark"
   ]
  },
  {
   "cell_type": "code",
   "execution_count": 2,
   "metadata": {},
   "outputs": [],
   "source": [
    "%load_ext watermark"
   ]
  },
  {
   "cell_type": "code",
   "execution_count": 3,
   "metadata": {},
   "outputs": [
    {
     "name": "stdout",
     "output_type": "stream",
     "text": [
      "jqc 2019-03-21 \n",
      "\n",
      "CPython 3.7.0\n",
      "IPython 7.1.1\n",
      "\n",
      "numpy 1.15.4\n",
      "pandas 0.23.4\n",
      "matplotlib 3.0.2\n",
      "scipy 1.1.0\n",
      "sklearn 0.20.0\n",
      "\n",
      "compiler   : Clang 10.0.0 (clang-1000.11.45.5)\n",
      "system     : Darwin\n",
      "release    : 18.2.0\n",
      "machine    : x86_64\n",
      "processor  : i386\n",
      "CPU cores  : 4\n",
      "interpreter: 64bit\n"
     ]
    }
   ],
   "source": [
    "%watermark -a \"jqc\" -d -v -m -p numpy,pandas,matplotlib,scipy,sklearn"
   ]
  },
  {
   "cell_type": "code",
   "execution_count": 12,
   "metadata": {},
   "outputs": [],
   "source": [
    "import numpy as np\n",
    "import pandas as pd\n",
    "from sklearn import naive_bayes, datasets, model_selection, metrics"
   ]
  },
  {
   "cell_type": "code",
   "execution_count": 6,
   "metadata": {},
   "outputs": [],
   "source": [
    "# 手写数字识别集\n",
    "digits = datasets.load_digits()\n",
    "X, y = digits.data, digits.target\n",
    "X_train, X_test, y_train, y_test = model_selection.train_test_split(X, y, test_size=0.25, random_state=66)"
   ]
  },
  {
   "cell_type": "code",
   "execution_count": 7,
   "metadata": {},
   "outputs": [
    {
     "data": {
      "text/plain": [
       "0.8488888888888889"
      ]
     },
     "execution_count": 7,
     "metadata": {},
     "output_type": "execute_result"
    }
   ],
   "source": [
    "gnb = naive_bayes.GaussianNB().fit(X_train, y_train)\n",
    "gnb.score(X_test, y_test)"
   ]
  },
  {
   "cell_type": "code",
   "execution_count": 14,
   "metadata": {},
   "outputs": [
    {
     "data": {
      "text/plain": [
       "array([8, 5, 8, 3, 3, 2, 5, 5, 0, 1, 7, 5, 1, 5, 7, 8, 0, 3, 7, 5, 1, 1,\n",
       "       7, 0, 0, 0, 9, 0, 6, 9, 6, 1, 5, 5, 2, 5, 7, 2, 3, 5, 1, 7, 6, 6,\n",
       "       2, 9, 1, 4, 5, 4, 4, 3, 1, 9, 4, 6, 4, 9, 0, 1, 6, 2, 3, 6, 3, 7,\n",
       "       5, 6, 7, 8, 5, 1, 4, 0, 0, 2, 4, 1, 4, 3, 2, 1, 8, 7, 7, 6, 9, 0,\n",
       "       2, 1, 8, 4, 5, 0, 6, 0, 4, 1, 2, 0, 5, 2, 4, 0, 0, 9, 3, 2, 6, 5,\n",
       "       7, 8, 4, 6, 4, 8, 0, 8, 4, 6, 9, 7, 8, 2, 3, 5, 4, 9, 9, 1, 1, 0,\n",
       "       7, 5, 3, 7, 9, 1, 0, 3, 1, 6, 4, 1, 6, 8, 7, 7, 7, 7, 8, 0, 1, 2,\n",
       "       8, 7, 0, 3, 7, 9, 3, 1, 2, 0, 5, 0, 4, 2, 8, 8, 6, 4, 4, 9, 6, 0,\n",
       "       8, 0, 7, 2, 1, 6, 9, 0, 4, 6, 2, 1, 2, 7, 9, 9, 6, 2, 6, 5, 2, 4,\n",
       "       4, 5, 8, 5, 8, 1, 8, 4, 0, 8, 7, 7, 4, 4, 5, 4, 1, 0, 8, 7, 6, 9,\n",
       "       6, 5, 0, 8, 2, 4, 6, 6, 8, 4, 4, 5, 8, 9, 4, 6, 4, 8, 0, 2, 4, 5,\n",
       "       3, 9, 4, 8, 5, 5, 8, 7, 8, 6, 9, 8, 9, 3, 3, 1, 5, 0, 6, 9, 5, 5,\n",
       "       9, 0, 0, 9, 6, 1, 5, 3, 0, 7, 9, 0, 5, 7, 0, 8, 2, 0, 3, 7, 6, 1,\n",
       "       5, 6, 7, 3, 2, 4, 5, 9, 8, 3, 2, 6, 1, 5, 2, 8, 9, 6, 5, 9, 0, 5,\n",
       "       1, 7, 6, 5, 9, 3, 7, 1, 3, 4, 8, 7, 5, 1, 0, 0, 3, 4, 1, 8, 8, 7,\n",
       "       5, 0, 3, 2, 6, 8, 3, 5, 9, 8, 8, 6, 4, 8, 4, 5, 2, 7, 3, 7, 9, 8,\n",
       "       9, 7, 7, 8, 1, 9, 4, 9, 1, 7, 7, 0, 7, 7, 8, 7, 5, 5, 9, 5, 8, 8,\n",
       "       1, 6, 7, 6, 4, 8, 1, 1, 9, 4, 6, 5, 5, 7, 7, 6, 0, 7, 0, 5, 7, 6,\n",
       "       4, 9, 6, 0, 2, 9, 4, 7, 4, 9, 8, 9, 6, 7, 7, 0, 0, 3, 8, 4, 4, 8,\n",
       "       8, 3, 9, 8, 1, 6, 8, 8, 2, 0, 0, 3, 1, 9, 8, 5, 0, 6, 5, 8, 1, 9,\n",
       "       5, 3, 8, 7, 7, 8, 3, 5, 5, 4])"
      ]
     },
     "execution_count": 14,
     "metadata": {},
     "output_type": "execute_result"
    }
   ],
   "source": [
    "pred = gnb.predict(X_test)\n",
    "pred"
   ]
  },
  {
   "cell_type": "code",
   "execution_count": 9,
   "metadata": {},
   "outputs": [
    {
     "data": {
      "text/plain": [
       "array([[4.62409934e-299, 1.22308911e-110, 4.86240758e-007, ...,\n",
       "        0.00000000e+000, 9.99310374e-001, 1.47503369e-030],\n",
       "       [6.32935001e-110, 1.49245093e-055, 1.37524550e-114, ...,\n",
       "        0.00000000e+000, 1.25005597e-068, 1.81741137e-020],\n",
       "       [1.44106385e-091, 4.99142310e-040, 1.52648669e-023, ...,\n",
       "        5.08759054e-300, 9.98406304e-001, 1.59369525e-003],\n",
       "       ...,\n",
       "       [0.00000000e+000, 0.00000000e+000, 4.66791861e-032, ...,\n",
       "        1.35407628e-015, 4.77001186e-018, 2.02667046e-033],\n",
       "       [0.00000000e+000, 1.07253211e-064, 5.84833348e-085, ...,\n",
       "        2.30049946e-011, 2.87707173e-024, 4.40008953e-041],\n",
       "       [0.00000000e+000, 2.34969856e-052, 1.91843496e-167, ...,\n",
       "        6.04359460e-021, 1.10944551e-060, 9.57272010e-141]])"
      ]
     },
     "execution_count": 9,
     "metadata": {},
     "output_type": "execute_result"
    }
   ],
   "source": [
    "# 预测在每个分类标签上的概率\n",
    "gnb.predict_proba(X_test)"
   ]
  },
  {
   "cell_type": "code",
   "execution_count": 10,
   "metadata": {},
   "outputs": [
    {
     "data": {
      "text/plain": [
       "(450, 10)"
      ]
     },
     "execution_count": 10,
     "metadata": {},
     "output_type": "execute_result"
    }
   ],
   "source": [
    "gnb.predict_proba(X_test).shape"
   ]
  },
  {
   "cell_type": "code",
   "execution_count": 11,
   "metadata": {},
   "outputs": [
    {
     "data": {
      "text/plain": [
       "array([128., 131., 135., 143., 131., 130., 139., 142., 140., 128.])"
      ]
     },
     "execution_count": 11,
     "metadata": {},
     "output_type": "execute_result"
    }
   ],
   "source": [
    "gnb.class_count_"
   ]
  },
  {
   "cell_type": "code",
   "execution_count": 15,
   "metadata": {},
   "outputs": [
    {
     "data": {
      "text/plain": [
       "array([[49,  0,  0,  0,  0,  1,  0,  0,  0,  0],\n",
       "       [ 0, 37,  1,  0,  0,  0,  1,  1,  5,  6],\n",
       "       [ 0,  0, 27,  1,  0,  0,  1,  0, 13,  0],\n",
       "       [ 0,  0,  2, 28,  0,  4,  0,  3,  2,  1],\n",
       "       [ 0,  0,  0,  0, 47,  0,  1,  2,  0,  0],\n",
       "       [ 0,  0,  0,  0,  0, 49,  0,  3,  0,  0],\n",
       "       [ 0,  0,  0,  0,  0,  0, 42,  0,  0,  0],\n",
       "       [ 0,  0,  0,  0,  0,  0,  0, 37,  0,  0],\n",
       "       [ 0,  4,  0,  0,  0,  0,  0,  0, 30,  0],\n",
       "       [ 0,  0,  0,  3,  0,  0,  0,  7,  6, 36]])"
      ]
     },
     "execution_count": 15,
     "metadata": {},
     "output_type": "execute_result"
    }
   ],
   "source": [
    "# 使用混淆矩阵查看分类结果\n",
    "metrics.confusion_matrix(y_test, pred)"
   ]
  },
  {
   "cell_type": "code",
   "execution_count": null,
   "metadata": {},
   "outputs": [],
   "source": []
  }
 ],
 "metadata": {
  "kernelspec": {
   "display_name": "Python 3",
   "language": "python",
   "name": "python3"
  },
  "language_info": {
   "codemirror_mode": {
    "name": "ipython",
    "version": 3
   },
   "file_extension": ".py",
   "mimetype": "text/x-python",
   "name": "python",
   "nbconvert_exporter": "python",
   "pygments_lexer": "ipython3",
   "version": "3.7.0"
  }
 },
 "nbformat": 4,
 "nbformat_minor": 1
}
