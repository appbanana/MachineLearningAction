{
 "cells": [
  {
   "cell_type": "code",
   "execution_count": 13,
   "metadata": {},
   "outputs": [],
   "source": [
    "import numpy as np\n",
    "import pandas as pd\n",
    "from sklearn import datasets, metrics, svm, linear_model, model_selection, naive_bayes\n",
    "from matplotlib import pyplot as plt"
   ]
  },
  {
   "cell_type": "code",
   "execution_count": 4,
   "metadata": {},
   "outputs": [],
   "source": [
    "digits = datasets.load_digits()\n",
    "X, y = digits.data, digits.target\n",
    "X_train, X_test, y_train, y_test = model_selection.train_test_split(X, y, test_size=0.25, random_state=66)"
   ]
  },
  {
   "cell_type": "code",
   "execution_count": 11,
   "metadata": {},
   "outputs": [
    {
     "data": {
      "text/plain": [
       "0.03947531290953006"
      ]
     },
     "execution_count": 11,
     "metadata": {},
     "output_type": "execute_result"
    }
   ],
   "source": [
    "# 模型评估的第一个指标：布里尔分数\n",
    "# 布里尔分数\n",
    "gnb = naive_bayes.GaussianNB().fit(X_train, y_train)\n",
    "bayes_prob = gnb.predict_proba(X_test)\n",
    "metrics.brier_score_loss(y_test, bayes_prob[:, 1], pos_label=1)\n"
   ]
  },
  {
   "cell_type": "code",
   "execution_count": 10,
   "metadata": {},
   "outputs": [
    {
     "data": {
      "text/plain": [
       "0.010792328135514237"
      ]
     },
     "execution_count": 10,
     "metadata": {},
     "output_type": "execute_result"
    }
   ],
   "source": [
    "# 建立模型 查看对应模型上的布里尔分数\n",
    "lr = linear_model.LogisticRegression(solver='lbfgs', max_iter=3000, multi_class='auto').fit(X_train, y_train)\n",
    "lr_prob = lr.predict_proba(X_test)\n",
    "# 查看布里尔分数介于0到1，分数越高则表示预测结果越差劲，校准程度越差，因此布里尔分数越接近0越好\n",
    "metrics.brier_score_loss(y_test, lr_prob[:, 1], pos_label=1)\n",
    "\n"
   ]
  },
  {
   "cell_type": "code",
   "execution_count": 7,
   "metadata": {},
   "outputs": [
    {
     "data": {
      "text/plain": [
       "0.24443698520876303"
      ]
     },
     "execution_count": 7,
     "metadata": {},
     "output_type": "execute_result"
    }
   ],
   "source": [
    "# svm模型和其布里尔分数\n",
    "svc = svm.SVC(C=1.0, kernel='linear').fit(X_train, y_train)\n",
    "# 因为svc中没有predict_proba方法，我采取的方法是使用其置信度，并把它归一化，压缩到0~1之间\n",
    "svc_prob = svc.decision_function(X_test)\n",
    "svc_prob = (svc_prob - svc_prob.min()) / (svc_prob.max() - svc_prob.min())\n",
    "metrics.brier_score_loss(y_test, svc_prob[:, 1], pos_label=1)"
   ]
  },
  {
   "cell_type": "code",
   "execution_count": 15,
   "metadata": {},
   "outputs": [
    {
     "data": {
      "image/png": "[encoded data removed]",
      "text/plain": [
       "<Figure size 432x288 with 1 Axes>"
      ]
     },
     "metadata": {
      "needs_background": "light"
     },
     "output_type": "display_data"
    }
   ],
   "source": [
    "# \n",
    "names = ['Bayes', 'LR', 'SVC']\n",
    "colors = ['red', 'blue', 'orange']\n",
    "df = pd.DataFrame(index=range(10), columns=names)\n",
    "for i in range(10):\n",
    "    df.loc[i, names[0]] = metrics.brier_score_loss(y_test, bayes_prob[:, i], pos_label=i)\n",
    "    df.loc[i, names[1]] = metrics.brier_score_loss(y_test, lr_prob[:, i], pos_label=i)\n",
    "    df.loc[i, names[2]] = metrics.brier_score_loss(y_test, svc_prob[:, i], pos_label=i)\n",
    "for index, color in enumerate(colors):\n",
    "    plt.plot(range(10), df.iloc[:, index], color=color, label=names[index])\n",
    "plt.legend()\n",
    "plt.show()\n"
   ]
  },
  {
   "cell_type": "code",
   "execution_count": 16,
   "metadata": {},
   "outputs": [
    {
     "data": {
      "text/plain": [
       "2.984764133956067"
      ]
     },
     "execution_count": 16,
     "metadata": {},
     "output_type": "execute_result"
    }
   ],
   "source": [
    "# 模型评估的第一个指标：对数似然损失\n",
    "# 对数似然损失的取值越小越好，越小则证明概率估计越准确，模型越理想\n",
    "# 高斯朴素贝叶斯下的对数似然损失\n",
    "metrics.log_loss(y_test, bayes_prob)"
   ]
  },
  {
   "cell_type": "code",
   "execution_count": 17,
   "metadata": {},
   "outputs": [
    {
     "data": {
      "text/plain": [
       "0.14919129929019223"
      ]
     },
     "execution_count": 17,
     "metadata": {},
     "output_type": "execute_result"
    }
   ],
   "source": [
    "# 逻辑回归下的对数似然损失\n",
    "metrics.log_loss(y_test, lr_prob)"
   ]
  },
  {
   "cell_type": "code",
   "execution_count": 18,
   "metadata": {},
   "outputs": [
    {
     "data": {
      "text/plain": [
       "1.6277156300220184"
      ]
     },
     "execution_count": 18,
     "metadata": {},
     "output_type": "execute_result"
    }
   ],
   "source": [
    "# svc下的对数似然损失\n",
    "metrics.log_loss(y_test, svc_prob)"
   ]
  },
  {
   "cell_type": "code",
   "execution_count": null,
   "metadata": {},
   "outputs": [],
   "source": []
  }
 ],
 "metadata": {
  "kernelspec": {
   "display_name": "Python 3",
   "language": "python",
   "name": "python3"
  },
  "language_info": {
   "codemirror_mode": {
    "name": "ipython",
    "version": 3
   },
   "file_extension": ".py",
   "mimetype": "text/x-python",
   "name": "python",
   "nbconvert_exporter": "python",
   "pygments_lexer": "ipython3",
   "version": "3.7.0"
  }
 },
 "nbformat": 4,
 "nbformat_minor": 1
}
