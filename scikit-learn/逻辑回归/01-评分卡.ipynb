{
 "cells": [
  {
   "cell_type": "code",
   "execution_count": 80,
   "metadata": {},
   "outputs": [],
   "source": [
    "import numpy as np\n",
    "import pandas as pd \n",
    "from sklearn import linear_model, model_selection\n",
    "import imblearn\n",
    "from imblearn import over_sampling\n",
    "import scipy\n",
    "from matplotlib import pyplot as plt"
   ]
  },
  {
   "cell_type": "code",
   "execution_count": 2,
   "metadata": {},
   "outputs": [
    {
     "data": {
      "text/html": [
       "<div>\n",
       "<style scoped>\n",
       "    .dataframe tbody tr th:only-of-type {\n",
       "        vertical-align: middle;\n",
       "    }\n",
       "\n",
       "    .dataframe tbody tr th {\n",
       "        vertical-align: top;\n",
       "    }\n",
       "\n",
       "    .dataframe thead th {\n",
       "        text-align: right;\n",
       "    }\n",
       "</style>\n",
       "<table border=\"1\" class=\"dataframe\">\n",
       "  <thead>\n",
       "    <tr style=\"text-align: right;\">\n",
       "      <th></th>\n",
       "      <th>SeriousDlqin2yrs</th>\n",
       "      <th>RevolvingUtilizationOfUnsecuredLines</th>\n",
       "      <th>age</th>\n",
       "      <th>NumberOfTime30-59DaysPastDueNotWorse</th>\n",
       "      <th>DebtRatio</th>\n",
       "      <th>MonthlyIncome</th>\n",
       "      <th>NumberOfOpenCreditLinesAndLoans</th>\n",
       "      <th>NumberOfTimes90DaysLate</th>\n",
       "      <th>NumberRealEstateLoansOrLines</th>\n",
       "      <th>NumberOfTime60-89DaysPastDueNotWorse</th>\n",
       "      <th>NumberOfDependents</th>\n",
       "    </tr>\n",
       "  </thead>\n",
       "  <tbody>\n",
       "    <tr>\n",
       "      <th>1</th>\n",
       "      <td>1</td>\n",
       "      <td>0.766127</td>\n",
       "      <td>45</td>\n",
       "      <td>2</td>\n",
       "      <td>0.802982</td>\n",
       "      <td>9120.0</td>\n",
       "      <td>13</td>\n",
       "      <td>0</td>\n",
       "      <td>6</td>\n",
       "      <td>0</td>\n",
       "      <td>2.0</td>\n",
       "    </tr>\n",
       "    <tr>\n",
       "      <th>2</th>\n",
       "      <td>0</td>\n",
       "      <td>0.957151</td>\n",
       "      <td>40</td>\n",
       "      <td>0</td>\n",
       "      <td>0.121876</td>\n",
       "      <td>2600.0</td>\n",
       "      <td>4</td>\n",
       "      <td>0</td>\n",
       "      <td>0</td>\n",
       "      <td>0</td>\n",
       "      <td>1.0</td>\n",
       "    </tr>\n",
       "    <tr>\n",
       "      <th>3</th>\n",
       "      <td>0</td>\n",
       "      <td>0.658180</td>\n",
       "      <td>38</td>\n",
       "      <td>1</td>\n",
       "      <td>0.085113</td>\n",
       "      <td>3042.0</td>\n",
       "      <td>2</td>\n",
       "      <td>1</td>\n",
       "      <td>0</td>\n",
       "      <td>0</td>\n",
       "      <td>0.0</td>\n",
       "    </tr>\n",
       "    <tr>\n",
       "      <th>4</th>\n",
       "      <td>0</td>\n",
       "      <td>0.233810</td>\n",
       "      <td>30</td>\n",
       "      <td>0</td>\n",
       "      <td>0.036050</td>\n",
       "      <td>3300.0</td>\n",
       "      <td>5</td>\n",
       "      <td>0</td>\n",
       "      <td>0</td>\n",
       "      <td>0</td>\n",
       "      <td>0.0</td>\n",
       "    </tr>\n",
       "    <tr>\n",
       "      <th>5</th>\n",
       "      <td>0</td>\n",
       "      <td>0.907239</td>\n",
       "      <td>49</td>\n",
       "      <td>1</td>\n",
       "      <td>0.024926</td>\n",
       "      <td>63588.0</td>\n",
       "      <td>7</td>\n",
       "      <td>0</td>\n",
       "      <td>1</td>\n",
       "      <td>0</td>\n",
       "      <td>0.0</td>\n",
       "    </tr>\n",
       "  </tbody>\n",
       "</table>\n",
       "</div>"
      ],
      "text/plain": [
       "   SeriousDlqin2yrs  RevolvingUtilizationOfUnsecuredLines  age  \\\n",
       "1                 1                              0.766127   45   \n",
       "2                 0                              0.957151   40   \n",
       "3                 0                              0.658180   38   \n",
       "4                 0                              0.233810   30   \n",
       "5                 0                              0.907239   49   \n",
       "\n",
       "   NumberOfTime30-59DaysPastDueNotWorse  DebtRatio  MonthlyIncome  \\\n",
       "1                                     2   0.802982         9120.0   \n",
       "2                                     0   0.121876         2600.0   \n",
       "3                                     1   0.085113         3042.0   \n",
       "4                                     0   0.036050         3300.0   \n",
       "5                                     1   0.024926        63588.0   \n",
       "\n",
       "   NumberOfOpenCreditLinesAndLoans  NumberOfTimes90DaysLate  \\\n",
       "1                               13                        0   \n",
       "2                                4                        0   \n",
       "3                                2                        1   \n",
       "4                                5                        0   \n",
       "5                                7                        0   \n",
       "\n",
       "   NumberRealEstateLoansOrLines  NumberOfTime60-89DaysPastDueNotWorse  \\\n",
       "1                             6                                     0   \n",
       "2                             0                                     0   \n",
       "3                             0                                     0   \n",
       "4                             0                                     0   \n",
       "5                             1                                     0   \n",
       "\n",
       "   NumberOfDependents  \n",
       "1                 2.0  \n",
       "2                 1.0  \n",
       "3                 0.0  \n",
       "4                 0.0  \n",
       "5                 0.0  "
      ]
     },
     "execution_count": 2,
     "metadata": {},
     "output_type": "execute_result"
    }
   ],
   "source": [
    "data = pd.read_csv('./data/rankingcard.csv', index_col=0)\n",
    "data.head()"
   ]
  },
  {
   "cell_type": "code",
   "execution_count": 3,
   "metadata": {},
   "outputs": [
    {
     "data": {
      "text/plain": [
       "(150000, 11)"
      ]
     },
     "execution_count": 3,
     "metadata": {},
     "output_type": "execute_result"
    }
   ],
   "source": [
    "data.shape"
   ]
  },
  {
   "cell_type": "code",
   "execution_count": 4,
   "metadata": {},
   "outputs": [
    {
     "name": "stdout",
     "output_type": "stream",
     "text": [
      "<class 'pandas.core.frame.DataFrame'>\n",
      "Int64Index: 150000 entries, 1 to 150000\n",
      "Data columns (total 11 columns):\n",
      "SeriousDlqin2yrs                        150000 non-null int64\n",
      "RevolvingUtilizationOfUnsecuredLines    150000 non-null float64\n",
      "age                                     150000 non-null int64\n",
      "NumberOfTime30-59DaysPastDueNotWorse    150000 non-null int64\n",
      "DebtRatio                               150000 non-null float64\n",
      "MonthlyIncome                           120269 non-null float64\n",
      "NumberOfOpenCreditLinesAndLoans         150000 non-null int64\n",
      "NumberOfTimes90DaysLate                 150000 non-null int64\n",
      "NumberRealEstateLoansOrLines            150000 non-null int64\n",
      "NumberOfTime60-89DaysPastDueNotWorse    150000 non-null int64\n",
      "NumberOfDependents                      146076 non-null float64\n",
      "dtypes: float64(4), int64(7)\n",
      "memory usage: 13.7 MB\n"
     ]
    }
   ],
   "source": [
    "# NumberOfDependents 缺失大约3%的数据\n",
    "# MonthlyIncome 缺失20%的数据\n",
    "data.info()"
   ]
  },
  {
   "cell_type": "code",
   "execution_count": 5,
   "metadata": {},
   "outputs": [
    {
     "data": {
      "text/plain": [
       "0.97384"
      ]
     },
     "execution_count": 5,
     "metadata": {},
     "output_type": "execute_result"
    }
   ],
   "source": [
    "146076/ 150000.0"
   ]
  },
  {
   "cell_type": "code",
   "execution_count": 6,
   "metadata": {},
   "outputs": [],
   "source": [
    "# 去除重复数据\n",
    "data.drop_duplicates(inplace=True)"
   ]
  },
  {
   "cell_type": "code",
   "execution_count": 7,
   "metadata": {},
   "outputs": [
    {
     "name": "stdout",
     "output_type": "stream",
     "text": [
      "<class 'pandas.core.frame.DataFrame'>\n",
      "RangeIndex: 149391 entries, 0 to 149390\n",
      "Data columns (total 11 columns):\n",
      "SeriousDlqin2yrs                        149391 non-null int64\n",
      "RevolvingUtilizationOfUnsecuredLines    149391 non-null float64\n",
      "age                                     149391 non-null int64\n",
      "NumberOfTime30-59DaysPastDueNotWorse    149391 non-null int64\n",
      "DebtRatio                               149391 non-null float64\n",
      "MonthlyIncome                           120170 non-null float64\n",
      "NumberOfOpenCreditLinesAndLoans         149391 non-null int64\n",
      "NumberOfTimes90DaysLate                 149391 non-null int64\n",
      "NumberRealEstateLoansOrLines            149391 non-null int64\n",
      "NumberOfTime60-89DaysPastDueNotWorse    149391 non-null int64\n",
      "NumberOfDependents                      145563 non-null float64\n",
      "dtypes: float64(4), int64(7)\n",
      "memory usage: 12.5 MB\n"
     ]
    }
   ],
   "source": [
    "data.index = range(data.shape[0])\n",
    "data.info()"
   ]
  },
  {
   "cell_type": "code",
   "execution_count": 8,
   "metadata": {},
   "outputs": [
    {
     "data": {
      "text/plain": [
       "SeriousDlqin2yrs                        0.000000\n",
       "RevolvingUtilizationOfUnsecuredLines    0.000000\n",
       "age                                     0.000000\n",
       "NumberOfTime30-59DaysPastDueNotWorse    0.000000\n",
       "DebtRatio                               0.000000\n",
       "MonthlyIncome                           0.195601\n",
       "NumberOfOpenCreditLinesAndLoans         0.000000\n",
       "NumberOfTimes90DaysLate                 0.000000\n",
       "NumberRealEstateLoansOrLines            0.000000\n",
       "NumberOfTime60-89DaysPastDueNotWorse    0.000000\n",
       "NumberOfDependents                      0.025624\n",
       "dtype: float64"
      ]
     },
     "execution_count": 8,
     "metadata": {},
     "output_type": "execute_result"
    }
   ],
   "source": [
    "# 查看缺失值\n",
    "data.isnull().mean()"
   ]
  },
  {
   "cell_type": "code",
   "execution_count": 9,
   "metadata": {},
   "outputs": [],
   "source": [
    "# NumberOfDependents 不包括自己的家属总数\n",
    "data['NumberOfDependents'].fillna(int(data['NumberOfDependents'].mean()), inplace=True)"
   ]
  },
  {
   "cell_type": "code",
   "execution_count": 10,
   "metadata": {},
   "outputs": [
    {
     "data": {
      "text/plain": [
       "SeriousDlqin2yrs                        0.000000\n",
       "RevolvingUtilizationOfUnsecuredLines    0.000000\n",
       "age                                     0.000000\n",
       "NumberOfTime30-59DaysPastDueNotWorse    0.000000\n",
       "DebtRatio                               0.000000\n",
       "MonthlyIncome                           0.195601\n",
       "NumberOfOpenCreditLinesAndLoans         0.000000\n",
       "NumberOfTimes90DaysLate                 0.000000\n",
       "NumberRealEstateLoansOrLines            0.000000\n",
       "NumberOfTime60-89DaysPastDueNotWorse    0.000000\n",
       "NumberOfDependents                      0.000000\n",
       "dtype: float64"
      ]
     },
     "execution_count": 10,
     "metadata": {},
     "output_type": "execute_result"
    }
   ],
   "source": [
    "data.isnull().mean()"
   ]
  },
  {
   "cell_type": "code",
   "execution_count": 30,
   "metadata": {},
   "outputs": [],
   "source": [
    "# 对于MonthlyIncome 我们使用随机森林回归来填充值\n",
    "def fill_missing_rf(X, y, to_fill):\n",
    "    \"\"\"\n",
    "    使用随机森林填补一个特征缺失值\n",
    "    X: 要填补的特征矩阵\n",
    "    y: 完整的，没有缺失值的标签\n",
    "    to_fill: 字符串，要填补的那一列的名称\n",
    "    \"\"\"\n",
    "    \n",
    "    df = X.copy()\n",
    "    fill = df.loc[:, to_fill]\n",
    "    \n",
    "    # 构建新的特征矩阵\n",
    "    df = pd.concat([df.loc[:, df.columns != to_fill], pd.DataFrame(y)], axis=1)\n",
    "    \n",
    "    # 找出训练集和测试集\n",
    "    y_train = fill[fill.notnull()]\n",
    "    y_test = fill[fill.isnull()]\n",
    "    \n",
    "    x_train = df.iloc[y_train.index, :]\n",
    "    x_test = df.iloc[y_test.index, :]\n",
    "    \n",
    "    # 建立随机森林回归模型 来填补缺失值\n",
    "    from sklearn import ensemble\n",
    "    \n",
    "    rfr = ensemble.RandomForestRegressor(n_estimators=100).fit(x_train, y_train)\n",
    "    y_pred = rfr.predict(x_test)\n",
    "    \n",
    "    return y_pred\n",
    "    "
   ]
  },
  {
   "cell_type": "code",
   "execution_count": 31,
   "metadata": {},
   "outputs": [
    {
     "data": {
      "text/plain": [
       "(149391,)"
      ]
     },
     "execution_count": 31,
     "metadata": {},
     "output_type": "execute_result"
    }
   ],
   "source": [
    "X = data.iloc[:, 1:]\n",
    "y = data.iloc[:, 0]\n",
    "y.shape"
   ]
  },
  {
   "cell_type": "code",
   "execution_count": 32,
   "metadata": {},
   "outputs": [],
   "source": [
    "# 使用上面封装的函数进行填充缺失值\n",
    "y_pred = fill_missing_rf(X, y, 'MonthlyIncome')\n",
    "data.loc[data.loc[:, 'MonthlyIncome'].isnull(), 'MonthlyIncome'] = y_pred"
   ]
  },
  {
   "cell_type": "code",
   "execution_count": 33,
   "metadata": {},
   "outputs": [
    {
     "data": {
      "text/plain": [
       "SeriousDlqin2yrs                        0.0\n",
       "RevolvingUtilizationOfUnsecuredLines    0.0\n",
       "age                                     0.0\n",
       "NumberOfTime30-59DaysPastDueNotWorse    0.0\n",
       "DebtRatio                               0.0\n",
       "MonthlyIncome                           0.0\n",
       "NumberOfOpenCreditLinesAndLoans         0.0\n",
       "NumberOfTimes90DaysLate                 0.0\n",
       "NumberRealEstateLoansOrLines            0.0\n",
       "NumberOfTime60-89DaysPastDueNotWorse    0.0\n",
       "NumberOfDependents                      0.0\n",
       "dtype: float64"
      ]
     },
     "execution_count": 33,
     "metadata": {},
     "output_type": "execute_result"
    }
   ],
   "source": [
    "data.isnull().mean()"
   ]
  },
  {
   "cell_type": "code",
   "execution_count": 34,
   "metadata": {},
   "outputs": [
    {
     "data": {
      "text/html": [
       "<div>\n",
       "<style scoped>\n",
       "    .dataframe tbody tr th:only-of-type {\n",
       "        vertical-align: middle;\n",
       "    }\n",
       "\n",
       "    .dataframe tbody tr th {\n",
       "        vertical-align: top;\n",
       "    }\n",
       "\n",
       "    .dataframe thead th {\n",
       "        text-align: right;\n",
       "    }\n",
       "</style>\n",
       "<table border=\"1\" class=\"dataframe\">\n",
       "  <thead>\n",
       "    <tr style=\"text-align: right;\">\n",
       "      <th></th>\n",
       "      <th>count</th>\n",
       "      <th>mean</th>\n",
       "      <th>std</th>\n",
       "      <th>min</th>\n",
       "      <th>1%</th>\n",
       "      <th>10%</th>\n",
       "      <th>25%</th>\n",
       "      <th>50%</th>\n",
       "      <th>75%</th>\n",
       "      <th>90%</th>\n",
       "      <th>99%</th>\n",
       "      <th>max</th>\n",
       "    </tr>\n",
       "  </thead>\n",
       "  <tbody>\n",
       "    <tr>\n",
       "      <th>SeriousDlqin2yrs</th>\n",
       "      <td>149391.0</td>\n",
       "      <td>0.066999</td>\n",
       "      <td>0.250021</td>\n",
       "      <td>0.0</td>\n",
       "      <td>0.0</td>\n",
       "      <td>0.000000</td>\n",
       "      <td>0.000000</td>\n",
       "      <td>0.000000</td>\n",
       "      <td>0.000000</td>\n",
       "      <td>0.000000</td>\n",
       "      <td>1.000000</td>\n",
       "      <td>1.0</td>\n",
       "    </tr>\n",
       "    <tr>\n",
       "      <th>RevolvingUtilizationOfUnsecuredLines</th>\n",
       "      <td>149391.0</td>\n",
       "      <td>6.071087</td>\n",
       "      <td>250.263672</td>\n",
       "      <td>0.0</td>\n",
       "      <td>0.0</td>\n",
       "      <td>0.003199</td>\n",
       "      <td>0.030132</td>\n",
       "      <td>0.154235</td>\n",
       "      <td>0.556494</td>\n",
       "      <td>0.978007</td>\n",
       "      <td>1.093922</td>\n",
       "      <td>50708.0</td>\n",
       "    </tr>\n",
       "    <tr>\n",
       "      <th>age</th>\n",
       "      <td>149391.0</td>\n",
       "      <td>52.306237</td>\n",
       "      <td>14.725962</td>\n",
       "      <td>0.0</td>\n",
       "      <td>24.0</td>\n",
       "      <td>33.000000</td>\n",
       "      <td>41.000000</td>\n",
       "      <td>52.000000</td>\n",
       "      <td>63.000000</td>\n",
       "      <td>72.000000</td>\n",
       "      <td>87.000000</td>\n",
       "      <td>109.0</td>\n",
       "    </tr>\n",
       "    <tr>\n",
       "      <th>NumberOfTime30-59DaysPastDueNotWorse</th>\n",
       "      <td>149391.0</td>\n",
       "      <td>0.393886</td>\n",
       "      <td>3.852953</td>\n",
       "      <td>0.0</td>\n",
       "      <td>0.0</td>\n",
       "      <td>0.000000</td>\n",
       "      <td>0.000000</td>\n",
       "      <td>0.000000</td>\n",
       "      <td>0.000000</td>\n",
       "      <td>1.000000</td>\n",
       "      <td>4.000000</td>\n",
       "      <td>98.0</td>\n",
       "    </tr>\n",
       "    <tr>\n",
       "      <th>DebtRatio</th>\n",
       "      <td>149391.0</td>\n",
       "      <td>354.436740</td>\n",
       "      <td>2041.843455</td>\n",
       "      <td>0.0</td>\n",
       "      <td>0.0</td>\n",
       "      <td>0.034991</td>\n",
       "      <td>0.177441</td>\n",
       "      <td>0.368234</td>\n",
       "      <td>0.875279</td>\n",
       "      <td>1275.000000</td>\n",
       "      <td>4985.100000</td>\n",
       "      <td>329664.0</td>\n",
       "    </tr>\n",
       "    <tr>\n",
       "      <th>MonthlyIncome</th>\n",
       "      <td>149391.0</td>\n",
       "      <td>5425.894453</td>\n",
       "      <td>13259.218168</td>\n",
       "      <td>0.0</td>\n",
       "      <td>0.0</td>\n",
       "      <td>0.180000</td>\n",
       "      <td>1800.000000</td>\n",
       "      <td>4419.000000</td>\n",
       "      <td>7416.000000</td>\n",
       "      <td>10800.000000</td>\n",
       "      <td>23250.600000</td>\n",
       "      <td>3008750.0</td>\n",
       "    </tr>\n",
       "    <tr>\n",
       "      <th>NumberOfOpenCreditLinesAndLoans</th>\n",
       "      <td>149391.0</td>\n",
       "      <td>8.480892</td>\n",
       "      <td>5.136515</td>\n",
       "      <td>0.0</td>\n",
       "      <td>0.0</td>\n",
       "      <td>3.000000</td>\n",
       "      <td>5.000000</td>\n",
       "      <td>8.000000</td>\n",
       "      <td>11.000000</td>\n",
       "      <td>15.000000</td>\n",
       "      <td>24.000000</td>\n",
       "      <td>58.0</td>\n",
       "    </tr>\n",
       "    <tr>\n",
       "      <th>NumberOfTimes90DaysLate</th>\n",
       "      <td>149391.0</td>\n",
       "      <td>0.238120</td>\n",
       "      <td>3.826165</td>\n",
       "      <td>0.0</td>\n",
       "      <td>0.0</td>\n",
       "      <td>0.000000</td>\n",
       "      <td>0.000000</td>\n",
       "      <td>0.000000</td>\n",
       "      <td>0.000000</td>\n",
       "      <td>0.000000</td>\n",
       "      <td>3.000000</td>\n",
       "      <td>98.0</td>\n",
       "    </tr>\n",
       "    <tr>\n",
       "      <th>NumberRealEstateLoansOrLines</th>\n",
       "      <td>149391.0</td>\n",
       "      <td>1.022391</td>\n",
       "      <td>1.130196</td>\n",
       "      <td>0.0</td>\n",
       "      <td>0.0</td>\n",
       "      <td>0.000000</td>\n",
       "      <td>0.000000</td>\n",
       "      <td>1.000000</td>\n",
       "      <td>2.000000</td>\n",
       "      <td>2.000000</td>\n",
       "      <td>4.000000</td>\n",
       "      <td>54.0</td>\n",
       "    </tr>\n",
       "    <tr>\n",
       "      <th>NumberOfTime60-89DaysPastDueNotWorse</th>\n",
       "      <td>149391.0</td>\n",
       "      <td>0.212503</td>\n",
       "      <td>3.810523</td>\n",
       "      <td>0.0</td>\n",
       "      <td>0.0</td>\n",
       "      <td>0.000000</td>\n",
       "      <td>0.000000</td>\n",
       "      <td>0.000000</td>\n",
       "      <td>0.000000</td>\n",
       "      <td>0.000000</td>\n",
       "      <td>2.000000</td>\n",
       "      <td>98.0</td>\n",
       "    </tr>\n",
       "    <tr>\n",
       "      <th>NumberOfDependents</th>\n",
       "      <td>149391.0</td>\n",
       "      <td>0.740393</td>\n",
       "      <td>1.108272</td>\n",
       "      <td>0.0</td>\n",
       "      <td>0.0</td>\n",
       "      <td>0.000000</td>\n",
       "      <td>0.000000</td>\n",
       "      <td>0.000000</td>\n",
       "      <td>1.000000</td>\n",
       "      <td>2.000000</td>\n",
       "      <td>4.000000</td>\n",
       "      <td>20.0</td>\n",
       "    </tr>\n",
       "  </tbody>\n",
       "</table>\n",
       "</div>"
      ],
      "text/plain": [
       "                                         count         mean           std  \\\n",
       "SeriousDlqin2yrs                      149391.0     0.066999      0.250021   \n",
       "RevolvingUtilizationOfUnsecuredLines  149391.0     6.071087    250.263672   \n",
       "age                                   149391.0    52.306237     14.725962   \n",
       "NumberOfTime30-59DaysPastDueNotWorse  149391.0     0.393886      3.852953   \n",
       "DebtRatio                             149391.0   354.436740   2041.843455   \n",
       "MonthlyIncome                         149391.0  5425.894453  13259.218168   \n",
       "NumberOfOpenCreditLinesAndLoans       149391.0     8.480892      5.136515   \n",
       "NumberOfTimes90DaysLate               149391.0     0.238120      3.826165   \n",
       "NumberRealEstateLoansOrLines          149391.0     1.022391      1.130196   \n",
       "NumberOfTime60-89DaysPastDueNotWorse  149391.0     0.212503      3.810523   \n",
       "NumberOfDependents                    149391.0     0.740393      1.108272   \n",
       "\n",
       "                                      min    1%        10%          25%  \\\n",
       "SeriousDlqin2yrs                      0.0   0.0   0.000000     0.000000   \n",
       "RevolvingUtilizationOfUnsecuredLines  0.0   0.0   0.003199     0.030132   \n",
       "age                                   0.0  24.0  33.000000    41.000000   \n",
       "NumberOfTime30-59DaysPastDueNotWorse  0.0   0.0   0.000000     0.000000   \n",
       "DebtRatio                             0.0   0.0   0.034991     0.177441   \n",
       "MonthlyIncome                         0.0   0.0   0.180000  1800.000000   \n",
       "NumberOfOpenCreditLinesAndLoans       0.0   0.0   3.000000     5.000000   \n",
       "NumberOfTimes90DaysLate               0.0   0.0   0.000000     0.000000   \n",
       "NumberRealEstateLoansOrLines          0.0   0.0   0.000000     0.000000   \n",
       "NumberOfTime60-89DaysPastDueNotWorse  0.0   0.0   0.000000     0.000000   \n",
       "NumberOfDependents                    0.0   0.0   0.000000     0.000000   \n",
       "\n",
       "                                              50%          75%           90%  \\\n",
       "SeriousDlqin2yrs                         0.000000     0.000000      0.000000   \n",
       "RevolvingUtilizationOfUnsecuredLines     0.154235     0.556494      0.978007   \n",
       "age                                     52.000000    63.000000     72.000000   \n",
       "NumberOfTime30-59DaysPastDueNotWorse     0.000000     0.000000      1.000000   \n",
       "DebtRatio                                0.368234     0.875279   1275.000000   \n",
       "MonthlyIncome                         4419.000000  7416.000000  10800.000000   \n",
       "NumberOfOpenCreditLinesAndLoans          8.000000    11.000000     15.000000   \n",
       "NumberOfTimes90DaysLate                  0.000000     0.000000      0.000000   \n",
       "NumberRealEstateLoansOrLines             1.000000     2.000000      2.000000   \n",
       "NumberOfTime60-89DaysPastDueNotWorse     0.000000     0.000000      0.000000   \n",
       "NumberOfDependents                       0.000000     1.000000      2.000000   \n",
       "\n",
       "                                               99%        max  \n",
       "SeriousDlqin2yrs                          1.000000        1.0  \n",
       "RevolvingUtilizationOfUnsecuredLines      1.093922    50708.0  \n",
       "age                                      87.000000      109.0  \n",
       "NumberOfTime30-59DaysPastDueNotWorse      4.000000       98.0  \n",
       "DebtRatio                              4985.100000   329664.0  \n",
       "MonthlyIncome                         23250.600000  3008750.0  \n",
       "NumberOfOpenCreditLinesAndLoans          24.000000       58.0  \n",
       "NumberOfTimes90DaysLate                   3.000000       98.0  \n",
       "NumberRealEstateLoansOrLines              4.000000       54.0  \n",
       "NumberOfTime60-89DaysPastDueNotWorse      2.000000       98.0  \n",
       "NumberOfDependents                        4.000000       20.0  "
      ]
     },
     "execution_count": 34,
     "metadata": {},
     "output_type": "execute_result"
    }
   ],
   "source": [
    "# 描述性统计处理异常值\n",
    "data.describe([0.01, 0.1, 0.25, 0.50, 0.75, 0.9, 0.99]).T"
   ]
  },
  {
   "cell_type": "code",
   "execution_count": 36,
   "metadata": {},
   "outputs": [
    {
     "data": {
      "text/plain": [
       "1"
      ]
     },
     "execution_count": 36,
     "metadata": {},
     "output_type": "execute_result"
    }
   ],
   "source": [
    "# 年龄最小值为0，这不符合银行的业务需求，即使是儿童账户也要至少8岁\n",
    "(data['age'] == 0).sum()"
   ]
  },
  {
   "cell_type": "code",
   "execution_count": 39,
   "metadata": {},
   "outputs": [],
   "source": [
    "data = data[data['age'] != 0]"
   ]
  },
  {
   "cell_type": "code",
   "execution_count": 41,
   "metadata": {},
   "outputs": [
    {
     "data": {
      "text/plain": [
       "SeriousDlqin2yrs                        225\n",
       "RevolvingUtilizationOfUnsecuredLines    225\n",
       "age                                     225\n",
       "NumberOfTime30-59DaysPastDueNotWorse    225\n",
       "DebtRatio                               225\n",
       "MonthlyIncome                           225\n",
       "NumberOfOpenCreditLinesAndLoans         225\n",
       "NumberOfTimes90DaysLate                 225\n",
       "NumberRealEstateLoansOrLines            225\n",
       "NumberOfTime60-89DaysPastDueNotWorse    225\n",
       "NumberOfDependents                      225\n",
       "dtype: int64"
      ]
     },
     "execution_count": 41,
     "metadata": {},
     "output_type": "execute_result"
    }
   ],
   "source": [
    "# 另外还有三个指标不正常 \n",
    "# NumberOfTime30-59DaysPastDueNotWorse \n",
    "# NumberOfTimes90DaysLate\n",
    "# NumberOfTime60-89DaysPastDueNotWorse\n",
    "\n",
    "data[data['NumberOfTime30-59DaysPastDueNotWorse'] > 90].count()"
   ]
  },
  {
   "cell_type": "code",
   "execution_count": 42,
   "metadata": {},
   "outputs": [],
   "source": [
    "# 剔除大于90的数据\n",
    "data = data[data['NumberOfTime30-59DaysPastDueNotWorse'] < 90]"
   ]
  },
  {
   "cell_type": "code",
   "execution_count": 43,
   "metadata": {},
   "outputs": [
    {
     "data": {
      "text/plain": [
       "SeriousDlqin2yrs                        0\n",
       "RevolvingUtilizationOfUnsecuredLines    0\n",
       "age                                     0\n",
       "NumberOfTime30-59DaysPastDueNotWorse    0\n",
       "DebtRatio                               0\n",
       "MonthlyIncome                           0\n",
       "NumberOfOpenCreditLinesAndLoans         0\n",
       "NumberOfTimes90DaysLate                 0\n",
       "NumberRealEstateLoansOrLines            0\n",
       "NumberOfTime60-89DaysPastDueNotWorse    0\n",
       "NumberOfDependents                      0\n",
       "dtype: int64"
      ]
     },
     "execution_count": 43,
     "metadata": {},
     "output_type": "execute_result"
    }
   ],
   "source": [
    "data[data['NumberOfTimes90DaysLate'] > 90].count()"
   ]
  },
  {
   "cell_type": "code",
   "execution_count": 44,
   "metadata": {},
   "outputs": [
    {
     "data": {
      "text/plain": [
       "SeriousDlqin2yrs                        0\n",
       "RevolvingUtilizationOfUnsecuredLines    0\n",
       "age                                     0\n",
       "NumberOfTime30-59DaysPastDueNotWorse    0\n",
       "DebtRatio                               0\n",
       "MonthlyIncome                           0\n",
       "NumberOfOpenCreditLinesAndLoans         0\n",
       "NumberOfTimes90DaysLate                 0\n",
       "NumberRealEstateLoansOrLines            0\n",
       "NumberOfTime60-89DaysPastDueNotWorse    0\n",
       "NumberOfDependents                      0\n",
       "dtype: int64"
      ]
     },
     "execution_count": 44,
     "metadata": {},
     "output_type": "execute_result"
    }
   ],
   "source": [
    "data[data['NumberOfTime60-89DaysPastDueNotWorse'] > 90].count()"
   ]
  },
  {
   "cell_type": "code",
   "execution_count": 45,
   "metadata": {},
   "outputs": [
    {
     "name": "stdout",
     "output_type": "stream",
     "text": [
      "<class 'pandas.core.frame.DataFrame'>\n",
      "RangeIndex: 149165 entries, 0 to 149164\n",
      "Data columns (total 11 columns):\n",
      "SeriousDlqin2yrs                        149165 non-null int64\n",
      "RevolvingUtilizationOfUnsecuredLines    149165 non-null float64\n",
      "age                                     149165 non-null int64\n",
      "NumberOfTime30-59DaysPastDueNotWorse    149165 non-null int64\n",
      "DebtRatio                               149165 non-null float64\n",
      "MonthlyIncome                           149165 non-null float64\n",
      "NumberOfOpenCreditLinesAndLoans         149165 non-null int64\n",
      "NumberOfTimes90DaysLate                 149165 non-null int64\n",
      "NumberRealEstateLoansOrLines            149165 non-null int64\n",
      "NumberOfTime60-89DaysPastDueNotWorse    149165 non-null int64\n",
      "NumberOfDependents                      149165 non-null float64\n",
      "dtypes: float64(4), int64(7)\n",
      "memory usage: 12.5 MB\n"
     ]
    }
   ],
   "source": [
    "# 恢复索引\n",
    "data.index = range(data.shape[0])\n",
    "data.info()"
   ]
  },
  {
   "cell_type": "code",
   "execution_count": 46,
   "metadata": {},
   "outputs": [
    {
     "data": {
      "text/plain": [
       "0    139292\n",
       "1      9873\n",
       "Name: SeriousDlqin2yrs, dtype: int64"
      ]
     },
     "execution_count": 46,
     "metadata": {},
     "output_type": "execute_result"
    }
   ],
   "source": [
    "X = data.iloc[:, 1:]\n",
    "y = data.iloc[:, 0]\n",
    "y.value_counts()"
   ]
  },
  {
   "cell_type": "code",
   "execution_count": 48,
   "metadata": {},
   "outputs": [
    {
     "data": {
      "text/plain": [
       "1    139292\n",
       "0    139292\n",
       "dtype: int64"
      ]
     },
     "execution_count": 48,
     "metadata": {},
     "output_type": "execute_result"
    }
   ],
   "source": [
    "# 样本不均衡问题 上采样 下采样\n",
    "sm = over_sampling.SMOTE(random_state=66)\n",
    "X, y = sm.fit_sample(X, y)\n",
    "pd.Series(y).value_counts()"
   ]
  },
  {
   "cell_type": "code",
   "execution_count": 50,
   "metadata": {},
   "outputs": [],
   "source": [
    "# 然后划分训练集和测试集\n",
    "X = pd.DataFrame(X)\n",
    "y = pd.DataFrame(y)\n",
    "x_train, x_test, y_train, y_test = model_selection.train_test_split(X, y, test_size=0.3, random_state=66)\n"
   ]
  },
  {
   "cell_type": "code",
   "execution_count": 51,
   "metadata": {},
   "outputs": [
    {
     "data": {
      "text/plain": [
       "(195008, 10)"
      ]
     },
     "execution_count": 51,
     "metadata": {},
     "output_type": "execute_result"
    }
   ],
   "source": [
    "x_train.shape"
   ]
  },
  {
   "cell_type": "code",
   "execution_count": 52,
   "metadata": {},
   "outputs": [
    {
     "data": {
      "text/html": [
       "<div>\n",
       "<style scoped>\n",
       "    .dataframe tbody tr th:only-of-type {\n",
       "        vertical-align: middle;\n",
       "    }\n",
       "\n",
       "    .dataframe tbody tr th {\n",
       "        vertical-align: top;\n",
       "    }\n",
       "\n",
       "    .dataframe thead th {\n",
       "        text-align: right;\n",
       "    }\n",
       "</style>\n",
       "<table border=\"1\" class=\"dataframe\">\n",
       "  <thead>\n",
       "    <tr style=\"text-align: right;\">\n",
       "      <th></th>\n",
       "      <th>0</th>\n",
       "      <th>1</th>\n",
       "      <th>2</th>\n",
       "      <th>3</th>\n",
       "      <th>4</th>\n",
       "      <th>5</th>\n",
       "      <th>6</th>\n",
       "      <th>7</th>\n",
       "      <th>8</th>\n",
       "      <th>9</th>\n",
       "    </tr>\n",
       "  </thead>\n",
       "  <tbody>\n",
       "    <tr>\n",
       "      <th>33594</th>\n",
       "      <td>0.049337</td>\n",
       "      <td>53.000000</td>\n",
       "      <td>0.000000</td>\n",
       "      <td>805.000000</td>\n",
       "      <td>0.490000</td>\n",
       "      <td>12.000000</td>\n",
       "      <td>0.0</td>\n",
       "      <td>1.000000</td>\n",
       "      <td>0.00000</td>\n",
       "      <td>0.000000</td>\n",
       "    </tr>\n",
       "    <tr>\n",
       "      <th>194031</th>\n",
       "      <td>0.491558</td>\n",
       "      <td>44.543111</td>\n",
       "      <td>1.000000</td>\n",
       "      <td>0.327845</td>\n",
       "      <td>6045.913777</td>\n",
       "      <td>4.514370</td>\n",
       "      <td>0.0</td>\n",
       "      <td>1.514370</td>\n",
       "      <td>0.51437</td>\n",
       "      <td>1.456889</td>\n",
       "    </tr>\n",
       "    <tr>\n",
       "      <th>129142</th>\n",
       "      <td>0.005643</td>\n",
       "      <td>69.000000</td>\n",
       "      <td>0.000000</td>\n",
       "      <td>0.315537</td>\n",
       "      <td>5000.000000</td>\n",
       "      <td>9.000000</td>\n",
       "      <td>0.0</td>\n",
       "      <td>1.000000</td>\n",
       "      <td>0.00000</td>\n",
       "      <td>1.000000</td>\n",
       "    </tr>\n",
       "    <tr>\n",
       "      <th>233862</th>\n",
       "      <td>0.475414</td>\n",
       "      <td>32.620861</td>\n",
       "      <td>1.137418</td>\n",
       "      <td>0.779157</td>\n",
       "      <td>3800.000000</td>\n",
       "      <td>9.758279</td>\n",
       "      <td>0.0</td>\n",
       "      <td>1.758279</td>\n",
       "      <td>0.00000</td>\n",
       "      <td>1.516558</td>\n",
       "    </tr>\n",
       "    <tr>\n",
       "      <th>96721</th>\n",
       "      <td>0.257248</td>\n",
       "      <td>43.000000</td>\n",
       "      <td>0.000000</td>\n",
       "      <td>0.626258</td>\n",
       "      <td>10731.000000</td>\n",
       "      <td>7.000000</td>\n",
       "      <td>0.0</td>\n",
       "      <td>4.000000</td>\n",
       "      <td>0.00000</td>\n",
       "      <td>4.000000</td>\n",
       "    </tr>\n",
       "  </tbody>\n",
       "</table>\n",
       "</div>"
      ],
      "text/plain": [
       "               0          1         2           3             4          5  \\\n",
       "33594   0.049337  53.000000  0.000000  805.000000      0.490000  12.000000   \n",
       "194031  0.491558  44.543111  1.000000    0.327845   6045.913777   4.514370   \n",
       "129142  0.005643  69.000000  0.000000    0.315537   5000.000000   9.000000   \n",
       "233862  0.475414  32.620861  1.137418    0.779157   3800.000000   9.758279   \n",
       "96721   0.257248  43.000000  0.000000    0.626258  10731.000000   7.000000   \n",
       "\n",
       "          6         7        8         9  \n",
       "33594   0.0  1.000000  0.00000  0.000000  \n",
       "194031  0.0  1.514370  0.51437  1.456889  \n",
       "129142  0.0  1.000000  0.00000  1.000000  \n",
       "233862  0.0  1.758279  0.00000  1.516558  \n",
       "96721   0.0  4.000000  0.00000  4.000000  "
      ]
     },
     "execution_count": 52,
     "metadata": {},
     "output_type": "execute_result"
    }
   ],
   "source": [
    "x_train.head()"
   ]
  },
  {
   "cell_type": "code",
   "execution_count": 53,
   "metadata": {},
   "outputs": [],
   "source": [
    "# 训练集\n",
    "train_data = pd.concat([y_train, x_train], axis=1)\n",
    "train_data.index = range(train_data.shape[0])\n",
    "train_data.columns = data.columns"
   ]
  },
  {
   "cell_type": "code",
   "execution_count": 54,
   "metadata": {},
   "outputs": [],
   "source": [
    "# 测试集\n",
    "test_data = pd.concat([y_test, x_test], axis=1)\n",
    "test_data.index = range(test_data.shape[0])\n",
    "test_data.columns = data.columns"
   ]
  },
  {
   "cell_type": "code",
   "execution_count": 55,
   "metadata": {},
   "outputs": [],
   "source": [
    "# 暂存数据\n",
    "train_data.to_csv('./temp/train_data.csv', index=False)\n",
    "test_data.to_csv('./temp/test_data.csv', index=False)"
   ]
  },
  {
   "cell_type": "code",
   "execution_count": 57,
   "metadata": {},
   "outputs": [],
   "source": [
    "# 分箱\n",
    "train_data['qcut'], updown = pd.qcut(train_data['age'], retbins=True, q=20)"
   ]
  },
  {
   "cell_type": "code",
   "execution_count": 60,
   "metadata": {},
   "outputs": [
    {
     "data": {
      "text/plain": [
       "array([ 21.        ,  28.        ,  31.16507784,  34.        ,\n",
       "        36.78613779,  39.        ,  41.        ,  43.        ,\n",
       "        45.        ,  47.        ,  48.50354335,  50.00248948,\n",
       "        52.        ,  54.        ,  56.        ,  58.68737398,\n",
       "        61.        ,  64.        ,  68.        ,  74.        ,\n",
       "       107.        ])"
      ]
     },
     "execution_count": 60,
     "metadata": {},
     "output_type": "execute_result"
    }
   ],
   "source": [
    "updown"
   ]
  },
  {
   "cell_type": "code",
   "execution_count": 63,
   "metadata": {},
   "outputs": [
    {
     "data": {
      "text/html": [
       "<div>\n",
       "<style scoped>\n",
       "    .dataframe tbody tr th:only-of-type {\n",
       "        vertical-align: middle;\n",
       "    }\n",
       "\n",
       "    .dataframe tbody tr th {\n",
       "        vertical-align: top;\n",
       "    }\n",
       "\n",
       "    .dataframe thead th {\n",
       "        text-align: right;\n",
       "    }\n",
       "</style>\n",
       "<table border=\"1\" class=\"dataframe\">\n",
       "  <thead>\n",
       "    <tr style=\"text-align: right;\">\n",
       "      <th></th>\n",
       "      <th>SeriousDlqin2yrs</th>\n",
       "      <th>RevolvingUtilizationOfUnsecuredLines</th>\n",
       "      <th>age</th>\n",
       "      <th>NumberOfTime30-59DaysPastDueNotWorse</th>\n",
       "      <th>DebtRatio</th>\n",
       "      <th>MonthlyIncome</th>\n",
       "      <th>NumberOfOpenCreditLinesAndLoans</th>\n",
       "      <th>NumberOfTimes90DaysLate</th>\n",
       "      <th>NumberRealEstateLoansOrLines</th>\n",
       "      <th>NumberOfTime60-89DaysPastDueNotWorse</th>\n",
       "      <th>NumberOfDependents</th>\n",
       "    </tr>\n",
       "    <tr>\n",
       "      <th>qcut</th>\n",
       "      <th></th>\n",
       "      <th></th>\n",
       "      <th></th>\n",
       "      <th></th>\n",
       "      <th></th>\n",
       "      <th></th>\n",
       "      <th></th>\n",
       "      <th></th>\n",
       "      <th></th>\n",
       "      <th></th>\n",
       "      <th></th>\n",
       "    </tr>\n",
       "  </thead>\n",
       "  <tbody>\n",
       "    <tr>\n",
       "      <th>(20.999, 28.0]</th>\n",
       "      <td>4222</td>\n",
       "      <td>4222</td>\n",
       "      <td>4222</td>\n",
       "      <td>4222</td>\n",
       "      <td>4222</td>\n",
       "      <td>4222</td>\n",
       "      <td>4222</td>\n",
       "      <td>4222</td>\n",
       "      <td>4222</td>\n",
       "      <td>4222</td>\n",
       "      <td>4222</td>\n",
       "    </tr>\n",
       "    <tr>\n",
       "      <th>(28.0, 31.165]</th>\n",
       "      <td>3497</td>\n",
       "      <td>3497</td>\n",
       "      <td>3497</td>\n",
       "      <td>3497</td>\n",
       "      <td>3497</td>\n",
       "      <td>3497</td>\n",
       "      <td>3497</td>\n",
       "      <td>3497</td>\n",
       "      <td>3497</td>\n",
       "      <td>3497</td>\n",
       "      <td>3497</td>\n",
       "    </tr>\n",
       "    <tr>\n",
       "      <th>(31.165, 34.0]</th>\n",
       "      <td>3999</td>\n",
       "      <td>3999</td>\n",
       "      <td>3999</td>\n",
       "      <td>3999</td>\n",
       "      <td>3999</td>\n",
       "      <td>3999</td>\n",
       "      <td>3999</td>\n",
       "      <td>3999</td>\n",
       "      <td>3999</td>\n",
       "      <td>3999</td>\n",
       "      <td>3999</td>\n",
       "    </tr>\n",
       "    <tr>\n",
       "      <th>(34.0, 36.786]</th>\n",
       "      <td>2904</td>\n",
       "      <td>2904</td>\n",
       "      <td>2904</td>\n",
       "      <td>2904</td>\n",
       "      <td>2904</td>\n",
       "      <td>2904</td>\n",
       "      <td>2904</td>\n",
       "      <td>2904</td>\n",
       "      <td>2904</td>\n",
       "      <td>2904</td>\n",
       "      <td>2904</td>\n",
       "    </tr>\n",
       "    <tr>\n",
       "      <th>(36.786, 39.0]</th>\n",
       "      <td>5156</td>\n",
       "      <td>5156</td>\n",
       "      <td>5156</td>\n",
       "      <td>5156</td>\n",
       "      <td>5156</td>\n",
       "      <td>5156</td>\n",
       "      <td>5156</td>\n",
       "      <td>5156</td>\n",
       "      <td>5156</td>\n",
       "      <td>5156</td>\n",
       "      <td>5156</td>\n",
       "    </tr>\n",
       "    <tr>\n",
       "      <th>(39.0, 41.0]</th>\n",
       "      <td>3966</td>\n",
       "      <td>3966</td>\n",
       "      <td>3966</td>\n",
       "      <td>3966</td>\n",
       "      <td>3966</td>\n",
       "      <td>3966</td>\n",
       "      <td>3966</td>\n",
       "      <td>3966</td>\n",
       "      <td>3966</td>\n",
       "      <td>3966</td>\n",
       "      <td>3966</td>\n",
       "    </tr>\n",
       "    <tr>\n",
       "      <th>(41.0, 43.0]</th>\n",
       "      <td>4029</td>\n",
       "      <td>4029</td>\n",
       "      <td>4029</td>\n",
       "      <td>4029</td>\n",
       "      <td>4029</td>\n",
       "      <td>4029</td>\n",
       "      <td>4029</td>\n",
       "      <td>4029</td>\n",
       "      <td>4029</td>\n",
       "      <td>4029</td>\n",
       "      <td>4029</td>\n",
       "    </tr>\n",
       "    <tr>\n",
       "      <th>(43.0, 45.0]</th>\n",
       "      <td>4443</td>\n",
       "      <td>4443</td>\n",
       "      <td>4443</td>\n",
       "      <td>4443</td>\n",
       "      <td>4443</td>\n",
       "      <td>4443</td>\n",
       "      <td>4443</td>\n",
       "      <td>4443</td>\n",
       "      <td>4443</td>\n",
       "      <td>4443</td>\n",
       "      <td>4443</td>\n",
       "    </tr>\n",
       "    <tr>\n",
       "      <th>(45.0, 47.0]</th>\n",
       "      <td>4769</td>\n",
       "      <td>4769</td>\n",
       "      <td>4769</td>\n",
       "      <td>4769</td>\n",
       "      <td>4769</td>\n",
       "      <td>4769</td>\n",
       "      <td>4769</td>\n",
       "      <td>4769</td>\n",
       "      <td>4769</td>\n",
       "      <td>4769</td>\n",
       "      <td>4769</td>\n",
       "    </tr>\n",
       "    <tr>\n",
       "      <th>(47.0, 48.504]</th>\n",
       "      <td>2468</td>\n",
       "      <td>2468</td>\n",
       "      <td>2468</td>\n",
       "      <td>2468</td>\n",
       "      <td>2468</td>\n",
       "      <td>2468</td>\n",
       "      <td>2468</td>\n",
       "      <td>2468</td>\n",
       "      <td>2468</td>\n",
       "      <td>2468</td>\n",
       "      <td>2468</td>\n",
       "    </tr>\n",
       "    <tr>\n",
       "      <th>(48.504, 50.002]</th>\n",
       "      <td>4886</td>\n",
       "      <td>4886</td>\n",
       "      <td>4886</td>\n",
       "      <td>4886</td>\n",
       "      <td>4886</td>\n",
       "      <td>4886</td>\n",
       "      <td>4886</td>\n",
       "      <td>4886</td>\n",
       "      <td>4886</td>\n",
       "      <td>4886</td>\n",
       "      <td>4886</td>\n",
       "    </tr>\n",
       "    <tr>\n",
       "      <th>(50.002, 52.0]</th>\n",
       "      <td>4633</td>\n",
       "      <td>4633</td>\n",
       "      <td>4633</td>\n",
       "      <td>4633</td>\n",
       "      <td>4633</td>\n",
       "      <td>4633</td>\n",
       "      <td>4633</td>\n",
       "      <td>4633</td>\n",
       "      <td>4633</td>\n",
       "      <td>4633</td>\n",
       "      <td>4633</td>\n",
       "    </tr>\n",
       "    <tr>\n",
       "      <th>(52.0, 54.0]</th>\n",
       "      <td>4706</td>\n",
       "      <td>4706</td>\n",
       "      <td>4706</td>\n",
       "      <td>4706</td>\n",
       "      <td>4706</td>\n",
       "      <td>4706</td>\n",
       "      <td>4706</td>\n",
       "      <td>4706</td>\n",
       "      <td>4706</td>\n",
       "      <td>4706</td>\n",
       "      <td>4706</td>\n",
       "    </tr>\n",
       "    <tr>\n",
       "      <th>(54.0, 56.0]</th>\n",
       "      <td>4595</td>\n",
       "      <td>4595</td>\n",
       "      <td>4595</td>\n",
       "      <td>4595</td>\n",
       "      <td>4595</td>\n",
       "      <td>4595</td>\n",
       "      <td>4595</td>\n",
       "      <td>4595</td>\n",
       "      <td>4595</td>\n",
       "      <td>4595</td>\n",
       "      <td>4595</td>\n",
       "    </tr>\n",
       "    <tr>\n",
       "      <th>(56.0, 58.687]</th>\n",
       "      <td>4491</td>\n",
       "      <td>4491</td>\n",
       "      <td>4491</td>\n",
       "      <td>4491</td>\n",
       "      <td>4491</td>\n",
       "      <td>4491</td>\n",
       "      <td>4491</td>\n",
       "      <td>4491</td>\n",
       "      <td>4491</td>\n",
       "      <td>4491</td>\n",
       "      <td>4491</td>\n",
       "    </tr>\n",
       "    <tr>\n",
       "      <th>(58.687, 61.0]</th>\n",
       "      <td>6646</td>\n",
       "      <td>6646</td>\n",
       "      <td>6646</td>\n",
       "      <td>6646</td>\n",
       "      <td>6646</td>\n",
       "      <td>6646</td>\n",
       "      <td>6646</td>\n",
       "      <td>6646</td>\n",
       "      <td>6646</td>\n",
       "      <td>6646</td>\n",
       "      <td>6646</td>\n",
       "    </tr>\n",
       "    <tr>\n",
       "      <th>(61.0, 64.0]</th>\n",
       "      <td>7001</td>\n",
       "      <td>7001</td>\n",
       "      <td>7001</td>\n",
       "      <td>7001</td>\n",
       "      <td>7001</td>\n",
       "      <td>7001</td>\n",
       "      <td>7001</td>\n",
       "      <td>7001</td>\n",
       "      <td>7001</td>\n",
       "      <td>7001</td>\n",
       "      <td>7001</td>\n",
       "    </tr>\n",
       "    <tr>\n",
       "      <th>(64.0, 68.0]</th>\n",
       "      <td>6683</td>\n",
       "      <td>6683</td>\n",
       "      <td>6683</td>\n",
       "      <td>6683</td>\n",
       "      <td>6683</td>\n",
       "      <td>6683</td>\n",
       "      <td>6683</td>\n",
       "      <td>6683</td>\n",
       "      <td>6683</td>\n",
       "      <td>6683</td>\n",
       "      <td>6683</td>\n",
       "    </tr>\n",
       "    <tr>\n",
       "      <th>(68.0, 74.0]</th>\n",
       "      <td>6698</td>\n",
       "      <td>6698</td>\n",
       "      <td>6698</td>\n",
       "      <td>6698</td>\n",
       "      <td>6698</td>\n",
       "      <td>6698</td>\n",
       "      <td>6698</td>\n",
       "      <td>6698</td>\n",
       "      <td>6698</td>\n",
       "      <td>6698</td>\n",
       "      <td>6698</td>\n",
       "    </tr>\n",
       "    <tr>\n",
       "      <th>(74.0, 107.0]</th>\n",
       "      <td>7759</td>\n",
       "      <td>7759</td>\n",
       "      <td>7759</td>\n",
       "      <td>7759</td>\n",
       "      <td>7759</td>\n",
       "      <td>7759</td>\n",
       "      <td>7759</td>\n",
       "      <td>7759</td>\n",
       "      <td>7759</td>\n",
       "      <td>7759</td>\n",
       "      <td>7759</td>\n",
       "    </tr>\n",
       "  </tbody>\n",
       "</table>\n",
       "</div>"
      ],
      "text/plain": [
       "                  SeriousDlqin2yrs  RevolvingUtilizationOfUnsecuredLines  \\\n",
       "qcut                                                                       \n",
       "(20.999, 28.0]                4222                                  4222   \n",
       "(28.0, 31.165]                3497                                  3497   \n",
       "(31.165, 34.0]                3999                                  3999   \n",
       "(34.0, 36.786]                2904                                  2904   \n",
       "(36.786, 39.0]                5156                                  5156   \n",
       "(39.0, 41.0]                  3966                                  3966   \n",
       "(41.0, 43.0]                  4029                                  4029   \n",
       "(43.0, 45.0]                  4443                                  4443   \n",
       "(45.0, 47.0]                  4769                                  4769   \n",
       "(47.0, 48.504]                2468                                  2468   \n",
       "(48.504, 50.002]              4886                                  4886   \n",
       "(50.002, 52.0]                4633                                  4633   \n",
       "(52.0, 54.0]                  4706                                  4706   \n",
       "(54.0, 56.0]                  4595                                  4595   \n",
       "(56.0, 58.687]                4491                                  4491   \n",
       "(58.687, 61.0]                6646                                  6646   \n",
       "(61.0, 64.0]                  7001                                  7001   \n",
       "(64.0, 68.0]                  6683                                  6683   \n",
       "(68.0, 74.0]                  6698                                  6698   \n",
       "(74.0, 107.0]                 7759                                  7759   \n",
       "\n",
       "                   age  NumberOfTime30-59DaysPastDueNotWorse  DebtRatio  \\\n",
       "qcut                                                                      \n",
       "(20.999, 28.0]    4222                                  4222       4222   \n",
       "(28.0, 31.165]    3497                                  3497       3497   \n",
       "(31.165, 34.0]    3999                                  3999       3999   \n",
       "(34.0, 36.786]    2904                                  2904       2904   \n",
       "(36.786, 39.0]    5156                                  5156       5156   \n",
       "(39.0, 41.0]      3966                                  3966       3966   \n",
       "(41.0, 43.0]      4029                                  4029       4029   \n",
       "(43.0, 45.0]      4443                                  4443       4443   \n",
       "(45.0, 47.0]      4769                                  4769       4769   \n",
       "(47.0, 48.504]    2468                                  2468       2468   \n",
       "(48.504, 50.002]  4886                                  4886       4886   \n",
       "(50.002, 52.0]    4633                                  4633       4633   \n",
       "(52.0, 54.0]      4706                                  4706       4706   \n",
       "(54.0, 56.0]      4595                                  4595       4595   \n",
       "(56.0, 58.687]    4491                                  4491       4491   \n",
       "(58.687, 61.0]    6646                                  6646       6646   \n",
       "(61.0, 64.0]      7001                                  7001       7001   \n",
       "(64.0, 68.0]      6683                                  6683       6683   \n",
       "(68.0, 74.0]      6698                                  6698       6698   \n",
       "(74.0, 107.0]     7759                                  7759       7759   \n",
       "\n",
       "                  MonthlyIncome  NumberOfOpenCreditLinesAndLoans  \\\n",
       "qcut                                                               \n",
       "(20.999, 28.0]             4222                             4222   \n",
       "(28.0, 31.165]             3497                             3497   \n",
       "(31.165, 34.0]             3999                             3999   \n",
       "(34.0, 36.786]             2904                             2904   \n",
       "(36.786, 39.0]             5156                             5156   \n",
       "(39.0, 41.0]               3966                             3966   \n",
       "(41.0, 43.0]               4029                             4029   \n",
       "(43.0, 45.0]               4443                             4443   \n",
       "(45.0, 47.0]               4769                             4769   \n",
       "(47.0, 48.504]             2468                             2468   \n",
       "(48.504, 50.002]           4886                             4886   \n",
       "(50.002, 52.0]             4633                             4633   \n",
       "(52.0, 54.0]               4706                             4706   \n",
       "(54.0, 56.0]               4595                             4595   \n",
       "(56.0, 58.687]             4491                             4491   \n",
       "(58.687, 61.0]             6646                             6646   \n",
       "(61.0, 64.0]               7001                             7001   \n",
       "(64.0, 68.0]               6683                             6683   \n",
       "(68.0, 74.0]               6698                             6698   \n",
       "(74.0, 107.0]              7759                             7759   \n",
       "\n",
       "                  NumberOfTimes90DaysLate  NumberRealEstateLoansOrLines  \\\n",
       "qcut                                                                      \n",
       "(20.999, 28.0]                       4222                          4222   \n",
       "(28.0, 31.165]                       3497                          3497   \n",
       "(31.165, 34.0]                       3999                          3999   \n",
       "(34.0, 36.786]                       2904                          2904   \n",
       "(36.786, 39.0]                       5156                          5156   \n",
       "(39.0, 41.0]                         3966                          3966   \n",
       "(41.0, 43.0]                         4029                          4029   \n",
       "(43.0, 45.0]                         4443                          4443   \n",
       "(45.0, 47.0]                         4769                          4769   \n",
       "(47.0, 48.504]                       2468                          2468   \n",
       "(48.504, 50.002]                     4886                          4886   \n",
       "(50.002, 52.0]                       4633                          4633   \n",
       "(52.0, 54.0]                         4706                          4706   \n",
       "(54.0, 56.0]                         4595                          4595   \n",
       "(56.0, 58.687]                       4491                          4491   \n",
       "(58.687, 61.0]                       6646                          6646   \n",
       "(61.0, 64.0]                         7001                          7001   \n",
       "(64.0, 68.0]                         6683                          6683   \n",
       "(68.0, 74.0]                         6698                          6698   \n",
       "(74.0, 107.0]                        7759                          7759   \n",
       "\n",
       "                  NumberOfTime60-89DaysPastDueNotWorse  NumberOfDependents  \n",
       "qcut                                                                        \n",
       "(20.999, 28.0]                                    4222                4222  \n",
       "(28.0, 31.165]                                    3497                3497  \n",
       "(31.165, 34.0]                                    3999                3999  \n",
       "(34.0, 36.786]                                    2904                2904  \n",
       "(36.786, 39.0]                                    5156                5156  \n",
       "(39.0, 41.0]                                      3966                3966  \n",
       "(41.0, 43.0]                                      4029                4029  \n",
       "(43.0, 45.0]                                      4443                4443  \n",
       "(45.0, 47.0]                                      4769                4769  \n",
       "(47.0, 48.504]                                    2468                2468  \n",
       "(48.504, 50.002]                                  4886                4886  \n",
       "(50.002, 52.0]                                    4633                4633  \n",
       "(52.0, 54.0]                                      4706                4706  \n",
       "(54.0, 56.0]                                      4595                4595  \n",
       "(56.0, 58.687]                                    4491                4491  \n",
       "(58.687, 61.0]                                    6646                6646  \n",
       "(61.0, 64.0]                                      7001                7001  \n",
       "(64.0, 68.0]                                      6683                6683  \n",
       "(68.0, 74.0]                                      6698                6698  \n",
       "(74.0, 107.0]                                     7759                7759  "
      ]
     },
     "execution_count": 63,
     "metadata": {},
     "output_type": "execute_result"
    }
   ],
   "source": [
    "# 统计每个分箱中0和1的数量\n",
    "train_data[train_data['SeriousDlqin2yrs'] == 0].groupby('qcut').count()"
   ]
  },
  {
   "cell_type": "code",
   "execution_count": 64,
   "metadata": {},
   "outputs": [
    {
     "data": {
      "text/plain": [
       "qcut\n",
       "(20.999, 28.0]      4222\n",
       "(28.0, 31.165]      3497\n",
       "(31.165, 34.0]      3999\n",
       "(34.0, 36.786]      2904\n",
       "(36.786, 39.0]      5156\n",
       "(39.0, 41.0]        3966\n",
       "(41.0, 43.0]        4029\n",
       "(43.0, 45.0]        4443\n",
       "(45.0, 47.0]        4769\n",
       "(47.0, 48.504]      2468\n",
       "(48.504, 50.002]    4886\n",
       "(50.002, 52.0]      4633\n",
       "(52.0, 54.0]        4706\n",
       "(54.0, 56.0]        4595\n",
       "(56.0, 58.687]      4491\n",
       "(58.687, 61.0]      6646\n",
       "(61.0, 64.0]        7001\n",
       "(64.0, 68.0]        6683\n",
       "(68.0, 74.0]        6698\n",
       "(74.0, 107.0]       7759\n",
       "Name: SeriousDlqin2yrs, dtype: int64"
      ]
     },
     "execution_count": 64,
     "metadata": {},
     "output_type": "execute_result"
    }
   ],
   "source": [
    "train_data[train_data['SeriousDlqin2yrs'] == 0].groupby('qcut').count()['SeriousDlqin2yrs']"
   ]
  },
  {
   "cell_type": "code",
   "execution_count": 65,
   "metadata": {},
   "outputs": [],
   "source": [
    "# 统计每个分箱中0和1的数量\n",
    "count_y0 = train_data[train_data['SeriousDlqin2yrs'] == 0].groupby('qcut').count()['SeriousDlqin2yrs']\n",
    "count_y1 = train_data[train_data['SeriousDlqin2yrs'] == 1].groupby('qcut').count()['SeriousDlqin2yrs']\n"
   ]
  },
  {
   "cell_type": "code",
   "execution_count": 66,
   "metadata": {},
   "outputs": [
    {
     "data": {
      "text/plain": [
       "qcut\n",
       "(20.999, 28.0]      4222\n",
       "(28.0, 31.165]      3497\n",
       "(31.165, 34.0]      3999\n",
       "(34.0, 36.786]      2904\n",
       "(36.786, 39.0]      5156\n",
       "(39.0, 41.0]        3966\n",
       "(41.0, 43.0]        4029\n",
       "(43.0, 45.0]        4443\n",
       "(45.0, 47.0]        4769\n",
       "(47.0, 48.504]      2468\n",
       "(48.504, 50.002]    4886\n",
       "(50.002, 52.0]      4633\n",
       "(52.0, 54.0]        4706\n",
       "(54.0, 56.0]        4595\n",
       "(56.0, 58.687]      4491\n",
       "(58.687, 61.0]      6646\n",
       "(61.0, 64.0]        7001\n",
       "(64.0, 68.0]        6683\n",
       "(68.0, 74.0]        6698\n",
       "(74.0, 107.0]       7759\n",
       "Name: SeriousDlqin2yrs, dtype: int64"
      ]
     },
     "execution_count": 66,
     "metadata": {},
     "output_type": "execute_result"
    }
   ],
   "source": [
    "count_y0"
   ]
  },
  {
   "cell_type": "code",
   "execution_count": 67,
   "metadata": {},
   "outputs": [
    {
     "data": {
      "text/plain": [
       "qcut\n",
       "(20.999, 28.0]      5943\n",
       "(28.0, 31.165]      5839\n",
       "(31.165, 34.0]      6520\n",
       "(34.0, 36.786]      6078\n",
       "(36.786, 39.0]      5662\n",
       "(39.0, 41.0]        5567\n",
       "(41.0, 43.0]        5831\n",
       "(43.0, 45.0]        5662\n",
       "(45.0, 47.0]        6440\n",
       "(47.0, 48.504]      4509\n",
       "(48.504, 50.002]    4864\n",
       "(50.002, 52.0]      5979\n",
       "(52.0, 54.0]        5346\n",
       "(54.0, 56.0]        4466\n",
       "(56.0, 58.687]      4786\n",
       "(58.687, 61.0]      3969\n",
       "(61.0, 64.0]        3745\n",
       "(64.0, 68.0]        2627\n",
       "(68.0, 74.0]        2113\n",
       "(74.0, 107.0]       1511\n",
       "Name: SeriousDlqin2yrs, dtype: int64"
      ]
     },
     "execution_count": 67,
     "metadata": {},
     "output_type": "execute_result"
    }
   ],
   "source": [
    "count_y1"
   ]
  },
  {
   "cell_type": "code",
   "execution_count": 68,
   "metadata": {},
   "outputs": [],
   "source": [
    "# 将数据合并 上届，下届，0出现的次数，1出现的次数\n",
    "num_bins = [*zip(updown, updown[1:], count_y0, count_y1)]"
   ]
  },
  {
   "cell_type": "code",
   "execution_count": 69,
   "metadata": {},
   "outputs": [
    {
     "data": {
      "text/plain": [
       "[(21.0, 28.0, 4222, 5943),\n",
       " (28.0, 31.165077844995317, 3497, 5839),\n",
       " (31.165077844995317, 34.0, 3999, 6520),\n",
       " (34.0, 36.786137785808776, 2904, 6078),\n",
       " (36.786137785808776, 39.0, 5156, 5662),\n",
       " (39.0, 41.0, 3966, 5567),\n",
       " (41.0, 43.0, 4029, 5831),\n",
       " (43.0, 45.0, 4443, 5662),\n",
       " (45.0, 47.0, 4769, 6440),\n",
       " (47.0, 48.503543347020816, 2468, 4509),\n",
       " (48.503543347020816, 50.0024894803051, 4886, 4864),\n",
       " (50.0024894803051, 52.0, 4633, 5979),\n",
       " (52.0, 54.0, 4706, 5346),\n",
       " (54.0, 56.0, 4595, 4466),\n",
       " (56.0, 58.6873739761368, 4491, 4786),\n",
       " (58.6873739761368, 61.0, 6646, 3969),\n",
       " (61.0, 64.0, 7001, 3745),\n",
       " (64.0, 68.0, 6683, 2627),\n",
       " (68.0, 74.0, 6698, 2113),\n",
       " (74.0, 107.0, 7759, 1511)]"
      ]
     },
     "execution_count": 69,
     "metadata": {},
     "output_type": "execute_result"
    }
   ],
   "source": [
    "num_bins"
   ]
  },
  {
   "cell_type": "code",
   "execution_count": 72,
   "metadata": {},
   "outputs": [
    {
     "ename": "TypeError",
     "evalue": "list indices must be integers or slices, not tuple",
     "output_type": "error",
     "traceback": [
      "\u001b[0;31m---------------------------------------------------------------------------\u001b[0m",
      "\u001b[0;31mTypeError\u001b[0m                                 Traceback (most recent call last)",
      "\u001b[0;32m<ipython-input-72-191e0711c52d>\u001b[0m in \u001b[0;36m<module>\u001b[0;34m\u001b[0m\n\u001b[1;32m      1\u001b[0m \u001b[0;31m# 确保每个箱中都包含0和1\u001b[0m\u001b[0;34m\u001b[0m\u001b[0;34m\u001b[0m\u001b[0m\n\u001b[1;32m      2\u001b[0m \u001b[0;32mfor\u001b[0m \u001b[0mi\u001b[0m \u001b[0;32min\u001b[0m \u001b[0mrange\u001b[0m\u001b[0;34m(\u001b[0m\u001b[0mlen\u001b[0m\u001b[0;34m(\u001b[0m\u001b[0mnum_bins\u001b[0m\u001b[0;34m)\u001b[0m\u001b[0;34m)\u001b[0m\u001b[0;34m:\u001b[0m\u001b[0;34m\u001b[0m\u001b[0m\n\u001b[0;32m----> 3\u001b[0;31m     \u001b[0;32mif\u001b[0m \u001b[0;36m0\u001b[0m \u001b[0;32min\u001b[0m \u001b[0mnum_bins\u001b[0m\u001b[0;34m[\u001b[0m\u001b[0mi\u001b[0m\u001b[0;34m,\u001b[0m \u001b[0;36m2\u001b[0m\u001b[0;34m:\u001b[0m\u001b[0;34m]\u001b[0m\u001b[0;34m:\u001b[0m\u001b[0;34m\u001b[0m\u001b[0m\n\u001b[0m\u001b[1;32m      4\u001b[0m         num_bins[i-1: i+1] = [(num_bins[i-1, 0],\n\u001b[1;32m      5\u001b[0m                                \u001b[0mnum_bins\u001b[0m\u001b[0;34m[\u001b[0m\u001b[0mi\u001b[0m\u001b[0;34m,\u001b[0m \u001b[0;36m1\u001b[0m\u001b[0;34m]\u001b[0m\u001b[0;34m,\u001b[0m\u001b[0;34m\u001b[0m\u001b[0m\n",
      "\u001b[0;31mTypeError\u001b[0m: list indices must be integers or slices, not tuple"
     ]
    }
   ],
   "source": [
    "# 确保每个箱中都包含0和1\n",
    "# for i in range(len(num_bins)):\n",
    "#     if 0 in num_bins[i, 2:]:\n",
    "#         num_bins[i-1: i+1] = [(num_bins[i-1, 0],\n",
    "#                                num_bins[i, 1],\n",
    "#                                num_bins[i-1, 2] + num_bins[i, 2],\n",
    "#                                num_bins[i-1, 3] + num_bins[i, 3]\n",
    "#         )]\n",
    "#         break\n",
    "#     else:\n",
    "#         pass\n",
    "        "
   ]
  },
  {
   "cell_type": "code",
   "execution_count": 78,
   "metadata": {},
   "outputs": [],
   "source": [
    "# 定义woe和iv函数\n",
    "def get_woe(num_bins):\n",
    "    columns = ['min', 'max', 'count_0', 'count_1']\n",
    "    df = pd.DataFrame(num_bins, columns=columns)\n",
    "    df['total'] = df.count_0 + df.count_1\n",
    "    df['percentage'] = df['total'] / df['total'].sum()\n",
    "    df['bad_rate'] = df.count_1 / df.total\n",
    "    df['good%'] = df.count_0 / df.count_0.sum()\n",
    "    df['bad%'] = df.count_1 / df.count_1.sum()\n",
    "    df['woe'] = np.log(df['good%']/ df['bad%'])\n",
    "    return df"
   ]
  },
  {
   "cell_type": "code",
   "execution_count": 79,
   "metadata": {},
   "outputs": [],
   "source": [
    "# 计算iv的值\n",
    "def get_iv(df):\n",
    "    rate = df['good%'] - df['bad%']\n",
    "    iv = np.sum(rate * df.woe)\n",
    "    return iv"
   ]
  },
  {
   "cell_type": "code",
   "execution_count": 81,
   "metadata": {},
   "outputs": [
    {
     "data": {
      "image/png": "[encoded data removed]",
      "text/plain": [
       "<Figure size 432x288 with 1 Axes>"
      ]
     },
     "metadata": {
      "needs_background": "light"
     },
     "output_type": "display_data"
    }
   ],
   "source": [
    "num_bins_ = num_bins.copy()\n",
    "iv = []\n",
    "axisx = []\n",
    "\n",
    "while len(num_bins_) > 2:\n",
    "    pvs = []\n",
    "    # 获取num_bins_两两之间卡方检验的置信度\n",
    "    for i in range(len(num_bins_) -1):\n",
    "        x1 = num_bins_[i][2:]\n",
    "        x2 = num_bins_[i+1][2:]\n",
    "        # 0 返回的是卡方值， 1是返回的p值\n",
    "#         chi2 = scipy.stats.chi2_contingency([x1, x2])[0]\n",
    "        pv = scipy.stats.chi2_contingency([x1, x2])[1]\n",
    "        pvs.append(pv)\n",
    "        \n",
    "    # 通过p值进行处理 合并p值最大的两组\n",
    "    i = pvs.index(max(pvs))\n",
    "    num_bins_[i: i+2] = [(\n",
    "        num_bins_[i][0], \n",
    "        num_bins_[i+1][1],\n",
    "        num_bins_[i][2] + num_bins_[i+1][2],\n",
    "        num_bins_[i][3] + num_bins_[i+1][3]\n",
    "    )]\n",
    "    bins_df = get_woe(num_bins_)\n",
    "    axisx.append(len(num_bins_))\n",
    "    iv.append(get_iv(bins_df))\n",
    "plt.figure()\n",
    "plt.plot(axisx, iv)\n",
    "plt.xticks(axisx)\n",
    "plt.xlabel('number of box')\n",
    "plt.ylabel('iv')\n",
    "plt.show()"
   ]
  },
  {
   "cell_type": "code",
   "execution_count": 83,
   "metadata": {},
   "outputs": [],
   "source": [
    "# 用最佳分箱个数分箱\n",
    "def get_bin(num_bins_, n):\n",
    "    while len(num_bins_) > n:\n",
    "        pvs = []\n",
    "        # 获取num_bins_两两之间卡方检验的置信度\n",
    "        for i in range(len(num_bins_) -1):\n",
    "            x1 = num_bins_[i][2:]\n",
    "            x2 = num_bins_[i+1][2:]\n",
    "            # 0 返回的是卡方值， 1是返回的p值\n",
    "    #         chi2 = scipy.stats.chi2_contingency([x1, x2])[0]\n",
    "            pv = scipy.stats.chi2_contingency([x1, x2])[1]\n",
    "            pvs.append(pv)\n",
    "\n",
    "        # 通过p值进行处理 合并p值最大的两组\n",
    "        i = pvs.index(max(pvs))\n",
    "        num_bins_[i: i+2] = [(\n",
    "            num_bins_[i][0], \n",
    "            num_bins_[i+1][1],\n",
    "            num_bins_[i][2] + num_bins_[i+1][2],\n",
    "            num_bins_[i][3] + num_bins_[i+1][3]\n",
    "        )]\n",
    "    return num_bins_"
   ]
  },
  {
   "cell_type": "code",
   "execution_count": 84,
   "metadata": {},
   "outputs": [
    {
     "data": {
      "text/plain": [
       "[(21.0, 58.6873739761368, 62764, 83492),\n",
       " (58.6873739761368, 107.0, 34787, 13965)]"
      ]
     },
     "execution_count": 84,
     "metadata": {},
     "output_type": "execute_result"
    }
   ],
   "source": [
    "afterbins = get_bin(num_bins_, 4)\n",
    "afterbins"
   ]
  },
  {
   "cell_type": "code",
   "execution_count": 85,
   "metadata": {},
   "outputs": [
    {
     "data": {
      "text/html": [
       "<div>\n",
       "<style scoped>\n",
       "    .dataframe tbody tr th:only-of-type {\n",
       "        vertical-align: middle;\n",
       "    }\n",
       "\n",
       "    .dataframe tbody tr th {\n",
       "        vertical-align: top;\n",
       "    }\n",
       "\n",
       "    .dataframe thead th {\n",
       "        text-align: right;\n",
       "    }\n",
       "</style>\n",
       "<table border=\"1\" class=\"dataframe\">\n",
       "  <thead>\n",
       "    <tr style=\"text-align: right;\">\n",
       "      <th></th>\n",
       "      <th>min</th>\n",
       "      <th>max</th>\n",
       "      <th>count_0</th>\n",
       "      <th>count_1</th>\n",
       "      <th>total</th>\n",
       "      <th>percentage</th>\n",
       "      <th>bad_rate</th>\n",
       "      <th>good%</th>\n",
       "      <th>bad%</th>\n",
       "      <th>woe</th>\n",
       "    </tr>\n",
       "  </thead>\n",
       "  <tbody>\n",
       "    <tr>\n",
       "      <th>0</th>\n",
       "      <td>21.000000</td>\n",
       "      <td>58.687374</td>\n",
       "      <td>62764</td>\n",
       "      <td>83492</td>\n",
       "      <td>146256</td>\n",
       "      <td>0.75</td>\n",
       "      <td>0.570862</td>\n",
       "      <td>0.643397</td>\n",
       "      <td>0.856706</td>\n",
       "      <td>-0.286333</td>\n",
       "    </tr>\n",
       "    <tr>\n",
       "      <th>1</th>\n",
       "      <td>58.687374</td>\n",
       "      <td>107.000000</td>\n",
       "      <td>34787</td>\n",
       "      <td>13965</td>\n",
       "      <td>48752</td>\n",
       "      <td>0.25</td>\n",
       "      <td>0.286450</td>\n",
       "      <td>0.356603</td>\n",
       "      <td>0.143294</td>\n",
       "      <td>0.911725</td>\n",
       "    </tr>\n",
       "  </tbody>\n",
       "</table>\n",
       "</div>"
      ],
      "text/plain": [
       "         min         max  count_0  count_1   total  percentage  bad_rate  \\\n",
       "0  21.000000   58.687374    62764    83492  146256        0.75  0.570862   \n",
       "1  58.687374  107.000000    34787    13965   48752        0.25  0.286450   \n",
       "\n",
       "      good%      bad%       woe  \n",
       "0  0.643397  0.856706 -0.286333  \n",
       "1  0.356603  0.143294  0.911725  "
      ]
     },
     "execution_count": 85,
     "metadata": {},
     "output_type": "execute_result"
    }
   ],
   "source": [
    "bins_df = get_woe(num_bins_)\n",
    "bins_df"
   ]
  },
  {
   "cell_type": "code",
   "execution_count": 94,
   "metadata": {},
   "outputs": [],
   "source": [
    "# 将选取最佳分箱个数的过程包装为函数\n",
    "def graphforbestbin(DF, X, Y, n=5, q=20, graph=True):\n",
    "    \"\"\"\n",
    "    基于卡方检验的分箱\n",
    "    参数：\n",
    "    DF：需要输入的数据\n",
    "    X, 需要分箱的列名\n",
    "    Y, 分箱数据对应的标签Y列名\n",
    "    q, 初始分箱的个数\n",
    "    graph：是否要画出iv图像\n",
    "    \"\"\"\n",
    "    DF = DF[[X, Y]].copy()\n",
    "    DF['qcut'], bins = pd.qcut(DF[X], retbins=True, q=q, duplicates='drop')\n",
    "    coount_y0 = DF.loc[DF[Y] == 0].groupby('qcut').count()[Y]\n",
    "    coount_y1 = DF.loc[DF[Y] == 1].groupby('qcut').count()[Y]\n",
    "    num_bins = [*zip(bins, bins[1:], coount_y0, coount_y1)]\n",
    "    for i in range(q):\n",
    "        if 0 in num_bins[0][2:]:\n",
    "            num_bins[0:2] = [(num_bins[0][0], \n",
    "                              num_bins[1][1],\n",
    "                              num_bins[0][2] + num_bins[1][2],\n",
    "                              num_bins[0][3] + num_bins[1][3]\n",
    "                             )]\n",
    "            continue\n",
    "        for i in range(len(num_bins)):\n",
    "            if 0 in num_bins[i][2:]:\n",
    "                num_bins[i-1:i+1] = [(\n",
    "                    num_bins[i-1][0], \n",
    "                    num_bins[i][1],\n",
    "                    num_bins[i-1][2] + num_bins[i][2],\n",
    "                    num_bins[i-1][3] + num_bins[i][3]\n",
    "                )]\n",
    "                break\n",
    "        else:\n",
    "            break\n",
    "    def get_woe(num_bins):\n",
    "        columns = ['min', 'max', 'count_0', 'count_1']\n",
    "        df = pd.DataFrame(num_bins, columns=columns)\n",
    "        df['total'] = df.count_0 + df.count_1\n",
    "        df['percentage'] = df['total'] / df['total'].sum()\n",
    "        df['bad_rate'] = df.count_1 / df.total\n",
    "        df['good%'] = df.count_0 / df.count_0.sum()\n",
    "        df['bad%'] = df.count_1 / df.count_1.sum()\n",
    "        df['woe'] = np.log(df['good%']/ df['bad%'])\n",
    "        return df\n",
    "    \n",
    "    def get_iv(df):\n",
    "        rate = df['good%'] - df['bad%']\n",
    "        iv = np.sum(rate * df.woe)\n",
    "        return iv\n",
    "    \n",
    "    iv = []\n",
    "    axisx = []\n",
    "    while len(num_bins) > n:\n",
    "        pvs = []\n",
    "        # 获取num_bins_两两之间卡方检验的置信度\n",
    "        for i in range(len(num_bins) -1):\n",
    "            x1 = num_bins[i][2:]\n",
    "            x2 = num_bins[i+1][2:]\n",
    "            # 0 返回的是卡方值， 1是返回的p值\n",
    "    #         chi2 = scipy.stats.chi2_contingency([x1, x2])[0]\n",
    "            pv = scipy.stats.chi2_contingency([x1, x2])[1]\n",
    "            pvs.append(pv)\n",
    "\n",
    "        # 通过p值进行处理 合并p值最大的两组\n",
    "        i = pvs.index(max(pvs))\n",
    "        num_bins[i: i+2] = [(\n",
    "            num_bins[i][0], \n",
    "            num_bins[i+1][1],\n",
    "            num_bins[i][2] + num_bins[i+1][2],\n",
    "            num_bins[i][3] + num_bins[i+1][3]\n",
    "        )]\n",
    "        \n",
    "        bins_df = pd.DataFrame(get_woe(num_bins))\n",
    "        axisx.append(len(num_bins))\n",
    "        iv.append(get_iv(bins_df))\n",
    "    \n",
    "    if graph:\n",
    "        plt.figure()\n",
    "        plt.plot(axisx, iv)\n",
    "        plt.xticks(axisx)\n",
    "        plt.xlabel('number of box')\n",
    "        plt.ylabel('iv')\n",
    "        plt.show()\n",
    "        \n",
    "    return bins_df"
   ]
  },
  {
   "cell_type": "code",
   "execution_count": 95,
   "metadata": {},
   "outputs": [
    {
     "data": {
      "text/plain": [
       "Index(['SeriousDlqin2yrs', 'RevolvingUtilizationOfUnsecuredLines', 'age',\n",
       "       'NumberOfTime30-59DaysPastDueNotWorse', 'DebtRatio', 'MonthlyIncome',\n",
       "       'NumberOfOpenCreditLinesAndLoans', 'NumberOfTimes90DaysLate',\n",
       "       'NumberRealEstateLoansOrLines', 'NumberOfTime60-89DaysPastDueNotWorse',\n",
       "       'NumberOfDependents', 'qcut'],\n",
       "      dtype='object')"
      ]
     },
     "execution_count": 95,
     "metadata": {},
     "output_type": "execute_result"
    }
   ],
   "source": [
    "train_data.columns"
   ]
  },
  {
   "cell_type": "code",
   "execution_count": 96,
   "metadata": {},
   "outputs": [
    {
     "data": {
      "image/png": "[encoded data removed]",
      "text/plain": [
       "<Figure size 432x288 with 1 Axes>"
      ]
     },
     "metadata": {
      "needs_background": "light"
     },
     "output_type": "display_data"
    },
    {
     "data": {
      "image/png": "[encoded data removed]",
      "text/plain": [
       "<Figure size 432x288 with 1 Axes>"
      ]
     },
     "metadata": {
      "needs_background": "light"
     },
     "output_type": "display_data"
    },
    {
     "data": {
      "image/png": "[encoded data removed]",
      "text/plain": [
       "<Figure size 432x288 with 1 Axes>"
      ]
     },
     "metadata": {
      "needs_background": "light"
     },
     "output_type": "display_data"
    },
    {
     "data": {
      "image/png": "[encoded data removed]",
      "text/plain": [
       "<Figure size 432x288 with 1 Axes>"
      ]
     },
     "metadata": {
      "needs_background": "light"
     },
     "output_type": "display_data"
    },
    {
     "data": {
      "image/png": "[encoded data removed]",
      "text/plain": [
       "<Figure size 432x288 with 1 Axes>"
      ]
     },
     "metadata": {
      "needs_background": "light"
     },
     "output_type": "display_data"
    },
    {
     "data": {
      "image/png": "[encoded data removed]",
      "text/plain": [
       "<Figure size 432x288 with 1 Axes>"
      ]
     },
     "metadata": {
      "needs_background": "light"
     },
     "output_type": "display_data"
    },
    {
     "data": {
      "image/png": "[encoded data removed]",
      "text/plain": [
       "<Figure size 432x288 with 1 Axes>"
      ]
     },
     "metadata": {
      "needs_background": "light"
     },
     "output_type": "display_data"
    },
    {
     "data": {
      "image/png": "[encoded data removed]",
      "text/plain": [
       "<Figure size 432x288 with 1 Axes>"
      ]
     },
     "metadata": {
      "needs_background": "light"
     },
     "output_type": "display_data"
    },
    {
     "data": {
      "image/png": "[encoded data removed]",
      "text/plain": [
       "<Figure size 432x288 with 1 Axes>"
      ]
     },
     "metadata": {
      "needs_background": "light"
     },
     "output_type": "display_data"
    },
    {
     "data": {
      "image/png": "[encoded data removed]",
      "text/plain": [
       "<Figure size 432x288 with 1 Axes>"
      ]
     },
     "metadata": {
      "needs_background": "light"
     },
     "output_type": "display_data"
    }
   ],
   "source": [
    "# 对所有的特征进行分箱\n",
    "for i in train_data.columns[1:-1]:\n",
    "    graphforbestbin(train_data, i, 'SeriousDlqin2yrs', n=2, q=20)"
   ]
  },
  {
   "cell_type": "code",
   "execution_count": 103,
   "metadata": {},
   "outputs": [],
   "source": [
    "auto_col_bins = {'RevolvingUtilizationOfUnsecuredLines':6,\n",
    "                'age':5,\n",
    "                 'DebtRatio': 4,\n",
    "                 'MonthlyIncome': 3,\n",
    "                 'NumberOfOpenCreditLinesAndLoans': 5\n",
    "                }\n",
    "\n",
    "# 不能使用自动分箱的变量\n",
    "hand_bins = {'NumberOfTime30-59DaysPastDueNotWorse': [0, 1, 2, 13],\n",
    "            'NumberOfTimes90DaysLate': [0, 1, 2, 17],\n",
    "             'NumberRealEstateLoansOrLines': [0, 1, 2, 4, 54],\n",
    "             'NumberOfTime60-89DaysPastDueNotWorse': [0, 1, 2, 8],\n",
    "             'NumberOfDependents': [0, 1, 2, 3]\n",
    "            }\n",
    "hand_bins = {k:[-np.inf, *v[:-1], np.inf] for k, v in hand_bins.items()}\n"
   ]
  },
  {
   "cell_type": "code",
   "execution_count": 102,
   "metadata": {},
   "outputs": [
    {
     "data": {
      "text/plain": [
       "{'NumberOfTime30-59DaysPastDueNotWorse': [-inf, 1, 2, inf],\n",
       " 'NumberOfTimes90DaysLate': [-inf, 1, 2, inf],\n",
       " 'NumberRealEstateLoansOrLines': [-inf, 1, 2, 4, inf],\n",
       " 'NumberOfTime60-89DaysPastDueNotWorse': [-inf, 1, 2, inf],\n",
       " 'NumberOfDependents': [-inf, 1, 2, inf]}"
      ]
     },
     "execution_count": 102,
     "metadata": {},
     "output_type": "execute_result"
    }
   ],
   "source": [
    "hand_bins"
   ]
  },
  {
   "cell_type": "code",
   "execution_count": 106,
   "metadata": {},
   "outputs": [
    {
     "name": "stdout",
     "output_type": "stream",
     "text": [
      "        min           max  count_0  count_1  total  percentage  bad_rate  \\\n",
      "0  0.000000      0.060553    35886     3116  39002    0.200002  0.079893   \n",
      "1  0.060553      0.220718    21714     7537  29251    0.149999  0.257666   \n",
      "2  0.220718      0.551654    18312    20689  39001    0.199997  0.530474   \n",
      "3  0.551654      0.983145    13900    44602  58502    0.299998  0.762401   \n",
      "4  0.983145      1.000000     6310    10082  16392    0.084058  0.615056   \n",
      "5  1.000000  29110.000000     1429    11431  12860    0.065946  0.888880   \n",
      "\n",
      "      good%      bad%       woe  \n",
      "0  0.367869  0.031973  2.442833  \n",
      "1  0.222591  0.077337  1.057169  \n",
      "2  0.187717  0.212288 -0.123010  \n",
      "3  0.142490  0.457658 -1.166854  \n",
      "4  0.064684  0.103451 -0.469580  \n",
      "5  0.014649  0.117293 -2.080318  \n",
      "*************************\n",
      "[-inf, 0.060552531400000005, 0.2207179143, 0.5516541889036061, 0.9831449087861944, 0.9999998999999999, inf]\n",
      "         min         max  count_0  count_1  total  percentage  bad_rate  \\\n",
      "0  21.000000   48.503543    39453    58051  97504    0.500000  0.595370   \n",
      "1  48.503543   58.687374    23311    25441  48752    0.250000  0.521845   \n",
      "2  58.687374   64.000000    13647     7714  21361    0.109539  0.361125   \n",
      "3  64.000000   74.000000    13381     4740  18121    0.092924  0.261575   \n",
      "4  74.000000  107.000000     7759     1511   9270    0.047537  0.162999   \n",
      "\n",
      "      good%      bad%       woe  \n",
      "0  0.404435  0.595658 -0.387176  \n",
      "1  0.238962  0.261048 -0.088401  \n",
      "2  0.139896  0.079153  0.569519  \n",
      "3  0.137169  0.048637  1.036835  \n",
      "4  0.079538  0.015504  1.635118  \n",
      "*************************\n",
      "[-inf, 48.503543347020816, 58.6873739761368, 64.0, 74.0, inf]\n",
      "        min            max  count_0  count_1  total  percentage  bad_rate  \\\n",
      "0  0.000000       0.018426     7983     1768   9751    0.050003  0.181315   \n",
      "1  0.018426       0.402697    44783    42970  87753    0.449997  0.489670   \n",
      "2  0.402697       1.484840    23560    34942  58502    0.299998  0.597279   \n",
      "3  1.484840  329664.000000    21225    17777  39002    0.200002  0.455797   \n",
      "\n",
      "      good%      bad%       woe  \n",
      "0  0.081834  0.018141  1.506501  \n",
      "1  0.459073  0.440912  0.040362  \n",
      "2  0.241515  0.358538 -0.395103  \n",
      "3  0.217578  0.182409  0.176310  \n",
      "*************************\n",
      "[-inf, 0.01842646531658421, 0.4026974551909623, 1.4848397764291053, inf]\n",
      "           min           max  count_0  count_1   total  percentage  bad_rate  \\\n",
      "0     0.000000  1.037191e-01     7955     1796    9751    0.050003  0.184186   \n",
      "1     0.103719  5.600000e+03    51828    65526  117354    0.601791  0.558362   \n",
      "2  5600.000000  1.794060e+06    37768    30135   67903    0.348206  0.443795   \n",
      "\n",
      "      good%      bad%       woe  \n",
      "0  0.081547  0.018429  1.487275  \n",
      "1  0.531291  0.672358 -0.235481  \n",
      "2  0.387162  0.309213  0.224811  \n",
      "*************************\n",
      "[-inf, 0.10371906020472159, 5600.0, inf]\n",
      "        min        max  count_0  count_1  total  percentage  bad_rate  \\\n",
      "0  0.000000   5.973339    29366    38887  68253    0.350001  0.569748   \n",
      "1  5.973339   6.000000     9007     1533  10540    0.054049  0.145446   \n",
      "2  6.000000   8.895243    17134    21078  38212    0.195951  0.551607   \n",
      "3  8.895243   9.107902     7474     2276   9750    0.049998  0.233436   \n",
      "4  9.107902  58.000000    34570    33683  68253    0.350001  0.493502   \n",
      "\n",
      "      good%      bad%       woe  \n",
      "0  0.301032  0.399017 -0.281787  \n",
      "1  0.092331  0.015730  1.769811  \n",
      "2  0.175641  0.216280 -0.208129  \n",
      "3  0.076616  0.023354  1.188047  \n",
      "4  0.354379  0.345619  0.025029  \n",
      "*************************\n",
      "[-inf, 5.9733394550272125, 6.0, 8.895242655984902, 9.107901577947791, inf]\n"
     ]
    }
   ],
   "source": [
    "bins_of_col = {}\n",
    "# 生成自动分箱的分箱区间和分箱后的iv值\n",
    "for col in auto_col_bins:  # 这样遍历是遍历字典的key值\n",
    "    bins_df = graphforbestbin(train_data, \n",
    "                              col,\n",
    "                              'SeriousDlqin2yrs',\n",
    "                              n=auto_col_bins[col],\n",
    "                              q=20,\n",
    "                              graph=False\n",
    "                             )\n",
    "    print(bins_df)\n",
    "    print('*****' * 5)\n",
    "    bins_list = sorted(set(bins_df['min']).union(bins_df['max']))\n",
    "    bins_list[0], bins_list[-1] = -np.inf, np.inf\n",
    "    bins_of_col[col] = bins_list\n",
    "    print(bins_list)"
   ]
  },
  {
   "cell_type": "code",
   "execution_count": 107,
   "metadata": {},
   "outputs": [
    {
     "data": {
      "text/plain": [
       "{'RevolvingUtilizationOfUnsecuredLines': [-inf,\n",
       "  0.060552531400000005,\n",
       "  0.2207179143,\n",
       "  0.5516541889036061,\n",
       "  0.9831449087861944,\n",
       "  0.9999998999999999,\n",
       "  inf],\n",
       " 'age': [-inf, 48.503543347020816, 58.6873739761368, 64.0, 74.0, inf],\n",
       " 'DebtRatio': [-inf,\n",
       "  0.01842646531658421,\n",
       "  0.4026974551909623,\n",
       "  1.4848397764291053,\n",
       "  inf],\n",
       " 'MonthlyIncome': [-inf, 0.10371906020472159, 5600.0, inf],\n",
       " 'NumberOfOpenCreditLinesAndLoans': [-inf,\n",
       "  5.9733394550272125,\n",
       "  6.0,\n",
       "  8.895242655984902,\n",
       "  9.107901577947791,\n",
       "  inf],\n",
       " 'NumberOfTime30-59DaysPastDueNotWorse': [-inf, 0, 1, 2, inf],\n",
       " 'NumberOfTimes90DaysLate': [-inf, 0, 1, 2, inf],\n",
       " 'NumberRealEstateLoansOrLines': [-inf, 0, 1, 2, 4, inf],\n",
       " 'NumberOfTime60-89DaysPastDueNotWorse': [-inf, 0, 1, 2, inf],\n",
       " 'NumberOfDependents': [-inf, 0, 1, 2, inf]}"
      ]
     },
     "execution_count": 107,
     "metadata": {},
     "output_type": "execute_result"
    }
   ],
   "source": [
    "# 合并数据\n",
    "bins_of_col.update(hand_bins)\n",
    "bins_of_col"
   ]
  },
  {
   "cell_type": "code",
   "execution_count": 109,
   "metadata": {},
   "outputs": [
    {
     "data": {
      "text/html": [
       "<div>\n",
       "<style scoped>\n",
       "    .dataframe tbody tr th:only-of-type {\n",
       "        vertical-align: middle;\n",
       "    }\n",
       "\n",
       "    .dataframe tbody tr th {\n",
       "        vertical-align: top;\n",
       "    }\n",
       "\n",
       "    .dataframe thead th {\n",
       "        text-align: right;\n",
       "    }\n",
       "</style>\n",
       "<table border=\"1\" class=\"dataframe\">\n",
       "  <thead>\n",
       "    <tr style=\"text-align: right;\">\n",
       "      <th></th>\n",
       "      <th>age</th>\n",
       "      <th>SeriousDlqin2yrs</th>\n",
       "      <th>cut</th>\n",
       "    </tr>\n",
       "  </thead>\n",
       "  <tbody>\n",
       "    <tr>\n",
       "      <th>0</th>\n",
       "      <td>53.000000</td>\n",
       "      <td>0</td>\n",
       "      <td>(48.504, 58.687]</td>\n",
       "    </tr>\n",
       "    <tr>\n",
       "      <th>1</th>\n",
       "      <td>44.543111</td>\n",
       "      <td>1</td>\n",
       "      <td>(-inf, 48.504]</td>\n",
       "    </tr>\n",
       "    <tr>\n",
       "      <th>2</th>\n",
       "      <td>69.000000</td>\n",
       "      <td>0</td>\n",
       "      <td>(64.0, 74.0]</td>\n",
       "    </tr>\n",
       "    <tr>\n",
       "      <th>3</th>\n",
       "      <td>32.620861</td>\n",
       "      <td>1</td>\n",
       "      <td>(-inf, 48.504]</td>\n",
       "    </tr>\n",
       "    <tr>\n",
       "      <th>4</th>\n",
       "      <td>43.000000</td>\n",
       "      <td>1</td>\n",
       "      <td>(-inf, 48.504]</td>\n",
       "    </tr>\n",
       "  </tbody>\n",
       "</table>\n",
       "</div>"
      ],
      "text/plain": [
       "         age  SeriousDlqin2yrs               cut\n",
       "0  53.000000                 0  (48.504, 58.687]\n",
       "1  44.543111                 1    (-inf, 48.504]\n",
       "2  69.000000                 0      (64.0, 74.0]\n",
       "3  32.620861                 1    (-inf, 48.504]\n",
       "4  43.000000                 1    (-inf, 48.504]"
      ]
     },
     "execution_count": 109,
     "metadata": {},
     "output_type": "execute_result"
    }
   ],
   "source": [
    "# 计算各箱的woe并映射到数据中\n",
    "data = train_data.copy()\n",
    "\n",
    "data = data[['age', 'SeriousDlqin2yrs']].copy()\n",
    "data['cut'] = pd.cut(data['age'], [-np.inf, 48.503543347020816, 58.6873739761368, 64.0, 74.0, np.inf])\n",
    "data.head()"
   ]
  },
  {
   "cell_type": "code",
   "execution_count": 111,
   "metadata": {},
   "outputs": [
    {
     "data": {
      "text/plain": [
       "cut               SeriousDlqin2yrs\n",
       "(-inf, 48.504]    1                   58051\n",
       "                  0                   39453\n",
       "(48.504, 58.687]  1                   25441\n",
       "                  0                   23311\n",
       "(58.687, 64.0]    0                   13647\n",
       "                  1                    7714\n",
       "(64.0, 74.0]      0                   13381\n",
       "                  1                    4740\n",
       "(74.0, inf]       0                    7759\n",
       "                  1                    1511\n",
       "Name: SeriousDlqin2yrs, dtype: int64"
      ]
     },
     "execution_count": 111,
     "metadata": {},
     "output_type": "execute_result"
    }
   ],
   "source": [
    "data.groupby('cut')['SeriousDlqin2yrs'].value_counts()"
   ]
  },
  {
   "cell_type": "code",
   "execution_count": 112,
   "metadata": {},
   "outputs": [
    {
     "data": {
      "text/html": [
       "<div>\n",
       "<style scoped>\n",
       "    .dataframe tbody tr th:only-of-type {\n",
       "        vertical-align: middle;\n",
       "    }\n",
       "\n",
       "    .dataframe tbody tr th {\n",
       "        vertical-align: top;\n",
       "    }\n",
       "\n",
       "    .dataframe thead th {\n",
       "        text-align: right;\n",
       "    }\n",
       "</style>\n",
       "<table border=\"1\" class=\"dataframe\">\n",
       "  <thead>\n",
       "    <tr style=\"text-align: right;\">\n",
       "      <th>SeriousDlqin2yrs</th>\n",
       "      <th>0</th>\n",
       "      <th>1</th>\n",
       "    </tr>\n",
       "    <tr>\n",
       "      <th>cut</th>\n",
       "      <th></th>\n",
       "      <th></th>\n",
       "    </tr>\n",
       "  </thead>\n",
       "  <tbody>\n",
       "    <tr>\n",
       "      <th>(-inf, 48.504]</th>\n",
       "      <td>39453</td>\n",
       "      <td>58051</td>\n",
       "    </tr>\n",
       "    <tr>\n",
       "      <th>(48.504, 58.687]</th>\n",
       "      <td>23311</td>\n",
       "      <td>25441</td>\n",
       "    </tr>\n",
       "    <tr>\n",
       "      <th>(58.687, 64.0]</th>\n",
       "      <td>13647</td>\n",
       "      <td>7714</td>\n",
       "    </tr>\n",
       "    <tr>\n",
       "      <th>(64.0, 74.0]</th>\n",
       "      <td>13381</td>\n",
       "      <td>4740</td>\n",
       "    </tr>\n",
       "    <tr>\n",
       "      <th>(74.0, inf]</th>\n",
       "      <td>7759</td>\n",
       "      <td>1511</td>\n",
       "    </tr>\n",
       "  </tbody>\n",
       "</table>\n",
       "</div>"
      ],
      "text/plain": [
       "SeriousDlqin2yrs      0      1\n",
       "cut                           \n",
       "(-inf, 48.504]    39453  58051\n",
       "(48.504, 58.687]  23311  25441\n",
       "(58.687, 64.0]    13647   7714\n",
       "(64.0, 74.0]      13381   4740\n",
       "(74.0, inf]        7759   1511"
      ]
     },
     "execution_count": 112,
     "metadata": {},
     "output_type": "execute_result"
    }
   ],
   "source": [
    "# 使用unstack将树状结构变成表结构\n",
    "data.groupby('cut')['SeriousDlqin2yrs'].value_counts().unstack()"
   ]
  },
  {
   "cell_type": "code",
   "execution_count": 113,
   "metadata": {},
   "outputs": [
    {
     "data": {
      "text/html": [
       "<div>\n",
       "<style scoped>\n",
       "    .dataframe tbody tr th:only-of-type {\n",
       "        vertical-align: middle;\n",
       "    }\n",
       "\n",
       "    .dataframe tbody tr th {\n",
       "        vertical-align: top;\n",
       "    }\n",
       "\n",
       "    .dataframe thead th {\n",
       "        text-align: right;\n",
       "    }\n",
       "</style>\n",
       "<table border=\"1\" class=\"dataframe\">\n",
       "  <thead>\n",
       "    <tr style=\"text-align: right;\">\n",
       "      <th>SeriousDlqin2yrs</th>\n",
       "      <th>0</th>\n",
       "      <th>1</th>\n",
       "      <th>woe</th>\n",
       "    </tr>\n",
       "    <tr>\n",
       "      <th>cut</th>\n",
       "      <th></th>\n",
       "      <th></th>\n",
       "      <th></th>\n",
       "    </tr>\n",
       "  </thead>\n",
       "  <tbody>\n",
       "    <tr>\n",
       "      <th>(-inf, 48.504]</th>\n",
       "      <td>39453</td>\n",
       "      <td>58051</td>\n",
       "      <td>-0.387176</td>\n",
       "    </tr>\n",
       "    <tr>\n",
       "      <th>(48.504, 58.687]</th>\n",
       "      <td>23311</td>\n",
       "      <td>25441</td>\n",
       "      <td>-0.088401</td>\n",
       "    </tr>\n",
       "    <tr>\n",
       "      <th>(58.687, 64.0]</th>\n",
       "      <td>13647</td>\n",
       "      <td>7714</td>\n",
       "      <td>0.569519</td>\n",
       "    </tr>\n",
       "    <tr>\n",
       "      <th>(64.0, 74.0]</th>\n",
       "      <td>13381</td>\n",
       "      <td>4740</td>\n",
       "      <td>1.036835</td>\n",
       "    </tr>\n",
       "    <tr>\n",
       "      <th>(74.0, inf]</th>\n",
       "      <td>7759</td>\n",
       "      <td>1511</td>\n",
       "      <td>1.635118</td>\n",
       "    </tr>\n",
       "  </tbody>\n",
       "</table>\n",
       "</div>"
      ],
      "text/plain": [
       "SeriousDlqin2yrs      0      1       woe\n",
       "cut                                     \n",
       "(-inf, 48.504]    39453  58051 -0.387176\n",
       "(48.504, 58.687]  23311  25441 -0.088401\n",
       "(58.687, 64.0]    13647   7714  0.569519\n",
       "(64.0, 74.0]      13381   4740  1.036835\n",
       "(74.0, inf]        7759   1511  1.635118"
      ]
     },
     "execution_count": 113,
     "metadata": {},
     "output_type": "execute_result"
    }
   ],
   "source": [
    "bins_df = data.groupby('cut')['SeriousDlqin2yrs'].value_counts().unstack()\n",
    "bins_df['woe'] = np.log((bins_df[0]/bins_df[0].sum())/(bins_df[1]/bins_df[1].sum()))\n",
    "bins_df"
   ]
  },
  {
   "cell_type": "code",
   "execution_count": 114,
   "metadata": {},
   "outputs": [],
   "source": [
    "# 将以上的过程包装成函数\n",
    "def get_woe(df, col, y, bins):\n",
    "    df = df[[col, y]].copy()\n",
    "    df['cut'] = pd.cut(df[col], bins)\n",
    "    bins_df = df.groupby('cut')[y].value_counts().unstack()\n",
    "    woe = np.log((bins_df[0]/bins_df[0].sum())/(bins_df[1]/bins_df[1].sum()))\n",
    "    return woe\n"
   ]
  },
  {
   "cell_type": "code",
   "execution_count": 115,
   "metadata": {},
   "outputs": [
    {
     "data": {
      "text/plain": [
       "{'RevolvingUtilizationOfUnsecuredLines': cut\n",
       " (-inf, 0.0606]     2.442833\n",
       " (0.0606, 0.221]    1.057169\n",
       " (0.221, 0.552]    -0.123010\n",
       " (0.552, 0.983]    -1.166854\n",
       " (0.983, 1.0]      -0.469580\n",
       " (1.0, inf]        -2.080318\n",
       " dtype: float64, 'age': cut\n",
       " (-inf, 48.504]     -0.387176\n",
       " (48.504, 58.687]   -0.088401\n",
       " (58.687, 64.0]      0.569519\n",
       " (64.0, 74.0]        1.036835\n",
       " (74.0, inf]         1.635118\n",
       " dtype: float64, 'DebtRatio': cut\n",
       " (-inf, 0.0184]     1.506501\n",
       " (0.0184, 0.403]    0.040362\n",
       " (0.403, 1.485]    -0.395103\n",
       " (1.485, inf]       0.176310\n",
       " dtype: float64, 'MonthlyIncome': cut\n",
       " (-inf, 0.104]      1.487275\n",
       " (0.104, 5600.0]   -0.235481\n",
       " (5600.0, inf]      0.224811\n",
       " dtype: float64, 'NumberOfOpenCreditLinesAndLoans': cut\n",
       " (-inf, 5.973]    -0.281787\n",
       " (5.973, 6.0]      1.769811\n",
       " (6.0, 8.895]     -0.208129\n",
       " (8.895, 9.108]    1.188047\n",
       " (9.108, inf]      0.025029\n",
       " dtype: float64, 'NumberOfTime30-59DaysPastDueNotWorse': cut\n",
       " (-inf, 0.0]    1.092233\n",
       " (0.0, 1.0]    -1.389473\n",
       " (1.0, 2.0]    -2.036632\n",
       " (2.0, inf]    -2.267649\n",
       " dtype: float64, 'NumberOfTimes90DaysLate': cut\n",
       " (-inf, 0.0]    0.691197\n",
       " (0.0, 1.0]    -2.574470\n",
       " (1.0, 2.0]    -3.004679\n",
       " (2.0, inf]    -3.134174\n",
       " dtype: float64, 'NumberRealEstateLoansOrLines': cut\n",
       " (-inf, 0.0]    0.209326\n",
       " (0.0, 1.0]    -0.006077\n",
       " (1.0, 2.0]    -0.108496\n",
       " (2.0, 4.0]    -0.422143\n",
       " (4.0, inf]    -0.911234\n",
       " dtype: float64, 'NumberOfTime60-89DaysPastDueNotWorse': cut\n",
       " (-inf, 0.0]    0.542996\n",
       " (0.0, 1.0]    -2.468678\n",
       " (1.0, 2.0]    -2.951263\n",
       " (2.0, inf]    -2.828402\n",
       " dtype: float64, 'NumberOfDependents': cut\n",
       " (-inf, 0.0]    0.625341\n",
       " (0.0, 1.0]    -0.579585\n",
       " (1.0, 2.0]    -0.545073\n",
       " (2.0, inf]    -0.474213\n",
       " dtype: float64}"
      ]
     },
     "execution_count": 115,
     "metadata": {},
     "output_type": "execute_result"
    }
   ],
   "source": [
    "# 计算所有特征的woe值\n",
    "woe_all = {}\n",
    "for col in bins_of_col:\n",
    "    woe_all[col] = get_woe(train_data, col, 'SeriousDlqin2yrs', bins_of_col[col])\n",
    "woe_all"
   ]
  },
  {
   "cell_type": "code",
   "execution_count": 116,
   "metadata": {},
   "outputs": [
    {
     "data": {
      "text/plain": [
       "0        -0.088401\n",
       "1        -0.387176\n",
       "2         1.036835\n",
       "3        -0.387176\n",
       "4        -0.387176\n",
       "5        -0.387176\n",
       "6         1.635118\n",
       "7        -0.387176\n",
       "8        -0.088401\n",
       "9        -0.387176\n",
       "10        1.036835\n",
       "11       -0.088401\n",
       "12       -0.387176\n",
       "13       -0.387176\n",
       "14       -0.088401\n",
       "15       -0.088401\n",
       "16        1.635118\n",
       "17       -0.387176\n",
       "18        1.635118\n",
       "19       -0.088401\n",
       "20       -0.387176\n",
       "21       -0.088401\n",
       "22        0.569519\n",
       "23       -0.088401\n",
       "24       -0.088401\n",
       "25       -0.387176\n",
       "26       -0.387176\n",
       "27       -0.387176\n",
       "28       -0.387176\n",
       "29       -0.088401\n",
       "            ...   \n",
       "194978   -0.387176\n",
       "194979   -0.088401\n",
       "194980   -0.387176\n",
       "194981   -0.387176\n",
       "194982    0.569519\n",
       "194983   -0.387176\n",
       "194984    0.569519\n",
       "194985   -0.387176\n",
       "194986   -0.387176\n",
       "194987   -0.387176\n",
       "194988   -0.387176\n",
       "194989    0.569519\n",
       "194990    1.036835\n",
       "194991    0.569519\n",
       "194992   -0.387176\n",
       "194993    1.036835\n",
       "194994   -0.387176\n",
       "194995   -0.387176\n",
       "194996   -0.387176\n",
       "194997    1.036835\n",
       "194998   -0.088401\n",
       "194999   -0.088401\n",
       "195000   -0.387176\n",
       "195001   -0.387176\n",
       "195002   -0.088401\n",
       "195003   -0.088401\n",
       "195004   -0.387176\n",
       "195005    1.036835\n",
       "195006    1.635118\n",
       "195007   -0.387176\n",
       "Name: age, Length: 195008, dtype: float64"
      ]
     },
     "execution_count": 116,
     "metadata": {},
     "output_type": "execute_result"
    }
   ],
   "source": [
    "# 把所有的woe值映射到原始数据中\n",
    "train_data_woe = pd.DataFrame(index=train_data.index)\n",
    "train_data_woe['age'] = pd.cut(train_data['age'], bins_of_col['age']).map(woe_all['age'])\n",
    "train_data_woe['age']"
   ]
  },
  {
   "cell_type": "code",
   "execution_count": 118,
   "metadata": {},
   "outputs": [
    {
     "data": {
      "text/html": [
       "<div>\n",
       "<style scoped>\n",
       "    .dataframe tbody tr th:only-of-type {\n",
       "        vertical-align: middle;\n",
       "    }\n",
       "\n",
       "    .dataframe tbody tr th {\n",
       "        vertical-align: top;\n",
       "    }\n",
       "\n",
       "    .dataframe thead th {\n",
       "        text-align: right;\n",
       "    }\n",
       "</style>\n",
       "<table border=\"1\" class=\"dataframe\">\n",
       "  <thead>\n",
       "    <tr style=\"text-align: right;\">\n",
       "      <th></th>\n",
       "      <th>age</th>\n",
       "      <th>RevolvingUtilizationOfUnsecuredLines</th>\n",
       "      <th>DebtRatio</th>\n",
       "      <th>MonthlyIncome</th>\n",
       "      <th>NumberOfOpenCreditLinesAndLoans</th>\n",
       "      <th>NumberOfTime30-59DaysPastDueNotWorse</th>\n",
       "      <th>NumberOfTimes90DaysLate</th>\n",
       "      <th>NumberRealEstateLoansOrLines</th>\n",
       "      <th>NumberOfTime60-89DaysPastDueNotWorse</th>\n",
       "      <th>NumberOfDependents</th>\n",
       "      <th>SeriousDlqin2yrs</th>\n",
       "    </tr>\n",
       "  </thead>\n",
       "  <tbody>\n",
       "    <tr>\n",
       "      <th>0</th>\n",
       "      <td>-0.088401</td>\n",
       "      <td>2.442833</td>\n",
       "      <td>0.176310</td>\n",
       "      <td>-0.235481</td>\n",
       "      <td>0.025029</td>\n",
       "      <td>1.092233</td>\n",
       "      <td>0.691197</td>\n",
       "      <td>-0.006077</td>\n",
       "      <td>0.542996</td>\n",
       "      <td>0.625341</td>\n",
       "      <td>0</td>\n",
       "    </tr>\n",
       "    <tr>\n",
       "      <th>1</th>\n",
       "      <td>-0.387176</td>\n",
       "      <td>-0.123010</td>\n",
       "      <td>0.040362</td>\n",
       "      <td>0.224811</td>\n",
       "      <td>-0.281787</td>\n",
       "      <td>-1.389473</td>\n",
       "      <td>0.691197</td>\n",
       "      <td>-0.108496</td>\n",
       "      <td>-2.468678</td>\n",
       "      <td>-0.545073</td>\n",
       "      <td>1</td>\n",
       "    </tr>\n",
       "    <tr>\n",
       "      <th>2</th>\n",
       "      <td>1.036835</td>\n",
       "      <td>2.442833</td>\n",
       "      <td>0.040362</td>\n",
       "      <td>-0.235481</td>\n",
       "      <td>1.188047</td>\n",
       "      <td>1.092233</td>\n",
       "      <td>0.691197</td>\n",
       "      <td>-0.006077</td>\n",
       "      <td>0.542996</td>\n",
       "      <td>-0.579585</td>\n",
       "      <td>0</td>\n",
       "    </tr>\n",
       "    <tr>\n",
       "      <th>3</th>\n",
       "      <td>-0.387176</td>\n",
       "      <td>-0.123010</td>\n",
       "      <td>-0.395103</td>\n",
       "      <td>-0.235481</td>\n",
       "      <td>0.025029</td>\n",
       "      <td>-2.036632</td>\n",
       "      <td>0.691197</td>\n",
       "      <td>-0.108496</td>\n",
       "      <td>0.542996</td>\n",
       "      <td>-0.545073</td>\n",
       "      <td>1</td>\n",
       "    </tr>\n",
       "    <tr>\n",
       "      <th>4</th>\n",
       "      <td>-0.387176</td>\n",
       "      <td>-0.123010</td>\n",
       "      <td>-0.395103</td>\n",
       "      <td>0.224811</td>\n",
       "      <td>-0.208129</td>\n",
       "      <td>1.092233</td>\n",
       "      <td>0.691197</td>\n",
       "      <td>-0.422143</td>\n",
       "      <td>0.542996</td>\n",
       "      <td>-0.474213</td>\n",
       "      <td>1</td>\n",
       "    </tr>\n",
       "  </tbody>\n",
       "</table>\n",
       "</div>"
      ],
      "text/plain": [
       "        age  RevolvingUtilizationOfUnsecuredLines  DebtRatio  MonthlyIncome  \\\n",
       "0 -0.088401                              2.442833   0.176310      -0.235481   \n",
       "1 -0.387176                             -0.123010   0.040362       0.224811   \n",
       "2  1.036835                              2.442833   0.040362      -0.235481   \n",
       "3 -0.387176                             -0.123010  -0.395103      -0.235481   \n",
       "4 -0.387176                             -0.123010  -0.395103       0.224811   \n",
       "\n",
       "   NumberOfOpenCreditLinesAndLoans  NumberOfTime30-59DaysPastDueNotWorse  \\\n",
       "0                         0.025029                              1.092233   \n",
       "1                        -0.281787                             -1.389473   \n",
       "2                         1.188047                              1.092233   \n",
       "3                         0.025029                             -2.036632   \n",
       "4                        -0.208129                              1.092233   \n",
       "\n",
       "   NumberOfTimes90DaysLate  NumberRealEstateLoansOrLines  \\\n",
       "0                 0.691197                     -0.006077   \n",
       "1                 0.691197                     -0.108496   \n",
       "2                 0.691197                     -0.006077   \n",
       "3                 0.691197                     -0.108496   \n",
       "4                 0.691197                     -0.422143   \n",
       "\n",
       "   NumberOfTime60-89DaysPastDueNotWorse  NumberOfDependents  SeriousDlqin2yrs  \n",
       "0                              0.542996            0.625341                 0  \n",
       "1                             -2.468678           -0.545073                 1  \n",
       "2                              0.542996           -0.579585                 0  \n",
       "3                              0.542996           -0.545073                 1  \n",
       "4                              0.542996           -0.474213                 1  "
      ]
     },
     "execution_count": 118,
     "metadata": {},
     "output_type": "execute_result"
    }
   ],
   "source": [
    "# 接下来把所有的特征数据映射过去\n",
    "for col in bins_of_col:\n",
    "    train_data_woe[col] = pd.cut(train_data[col], bins_of_col[col]).map(woe_all[col])\n",
    "train_data_woe['SeriousDlqin2yrs'] = train_data['SeriousDlqin2yrs']\n",
    "train_data_woe.head()"
   ]
  },
  {
   "cell_type": "code",
   "execution_count": 121,
   "metadata": {},
   "outputs": [],
   "source": [
    "# 同样的方式处理测试数据集\n",
    "test_data_woe = pd.DataFrame(index=test_data.index)\n",
    "for col in bins_of_col:\n",
    "    test_data_woe[col] = pd.cut(test_data[col], bins_of_col[col]).map(woe_all[col])\n",
    "test_data_woe['SeriousDlqin2yrs'] = test_data['SeriousDlqin2yrs']\n",
    "\n",
    "test_x = test_data_woe.iloc[:, :-1]\n",
    "test_y = test_data_woe.iloc[:, -1]"
   ]
  },
  {
   "cell_type": "code",
   "execution_count": 122,
   "metadata": {},
   "outputs": [
    {
     "name": "stderr",
     "output_type": "stream",
     "text": [
      "/usr/local/lib/python3.7/site-packages/sklearn/linear_model/logistic.py:432: FutureWarning: Default solver will be changed to 'lbfgs' in 0.22. Specify a solver to silence this warning.\n",
      "  FutureWarning)\n"
     ]
    },
    {
     "data": {
      "text/plain": [
       "0.8613956159663061"
      ]
     },
     "execution_count": 122,
     "metadata": {},
     "output_type": "execute_result"
    }
   ],
   "source": [
    "train_x = train_data_woe.iloc[:, :-1]\n",
    "train_y = train_data_woe.iloc[:, -1]\n",
    "\n",
    "model = linear_model.LogisticRegression().fit(train_x, train_y)\n",
    "model.score(test_x, test_y)"
   ]
  },
  {
   "cell_type": "code",
   "execution_count": 129,
   "metadata": {},
   "outputs": [
    {
     "name": "stdout",
     "output_type": "stream",
     "text": [
      "0.8658362733836561 0.21842105263157896\n"
     ]
    },
    {
     "data": {
      "image/png": "[encoded data removed]",
      "text/plain": [
       "<Figure size 432x288 with 1 Axes>"
      ]
     },
     "metadata": {
      "needs_background": "light"
     },
     "output_type": "display_data"
    }
   ],
   "source": [
    "# 接下来开始调参\n",
    "c_1 = np.linspace(0.01, 1, 20)\n",
    "c_list = list(c_1)\n",
    "score = []\n",
    "for i in c_1:\n",
    "    lr = linear_model.LogisticRegression(solver='liblinear', C=i).fit(train_x, train_y)\n",
    "    score.append(lr.score(train_x, train_y))\n",
    "plt.plot(c_1, score)\n",
    "print(max(score), c_list[score.index(max(score))])\n",
    "plt.show()"
   ]
  },
  {
   "cell_type": "code",
   "execution_count": 130,
   "metadata": {},
   "outputs": [
    {
     "name": "stdout",
     "output_type": "stream",
     "text": [
      "0.8658362733836561 0.21578947368421053\n"
     ]
    },
    {
     "data": {
      "image/png": "[encoded data removed]",
      "text/plain": [
       "<Figure size 432x288 with 1 Axes>"
      ]
     },
     "metadata": {
      "needs_background": "light"
     },
     "output_type": "display_data"
    }
   ],
   "source": [
    "# 接下来开始微调\n",
    "c_1 = np.linspace(0.1, 0.3, 20)\n",
    "c_list = list(c_1)\n",
    "score = []\n",
    "for i in c_1:\n",
    "    lr = linear_model.LogisticRegression(solver='liblinear', C=i).fit(train_x, train_y)\n",
    "    score.append(lr.score(train_x, train_y))\n",
    "plt.plot(c_1, score)\n",
    "print(max(score), c_list[score.index(max(score))])\n",
    "plt.show()"
   ]
  },
  {
   "cell_type": "code",
   "execution_count": 131,
   "metadata": {},
   "outputs": [
    {
     "name": "stderr",
     "output_type": "stream",
     "text": [
      "/usr/local/lib/python3.7/site-packages/sklearn/svm/base.py:922: ConvergenceWarning: Liblinear failed to converge, increase the number of iterations.\n",
      "  \"the number of iterations.\", ConvergenceWarning)\n",
      "/usr/local/lib/python3.7/site-packages/sklearn/svm/base.py:922: ConvergenceWarning: Liblinear failed to converge, increase the number of iterations.\n",
      "  \"the number of iterations.\", ConvergenceWarning)\n",
      "/usr/local/lib/python3.7/site-packages/sklearn/svm/base.py:922: ConvergenceWarning: Liblinear failed to converge, increase the number of iterations.\n",
      "  \"the number of iterations.\", ConvergenceWarning)\n",
      "/usr/local/lib/python3.7/site-packages/sklearn/svm/base.py:922: ConvergenceWarning: Liblinear failed to converge, increase the number of iterations.\n",
      "  \"the number of iterations.\", ConvergenceWarning)\n",
      "/usr/local/lib/python3.7/site-packages/sklearn/svm/base.py:922: ConvergenceWarning: Liblinear failed to converge, increase the number of iterations.\n",
      "  \"the number of iterations.\", ConvergenceWarning)\n",
      "/usr/local/lib/python3.7/site-packages/sklearn/svm/base.py:922: ConvergenceWarning: Liblinear failed to converge, increase the number of iterations.\n",
      "  \"the number of iterations.\", ConvergenceWarning)\n"
     ]
    },
    {
     "name": "stdout",
     "output_type": "stream",
     "text": [
      "0.8658362733836561 6\n"
     ]
    },
    {
     "data": {
      "image/png": "[encoded data removed]",
      "text/plain": [
       "<Figure size 432x288 with 1 Axes>"
      ]
     },
     "metadata": {
      "needs_background": "light"
     },
     "output_type": "display_data"
    }
   ],
   "source": [
    "# 接下来开始调\n",
    "iters = list(range(1, 10))\n",
    "score = []\n",
    "for i in iters:\n",
    "    lr = linear_model.LogisticRegression(solver='liblinear', C=0.21578947368421053, max_iter=i).fit(train_x, train_y)\n",
    "    score.append(lr.score(train_x, train_y))\n",
    "plt.plot(iters, score)\n",
    "print(max(score), iters[score.index(max(score))])\n",
    "plt.show()"
   ]
  },
  {
   "cell_type": "code",
   "execution_count": 137,
   "metadata": {},
   "outputs": [
    {
     "data": {
      "text/plain": [
       "<matplotlib.axes._subplots.AxesSubplot at 0x11de4a438>"
      ]
     },
     "execution_count": 137,
     "metadata": {},
     "output_type": "execute_result"
    },
    {
     "data": {
      "image/png": "[encoded data removed]",
      "text/plain": [
       "<Figure size 432x288 with 1 Axes>"
      ]
     },
     "metadata": {
      "needs_background": "light"
     },
     "output_type": "display_data"
    }
   ],
   "source": [
    "# 从准确率上来说一般 我们来看看roc曲线\n",
    "import scikitplot as skplt\n",
    "\n",
    "test_proba_df = pd.DataFrame(lr.predict_proba(test_x))\n",
    "skplt.metrics.plot_roc(test_y, test_proba_df, plot_micro=False, plot_macro=False)"
   ]
  },
  {
   "cell_type": "code",
   "execution_count": null,
   "metadata": {},
   "outputs": [],
   "source": [
    "# 制作评分卡\n"
   ]
  }
 ],
 "metadata": {
  "kernelspec": {
   "display_name": "Python 3",
   "language": "python",
   "name": "python3"
  },
  "language_info": {
   "codemirror_mode": {
    "name": "ipython",
    "version": 3
   },
   "file_extension": ".py",
   "mimetype": "text/x-python",
   "name": "python",
   "nbconvert_exporter": "python",
   "pygments_lexer": "ipython3",
   "version": "3.7.0"
  }
 },
 "nbformat": 4,
 "nbformat_minor": 1
}
