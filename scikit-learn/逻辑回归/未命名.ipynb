{
 "cells": [
  {
   "cell_type": "code",
   "execution_count": 1,
   "metadata": {},
   "outputs": [],
   "source": [
    "import numpy as np\n",
    "import pandas as pd \n",
    "from sklearn import linear_model, model_selection\n",
    "import imblearn\n",
    "from imblearn import over_sampling\n",
    "import scipy\n",
    "from matplotlib import pyplot as plt"
   ]
  },
  {
   "cell_type": "code",
   "execution_count": 2,
   "metadata": {},
   "outputs": [
    {
     "data": {
      "text/html": [
       "<div>\n",
       "<style scoped>\n",
       "    .dataframe tbody tr th:only-of-type {\n",
       "        vertical-align: middle;\n",
       "    }\n",
       "\n",
       "    .dataframe tbody tr th {\n",
       "        vertical-align: top;\n",
       "    }\n",
       "\n",
       "    .dataframe thead th {\n",
       "        text-align: right;\n",
       "    }\n",
       "</style>\n",
       "<table border=\"1\" class=\"dataframe\">\n",
       "  <thead>\n",
       "    <tr style=\"text-align: right;\">\n",
       "      <th></th>\n",
       "      <th>SeriousDlqin2yrs</th>\n",
       "      <th>RevolvingUtilizationOfUnsecuredLines</th>\n",
       "      <th>age</th>\n",
       "      <th>NumberOfTime30-59DaysPastDueNotWorse</th>\n",
       "      <th>DebtRatio</th>\n",
       "      <th>MonthlyIncome</th>\n",
       "      <th>NumberOfOpenCreditLinesAndLoans</th>\n",
       "      <th>NumberOfTimes90DaysLate</th>\n",
       "      <th>NumberRealEstateLoansOrLines</th>\n",
       "      <th>NumberOfTime60-89DaysPastDueNotWorse</th>\n",
       "      <th>NumberOfDependents</th>\n",
       "    </tr>\n",
       "  </thead>\n",
       "  <tbody>\n",
       "    <tr>\n",
       "      <th>1</th>\n",
       "      <td>1</td>\n",
       "      <td>0.766127</td>\n",
       "      <td>45</td>\n",
       "      <td>2</td>\n",
       "      <td>0.802982</td>\n",
       "      <td>9120.0</td>\n",
       "      <td>13</td>\n",
       "      <td>0</td>\n",
       "      <td>6</td>\n",
       "      <td>0</td>\n",
       "      <td>2.0</td>\n",
       "    </tr>\n",
       "    <tr>\n",
       "      <th>2</th>\n",
       "      <td>0</td>\n",
       "      <td>0.957151</td>\n",
       "      <td>40</td>\n",
       "      <td>0</td>\n",
       "      <td>0.121876</td>\n",
       "      <td>2600.0</td>\n",
       "      <td>4</td>\n",
       "      <td>0</td>\n",
       "      <td>0</td>\n",
       "      <td>0</td>\n",
       "      <td>1.0</td>\n",
       "    </tr>\n",
       "    <tr>\n",
       "      <th>3</th>\n",
       "      <td>0</td>\n",
       "      <td>0.658180</td>\n",
       "      <td>38</td>\n",
       "      <td>1</td>\n",
       "      <td>0.085113</td>\n",
       "      <td>3042.0</td>\n",
       "      <td>2</td>\n",
       "      <td>1</td>\n",
       "      <td>0</td>\n",
       "      <td>0</td>\n",
       "      <td>0.0</td>\n",
       "    </tr>\n",
       "    <tr>\n",
       "      <th>4</th>\n",
       "      <td>0</td>\n",
       "      <td>0.233810</td>\n",
       "      <td>30</td>\n",
       "      <td>0</td>\n",
       "      <td>0.036050</td>\n",
       "      <td>3300.0</td>\n",
       "      <td>5</td>\n",
       "      <td>0</td>\n",
       "      <td>0</td>\n",
       "      <td>0</td>\n",
       "      <td>0.0</td>\n",
       "    </tr>\n",
       "    <tr>\n",
       "      <th>5</th>\n",
       "      <td>0</td>\n",
       "      <td>0.907239</td>\n",
       "      <td>49</td>\n",
       "      <td>1</td>\n",
       "      <td>0.024926</td>\n",
       "      <td>63588.0</td>\n",
       "      <td>7</td>\n",
       "      <td>0</td>\n",
       "      <td>1</td>\n",
       "      <td>0</td>\n",
       "      <td>0.0</td>\n",
       "    </tr>\n",
       "  </tbody>\n",
       "</table>\n",
       "</div>"
      ],
      "text/plain": [
       "   SeriousDlqin2yrs  RevolvingUtilizationOfUnsecuredLines  age  \\\n",
       "1                 1                              0.766127   45   \n",
       "2                 0                              0.957151   40   \n",
       "3                 0                              0.658180   38   \n",
       "4                 0                              0.233810   30   \n",
       "5                 0                              0.907239   49   \n",
       "\n",
       "   NumberOfTime30-59DaysPastDueNotWorse  DebtRatio  MonthlyIncome  \\\n",
       "1                                     2   0.802982         9120.0   \n",
       "2                                     0   0.121876         2600.0   \n",
       "3                                     1   0.085113         3042.0   \n",
       "4                                     0   0.036050         3300.0   \n",
       "5                                     1   0.024926        63588.0   \n",
       "\n",
       "   NumberOfOpenCreditLinesAndLoans  NumberOfTimes90DaysLate  \\\n",
       "1                               13                        0   \n",
       "2                                4                        0   \n",
       "3                                2                        1   \n",
       "4                                5                        0   \n",
       "5                                7                        0   \n",
       "\n",
       "   NumberRealEstateLoansOrLines  NumberOfTime60-89DaysPastDueNotWorse  \\\n",
       "1                             6                                     0   \n",
       "2                             0                                     0   \n",
       "3                             0                                     0   \n",
       "4                             0                                     0   \n",
       "5                             1                                     0   \n",
       "\n",
       "   NumberOfDependents  \n",
       "1                 2.0  \n",
       "2                 1.0  \n",
       "3                 0.0  \n",
       "4                 0.0  \n",
       "5                 0.0  "
      ]
     },
     "execution_count": 2,
     "metadata": {},
     "output_type": "execute_result"
    }
   ],
   "source": [
    "data = pd.read_csv('./data/rankingcard.csv', index_col=0)\n",
    "data.head()"
   ]
  },
  {
   "cell_type": "code",
   "execution_count": 3,
   "metadata": {},
   "outputs": [
    {
     "data": {
      "text/plain": [
       "(150000, 11)"
      ]
     },
     "execution_count": 3,
     "metadata": {},
     "output_type": "execute_result"
    }
   ],
   "source": [
    "data.shape"
   ]
  },
  {
   "cell_type": "code",
   "execution_count": 4,
   "metadata": {},
   "outputs": [
    {
     "name": "stdout",
     "output_type": "stream",
     "text": [
      "<class 'pandas.core.frame.DataFrame'>\n",
      "Int64Index: 150000 entries, 1 to 150000\n",
      "Data columns (total 11 columns):\n",
      "SeriousDlqin2yrs                        150000 non-null int64\n",
      "RevolvingUtilizationOfUnsecuredLines    150000 non-null float64\n",
      "age                                     150000 non-null int64\n",
      "NumberOfTime30-59DaysPastDueNotWorse    150000 non-null int64\n",
      "DebtRatio                               150000 non-null float64\n",
      "MonthlyIncome                           120269 non-null float64\n",
      "NumberOfOpenCreditLinesAndLoans         150000 non-null int64\n",
      "NumberOfTimes90DaysLate                 150000 non-null int64\n",
      "NumberRealEstateLoansOrLines            150000 non-null int64\n",
      "NumberOfTime60-89DaysPastDueNotWorse    150000 non-null int64\n",
      "NumberOfDependents                      146076 non-null float64\n",
      "dtypes: float64(4), int64(7)\n",
      "memory usage: 13.7 MB\n"
     ]
    }
   ],
   "source": [
    "data.info()"
   ]
  },
  {
   "cell_type": "code",
   "execution_count": 5,
   "metadata": {},
   "outputs": [
    {
     "data": {
      "text/plain": [
       "SeriousDlqin2yrs                        0.000000\n",
       "RevolvingUtilizationOfUnsecuredLines    0.000000\n",
       "age                                     0.000000\n",
       "NumberOfTime30-59DaysPastDueNotWorse    0.000000\n",
       "DebtRatio                               0.000000\n",
       "MonthlyIncome                           0.198207\n",
       "NumberOfOpenCreditLinesAndLoans         0.000000\n",
       "NumberOfTimes90DaysLate                 0.000000\n",
       "NumberRealEstateLoansOrLines            0.000000\n",
       "NumberOfTime60-89DaysPastDueNotWorse    0.000000\n",
       "NumberOfDependents                      0.026160\n",
       "dtype: float64"
      ]
     },
     "execution_count": 5,
     "metadata": {},
     "output_type": "execute_result"
    }
   ],
   "source": [
    "data.isnull().mean()"
   ]
  },
  {
   "cell_type": "code",
   "execution_count": 7,
   "metadata": {},
   "outputs": [],
   "source": [
    "data.drop_duplicates(inplace=True)"
   ]
  },
  {
   "cell_type": "code",
   "execution_count": 8,
   "metadata": {},
   "outputs": [
    {
     "name": "stdout",
     "output_type": "stream",
     "text": [
      "<class 'pandas.core.frame.DataFrame'>\n",
      "RangeIndex: 149391 entries, 0 to 149390\n",
      "Data columns (total 11 columns):\n",
      "SeriousDlqin2yrs                        149391 non-null int64\n",
      "RevolvingUtilizationOfUnsecuredLines    149391 non-null float64\n",
      "age                                     149391 non-null int64\n",
      "NumberOfTime30-59DaysPastDueNotWorse    149391 non-null int64\n",
      "DebtRatio                               149391 non-null float64\n",
      "MonthlyIncome                           120170 non-null float64\n",
      "NumberOfOpenCreditLinesAndLoans         149391 non-null int64\n",
      "NumberOfTimes90DaysLate                 149391 non-null int64\n",
      "NumberRealEstateLoansOrLines            149391 non-null int64\n",
      "NumberOfTime60-89DaysPastDueNotWorse    149391 non-null int64\n",
      "NumberOfDependents                      145563 non-null float64\n",
      "dtypes: float64(4), int64(7)\n",
      "memory usage: 12.5 MB\n"
     ]
    }
   ],
   "source": [
    "data.index = range(data.shape[0])\n",
    "data.info()"
   ]
  },
  {
   "cell_type": "code",
   "execution_count": 9,
   "metadata": {},
   "outputs": [
    {
     "data": {
      "text/plain": [
       "SeriousDlqin2yrs                        0.000000\n",
       "RevolvingUtilizationOfUnsecuredLines    0.000000\n",
       "age                                     0.000000\n",
       "NumberOfTime30-59DaysPastDueNotWorse    0.000000\n",
       "DebtRatio                               0.000000\n",
       "MonthlyIncome                           0.195601\n",
       "NumberOfOpenCreditLinesAndLoans         0.000000\n",
       "NumberOfTimes90DaysLate                 0.000000\n",
       "NumberRealEstateLoansOrLines            0.000000\n",
       "NumberOfTime60-89DaysPastDueNotWorse    0.000000\n",
       "NumberOfDependents                      0.025624\n",
       "dtype: float64"
      ]
     },
     "execution_count": 9,
     "metadata": {},
     "output_type": "execute_result"
    }
   ],
   "source": [
    "data.isnull().mean()"
   ]
  },
  {
   "cell_type": "code",
   "execution_count": 10,
   "metadata": {},
   "outputs": [],
   "source": [
    "data['NumberOfDependents'].fillna(int(data['NumberOfDependents'].mean()), inplace=True)"
   ]
  },
  {
   "cell_type": "code",
   "execution_count": 11,
   "metadata": {},
   "outputs": [
    {
     "data": {
      "text/plain": [
       "SeriousDlqin2yrs                        0.000000\n",
       "RevolvingUtilizationOfUnsecuredLines    0.000000\n",
       "age                                     0.000000\n",
       "NumberOfTime30-59DaysPastDueNotWorse    0.000000\n",
       "DebtRatio                               0.000000\n",
       "MonthlyIncome                           0.195601\n",
       "NumberOfOpenCreditLinesAndLoans         0.000000\n",
       "NumberOfTimes90DaysLate                 0.000000\n",
       "NumberRealEstateLoansOrLines            0.000000\n",
       "NumberOfTime60-89DaysPastDueNotWorse    0.000000\n",
       "NumberOfDependents                      0.000000\n",
       "dtype: float64"
      ]
     },
     "execution_count": 11,
     "metadata": {},
     "output_type": "execute_result"
    }
   ],
   "source": [
    "data.isnull().mean()"
   ]
  },
  {
   "cell_type": "code",
   "execution_count": 12,
   "metadata": {},
   "outputs": [],
   "source": [
    "# 对于MonthlyIncome 我们使用随机森林回归来填充值\n",
    "def fill_missing_rf(X, y, to_fill):\n",
    "    \"\"\"\n",
    "    使用随机森林填补一个特征缺失值\n",
    "    X: 要填补的特征矩阵\n",
    "    y: 完整的，没有缺失值的标签\n",
    "    to_fill: 字符串，要填补的那一列的名称\n",
    "    \"\"\"\n",
    "    \n",
    "    df = X.copy()\n",
    "    fill = df.loc[:, to_fill]\n",
    "    \n",
    "    # 构建新的特征矩阵\n",
    "    df = pd.concat([df.loc[:, df.columns != to_fill], pd.DataFrame(y)], axis=1)\n",
    "    \n",
    "    # 找出训练集和测试集\n",
    "    y_train = fill[fill.notnull()]\n",
    "    y_test = fill[fill.isnull()]\n",
    "    \n",
    "    x_train = df.iloc[y_train.index, :]\n",
    "    x_test = df.iloc[y_test.index, :]\n",
    "    \n",
    "    # 建立随机森林回归模型 来填补缺失值\n",
    "    from sklearn import ensemble\n",
    "    \n",
    "    rfr = ensemble.RandomForestRegressor(n_estimators=100).fit(x_train, y_train)\n",
    "    y_pred = rfr.predict(x_test)\n",
    "    \n",
    "    return y_pred\n",
    "    "
   ]
  },
  {
   "cell_type": "code",
   "execution_count": 13,
   "metadata": {},
   "outputs": [
    {
     "data": {
      "text/plain": [
       "(149391,)"
      ]
     },
     "execution_count": 13,
     "metadata": {},
     "output_type": "execute_result"
    }
   ],
   "source": [
    "X = data.iloc[:, 1:]\n",
    "y = data.iloc[:, 0]\n",
    "y.shape"
   ]
  },
  {
   "cell_type": "code",
   "execution_count": 14,
   "metadata": {},
   "outputs": [],
   "source": [
    "y_pred = fill_missing_rf(X, y, 'MonthlyIncome')\n",
    "data.loc[data['MonthlyIncome'].isnull(), 'MonthlyIncome'] = y_pred"
   ]
  },
  {
   "cell_type": "code",
   "execution_count": 15,
   "metadata": {},
   "outputs": [
    {
     "data": {
      "text/plain": [
       "SeriousDlqin2yrs                        0.0\n",
       "RevolvingUtilizationOfUnsecuredLines    0.0\n",
       "age                                     0.0\n",
       "NumberOfTime30-59DaysPastDueNotWorse    0.0\n",
       "DebtRatio                               0.0\n",
       "MonthlyIncome                           0.0\n",
       "NumberOfOpenCreditLinesAndLoans         0.0\n",
       "NumberOfTimes90DaysLate                 0.0\n",
       "NumberRealEstateLoansOrLines            0.0\n",
       "NumberOfTime60-89DaysPastDueNotWorse    0.0\n",
       "NumberOfDependents                      0.0\n",
       "dtype: float64"
      ]
     },
     "execution_count": 15,
     "metadata": {},
     "output_type": "execute_result"
    }
   ],
   "source": [
    "data.isnull().mean()"
   ]
  },
  {
   "cell_type": "code",
   "execution_count": 16,
   "metadata": {},
   "outputs": [
    {
     "data": {
      "text/html": [
       "<div>\n",
       "<style scoped>\n",
       "    .dataframe tbody tr th:only-of-type {\n",
       "        vertical-align: middle;\n",
       "    }\n",
       "\n",
       "    .dataframe tbody tr th {\n",
       "        vertical-align: top;\n",
       "    }\n",
       "\n",
       "    .dataframe thead th {\n",
       "        text-align: right;\n",
       "    }\n",
       "</style>\n",
       "<table border=\"1\" class=\"dataframe\">\n",
       "  <thead>\n",
       "    <tr style=\"text-align: right;\">\n",
       "      <th></th>\n",
       "      <th>count</th>\n",
       "      <th>mean</th>\n",
       "      <th>std</th>\n",
       "      <th>min</th>\n",
       "      <th>1%</th>\n",
       "      <th>10%</th>\n",
       "      <th>25%</th>\n",
       "      <th>50%</th>\n",
       "      <th>75%</th>\n",
       "      <th>90%</th>\n",
       "      <th>99%</th>\n",
       "      <th>max</th>\n",
       "    </tr>\n",
       "  </thead>\n",
       "  <tbody>\n",
       "    <tr>\n",
       "      <th>SeriousDlqin2yrs</th>\n",
       "      <td>149391.0</td>\n",
       "      <td>0.066999</td>\n",
       "      <td>0.250021</td>\n",
       "      <td>0.0</td>\n",
       "      <td>0.0</td>\n",
       "      <td>0.000000</td>\n",
       "      <td>0.000000</td>\n",
       "      <td>0.000000</td>\n",
       "      <td>0.000000</td>\n",
       "      <td>0.000000</td>\n",
       "      <td>1.000000</td>\n",
       "      <td>1.0</td>\n",
       "    </tr>\n",
       "    <tr>\n",
       "      <th>RevolvingUtilizationOfUnsecuredLines</th>\n",
       "      <td>149391.0</td>\n",
       "      <td>6.071087</td>\n",
       "      <td>250.263672</td>\n",
       "      <td>0.0</td>\n",
       "      <td>0.0</td>\n",
       "      <td>0.003199</td>\n",
       "      <td>0.030132</td>\n",
       "      <td>0.154235</td>\n",
       "      <td>0.556494</td>\n",
       "      <td>0.978007</td>\n",
       "      <td>1.093922</td>\n",
       "      <td>50708.0</td>\n",
       "    </tr>\n",
       "    <tr>\n",
       "      <th>age</th>\n",
       "      <td>149391.0</td>\n",
       "      <td>52.306237</td>\n",
       "      <td>14.725962</td>\n",
       "      <td>0.0</td>\n",
       "      <td>24.0</td>\n",
       "      <td>33.000000</td>\n",
       "      <td>41.000000</td>\n",
       "      <td>52.000000</td>\n",
       "      <td>63.000000</td>\n",
       "      <td>72.000000</td>\n",
       "      <td>87.000000</td>\n",
       "      <td>109.0</td>\n",
       "    </tr>\n",
       "    <tr>\n",
       "      <th>NumberOfTime30-59DaysPastDueNotWorse</th>\n",
       "      <td>149391.0</td>\n",
       "      <td>0.393886</td>\n",
       "      <td>3.852953</td>\n",
       "      <td>0.0</td>\n",
       "      <td>0.0</td>\n",
       "      <td>0.000000</td>\n",
       "      <td>0.000000</td>\n",
       "      <td>0.000000</td>\n",
       "      <td>0.000000</td>\n",
       "      <td>1.000000</td>\n",
       "      <td>4.000000</td>\n",
       "      <td>98.0</td>\n",
       "    </tr>\n",
       "    <tr>\n",
       "      <th>DebtRatio</th>\n",
       "      <td>149391.0</td>\n",
       "      <td>354.436740</td>\n",
       "      <td>2041.843455</td>\n",
       "      <td>0.0</td>\n",
       "      <td>0.0</td>\n",
       "      <td>0.034991</td>\n",
       "      <td>0.177441</td>\n",
       "      <td>0.368234</td>\n",
       "      <td>0.875279</td>\n",
       "      <td>1275.000000</td>\n",
       "      <td>4985.100000</td>\n",
       "      <td>329664.0</td>\n",
       "    </tr>\n",
       "    <tr>\n",
       "      <th>MonthlyIncome</th>\n",
       "      <td>149391.0</td>\n",
       "      <td>5425.787840</td>\n",
       "      <td>13241.400736</td>\n",
       "      <td>0.0</td>\n",
       "      <td>0.0</td>\n",
       "      <td>0.180000</td>\n",
       "      <td>1800.000000</td>\n",
       "      <td>4420.000000</td>\n",
       "      <td>7416.000000</td>\n",
       "      <td>10800.000000</td>\n",
       "      <td>23250.000000</td>\n",
       "      <td>3008750.0</td>\n",
       "    </tr>\n",
       "    <tr>\n",
       "      <th>NumberOfOpenCreditLinesAndLoans</th>\n",
       "      <td>149391.0</td>\n",
       "      <td>8.480892</td>\n",
       "      <td>5.136515</td>\n",
       "      <td>0.0</td>\n",
       "      <td>0.0</td>\n",
       "      <td>3.000000</td>\n",
       "      <td>5.000000</td>\n",
       "      <td>8.000000</td>\n",
       "      <td>11.000000</td>\n",
       "      <td>15.000000</td>\n",
       "      <td>24.000000</td>\n",
       "      <td>58.0</td>\n",
       "    </tr>\n",
       "    <tr>\n",
       "      <th>NumberOfTimes90DaysLate</th>\n",
       "      <td>149391.0</td>\n",
       "      <td>0.238120</td>\n",
       "      <td>3.826165</td>\n",
       "      <td>0.0</td>\n",
       "      <td>0.0</td>\n",
       "      <td>0.000000</td>\n",
       "      <td>0.000000</td>\n",
       "      <td>0.000000</td>\n",
       "      <td>0.000000</td>\n",
       "      <td>0.000000</td>\n",
       "      <td>3.000000</td>\n",
       "      <td>98.0</td>\n",
       "    </tr>\n",
       "    <tr>\n",
       "      <th>NumberRealEstateLoansOrLines</th>\n",
       "      <td>149391.0</td>\n",
       "      <td>1.022391</td>\n",
       "      <td>1.130196</td>\n",
       "      <td>0.0</td>\n",
       "      <td>0.0</td>\n",
       "      <td>0.000000</td>\n",
       "      <td>0.000000</td>\n",
       "      <td>1.000000</td>\n",
       "      <td>2.000000</td>\n",
       "      <td>2.000000</td>\n",
       "      <td>4.000000</td>\n",
       "      <td>54.0</td>\n",
       "    </tr>\n",
       "    <tr>\n",
       "      <th>NumberOfTime60-89DaysPastDueNotWorse</th>\n",
       "      <td>149391.0</td>\n",
       "      <td>0.212503</td>\n",
       "      <td>3.810523</td>\n",
       "      <td>0.0</td>\n",
       "      <td>0.0</td>\n",
       "      <td>0.000000</td>\n",
       "      <td>0.000000</td>\n",
       "      <td>0.000000</td>\n",
       "      <td>0.000000</td>\n",
       "      <td>0.000000</td>\n",
       "      <td>2.000000</td>\n",
       "      <td>98.0</td>\n",
       "    </tr>\n",
       "    <tr>\n",
       "      <th>NumberOfDependents</th>\n",
       "      <td>149391.0</td>\n",
       "      <td>0.740393</td>\n",
       "      <td>1.108272</td>\n",
       "      <td>0.0</td>\n",
       "      <td>0.0</td>\n",
       "      <td>0.000000</td>\n",
       "      <td>0.000000</td>\n",
       "      <td>0.000000</td>\n",
       "      <td>1.000000</td>\n",
       "      <td>2.000000</td>\n",
       "      <td>4.000000</td>\n",
       "      <td>20.0</td>\n",
       "    </tr>\n",
       "  </tbody>\n",
       "</table>\n",
       "</div>"
      ],
      "text/plain": [
       "                                         count         mean           std  \\\n",
       "SeriousDlqin2yrs                      149391.0     0.066999      0.250021   \n",
       "RevolvingUtilizationOfUnsecuredLines  149391.0     6.071087    250.263672   \n",
       "age                                   149391.0    52.306237     14.725962   \n",
       "NumberOfTime30-59DaysPastDueNotWorse  149391.0     0.393886      3.852953   \n",
       "DebtRatio                             149391.0   354.436740   2041.843455   \n",
       "MonthlyIncome                         149391.0  5425.787840  13241.400736   \n",
       "NumberOfOpenCreditLinesAndLoans       149391.0     8.480892      5.136515   \n",
       "NumberOfTimes90DaysLate               149391.0     0.238120      3.826165   \n",
       "NumberRealEstateLoansOrLines          149391.0     1.022391      1.130196   \n",
       "NumberOfTime60-89DaysPastDueNotWorse  149391.0     0.212503      3.810523   \n",
       "NumberOfDependents                    149391.0     0.740393      1.108272   \n",
       "\n",
       "                                      min    1%        10%          25%  \\\n",
       "SeriousDlqin2yrs                      0.0   0.0   0.000000     0.000000   \n",
       "RevolvingUtilizationOfUnsecuredLines  0.0   0.0   0.003199     0.030132   \n",
       "age                                   0.0  24.0  33.000000    41.000000   \n",
       "NumberOfTime30-59DaysPastDueNotWorse  0.0   0.0   0.000000     0.000000   \n",
       "DebtRatio                             0.0   0.0   0.034991     0.177441   \n",
       "MonthlyIncome                         0.0   0.0   0.180000  1800.000000   \n",
       "NumberOfOpenCreditLinesAndLoans       0.0   0.0   3.000000     5.000000   \n",
       "NumberOfTimes90DaysLate               0.0   0.0   0.000000     0.000000   \n",
       "NumberRealEstateLoansOrLines          0.0   0.0   0.000000     0.000000   \n",
       "NumberOfTime60-89DaysPastDueNotWorse  0.0   0.0   0.000000     0.000000   \n",
       "NumberOfDependents                    0.0   0.0   0.000000     0.000000   \n",
       "\n",
       "                                              50%          75%           90%  \\\n",
       "SeriousDlqin2yrs                         0.000000     0.000000      0.000000   \n",
       "RevolvingUtilizationOfUnsecuredLines     0.154235     0.556494      0.978007   \n",
       "age                                     52.000000    63.000000     72.000000   \n",
       "NumberOfTime30-59DaysPastDueNotWorse     0.000000     0.000000      1.000000   \n",
       "DebtRatio                                0.368234     0.875279   1275.000000   \n",
       "MonthlyIncome                         4420.000000  7416.000000  10800.000000   \n",
       "NumberOfOpenCreditLinesAndLoans          8.000000    11.000000     15.000000   \n",
       "NumberOfTimes90DaysLate                  0.000000     0.000000      0.000000   \n",
       "NumberRealEstateLoansOrLines             1.000000     2.000000      2.000000   \n",
       "NumberOfTime60-89DaysPastDueNotWorse     0.000000     0.000000      0.000000   \n",
       "NumberOfDependents                       0.000000     1.000000      2.000000   \n",
       "\n",
       "                                               99%        max  \n",
       "SeriousDlqin2yrs                          1.000000        1.0  \n",
       "RevolvingUtilizationOfUnsecuredLines      1.093922    50708.0  \n",
       "age                                      87.000000      109.0  \n",
       "NumberOfTime30-59DaysPastDueNotWorse      4.000000       98.0  \n",
       "DebtRatio                              4985.100000   329664.0  \n",
       "MonthlyIncome                         23250.000000  3008750.0  \n",
       "NumberOfOpenCreditLinesAndLoans          24.000000       58.0  \n",
       "NumberOfTimes90DaysLate                   3.000000       98.0  \n",
       "NumberRealEstateLoansOrLines              4.000000       54.0  \n",
       "NumberOfTime60-89DaysPastDueNotWorse      2.000000       98.0  \n",
       "NumberOfDependents                        4.000000       20.0  "
      ]
     },
     "execution_count": 16,
     "metadata": {},
     "output_type": "execute_result"
    }
   ],
   "source": [
    "# 描述性统计处理异常值\n",
    "data.describe([0.01, 0.1, 0.25, 0.50, 0.75, 0.9, 0.99]).T"
   ]
  },
  {
   "cell_type": "code",
   "execution_count": null,
   "metadata": {},
   "outputs": [],
   "source": []
  }
 ],
 "metadata": {
  "kernelspec": {
   "display_name": "Python 3",
   "language": "python",
   "name": "python3"
  },
  "language_info": {
   "codemirror_mode": {
    "name": "ipython",
    "version": 3
   },
   "file_extension": ".py",
   "mimetype": "text/x-python",
   "name": "python",
   "nbconvert_exporter": "python",
   "pygments_lexer": "ipython3",
   "version": "3.7.3"
  }
 },
 "nbformat": 4,
 "nbformat_minor": 2
}
