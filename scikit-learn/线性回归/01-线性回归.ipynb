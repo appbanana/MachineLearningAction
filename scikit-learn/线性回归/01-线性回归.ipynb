{
 "cells": [
  {
   "cell_type": "code",
   "execution_count": 1,
   "metadata": {},
   "outputs": [],
   "source": [
    "import numpy as np\n",
    "import pandas as pd\n",
    "from sklearn import linear_model, model_selection, datasets\n",
    "from matplotlib import pyplot as plt"
   ]
  },
  {
   "cell_type": "code",
   "execution_count": 2,
   "metadata": {},
   "outputs": [
    {
     "name": "stderr",
     "output_type": "stream",
     "text": [
      "Downloading Cal. housing from https://ndownloader.figshare.com/files/5976036 to /Users/apple/scikit_learn_data\n"
     ]
    }
   ],
   "source": [
    "# 获取加利福尼亚房价数据\n",
    "house_value = datasets.fetch_california_housing()"
   ]
  },
  {
   "cell_type": "code",
   "execution_count": 3,
   "metadata": {},
   "outputs": [
    {
     "data": {
      "text/plain": [
       "{'data': array([[   8.3252    ,   41.        ,    6.98412698, ...,    2.55555556,\n",
       "           37.88      , -122.23      ],\n",
       "        [   8.3014    ,   21.        ,    6.23813708, ...,    2.10984183,\n",
       "           37.86      , -122.22      ],\n",
       "        [   7.2574    ,   52.        ,    8.28813559, ...,    2.80225989,\n",
       "           37.85      , -122.24      ],\n",
       "        ...,\n",
       "        [   1.7       ,   17.        ,    5.20554273, ...,    2.3256351 ,\n",
       "           39.43      , -121.22      ],\n",
       "        [   1.8672    ,   18.        ,    5.32951289, ...,    2.12320917,\n",
       "           39.43      , -121.32      ],\n",
       "        [   2.3886    ,   16.        ,    5.25471698, ...,    2.61698113,\n",
       "           39.37      , -121.24      ]]),\n",
       " 'target': array([4.526, 3.585, 3.521, ..., 0.923, 0.847, 0.894]),\n",
       " 'feature_names': ['MedInc',\n",
       "  'HouseAge',\n",
       "  'AveRooms',\n",
       "  'AveBedrms',\n",
       "  'Population',\n",
       "  'AveOccup',\n",
       "  'Latitude',\n",
       "  'Longitude'],\n",
       " 'DESCR': '.. _california_housing_dataset:\\n\\nCalifornia Housing dataset\\n--------------------------\\n\\n**Data Set Characteristics:**\\n\\n    :Number of Instances: 20640\\n\\n    :Number of Attributes: 8 numeric, predictive attributes and the target\\n\\n    :Attribute Information:\\n        - MedInc        median income in block\\n        - HouseAge      median house age in block\\n        - AveRooms      average number of rooms\\n        - AveBedrms     average number of bedrooms\\n        - Population    block population\\n        - AveOccup      average house occupancy\\n        - Latitude      house block latitude\\n        - Longitude     house block longitude\\n\\n    :Missing Attribute Values: None\\n\\nThis dataset was obtained from the StatLib repository.\\nhttp://lib.stat.cmu.edu/datasets/\\n\\nThe target variable is the median house value for California districts.\\n\\nThis dataset was derived from the 1990 U.S. census, using one row per census\\nblock group. A block group is the smallest geographical unit for which the U.S.\\nCensus Bureau publishes sample data (a block group typically has a population\\nof 600 to 3,000 people).\\n\\nIt can be downloaded/loaded using the\\n:func:`sklearn.datasets.fetch_california_housing` function.\\n\\n.. topic:: References\\n\\n    - Pace, R. Kelley and Ronald Barry, Sparse Spatial Autoregressions,\\n      Statistics and Probability Letters, 33 (1997) 291-297\\n'}"
      ]
     },
     "execution_count": 3,
     "metadata": {},
     "output_type": "execute_result"
    }
   ],
   "source": [
    "house_value"
   ]
  },
  {
   "cell_type": "code",
   "execution_count": 5,
   "metadata": {},
   "outputs": [
    {
     "data": {
      "text/html": [
       "<div>\n",
       "<style scoped>\n",
       "    .dataframe tbody tr th:only-of-type {\n",
       "        vertical-align: middle;\n",
       "    }\n",
       "\n",
       "    .dataframe tbody tr th {\n",
       "        vertical-align: top;\n",
       "    }\n",
       "\n",
       "    .dataframe thead th {\n",
       "        text-align: right;\n",
       "    }\n",
       "</style>\n",
       "<table border=\"1\" class=\"dataframe\">\n",
       "  <thead>\n",
       "    <tr style=\"text-align: right;\">\n",
       "      <th></th>\n",
       "      <th>MedInc</th>\n",
       "      <th>HouseAge</th>\n",
       "      <th>AveRooms</th>\n",
       "      <th>AveBedrms</th>\n",
       "      <th>Population</th>\n",
       "      <th>AveOccup</th>\n",
       "      <th>Latitude</th>\n",
       "      <th>Longitude</th>\n",
       "    </tr>\n",
       "  </thead>\n",
       "  <tbody>\n",
       "    <tr>\n",
       "      <th>0</th>\n",
       "      <td>8.3252</td>\n",
       "      <td>41.0</td>\n",
       "      <td>6.984127</td>\n",
       "      <td>1.023810</td>\n",
       "      <td>322.0</td>\n",
       "      <td>2.555556</td>\n",
       "      <td>37.88</td>\n",
       "      <td>-122.23</td>\n",
       "    </tr>\n",
       "    <tr>\n",
       "      <th>1</th>\n",
       "      <td>8.3014</td>\n",
       "      <td>21.0</td>\n",
       "      <td>6.238137</td>\n",
       "      <td>0.971880</td>\n",
       "      <td>2401.0</td>\n",
       "      <td>2.109842</td>\n",
       "      <td>37.86</td>\n",
       "      <td>-122.22</td>\n",
       "    </tr>\n",
       "    <tr>\n",
       "      <th>2</th>\n",
       "      <td>7.2574</td>\n",
       "      <td>52.0</td>\n",
       "      <td>8.288136</td>\n",
       "      <td>1.073446</td>\n",
       "      <td>496.0</td>\n",
       "      <td>2.802260</td>\n",
       "      <td>37.85</td>\n",
       "      <td>-122.24</td>\n",
       "    </tr>\n",
       "    <tr>\n",
       "      <th>3</th>\n",
       "      <td>5.6431</td>\n",
       "      <td>52.0</td>\n",
       "      <td>5.817352</td>\n",
       "      <td>1.073059</td>\n",
       "      <td>558.0</td>\n",
       "      <td>2.547945</td>\n",
       "      <td>37.85</td>\n",
       "      <td>-122.25</td>\n",
       "    </tr>\n",
       "    <tr>\n",
       "      <th>4</th>\n",
       "      <td>3.8462</td>\n",
       "      <td>52.0</td>\n",
       "      <td>6.281853</td>\n",
       "      <td>1.081081</td>\n",
       "      <td>565.0</td>\n",
       "      <td>2.181467</td>\n",
       "      <td>37.85</td>\n",
       "      <td>-122.25</td>\n",
       "    </tr>\n",
       "  </tbody>\n",
       "</table>\n",
       "</div>"
      ],
      "text/plain": [
       "   MedInc  HouseAge  AveRooms  AveBedrms  Population  AveOccup  Latitude  \\\n",
       "0  8.3252      41.0  6.984127   1.023810       322.0  2.555556     37.88   \n",
       "1  8.3014      21.0  6.238137   0.971880      2401.0  2.109842     37.86   \n",
       "2  7.2574      52.0  8.288136   1.073446       496.0  2.802260     37.85   \n",
       "3  5.6431      52.0  5.817352   1.073059       558.0  2.547945     37.85   \n",
       "4  3.8462      52.0  6.281853   1.081081       565.0  2.181467     37.85   \n",
       "\n",
       "   Longitude  \n",
       "0    -122.23  \n",
       "1    -122.22  \n",
       "2    -122.24  \n",
       "3    -122.25  \n",
       "4    -122.25  "
      ]
     },
     "execution_count": 5,
     "metadata": {},
     "output_type": "execute_result"
    }
   ],
   "source": [
    "X = pd.DataFrame(house_value.data, columns=house_value.feature_names)\n",
    "y = house_value.target\n",
    "X.head()"
   ]
  },
  {
   "cell_type": "code",
   "execution_count": 9,
   "metadata": {},
   "outputs": [],
   "source": [
    "X_train, X_test, y_train, y_test = model_selection.train_test_split(X, y, test_size=0.3, random_state=66)"
   ]
  },
  {
   "cell_type": "code",
   "execution_count": 16,
   "metadata": {},
   "outputs": [
    {
     "data": {
      "text/html": [
       "<div>\n",
       "<style scoped>\n",
       "    .dataframe tbody tr th:only-of-type {\n",
       "        vertical-align: middle;\n",
       "    }\n",
       "\n",
       "    .dataframe tbody tr th {\n",
       "        vertical-align: top;\n",
       "    }\n",
       "\n",
       "    .dataframe thead th {\n",
       "        text-align: right;\n",
       "    }\n",
       "</style>\n",
       "<table border=\"1\" class=\"dataframe\">\n",
       "  <thead>\n",
       "    <tr style=\"text-align: right;\">\n",
       "      <th></th>\n",
       "      <th>MedInc</th>\n",
       "      <th>HouseAge</th>\n",
       "      <th>AveRooms</th>\n",
       "      <th>AveBedrms</th>\n",
       "      <th>Population</th>\n",
       "      <th>AveOccup</th>\n",
       "      <th>Latitude</th>\n",
       "      <th>Longitude</th>\n",
       "    </tr>\n",
       "  </thead>\n",
       "  <tbody>\n",
       "    <tr>\n",
       "      <th>0</th>\n",
       "      <td>8.2954</td>\n",
       "      <td>37.0</td>\n",
       "      <td>6.606607</td>\n",
       "      <td>1.043544</td>\n",
       "      <td>1521.0</td>\n",
       "      <td>2.283784</td>\n",
       "      <td>34.13</td>\n",
       "      <td>-118.43</td>\n",
       "    </tr>\n",
       "    <tr>\n",
       "      <th>1</th>\n",
       "      <td>2.8548</td>\n",
       "      <td>6.0</td>\n",
       "      <td>8.095915</td>\n",
       "      <td>1.428064</td>\n",
       "      <td>1543.0</td>\n",
       "      <td>2.740675</td>\n",
       "      <td>34.70</td>\n",
       "      <td>-118.09</td>\n",
       "    </tr>\n",
       "    <tr>\n",
       "      <th>2</th>\n",
       "      <td>2.3269</td>\n",
       "      <td>35.0</td>\n",
       "      <td>4.614754</td>\n",
       "      <td>1.084699</td>\n",
       "      <td>1135.0</td>\n",
       "      <td>3.101093</td>\n",
       "      <td>32.73</td>\n",
       "      <td>-117.11</td>\n",
       "    </tr>\n",
       "    <tr>\n",
       "      <th>3</th>\n",
       "      <td>4.0909</td>\n",
       "      <td>16.0</td>\n",
       "      <td>5.278351</td>\n",
       "      <td>0.961340</td>\n",
       "      <td>1052.0</td>\n",
       "      <td>2.711340</td>\n",
       "      <td>36.33</td>\n",
       "      <td>-119.66</td>\n",
       "    </tr>\n",
       "    <tr>\n",
       "      <th>4</th>\n",
       "      <td>2.4053</td>\n",
       "      <td>21.0</td>\n",
       "      <td>4.945133</td>\n",
       "      <td>1.171681</td>\n",
       "      <td>2236.0</td>\n",
       "      <td>3.957522</td>\n",
       "      <td>36.93</td>\n",
       "      <td>-121.78</td>\n",
       "    </tr>\n",
       "  </tbody>\n",
       "</table>\n",
       "</div>"
      ],
      "text/plain": [
       "   MedInc  HouseAge  AveRooms  AveBedrms  Population  AveOccup  Latitude  \\\n",
       "0  8.2954      37.0  6.606607   1.043544      1521.0  2.283784     34.13   \n",
       "1  2.8548       6.0  8.095915   1.428064      1543.0  2.740675     34.70   \n",
       "2  2.3269      35.0  4.614754   1.084699      1135.0  3.101093     32.73   \n",
       "3  4.0909      16.0  5.278351   0.961340      1052.0  2.711340     36.33   \n",
       "4  2.4053      21.0  4.945133   1.171681      2236.0  3.957522     36.93   \n",
       "\n",
       "   Longitude  \n",
       "0    -118.43  \n",
       "1    -118.09  \n",
       "2    -117.11  \n",
       "3    -119.66  \n",
       "4    -121.78  "
      ]
     },
     "execution_count": 16,
     "metadata": {},
     "output_type": "execute_result"
    }
   ],
   "source": [
    "X_train.head()"
   ]
  },
  {
   "cell_type": "code",
   "execution_count": 15,
   "metadata": {},
   "outputs": [],
   "source": [
    "# 数据集恢复索引\n",
    "for i in [X_train, X_test]:\n",
    "    i.index = range(i.shape[0])"
   ]
  },
  {
   "cell_type": "code",
   "execution_count": 17,
   "metadata": {},
   "outputs": [
    {
     "data": {
      "text/plain": [
       "0.5999497696043294"
      ]
     },
     "execution_count": 17,
     "metadata": {},
     "output_type": "execute_result"
    }
   ],
   "source": [
    "# 使用岭回归建立模型\n",
    "reg = linear_model.Ridge().fit(X_train, y_train)\n",
    "# 默认返回R^2\n",
    "reg.score(X_test, y_test)"
   ]
  },
  {
   "cell_type": "code",
   "execution_count": 19,
   "metadata": {},
   "outputs": [
    {
     "data": {
      "image/png": "[encoded data removed]",
      "text/plain": [
       "<Figure size 432x288 with 1 Axes>"
      ]
     },
     "metadata": {
      "needs_background": "light"
     },
     "output_type": "display_data"
    }
   ],
   "source": [
    "# 交叉验证下，岭回归与线性回归相比较\n",
    "alpha_range = np.arange(1, 1001, 100)\n",
    "ridge, lr = [], []\n",
    "for alpha in alpha_range:\n",
    "    reg = linear_model.Ridge(alpha=alpha)\n",
    "    reg_score = model_selection.cross_val_score(reg, X, y, cv=10, scoring='r2').mean()\n",
    "    ridge.append(reg_score)\n",
    "    \n",
    "    linear = linear_model.LinearRegression()\n",
    "    linear_score = model_selection.cross_val_score(linear,  X, y, cv=10, scoring='r2').mean()\n",
    "    lr.append(linear_score)\n",
    "plt.plot(alpha_range, ridge, c='red', label='ridge')\n",
    "plt.plot(alpha_range, lr, c='b', label='linear')\n",
    "plt.legend()\n",
    "plt.show()"
   ]
  },
  {
   "cell_type": "code",
   "execution_count": 20,
   "metadata": {},
   "outputs": [
    {
     "data": {
      "image/png": "[encoded data removed]",
      "text/plain": [
       "<Figure size 432x288 with 1 Axes>"
      ]
     },
     "metadata": {
      "needs_background": "light"
     },
     "output_type": "display_data"
    }
   ],
   "source": [
    "# 模型正则化下 方差的变化\n",
    "alpha_range = np.arange(1, 1001, 100)\n",
    "ridge, lr = [], []\n",
    "for alpha in alpha_range:\n",
    "    reg = linear_model.Ridge(alpha=alpha)\n",
    "    reg_score = model_selection.cross_val_score(reg, X, y, cv=10, scoring='r2').var()\n",
    "    ridge.append(reg_score)\n",
    "    \n",
    "    linear = linear_model.LinearRegression()\n",
    "    linear_score = model_selection.cross_val_score(linear,  X, y, cv=10, scoring='r2').var()\n",
    "    lr.append(linear_score)\n",
    "plt.plot(alpha_range, ridge, c='red', label='ridge')\n",
    "plt.plot(alpha_range, lr, c='b', label='linear')\n",
    "plt.legend()\n",
    "plt.show()"
   ]
  },
  {
   "cell_type": "code",
   "execution_count": 26,
   "metadata": {},
   "outputs": [
    {
     "data": {
      "text/html": [
       "<div>\n",
       "<style scoped>\n",
       "    .dataframe tbody tr th:only-of-type {\n",
       "        vertical-align: middle;\n",
       "    }\n",
       "\n",
       "    .dataframe tbody tr th {\n",
       "        vertical-align: top;\n",
       "    }\n",
       "\n",
       "    .dataframe thead th {\n",
       "        text-align: right;\n",
       "    }\n",
       "</style>\n",
       "<table border=\"1\" class=\"dataframe\">\n",
       "  <thead>\n",
       "    <tr style=\"text-align: right;\">\n",
       "      <th></th>\n",
       "      <th>CRIM</th>\n",
       "      <th>ZN</th>\n",
       "      <th>INDUS</th>\n",
       "      <th>CHAS</th>\n",
       "      <th>NOX</th>\n",
       "      <th>RM</th>\n",
       "      <th>AGE</th>\n",
       "      <th>DIS</th>\n",
       "      <th>RAD</th>\n",
       "      <th>TAX</th>\n",
       "      <th>PTRATIO</th>\n",
       "      <th>B</th>\n",
       "      <th>LSTAT</th>\n",
       "    </tr>\n",
       "  </thead>\n",
       "  <tbody>\n",
       "    <tr>\n",
       "      <th>0</th>\n",
       "      <td>0.00632</td>\n",
       "      <td>18.0</td>\n",
       "      <td>2.31</td>\n",
       "      <td>0.0</td>\n",
       "      <td>0.538</td>\n",
       "      <td>6.575</td>\n",
       "      <td>65.2</td>\n",
       "      <td>4.0900</td>\n",
       "      <td>1.0</td>\n",
       "      <td>296.0</td>\n",
       "      <td>15.3</td>\n",
       "      <td>396.90</td>\n",
       "      <td>4.98</td>\n",
       "    </tr>\n",
       "    <tr>\n",
       "      <th>1</th>\n",
       "      <td>0.02731</td>\n",
       "      <td>0.0</td>\n",
       "      <td>7.07</td>\n",
       "      <td>0.0</td>\n",
       "      <td>0.469</td>\n",
       "      <td>6.421</td>\n",
       "      <td>78.9</td>\n",
       "      <td>4.9671</td>\n",
       "      <td>2.0</td>\n",
       "      <td>242.0</td>\n",
       "      <td>17.8</td>\n",
       "      <td>396.90</td>\n",
       "      <td>9.14</td>\n",
       "    </tr>\n",
       "    <tr>\n",
       "      <th>2</th>\n",
       "      <td>0.02729</td>\n",
       "      <td>0.0</td>\n",
       "      <td>7.07</td>\n",
       "      <td>0.0</td>\n",
       "      <td>0.469</td>\n",
       "      <td>7.185</td>\n",
       "      <td>61.1</td>\n",
       "      <td>4.9671</td>\n",
       "      <td>2.0</td>\n",
       "      <td>242.0</td>\n",
       "      <td>17.8</td>\n",
       "      <td>392.83</td>\n",
       "      <td>4.03</td>\n",
       "    </tr>\n",
       "    <tr>\n",
       "      <th>3</th>\n",
       "      <td>0.03237</td>\n",
       "      <td>0.0</td>\n",
       "      <td>2.18</td>\n",
       "      <td>0.0</td>\n",
       "      <td>0.458</td>\n",
       "      <td>6.998</td>\n",
       "      <td>45.8</td>\n",
       "      <td>6.0622</td>\n",
       "      <td>3.0</td>\n",
       "      <td>222.0</td>\n",
       "      <td>18.7</td>\n",
       "      <td>394.63</td>\n",
       "      <td>2.94</td>\n",
       "    </tr>\n",
       "    <tr>\n",
       "      <th>4</th>\n",
       "      <td>0.06905</td>\n",
       "      <td>0.0</td>\n",
       "      <td>2.18</td>\n",
       "      <td>0.0</td>\n",
       "      <td>0.458</td>\n",
       "      <td>7.147</td>\n",
       "      <td>54.2</td>\n",
       "      <td>6.0622</td>\n",
       "      <td>3.0</td>\n",
       "      <td>222.0</td>\n",
       "      <td>18.7</td>\n",
       "      <td>396.90</td>\n",
       "      <td>5.33</td>\n",
       "    </tr>\n",
       "  </tbody>\n",
       "</table>\n",
       "</div>"
      ],
      "text/plain": [
       "      CRIM    ZN  INDUS  CHAS    NOX     RM   AGE     DIS  RAD    TAX  \\\n",
       "0  0.00632  18.0   2.31   0.0  0.538  6.575  65.2  4.0900  1.0  296.0   \n",
       "1  0.02731   0.0   7.07   0.0  0.469  6.421  78.9  4.9671  2.0  242.0   \n",
       "2  0.02729   0.0   7.07   0.0  0.469  7.185  61.1  4.9671  2.0  242.0   \n",
       "3  0.03237   0.0   2.18   0.0  0.458  6.998  45.8  6.0622  3.0  222.0   \n",
       "4  0.06905   0.0   2.18   0.0  0.458  7.147  54.2  6.0622  3.0  222.0   \n",
       "\n",
       "   PTRATIO       B  LSTAT  \n",
       "0     15.3  396.90   4.98  \n",
       "1     17.8  396.90   9.14  \n",
       "2     17.8  392.83   4.03  \n",
       "3     18.7  394.63   2.94  \n",
       "4     18.7  396.90   5.33  "
      ]
     },
     "execution_count": 26,
     "metadata": {},
     "output_type": "execute_result"
    }
   ],
   "source": [
    "# 再在波斯顿房价上查看\n",
    "boston = datasets.load_boston()\n",
    "X = pd.DataFrame(boston.data, columns=boston.feature_names)\n",
    "y = boston.target\n",
    "X.head()"
   ]
  },
  {
   "cell_type": "code",
   "execution_count": 27,
   "metadata": {},
   "outputs": [],
   "source": [
    "X_train, X_test, y_train, y_test = model_selection.train_test_split(X, y, test_size=0.3, random_state=66)"
   ]
  },
  {
   "cell_type": "code",
   "execution_count": 28,
   "metadata": {},
   "outputs": [],
   "source": [
    "for i in [X_train, X_test]:\n",
    "    i.index = range(i.shape[0])"
   ]
  },
  {
   "cell_type": "code",
   "execution_count": 29,
   "metadata": {},
   "outputs": [
    {
     "data": {
      "text/html": [
       "<div>\n",
       "<style scoped>\n",
       "    .dataframe tbody tr th:only-of-type {\n",
       "        vertical-align: middle;\n",
       "    }\n",
       "\n",
       "    .dataframe tbody tr th {\n",
       "        vertical-align: top;\n",
       "    }\n",
       "\n",
       "    .dataframe thead th {\n",
       "        text-align: right;\n",
       "    }\n",
       "</style>\n",
       "<table border=\"1\" class=\"dataframe\">\n",
       "  <thead>\n",
       "    <tr style=\"text-align: right;\">\n",
       "      <th></th>\n",
       "      <th>CRIM</th>\n",
       "      <th>ZN</th>\n",
       "      <th>INDUS</th>\n",
       "      <th>CHAS</th>\n",
       "      <th>NOX</th>\n",
       "      <th>RM</th>\n",
       "      <th>AGE</th>\n",
       "      <th>DIS</th>\n",
       "      <th>RAD</th>\n",
       "      <th>TAX</th>\n",
       "      <th>PTRATIO</th>\n",
       "      <th>B</th>\n",
       "      <th>LSTAT</th>\n",
       "    </tr>\n",
       "  </thead>\n",
       "  <tbody>\n",
       "    <tr>\n",
       "      <th>0</th>\n",
       "      <td>0.53412</td>\n",
       "      <td>20.0</td>\n",
       "      <td>3.97</td>\n",
       "      <td>0.0</td>\n",
       "      <td>0.647</td>\n",
       "      <td>7.520</td>\n",
       "      <td>89.4</td>\n",
       "      <td>2.1398</td>\n",
       "      <td>5.0</td>\n",
       "      <td>264.0</td>\n",
       "      <td>13.0</td>\n",
       "      <td>388.37</td>\n",
       "      <td>7.26</td>\n",
       "    </tr>\n",
       "    <tr>\n",
       "      <th>1</th>\n",
       "      <td>8.49213</td>\n",
       "      <td>0.0</td>\n",
       "      <td>18.10</td>\n",
       "      <td>0.0</td>\n",
       "      <td>0.584</td>\n",
       "      <td>6.348</td>\n",
       "      <td>86.1</td>\n",
       "      <td>2.0527</td>\n",
       "      <td>24.0</td>\n",
       "      <td>666.0</td>\n",
       "      <td>20.2</td>\n",
       "      <td>83.45</td>\n",
       "      <td>17.64</td>\n",
       "    </tr>\n",
       "    <tr>\n",
       "      <th>2</th>\n",
       "      <td>0.08873</td>\n",
       "      <td>21.0</td>\n",
       "      <td>5.64</td>\n",
       "      <td>0.0</td>\n",
       "      <td>0.439</td>\n",
       "      <td>5.963</td>\n",
       "      <td>45.7</td>\n",
       "      <td>6.8147</td>\n",
       "      <td>4.0</td>\n",
       "      <td>243.0</td>\n",
       "      <td>16.8</td>\n",
       "      <td>395.56</td>\n",
       "      <td>13.45</td>\n",
       "    </tr>\n",
       "    <tr>\n",
       "      <th>3</th>\n",
       "      <td>0.03049</td>\n",
       "      <td>55.0</td>\n",
       "      <td>3.78</td>\n",
       "      <td>0.0</td>\n",
       "      <td>0.484</td>\n",
       "      <td>6.874</td>\n",
       "      <td>28.1</td>\n",
       "      <td>6.4654</td>\n",
       "      <td>5.0</td>\n",
       "      <td>370.0</td>\n",
       "      <td>17.6</td>\n",
       "      <td>387.97</td>\n",
       "      <td>4.61</td>\n",
       "    </tr>\n",
       "    <tr>\n",
       "      <th>4</th>\n",
       "      <td>1.23247</td>\n",
       "      <td>0.0</td>\n",
       "      <td>8.14</td>\n",
       "      <td>0.0</td>\n",
       "      <td>0.538</td>\n",
       "      <td>6.142</td>\n",
       "      <td>91.7</td>\n",
       "      <td>3.9769</td>\n",
       "      <td>4.0</td>\n",
       "      <td>307.0</td>\n",
       "      <td>21.0</td>\n",
       "      <td>396.90</td>\n",
       "      <td>18.72</td>\n",
       "    </tr>\n",
       "  </tbody>\n",
       "</table>\n",
       "</div>"
      ],
      "text/plain": [
       "      CRIM    ZN  INDUS  CHAS    NOX     RM   AGE     DIS   RAD    TAX  \\\n",
       "0  0.53412  20.0   3.97   0.0  0.647  7.520  89.4  2.1398   5.0  264.0   \n",
       "1  8.49213   0.0  18.10   0.0  0.584  6.348  86.1  2.0527  24.0  666.0   \n",
       "2  0.08873  21.0   5.64   0.0  0.439  5.963  45.7  6.8147   4.0  243.0   \n",
       "3  0.03049  55.0   3.78   0.0  0.484  6.874  28.1  6.4654   5.0  370.0   \n",
       "4  1.23247   0.0   8.14   0.0  0.538  6.142  91.7  3.9769   4.0  307.0   \n",
       "\n",
       "   PTRATIO       B  LSTAT  \n",
       "0     13.0  388.37   7.26  \n",
       "1     20.2   83.45  17.64  \n",
       "2     16.8  395.56  13.45  \n",
       "3     17.6  387.97   4.61  \n",
       "4     21.0  396.90  18.72  "
      ]
     },
     "execution_count": 29,
     "metadata": {},
     "output_type": "execute_result"
    }
   ],
   "source": [
    "X_train.head()"
   ]
  },
  {
   "cell_type": "code",
   "execution_count": 32,
   "metadata": {},
   "outputs": [
    {
     "data": {
      "image/png": "[encoded data removed]",
      "text/plain": [
       "<Figure size 432x288 with 1 Axes>"
      ]
     },
     "metadata": {
      "needs_background": "light"
     },
     "output_type": "display_data"
    }
   ],
   "source": [
    "alpha_range = np.arange(1, 1001, 100)\n",
    "ridge, lr = [], []\n",
    "for alpha in alpha_range:\n",
    "    reg = linear_model.Ridge(alpha=alpha)\n",
    "    reg_score = model_selection.cross_val_score(reg, X, y, cv=10, scoring='r2').mean()\n",
    "    ridge.append(reg_score)\n",
    "    \n",
    "    linear = linear_model.LinearRegression()\n",
    "    linear_score = model_selection.cross_val_score(linear,X, y, cv=10, scoring='r2').mean()\n",
    "    lr.append(linear_score)\n",
    "plt.plot(alpha_range, ridge, c='r', label='ridge')\n",
    "plt.plot(alpha_range, lr, c='b', label='linear')\n",
    "plt.legend()\n",
    "plt.show()\n",
    "    "
   ]
  },
  {
   "cell_type": "code",
   "execution_count": 34,
   "metadata": {},
   "outputs": [
    {
     "data": {
      "image/png": "[encoded data removed]",
      "text/plain": [
       "<Figure size 432x288 with 1 Axes>"
      ]
     },
     "metadata": {
      "needs_background": "light"
     },
     "output_type": "display_data"
    }
   ],
   "source": [
    "# 细化alpha\n",
    "alpha_range = np.arange(50, 200, 10)\n",
    "ridge, lr = [], []\n",
    "for alpha in alpha_range:\n",
    "    reg = linear_model.Ridge(alpha=alpha)\n",
    "    reg_score = model_selection.cross_val_score(reg, X, y, cv=10, scoring='r2').mean()\n",
    "    ridge.append(reg_score)\n",
    "    \n",
    "    linear = linear_model.LinearRegression()\n",
    "    linear_score = model_selection.cross_val_score(linear,X, y, cv=10, scoring='r2').mean()\n",
    "    lr.append(linear_score)\n",
    "plt.plot(alpha_range, ridge, c='r', label='ridge')\n",
    "plt.plot(alpha_range, lr, c='b', label='linear')\n",
    "plt.legend()\n",
    "plt.show()"
   ]
  },
  {
   "cell_type": "code",
   "execution_count": 35,
   "metadata": {},
   "outputs": [
    {
     "data": {
      "image/png": "[encoded data removed]",
      "text/plain": [
       "<Figure size 432x288 with 1 Axes>"
      ]
     },
     "metadata": {
      "needs_background": "light"
     },
     "output_type": "display_data"
    }
   ],
   "source": [
    "# 模型正则化下 方差的变化\n",
    "alpha_range = np.arange(1, 1001, 100)\n",
    "ridge, lr = [], []\n",
    "for alpha in alpha_range:\n",
    "    reg = linear_model.Ridge(alpha=alpha)\n",
    "    reg_score = model_selection.cross_val_score(reg, X, y, cv=10, scoring='r2').var()\n",
    "    ridge.append(reg_score)\n",
    "    \n",
    "    linear = linear_model.LinearRegression()\n",
    "    linear_score = model_selection.cross_val_score(linear,  X, y, cv=10, scoring='r2').var()\n",
    "    lr.append(linear_score)\n",
    "plt.plot(alpha_range, ridge, c='red', label='ridge')\n",
    "plt.plot(alpha_range, lr, c='b', label='linear')\n",
    "plt.legend()\n",
    "plt.show()"
   ]
  },
  {
   "cell_type": "code",
   "execution_count": 37,
   "metadata": {},
   "outputs": [],
   "source": [
    "# 使用交叉验证选择合适的正则化参数\n",
    "house = datasets.fetch_california_housing()\n",
    "X = pd.DataFrame(house.data, columns=house.feature_names)\n",
    "y = house.target"
   ]
  },
  {
   "cell_type": "code",
   "execution_count": 42,
   "metadata": {},
   "outputs": [],
   "source": [
    "ridge_cv = linear_model.RidgeCV(\n",
    "    alphas=np.arange(1, 1001, 100),\n",
    "    store_cv_values=True\n",
    ").fit(X, y)\n"
   ]
  },
  {
   "cell_type": "code",
   "execution_count": 39,
   "metadata": {},
   "outputs": [
    {
     "data": {
      "text/plain": [
       "array([ 4.28137808e-01,  9.59363761e-03, -9.08724222e-02,  5.57500145e-01,\n",
       "       -3.38722327e-06, -3.77250879e-03, -4.19032209e-01, -4.30952059e-01])"
      ]
     },
     "execution_count": 39,
     "metadata": {},
     "output_type": "execute_result"
    }
   ],
   "source": [
    "ridge_cv.coef_"
   ]
  },
  {
   "cell_type": "code",
   "execution_count": 40,
   "metadata": {},
   "outputs": [
    {
     "data": {
      "text/plain": [
       "101"
      ]
     },
     "execution_count": 40,
     "metadata": {},
     "output_type": "execute_result"
    }
   ],
   "source": [
    "ridge_cv.alpha_"
   ]
  },
  {
   "cell_type": "code",
   "execution_count": 43,
   "metadata": {},
   "outputs": [
    {
     "data": {
      "text/plain": [
       "array([[0.1557472 , 0.16301246, 0.16892723, ..., 0.18881663, 0.19182353,\n",
       "        0.19466385],\n",
       "       [0.15334566, 0.13922075, 0.12849014, ..., 0.09744906, 0.09344092,\n",
       "        0.08981868],\n",
       "       [0.02429857, 0.03043271, 0.03543001, ..., 0.04971514, 0.05126165,\n",
       "        0.05253834],\n",
       "       ...,\n",
       "       [0.56545783, 0.5454654 , 0.52655917, ..., 0.44532597, 0.43130136,\n",
       "        0.41790336],\n",
       "       [0.27883123, 0.2692305 , 0.25944481, ..., 0.21328675, 0.20497018,\n",
       "        0.19698274],\n",
       "       [0.14313527, 0.13967826, 0.13511341, ..., 0.1078647 , 0.10251737,\n",
       "        0.0973334 ]])"
      ]
     },
     "execution_count": 43,
     "metadata": {},
     "output_type": "execute_result"
    }
   ],
   "source": [
    "ridge_cv.cv_values_"
   ]
  },
  {
   "cell_type": "code",
   "execution_count": 46,
   "metadata": {},
   "outputs": [
    {
     "data": {
      "text/plain": [
       "array([[ 1,  2],\n",
       "       [ 3,  4],\n",
       "       [ 5,  6],\n",
       "       [ 7,  8],\n",
       "       [ 9, 10],\n",
       "       [11, 12]])"
      ]
     },
     "execution_count": 46,
     "metadata": {},
     "output_type": "execute_result"
    }
   ],
   "source": [
    "# 下面是sklearn中的数据集的划分的学习 参考网址：https://www.cnblogs.com/nolonely/p/7007432.html\n",
    "# 第一种类型：KFold，GroupKFold，StratifiedKFold，\n",
    "xx = np.array(range(1, 13)).reshape(6, 2)\n",
    "xx"
   ]
  },
  {
   "cell_type": "code",
   "execution_count": 47,
   "metadata": {},
   "outputs": [],
   "source": [
    "y = np.array(range(1, 7))"
   ]
  },
  {
   "cell_type": "code",
   "execution_count": 52,
   "metadata": {},
   "outputs": [
    {
     "data": {
      "text/plain": [
       "3"
      ]
     },
     "execution_count": 52,
     "metadata": {},
     "output_type": "execute_result"
    }
   ],
   "source": [
    "# KFold\n",
    "kfold = model_selection.KFold(n_splits=3, random_state=66)\n",
    "kfold.get_n_splits(xx)"
   ]
  },
  {
   "cell_type": "code",
   "execution_count": 53,
   "metadata": {},
   "outputs": [
    {
     "data": {
      "text/plain": [
       "[(array([2, 3, 4, 5]), array([0, 1])),\n",
       " (array([0, 1, 4, 5]), array([2, 3])),\n",
       " (array([0, 1, 2, 3]), array([4, 5]))]"
      ]
     },
     "execution_count": 53,
     "metadata": {},
     "output_type": "execute_result"
    }
   ],
   "source": [
    "[*kfold.split(xx)]"
   ]
  },
  {
   "cell_type": "code",
   "execution_count": 65,
   "metadata": {},
   "outputs": [
    {
     "data": {
      "text/plain": [
       "<generator object _BaseKFold.split at 0x11f4594f8>"
      ]
     },
     "execution_count": 65,
     "metadata": {},
     "output_type": "execute_result"
    }
   ],
   "source": [
    "# GroupKFold\n",
    "xx = np.array(range(1, 13)).reshape(6, 2)\n",
    "y = np.array(range(1, 7))\n",
    "groups = np.array([1, 2, 3, 4, 5, 6])\n",
    "group_kfold =  model_selection.GroupKFold(n_splits=3)\n",
    "group_kfold.split(xx)"
   ]
  },
  {
   "cell_type": "code",
   "execution_count": 66,
   "metadata": {},
   "outputs": [
    {
     "data": {
      "text/plain": [
       "[(array([0, 1, 3, 4]), array([2, 5])),\n",
       " (array([0, 2, 3, 5]), array([1, 4])),\n",
       " (array([1, 2, 4, 5]), array([0, 3]))]"
      ]
     },
     "execution_count": 66,
     "metadata": {},
     "output_type": "execute_result"
    }
   ],
   "source": [
    "[*group_kfold.split(xx, y, groups)]"
   ]
  },
  {
   "cell_type": "code",
   "execution_count": 67,
   "metadata": {},
   "outputs": [
    {
     "data": {
      "text/plain": [
       "StratifiedKFold(n_splits=3, random_state=None, shuffle=False)"
      ]
     },
     "execution_count": 67,
     "metadata": {},
     "output_type": "execute_result"
    }
   ],
   "source": [
    "# StratifiedKFold：保证训练集中每一类的比例是相同的\n",
    "xx = np.array(range(1, 13)).reshape(6, 2)\n",
    "y = np.array([1, 1, 1, 2, 2, 2])\n",
    "skf = model_selection.StratifiedKFold(n_splits=3)\n",
    "skf.get_n_splits(xx, y)\n",
    "skf"
   ]
  },
  {
   "cell_type": "code",
   "execution_count": 70,
   "metadata": {},
   "outputs": [
    {
     "data": {
      "text/plain": [
       "[(array([1, 2, 4, 5]), array([0, 3])),\n",
       " (array([0, 2, 3, 5]), array([1, 4])),\n",
       " (array([0, 1, 3, 4]), array([2, 5]))]"
      ]
     },
     "execution_count": 70,
     "metadata": {},
     "output_type": "execute_result"
    }
   ],
   "source": [
    "[*skf.split(xx, y)]"
   ]
  },
  {
   "cell_type": "code",
   "execution_count": 71,
   "metadata": {},
   "outputs": [
    {
     "data": {
      "text/plain": [
       "[(array([1, 2, 3, 4, 5]), array([0])),\n",
       " (array([0, 2, 3, 4, 5]), array([1])),\n",
       " (array([0, 1, 3, 4, 5]), array([2])),\n",
       " (array([0, 1, 2, 4, 5]), array([3])),\n",
       " (array([0, 1, 2, 3, 5]), array([4])),\n",
       " (array([0, 1, 2, 3, 4]), array([5]))]"
      ]
     },
     "execution_count": 71,
     "metadata": {},
     "output_type": "execute_result"
    }
   ],
   "source": [
    "# 第二种：LeaveOneGroupOut，LeavePGroupsOut，LeaveOneOut，LeavePOut，\n",
    "# 留一法验证 假设有N个样本，将每一个样本作为测试样本，其他N-1个样本作为训练样本，这样得到N个分类器，\n",
    "#N个测试结果，用这N个结果的平均值来衡量模型的性能\n",
    "xx = np.array(range(1, 13)).reshape(6, 2)\n",
    "y = np.array(range(1, 7))\n",
    "loo = model_selection.LeaveOneOut()\n",
    "[*loo.split(xx)]"
   ]
  },
  {
   "cell_type": "code",
   "execution_count": 72,
   "metadata": {},
   "outputs": [
    {
     "data": {
      "text/plain": [
       "[(array([2, 3, 4, 5]), array([0, 1])),\n",
       " (array([1, 3, 4, 5]), array([0, 2])),\n",
       " (array([1, 2, 4, 5]), array([0, 3])),\n",
       " (array([1, 2, 3, 5]), array([0, 4])),\n",
       " (array([1, 2, 3, 4]), array([0, 5])),\n",
       " (array([0, 3, 4, 5]), array([1, 2])),\n",
       " (array([0, 2, 4, 5]), array([1, 3])),\n",
       " (array([0, 2, 3, 5]), array([1, 4])),\n",
       " (array([0, 2, 3, 4]), array([1, 5])),\n",
       " (array([0, 1, 4, 5]), array([2, 3])),\n",
       " (array([0, 1, 3, 5]), array([2, 4])),\n",
       " (array([0, 1, 3, 4]), array([2, 5])),\n",
       " (array([0, 1, 2, 5]), array([3, 4])),\n",
       " (array([0, 1, 2, 4]), array([3, 5])),\n",
       " (array([0, 1, 2, 3]), array([4, 5]))]"
      ]
     },
     "execution_count": 72,
     "metadata": {},
     "output_type": "execute_result"
    }
   ],
   "source": [
    "# 留P法验证\n",
    "xx = np.array(range(1, 13)).reshape(6, 2)\n",
    "y = np.array(range(1, 7))\n",
    "lpo = model_selection.LeavePOut(p=2)\n",
    "[*lpo.split(xx)]"
   ]
  },
  {
   "cell_type": "code",
   "execution_count": 73,
   "metadata": {},
   "outputs": [
    {
     "data": {
      "text/plain": [
       "[(array([3, 4, 5]), array([0, 1, 2])),\n",
       " (array([2, 4, 5]), array([0, 1, 3])),\n",
       " (array([2, 3, 5]), array([0, 1, 4])),\n",
       " (array([2, 3, 4]), array([0, 1, 5])),\n",
       " (array([1, 4, 5]), array([0, 2, 3])),\n",
       " (array([1, 3, 5]), array([0, 2, 4])),\n",
       " (array([1, 3, 4]), array([0, 2, 5])),\n",
       " (array([1, 2, 5]), array([0, 3, 4])),\n",
       " (array([1, 2, 4]), array([0, 3, 5])),\n",
       " (array([1, 2, 3]), array([0, 4, 5])),\n",
       " (array([0, 4, 5]), array([1, 2, 3])),\n",
       " (array([0, 3, 5]), array([1, 2, 4])),\n",
       " (array([0, 3, 4]), array([1, 2, 5])),\n",
       " (array([0, 2, 5]), array([1, 3, 4])),\n",
       " (array([0, 2, 4]), array([1, 3, 5])),\n",
       " (array([0, 2, 3]), array([1, 4, 5])),\n",
       " (array([0, 1, 5]), array([2, 3, 4])),\n",
       " (array([0, 1, 4]), array([2, 3, 5])),\n",
       " (array([0, 1, 3]), array([2, 4, 5])),\n",
       " (array([0, 1, 2]), array([3, 4, 5]))]"
      ]
     },
     "execution_count": 73,
     "metadata": {},
     "output_type": "execute_result"
    }
   ],
   "source": [
    "lpo = model_selection.LeavePOut(p=3)\n",
    "[*lpo.split(xx)]"
   ]
  },
  {
   "cell_type": "code",
   "execution_count": 84,
   "metadata": {},
   "outputs": [
    {
     "name": "stdout",
     "output_type": "stream",
     "text": [
      "TRAIN: [2 3] TEST: [0 1]\n",
      "TRAIN: [0 1] TEST: [2 3]\n"
     ]
    }
   ],
   "source": [
    "# LeaveOneGroupOut 依次次选取一个group当作测试集\n",
    "X = np.array([[1, 2], [3, 4], [5, 6], [7, 8]])\n",
    "y = np.array([1, 2, 1, 2])\n",
    "groups = np.array([1, 1, 2, 2])\n",
    "logo = model_selection.LeaveOneGroupOut()\n",
    "# logo.get_n_splits(X, y, groups)\n",
    "# [*logo.split(X=xx, y=y, groups=groups)]\n",
    "for train_index, test_index in logo.split(X, y, groups):\n",
    "    print(\"TRAIN:\", train_index, \"TEST:\", test_index)\n",
    "#     X_train, X_test = X[train_index], X[test_index]\n",
    "#     y_train, y_test = y[train_index], y[test_index]\n",
    "#     print(X_train, X_test, y_train, y_test)"
   ]
  },
  {
   "cell_type": "code",
   "execution_count": 91,
   "metadata": {},
   "outputs": [
    {
     "name": "stdout",
     "output_type": "stream",
     "text": [
      "TRAIN: [1 3 4 5] TEST: [0 2]\n",
      "TRAIN: [0 2 4 5] TEST: [1 3]\n",
      "TRAIN: [0 1 2 3] TEST: [4 5]\n"
     ]
    }
   ],
   "source": [
    "# LeavePGroupsOut\n",
    "# X = np.array([[1, 2], [3, 4], [5, 6], [7, 8]])\n",
    "xx = np.array(range(1, 13)).reshape(6, 2)\n",
    "y = np.array([1, 2, 1, 2, 1, 2])\n",
    "groups = np.array([1, 2, 1, 2, 3, 3,])\n",
    "lpg = model_selection.LeavePGroupsOut(n_groups=2)\n",
    "# [*lpg.split(xx, groups=groups)]\n",
    "# lpg.split(xx, groups=groups)\n",
    "for train_index, test_index in logo.split(xx, y, groups):\n",
    "    print(\"TRAIN:\", train_index, \"TEST:\", test_index)"
   ]
  },
  {
   "cell_type": "code",
   "execution_count": 92,
   "metadata": {},
   "outputs": [
    {
     "name": "stdout",
     "output_type": "stream",
     "text": [
      "TRAIN: [1 3 4 5] TEST: [0 2]\n",
      "TRAIN: [0 2 4 5] TEST: [1 3]\n",
      "TRAIN: [0 1 2 3] TEST: [4 5]\n"
     ]
    }
   ],
   "source": [
    "# 因为groups只有将两个样本分为一组 所以n_groups取3时无效\n",
    "lpg = model_selection.LeavePGroupsOut(n_groups=3)\n",
    "for train_index, test_index in logo.split(xx, y, groups):\n",
    "    print(\"TRAIN:\", train_index, \"TEST:\", test_index)"
   ]
  },
  {
   "cell_type": "code",
   "execution_count": 93,
   "metadata": {},
   "outputs": [
    {
     "data": {
      "text/plain": [
       "[(array([2, 3, 5, 4]), array([0, 1])), (array([1, 5, 3, 2]), array([4, 0]))]"
      ]
     },
     "execution_count": 93,
     "metadata": {},
     "output_type": "execute_result"
    }
   ],
   "source": [
    "# 第二种：随机划分法：ShuffleSplit，GroupShuffleSplit，StratifiedShuffleSplit\n",
    "# ShuffleSplit 随机将数据分成几份，每份取test_size百分比作为测试集\n",
    "xx = np.array(range(1, 13)).reshape(6, 2)\n",
    "y = np.array(range(1, 7))\n",
    "ss = model_selection.ShuffleSplit(n_splits=2, test_size=0.25, random_state=66)\n",
    "[*ss.split(xx)]"
   ]
  },
  {
   "cell_type": "code",
   "execution_count": 98,
   "metadata": {},
   "outputs": [
    {
     "name": "stdout",
     "output_type": "stream",
     "text": [
      "TRAIN: [0 1 4 5] TEST: [2 3]\n",
      "TRAIN: [2 3 4 5] TEST: [0 1]\n"
     ]
    }
   ],
   "source": [
    "# GroupShuffleSplit 组随机抽样\n",
    "xx = np.array(range(1, 13)).reshape(6, 2)\n",
    "y = np.array(range(1, 7))\n",
    "groups = np.array([1, 1, 2, 2, 3, 3])\n",
    "gss = model_selection.GroupShuffleSplit(n_splits=2, test_size=0.25, random_state=66)\n",
    "for train_index, test_index in gss.split(xx, y, groups):\n",
    "    print(\"TRAIN:\", train_index, \"TEST:\", test_index)"
   ]
  },
  {
   "cell_type": "code",
   "execution_count": 99,
   "metadata": {},
   "outputs": [
    {
     "name": "stdout",
     "output_type": "stream",
     "text": [
      "TRAIN: [0 1 2] TEST: [3 4 5]\n",
      "TRAIN: [0 1 2] TEST: [3 4 5]\n"
     ]
    }
   ],
   "source": [
    "groups = np.array([1, 1, 1, 3, 3, 3])\n",
    "gss = model_selection.GroupShuffleSplit(n_splits=2, test_size=0.25, random_state=66)\n",
    "for train_index, test_index in gss.split(xx, y, groups):\n",
    "    print(\"TRAIN:\", train_index, \"TEST:\", test_index)"
   ]
  },
  {
   "cell_type": "code",
   "execution_count": 104,
   "metadata": {},
   "outputs": [
    {
     "name": "stdout",
     "output_type": "stream",
     "text": [
      "TRAIN: [1 3 4] TEST: [0 2 5]\n",
      "TRAIN: [4 3 0] TEST: [1 5 2]\n",
      "TRAIN: [0 2 4] TEST: [3 1 5]\n",
      "TRAIN: [3 1 5] TEST: [4 2 0]\n",
      "TRAIN: [1 3 5] TEST: [2 4 0]\n"
     ]
    }
   ],
   "source": [
    "# StratifiedShuffleSplit 分层随机抽样\n",
    "xx = np.array(range(1, 13)).reshape(6, 2)\n",
    "y = np.array([1, 1, 2, 2, 3, 3])\n",
    "sss = model_selection.StratifiedShuffleSplit(n_splits=5, test_size=0.5, random_state=66)\n",
    "for train_index, test_index in sss.split(xx, y):\n",
    "    print(\"TRAIN:\", train_index, \"TEST:\", test_index)"
   ]
  },
  {
   "cell_type": "code",
   "execution_count": null,
   "metadata": {},
   "outputs": [],
   "source": []
  }
 ],
 "metadata": {
  "kernelspec": {
   "display_name": "Python 3",
   "language": "python",
   "name": "python3"
  },
  "language_info": {
   "codemirror_mode": {
    "name": "ipython",
    "version": 3
   },
   "file_extension": ".py",
   "mimetype": "text/x-python",
   "name": "python",
   "nbconvert_exporter": "python",
   "pygments_lexer": "ipython3",
   "version": "3.7.0"
  }
 },
 "nbformat": 4,
 "nbformat_minor": 1
}
