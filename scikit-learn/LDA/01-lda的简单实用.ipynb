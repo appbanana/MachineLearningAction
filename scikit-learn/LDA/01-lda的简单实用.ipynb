{
 "cells": [
  {
   "cell_type": "code",
   "execution_count": 26,
   "metadata": {},
   "outputs": [],
   "source": [
    "import pandas as pd\n",
    "import numpy as np\n",
    "from gensim import corpora, models, similarities\n",
    "from IPython.core.interactiveshell import InteractiveShell\n"
   ]
  },
  {
   "cell_type": "code",
   "execution_count": 27,
   "metadata": {},
   "outputs": [],
   "source": [
    "# 配置项\n",
    "%config IPCompleter.greedy=True\n",
    "\n",
    "\n",
    "# #全部行都能输出\n",
    "InteractiveShell.ast_node_interactivity = \"all\""
   ]
  },
  {
   "cell_type": "code",
   "execution_count": 3,
   "metadata": {},
   "outputs": [
    {
     "data": {
      "text/html": [
       "<div>\n",
       "<style scoped>\n",
       "    .dataframe tbody tr th:only-of-type {\n",
       "        vertical-align: middle;\n",
       "    }\n",
       "\n",
       "    .dataframe tbody tr th {\n",
       "        vertical-align: top;\n",
       "    }\n",
       "\n",
       "    .dataframe thead th {\n",
       "        text-align: right;\n",
       "    }\n",
       "</style>\n",
       "<table border=\"1\" class=\"dataframe\">\n",
       "  <thead>\n",
       "    <tr style=\"text-align: right;\">\n",
       "      <th></th>\n",
       "      <th>Human machine interface for lab abc computer applications</th>\n",
       "    </tr>\n",
       "  </thead>\n",
       "  <tbody>\n",
       "    <tr>\n",
       "      <th>0</th>\n",
       "      <td>A survey of user opinion of computer system re...</td>\n",
       "    </tr>\n",
       "    <tr>\n",
       "      <th>1</th>\n",
       "      <td>The EPS user interface management system</td>\n",
       "    </tr>\n",
       "    <tr>\n",
       "      <th>2</th>\n",
       "      <td>System and human system engineering testing of...</td>\n",
       "    </tr>\n",
       "    <tr>\n",
       "      <th>3</th>\n",
       "      <td>Relation of user perceived response time to er...</td>\n",
       "    </tr>\n",
       "    <tr>\n",
       "      <th>4</th>\n",
       "      <td>The generation of random binary unordered trees</td>\n",
       "    </tr>\n",
       "    <tr>\n",
       "      <th>5</th>\n",
       "      <td>The intersection graph of paths in trees</td>\n",
       "    </tr>\n",
       "    <tr>\n",
       "      <th>6</th>\n",
       "      <td>Graph minors IV Widths of trees and well quasi...</td>\n",
       "    </tr>\n",
       "    <tr>\n",
       "      <th>7</th>\n",
       "      <td>Graph minors A survey</td>\n",
       "    </tr>\n",
       "  </tbody>\n",
       "</table>\n",
       "</div>"
      ],
      "text/plain": [
       "  Human machine interface for lab abc computer applications\n",
       "0  A survey of user opinion of computer system re...       \n",
       "1           The EPS user interface management system       \n",
       "2  System and human system engineering testing of...       \n",
       "3  Relation of user perceived response time to er...       \n",
       "4    The generation of random binary unordered trees       \n",
       "5           The intersection graph of paths in trees       \n",
       "6  Graph minors IV Widths of trees and well quasi...       \n",
       "7                              Graph minors A survey       "
      ]
     },
     "execution_count": 3,
     "metadata": {},
     "output_type": "execute_result"
    }
   ],
   "source": [
    "data = pd.read_csv('22.LDA_test.txt')\n",
    "data"
   ]
  },
  {
   "cell_type": "code",
   "execution_count": 5,
   "metadata": {},
   "outputs": [
    {
     "data": {
      "text/plain": [
       "{'a', 'and', 'for', 'in', 'of', 'the', 'to'}"
      ]
     },
     "execution_count": 5,
     "metadata": {},
     "output_type": "execute_result"
    }
   ],
   "source": [
    "# 停止词\n",
    "stop_list = set('for a of the and to in'.split())\n",
    "stop_list"
   ]
  },
  {
   "cell_type": "code",
   "execution_count": 19,
   "metadata": {},
   "outputs": [
    {
     "data": {
      "text/plain": [
       "[['survey', 'user', 'opinion', 'computer', 'system', 'response', 'time'],\n",
       " ['eps', 'user', 'interface', 'management', 'system'],\n",
       " ['system', 'human', 'system', 'engineering', 'testing', 'eps'],\n",
       " ['relation', 'user', 'perceived', 'response', 'time', 'error', 'measurement'],\n",
       " ['generation', 'random', 'binary', 'unordered', 'trees'],\n",
       " ['intersection', 'graph', 'paths', 'trees'],\n",
       " ['graph', 'minors', 'iv', 'widths', 'trees', 'well', 'quasi', 'ordering'],\n",
       " ['graph', 'minors', 'survey']]"
      ]
     },
     "execution_count": 19,
     "metadata": {},
     "output_type": "execute_result"
    }
   ],
   "source": [
    "# 去停用词 把单词提取出来\n",
    "data_texts = [[word for word in line.strip().lower().split(' ') \n",
    "               if word not in stop_list] \n",
    "              for line in data.iloc[:, 0]]\n",
    "data_texts"
   ]
  },
  {
   "cell_type": "code",
   "execution_count": 34,
   "metadata": {},
   "outputs": [],
   "source": [
    "dictionary = corpora.Dictionary(data_texts)\n",
    "# 把单词转化成id\n",
    "# dictionary.token2id\n",
    "# 加载的文档数目\n",
    "# dictionary.num_docs"
   ]
  },
  {
   "cell_type": "code",
   "execution_count": 36,
   "metadata": {},
   "outputs": [
    {
     "data": {
      "text/plain": [
       "[[(0, 1), (1, 1), (2, 1), (3, 1), (4, 1), (5, 1), (6, 1)],\n",
       " [(4, 1), (6, 1), (7, 1), (8, 1), (9, 1)],\n",
       " [(4, 2), (7, 1), (10, 1), (11, 1), (12, 1)],\n",
       " [(2, 1), (5, 1), (6, 1), (13, 1), (14, 1), (15, 1), (16, 1)],\n",
       " [(17, 1), (18, 1), (19, 1), (20, 1), (21, 1)],\n",
       " [(20, 1), (22, 1), (23, 1), (24, 1)],\n",
       " [(20, 1), (22, 1), (25, 1), (26, 1), (27, 1), (28, 1), (29, 1), (30, 1)],\n",
       " [(3, 1), (22, 1), (26, 1)]]"
      ]
     },
     "execution_count": 36,
     "metadata": {},
     "output_type": "execute_result"
    }
   ],
   "source": [
    "corpus = [dictionary.doc2bow(line) for line in data_texts]\n",
    "corpus"
   ]
  },
  {
   "cell_type": "code",
   "execution_count": 42,
   "metadata": {},
   "outputs": [
    {
     "data": {
      "text/plain": [
       "[[(0, 0.5144604839493077),\n",
       "  (1, 0.5144604839493077),\n",
       "  (2, 0.3429736559662051),\n",
       "  (3, 0.3429736559662051),\n",
       "  (4, 0.2426602922284707),\n",
       "  (5, 0.3429736559662051),\n",
       "  (6, 0.2426602922284707)],\n",
       " [(4, 0.27748680746253657),\n",
       "  (6, 0.27748680746253657),\n",
       "  (7, 0.39219710799742663),\n",
       "  (8, 0.5882956619961399),\n",
       "  (9, 0.5882956619961399)],\n",
       " [(4, 0.45312051966667244),\n",
       "  (7, 0.32021802948515476),\n",
       "  (10, 0.48032704422773215),\n",
       "  (11, 0.48032704422773215),\n",
       "  (12, 0.48032704422773215)],\n",
       " [(2, 0.2948764407342803),\n",
       "  (5, 0.2948764407342803),\n",
       "  (6, 0.20863061064644112),\n",
       "  (13, 0.44231466110142054),\n",
       "  (14, 0.44231466110142054),\n",
       "  (15, 0.44231466110142054),\n",
       "  (16, 0.44231466110142054)],\n",
       " [(17, 0.4866493367774363),\n",
       "  (18, 0.4866493367774363),\n",
       "  (19, 0.4866493367774363),\n",
       "  (20, 0.22954235351308377),\n",
       "  (21, 0.4866493367774363)],\n",
       " [(20, 0.30165504678093485),\n",
       "  (22, 0.30165504678093485),\n",
       "  (23, 0.6395343874660627),\n",
       "  (24, 0.6395343874660627)],\n",
       " [(20, 0.19436180038939097),\n",
       "  (22, 0.19436180038939097),\n",
       "  (25, 0.4120635682554951),\n",
       "  (26, 0.27470904550366343),\n",
       "  (27, 0.4120635682554951),\n",
       "  (28, 0.4120635682554951),\n",
       "  (29, 0.4120635682554951),\n",
       "  (30, 0.4120635682554951)],\n",
       " [(3, 0.632381828294334), (22, 0.4474220004494987), (26, 0.632381828294334)]]"
      ]
     },
     "execution_count": 42,
     "metadata": {},
     "output_type": "execute_result"
    }
   ],
   "source": [
    "corpus_tfidf = models.TfidfModel(corpus)[corpus]\n",
    "[* corpus_tfidf]\n"
   ]
  },
  {
   "cell_type": "code",
   "execution_count": 50,
   "metadata": {},
   "outputs": [
    {
     "data": {
      "text/plain": [
       "[[(0, 0.6704212442609235), (1, -0.22475722889302158)],\n",
       " [(0, 0.4274331981128131), (1, -0.4796826404094615)],\n",
       " [(0, 0.37344070191138057), (1, -0.4441824103440035)],\n",
       " [(0, 0.40055548254283047), (1, -0.258709267040433)],\n",
       " [(0, 0.07257140181557972), (1, 0.17078741700431108)],\n",
       " [(0, 0.26309641331220396), (1, 0.4404281053086908)],\n",
       " [(0, 0.38067944719848523), (1, 0.5684088459732185)],\n",
       " [(0, 0.5775696456050284), (1, 0.48577104473514676)]]"
      ]
     },
     "execution_count": 50,
     "metadata": {},
     "output_type": "execute_result"
    },
    {
     "name": "stdout",
     "output_type": "stream",
     "text": [
      "******************************\n"
     ]
    },
    {
     "data": {
      "text/plain": [
       "[(0,\n",
       "  '0.401*\"survey\" + 0.316*\"minors\" + 0.303*\"system\" + 0.277*\"graph\" + 0.246*\"user\"'),\n",
       " (1,\n",
       "  '0.349*\"minors\" + 0.347*\"graph\" + -0.293*\"system\" + -0.249*\"eps\" + 0.213*\"trees\"')]"
      ]
     },
     "execution_count": 50,
     "metadata": {},
     "output_type": "execute_result"
    },
    {
     "name": "stdout",
     "output_type": "stream",
     "text": [
      "******************************\n"
     ]
    },
    {
     "data": {
      "text/plain": [
       "[array([1.        , 0.86808664, 0.85344744, 0.96891284, 0.07825231,\n",
       "        0.21335457, 0.263498  , 0.5210174 ], dtype=float32),\n",
       " array([ 0.86808664,  1.0000001 ,  0.9995862 ,  0.9639139 , -0.42696086,\n",
       "        -0.2997726 , -0.25013044,  0.02857701], dtype=float32),\n",
       " array([ 8.5344744e-01,  9.9958622e-01,  1.0000000e+00,  9.5585704e-01,\n",
       "        -4.5279664e-01, -3.2709184e-01, -2.7787879e-01, -1.8934038e-04],\n",
       "       dtype=float32),\n",
       " array([ 0.96891284,  0.9639139 ,  0.95585704,  0.99999994, -0.17082398,\n",
       "        -0.03498379,  0.01664756,  0.29365116], dtype=float32),\n",
       " array([ 0.07825231, -0.42696086, -0.45279664, -0.17082398,  1.        ,\n",
       "         0.9906745 ,  0.9823212 ,  0.89169955], dtype=float32),\n",
       " array([ 0.21335457, -0.2997726 , -0.32709184, -0.03498379,  0.9906745 ,\n",
       "         0.99999994,  0.99866694,  0.9450545 ], dtype=float32),\n",
       " array([ 0.263498  , -0.25013044, -0.2778788 ,  0.01664756,  0.9823212 ,\n",
       "         0.99866694,  1.        ,  0.96066874], dtype=float32),\n",
       " array([ 5.2101737e-01,  2.8577007e-02, -1.8934038e-04,  2.9365116e-01,\n",
       "         8.9169955e-01,  9.4505447e-01,  9.6066874e-01,  9.9999994e-01],\n",
       "       dtype=float32)]"
      ]
     },
     "execution_count": 50,
     "metadata": {},
     "output_type": "execute_result"
    }
   ],
   "source": [
    "lsi = models.LsiModel(corpus=corpus_tfidf, num_topics=2, id2word=dictionary)\n",
    "topic_result = [a for a in lsi[corpus_tfidf]]\n",
    "topic_result\n",
    "print('***' * 10)\n",
    "lsi.print_topics(num_topics=2, num_words=5)\n",
    "print('***' * 10)\n",
    "list(similarities.MatrixSimilarity(corpus=lsi[corpus_tfidf]))"
   ]
  },
  {
   "cell_type": "code",
   "execution_count": 49,
   "metadata": {},
   "outputs": [
    {
     "data": {
      "text/plain": [
       "[[(0, 0.25242853), (1, 0.74757147)],\n",
       " [(0, 0.609658), (1, 0.39034197)],\n",
       " [(0, 0.46594885), (1, 0.5340512)],\n",
       " [(0, 0.3039411), (1, 0.69605887)],\n",
       " [(0, 0.72621197), (1, 0.27378803)],\n",
       " [(0, 0.36687118), (1, 0.6331288)],\n",
       " [(0, 0.23214193), (1, 0.767858)],\n",
       " [(0, 0.26118717), (1, 0.7388128)]]"
      ]
     },
     "execution_count": 49,
     "metadata": {},
     "output_type": "execute_result"
    },
    {
     "name": "stdout",
     "output_type": "stream",
     "text": [
      "******************************\n"
     ]
    },
    {
     "data": {
      "text/plain": [
       "[[('eps', 0.040784054),\n",
       "  ('random', 0.04042789),\n",
       "  ('unordered', 0.03987739),\n",
       "  ('generation', 0.039529156),\n",
       "  ('binary', 0.03939213),\n",
       "  ('user', 0.038381264),\n",
       "  ('management', 0.038303025),\n",
       "  ('trees', 0.03827824),\n",
       "  ('interface', 0.037694685),\n",
       "  ('system', 0.036862206)],\n",
       " [('survey', 0.04913843),\n",
       "  ('minors', 0.04848479),\n",
       "  ('graph', 0.04650354),\n",
       "  ('system', 0.04326208),\n",
       "  ('response', 0.037066963),\n",
       "  ('time', 0.035821956),\n",
       "  ('computer', 0.03430912),\n",
       "  ('paths', 0.033761255),\n",
       "  ('opinion', 0.0336728),\n",
       "  ('intersection', 0.033445645)]]"
      ]
     },
     "execution_count": 49,
     "metadata": {},
     "output_type": "execute_result"
    },
    {
     "name": "stdout",
     "output_type": "stream",
     "text": [
      "******************************\n"
     ]
    },
    {
     "data": {
      "text/plain": [
       "[array([1.        , 0.7800468 , 0.92543435, 0.99628514, 0.6334311 ,\n",
       "        0.980158  , 0.9994907 , 0.9998991 ], dtype=float32),\n",
       " array([0.7800468 , 0.99999994, 0.9589728 , 0.8310333 , 0.97828835,\n",
       "        0.8885982 , 0.75968134, 0.78885597], dtype=float32),\n",
       " array([0.92543435, 0.9589728 , 1.        , 0.9546263 , 0.8793975 ,\n",
       "        0.9821782 , 0.9128712 , 0.9307231 ], dtype=float32),\n",
       " array([0.99628514, 0.8310333 , 0.9546263 , 0.99999994, 0.697714  ,\n",
       "        0.9935865 , 0.9930296 , 0.99740785], dtype=float32),\n",
       " array([0.6334311 , 0.97828835, 0.8793975 , 0.697714  , 0.99999994,\n",
       "        0.77424335, 0.60841477, 0.6443584 ], dtype=float32),\n",
       " array([0.980158  , 0.8885982 , 0.9821782 , 0.9935865 , 0.77424335,\n",
       "        1.        , 0.9733332 , 0.98287463], dtype=float32),\n",
       " array([0.9994907 , 0.75968134, 0.9128712 , 0.9930296 , 0.60841477,\n",
       "        0.9733332 , 1.        , 0.99893653], dtype=float32),\n",
       " array([0.9998991 , 0.78885597, 0.9307231 , 0.99740785, 0.6443584 ,\n",
       "        0.98287463, 0.99893653, 1.        ], dtype=float32)]"
      ]
     },
     "execution_count": 49,
     "metadata": {},
     "output_type": "execute_result"
    }
   ],
   "source": [
    "num_topics = 2\n",
    "lda = models.LdaModel(corpus=corpus_tfidf, \n",
    "                      num_topics=num_topics, \n",
    "                      id2word=dictionary, \n",
    "                      alpha='auto', \n",
    "                      eta='auto', \n",
    "                      minimum_probability=0.001)\n",
    "[doc_t for doc_t in lda[corpus_tfidf]]\n",
    "print('***' * 10)\n",
    "\n",
    "[lda.show_topic(i) for i in range(num_topics)]\n",
    "print('***' * 10)\n",
    "list(similarities.MatrixSimilarity(corpus=lda[corpus_tfidf]))"
   ]
  },
  {
   "cell_type": "code",
   "execution_count": 54,
   "metadata": {},
   "outputs": [
    {
     "data": {
      "text/plain": [
       "[[(0, 0.7913546653721194),\n",
       "  (1, 0.05637515280199051),\n",
       "  (2, 0.04343967587078447),\n",
       "  (3, 0.029524966913848486),\n",
       "  (4, 0.021522044447341397),\n",
       "  (5, 0.01587412759775977),\n",
       "  (6, 0.011743567843330745)],\n",
       " [(0, 0.7638512017021488),\n",
       "  (1, 0.06365144319391157),\n",
       "  (2, 0.04906350545933148),\n",
       "  (3, 0.033481131713656805),\n",
       "  (4, 0.024411132838698817),\n",
       "  (5, 0.01800541039897691),\n",
       "  (6, 0.013320274971539)],\n",
       " [(0, 0.5947980205151644),\n",
       "  (1, 0.23741953221332474),\n",
       "  (2, 0.04781625781641477),\n",
       "  (3, 0.0325473884782397),\n",
       "  (4, 0.023723730510435775),\n",
       "  (5, 0.01749814138905409),\n",
       "  (6, 0.012945000354836231)],\n",
       " [(0, 0.07985335962873226),\n",
       "  (1, 0.055700338650282843),\n",
       "  (2, 0.7563813869601043),\n",
       "  (3, 0.029303661553427358),\n",
       "  (4, 0.02137424566022493),\n",
       "  (5, 0.015765204500429127),\n",
       "  (6, 0.01166298855201405)],\n",
       " [(0, 0.5254037453063376),\n",
       "  (1, 0.3052613419366467),\n",
       "  (2, 0.047944779076514656),\n",
       "  (3, 0.032920785297669994),\n",
       "  (4, 0.024008610715561592),\n",
       "  (5, 0.01770848104177841),\n",
       "  (6, 0.013100610594038916)],\n",
       " [(0, 0.7431851108666192),\n",
       "  (1, 0.06961830329366774),\n",
       "  (2, 0.05343549090941809),\n",
       "  (3, 0.03627511256274734),\n",
       "  (4, 0.026455656912535094),\n",
       "  (5, 0.019513260865076005),\n",
       "  (6, 0.014435773813041775),\n",
       "  (7, 0.010326285826031376)],\n",
       " [(0, 0.4152466525685609),\n",
       "  (1, 0.4400823994571124),\n",
       "  (2, 0.041111559642104556),\n",
       "  (3, 0.02809985584260684),\n",
       "  (4, 0.0204783222434977),\n",
       "  (5, 0.01510429076620299),\n",
       "  (6, 0.011174048729345049)],\n",
       " [(0, 0.10737029701698822),\n",
       "  (1, 0.6938995369120217),\n",
       "  (2, 0.05657625738950855),\n",
       "  (3, 0.038550467778916346),\n",
       "  (4, 0.028115870426440526),\n",
       "  (5, 0.020737742433314648),\n",
       "  (6, 0.015341637576777204),\n",
       "  (7, 0.010974273821463366)]]"
      ]
     },
     "execution_count": 54,
     "metadata": {},
     "output_type": "execute_result"
    },
    {
     "name": "stdout",
     "output_type": "stream",
     "text": [
      "******************************\n"
     ]
    },
    {
     "data": {
      "text/plain": [
       "[(0,\n",
       "  '0.115*eps + 0.071*unordered + 0.069*management + 0.056*generation + 0.054*survey'),\n",
       " (1,\n",
       "  '0.170*ordering + 0.124*minors + 0.080*widths + 0.071*binary + 0.068*intersection')]"
      ]
     },
     "execution_count": 54,
     "metadata": {},
     "output_type": "execute_result"
    }
   ],
   "source": [
    "hda = models.HdpModel(corpus=corpus, id2word=dictionary)\n",
    "[doc_t for doc_t in hda[corpus_tfidf]]\n",
    "print('***' * 10)\n",
    "hda.print_topics(num_topics=2, num_words=5)"
   ]
  },
  {
   "cell_type": "code",
   "execution_count": null,
   "metadata": {},
   "outputs": [],
   "source": []
  }
 ],
 "metadata": {
  "kernelspec": {
   "display_name": "Python 3",
   "language": "python",
   "name": "python3"
  },
  "language_info": {
   "codemirror_mode": {
    "name": "ipython",
    "version": 3
   },
   "file_extension": ".py",
   "mimetype": "text/x-python",
   "name": "python",
   "nbconvert_exporter": "python",
   "pygments_lexer": "ipython3",
   "version": "3.7.3"
  }
 },
 "nbformat": 4,
 "nbformat_minor": 2
}
