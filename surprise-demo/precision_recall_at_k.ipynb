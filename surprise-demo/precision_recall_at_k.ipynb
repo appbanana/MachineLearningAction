{
 "cells": [
  {
   "cell_type": "code",
   "execution_count": 1,
   "metadata": {},
   "outputs": [],
   "source": [
    "from collections import defaultdict\n",
    "from surprise import Dataset\n",
    "from surprise import SVD, model_selection, accuracy"
   ]
  },
  {
   "cell_type": "code",
   "execution_count": 2,
   "metadata": {},
   "outputs": [],
   "source": [
    "data = Dataset.load_builtin('ml-100k')"
   ]
  },
  {
   "cell_type": "code",
   "execution_count": 33,
   "metadata": {},
   "outputs": [],
   "source": [
    "def precision_recall_at_k(predictions, k=10, threshold=3.5):\n",
    "    '''返回精度和召回率'''\n",
    "\n",
    "    # \n",
    "    user_est_true_r = defaultdict(list)\n",
    "    for prediction in predictions:\n",
    "        user_est_true_r[prediction.uid].append((prediction.est, prediction.r_ui))\n",
    "    # \n",
    "    precisions = dict()\n",
    "    recalls = dict()\n",
    "    for uid, user_ratings in user_est_true_r.items():\n",
    "        # 按照预测分将序排列\n",
    "        user_ratings.sort(key=lambda x: x[0], reverse=True)\n",
    "        # 数据中真正相关的项目\n",
    "        n_real = sum((true_r >= threshold) for (_, true_r) in user_ratings)\n",
    "        \n",
    "        # top-n推荐的item中大于阈值的\n",
    "        n_rec_k = sum((est >= threshold) for (est, _) in user_ratings[:k])\n",
    "        \n",
    "        # 推荐的项目中相关的\n",
    "        n_real_rec_k = sum(((est >= threshold) and (true_r >= threshold)) \\\n",
    "                            for (est, true_r) in user_ratings[:k])\n",
    "#         print(prediction.uid)\n",
    "        precisions[uid] = n_real_rec_k / n_rec_k if n_rec_k != 0 else 1\n",
    "        recalls[uid] = n_real_rec_k / n_real if n_real != 0 else 1\n",
    "\n",
    "    return precisions, recalls"
   ]
  },
  {
   "cell_type": "code",
   "execution_count": 35,
   "metadata": {},
   "outputs": [
    {
     "name": "stdout",
     "output_type": "stream",
     "text": [
      "精度: 0.8625088464260434\n",
      "召回率: 0.25590772886173047\n",
      "精度: 0.8833864118895963\n",
      "召回率: 0.2639979593214614\n",
      "精度: 0.8756627783669136\n",
      "召回率: 0.26283300056707987\n",
      "精度: 0.8781139419674447\n",
      "召回率: 0.2570607229071825\n",
      "精度: 0.8612230470130782\n",
      "召回率: 0.25488633592062754\n"
     ]
    }
   ],
   "source": [
    "algo = SVD()\n",
    "kf = model_selection.KFold(n_splits=5)\n",
    "for trainset, testset in kf.split(data):\n",
    "    algo.fit(trainset)\n",
    "    pred = algo.test(testset)\n",
    "    precisions, recalls = precision_recall_at_k(pred, k=5, threshold=4)\n",
    "    \n",
    "    # 所有用户算平均值\n",
    "    print('精度:', sum(prec for prec in precisions.values()) / len(precisions))\n",
    "    print('召回率:', sum(rec for rec in recalls.values()) / len(recalls))"
   ]
  },
  {
   "cell_type": "code",
   "execution_count": null,
   "metadata": {},
   "outputs": [],
   "source": []
  },
  {
   "cell_type": "code",
   "execution_count": null,
   "metadata": {},
   "outputs": [],
   "source": []
  }
 ],
 "metadata": {
  "kernelspec": {
   "display_name": "Python 3",
   "language": "python",
   "name": "python3"
  },
  "language_info": {
   "codemirror_mode": {
    "name": "ipython",
    "version": 3
   },
   "file_extension": ".py",
   "mimetype": "text/x-python",
   "name": "python",
   "nbconvert_exporter": "python",
   "pygments_lexer": "ipython3",
   "version": "3.7.3"
  }
 },
 "nbformat": 4,
 "nbformat_minor": 2
}
