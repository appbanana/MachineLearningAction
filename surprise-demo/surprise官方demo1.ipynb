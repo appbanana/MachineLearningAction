{
 "cells": [
  {
   "cell_type": "code",
   "execution_count": 8,
   "metadata": {},
   "outputs": [],
   "source": [
    "from surprise import Dataset\n",
    "from surprise import SVD, model_selection, accuracy"
   ]
  },
  {
   "cell_type": "code",
   "execution_count": 2,
   "metadata": {},
   "outputs": [
    {
     "name": "stdout",
     "output_type": "stream",
     "text": [
      "Dataset ml-100k could not be found. Do you want to download it? [Y/n] "
     ]
    },
    {
     "name": "stdin",
     "output_type": "stream",
     "text": [
      " Y\n"
     ]
    },
    {
     "name": "stdout",
     "output_type": "stream",
     "text": [
      "Trying to download dataset from http://files.grouplens.org/datasets/movielens/ml-100k.zip...\n",
      "Done! Dataset ml-100k has been saved to /Users/JQC/.surprise_data/ml-100k\n"
     ]
    }
   ],
   "source": [
    "data = Dataset.load_builtin('ml-100k')"
   ]
  },
  {
   "cell_type": "code",
   "execution_count": 6,
   "metadata": {},
   "outputs": [
    {
     "data": {
      "text/plain": [
       "{'test_rmse': array([0.933648  , 0.93376038, 0.94096806, 0.93086491, 0.94000565]),\n",
       " 'test_mae': array([0.73806831, 0.73363222, 0.74142309, 0.73564343, 0.7417917 ]),\n",
       " 'fit_time': (4.799232006072998,\n",
       "  4.582212924957275,\n",
       "  4.4229607582092285,\n",
       "  4.390880107879639,\n",
       "  4.38254714012146),\n",
       " 'test_time': (0.280637264251709,\n",
       "  0.19780516624450684,\n",
       "  0.13890814781188965,\n",
       "  0.1851179599761963,\n",
       "  0.1773970127105713)}"
      ]
     },
     "execution_count": 6,
     "metadata": {},
     "output_type": "execute_result"
    }
   ],
   "source": [
    "algo = SVD()\n",
    "model_selection.cross_validate(algo, data, measures=['rmse', 'mae'], cv=5)"
   ]
  },
  {
   "cell_type": "code",
   "execution_count": 7,
   "metadata": {},
   "outputs": [
    {
     "name": "stdout",
     "output_type": "stream",
     "text": [
      "Evaluating RMSE, MAE of algorithm SVD on 5 split(s).\n",
      "\n",
      "                  Fold 1  Fold 2  Fold 3  Fold 4  Fold 5  Mean    Std     \n",
      "RMSE (testset)    0.9346  0.9356  0.9402  0.9374  0.9324  0.9360  0.0026  \n",
      "MAE (testset)     0.7370  0.7376  0.7391  0.7401  0.7350  0.7378  0.0018  \n",
      "Fit time          4.73    4.68    4.37    4.37    4.72    4.58    0.17    \n",
      "Test time         0.21    0.18    0.18    0.14    0.18    0.18    0.02    \n"
     ]
    },
    {
     "data": {
      "text/plain": [
       "{'test_rmse': array([0.93459957, 0.93557829, 0.94022101, 0.93738563, 0.93237758]),\n",
       " 'test_mae': array([0.73704928, 0.73763604, 0.73913391, 0.74013213, 0.73496048]),\n",
       " 'fit_time': (4.733795166015625,\n",
       "  4.676517963409424,\n",
       "  4.373437881469727,\n",
       "  4.368366718292236,\n",
       "  4.724961996078491),\n",
       " 'test_time': (0.20508694648742676,\n",
       "  0.17841887474060059,\n",
       "  0.1773698329925537,\n",
       "  0.13898921012878418,\n",
       "  0.17634987831115723)}"
      ]
     },
     "execution_count": 7,
     "metadata": {},
     "output_type": "execute_result"
    }
   ],
   "source": [
    "model_selection.cross_validate(algo, data, measures=['rmse', 'mae'], cv=5, verbose=True)"
   ]
  },
  {
   "cell_type": "markdown",
   "metadata": {},
   "source": [
    "### 第二个demo"
   ]
  },
  {
   "cell_type": "code",
   "execution_count": 9,
   "metadata": {},
   "outputs": [
    {
     "name": "stdout",
     "output_type": "stream",
     "text": [
      "RMSE: 0.9397\n"
     ]
    },
    {
     "data": {
      "text/plain": [
       "0.9397103524050693"
      ]
     },
     "execution_count": 9,
     "metadata": {},
     "output_type": "execute_result"
    }
   ],
   "source": [
    "trainset, testset = model_selection.train_test_split(data, test_size=0.3, random_state=66)\n",
    "algo = SVD().fit(trainset)\n",
    "pred = algo.test(testset)\n",
    "accuracy.rmse(pred)"
   ]
  },
  {
   "cell_type": "code",
   "execution_count": 16,
   "metadata": {},
   "outputs": [
    {
     "data": {
      "text/plain": [
       "[('897', '479', 4.0),\n",
       " ('128', '26', 4.0),\n",
       " ('476', '72', 4.0),\n",
       " ('1', '29', 1.0),\n",
       " ('543', '4', 4.0),\n",
       " ('14', '473', 5.0),\n",
       " ('879', '866', 5.0),\n",
       " ('660', '201', 3.0),\n",
       " ('477', '255', 5.0),\n",
       " ('572', '100', 3.0)]"
      ]
     },
     "execution_count": 16,
     "metadata": {},
     "output_type": "execute_result"
    }
   ],
   "source": [
    "testset[:10]"
   ]
  },
  {
   "cell_type": "code",
   "execution_count": 17,
   "metadata": {},
   "outputs": [
    {
     "name": "stdout",
     "output_type": "stream",
     "text": [
      "user: 897        item: 479        r_ui = 4.00   est = 4.71   {'was_impossible': False}\n"
     ]
    },
    {
     "data": {
      "text/plain": [
       "Prediction(uid='897', iid='479', r_ui=4, est=4.713497631070975, details={'was_impossible': False})"
      ]
     },
     "execution_count": 17,
     "metadata": {},
     "output_type": "execute_result"
    }
   ],
   "source": [
    "# uid 用户id iid item的id  r_ui 实际评分  est 预测得分\n",
    "algo.predict(uid='897', iid='479', r_ui=4, verbose=True)"
   ]
  },
  {
   "cell_type": "markdown",
   "metadata": {},
   "source": [
    "### 3.自定义数据集"
   ]
  },
  {
   "cell_type": "code",
   "execution_count": 21,
   "metadata": {},
   "outputs": [],
   "source": [
    "import os\n",
    "import pandas as pd\n",
    "from surprise import Reader, BaselineOnly"
   ]
  },
  {
   "cell_type": "code",
   "execution_count": 26,
   "metadata": {},
   "outputs": [],
   "source": [
    "file_path = os.path.expanduser('~/.surprise_data/ml-100k/ml-100k/u.data')\n",
    "reader = Reader(line_format='user item rating timestamp', sep='\\t')\n",
    "data1 = Dataset.load_from_file(file_path, reader)\n"
   ]
  },
  {
   "cell_type": "code",
   "execution_count": 29,
   "metadata": {},
   "outputs": [
    {
     "name": "stdout",
     "output_type": "stream",
     "text": [
      "Estimating biases using als...\n",
      "Estimating biases using als...\n",
      "Estimating biases using als...\n",
      "Estimating biases using als...\n",
      "Estimating biases using als...\n",
      "Evaluating RMSE, MAE of algorithm BaselineOnly on 5 split(s).\n",
      "\n",
      "                  Fold 1  Fold 2  Fold 3  Fold 4  Fold 5  Mean    Std     \n",
      "RMSE (testset)    0.9510  0.9403  0.9435  0.9433  0.9433  0.9443  0.0036  \n",
      "MAE (testset)     0.7568  0.7437  0.7511  0.7468  0.7458  0.7488  0.0047  \n",
      "Fit time          0.23    0.24    0.33    0.22    0.22    0.25    0.04    \n",
      "Test time         0.13    0.12    0.12    0.11    0.11    0.11    0.01    \n"
     ]
    },
    {
     "data": {
      "text/plain": [
       "{'test_rmse': array([0.95102154, 0.94026829, 0.94353236, 0.94326756, 0.94333628]),\n",
       " 'test_mae': array([0.75683065, 0.74367025, 0.75112014, 0.74675584, 0.74577309]),\n",
       " 'fit_time': (0.23389601707458496,\n",
       "  0.235673189163208,\n",
       "  0.32601308822631836,\n",
       "  0.22138595581054688,\n",
       "  0.21896100044250488),\n",
       " 'test_time': (0.12528109550476074,\n",
       "  0.1153709888458252,\n",
       "  0.12156295776367188,\n",
       "  0.10608696937561035,\n",
       "  0.10554814338684082)}"
      ]
     },
     "execution_count": 29,
     "metadata": {},
     "output_type": "execute_result"
    }
   ],
   "source": [
    "model_selection.cross_validate(BaselineOnly(), data1, cv=5, verbose=True)"
   ]
  },
  {
   "cell_type": "markdown",
   "metadata": {},
   "source": [
    "###  4.加载 DataFrame"
   ]
  },
  {
   "cell_type": "code",
   "execution_count": 34,
   "metadata": {},
   "outputs": [],
   "source": [
    "from surprise import NormalPredictor"
   ]
  },
  {
   "cell_type": "code",
   "execution_count": 31,
   "metadata": {},
   "outputs": [
    {
     "data": {
      "text/html": [
       "<div>\n",
       "<style scoped>\n",
       "    .dataframe tbody tr th:only-of-type {\n",
       "        vertical-align: middle;\n",
       "    }\n",
       "\n",
       "    .dataframe tbody tr th {\n",
       "        vertical-align: top;\n",
       "    }\n",
       "\n",
       "    .dataframe thead th {\n",
       "        text-align: right;\n",
       "    }\n",
       "</style>\n",
       "<table border=\"1\" class=\"dataframe\">\n",
       "  <thead>\n",
       "    <tr style=\"text-align: right;\">\n",
       "      <th></th>\n",
       "      <th>itemID</th>\n",
       "      <th>userID</th>\n",
       "      <th>rating</th>\n",
       "    </tr>\n",
       "  </thead>\n",
       "  <tbody>\n",
       "    <tr>\n",
       "      <th>0</th>\n",
       "      <td>1</td>\n",
       "      <td>9</td>\n",
       "      <td>3</td>\n",
       "    </tr>\n",
       "    <tr>\n",
       "      <th>1</th>\n",
       "      <td>1</td>\n",
       "      <td>32</td>\n",
       "      <td>2</td>\n",
       "    </tr>\n",
       "    <tr>\n",
       "      <th>2</th>\n",
       "      <td>1</td>\n",
       "      <td>2</td>\n",
       "      <td>4</td>\n",
       "    </tr>\n",
       "    <tr>\n",
       "      <th>3</th>\n",
       "      <td>2</td>\n",
       "      <td>45</td>\n",
       "      <td>3</td>\n",
       "    </tr>\n",
       "    <tr>\n",
       "      <th>4</th>\n",
       "      <td>2</td>\n",
       "      <td>user_foo</td>\n",
       "      <td>1</td>\n",
       "    </tr>\n",
       "  </tbody>\n",
       "</table>\n",
       "</div>"
      ],
      "text/plain": [
       "   itemID    userID  rating\n",
       "0       1         9       3\n",
       "1       1        32       2\n",
       "2       1         2       4\n",
       "3       2        45       3\n",
       "4       2  user_foo       1"
      ]
     },
     "execution_count": 31,
     "metadata": {},
     "output_type": "execute_result"
    }
   ],
   "source": [
    "ratings_dict = {'itemID': [1, 1, 1, 2, 2],\n",
    "                'userID': [9, 32, 2, 45, 'user_foo'],\n",
    "                'rating': [3, 2, 4, 3, 1]}\n",
    "df = pd.DataFrame(ratings_dict)\n",
    "df"
   ]
  },
  {
   "cell_type": "code",
   "execution_count": 32,
   "metadata": {},
   "outputs": [],
   "source": [
    "reader = Reader(rating_scale=(1, 5))\n",
    "data2 = Dataset.load_from_df(df, reader)"
   ]
  },
  {
   "cell_type": "code",
   "execution_count": 35,
   "metadata": {},
   "outputs": [
    {
     "name": "stdout",
     "output_type": "stream",
     "text": [
      "Evaluating RMSE, MAE of algorithm NormalPredictor on 5 split(s).\n",
      "\n",
      "                  Fold 1  Fold 2  Fold 3  Fold 4  Fold 5  Mean    Std     \n",
      "RMSE (testset)    0.1858  0.5304  2.0644  1.9750  0.0783  0.9668  0.8730  \n",
      "MAE (testset)     0.1858  0.5304  2.0644  1.9750  0.0783  0.9668  0.8730  \n",
      "Fit time          0.00    0.00    0.00    0.00    0.00    0.00    0.00    \n",
      "Test time         0.00    0.00    0.00    0.00    0.00    0.00    0.00    \n"
     ]
    },
    {
     "data": {
      "text/plain": [
       "{'test_rmse': array([0.18576497, 0.53044769, 2.06436831, 1.97499036, 0.07834425]),\n",
       " 'test_mae': array([0.18576497, 0.53044769, 2.06436831, 1.97499036, 0.07834425]),\n",
       " 'fit_time': (0.00013709068298339844,\n",
       "  9.012222290039062e-05,\n",
       "  5.0067901611328125e-05,\n",
       "  4.315376281738281e-05,\n",
       "  4.100799560546875e-05),\n",
       " 'test_time': (5.888938903808594e-05,\n",
       "  4.1961669921875e-05,\n",
       "  3.1948089599609375e-05,\n",
       "  2.574920654296875e-05,\n",
       "  2.6226043701171875e-05)}"
      ]
     },
     "execution_count": 35,
     "metadata": {},
     "output_type": "execute_result"
    }
   ],
   "source": [
    "model_selection.cross_validate(NormalPredictor(), data2, cv=5, verbose=True)"
   ]
  },
  {
   "cell_type": "markdown",
   "metadata": {},
   "source": [
    "### 5.使用K折"
   ]
  },
  {
   "cell_type": "code",
   "execution_count": 37,
   "metadata": {},
   "outputs": [],
   "source": [
    "data = Dataset.load_builtin('ml-100k')"
   ]
  },
  {
   "cell_type": "code",
   "execution_count": 39,
   "metadata": {},
   "outputs": [
    {
     "name": "stdout",
     "output_type": "stream",
     "text": [
      "RMSE: 0.9321\n",
      "RMSE: 0.9441\n",
      "RMSE: 0.9418\n",
      "RMSE: 0.9306\n",
      "RMSE: 0.9313\n"
     ]
    }
   ],
   "source": [
    "kfold = model_selection.KFold(n_splits=5, random_state=66)\n",
    "algo = SVD()\n",
    "for trainset, testset in kfold.split(data):\n",
    "    algo.fit(trainset)\n",
    "    pred = algo.test(testset)\n",
    "    accuracy.rmse(pred, verbose=True)"
   ]
  },
  {
   "cell_type": "code",
   "execution_count": 40,
   "metadata": {},
   "outputs": [
    {
     "name": "stdout",
     "output_type": "stream",
     "text": [
      "Evaluating RMSE, MAE of algorithm SVD on 5 split(s).\n",
      "\n",
      "                  Fold 1  Fold 2  Fold 3  Fold 4  Fold 5  Mean    Std     \n",
      "RMSE (testset)    0.9282  0.9468  0.9414  0.9303  0.9381  0.9370  0.0069  \n",
      "MAE (testset)     0.7315  0.7456  0.7409  0.7333  0.7394  0.7381  0.0051  \n",
      "Fit time          4.52    4.41    5.01    4.57    4.37    4.58    0.23    \n",
      "Test time         0.15    0.36    0.18    0.14    0.14    0.19    0.09    \n"
     ]
    },
    {
     "data": {
      "text/plain": [
       "{'test_rmse': array([0.92821623, 0.94684703, 0.9414493 , 0.93025975, 0.93811552]),\n",
       " 'test_mae': array([0.73151069, 0.7455829 , 0.74094127, 0.73332344, 0.73936745]),\n",
       " 'fit_time': (4.523874998092651,\n",
       "  4.409788131713867,\n",
       "  5.00588321685791,\n",
       "  4.568657875061035,\n",
       "  4.372728109359741),\n",
       " 'test_time': (0.14788484573364258,\n",
       "  0.3624849319458008,\n",
       "  0.18331003189086914,\n",
       "  0.13824892044067383,\n",
       "  0.13678789138793945)}"
      ]
     },
     "execution_count": 40,
     "metadata": {},
     "output_type": "execute_result"
    }
   ],
   "source": [
    "model_selection.cross_validate(algo, data, cv=kfold, verbose=True)"
   ]
  },
  {
   "cell_type": "markdown",
   "metadata": {},
   "source": [
    "### 6.加载多个文件数组"
   ]
  },
  {
   "cell_type": "code",
   "execution_count": 47,
   "metadata": {},
   "outputs": [
    {
     "data": {
      "text/plain": [
       "[('/Users/JQC/.surprise_data/ml-100k/ml-100k/u1.base',\n",
       "  '/Users/JQC/.surprise_data/ml-100k/ml-100k/u1.test'),\n",
       " ('/Users/JQC/.surprise_data/ml-100k/ml-100k/u2.base',\n",
       "  '/Users/JQC/.surprise_data/ml-100k/ml-100k/u2.test'),\n",
       " ('/Users/JQC/.surprise_data/ml-100k/ml-100k/u3.base',\n",
       "  '/Users/JQC/.surprise_data/ml-100k/ml-100k/u3.test'),\n",
       " ('/Users/JQC/.surprise_data/ml-100k/ml-100k/u4.base',\n",
       "  '/Users/JQC/.surprise_data/ml-100k/ml-100k/u4.test'),\n",
       " ('/Users/JQC/.surprise_data/ml-100k/ml-100k/u5.base',\n",
       "  '/Users/JQC/.surprise_data/ml-100k/ml-100k/u5.test')]"
      ]
     },
     "execution_count": 47,
     "metadata": {},
     "output_type": "execute_result"
    }
   ],
   "source": [
    "file_path = os.path.expanduser('~/.surprise_data/ml-100k/ml-100k/')\n",
    "reader = Reader('ml-100k')\n",
    "\n",
    "train_file = file_path + 'u%d.base'\n",
    "test_file = file_path + 'u%d.test'\n",
    "folds_files = [(train_file % i, test_file % i) for i in range(1, 6)]\n"
   ]
  },
  {
   "cell_type": "code",
   "execution_count": 48,
   "metadata": {},
   "outputs": [
    {
     "name": "stdout",
     "output_type": "stream",
     "text": [
      "RMSE: 0.9512\n",
      "RMSE: 0.9386\n",
      "RMSE: 0.9323\n",
      "RMSE: 0.9317\n",
      "RMSE: 0.9335\n"
     ]
    }
   ],
   "source": [
    "# PredefinedKFold 适用于load_from_folds加载多文件\n",
    "data3 = Dataset.load_from_folds(folds_files, reader)\n",
    "pkf = model_selection.PredefinedKFold()\n",
    "algo = SVD()\n",
    "for trainset, testset in pkf.split(data3):\n",
    "    algo.fit(trainset)\n",
    "    pred = algo.test(testset)\n",
    "    accuracy.rmse(pred, verbose=True)"
   ]
  },
  {
   "cell_type": "markdown",
   "metadata": {},
   "source": [
    "### 7.网格搜索寻找最佳的参数"
   ]
  },
  {
   "cell_type": "code",
   "execution_count": 49,
   "metadata": {},
   "outputs": [],
   "source": [
    "data = Dataset.load_builtin('ml-100k')"
   ]
  },
  {
   "cell_type": "code",
   "execution_count": 51,
   "metadata": {},
   "outputs": [
    {
     "name": "stdout",
     "output_type": "stream",
     "text": [
      "0.9634621999832996\n",
      "{'n_epochs': 10, 'lr_all': 0.005, 'reg_all': 0.4}\n"
     ]
    }
   ],
   "source": [
    "\"\"\"\n",
    "   n_factors=100,\n",
    "    n_epochs=20,\n",
    "    biased=True,\n",
    "    init_mean=0,\n",
    "    init_std_dev=0.1,\n",
    "    lr_all=0.005,\n",
    "    reg_all=0.02,\n",
    "\"\"\"\n",
    "param_grid = {'n_epochs': [5, 10], 'lr_all': [0.002, 0.005],\n",
    "              'reg_all': [0.4, 0.6]}\n",
    "gs = model_selection.GridSearchCV(SVD, param_grid, measures=['rmse', 'mae'], cv=3, n_jobs=6)\n",
    "gs.fit(data)\n",
    "print(gs.best_score['rmse'])\n",
    "print(gs.best_params['rmse'])\n"
   ]
  },
  {
   "cell_type": "code",
   "execution_count": 52,
   "metadata": {},
   "outputs": [
    {
     "data": {
      "text/plain": [
       "'\\nKFold基础k折交叉验证\\n\\nRepeatedKFold\\xa0多次k折交叉验证.\\n\\nShuffleSplit乱序训练集和数据集下的基础交叉验证\\n\\nLeaveOneOut在测试集上每个用户只取一个评分做交叉验证\\n\\nPredefinedKFold：数据集是通过方法\\xa0load_from_folds\\xa0加载进来的交叉验证方法.\\n'"
      ]
     },
     "execution_count": 52,
     "metadata": {},
     "output_type": "execute_result"
    }
   ],
   "source": [
    "\"\"\"\n",
    "KFold基础k折交叉验证\n",
    "\n",
    "RepeatedKFold 多次k折交叉验证.\n",
    "\n",
    "ShuffleSplit乱序训练集和数据集下的基础交叉验证\n",
    "\n",
    "LeaveOneOut在测试集上每个用户只取一个评分做交叉验证\n",
    "\n",
    "PredefinedKFold：数据集是通过方法 load_from_folds 加载进来的交叉验证方法.\n",
    "\"\"\"\n",
    "\n"
   ]
  },
  {
   "cell_type": "code",
   "execution_count": null,
   "metadata": {},
   "outputs": [],
   "source": []
  }
 ],
 "metadata": {
  "kernelspec": {
   "display_name": "Python 3",
   "language": "python",
   "name": "python3"
  },
  "language_info": {
   "codemirror_mode": {
    "name": "ipython",
    "version": 3
   },
   "file_extension": ".py",
   "mimetype": "text/x-python",
   "name": "python",
   "nbconvert_exporter": "python",
   "pygments_lexer": "ipython3",
   "version": "3.7.3"
  }
 },
 "nbformat": 4,
 "nbformat_minor": 2
}
