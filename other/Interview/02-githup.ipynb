{
 "cells": [
  {
   "cell_type": "code",
   "execution_count": 9,
   "metadata": {},
   "outputs": [],
   "source": [
    "# 一下面试题来源 https://github.com/taizilongxu/interview_python"
   ]
  },
  {
   "cell_type": "code",
   "execution_count": 10,
   "metadata": {},
   "outputs": [
    {
     "name": "stdout",
     "output_type": "stream",
     "text": [
      "func_out---1:  4372099040\n",
      "func_out---2:  4372099040\n",
      "func_in--1:  4372099040\n",
      "func_in--2:  4372099072\n",
      "1\n"
     ]
    }
   ],
   "source": [
    "# 1. Python的函数参数传递\n",
    "a = 1\n",
    "print('func_out---1: ', id(a))\n",
    "\n",
    "def fun(a):\n",
    "    print('func_in--1: ', id(a))\n",
    "    a = 2\n",
    "    print('func_in--2: ', id(a))\n",
    "print('func_out---2: ', id(a))\n",
    "fun(a)\n",
    "print(a)"
   ]
  },
  {
   "cell_type": "code",
   "execution_count": 11,
   "metadata": {},
   "outputs": [
    {
     "name": "stdout",
     "output_type": "stream",
     "text": [
      "func_out 4405120904\n",
      "func_in 4405120904\n",
      "[1]\n"
     ]
    }
   ],
   "source": [
    "a = []\n",
    "def fun(a):\n",
    "    print(\"func_in\",id(a))\n",
    "    a.append(1)\n",
    "print(\"func_out\",id(a))\n",
    "fun(a)\n",
    "print(a)"
   ]
  },
  {
   "cell_type": "code",
   "execution_count": 8,
   "metadata": {},
   "outputs": [
    {
     "ename": "SyntaxError",
     "evalue": "invalid character in identifier (<ipython-input-8-209fae8cbeb0>, line 1)",
     "output_type": "error",
     "traceback": [
      "\u001b[0;36m  File \u001b[0;32m\"<ipython-input-8-209fae8cbeb0>\"\u001b[0;36m, line \u001b[0;32m1\u001b[0m\n\u001b[0;31m    注意：\u001b[0m\n\u001b[0m      ^\u001b[0m\n\u001b[0;31mSyntaxError\u001b[0m\u001b[0;31m:\u001b[0m invalid character in identifier\n"
     ]
    }
   ],
   "source": [
    "注意：\n",
    "类型是属于对象的，而不是变量。而对象分两种，一种是可改变的对象（mutable）， \n",
    "一种是不可改变的对象（immutable）。在python中字符串，数值，元祖是不可变对象，数组，字典和集合是可变对象\n",
    "当一个引用传递给函数时，函数自动复制一份给引用，这个函数里引用和外边的引用就没有关系了。所以第一个例子里的\n",
    "的函数引用指向一个不可变对象，当函数返回时，外面的引用和里面的引用就没有半毛钱关系。而第二个例子就不一样了，\n",
    "函数内的引用指向的是可变对象，相当于址引用，里面和外面操作的是同一块内存空间\n"
   ]
  },
  {
   "cell_type": "code",
   "execution_count": 12,
   "metadata": {},
   "outputs": [
    {
     "data": {
      "text/plain": [
       "__main__.MyShinyClass"
      ]
     },
     "execution_count": 12,
     "metadata": {},
     "output_type": "execute_result"
    }
   ],
   "source": [
    "# 2. Python中的元类  参考地址：http://blog.jobbole.com/21351/\n",
    "myClass = type('MyShinyClass', (), {}) \n",
    "myClass"
   ]
  },
  {
   "cell_type": "code",
   "execution_count": 14,
   "metadata": {},
   "outputs": [
    {
     "name": "stdout",
     "output_type": "stream",
     "text": [
      "<class 'int'>\n",
      "<class 'type'>\n"
     ]
    }
   ],
   "source": [
    "a = 35\n",
    "print(a.__class__)\n",
    "print(a.__class__.__class__)"
   ]
  },
  {
   "cell_type": "code",
   "execution_count": 16,
   "metadata": {},
   "outputs": [],
   "source": [
    "# 3. @staticmethod和@classmethod\n",
    "def foo(x):\n",
    "    print(\"executing foo(%s)\"%(x))\n",
    "\n",
    "class A(object):\n",
    "    def foo(self,x):\n",
    "        print(\"executing foo(%s,%s)\"%(self,x))\n",
    "\n",
    "    @classmethod\n",
    "    def class_foo(cls,x):\n",
    "        print(\"executing class_foo(%s,%s)\"%(cls,x))\n",
    "\n",
    "    @staticmethod\n",
    "    def static_foo(x):\n",
    "        print(\"executing static_foo(%s)\"%x)\n"
   ]
  },
  {
   "cell_type": "code",
   "execution_count": 23,
   "metadata": {},
   "outputs": [
    {
     "name": "stdout",
     "output_type": "stream",
     "text": [
      "executing foo(<__main__.A object at 0x10694e630>,10)\n",
      "---foo---: None\n",
      "executing class_foo(<class '__main__.A'>,10)\n",
      "---class_foo---: None\n",
      "executing static_foo(10)\n",
      "---static_foo---: None\n"
     ]
    }
   ],
   "source": [
    "a=A()\n",
    "a.x =20\n",
    "print('---foo---:', a.foo(10))\n",
    "print('---class_foo---:', a.class_foo(10))\n",
    "print('---static_foo---:', a.static_foo(10))"
   ]
  },
  {
   "cell_type": "code",
   "execution_count": 22,
   "metadata": {},
   "outputs": [
    {
     "name": "stdout",
     "output_type": "stream",
     "text": [
      "executing class_foo(<class '__main__.A'>,10)\n"
     ]
    }
   ],
   "source": [
    "a.class_foo(10)"
   ]
  },
  {
   "cell_type": "code",
   "execution_count": null,
   "metadata": {},
   "outputs": [],
   "source": [
    "# 4.Python中单下划线和双下划线\n",
    "# 参考地址：https://www.zhihu.com/question/19754941"
   ]
  },
  {
   "cell_type": "code",
   "execution_count": null,
   "metadata": {},
   "outputs": [],
   "source": []
  },
  {
   "cell_type": "code",
   "execution_count": null,
   "metadata": {},
   "outputs": [],
   "source": []
  },
  {
   "cell_type": "code",
   "execution_count": null,
   "metadata": {},
   "outputs": [],
   "source": []
  }
 ],
 "metadata": {
  "kernelspec": {
   "display_name": "Python 3",
   "language": "python",
   "name": "python3"
  },
  "language_info": {
   "codemirror_mode": {
    "name": "ipython",
    "version": 3
   },
   "file_extension": ".py",
   "mimetype": "text/x-python",
   "name": "python",
   "nbconvert_exporter": "python",
   "pygments_lexer": "ipython3",
   "version": "3.7.0"
  }
 },
 "nbformat": 4,
 "nbformat_minor": 1
}
