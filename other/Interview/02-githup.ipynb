{
 "cells": [
  {
   "cell_type": "code",
   "execution_count": 9,
   "metadata": {},
   "outputs": [],
   "source": [
    "# 一下面试题来源 https://github.com/taizilongxu/interview_python"
   ]
  },
  {
   "cell_type": "code",
   "execution_count": 10,
   "metadata": {},
   "outputs": [
    {
     "name": "stdout",
     "output_type": "stream",
     "text": [
      "func_out---1:  4372099040\n",
      "func_out---2:  4372099040\n",
      "func_in--1:  4372099040\n",
      "func_in--2:  4372099072\n",
      "1\n"
     ]
    }
   ],
   "source": [
    "# 1. Python的函数参数传递\n",
    "a = 1\n",
    "print('func_out---1: ', id(a))\n",
    "\n",
    "def fun(a):\n",
    "    print('func_in--1: ', id(a))\n",
    "    a = 2\n",
    "    print('func_in--2: ', id(a))\n",
    "print('func_out---2: ', id(a))\n",
    "fun(a)\n",
    "print(a)"
   ]
  },
  {
   "cell_type": "code",
   "execution_count": 11,
   "metadata": {},
   "outputs": [
    {
     "name": "stdout",
     "output_type": "stream",
     "text": [
      "func_out 4405120904\n",
      "func_in 4405120904\n",
      "[1]\n"
     ]
    }
   ],
   "source": [
    "a = []\n",
    "def fun(a):\n",
    "    print(\"func_in\",id(a))\n",
    "    a.append(1)\n",
    "print(\"func_out\",id(a))\n",
    "fun(a)\n",
    "print(a)"
   ]
  },
  {
   "cell_type": "code",
   "execution_count": 8,
   "metadata": {},
   "outputs": [
    {
     "ename": "SyntaxError",
     "evalue": "invalid character in identifier (<ipython-input-8-209fae8cbeb0>, line 1)",
     "output_type": "error",
     "traceback": [
      "\u001b[0;36m  File \u001b[0;32m\"<ipython-input-8-209fae8cbeb0>\"\u001b[0;36m, line \u001b[0;32m1\u001b[0m\n\u001b[0;31m    注意：\u001b[0m\n\u001b[0m      ^\u001b[0m\n\u001b[0;31mSyntaxError\u001b[0m\u001b[0;31m:\u001b[0m invalid character in identifier\n"
     ]
    }
   ],
   "source": [
    "注意：\n",
    "类型是属于对象的，而不是变量。而对象分两种，一种是可改变的对象（mutable）， \n",
    "一种是不可改变的对象（immutable）。在python中字符串，数值，元祖是不可变对象，数组，字典和集合是可变对象\n",
    "当一个引用传递给函数时，函数自动复制一份给引用，这个函数里引用和外边的引用就没有关系了。所以第一个例子里的\n",
    "的函数引用指向一个不可变对象，当函数返回时，外面的引用和里面的引用就没有半毛钱关系。而第二个例子就不一样了，\n",
    "函数内的引用指向的是可变对象，相当于址引用，里面和外面操作的是同一块内存空间\n"
   ]
  },
  {
   "cell_type": "code",
   "execution_count": 12,
   "metadata": {},
   "outputs": [
    {
     "data": {
      "text/plain": [
       "__main__.MyShinyClass"
      ]
     },
     "execution_count": 12,
     "metadata": {},
     "output_type": "execute_result"
    }
   ],
   "source": [
    "# 2. Python中的元类  参考地址：http://blog.jobbole.com/21351/\n",
    "myClass = type('MyShinyClass', (), {}) \n",
    "myClass"
   ]
  },
  {
   "cell_type": "code",
   "execution_count": 14,
   "metadata": {},
   "outputs": [
    {
     "name": "stdout",
     "output_type": "stream",
     "text": [
      "<class 'int'>\n",
      "<class 'type'>\n"
     ]
    }
   ],
   "source": [
    "a = 35\n",
    "print(a.__class__)\n",
    "print(a.__class__.__class__)"
   ]
  },
  {
   "cell_type": "code",
   "execution_count": 16,
   "metadata": {},
   "outputs": [],
   "source": [
    "# 3. @staticmethod和@classmethod\n",
    "def foo(x):\n",
    "    print(\"executing foo(%s)\"%(x))\n",
    "\n",
    "class A(object):\n",
    "    def foo(self,x):\n",
    "        print(\"executing foo(%s,%s)\"%(self,x))\n",
    "\n",
    "    @classmethod\n",
    "    def class_foo(cls,x):\n",
    "        print(\"executing class_foo(%s,%s)\"%(cls,x))\n",
    "\n",
    "    @staticmethod\n",
    "    def static_foo(x):\n",
    "        print(\"executing static_foo(%s)\"%x)\n"
   ]
  },
  {
   "cell_type": "code",
   "execution_count": 23,
   "metadata": {},
   "outputs": [
    {
     "name": "stdout",
     "output_type": "stream",
     "text": [
      "executing foo(<__main__.A object at 0x10694e630>,10)\n",
      "---foo---: None\n",
      "executing class_foo(<class '__main__.A'>,10)\n",
      "---class_foo---: None\n",
      "executing static_foo(10)\n",
      "---static_foo---: None\n"
     ]
    }
   ],
   "source": [
    "a=A()\n",
    "a.x =20\n",
    "print('---foo---:', a.foo(10))\n",
    "print('---class_foo---:', a.class_foo(10))\n",
    "print('---static_foo---:', a.static_foo(10))"
   ]
  },
  {
   "cell_type": "code",
   "execution_count": 22,
   "metadata": {},
   "outputs": [
    {
     "name": "stdout",
     "output_type": "stream",
     "text": [
      "executing class_foo(<class '__main__.A'>,10)\n"
     ]
    }
   ],
   "source": [
    "a.class_foo(10)"
   ]
  },
  {
   "cell_type": "code",
   "execution_count": null,
   "metadata": {},
   "outputs": [],
   "source": [
    "# 4.Python中单下划线和双下划线\n",
    "# 参考地址：https://www.zhihu.com/question/19754941"
   ]
  },
  {
   "cell_type": "code",
   "execution_count": 6,
   "metadata": {},
   "outputs": [
    {
     "name": "stdout",
     "output_type": "stream",
     "text": [
      "----aaa---- <class 'int'>\n",
      "----bbbb---- <class 'str'>\n",
      "----ccc---- <class 'list'>\n",
      "----ddd---- <class 'dict'>\n",
      "----xxx---- <class 'bool'>\n",
      "True\n"
     ]
    }
   ],
   "source": [
    "# 5.自省 在运行时推断对象的类型\n",
    "a = 1\n",
    "b = 'abc'\n",
    "c = [1, 2, 3, 4]\n",
    "d = {'a': 1, 'b': 2}\n",
    "x = True\n",
    "print('----aaa----', type(a))\n",
    "print('----bbbb----', type(b))\n",
    "print('----ccc----', type(c))\n",
    "print('----ddd----', type(d))\n",
    "print('----xxx----', type(x))\n",
    "print(isinstance(a, int))"
   ]
  },
  {
   "cell_type": "code",
   "execution_count": 11,
   "metadata": {},
   "outputs": [
    {
     "data": {
      "text/plain": [
       "{'Runoob': 'Name', 7: 'Age', 'First': 'Class'}"
      ]
     },
     "execution_count": 11,
     "metadata": {},
     "output_type": "execute_result"
    }
   ],
   "source": [
    "# 6.字典推导式\n",
    "a = {'Name': 'Runoob', 'Age': 7, 'Class': 'First'}\n",
    "# key value 反转\n",
    "b = {value: key for key, value in a.items()}\n",
    "b"
   ]
  },
  {
   "cell_type": "code",
   "execution_count": 15,
   "metadata": {},
   "outputs": [
    {
     "data": {
      "text/plain": [
       "[4, 16]"
      ]
     },
     "execution_count": 15,
     "metadata": {},
     "output_type": "execute_result"
    }
   ],
   "source": [
    "# 列表推导式\n",
    "a = [1, 2, 3, 4]\n",
    "# b = [item ** 2 for item in a if item%2 is 0]\n",
    "b = [item ** 2 for item in a if item%2 == 0]\n",
    "b"
   ]
  },
  {
   "cell_type": "code",
   "execution_count": 18,
   "metadata": {},
   "outputs": [
    {
     "name": "stdout",
     "output_type": "stream",
     "text": [
      "<generator object <genexpr> at 0x1048624f8>\n",
      "[0, 3, 6, 9, 12, 15, 18, 21, 24, 27]\n"
     ]
    }
   ],
   "source": [
    "# 集合推导式\n",
    "a = (i for i in range(30) if i % 3 is 0)\n",
    "print(a)\n",
    "print([*a])\n"
   ]
  },
  {
   "cell_type": "code",
   "execution_count": 1,
   "metadata": {},
   "outputs": [],
   "source": [
    "# 7.双下划线和单下划线\n",
    "# (1) __foo__ 一种约定，python内部使用的名字，以区别用户自定义命名的名字，防止冲突 \n",
    "# eg:__init__, __new__, __del__\n",
    "# (2)_foo 一种约定，用来指定变量私有，程序员指定私有变量的一种方式，不能使用from moudle import *导入\n",
    "# 其他和共有变量一样访问\n",
    "# (3) __foo 这个有真正的含义 解释器使用_classname__foo来代替这个名字，其区别和其他类相同的命名\n",
    "# 无法像共有成员变量一样随便访问，可以通过对象名._classname__foo来访问"
   ]
  },
  {
   "cell_type": "code",
   "execution_count": 20,
   "metadata": {},
   "outputs": [
    {
     "name": "stdout",
     "output_type": "stream",
     "text": [
      "hello world\n",
      "hello world and hello\n",
      "姓名：jj, 年龄：18\n",
      "姓名：jqc, 年龄：10\n",
      "姓名：abc, 年龄：66, 测试:100\n"
     ]
    }
   ],
   "source": [
    "# 8. 字符串格式化\n",
    "# 1)不指定位置，按照默认顺序\n",
    "print('{} {}'.format('hello', 'world'))\n",
    "# 2) 指定位置\n",
    "print('{0} {1} and {0}'.format('hello', 'world'))\n",
    "# 3) 设置参数\n",
    "print('姓名：{name}, 年龄：{age}'.format(name='jj', age='18'))\n",
    "# 4) 通过字典设置\n",
    "person = {'name': 'jqc', 'age': 10, 'score': 100}\n",
    "print('姓名：{name}, 年龄：{age}'.format(**person))\n",
    "# 5) 通过数组索引设置参数\n",
    "array = ['abc', 66]\n",
    "temp = ['xyz', 100]\n",
    "print('姓名：{0[0]}, 年龄：{0[1]}, 测试:{1[1]}'.format(array, temp))\n"
   ]
  },
  {
   "cell_type": "code",
   "execution_count": 16,
   "metadata": {},
   "outputs": [
    {
     "name": "stdout",
     "output_type": "stream",
     "text": [
      "保留两位小数: 3.14\n",
      "不带小数: 3\n",
      "千分位分割: 12,345,678\n",
      "百分位: 23.40%\n"
     ]
    }
   ],
   "source": [
    "# 数字格式化\n",
    "# 保留两位小数\n",
    "print('保留两位小数: {:.2f}'.format(3.1415926))\n",
    "print('不带小数: {:.0f}'.format(3.1415926))\n",
    "print('千分位分割: {:,}'.format(12345678))\n",
    "print('百分位: {:.2%}'.format(0.234))\n"
   ]
  },
  {
   "cell_type": "code",
   "execution_count": 34,
   "metadata": {},
   "outputs": [
    {
     "name": "stdout",
     "output_type": "stream",
     "text": [
      "hello xyz\n",
      "hello XYZ\n",
      "保留两位小数: 1237890011.46\n",
      "不带小数: 1237890011\n",
      "千分位分割保留两位小数: 1,237,890,011.46\n",
      "千分位分割保留两位小数: 1_237_890_011.46\n",
      "百分位: 23.45%\n"
     ]
    }
   ],
   "source": [
    "# f-string py3.6以上可用 \n",
    "# f-string使用 参考链接：https://blog.csdn.net/sunxb10/article/details/81036693\n",
    "name = 'xyz'\n",
    "print(f'hello {name}')\n",
    "print(f'hello {name.upper()}')\n",
    "a = 1237890011.456\n",
    "print(f'保留两位小数: {a:.2f}')\n",
    "print(f'不带小数: {a:.0f}')\n",
    "print(f'千分位分割保留两位小数: {a:,.2f}')\n",
    "print(f'千分位分割保留两位小数: {a:_.2f}')\n",
    "\n",
    "b = 0.2345\n",
    "print(f'百分位: {b:.2%}')\n"
   ]
  },
  {
   "cell_type": "code",
   "execution_count": 37,
   "metadata": {},
   "outputs": [
    {
     "name": "stdout",
     "output_type": "stream",
     "text": [
      "截取前两位: he\n",
      "二进制的，并用_分隔开b=: 1_1101_1101_1110_1001\n"
     ]
    }
   ],
   "source": [
    "# 字符串的截取\n",
    "s = 'hello'\n",
    "print(f'截取前两位: {s:.2s}')\n",
    "b = 122345\n",
    "# b 二进制 o八进制 d十进制 x十六进制\n",
    "print(f'二进制的，并用_分隔开b=: {b:_b}')"
   ]
  },
  {
   "cell_type": "code",
   "execution_count": 9,
   "metadata": {},
   "outputs": [
    {
     "name": "stdout",
     "output_type": "stream",
     "text": [
      "--str-- True\n",
      "--list-- True\n",
      "--dict-- True\n",
      "--set-- True\n"
     ]
    }
   ],
   "source": [
    "# 9. 迭代器和生成器\n",
    "# 迭代器 通过列表生成式，可以直接创建一个列表。但是收到内存限制，列表容量肯定是不够的。而且创建一个包含\n",
    "# 百万元素的列表，不仅占用很大的内存空间，如果我们只需要访问前面几个元素，后面的元素所占的空间都是浪费的。\n",
    "# 因此没必要创建完整的列表。在python中，我们可以采用生成器：边循环，边计算机制 -> generator\n",
    "# 迭代器 内置__iter__方法的，都是可迭代的对象。 需要使用next遍历\n",
    "#  内置__iter__()方法\n",
    "print('--str--', hasattr(str, '__iter__'))\n",
    "print('--list--', hasattr(list, '__iter__'))\n",
    "print('--dict--', hasattr(dict, '__iter__'))\n",
    "print('--set--', hasattr(set, '__iter__'))"
   ]
  },
  {
   "cell_type": "code",
   "execution_count": 13,
   "metadata": {},
   "outputs": [
    {
     "name": "stdout",
     "output_type": "stream",
     "text": [
      "<str_iterator object at 0x107a55518>\n",
      "<list_iterator object at 0x107a55470>\n",
      "<dict_keyiterator object at 0x107a313b8>\n",
      "<set_iterator object at 0x107a58240>\n"
     ]
    }
   ],
   "source": [
    "print('abc'.__iter__())\n",
    "print([1, 2, 3].__iter__())\n",
    "print({'a':1,'b':2}.__iter__())\n",
    "print(set([1, 2, 3]).__iter__())"
   ]
  },
  {
   "cell_type": "code",
   "execution_count": 17,
   "metadata": {},
   "outputs": [
    {
     "data": {
      "text/plain": [
       "1"
      ]
     },
     "execution_count": 17,
     "metadata": {},
     "output_type": "execute_result"
    }
   ],
   "source": [
    "\n",
    "a = [1, 2].__iter__()\n",
    "a.__next__()"
   ]
  },
  {
   "cell_type": "code",
   "execution_count": 18,
   "metadata": {},
   "outputs": [
    {
     "data": {
      "text/plain": [
       "2"
      ]
     },
     "execution_count": 18,
     "metadata": {},
     "output_type": "execute_result"
    }
   ],
   "source": [
    "a.__next__()"
   ]
  },
  {
   "cell_type": "code",
   "execution_count": 19,
   "metadata": {},
   "outputs": [
    {
     "ename": "StopIteration",
     "evalue": "",
     "output_type": "error",
     "traceback": [
      "\u001b[0;31m---------------------------------------------------------------------------\u001b[0m",
      "\u001b[0;31mStopIteration\u001b[0m                             Traceback (most recent call last)",
      "\u001b[0;32m<ipython-input-19-d34d2a8c0899>\u001b[0m in \u001b[0;36m<module>\u001b[0;34m\u001b[0m\n\u001b[0;32m----> 1\u001b[0;31m \u001b[0ma\u001b[0m\u001b[0;34m.\u001b[0m\u001b[0m__next__\u001b[0m\u001b[0;34m(\u001b[0m\u001b[0;34m)\u001b[0m\u001b[0;34m\u001b[0m\u001b[0m\n\u001b[0m",
      "\u001b[0;31mStopIteration\u001b[0m: "
     ]
    }
   ],
   "source": [
    "# 遍历完抛出异常\n",
    "a.__next__()"
   ]
  },
  {
   "cell_type": "code",
   "execution_count": 20,
   "metadata": {},
   "outputs": [],
   "source": [
    "# 生成器函数\n",
    "def lay_eggs(num):\n",
    "    for egg in range(num):\n",
    "        res = '蛋%d' % egg\n",
    "        yield res\n",
    "        print('下完一个蛋')"
   ]
  },
  {
   "cell_type": "code",
   "execution_count": 21,
   "metadata": {},
   "outputs": [
    {
     "name": "stdout",
     "output_type": "stream",
     "text": [
      "<generator object lay_eggs at 0x107a50390>\n"
     ]
    }
   ],
   "source": [
    "laomuji = lay_eggs(2)\n",
    "print(laomuji)"
   ]
  },
  {
   "cell_type": "code",
   "execution_count": 22,
   "metadata": {},
   "outputs": [
    {
     "data": {
      "text/plain": [
       "'蛋0'"
      ]
     },
     "execution_count": 22,
     "metadata": {},
     "output_type": "execute_result"
    }
   ],
   "source": [
    "next(laomuji)"
   ]
  },
  {
   "cell_type": "code",
   "execution_count": 23,
   "metadata": {},
   "outputs": [
    {
     "name": "stdout",
     "output_type": "stream",
     "text": [
      "下完一个蛋\n"
     ]
    },
    {
     "data": {
      "text/plain": [
       "'蛋1'"
      ]
     },
     "execution_count": 23,
     "metadata": {},
     "output_type": "execute_result"
    }
   ],
   "source": [
    "next(laomuji)"
   ]
  },
  {
   "cell_type": "code",
   "execution_count": 24,
   "metadata": {},
   "outputs": [
    {
     "name": "stdout",
     "output_type": "stream",
     "text": [
      "下完一个蛋\n"
     ]
    },
    {
     "ename": "StopIteration",
     "evalue": "",
     "output_type": "error",
     "traceback": [
      "\u001b[0;31m---------------------------------------------------------------------------\u001b[0m",
      "\u001b[0;31mStopIteration\u001b[0m                             Traceback (most recent call last)",
      "\u001b[0;32m<ipython-input-24-b0de44618a30>\u001b[0m in \u001b[0;36m<module>\u001b[0;34m\u001b[0m\n\u001b[0;32m----> 1\u001b[0;31m \u001b[0mnext\u001b[0m\u001b[0;34m(\u001b[0m\u001b[0mlaomuji\u001b[0m\u001b[0;34m)\u001b[0m\u001b[0;34m\u001b[0m\u001b[0m\n\u001b[0m",
      "\u001b[0;31mStopIteration\u001b[0m: "
     ]
    }
   ],
   "source": [
    "next(laomuji)"
   ]
  },
  {
   "cell_type": "code",
   "execution_count": 25,
   "metadata": {},
   "outputs": [],
   "source": [
    "# 10.*args and **kwargs\n",
    "#  默认参数必须指向不变对象\n",
    "# 在Python中定义函数, 参数定义的顺序必须是：必选参数、默认参数、可变参数、命名关键字参数和关键字参数。\n",
    "# 可变参数\n",
    "def calc(*numbers):\n",
    "    sum = 0\n",
    "    for n in numbers:\n",
    "        sum = sum + n * n\n",
    "    return sum"
   ]
  },
  {
   "cell_type": "code",
   "execution_count": 26,
   "metadata": {},
   "outputs": [
    {
     "data": {
      "text/plain": [
       "14"
      ]
     },
     "execution_count": 26,
     "metadata": {},
     "output_type": "execute_result"
    }
   ],
   "source": [
    "calc(*[1, 2, 3])"
   ]
  },
  {
   "cell_type": "code",
   "execution_count": null,
   "metadata": {},
   "outputs": [],
   "source": [
    "# 命名关键字参数 \n",
    "def person(name, age, *, city, job):\n",
    "    print(name, age, city, job)"
   ]
  },
  {
   "cell_type": "code",
   "execution_count": 27,
   "metadata": {},
   "outputs": [],
   "source": [
    "# 关键字参数\n",
    "def person(name, age, **kw):\n",
    "    print('name:', name, 'age:', age, 'other:', kw)"
   ]
  },
  {
   "cell_type": "code",
   "execution_count": 28,
   "metadata": {},
   "outputs": [
    {
     "name": "stdout",
     "output_type": "stream",
     "text": [
      "name: Adam age: 45 other: {'gender': 'M', 'job': 'Engineer'}\n"
     ]
    }
   ],
   "source": [
    "person('Adam', 45, gender='M', job='Engineer')"
   ]
  },
  {
   "cell_type": "code",
   "execution_count": null,
   "metadata": {},
   "outputs": [],
   "source": []
  }
 ],
 "metadata": {
  "kernelspec": {
   "display_name": "Python 3",
   "language": "python",
   "name": "python3"
  },
  "language_info": {
   "codemirror_mode": {
    "name": "ipython",
    "version": 3
   },
   "file_extension": ".py",
   "mimetype": "text/x-python",
   "name": "python",
   "nbconvert_exporter": "python",
   "pygments_lexer": "ipython3",
   "version": "3.7.0"
  }
 },
 "nbformat": 4,
 "nbformat_minor": 1
}
