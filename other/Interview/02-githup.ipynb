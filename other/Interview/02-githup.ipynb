{
 "cells": [
  {
   "cell_type": "code",
   "execution_count": 9,
   "metadata": {},
   "outputs": [],
   "source": [
    "# 一下面试题来源 https://github.com/taizilongxu/interview_python"
   ]
  },
  {
   "cell_type": "code",
   "execution_count": 10,
   "metadata": {},
   "outputs": [
    {
     "name": "stdout",
     "output_type": "stream",
     "text": [
      "func_out---1:  4372099040\n",
      "func_out---2:  4372099040\n",
      "func_in--1:  4372099040\n",
      "func_in--2:  4372099072\n",
      "1\n"
     ]
    }
   ],
   "source": [
    "# 1. Python的函数参数传递\n",
    "a = 1\n",
    "print('func_out---1: ', id(a))\n",
    "\n",
    "def fun(a):\n",
    "    print('func_in--1: ', id(a))\n",
    "    a = 2\n",
    "    print('func_in--2: ', id(a))\n",
    "print('func_out---2: ', id(a))\n",
    "fun(a)\n",
    "print(a)"
   ]
  },
  {
   "cell_type": "code",
   "execution_count": 11,
   "metadata": {},
   "outputs": [
    {
     "name": "stdout",
     "output_type": "stream",
     "text": [
      "func_out 4405120904\n",
      "func_in 4405120904\n",
      "[1]\n"
     ]
    }
   ],
   "source": [
    "a = []\n",
    "def fun(a):\n",
    "    print(\"func_in\",id(a))\n",
    "    a.append(1)\n",
    "print(\"func_out\",id(a))\n",
    "fun(a)\n",
    "print(a)"
   ]
  },
  {
   "cell_type": "code",
   "execution_count": 8,
   "metadata": {},
   "outputs": [
    {
     "ename": "SyntaxError",
     "evalue": "invalid character in identifier (<ipython-input-8-209fae8cbeb0>, line 1)",
     "output_type": "error",
     "traceback": [
      "\u001b[0;36m  File \u001b[0;32m\"<ipython-input-8-209fae8cbeb0>\"\u001b[0;36m, line \u001b[0;32m1\u001b[0m\n\u001b[0;31m    注意：\u001b[0m\n\u001b[0m      ^\u001b[0m\n\u001b[0;31mSyntaxError\u001b[0m\u001b[0;31m:\u001b[0m invalid character in identifier\n"
     ]
    }
   ],
   "source": [
    "注意：\n",
    "类型是属于对象的，而不是变量。而对象分两种，一种是可改变的对象（mutable）， \n",
    "一种是不可改变的对象（immutable）。在python中字符串，数值，元祖是不可变对象，数组，字典和集合是可变对象\n",
    "当一个引用传递给函数时，函数自动复制一份给引用，这个函数里引用和外边的引用就没有关系了。所以第一个例子里的\n",
    "的函数引用指向一个不可变对象，当函数返回时，外面的引用和里面的引用就没有半毛钱关系。而第二个例子就不一样了，\n",
    "函数内的引用指向的是可变对象，相当于址引用，里面和外面操作的是同一块内存空间\n"
   ]
  },
  {
   "cell_type": "code",
   "execution_count": 12,
   "metadata": {},
   "outputs": [
    {
     "data": {
      "text/plain": [
       "__main__.MyShinyClass"
      ]
     },
     "execution_count": 12,
     "metadata": {},
     "output_type": "execute_result"
    }
   ],
   "source": [
    "# 2. Python中的元类  参考地址：http://blog.jobbole.com/21351/\n",
    "myClass = type('MyShinyClass', (), {}) \n",
    "myClass"
   ]
  },
  {
   "cell_type": "code",
   "execution_count": 14,
   "metadata": {},
   "outputs": [
    {
     "name": "stdout",
     "output_type": "stream",
     "text": [
      "<class 'int'>\n",
      "<class 'type'>\n"
     ]
    }
   ],
   "source": [
    "a = 35\n",
    "print(a.__class__)\n",
    "print(a.__class__.__class__)"
   ]
  },
  {
   "cell_type": "code",
   "execution_count": 16,
   "metadata": {},
   "outputs": [],
   "source": [
    "# 3. @staticmethod和@classmethod\n",
    "def foo(x):\n",
    "    print(\"executing foo(%s)\"%(x))\n",
    "\n",
    "class A(object):\n",
    "    def foo(self,x):\n",
    "        print(\"executing foo(%s,%s)\"%(self,x))\n",
    "\n",
    "    @classmethod\n",
    "    def class_foo(cls,x):\n",
    "        print(\"executing class_foo(%s,%s)\"%(cls,x))\n",
    "\n",
    "    @staticmethod\n",
    "    def static_foo(x):\n",
    "        print(\"executing static_foo(%s)\"%x)\n"
   ]
  },
  {
   "cell_type": "code",
   "execution_count": 23,
   "metadata": {},
   "outputs": [
    {
     "name": "stdout",
     "output_type": "stream",
     "text": [
      "executing foo(<__main__.A object at 0x10694e630>,10)\n",
      "---foo---: None\n",
      "executing class_foo(<class '__main__.A'>,10)\n",
      "---class_foo---: None\n",
      "executing static_foo(10)\n",
      "---static_foo---: None\n"
     ]
    }
   ],
   "source": [
    "a=A()\n",
    "a.x =20\n",
    "print('---foo---:', a.foo(10))\n",
    "print('---class_foo---:', a.class_foo(10))\n",
    "print('---static_foo---:', a.static_foo(10))"
   ]
  },
  {
   "cell_type": "code",
   "execution_count": 22,
   "metadata": {},
   "outputs": [
    {
     "name": "stdout",
     "output_type": "stream",
     "text": [
      "executing class_foo(<class '__main__.A'>,10)\n"
     ]
    }
   ],
   "source": [
    "a.class_foo(10)"
   ]
  },
  {
   "cell_type": "code",
   "execution_count": null,
   "metadata": {},
   "outputs": [],
   "source": [
    "# 4.Python中单下划线和双下划线\n",
    "# 参考地址：https://www.zhihu.com/question/19754941"
   ]
  },
  {
   "cell_type": "code",
   "execution_count": 6,
   "metadata": {},
   "outputs": [
    {
     "name": "stdout",
     "output_type": "stream",
     "text": [
      "----aaa---- <class 'int'>\n",
      "----bbbb---- <class 'str'>\n",
      "----ccc---- <class 'list'>\n",
      "----ddd---- <class 'dict'>\n",
      "----xxx---- <class 'bool'>\n",
      "True\n"
     ]
    }
   ],
   "source": [
    "# 5.自省 在运行时推断对象的类型\n",
    "a = 1\n",
    "b = 'abc'\n",
    "c = [1, 2, 3, 4]\n",
    "d = {'a': 1, 'b': 2}\n",
    "x = True\n",
    "print('----aaa----', type(a))\n",
    "print('----bbbb----', type(b))\n",
    "print('----ccc----', type(c))\n",
    "print('----ddd----', type(d))\n",
    "print('----xxx----', type(x))\n",
    "print(isinstance(a, int))"
   ]
  },
  {
   "cell_type": "code",
   "execution_count": 11,
   "metadata": {},
   "outputs": [
    {
     "data": {
      "text/plain": [
       "{'Runoob': 'Name', 7: 'Age', 'First': 'Class'}"
      ]
     },
     "execution_count": 11,
     "metadata": {},
     "output_type": "execute_result"
    }
   ],
   "source": [
    "# 6.字典推导式\n",
    "a = {'Name': 'Runoob', 'Age': 7, 'Class': 'First'}\n",
    "# key value 反转\n",
    "b = {value: key for key, value in a.items()}\n",
    "b"
   ]
  },
  {
   "cell_type": "code",
   "execution_count": 15,
   "metadata": {},
   "outputs": [
    {
     "data": {
      "text/plain": [
       "[4, 16]"
      ]
     },
     "execution_count": 15,
     "metadata": {},
     "output_type": "execute_result"
    }
   ],
   "source": [
    "# 列表推导式\n",
    "a = [1, 2, 3, 4]\n",
    "# b = [item ** 2 for item in a if item%2 is 0]\n",
    "b = [item ** 2 for item in a if item%2 == 0]\n",
    "b"
   ]
  },
  {
   "cell_type": "code",
   "execution_count": 18,
   "metadata": {},
   "outputs": [
    {
     "name": "stdout",
     "output_type": "stream",
     "text": [
      "<generator object <genexpr> at 0x1048624f8>\n",
      "[0, 3, 6, 9, 12, 15, 18, 21, 24, 27]\n"
     ]
    }
   ],
   "source": [
    "# 集合推导式\n",
    "a = (i for i in range(30) if i % 3 is 0)\n",
    "print(a)\n",
    "print([*a])\n"
   ]
  },
  {
   "cell_type": "code",
   "execution_count": 1,
   "metadata": {},
   "outputs": [],
   "source": [
    "# 7.双下划线和单下划线\n",
    "# (1) __foo__ 一种约定，python内部使用的名字，以区别用户自定义命名的名字，防止冲突 \n",
    "# eg:__init__, __new__, __del__\n",
    "# (2)_foo 一种约定，用来指定变量私有，程序员指定私有变量的一种方式，不能使用from moudle import *导入\n",
    "# 其他和共有变量一样访问\n",
    "# (3) __foo 这个有真正的含义 解释器使用_classname__foo来代替这个名字，其区别和其他类相同的命名\n",
    "# 无法像共有成员变量一样随便访问，可以通过对象名._classname__foo来访问"
   ]
  },
  {
   "cell_type": "code",
   "execution_count": 20,
   "metadata": {},
   "outputs": [
    {
     "name": "stdout",
     "output_type": "stream",
     "text": [
      "hello world\n",
      "hello world and hello\n",
      "姓名：jj, 年龄：18\n",
      "姓名：jqc, 年龄：10\n",
      "姓名：abc, 年龄：66, 测试:100\n"
     ]
    }
   ],
   "source": [
    "# 8. 字符串格式化\n",
    "# 1)不指定位置，按照默认顺序\n",
    "print('{} {}'.format('hello', 'world'))\n",
    "# 2) 指定位置\n",
    "print('{0} {1} and {0}'.format('hello', 'world'))\n",
    "# 3) 设置参数\n",
    "print('姓名：{name}, 年龄：{age}'.format(name='jj', age='18'))\n",
    "# 4) 通过字典设置\n",
    "person = {'name': 'jqc', 'age': 10, 'score': 100}\n",
    "print('姓名：{name}, 年龄：{age}'.format(**person))\n",
    "# 5) 通过数组索引设置参数\n",
    "array = ['abc', 66]\n",
    "temp = ['xyz', 100]\n",
    "print('姓名：{0[0]}, 年龄：{0[1]}, 测试:{1[1]}'.format(array, temp))\n"
   ]
  },
  {
   "cell_type": "code",
   "execution_count": 16,
   "metadata": {},
   "outputs": [
    {
     "name": "stdout",
     "output_type": "stream",
     "text": [
      "保留两位小数: 3.14\n",
      "不带小数: 3\n",
      "千分位分割: 12,345,678\n",
      "百分位: 23.40%\n"
     ]
    }
   ],
   "source": [
    "# 数字格式化\n",
    "# 保留两位小数\n",
    "print('保留两位小数: {:.2f}'.format(3.1415926))\n",
    "print('不带小数: {:.0f}'.format(3.1415926))\n",
    "print('千分位分割: {:,}'.format(12345678))\n",
    "print('百分位: {:.2%}'.format(0.234))\n"
   ]
  },
  {
   "cell_type": "code",
   "execution_count": 34,
   "metadata": {},
   "outputs": [
    {
     "name": "stdout",
     "output_type": "stream",
     "text": [
      "hello xyz\n",
      "hello XYZ\n",
      "保留两位小数: 1237890011.46\n",
      "不带小数: 1237890011\n",
      "千分位分割保留两位小数: 1,237,890,011.46\n",
      "千分位分割保留两位小数: 1_237_890_011.46\n",
      "百分位: 23.45%\n"
     ]
    }
   ],
   "source": [
    "# f-string py3.6以上可用 \n",
    "# f-string使用 参考链接：https://blog.csdn.net/sunxb10/article/details/81036693\n",
    "name = 'xyz'\n",
    "print(f'hello {name}')\n",
    "print(f'hello {name.upper()}')\n",
    "a = 1237890011.456\n",
    "print(f'保留两位小数: {a:.2f}')\n",
    "print(f'不带小数: {a:.0f}')\n",
    "print(f'千分位分割保留两位小数: {a:,.2f}')\n",
    "print(f'千分位分割保留两位小数: {a:_.2f}')\n",
    "\n",
    "b = 0.2345\n",
    "print(f'百分位: {b:.2%}')\n"
   ]
  },
  {
   "cell_type": "code",
   "execution_count": 37,
   "metadata": {},
   "outputs": [
    {
     "name": "stdout",
     "output_type": "stream",
     "text": [
      "截取前两位: he\n",
      "二进制的，并用_分隔开b=: 1_1101_1101_1110_1001\n"
     ]
    }
   ],
   "source": [
    "# 字符串的截取\n",
    "s = 'hello'\n",
    "print(f'截取前两位: {s:.2s}')\n",
    "b = 122345\n",
    "# b 二进制 o八进制 d十进制 x十六进制\n",
    "print(f'二进制的，并用_分隔开b=: {b:_b}')"
   ]
  },
  {
   "cell_type": "code",
   "execution_count": 9,
   "metadata": {},
   "outputs": [
    {
     "name": "stdout",
     "output_type": "stream",
     "text": [
      "--str-- True\n",
      "--list-- True\n",
      "--dict-- True\n",
      "--set-- True\n"
     ]
    }
   ],
   "source": [
    "# 9. 迭代器和生成器\n",
    "# 迭代器 通过列表生成式，可以直接创建一个列表。但是收到内存限制，列表容量肯定是不够的。而且创建一个包含\n",
    "# 百万元素的列表，不仅占用很大的内存空间，如果我们只需要访问前面几个元素，后面的元素所占的空间都是浪费的。\n",
    "# 因此没必要创建完整的列表。在python中，我们可以采用生成器：边循环，边计算机制 -> generator\n",
    "# 迭代器 内置__iter__方法的，都是可迭代的对象。 需要使用next遍历\n",
    "#  内置__iter__()方法\n",
    "print('--str--', hasattr(str, '__iter__'))\n",
    "print('--list--', hasattr(list, '__iter__'))\n",
    "print('--dict--', hasattr(dict, '__iter__'))\n",
    "print('--set--', hasattr(set, '__iter__'))"
   ]
  },
  {
   "cell_type": "code",
   "execution_count": 13,
   "metadata": {},
   "outputs": [
    {
     "name": "stdout",
     "output_type": "stream",
     "text": [
      "<str_iterator object at 0x107a55518>\n",
      "<list_iterator object at 0x107a55470>\n",
      "<dict_keyiterator object at 0x107a313b8>\n",
      "<set_iterator object at 0x107a58240>\n"
     ]
    }
   ],
   "source": [
    "print('abc'.__iter__())\n",
    "print([1, 2, 3].__iter__())\n",
    "print({'a':1,'b':2}.__iter__())\n",
    "print(set([1, 2, 3]).__iter__())"
   ]
  },
  {
   "cell_type": "code",
   "execution_count": 17,
   "metadata": {},
   "outputs": [
    {
     "data": {
      "text/plain": [
       "1"
      ]
     },
     "execution_count": 17,
     "metadata": {},
     "output_type": "execute_result"
    }
   ],
   "source": [
    "\n",
    "a = [1, 2].__iter__()\n",
    "a.__next__()"
   ]
  },
  {
   "cell_type": "code",
   "execution_count": 18,
   "metadata": {},
   "outputs": [
    {
     "data": {
      "text/plain": [
       "2"
      ]
     },
     "execution_count": 18,
     "metadata": {},
     "output_type": "execute_result"
    }
   ],
   "source": [
    "a.__next__()"
   ]
  },
  {
   "cell_type": "code",
   "execution_count": 19,
   "metadata": {},
   "outputs": [
    {
     "ename": "StopIteration",
     "evalue": "",
     "output_type": "error",
     "traceback": [
      "\u001b[0;31m---------------------------------------------------------------------------\u001b[0m",
      "\u001b[0;31mStopIteration\u001b[0m                             Traceback (most recent call last)",
      "\u001b[0;32m<ipython-input-19-d34d2a8c0899>\u001b[0m in \u001b[0;36m<module>\u001b[0;34m\u001b[0m\n\u001b[0;32m----> 1\u001b[0;31m \u001b[0ma\u001b[0m\u001b[0;34m.\u001b[0m\u001b[0m__next__\u001b[0m\u001b[0;34m(\u001b[0m\u001b[0;34m)\u001b[0m\u001b[0;34m\u001b[0m\u001b[0m\n\u001b[0m",
      "\u001b[0;31mStopIteration\u001b[0m: "
     ]
    }
   ],
   "source": [
    "# 遍历完抛出异常\n",
    "a.__next__()"
   ]
  },
  {
   "cell_type": "code",
   "execution_count": 20,
   "metadata": {},
   "outputs": [],
   "source": [
    "# 生成器函数\n",
    "def lay_eggs(num):\n",
    "    for egg in range(num):\n",
    "        res = '蛋%d' % egg\n",
    "        yield res\n",
    "        print('下完一个蛋')"
   ]
  },
  {
   "cell_type": "code",
   "execution_count": 21,
   "metadata": {},
   "outputs": [
    {
     "name": "stdout",
     "output_type": "stream",
     "text": [
      "<generator object lay_eggs at 0x107a50390>\n"
     ]
    }
   ],
   "source": [
    "laomuji = lay_eggs(2)\n",
    "print(laomuji)"
   ]
  },
  {
   "cell_type": "code",
   "execution_count": 22,
   "metadata": {},
   "outputs": [
    {
     "data": {
      "text/plain": [
       "'蛋0'"
      ]
     },
     "execution_count": 22,
     "metadata": {},
     "output_type": "execute_result"
    }
   ],
   "source": [
    "next(laomuji)"
   ]
  },
  {
   "cell_type": "code",
   "execution_count": 23,
   "metadata": {},
   "outputs": [
    {
     "name": "stdout",
     "output_type": "stream",
     "text": [
      "下完一个蛋\n"
     ]
    },
    {
     "data": {
      "text/plain": [
       "'蛋1'"
      ]
     },
     "execution_count": 23,
     "metadata": {},
     "output_type": "execute_result"
    }
   ],
   "source": [
    "next(laomuji)"
   ]
  },
  {
   "cell_type": "code",
   "execution_count": 24,
   "metadata": {},
   "outputs": [
    {
     "name": "stdout",
     "output_type": "stream",
     "text": [
      "下完一个蛋\n"
     ]
    },
    {
     "ename": "StopIteration",
     "evalue": "",
     "output_type": "error",
     "traceback": [
      "\u001b[0;31m---------------------------------------------------------------------------\u001b[0m",
      "\u001b[0;31mStopIteration\u001b[0m                             Traceback (most recent call last)",
      "\u001b[0;32m<ipython-input-24-b0de44618a30>\u001b[0m in \u001b[0;36m<module>\u001b[0;34m\u001b[0m\n\u001b[0;32m----> 1\u001b[0;31m \u001b[0mnext\u001b[0m\u001b[0;34m(\u001b[0m\u001b[0mlaomuji\u001b[0m\u001b[0;34m)\u001b[0m\u001b[0;34m\u001b[0m\u001b[0m\n\u001b[0m",
      "\u001b[0;31mStopIteration\u001b[0m: "
     ]
    }
   ],
   "source": [
    "next(laomuji)"
   ]
  },
  {
   "cell_type": "code",
   "execution_count": 25,
   "metadata": {},
   "outputs": [],
   "source": [
    "# 10.*args and **kwargs\n",
    "#  默认参数必须指向不变对象\n",
    "# 在Python中定义函数, 参数定义的顺序必须是：必选参数、默认参数、可变参数、命名关键字参数和关键字参数。\n",
    "# 可变参数\n",
    "def calc(*numbers):\n",
    "    sum = 0\n",
    "    for n in numbers:\n",
    "        sum = sum + n * n\n",
    "    return sum"
   ]
  },
  {
   "cell_type": "code",
   "execution_count": 26,
   "metadata": {},
   "outputs": [
    {
     "data": {
      "text/plain": [
       "14"
      ]
     },
     "execution_count": 26,
     "metadata": {},
     "output_type": "execute_result"
    }
   ],
   "source": [
    "calc(*[1, 2, 3])"
   ]
  },
  {
   "cell_type": "code",
   "execution_count": 11,
   "metadata": {},
   "outputs": [],
   "source": [
    "# 命名关键字参数 \n",
    "def person(name, age, *, city, job):\n",
    "    print(name, age, city, job)"
   ]
  },
  {
   "cell_type": "code",
   "execution_count": 12,
   "metadata": {},
   "outputs": [
    {
     "name": "stdout",
     "output_type": "stream",
     "text": [
      "Jack 24 Beijing Engineer\n"
     ]
    }
   ],
   "source": [
    "person('Jack', 24, city='Beijing', job='Engineer')"
   ]
  },
  {
   "cell_type": "code",
   "execution_count": 27,
   "metadata": {},
   "outputs": [],
   "source": [
    "# 关键字参数\n",
    "def person(name, age, **kw):\n",
    "    print('name:', name, 'age:', age, 'other:', kw)"
   ]
  },
  {
   "cell_type": "code",
   "execution_count": 28,
   "metadata": {},
   "outputs": [
    {
     "name": "stdout",
     "output_type": "stream",
     "text": [
      "name: Adam age: 45 other: {'gender': 'M', 'job': 'Engineer'}\n"
     ]
    }
   ],
   "source": [
    "person('Adam', 45, gender='M', job='Engineer')"
   ]
  },
  {
   "cell_type": "code",
   "execution_count": 17,
   "metadata": {},
   "outputs": [],
   "source": [
    "# 11.简言之、这种在运行时，编译时，类和方法加载时，动态地将代码切入\n",
    "# 到类的指定方法、指定位置上的编程思想就是面向切面的编程。切面编程是很著名的设计模式，比较经典的有插入\n",
    "# 日志，性能测试，事务处理。装饰器就是解决这类问题的绝佳设计，有了装饰器，我们就可以抽离出大量函数\n",
    "# 中与函数功能本身无关雷同代码并继续重用。\n",
    "# 装饰器 在代码运行期间动态增加功能的方式就是装饰器\n",
    "# AOP参考地址：https://www.jianshu.com/p/4c588eec1be1\n",
    "def log(func):\n",
    "    def wrapper(*args, **kw):\n",
    "        print('call %s():' % func.__name__)\n",
    "        return func(*args, **kw)\n",
    "    return wrapper\n"
   ]
  },
  {
   "cell_type": "code",
   "execution_count": 2,
   "metadata": {},
   "outputs": [],
   "source": [
    "# @log放到这 就相当于now = log(now)\n",
    "@log\n",
    "def now():\n",
    "    print('2019.04.12')"
   ]
  },
  {
   "cell_type": "code",
   "execution_count": 3,
   "metadata": {},
   "outputs": [
    {
     "name": "stdout",
     "output_type": "stream",
     "text": [
      "call now():\n",
      "2019.04.12\n"
     ]
    }
   ],
   "source": [
    "now()"
   ]
  },
  {
   "cell_type": "code",
   "execution_count": 8,
   "metadata": {},
   "outputs": [],
   "source": [
    "# 带参数再次尝试\n",
    "def log(func):\n",
    "    def wrapper(*args, **kw):\n",
    "        print('----args----')\n",
    "        print(*args)\n",
    "        print('----kw----')\n",
    "        print(**kw)\n",
    "        print('call %s():' % func.__name__)\n",
    "        return func(*args, **kw)\n",
    "    return wrapper\n",
    "\n",
    "@log\n",
    "def now(name, age=18):\n",
    "    print('name=', name, 'age=', age)"
   ]
  },
  {
   "cell_type": "code",
   "execution_count": 9,
   "metadata": {},
   "outputs": [
    {
     "name": "stdout",
     "output_type": "stream",
     "text": [
      "----args----\n",
      "abc\n",
      "----kw----\n",
      "\n",
      "call now():\n",
      "name= abc age= 18\n"
     ]
    }
   ],
   "source": [
    "now('abc')"
   ]
  },
  {
   "cell_type": "code",
   "execution_count": 15,
   "metadata": {},
   "outputs": [
    {
     "name": "stdout",
     "output_type": "stream",
     "text": [
      "----args----\n",
      "abc 6\n",
      "----kw----\n",
      "\n",
      "call now():\n",
      "name= abc age= 6\n"
     ]
    }
   ],
   "source": [
    "now('abc', 6)"
   ]
  },
  {
   "cell_type": "code",
   "execution_count": 16,
   "metadata": {},
   "outputs": [],
   "source": [
    "# 12.鸭子模型 我们不关心对象是什么类型，到底是不是鸭子，只关心行为\n",
    "# 比如：list.extend()方法中，我们并不关心它的参数是不是list，只要可迭代的的就可以，比如说我们的\n",
    "# list/tupe/dict/字符创/生成器"
   ]
  },
  {
   "cell_type": "code",
   "execution_count": 18,
   "metadata": {},
   "outputs": [],
   "source": [
    "# 13.重载  参考链接：https://www.zhihu.com/question/20053359\n",
    "# 函数的重载主要是为了解决两个问题：1)可变参数类型 2) 可变参数个数\n",
    "# 另外，一个基本的设计原则是，仅仅当两个函数除了参数类型和参数个数不同以外，\n",
    "# 其功能是完全相同的，此时才使用函数重载，如果两个函数的功能其实不同，\n",
    "# 那么不应当使用重载，而应当使用一个名字不同的函数。\n",
    "\n",
    "# 好吧，那么对于情况 1 ，函数功能相同，但是参数类型不同，python 如何处理？\n",
    "# 答案是根本不需要处理，因为 python 可以接受任何类型的参数，如果函数的功能相同，\n",
    "# 那么不同的参数类型在 python 中很可能是相同的代码，没有必要做成两个不同函数。\n",
    "\n",
    "# 那么对于情况 2 ，函数功能相同，但参数个数不同，python 如何处理？\n",
    "# 大家知道，答案就是缺省参数。对那些缺少的参数设定为缺省参数即可解决问题。\n",
    "# 因为你假设函数功能相同，那么那些缺少的参数终归是需要用的。\n",
    "# 好了，鉴于情况 1 跟 情况 2 都有了解决方案，python 自然就不需要函数重载了。"
   ]
  },
  {
   "cell_type": "code",
   "execution_count": 19,
   "metadata": {},
   "outputs": [],
   "source": [
    "# 14.新式类和旧式类\n",
    "# 书籍推荐：Python核心编程\n",
    "# 新式类早在2.2版本就出现，对旧式类是完全兼容的，python3里面的类全部是新式类\n",
    "# 新式类继承根据C3算法, 旧式类是深度优先\n",
    "# 参考链接：http://www.cnblogs.com/btchenguang/archive/2012/09/17/2689146.html\n",
    "# 新式类和旧式类的区别：\n",
    "# (1) 新式类采用class Test(Object) 这样的方式创建类 旧式类才使用 class Test创建类\n",
    "# (2) 继承方式大体相同，一个关键区别就是新式类能够从python的内置类型中继承，经典类不行\n",
    "# (3) 方法解析方式不同 新式类采用广度优先的方式进行查找，旧式类采用深度优先进行查找\n",
    "\n",
    "# __slots__属性\n",
    "# 通常每一个实例x都会有一个__dict__属性，用来记录实例中所有的属性和方法，也是通过这个字典，\n",
    "# 可以让实例绑定任意的属性。而__slots__属性作用就是，当类C有比较少的变量，而且拥有__slots__属性时，\n",
    "# 类C的实例 就没有__dict__属性，而是把变量的值存在一个固定的地方。如果试图访问一个__slots__中没有\n",
    "# 的属性，实例就会报错。这样操作有什么好处呢？__slots__属性虽然令实例失去了绑定任意属性的便利，\n",
    "# 但是因为每一个实例没有__dict__属性，却能有效节省每一个实例的内存消耗，有利于生成小而精\n",
    "# 干的实例。\n",
    "\n",
    "# 为什么需要这样的设计呢？\n",
    "# 在一个实际的企业级应用中，当一个类生成上百万个实例时，即使一个实例节省几十个字节都可以节省\n",
    "# 一大笔内存，这种情况就值得使用__slots__属性。\n",
    "\n",
    "# 使用时__slots__时需要注意的几点：\n",
    "# 1.  当一个类的父类没有定义__slots__属性，父类中的__dict__属性总是可以访问到的，所以只在子\n",
    "# 类中定义__slots__属性，而不在父类中定义是没有意义的。\n",
    "# 2. 如果定义了__slots属性，还是想在之后添加新的变量，就需要把'__dict__'字符串添加到__slots__的\n",
    "# 元组里。\n",
    "# 3. 定义了__slots__属性，还会消失的一个属性是__weakref__，这样就不支持实例的weak reference，\n",
    "# 如果还是想用这个功能，同样，可以把'__weakref__'字符串添加到元组里。\n",
    "# 4. __slots__功能是通过descriptor实现的，会为每一个变量创建一个descriptor。\n",
    "# 5. __slots__的功能只影响定义它的类，因此，子类需要重新定义__slots__才能有它的功能。"
   ]
  },
  {
   "cell_type": "code",
   "execution_count": 42,
   "metadata": {},
   "outputs": [],
   "source": [
    "# 16.__new__, __init__区别 参考链接：http://python.jobbole.com/86506/\n",
    "# (1) __new__是一个静态方法，而__init__是一个实例方法\n",
    "# (2) __new__返回一个创建的实例，而__init__什么也不返回\n",
    "# (3) 只有在__new__返回一个cls实例后面 __init__方法才被调用\n",
    "# (4) 当创建一个实例时调用__new__，初始化一个实例时调用__init__\n",
    "\n",
    "class Person(object):\n",
    "    def __new__(cls, *args, **kw):\n",
    "        print('__new__')\n",
    "        return super().__new__(cls)\n",
    "    \n",
    "    def __init__(self, name):\n",
    "        self.name = name\n",
    "        print('__init__')\n",
    "        "
   ]
  },
  {
   "cell_type": "code",
   "execution_count": 43,
   "metadata": {},
   "outputs": [
    {
     "name": "stdout",
     "output_type": "stream",
     "text": [
      "__new__\n",
      "__init__\n"
     ]
    },
    {
     "data": {
      "text/plain": [
       "<__main__.Person at 0x10fc0ac18>"
      ]
     },
     "execution_count": 43,
     "metadata": {},
     "output_type": "execute_result"
    }
   ],
   "source": [
    "Person('abc')"
   ]
  },
  {
   "cell_type": "code",
   "execution_count": 44,
   "metadata": {},
   "outputs": [
    {
     "name": "stdout",
     "output_type": "stream",
     "text": [
      "__new__\n"
     ]
    },
    {
     "ename": "TypeError",
     "evalue": "__init__() takes 2 positional arguments but 3 were given",
     "output_type": "error",
     "traceback": [
      "\u001b[0;31m---------------------------------------------------------------------------\u001b[0m",
      "\u001b[0;31mTypeError\u001b[0m                                 Traceback (most recent call last)",
      "\u001b[0;32m<ipython-input-44-77abb8cbdf6b>\u001b[0m in \u001b[0;36m<module>\u001b[0;34m\u001b[0m\n\u001b[1;32m      1\u001b[0m \u001b[0;31m# 如果把上面的__init__方法注销掉就可以了\u001b[0m\u001b[0;34m\u001b[0m\u001b[0;34m\u001b[0m\u001b[0m\n\u001b[0;32m----> 2\u001b[0;31m \u001b[0mPerson\u001b[0m\u001b[0;34m(\u001b[0m\u001b[0;34m'abc'\u001b[0m\u001b[0;34m,\u001b[0m \u001b[0;34m{\u001b[0m\u001b[0;34m'age'\u001b[0m\u001b[0;34m:\u001b[0m \u001b[0;36m18\u001b[0m\u001b[0;34m,\u001b[0m \u001b[0;34m'score'\u001b[0m\u001b[0;34m:\u001b[0m \u001b[0;36m99\u001b[0m\u001b[0;34m}\u001b[0m\u001b[0;34m)\u001b[0m\u001b[0;34m\u001b[0m\u001b[0m\n\u001b[0m",
      "\u001b[0;31mTypeError\u001b[0m: __init__() takes 2 positional arguments but 3 were given"
     ]
    }
   ],
   "source": [
    "# 如果把上面的__init__方法注销掉就可以了\n",
    "Person('abc', {'age': 18, 'score': 99})"
   ]
  },
  {
   "cell_type": "code",
   "execution_count": 45,
   "metadata": {},
   "outputs": [
    {
     "name": "stdout",
     "output_type": "stream",
     "text": [
      "__new__\n",
      "__init__\n",
      "<class '__main__.Person'>\n"
     ]
    }
   ],
   "source": [
    "print(type(Person(\"abc\")))"
   ]
  },
  {
   "cell_type": "code",
   "execution_count": 86,
   "metadata": {},
   "outputs": [],
   "source": [
    "# 17.python 单例模式\n",
    "# class Singleton(object):\n",
    "#     _singletons = {}\n",
    "#     def __new__(cls):\n",
    "#         if not cls._singletons.has_key(cls):            #若还没有任何实例\n",
    "#             cls._singletons[cls] = object.__new__(cls)  #生成一个实例\n",
    "#         return cls._singletons[cls]                             #返回这个实例\n",
    "class Singleton(object):\n",
    "    def __new__(cls, *args, **kw):\n",
    "        if not hasattr(cls, '_instance'):\n",
    "            orig = super(Singleton, cls)\n",
    "            cls._instance = orig.__new__(cls, *args, **kw)\n",
    "        return cls._instance\n",
    "    "
   ]
  },
  {
   "cell_type": "code",
   "execution_count": 87,
   "metadata": {},
   "outputs": [],
   "source": [
    "#  共享属性\n",
    "# 创建实例时 把所有的实例的__dict__指向同一个字典，这样他们就具有相同的属性和方法\n",
    "\n",
    "class Borg(object):\n",
    "    _state = {}\n",
    "    def __new__(cls, *args, **kw):\n",
    "        ob = super(Borg, cls).__new__(cls, *args, **kw)\n",
    "        ob.__dict__ = cls._state\n",
    "        return ob\n",
    "\n",
    "class MyClass2(Borg):\n",
    "    a = 1"
   ]
  },
  {
   "cell_type": "code",
   "execution_count": 88,
   "metadata": {},
   "outputs": [
    {
     "name": "stdout",
     "output_type": "stream",
     "text": [
      "{'name': 'abc', 'age': 10, 'color': 'red'}\n"
     ]
    }
   ],
   "source": [
    "dog = MyClass2()\n",
    "dog.name = 'abc'\n",
    "dog.age = 10\n",
    "\n",
    "dog2 = MyClass2()\n",
    "dog2.color = 'red'\n",
    "\n",
    "print (dog._state)"
   ]
  },
  {
   "cell_type": "code",
   "execution_count": 89,
   "metadata": {},
   "outputs": [],
   "source": [
    "# 装饰器版本\n",
    "def singleton(cls):\n",
    "    instance = {}\n",
    "    def getinstance(*args, **kw):\n",
    "        if cls not in instance:\n",
    "            instance[cls] = cls(*args, **kw)\n",
    "        return instance\n",
    "    return getinstance\n",
    "\n",
    "@singleton\n",
    "class MyClass(object):\n",
    "    pass"
   ]
  },
  {
   "cell_type": "code",
   "execution_count": 95,
   "metadata": {},
   "outputs": [
    {
     "name": "stdout",
     "output_type": "stream",
     "text": [
      "{'__module__': '__main__', 'a': 0, 'b': 1, '__init__': <function Parent.__init__ at 0x10fc36620>, 'p_test': <function Parent.p_test at 0x10fc36730>, '__dict__': <attribute '__dict__' of 'Parent' objects>, '__weakref__': <attribute '__weakref__' of 'Parent' objects>, '__doc__': None}\n",
      "{'__module__': '__main__', 'a': 4, 'b': 5, '__init__': <function Child.__init__ at 0x10fc36488>, 'c_test': <function Child.c_test at 0x10fc36378>, 'p_test': <function Child.p_test at 0x10fc36c80>, '__doc__': None}\n",
      "{'a': 2, 'b': 3}\n",
      "{'a': 6, 'b': 3, 'c': 7}\n"
     ]
    }
   ],
   "source": [
    "# 每个类有自己的__dict__属性，就算存着继承关系，父类的__dict__ 并不会影响子类的__dict__\n",
    "#  每个类的__dict__存储着各自的属性，方法和函数名\n",
    "# 父类和子类的实例变量__dict__的共有的，存储self.xxx 信息\n",
    "class Parent(object):\n",
    "    a = 0\n",
    "    b = 1\n",
    " \n",
    "    def __init__(self):\n",
    "        self.a = 2\n",
    "        self.b = 3\n",
    " \n",
    "    def p_test(self):\n",
    "        pass\n",
    " \n",
    " \n",
    "class Child(Parent):\n",
    "    a = 4\n",
    "    b = 5\n",
    " \n",
    "#     def __init__(self):\n",
    "#         # 写在super之前会被父类覆盖掉\n",
    "#         self.a = 6\n",
    "#         self.c = 7\n",
    "#         super(Child, self).__init__()\n",
    "\n",
    "    def __init__(self):\n",
    "        super(Child, self).__init__()\n",
    "        self.a = 6\n",
    "        self.c = 7\n",
    "        \n",
    "    def c_test(self):\n",
    "        pass\n",
    " \n",
    "    def p_test(self):\n",
    "        pass\n",
    " \n",
    " \n",
    "p = Parent()\n",
    "c = Child()\n",
    "print (Parent.__dict__)\n",
    "print (Child.__dict__)\n",
    "print (p.__dict__)\n",
    "print (c.__dict__)\n"
   ]
  },
  {
   "cell_type": "code",
   "execution_count": null,
   "metadata": {},
   "outputs": [],
   "source": []
  }
 ],
 "metadata": {
  "kernelspec": {
   "display_name": "Python 3",
   "language": "python",
   "name": "python3"
  },
  "language_info": {
   "codemirror_mode": {
    "name": "ipython",
    "version": 3
   },
   "file_extension": ".py",
   "mimetype": "text/x-python",
   "name": "python",
   "nbconvert_exporter": "python",
   "pygments_lexer": "ipython3",
   "version": "3.7.3"
  }
 },
 "nbformat": 4,
 "nbformat_minor": 2
}
