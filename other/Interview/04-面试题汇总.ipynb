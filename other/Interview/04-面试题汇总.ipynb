{
 "cells": [
  {
   "cell_type": "code",
   "execution_count": null,
   "metadata": {},
   "outputs": [],
   "source": [
    "# 1.如何权衡偏差和方差\n",
    "# 参考链接：https://www.zhihu.com/question/20448464/answer/20039077\n",
    "# 偏差：衡量的是预测值和真实值之间的差异，偏差值越大，越偏离真实值\n",
    "# 方差：衡量的距离期望值的波动性，方差越大，数据波动性越大，数据分布越分散"
   ]
  }
 ],
 "metadata": {
  "kernelspec": {
   "display_name": "Python 3",
   "language": "python",
   "name": "python3"
  },
  "language_info": {
   "codemirror_mode": {
    "name": "ipython",
    "version": 3
   },
   "file_extension": ".py",
   "mimetype": "text/x-python",
   "name": "python",
   "nbconvert_exporter": "python",
   "pygments_lexer": "ipython3",
   "version": "3.7.0"
  }
 },
 "nbformat": 4,
 "nbformat_minor": 1
}
