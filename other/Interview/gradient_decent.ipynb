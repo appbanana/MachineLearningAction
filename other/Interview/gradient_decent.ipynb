{
 "cells": [
  {
   "cell_type": "code",
   "execution_count": 2,
   "metadata": {},
   "outputs": [],
   "source": [
    "from random import random"
   ]
  },
  {
   "cell_type": "code",
   "execution_count": 19,
   "metadata": {},
   "outputs": [],
   "source": [
    "# 梯度下降\n",
    "# 参考链接：https://zhuanlan.zhihu.com/p/52048551\n",
    "def gradient_decent(fn, \n",
    "                    partial_derivatives, #梯度向量\n",
    "                    n_variables, # 变量个数\n",
    "                    lr=0.1, # 步进值\n",
    "                    max_iter=10000, # 最大遍历数\n",
    "                    tolerance=1e-5):\n",
    "    # 随机生成两个数\n",
    "    theta = [random() for _ in range(n_variables)]\n",
    "    # 将随机生成的数传到函数中计算 *号是把数组中所有的元素都取出来\n",
    "    y_cur = fn(*theta)\n",
    "    for i in range(max_iter):\n",
    "        # 将上面随机生成的两个值带到梯度向量中\n",
    "        gradient = [f(*theta) for f in partial_derivatives]\n",
    "        for j in range(n_variables):\n",
    "            # 每次按照步进值lr递减\n",
    "            theta[j] -= gradient[j] * lr\n",
    "        # 再次带入函数计算 并把之前计算出来的值y_cur 赋值给y_pre\n",
    "        y_cur, y_pre = fn(*theta), y_cur\n",
    "        # 一旦预期值和当前值之差小于容忍误差 直接跳出循环\n",
    "        if abs(y_pre - y_cur) < tolerance:\n",
    "            break\n",
    "    return theta, y_cur"
   ]
  },
  {
   "cell_type": "code",
   "execution_count": 20,
   "metadata": {},
   "outputs": [],
   "source": [
    "# f(x, y)函数及其分别对x，y求导的函数\n",
    "def f(x, y):\n",
    "    return (x+y-3) ** 2 + (x + 2*y-5)**2 + 2\n",
    "\n",
    "def df_dx(x, y):\n",
    "    return 2 * (x+y-3) + (x + 2*y-5)*2 \n",
    "\n",
    "def df_dy(x, y):\n",
    "    return 2 * (x+y-3) + (x + 2*y-5)*4"
   ]
  },
  {
   "cell_type": "code",
   "execution_count": 21,
   "metadata": {},
   "outputs": [],
   "source": [
    "# 测试上面的梯度下降\n",
    "theta, f_theta = gradient_decent(f, [df_dx, df_dy], n_variables=2)"
   ]
  },
  {
   "cell_type": "code",
   "execution_count": 22,
   "metadata": {},
   "outputs": [
    {
     "data": {
      "text/plain": [
       "[1.0283541435020456, 1.9824761755938438]"
      ]
     },
     "execution_count": 22,
     "metadata": {},
     "output_type": "execute_result"
    }
   ],
   "source": [
    "theta"
   ]
  },
  {
   "cell_type": "code",
   "execution_count": 23,
   "metadata": {},
   "outputs": [
    {
     "data": {
      "text/plain": [
       "2.0001620988250575"
      ]
     },
     "execution_count": 23,
     "metadata": {},
     "output_type": "execute_result"
    }
   ],
   "source": [
    "f_theta"
   ]
  },
  {
   "cell_type": "code",
   "execution_count": 24,
   "metadata": {},
   "outputs": [],
   "source": [
    "# 保留3位小数\n",
    "theta = [round(x, 3) for x in theta]"
   ]
  },
  {
   "cell_type": "code",
   "execution_count": 25,
   "metadata": {},
   "outputs": [
    {
     "data": {
      "text/plain": [
       "[1.028, 1.982]"
      ]
     },
     "execution_count": 25,
     "metadata": {},
     "output_type": "execute_result"
    }
   ],
   "source": [
    "theta"
   ]
  },
  {
   "cell_type": "code",
   "execution_count": 26,
   "metadata": {},
   "outputs": [
    {
     "name": "stdout",
     "output_type": "stream",
     "text": [
      "1 2 3\n"
     ]
    }
   ],
   "source": [
    "# *号\n",
    "print(*[1, 2, 3])"
   ]
  },
  {
   "cell_type": "code",
   "execution_count": null,
   "metadata": {},
   "outputs": [],
   "source": []
  }
 ],
 "metadata": {
  "kernelspec": {
   "display_name": "Python 3",
   "language": "python",
   "name": "python3"
  },
  "language_info": {
   "codemirror_mode": {
    "name": "ipython",
    "version": 3
   },
   "file_extension": ".py",
   "mimetype": "text/x-python",
   "name": "python",
   "nbconvert_exporter": "python",
   "pygments_lexer": "ipython3",
   "version": "3.7.3"
  }
 },
 "nbformat": 4,
 "nbformat_minor": 2
}
