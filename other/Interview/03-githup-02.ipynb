{
 "cells": [
  {
   "cell_type": "code",
   "execution_count": 11,
   "metadata": {},
   "outputs": [
    {
     "name": "stdout",
     "output_type": "stream",
     "text": [
      "6\n",
      "6\n"
     ]
    }
   ],
   "source": [
    "# 17.python3 作用域\n",
    "# python3 检索变量的顺序\n",
    "# 本地作用域(Local) -> 当前作用域被嵌入的本地作用域（Enclosing locals）-> \n",
    "# 全局/模块作用域(Global)->内置作用域(Build-in)\n",
    "# 只有当变量在Moudle(模块中),Class(类),def(函数)中定义的时候，才会有作用域产生\n",
    "# 需要注意的地方就是 if-elseif-else for-else，while， try-except等关键字语句中不会产生作用域\n",
    "# 参考链接：http://python.jobbole.com/86465/\n",
    "\n",
    "# 模块中没有在定义同名变量，可以在函数中当全局变量使用\n",
    "hehe=6\n",
    "def f():\n",
    "    print(hehe)\n",
    "f()\n",
    "print(hehe) "
   ]
  },
  {
   "cell_type": "code",
   "execution_count": 12,
   "metadata": {},
   "outputs": [
    {
     "name": "stdout",
     "output_type": "stream",
     "text": [
      "4548063360\n",
      "2\n",
      "4548063232\n",
      "6\n"
     ]
    }
   ],
   "source": [
    "# 本地作用域优先于全局作用域\n",
    "hehe=6\n",
    "print(id(hehe))\n",
    "def f():\n",
    "    hehe=2\n",
    "    print(hehe)\n",
    "    print(id(hehe))\n",
    "f()\n",
    "print(hehe) "
   ]
  },
  {
   "cell_type": "code",
   "execution_count": 10,
   "metadata": {},
   "outputs": [
    {
     "ename": "UnboundLocalError",
     "evalue": "local variable 'hehe' referenced before assignment",
     "output_type": "error",
     "traceback": [
      "\u001b[0;31m---------------------------------------------------------------------------\u001b[0m",
      "\u001b[0;31mUnboundLocalError\u001b[0m                         Traceback (most recent call last)",
      "\u001b[0;32m<ipython-input-10-98d53832d096>\u001b[0m in \u001b[0;36m<module>\u001b[0;34m\u001b[0m\n\u001b[1;32m      3\u001b[0m     \u001b[0mprint\u001b[0m\u001b[0;34m(\u001b[0m\u001b[0mhehe\u001b[0m\u001b[0;34m)\u001b[0m\u001b[0;34m\u001b[0m\u001b[0m\n\u001b[1;32m      4\u001b[0m     \u001b[0mhehe\u001b[0m\u001b[0;34m=\u001b[0m\u001b[0;36m2\u001b[0m\u001b[0;34m\u001b[0m\u001b[0m\n\u001b[0;32m----> 5\u001b[0;31m \u001b[0mf\u001b[0m\u001b[0;34m(\u001b[0m\u001b[0;34m)\u001b[0m\u001b[0;34m\u001b[0m\u001b[0m\n\u001b[0m\u001b[1;32m      6\u001b[0m \u001b[0mprint\u001b[0m\u001b[0;34m(\u001b[0m\u001b[0mhehe\u001b[0m\u001b[0;34m)\u001b[0m\u001b[0;34m\u001b[0m\u001b[0m\n",
      "\u001b[0;32m<ipython-input-10-98d53832d096>\u001b[0m in \u001b[0;36mf\u001b[0;34m()\u001b[0m\n\u001b[1;32m      1\u001b[0m \u001b[0mhehe\u001b[0m\u001b[0;34m=\u001b[0m\u001b[0;36m6\u001b[0m\u001b[0;34m\u001b[0m\u001b[0m\n\u001b[1;32m      2\u001b[0m \u001b[0;32mdef\u001b[0m \u001b[0mf\u001b[0m\u001b[0;34m(\u001b[0m\u001b[0;34m)\u001b[0m\u001b[0;34m:\u001b[0m\u001b[0;34m\u001b[0m\u001b[0m\n\u001b[0;32m----> 3\u001b[0;31m     \u001b[0mprint\u001b[0m\u001b[0;34m(\u001b[0m\u001b[0mhehe\u001b[0m\u001b[0;34m)\u001b[0m\u001b[0;34m\u001b[0m\u001b[0m\n\u001b[0m\u001b[1;32m      4\u001b[0m     \u001b[0mhehe\u001b[0m\u001b[0;34m=\u001b[0m\u001b[0;36m2\u001b[0m\u001b[0;34m\u001b[0m\u001b[0m\n\u001b[1;32m      5\u001b[0m \u001b[0mf\u001b[0m\u001b[0;34m(\u001b[0m\u001b[0;34m)\u001b[0m\u001b[0;34m\u001b[0m\u001b[0m\n",
      "\u001b[0;31mUnboundLocalError\u001b[0m: local variable 'hehe' referenced before assignment"
     ]
    }
   ],
   "source": [
    "# \n",
    "hehe=6\n",
    "def f():\n",
    "    print(hehe)\n",
    "    hehe=2\n",
    "f()\n",
    "print(hehe) "
   ]
  },
  {
   "cell_type": "code",
   "execution_count": 6,
   "metadata": {},
   "outputs": [
    {
     "name": "stdout",
     "output_type": "stream",
     "text": [
      "6\n",
      "3\n"
     ]
    }
   ],
   "source": [
    "# global 让函数中的变量是模块层次中的全局变量而不是局部变量\n",
    "hehe=6\n",
    "def f():\n",
    "    global hehe\n",
    "    print(hehe)\n",
    "    hehe=3\n",
    "f()\n",
    "print(hehe) "
   ]
  },
  {
   "cell_type": "code",
   "execution_count": 13,
   "metadata": {},
   "outputs": [
    {
     "name": "stdout",
     "output_type": "stream",
     "text": [
      "lzl\n"
     ]
    }
   ],
   "source": [
    "name = \"lzl\"\n",
    " \n",
    "def f1():\n",
    "    print(name)\n",
    " \n",
    "def f2():\n",
    "    name = \"eric\"\n",
    "    f1()\n",
    " \n",
    "f2() # lzl"
   ]
  },
  {
   "cell_type": "code",
   "execution_count": 14,
   "metadata": {},
   "outputs": [],
   "source": [
    "# 18. GIL线程全局锁\n",
    "# 因为Python的线程虽然是真正的线程，但解释器执行代码时，有一个GIL锁：Global Interpreter Lock，\n",
    "# 任何Python线程执行前，必须先获得GIL锁，然后，每执行100条字节码，解释器就自动释放GIL锁，\n",
    "# 让别的线程有机会执行。这个GIL全局锁实际上把所有线程的执行代码都给上了锁，\n",
    "# 所以，多线程在Python中只能交替执行，即使100个线程跑在100核CPU上，也只能用到1个核。\n",
    "# 参考链接：https://www.jianshu.com/p/dbd36c7b71d3"
   ]
  },
  {
   "cell_type": "code",
   "execution_count": 29,
   "metadata": {},
   "outputs": [
    {
     "name": "stdout",
     "output_type": "stream",
     "text": [
      "---consumer---consumer\n",
      "[PRODUCER] Producing 1...\n",
      "---consumer---consumer---11111\n",
      "[CONSUMER] Consuming 1...\n",
      "[PRODUCER] Consumer return: 200 OK\n",
      "[PRODUCER] Producing 2...\n",
      "---consumer---consumer---11111\n",
      "[CONSUMER] Consuming 2...\n",
      "[PRODUCER] Consumer return: 200 OK\n",
      "[PRODUCER] Producing 3...\n",
      "---consumer---consumer---11111\n",
      "[CONSUMER] Consuming 3...\n",
      "[PRODUCER] Consumer return: 200 OK\n",
      "[PRODUCER] Producing 4...\n",
      "---consumer---consumer---11111\n",
      "[CONSUMER] Consuming 4...\n",
      "[PRODUCER] Consumer return: 200 OK\n",
      "[PRODUCER] Producing 5...\n",
      "---consumer---consumer---11111\n",
      "[CONSUMER] Consuming 5...\n",
      "[PRODUCER] Consumer return: 200 OK\n"
     ]
    }
   ],
   "source": [
    "# 19.协程\n",
    "# 第一大优势：协程最大的有时就是极高的执行效率。因为子程序的切换不是线程的切换，二是程序自身的控制。\n",
    "# 因此，没有线程切换的开销，和多线程相比，线程数量越多，协程的性能优势越明显\n",
    "# 第二大优势：不需要多线程锁机制，因为只有一个线程，不存在同时读写变量的冲突，协程控制的共享资源\n",
    "# 不加锁，只需要判断状态就好了，所以执行效率就比多线程高很多\n",
    "\n",
    "def consumer():\n",
    "    r = ''\n",
    "    print('---consumer---consumer')\n",
    "    while True:\n",
    "        n = yield r\n",
    "        print('---consumer---consumer---11111')\n",
    "        if not n:\n",
    "            print('---None---None')\n",
    "            return\n",
    "        print('[CONSUMER] Consuming %s...' % n)\n",
    "        r = '200 OK'\n",
    "\n",
    "def produce(c):\n",
    "    c.send(None)\n",
    "    n = 0\n",
    "    while n < 5:\n",
    "        n = n+1\n",
    "        print('[PRODUCER] Producing %s...' % n)\n",
    "        r = c.send(n)\n",
    "        print('[PRODUCER] Consumer return: %s' % r)\n",
    "    c.close()\n",
    "\n",
    "c = consumer()\n",
    "produce(c)"
   ]
  },
  {
   "cell_type": "code",
   "execution_count": null,
   "metadata": {},
   "outputs": [],
   "source": []
  },
  {
   "cell_type": "code",
   "execution_count": 16,
   "metadata": {},
   "outputs": [],
   "source": [
    "# 20.闭包\n",
    "# (1)必须有一个内嵌函数\n",
    "# (2)内嵌函数必须使用外嵌函数中的变量\n",
    "# (3) 外嵌函数必须返回内嵌函数\n",
    "\n",
    "def counter(start=0):\n",
    "    count=[start]\n",
    "    def incr():\n",
    "        count[0] +=1\n",
    "        return count[0]\n",
    "    return incr"
   ]
  },
  {
   "cell_type": "code",
   "execution_count": 19,
   "metadata": {},
   "outputs": [
    {
     "name": "stdout",
     "output_type": "stream",
     "text": [
      "6\n",
      "7\n",
      "101\n",
      "102\n"
     ]
    }
   ],
   "source": [
    "c1 = counter(5)\n",
    "print(c1())\n",
    "print(c1())\n",
    "\n",
    "c2 = counter(100)\n",
    "print(c2())\n",
    "print(c2())\n"
   ]
  },
  {
   "cell_type": "code",
   "execution_count": 32,
   "metadata": {},
   "outputs": [
    {
     "name": "stdout",
     "output_type": "stream",
     "text": [
      "<map object at 0x111187668>\n",
      "[1, 4, 9, 16, 25, 36, 49, 64, 81]\n"
     ]
    }
   ],
   "source": [
    "# 21 lambda函数\n",
    "temp = map(lambda x: x**2, [1, 2, 3, 4, 5, 6, 7, 8, 9])\n",
    "print(temp)\n",
    "print(list(temp))"
   ]
  },
  {
   "cell_type": "code",
   "execution_count": 33,
   "metadata": {},
   "outputs": [],
   "source": [
    "# 22.函数式编程\n",
    "# map reduce filter \n"
   ]
  },
  {
   "cell_type": "code",
   "execution_count": 38,
   "metadata": {},
   "outputs": [
    {
     "name": "stdout",
     "output_type": "stream",
     "text": [
      "[1, 2, 3, 4, ['a', 'b'], 66]\n",
      "[1, 2, 3, 4, ['a', 'b'], 88]\n",
      "[1, 2, 3, 4, ['a', 'b', 'c'], 66]\n",
      "[1, 2, 3, 4, ['a', 'b', 'c'], 88]\n"
     ]
    }
   ],
   "source": [
    "# 23.python里的拷贝\n",
    "# copy 浅拷贝只是会拷贝一级，不会拷贝深层次的拷贝\n",
    "# deepcopy 是深层次的拷贝，类似于我们的拷贝文件，两个毫无不关联的对象\n",
    "import copy\n",
    "a = [1, 2, 3, 4, ['a', 'b']]\n",
    "b = copy.copy(a)\n",
    "\n",
    "a.append(66)\n",
    "b.append(88)\n",
    "print(a)\n",
    "print(b)\n",
    "\n",
    "# copy只做了一级拷贝\n",
    "b[4].append('c')\n",
    "\n",
    "print(a)\n",
    "print(b)"
   ]
  },
  {
   "cell_type": "code",
   "execution_count": 37,
   "metadata": {},
   "outputs": [
    {
     "name": "stdout",
     "output_type": "stream",
     "text": [
      "[1, 2, 3, 4, ['a', 'b']]\n",
      "[1, 2, 3, 4, ['a', 'b', 'c']]\n"
     ]
    }
   ],
   "source": [
    "# 深层次的拷贝\n",
    "a = [1, 2, 3, 4, ['a', 'b']]\n",
    "b = copy.deepcopy(a)\n",
    "b[4].append('c')\n",
    "print(a)\n",
    "print(b)"
   ]
  },
  {
   "cell_type": "code",
   "execution_count": 39,
   "metadata": {},
   "outputs": [],
   "source": [
    "# 24.python的垃圾回收机制\n",
    "# python GC主要使用的是引用计数来跟踪和回收垃圾。在引用计数的基础上，通过'标记-清除'\n",
    "# 来解决容器对象可能产生的循环引用问题，通过分代回收以空间换时间的方法提高垃圾回收效率\n",
    "# 引用计数：当一个对象有新的引用的时候，它的ob_refcnt就会增加，当他的对象被删除，他的ob_refcnt\n",
    "# 就会减少。当引用计数为0的时候，该对象就的生命就结束了，所占的内存就会被释放\n",
    "\n",
    "# 标记-清除\n",
    "# 基本思路：先按需分配，等到没有空闲内存的时候从寄存器和程序栈上的引用触发，\n",
    "# 遍历以对象为节点，以引用为边构成的图，把所有可以访问的对象打上标记，\n",
    "# 然后清扫一遍内存空间，把所有没有标记的对象释放\n",
    "\n",
    "# 分代技术\n",
    "# 分代技术的整体思想：将系统中所有的内存块根据其存活的时间划分不同的集合，每个集合就成为一个’代‘，\n",
    "# 垃圾收集的频率随着代的存活时间的增大而减小，存活时间通常利用几次垃圾回收来度量"
   ]
  },
  {
   "cell_type": "code",
   "execution_count": 40,
   "metadata": {},
   "outputs": [],
   "source": [
    "# 25.python list"
   ]
  },
  {
   "cell_type": "code",
   "execution_count": 41,
   "metadata": {},
   "outputs": [],
   "source": [
    "# 26.python中的is\n",
    "# is对比的是地址，==对比的是值"
   ]
  },
  {
   "cell_type": "code",
   "execution_count": 42,
   "metadata": {},
   "outputs": [],
   "source": [
    "# 27.read，readline， readlines\n",
    "# read读取整个文件\n",
    "# readline 读取下一行，使用生成器方法\n",
    "# readlines 读取整个文件到迭代器以供我们遍历"
   ]
  },
  {
   "cell_type": "code",
   "execution_count": 43,
   "metadata": {},
   "outputs": [],
   "source": [
    "# 29.super init\n",
    "\n"
   ]
  },
  {
   "cell_type": "code",
   "execution_count": 47,
   "metadata": {},
   "outputs": [
    {
     "name": "stdout",
     "output_type": "stream",
     "text": [
      "range(0, 10)\n",
      "<class 'range'>\n"
     ]
    }
   ],
   "source": [
    "# 30.range和xrange\n",
    "#  xrange函数在Python3中已经取消，在python3中，range()这种实现被移除了，\n",
    "# 保留了xrange()的实现，且将xrange()重新命名成range()。所以Python3不能使用xrange，只能使用range\n",
    "# 要生成很大的数字序列的时候，用xrange会比range性能优很多，因为不需要预先开辟一块很大的内存空间，\n",
    "# 这两个基本上都是在循环的时候用\n",
    "a = range(10)\n",
    "print(a)\n",
    "print(type(a))"
   ]
  },
  {
   "cell_type": "code",
   "execution_count": null,
   "metadata": {},
   "outputs": [],
   "source": []
  }
 ],
 "metadata": {
  "kernelspec": {
   "display_name": "Python 3",
   "language": "python",
   "name": "python3"
  },
  "language_info": {
   "codemirror_mode": {
    "name": "ipython",
    "version": 3
   },
   "file_extension": ".py",
   "mimetype": "text/x-python",
   "name": "python",
   "nbconvert_exporter": "python",
   "pygments_lexer": "ipython3",
   "version": "3.7.0"
  }
 },
 "nbformat": 4,
 "nbformat_minor": 1
}
