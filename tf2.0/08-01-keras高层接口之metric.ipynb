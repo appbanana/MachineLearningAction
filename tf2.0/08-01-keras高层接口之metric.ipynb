{
 "cells": [
  {
   "cell_type": "code",
   "execution_count": 1,
   "metadata": {},
   "outputs": [],
   "source": [
    "# cd 先进入当前路径\n",
    "# tensorboard --logdir logs"
   ]
  },
  {
   "cell_type": "code",
   "execution_count": 1,
   "metadata": {},
   "outputs": [],
   "source": [
    "import tensorflow as tf\n",
    "from tensorflow import keras\n"
   ]
  },
  {
   "cell_type": "code",
   "execution_count": 5,
   "metadata": {},
   "outputs": [],
   "source": [
    "# 加载数据\n",
    "(x_train, y_train), (x_test, y_test) = keras.datasets.fashion_mnist.load_data()\n",
    "\n",
    "# 数据预处理\n",
    "def preprocess_data(x, y):\n",
    "    x = tf.cast(x, dtype=tf.float32) / 255\n",
    "    y = tf.cast(y, dtype=tf.int32)\n",
    "    return x, y\n",
    "    "
   ]
  },
  {
   "cell_type": "code",
   "execution_count": 7,
   "metadata": {},
   "outputs": [],
   "source": [
    "# 划分训练接和测试集\n",
    "batch_size = 128\n",
    "db_train = tf.data.Dataset.from_tensor_slices((x_train, y_train))\n",
    "db_train = db_train.map(preprocess_data).shuffle(10000).batch(batch_size)\n",
    "\n",
    "db_test = tf.data.Dataset.from_tensor_slices((x_test, y_test))\n",
    "db_test = db_test.map(preprocess_data).batch(batch_size)"
   ]
  },
  {
   "cell_type": "code",
   "execution_count": 11,
   "metadata": {},
   "outputs": [
    {
     "name": "stdout",
     "output_type": "stream",
     "text": [
      "Model: \"sequential_2\"\n",
      "_________________________________________________________________\n",
      "Layer (type)                 Output Shape              Param #   \n",
      "=================================================================\n",
      "dense_12 (Dense)             multiple                  401920    \n",
      "_________________________________________________________________\n",
      "dense_13 (Dense)             multiple                  131328    \n",
      "_________________________________________________________________\n",
      "dense_14 (Dense)             multiple                  32896     \n",
      "_________________________________________________________________\n",
      "dense_15 (Dense)             multiple                  8256      \n",
      "_________________________________________________________________\n",
      "dense_16 (Dense)             multiple                  2080      \n",
      "_________________________________________________________________\n",
      "dense_17 (Dense)             multiple                  330       \n",
      "=================================================================\n",
      "Total params: 576,810\n",
      "Trainable params: 576,810\n",
      "Non-trainable params: 0\n",
      "_________________________________________________________________\n"
     ]
    }
   ],
   "source": [
    "model = keras.Sequential([\n",
    "    keras.layers.Dense(512, activation='relu'),\n",
    "    keras.layers.Dense(256, activation='relu'),\n",
    "    keras.layers.Dense(128, activation='relu'),\n",
    "    keras.layers.Dense(64, activation='relu'),\n",
    "    keras.layers.Dense(32, activation='relu'),\n",
    "    keras.layers.Dense(10)\n",
    "])\n",
    "\n",
    "# [None, 28 * 28] none 代表样本数量不确定 可以是任意个样本, 样本必须是28 * 28的\n",
    "model.build(input_shape=[None, 28 * 28])\n",
    "model.summary()"
   ]
  },
  {
   "cell_type": "code",
   "execution_count": 2,
   "metadata": {},
   "outputs": [
    {
     "ename": "NameError",
     "evalue": "name 'keras' is not defined",
     "output_type": "error",
     "traceback": [
      "\u001b[0;31m---------------------------------------------------------------------------\u001b[0m",
      "\u001b[0;31mNameError\u001b[0m                                 Traceback (most recent call last)",
      "\u001b[0;32m<ipython-input-2-ab12ddb70152>\u001b[0m in \u001b[0;36m<module>\u001b[0;34m\u001b[0m\n\u001b[1;32m      1\u001b[0m \u001b[0;31m# 优化器\u001b[0m\u001b[0;34m\u001b[0m\u001b[0;34m\u001b[0m\u001b[0;34m\u001b[0m\u001b[0m\n\u001b[0;32m----> 2\u001b[0;31m \u001b[0moptimizer\u001b[0m \u001b[0;34m=\u001b[0m \u001b[0mkeras\u001b[0m\u001b[0;34m.\u001b[0m\u001b[0moptimizers\u001b[0m\u001b[0;34m.\u001b[0m\u001b[0mAdam\u001b[0m\u001b[0;34m(\u001b[0m\u001b[0mlearning_rate\u001b[0m\u001b[0;34m=\u001b[0m\u001b[0;36m1e-3\u001b[0m\u001b[0;34m)\u001b[0m\u001b[0;34m\u001b[0m\u001b[0;34m\u001b[0m\u001b[0m\n\u001b[0m\u001b[1;32m      3\u001b[0m \u001b[0;34m\u001b[0m\u001b[0m\n\u001b[1;32m      4\u001b[0m \u001b[0;31m# 评估指标\u001b[0m\u001b[0;34m\u001b[0m\u001b[0;34m\u001b[0m\u001b[0;34m\u001b[0m\u001b[0m\n\u001b[1;32m      5\u001b[0m \u001b[0;31m# update_state 更新状态\u001b[0m\u001b[0;34m\u001b[0m\u001b[0;34m\u001b[0m\u001b[0;34m\u001b[0m\u001b[0m\n",
      "\u001b[0;31mNameError\u001b[0m: name 'keras' is not defined"
     ]
    }
   ],
   "source": [
    "# 优化器\n",
    "optimizer = keras.optimizers.Adam(learning_rate=1e-3)\n",
    "\n",
    "# 评估指标 \n",
    "# update_state 更新状态\n",
    "# reset_states 清除缓存 否则会记录上一次的保存的值\n",
    "accuracy_metrics = keras.metrics.Accuracy()\n",
    "mean_metrics = keras.metrics.Mean()\n",
    "\n",
    "epochs = 10\n",
    "for epoch in range(epochs):\n",
    "    for step, (x, y) in enumerate(db_train):\n",
    "        x = tf.reshape(x, [-1, 28 * 28])\n",
    "        y = tf.one_hot(y, depth=10, dtype=tf.int32)\n",
    "        with tf.GradientTape() as tap:\n",
    "            y_pred = model(x)\n",
    "\n",
    "            loss = tf.reduce_mean(keras.losses.categorical_crossentropy(y, y_pred, from_logits=True))\n",
    "            mean_metrics.update_state(loss)\n",
    "            \n",
    "        grads = tap.gradient(loss, model.trainable_variables)\n",
    "        optimizer.apply_gradients(zip(grads, model.trainable_variables))\n",
    "        \n",
    "        if step % 100 == 0:\n",
    "            print(step, 'loss:', mean_metrics.result().numpy())\n",
    "            # 清除缓存 否则会进行累积\n",
    "            mean_metrics.reset_states()\n",
    "    \n",
    "    # 测试集上测试泛化能力\n",
    "    total_correct, total_num = 0, 0\n",
    "    accuracy_metrics.reset_states()\n",
    "\n",
    "    for x, y in db_test:\n",
    "        x = tf.reshape(x, [-1, 28 * 28])\n",
    "        \n",
    "        y_pred = model(x)\n",
    "        # 将预测出来的标签值 转化为概率\n",
    "        y_prob = tf.nn.softmax(y_pred)\n",
    "        y_pred = tf.argmax(y_prob, axis=1)\n",
    "        y_pred = tf.cast(y_pred, dtype=tf.int32)\n",
    "        correct = tf.equal(y, y_pred)\n",
    "        correct = tf.cast(correct, dtype=tf.int32)\n",
    "        \n",
    "        total_correct += tf.reduce_sum(correct)\n",
    "        total_num += x.shape[0]\n",
    "        \n",
    "        accuracy_metrics.update_state(y, y_pred)\n",
    "    \n",
    "    # 怪不得我刚才得到的正确率不一样 原来是因为我没有清除上一次迭代中accuracy_metrics\n",
    "    print('【正确率 aucc = %f】' % (total_correct / total_num))\n",
    "    print('【正确率 accuracy_metrics = %f】' % (accuracy_metrics.result().numpy()))    \n",
    "    "
   ]
  },
  {
   "cell_type": "code",
   "execution_count": 8,
   "metadata": {},
   "outputs": [
    {
     "name": "stdout",
     "output_type": "stream",
     "text": [
      "(128, 28, 28)\n"
     ]
    }
   ],
   "source": []
  },
  {
   "cell_type": "code",
   "execution_count": null,
   "metadata": {},
   "outputs": [],
   "source": []
  }
 ],
 "metadata": {
  "kernelspec": {
   "display_name": "Python 3",
   "language": "python",
   "name": "python3"
  },
  "language_info": {
   "codemirror_mode": {
    "name": "ipython",
    "version": 3
   },
   "file_extension": ".py",
   "mimetype": "text/x-python",
   "name": "python",
   "nbconvert_exporter": "python",
   "pygments_lexer": "ipython3",
   "version": "3.7.3"
  }
 },
 "nbformat": 4,
 "nbformat_minor": 2
}
