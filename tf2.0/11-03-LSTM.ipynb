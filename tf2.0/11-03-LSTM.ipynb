{
 "cells": [
  {
   "cell_type": "code",
   "execution_count": 1,
   "metadata": {},
   "outputs": [],
   "source": [
    "from datetime import datetime\n",
    "import numpy as np\n",
    "import tensorflow as tf\n",
    "from tensorflow import keras"
   ]
  },
  {
   "cell_type": "code",
   "execution_count": 5,
   "metadata": {},
   "outputs": [
    {
     "name": "stdout",
     "output_type": "stream",
     "text": [
      "x_train shape: (25000, 80) tf.Tensor(1, shape=(), dtype=int64) tf.Tensor(0, shape=(), dtype=int64)\n",
      "x_test shape: (25000, 80)\n"
     ]
    }
   ],
   "source": [
    "total_words = 10000\n",
    "max_review_len = 80\n",
    "embedding_len = 100\n",
    "\n",
    "(x_train, y_train), (x_test, y_test) = keras.datasets.imdb.load_data(num_words=total_words)\n",
    "\n",
    "# 文本预处理\n",
    "x_train = keras.preprocessing.sequence.pad_sequences(x_train, maxlen=max_review_len)\n",
    "x_test = keras.preprocessing.sequence.pad_sequences(x_test, maxlen=max_review_len)\n",
    "\n",
    "\n",
    "batch_size = 128\n",
    "db_train = tf.data.Dataset.from_tensor_slices((x_train, y_train))\n",
    "db_train = db_train.shuffle(10000).batch(batch_size, \n",
    "                                         drop_remainder=True # 如果最后一批次不够128 直接弃掉\n",
    "                                        )\n",
    "\n",
    "db_test = tf.data.Dataset.from_tensor_slices((x_test, y_test))\n",
    "db_test = db_test.batch(batch_size, drop_remainder=True)\n",
    "\n",
    "\n",
    "print('x_train shape:', x_train.shape, tf.reduce_max(y_train), tf.reduce_min(y_train))\n",
    "print('x_test shape:', x_test.shape)"
   ]
  },
  {
   "cell_type": "code",
   "execution_count": 6,
   "metadata": {},
   "outputs": [],
   "source": [
    "class MyRNN(keras.Model):\n",
    "    def __init__(self, units):\n",
    "        super(MyRNN, self).__init__()\n",
    "        # 初始化 rnn cell的state, 和 C \n",
    "        self.state0 = [tf.zeros([batch_size, units]), tf.zeros([batch_size, units])]\n",
    "        self.state1 = [tf.zeros([batch_size, units]), tf.zeros([batch_size, units])]\n",
    "\n",
    "        \n",
    "        # [b, 80] => [b, 80, 100] 每个句子最多80个单词, 每个单词用100维的向量表示\n",
    "        # 嵌入模型把你文本转化为数值型的向量\n",
    "        self.embedding = keras.layers.Embedding(total_words, # 输入维度 目前设置的80维\n",
    "                                                embedding_len, # 每个单词\n",
    "                                                input_length=max_review_len, # 句子长度\n",
    "                                               )\n",
    "        # cell把你一个句子在时间轴上展开 h_dim: 64 \n",
    "        # [b, 80, 100] => [b, 64] \n",
    "        # # units参数就是h_dim, 将100维的单词向量进行信息提取,转化为内部的state, 就是label的状态\n",
    "        self.rnn_cell0 = keras.layers.LSTMCell(units=units, dropout=0.5)\n",
    "        # 在增加一层\n",
    "        self.rnn_cell1 = keras.layers.LSTMCell(units=units, dropout=0.5)\n",
    "        \n",
    "        # 从开始到输出层 数据维度的变化 [b, 80, 100] => [b, 64] => [b, 1]\n",
    "        # 总共三层 第一层是嵌入层  第二层是SimpleRNNCell 信息提取层 第三层是输出层 输出预测值\n",
    "        self.out_layer = keras.layers.Dense(1)\n",
    "        \n",
    "    def call(self, inputs, training=None):\n",
    "        \"\"\"\n",
    "        前向传播的计算过程\n",
    "        \n",
    "        net(x) net(x, training=True) :train mode \n",
    "        net(x, training=False): test\n",
    "        dropout 只有在训练模式下起作用 测试模式下不管用\n",
    "        :param inputs: 一句话 [b, 80] b为批次大小, 80 每个句子80个单词\n",
    "        :param training:\n",
    "        :return:\n",
    "        \"\"\"\n",
    "        x = inputs\n",
    "        # 嵌入层 [b, 80] => [b, 80, 100]\n",
    "        x = self.embedding(x)\n",
    "        \n",
    "        # rnn cell计算\n",
    "        state0 = self.state0\n",
    "        state1 = self.state1\n",
    "        for word in tf.unstack(x, axis=1): \n",
    "            # unstack 在单词数量的维度上展开 转化成80个[b, 100], [b, 100] 每一个代表一个句子中第一个单词, 第二个单词...\n",
    "            # 在时间轴上 依次计算每个单词的的state, 并把它当做下一次的输入\n",
    "            out0, state0 = self.rnn_cell0(word, state0, training)\n",
    "            out1, state1 = self.rnn_cell1(out0, state1, training)\n",
    "        \n",
    "        # 输出层 [b, 64] => [b, 1]\n",
    "        x = self.out_layer(out1)\n",
    "        # 将这个值 转化为概率 P(y is positive | x)\n",
    "        prob = tf.sigmoid(x)\n",
    "        return prob\n",
    "        \n",
    "            \n"
   ]
  },
  {
   "cell_type": "code",
   "execution_count": 7,
   "metadata": {},
   "outputs": [
    {
     "name": "stdout",
     "output_type": "stream",
     "text": [
      "Epoch 1/6\n"
     ]
    },
    {
     "name": "stderr",
     "output_type": "stream",
     "text": [
      "WARNING: Logging before flag parsing goes to stderr.\n",
      "W0830 17:20:52.861858 4610381248 deprecation.py:323] From /anaconda3/lib/python3.7/site-packages/tensorflow/python/ops/math_grad.py:1250: add_dispatch_support.<locals>.wrapper (from tensorflow.python.ops.array_ops) is deprecated and will be removed in a future version.\n",
      "Instructions for updating:\n",
      "Use tf.where in 2.0, which has the same broadcast rule as np.where\n"
     ]
    },
    {
     "name": "stdout",
     "output_type": "stream",
     "text": [
      "195/195 [==============================] - 57s 291ms/step - loss: 0.4908 - accuracy: 0.6535 - val_loss: 0.3761 - val_accuracy: 0.8321\n",
      "Epoch 2/6\n",
      "195/195 [==============================] - 38s 193ms/step - loss: 0.3158 - accuracy: 0.8569 - val_loss: 0.3729 - val_accuracy: 0.8369\n",
      "Epoch 3/6\n",
      "195/195 [==============================] - 37s 191ms/step - loss: 0.2618 - accuracy: 0.8915 - val_loss: 0.3947 - val_accuracy: 0.8323\n",
      "Epoch 4/6\n",
      "195/195 [==============================] - 37s 190ms/step - loss: 0.2247 - accuracy: 0.9049 - val_loss: 0.4821 - val_accuracy: 0.8241\n",
      "Epoch 5/6\n",
      "195/195 [==============================] - 37s 190ms/step - loss: 0.2049 - accuracy: 0.9224 - val_loss: 0.5868 - val_accuracy: 0.8138\n",
      "Epoch 6/6\n",
      "195/195 [==============================] - 37s 191ms/step - loss: 0.1953 - accuracy: 0.9202 - val_loss: 0.5109 - val_accuracy: 0.8231\n"
     ]
    },
    {
     "data": {
      "text/plain": [
       "<tensorflow.python.keras.callbacks.History at 0xb3150b358>"
      ]
     },
     "execution_count": 7,
     "metadata": {},
     "output_type": "execute_result"
    }
   ],
   "source": [
    "h_dim = 64\n",
    "epochs = 6\n",
    "\n",
    "# 建立模型\n",
    "model2 = MyRNN(h_dim)\n",
    "\n",
    "# 编译 训练\n",
    "model2.compile(optimizer=keras.optimizers.Adam(0.001),\n",
    "              loss=tf.losses.BinaryCrossentropy(), \n",
    "              metrics=['accuracy'])\n",
    "\n",
    "model2.fit(db_train, epochs=epochs, validation_data=db_test)"
   ]
  },
  {
   "cell_type": "code",
   "execution_count": 8,
   "metadata": {},
   "outputs": [],
   "source": [
    "### \n"
   ]
  },
  {
   "cell_type": "code",
   "execution_count": 11,
   "metadata": {},
   "outputs": [],
   "source": [
    "class MyRNN(keras.Model):\n",
    "    def __init__(self, units):\n",
    "        super(MyRNN, self).__init__()\n",
    "        \n",
    "        # [b, 80] => [b, 80, 100] 每个句子最多80个单词, 每个单词用100维的向量表示\n",
    "        # 嵌入模型把你文本转化为数值型的向量\n",
    "        self.embedding = keras.layers.Embedding(total_words, # 输入维度 目前设置的80维\n",
    "                                                embedding_len, # 每个单词\n",
    "                                                input_length=max_review_len, # 句子长度\n",
    "                                               )\n",
    "        # cell把你一个句子在时间轴上展开 h_dim: 64 \n",
    "        # [b, 80, 100] => [b, 64] \n",
    "        # # units参数就是h_dim, 将100维的单词向量进行信息提取,转化为内部的state, 就是label的状态\n",
    "        self.rnn = keras.Sequential([\n",
    "            keras.layers.LSTM(units, return_sequences=True, dropout=0.5, unroll=True),\n",
    "            keras.layers.LSTM(units, dropout=0.5, unroll=True)\n",
    "        ])\n",
    "        \n",
    "        # 从开始到输出层 数据维度的变化 [b, 80, 100] => [b, 64] => [b, 1]\n",
    "        # 总共三层 第一层是嵌入层  第二层是SimpleRNNCell 信息提取层 第三层是输出层 输出预测值\n",
    "        self.out_layer = keras.layers.Dense(1)\n",
    "        \n",
    "    def call(self, inputs, training=None):\n",
    "        \"\"\"\n",
    "        前向传播的计算过程\n",
    "        \n",
    "        net(x) net(x, training=True) :train mode \n",
    "        net(x, training=False): test\n",
    "        dropout 只有在训练模式下起作用 测试模式下不管用\n",
    "        :param inputs: 一句话 [b, 80] b为批次大小, 80 每个句子80个单词\n",
    "        :param training:\n",
    "        :return:\n",
    "        \"\"\"\n",
    "        x = inputs\n",
    "        # 嵌入层 [b, 80] => [b, 80, 100]\n",
    "        x = self.embedding(x)\n",
    "        \n",
    "        # rnn cell计算\n",
    "        x = self.rnn(x)\n",
    "        \n",
    "        # 输出层 [b, 64] => [b, 1]\n",
    "        x = self.out_layer(x)\n",
    "        # 将这个值 转化为概率 P(y is positive | x)\n",
    "        prob = tf.sigmoid(x)\n",
    "        return prob\n",
    "        \n",
    "            \n"
   ]
  },
  {
   "cell_type": "code",
   "execution_count": 12,
   "metadata": {},
   "outputs": [
    {
     "name": "stdout",
     "output_type": "stream",
     "text": [
      "Epoch 1/6\n",
      "195/195 [==============================] - 85s 436ms/step - loss: 0.4845 - accuracy: 0.6557 - val_loss: 0.3692 - val_accuracy: 0.8353\n",
      "Epoch 2/6\n",
      "195/195 [==============================] - 47s 242ms/step - loss: 0.3115 - accuracy: 0.8595 - val_loss: 0.3677 - val_accuracy: 0.8409\n",
      "Epoch 3/6\n",
      "195/195 [==============================] - 47s 240ms/step - loss: 0.2590 - accuracy: 0.8910 - val_loss: 0.3870 - val_accuracy: 0.8358\n",
      "Epoch 4/6\n",
      "195/195 [==============================] - 47s 239ms/step - loss: 0.2189 - accuracy: 0.9132 - val_loss: 0.4316 - val_accuracy: 0.8291\n",
      "Epoch 5/6\n",
      "195/195 [==============================] - 46s 238ms/step - loss: 0.1993 - accuracy: 0.9212 - val_loss: 0.5230 - val_accuracy: 0.8220\n",
      "Epoch 6/6\n",
      "195/195 [==============================] - 47s 239ms/step - loss: 0.1744 - accuracy: 0.9336 - val_loss: 0.6411 - val_accuracy: 0.8201\n"
     ]
    },
    {
     "data": {
      "text/plain": [
       "<tensorflow.python.keras.callbacks.History at 0xb3f503a90>"
      ]
     },
     "execution_count": 12,
     "metadata": {},
     "output_type": "execute_result"
    }
   ],
   "source": [
    "h_dim = 64\n",
    "epochs = 6\n",
    "\n",
    "# 建立模型\n",
    "model2 = MyRNN(h_dim)\n",
    "\n",
    "# 编译 训练\n",
    "model2.compile(optimizer=keras.optimizers.Adam(0.001),\n",
    "              loss=tf.losses.BinaryCrossentropy(), \n",
    "              metrics=['accuracy'])\n",
    "\n",
    "model2.fit(db_train, epochs=epochs, validation_data=db_test)"
   ]
  },
  {
   "cell_type": "code",
   "execution_count": null,
   "metadata": {},
   "outputs": [],
   "source": []
  }
 ],
 "metadata": {
  "kernelspec": {
   "display_name": "Python 3",
   "language": "python",
   "name": "python3"
  },
  "language_info": {
   "codemirror_mode": {
    "name": "ipython",
    "version": 3
   },
   "file_extension": ".py",
   "mimetype": "text/x-python",
   "name": "python",
   "nbconvert_exporter": "python",
   "pygments_lexer": "ipython3",
   "version": "3.7.3"
  }
 },
 "nbformat": 4,
 "nbformat_minor": 2
}
