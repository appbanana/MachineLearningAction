{
 "cells": [
  {
   "cell_type": "code",
   "execution_count": 15,
   "metadata": {},
   "outputs": [],
   "source": [
    "import numpy as np\n",
    "import tensorflow as tf\n",
    "from tensorflow import keras\n",
    "\n",
    "from IPython.core.interactiveshell import InteractiveShell\n",
    "# import matplotlib.pyplot as plt\n",
    "# import seaborn as sns"
   ]
  },
  {
   "cell_type": "code",
   "execution_count": 3,
   "metadata": {},
   "outputs": [],
   "source": [
    "# 配置项\n",
    "# # 这个要放到设置中文之前否则还是小方框\n",
    "# plt.style.use(\"seaborn\")\n",
    "\n",
    "# # 指定默认字体 用来正常显示中文标签\n",
    "# plt.rcParams['font.sans-serif'] = ['SimHei']\n",
    "# # 解决保存图像是负号'-'显示为方块的问题\n",
    "# plt.rcParams['axes.unicode_minus'] = False\n",
    "\n",
    "# #全部行都能输出\n",
    "InteractiveShell.ast_node_interactivity = \"all\""
   ]
  },
  {
   "cell_type": "code",
   "execution_count": 4,
   "metadata": {},
   "outputs": [],
   "source": [
    "def preprocess_data(x, y):\n",
    "    # 这里的预处理方式 对结果有影响\n",
    "#     x = tf.cast(x, dtype=tf.float32) / 255 # accuracy: 0.4613\n",
    "#     x = tf.cast(x, dtype=tf.float32) / 255 -0.5 # loss: 1.6729 - accuracy: 0.4959\n",
    "    x = tf.cast(x, dtype=tf.float32) / 125.5 - 1 # loss: 1.6406 - accuracy: 0.4902\n",
    "\n",
    "\n",
    "    y = tf.cast(y, dtype=tf.int32)\n",
    "    return x, y"
   ]
  },
  {
   "cell_type": "code",
   "execution_count": 5,
   "metadata": {},
   "outputs": [],
   "source": [
    "(x_train, y_train), (x_test, y_test) = keras.datasets.cifar10.load_data()"
   ]
  },
  {
   "cell_type": "code",
   "execution_count": 6,
   "metadata": {},
   "outputs": [
    {
     "data": {
      "text/plain": [
       "((50000, 32, 32, 3), (50000, 1))"
      ]
     },
     "execution_count": 6,
     "metadata": {},
     "output_type": "execute_result"
    }
   ],
   "source": [
    "x_train.shape, y_train.shape"
   ]
  },
  {
   "cell_type": "code",
   "execution_count": 7,
   "metadata": {},
   "outputs": [],
   "source": [
    "y_train = tf.squeeze(y_train, axis=1)\n",
    "y_test = tf.squeeze(y_test, axis=1)\n",
    "\n",
    "\n",
    "# 因为是10分类 所以depth是10\n",
    "y_train = tf.one_hot(y_train, depth=10)\n",
    "y_test = tf.one_hot(y_test, depth=10)\n"
   ]
  },
  {
   "cell_type": "code",
   "execution_count": 8,
   "metadata": {},
   "outputs": [
    {
     "data": {
      "text/plain": [
       "(TensorShape([50000, 10]), TensorShape([10000, 10]))"
      ]
     },
     "execution_count": 8,
     "metadata": {},
     "output_type": "execute_result"
    }
   ],
   "source": [
    "y_train.shape, y_test.shape"
   ]
  },
  {
   "cell_type": "code",
   "execution_count": 9,
   "metadata": {},
   "outputs": [],
   "source": [
    "db_train = tf.data.Dataset.from_tensor_slices((x_train, y_train))\n",
    "db_test = tf.data.Dataset.from_tensor_slices((x_test, y_test))\n",
    "\n",
    "batch_size = 128\n",
    "db_train = db_train.map(preprocess_data).shuffle(10000).batch(batch_size)\n",
    "db_test = db_test.map(preprocess_data).batch(batch_size)"
   ]
  },
  {
   "cell_type": "code",
   "execution_count": 10,
   "metadata": {},
   "outputs": [
    {
     "data": {
      "text/plain": [
       "(TensorShape([128, 32, 32, 3]), TensorShape([128, 10]))"
      ]
     },
     "execution_count": 10,
     "metadata": {},
     "output_type": "execute_result"
    }
   ],
   "source": [
    "sample = next(iter(db_train))\n",
    "sample[0].shape, sample[1].shape"
   ]
  },
  {
   "cell_type": "code",
   "execution_count": 11,
   "metadata": {},
   "outputs": [],
   "source": [
    "# 自定义layer和模型\n",
    "class MyDense(keras.layers.Layer):\n",
    "    def __init__(self, input_dim, out_dim):\n",
    "        super(MyDense, self).__init__()\n",
    "        \n",
    "        self.kernel = self.add_variable('w', [input_dim, out_dim])\n",
    "        \n",
    "    def call(self, input_data, training=None):\n",
    "        x = input_data @ self.kernel\n",
    "        return x\n",
    "    \n",
    "class MyModel(keras.Model):\n",
    "    def __init__(self):\n",
    "        super(MyModel, self).__init__()\n",
    "        \n",
    "        self.dense1 = MyDense(32*32*3, 256)\n",
    "        self.dense2 = MyDense(256, 128)\n",
    "        self.dense3 = MyDense(128, 64)\n",
    "        self.dense4 = MyDense(64, 32)\n",
    "        self.dense5 = MyDense(32, 10)\n",
    "        \n",
    "    def call(self, input_data, training=None):\n",
    "        x = tf.reshape(input_data, [-1, 32 * 32 * 3])\n",
    "        x = self.dense1(x)\n",
    "        x = tf.nn.relu(x)\n",
    "        \n",
    "        x = self.dense2(x)\n",
    "        x = tf.nn.relu(x)\n",
    "        \n",
    "        x = self.dense3(x)\n",
    "        x = tf.nn.relu(x)\n",
    "        \n",
    "        x = self.dense4(x)\n",
    "        x = tf.nn.relu(x)\n",
    "        \n",
    "        x = self.dense5(x)\n",
    "        \n",
    "        return x\n",
    "        \n",
    "        "
   ]
  },
  {
   "cell_type": "code",
   "execution_count": 12,
   "metadata": {},
   "outputs": [],
   "source": [
    "model = MyModel()\n",
    "\n",
    "model.compile(optimizer=tf.optimizers.Adam(1e-3), \n",
    "              loss=tf.losses.CategoricalCrossentropy(from_logits=True), \n",
    "              metrics=['accuracy']\n",
    "             )\n"
   ]
  },
  {
   "cell_type": "code",
   "execution_count": 13,
   "metadata": {},
   "outputs": [
    {
     "name": "stdout",
     "output_type": "stream",
     "text": [
      "Epoch 1/10\n",
      "391/391 [==============================] - 8s 21ms/step - loss: 1.7191 - accuracy: 0.3434 - val_loss: 1.5613 - val_accuracy: 0.4506\n",
      "Epoch 2/10\n",
      "391/391 [==============================] - 7s 18ms/step - loss: 1.5025 - accuracy: 0.4619 - val_loss: 1.4805 - val_accuracy: 0.4790\n",
      "Epoch 3/10\n",
      "391/391 [==============================] - 7s 18ms/step - loss: 1.3901 - accuracy: 0.5065 - val_loss: 1.4458 - val_accuracy: 0.4912\n",
      "Epoch 4/10\n",
      "391/391 [==============================] - 7s 18ms/step - loss: 1.3050 - accuracy: 0.5411 - val_loss: 1.4404 - val_accuracy: 0.4952\n",
      "Epoch 5/10\n",
      "391/391 [==============================] - 7s 18ms/step - loss: 1.2251 - accuracy: 0.5674 - val_loss: 1.4521 - val_accuracy: 0.5019\n",
      "Epoch 6/10\n",
      "391/391 [==============================] - 7s 18ms/step - loss: 1.1545 - accuracy: 0.5927 - val_loss: 1.4559 - val_accuracy: 0.5033\n",
      "Epoch 7/10\n",
      "391/391 [==============================] - 7s 19ms/step - loss: 1.0909 - accuracy: 0.6150 - val_loss: 1.4788 - val_accuracy: 0.5067\n",
      "Epoch 8/10\n",
      "391/391 [==============================] - 7s 18ms/step - loss: 1.0297 - accuracy: 0.6358 - val_loss: 1.5140 - val_accuracy: 0.5065\n",
      "Epoch 9/10\n",
      "391/391 [==============================] - 7s 19ms/step - loss: 0.9793 - accuracy: 0.6574 - val_loss: 1.5635 - val_accuracy: 0.5029\n",
      "Epoch 10/10\n",
      "391/391 [==============================] - 8s 19ms/step - loss: 0.9267 - accuracy: 0.6742 - val_loss: 1.6406 - val_accuracy: 0.4902\n"
     ]
    },
    {
     "data": {
      "text/plain": [
       "<tensorflow.python.keras.callbacks.History at 0xb2f54af28>"
      ]
     },
     "execution_count": 13,
     "metadata": {},
     "output_type": "execute_result"
    }
   ],
   "source": [
    "model.fit(db_train, epochs=10, validation_data=db_test)"
   ]
  },
  {
   "cell_type": "code",
   "execution_count": 14,
   "metadata": {},
   "outputs": [
    {
     "name": "stdout",
     "output_type": "stream",
     "text": [
      "79/79 [==============================] - 1s 11ms/step - loss: 1.6406 - accuracy: 0.4902\n"
     ]
    },
    {
     "data": {
      "text/plain": [
       "[1.6406257605250878, 0.4902]"
      ]
     },
     "execution_count": 14,
     "metadata": {},
     "output_type": "execute_result"
    }
   ],
   "source": [
    "model.evaluate(db_test)\n",
    "\n",
    "model.save_weights('ckpt/weights.ckpt')"
   ]
  },
  {
   "cell_type": "code",
   "execution_count": 14,
   "metadata": {},
   "outputs": [],
   "source": [
    "# 建立新的模型\n",
    "model2 = MyModel()\n",
    "\n",
    "model2.compile(optimizer=tf.optimizers.Adam(1e-3), \n",
    "              loss=tf.losses.CategoricalCrossentropy(from_logits=True), \n",
    "              metrics=['accuracy']\n",
    "             )"
   ]
  },
  {
   "cell_type": "code",
   "execution_count": 49,
   "metadata": {},
   "outputs": [
    {
     "name": "stdout",
     "output_type": "stream",
     "text": [
      "79/79 [==============================] - 1s 15ms/step - loss: 2.3268 - accuracy: 0.0791\n"
     ]
    },
    {
     "data": {
      "text/plain": [
       "[2.3268474355528626, 0.0814]"
      ]
     },
     "execution_count": 49,
     "metadata": {},
     "output_type": "execute_result"
    }
   ],
   "source": [
    "# 模型未加载权重 直接上测试集 由下图可以看出准确率几乎为0\n",
    "model2.evaluate(db_test)"
   ]
  },
  {
   "cell_type": "code",
   "execution_count": 51,
   "metadata": {},
   "outputs": [
    {
     "data": {
      "text/plain": [
       "<tensorflow.python.training.tracking.util.CheckpointLoadStatus at 0xb36bd5f28>"
      ]
     },
     "execution_count": 51,
     "metadata": {},
     "output_type": "execute_result"
    },
    {
     "name": "stdout",
     "output_type": "stream",
     "text": [
      "79/79 [==============================] - 1s 11ms/step - loss: 1.5239 - accuracy: 0.4613\n"
     ]
    },
    {
     "data": {
      "text/plain": [
       "[1.5239310581472856, 0.4613]"
      ]
     },
     "execution_count": 51,
     "metadata": {},
     "output_type": "execute_result"
    }
   ],
   "source": [
    "# 下图的准确率 比上面不加载权重的的结果要好很多\n",
    "model2.load_weights('ckpt/weights.ckpt')\n",
    "model2.evaluate(db_test)"
   ]
  },
  {
   "cell_type": "code",
   "execution_count": null,
   "metadata": {},
   "outputs": [],
   "source": []
  },
  {
   "cell_type": "code",
   "execution_count": null,
   "metadata": {},
   "outputs": [],
   "source": []
  },
  {
   "cell_type": "code",
   "execution_count": null,
   "metadata": {},
   "outputs": [],
   "source": []
  }
 ],
 "metadata": {
  "kernelspec": {
   "display_name": "Python 3",
   "language": "python",
   "name": "python3"
  },
  "language_info": {
   "codemirror_mode": {
    "name": "ipython",
    "version": 3
   },
   "file_extension": ".py",
   "mimetype": "text/x-python",
   "name": "python",
   "nbconvert_exporter": "python",
   "pygments_lexer": "ipython3",
   "version": "3.7.3"
  }
 },
 "nbformat": 4,
 "nbformat_minor": 2
}
