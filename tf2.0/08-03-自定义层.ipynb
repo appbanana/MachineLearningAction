{
 "cells": [
  {
   "cell_type": "code",
   "execution_count": 1,
   "metadata": {},
   "outputs": [],
   "source": [
    "import tensorflow as tf\n",
    "from tensorflow import keras"
   ]
  },
  {
   "cell_type": "code",
   "execution_count": 2,
   "metadata": {},
   "outputs": [],
   "source": [
    "# 加载数据\n",
    "(x_train, y_train), (x_test, y_test) = keras.datasets.fashion_mnist.load_data()"
   ]
  },
  {
   "cell_type": "code",
   "execution_count": 3,
   "metadata": {},
   "outputs": [],
   "source": [
    "# 数据预处理\n",
    "def preprocess_data(x, y):\n",
    "    x = tf.cast(x, dtype=tf.float32) / 255\n",
    "    x = tf.reshape(x, [28 * 28])\n",
    "    y = tf.cast(y, dtype=tf.int32)\n",
    "    y = tf.one_hot(y, depth=10)\n",
    "    return x, y\n",
    "    "
   ]
  },
  {
   "cell_type": "code",
   "execution_count": 4,
   "metadata": {},
   "outputs": [],
   "source": [
    "# 划分训练接和测试集\n",
    "batch_size = 128\n",
    "db_train = tf.data.Dataset.from_tensor_slices((x_train, y_train))\n",
    "db_train = db_train.map(preprocess_data).shuffle(10000).batch(batch_size)\n",
    "\n",
    "db_test = tf.data.Dataset.from_tensor_slices((x_test, y_test))\n",
    "db_test = db_test.map(preprocess_data).batch(batch_size)"
   ]
  },
  {
   "cell_type": "code",
   "execution_count": 5,
   "metadata": {},
   "outputs": [
    {
     "name": "stdout",
     "output_type": "stream",
     "text": [
      "(128, 784) (128, 10)\n"
     ]
    }
   ],
   "source": [
    "# 验证数据类型\n",
    "sample = next(iter(db_train))\n",
    "print(sample[0].shape, sample[1].shape)"
   ]
  },
  {
   "cell_type": "code",
   "execution_count": 7,
   "metadata": {},
   "outputs": [],
   "source": [
    "class MyDense(keras.layers.Layer):\n",
    "    \"\"\"\n",
    "    自定义层 __init__,call方法必须实现\n",
    "    \"\"\"\n",
    "    def __init__(self, input_dim, out_dim):\n",
    "        super(MyDense, self).__init__()\n",
    "        self.kernel = self.add_variable('w', [input_dim, out_dim])\n",
    "        self.bias = self.add_variable('b', [out_dim])\n",
    "    \n",
    "    def call(self, input_data, training=None):\n",
    "        out = input_data@self.kernel + self.bias\n",
    "        return out\n",
    "    \n",
    "class MyModel(keras.Model):\n",
    "    def __init__(self):\n",
    "        super(MyModel, self).__init__()\n",
    "        self.dense1 = MyDense(28 * 28, 256)\n",
    "        self.dense2 = MyDense(256, 128)\n",
    "        self.dense3 = MyDense(128, 64)\n",
    "        self.dense4 = MyDense(64, 32)\n",
    "        self.dense5 = MyDense(32, 10)\n",
    "    \n",
    "    def call(self, input_data, training=None):\n",
    "        x = self.dense1(input_data)\n",
    "        x = tf.nn.relu(x)\n",
    "        \n",
    "        x = self.dense2(x)\n",
    "        x = tf.nn.relu(x)\n",
    "                \n",
    "        x = self.dense3(x)\n",
    "        x = tf.nn.relu(x)\n",
    "                \n",
    "        x = self.dense4(x)\n",
    "        x = tf.nn.relu(x)\n",
    "                \n",
    "        x = self.dense5(x)\n",
    "                \n",
    "        return x\n",
    "        \n",
    "        \n",
    "        \n",
    "        "
   ]
  },
  {
   "cell_type": "code",
   "execution_count": 8,
   "metadata": {},
   "outputs": [
    {
     "name": "stdout",
     "output_type": "stream",
     "text": [
      "Epoch 1/10\n",
      "469/469 [==============================] - 7s 15ms/step - loss: 0.5559 - accuracy: 0.7086 - val_loss: 0.4315 - val_accuracy: 0.8464\n",
      "Epoch 2/10\n",
      "469/469 [==============================] - 6s 12ms/step - loss: 0.3726 - accuracy: 0.8617 - val_loss: 0.3908 - val_accuracy: 0.8588\n",
      "Epoch 3/10\n",
      "469/469 [==============================] - 6s 12ms/step - loss: 0.3342 - accuracy: 0.8747 - val_loss: 0.3748 - val_accuracy: 0.8635\n",
      "Epoch 4/10\n",
      "469/469 [==============================] - 5s 12ms/step - loss: 0.3086 - accuracy: 0.8834 - val_loss: 0.3686 - val_accuracy: 0.8647\n",
      "Epoch 5/10\n",
      "469/469 [==============================] - 6s 12ms/step - loss: 0.2896 - accuracy: 0.8917 - val_loss: 0.3795 - val_accuracy: 0.8642\n",
      "Epoch 6/10\n",
      "469/469 [==============================] - 6s 13ms/step - loss: 0.2731 - accuracy: 0.8965 - val_loss: 0.3817 - val_accuracy: 0.8655\n",
      "Epoch 7/10\n",
      "469/469 [==============================] - 6s 12ms/step - loss: 0.2615 - accuracy: 0.9010 - val_loss: 0.3652 - val_accuracy: 0.8691\n",
      "Epoch 8/10\n",
      "469/469 [==============================] - 6s 12ms/step - loss: 0.2494 - accuracy: 0.9041 - val_loss: 0.3649 - val_accuracy: 0.8683\n",
      "Epoch 9/10\n",
      "469/469 [==============================] - 6s 14ms/step - loss: 0.2404 - accuracy: 0.9074 - val_loss: 0.3576 - val_accuracy: 0.8717\n",
      "Epoch 10/10\n",
      "469/469 [==============================] - 6s 13ms/step - loss: 0.2298 - accuracy: 0.9117 - val_loss: 0.3499 - val_accuracy: 0.8758\n"
     ]
    },
    {
     "data": {
      "text/plain": [
       "<tensorflow.python.keras.callbacks.History at 0xb40be2d30>"
      ]
     },
     "execution_count": 8,
     "metadata": {},
     "output_type": "execute_result"
    }
   ],
   "source": [
    "# 建立自定义的模型\n",
    "model = MyModel()\n",
    "\n",
    "model.compile(optimizer='adam', \n",
    "              loss=tf.losses.CategoricalCrossentropy(from_logits=True), \n",
    "              metrics=['accuracy'])\n",
    "model.fit(db_train, epochs=10, validation_data=db_test)"
   ]
  },
  {
   "cell_type": "code",
   "execution_count": 9,
   "metadata": {},
   "outputs": [
    {
     "name": "stdout",
     "output_type": "stream",
     "text": [
      "79/79 [==============================] - 1s 10ms/step - loss: 0.3499 - accuracy: 0.8758\n"
     ]
    },
    {
     "data": {
      "text/plain": [
       "[0.3499346147232418, 0.8758]"
      ]
     },
     "execution_count": 9,
     "metadata": {},
     "output_type": "execute_result"
    }
   ],
   "source": [
    "model.evaluate(db_test)"
   ]
  },
  {
   "cell_type": "code",
   "execution_count": null,
   "metadata": {},
   "outputs": [],
   "source": []
  }
 ],
 "metadata": {
  "kernelspec": {
   "display_name": "Python 3",
   "language": "python",
   "name": "python3"
  },
  "language_info": {
   "codemirror_mode": {
    "name": "ipython",
    "version": 3
   },
   "file_extension": ".py",
   "mimetype": "text/x-python",
   "name": "python",
   "nbconvert_exporter": "python",
   "pygments_lexer": "ipython3",
   "version": "3.7.3"
  }
 },
 "nbformat": 4,
 "nbformat_minor": 2
}
