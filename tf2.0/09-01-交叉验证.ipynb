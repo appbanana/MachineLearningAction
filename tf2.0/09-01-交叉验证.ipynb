{
 "cells": [
  {
   "cell_type": "code",
   "execution_count": 1,
   "metadata": {},
   "outputs": [],
   "source": [
    "# 防止过拟合 \n",
    "# 1. 最最关键也是最核心的是 提供更多的数据\n",
    "# 2. 减少模型复杂度 正则化\n",
    "# 3. Drop-out\n",
    "# 4. early Stopping"
   ]
  },
  {
   "cell_type": "code",
   "execution_count": 2,
   "metadata": {},
   "outputs": [],
   "source": [
    "import numpy as np\n",
    "import tensorflow as tf\n",
    "from tensorflow import keras\n",
    "\n",
    "from IPython.core.interactiveshell import InteractiveShell\n",
    "# import matplotlib.pyplot as plt\n",
    "# import seaborn as sns"
   ]
  },
  {
   "cell_type": "code",
   "execution_count": 3,
   "metadata": {},
   "outputs": [],
   "source": [
    "# 配置项\n",
    "# # 这个要放到设置中文之前否则还是小方框\n",
    "# plt.style.use(\"seaborn\")\n",
    "\n",
    "# # 指定默认字体 用来正常显示中文标签\n",
    "# plt.rcParams['font.sans-serif'] = ['SimHei']\n",
    "# # 解决保存图像是负号'-'显示为方块的问题\n",
    "# plt.rcParams['axes.unicode_minus'] = False\n",
    "\n",
    "# #全部行都能输出\n",
    "InteractiveShell.ast_node_interactivity = \"all\""
   ]
  },
  {
   "cell_type": "code",
   "execution_count": 26,
   "metadata": {},
   "outputs": [],
   "source": [
    "(x_train, y_train), (x_test, y_test) = keras.datasets.mnist.load_data()"
   ]
  },
  {
   "cell_type": "code",
   "execution_count": 27,
   "metadata": {},
   "outputs": [],
   "source": [
    "def preprocess_data(x, y):\n",
    "    x = tf.cast(x, dtype=tf.float32) / 255\n",
    "    x = tf.reshape(x, [28 * 28])\n",
    "    y = tf.cast(y, dtype=tf.int32)\n",
    "    y = tf.one_hot(y, depth=10)\n",
    "\n",
    "    return x, y"
   ]
  },
  {
   "cell_type": "code",
   "execution_count": 28,
   "metadata": {},
   "outputs": [
    {
     "data": {
      "text/plain": [
       "(60000, 28, 28)"
      ]
     },
     "execution_count": 28,
     "metadata": {},
     "output_type": "execute_result"
    }
   ],
   "source": [
    "x_train.shape"
   ]
  },
  {
   "cell_type": "code",
   "execution_count": 29,
   "metadata": {},
   "outputs": [],
   "source": [
    "# 划分训练集 验证集 测试集\n",
    "db_train = tf.data.Dataset.from_tensor_slices((x_train[:50000], y_train[:50000]))\n",
    "db_val = tf.data.Dataset.from_tensor_slices((x_train[50000:], y_train[50000:]))\n",
    "db_test = tf.data.Dataset.from_tensor_slices((x_test, y_test))\n",
    "\n",
    "batch_size = 128\n",
    "db_train = db_train.map(preprocess_data).shuffle(10000).batch(batch_size)\n",
    "db_val = db_val.map(preprocess_data).shuffle(10000).batch(batch_size)\n",
    "db_test = db_test.map(preprocess_data).batch(batch_size)"
   ]
  },
  {
   "cell_type": "code",
   "execution_count": 40,
   "metadata": {},
   "outputs": [],
   "source": [
    "# 划分训练集,验证集,和测试集 另外一种方法参考\n",
    "# idx = tf.range(60000)\n",
    "# idx = tf.random.shuffle(idx)\n",
    "# x_train, y_train = tf.gather(x, idx[:50000]), tf.gather(y, idx[:50000])\n",
    "# x_val, y_val = tf.gather(x, idx[-10000:]) , tf.gather(y, idx[-10000:])\n",
    "# print(x_train.shape, y_train.shape, x_val.shape, y_val.shape)\n",
    "# db_train = tf.data.Dataset.from_tensor_slices((x_train,y_train))\n",
    "# db_train = db_train.map(preprocess).shuffle(50000).batch(batchsz)\n",
    "\n",
    "# db_val = tf.data.Dataset.from_tensor_slices((x_val,y_val))\n",
    "# db_val = db_val.map(preprocess).shuffle(10000).batch(batchsz)\n",
    "\n",
    "\n",
    "\n",
    "# db_test = tf.data.Dataset.from_tensor_slices((x_test, y_test))\n",
    "# db_test = db_test.map(preprocess).batch(batchsz) "
   ]
  },
  {
   "cell_type": "code",
   "execution_count": 30,
   "metadata": {},
   "outputs": [
    {
     "data": {
      "text/plain": [
       "(TensorShape([128, 784]), TensorShape([128, 10]))"
      ]
     },
     "execution_count": 30,
     "metadata": {},
     "output_type": "execute_result"
    }
   ],
   "source": [
    "sample = next(iter(db_train))\n",
    "sample[0].shape, sample[1].shape"
   ]
  },
  {
   "cell_type": "code",
   "execution_count": 31,
   "metadata": {},
   "outputs": [
    {
     "name": "stdout",
     "output_type": "stream",
     "text": [
      "Model: \"sequential_2\"\n",
      "_________________________________________________________________\n",
      "Layer (type)                 Output Shape              Param #   \n",
      "=================================================================\n",
      "dense_10 (Dense)             multiple                  200960    \n",
      "_________________________________________________________________\n",
      "dense_11 (Dense)             multiple                  32896     \n",
      "_________________________________________________________________\n",
      "dense_12 (Dense)             multiple                  8256      \n",
      "_________________________________________________________________\n",
      "dense_13 (Dense)             multiple                  2080      \n",
      "_________________________________________________________________\n",
      "dense_14 (Dense)             multiple                  330       \n",
      "=================================================================\n",
      "Total params: 244,522\n",
      "Trainable params: 244,522\n",
      "Non-trainable params: 0\n",
      "_________________________________________________________________\n"
     ]
    }
   ],
   "source": [
    "model = keras.Sequential([\n",
    "    keras.layers.Dense(256, activation='relu'),\n",
    "    keras.layers.Dense(128, activation='relu'),\n",
    "    keras.layers.Dense(64, activation='relu'),\n",
    "    keras.layers.Dense(32, activation='relu'),\n",
    "    keras.layers.Dense(10),\n",
    "])\n",
    "\n",
    "model.build(input_shape=[None, 28 * 28])\n",
    "model.summary()"
   ]
  },
  {
   "cell_type": "code",
   "execution_count": 32,
   "metadata": {},
   "outputs": [
    {
     "name": "stdout",
     "output_type": "stream",
     "text": [
      "Epoch 1/10\n",
      "391/391 [==============================] - 5s 13ms/step - loss: 0.2888 - accuracy: 0.8419\n",
      "Epoch 2/10\n",
      "391/391 [==============================] - 5s 12ms/step - loss: 0.1475 - accuracy: 0.9562 - val_loss: 0.1303 - val_accuracy: 0.9642\n",
      "Epoch 3/10\n",
      "391/391 [==============================] - 4s 11ms/step - loss: 0.1123 - accuracy: 0.9691\n",
      "Epoch 4/10\n",
      "391/391 [==============================] - 5s 13ms/step - loss: 0.0973 - accuracy: 0.9732 - val_loss: 0.1257 - val_accuracy: 0.9670\n",
      "Epoch 5/10\n",
      "391/391 [==============================] - 4s 10ms/step - loss: 0.0965 - accuracy: 0.9756\n",
      "Epoch 6/10\n",
      "391/391 [==============================] - 4s 11ms/step - loss: 0.0849 - accuracy: 0.9764 - val_loss: 0.1274 - val_accuracy: 0.9718\n",
      "Epoch 7/10\n",
      "391/391 [==============================] - 4s 11ms/step - loss: 0.0762 - accuracy: 0.9794\n",
      "Epoch 8/10\n",
      "391/391 [==============================] - 5s 12ms/step - loss: 0.0782 - accuracy: 0.9785 - val_loss: 0.1361 - val_accuracy: 0.9698\n",
      "Epoch 9/10\n",
      "391/391 [==============================] - 4s 10ms/step - loss: 0.0667 - accuracy: 0.9839\n",
      "Epoch 10/10\n",
      "391/391 [==============================] - 4s 11ms/step - loss: 0.0621 - accuracy: 0.9846 - val_loss: 0.1505 - val_accuracy: 0.9692\n"
     ]
    },
    {
     "data": {
      "text/plain": [
       "<tensorflow.python.keras.callbacks.History at 0xb2999cda0>"
      ]
     },
     "execution_count": 32,
     "metadata": {},
     "output_type": "execute_result"
    }
   ],
   "source": [
    "model.compile(optimizer=keras.optimizers.Adam(0.01), \n",
    "              loss=tf.losses.CategoricalCrossentropy(from_logits=True), \n",
    "              metrics=['accuracy']\n",
    "             )\n",
    "model.fit(db_train, epochs=10, validation_data=db_val, validation_freq=2)"
   ]
  },
  {
   "cell_type": "code",
   "execution_count": 33,
   "metadata": {},
   "outputs": [
    {
     "name": "stdout",
     "output_type": "stream",
     "text": [
      "79/79 [==============================] - 1s 11ms/step - loss: 0.1445 - accuracy: 0.9703\n"
     ]
    },
    {
     "data": {
      "text/plain": [
       "[0.14446077743232769, 0.9703]"
      ]
     },
     "execution_count": 33,
     "metadata": {},
     "output_type": "execute_result"
    }
   ],
   "source": [
    "model.evaluate(db_test)"
   ]
  },
  {
   "cell_type": "code",
   "execution_count": 39,
   "metadata": {},
   "outputs": [
    {
     "name": "stdout",
     "output_type": "stream",
     "text": [
      "tf.Tensor(\n",
      "[7 2 1 0 4 1 4 9 5 9 0 6 9 0 1 5 9 7 3 4 9 6 6 5 4 0 7 4 0 1 3 1 3 6 7 2 7\n",
      " 1 2 1 1 7 4 2 3 5 1 2 4 4 6 3 5 5 6 0 4 1 9 5 7 8 9 3 7 4 6 4 3 0 7 0 2 9\n",
      " 1 7 3 2 9 7 7 6 2 7 8 4 7 3 6 1 3 6 9 3 1 4 1 7 6 9 6 0 5 4 5 9 2 1 9 4 8\n",
      " 7 3 9 7 9 4 4 9 2 5 6 7 6 7 9 0 5], shape=(128,), dtype=int64)\n",
      "tf.Tensor(\n",
      "[7 2 1 0 4 1 4 9 5 9 0 6 9 0 1 5 9 7 3 4 9 6 6 5 4 0 7 4 0 1 3 1 3 4 7 2 7\n",
      " 1 2 1 1 7 4 2 3 5 1 2 4 4 6 3 5 5 6 0 4 1 9 5 7 8 9 3 7 4 6 4 3 0 7 0 2 9\n",
      " 1 7 3 2 9 7 7 6 2 7 8 4 7 3 6 1 3 6 9 3 1 4 1 7 6 9 6 0 5 4 9 9 2 1 9 4 8\n",
      " 7 3 9 7 4 4 4 9 2 5 4 7 6 7 9 0 5], shape=(128,), dtype=int64)\n",
      "预测错误个数: tf.Tensor(1, shape=(), dtype=int32)\n"
     ]
    }
   ],
   "source": [
    "sample = next(iter(db_test))\n",
    "x = sample[0]\n",
    "y = sample[1] # one-hot\n",
    "pred = model.predict(x) # [b, 10]\n",
    "# convert back to number \n",
    "y = tf.argmax(y, axis=1)\n",
    "pred = tf.argmax(pred, axis=1)\n",
    "error = pred != y\n",
    "\n",
    "print(pred)\n",
    "print(y)\n",
    "print('预测错误个数:', tf.reduce_sum(tf.cast(error, tf.int32)))"
   ]
  },
  {
   "cell_type": "code",
   "execution_count": 35,
   "metadata": {},
   "outputs": [
    {
     "data": {
      "text/plain": [
       "TensorShape([128])"
      ]
     },
     "execution_count": 35,
     "metadata": {},
     "output_type": "execute_result"
    }
   ],
   "source": [
    "y.shape"
   ]
  },
  {
   "cell_type": "code",
   "execution_count": null,
   "metadata": {},
   "outputs": [],
   "source": []
  }
 ],
 "metadata": {
  "kernelspec": {
   "display_name": "Python 3",
   "language": "python",
   "name": "python3"
  },
  "language_info": {
   "codemirror_mode": {
    "name": "ipython",
    "version": 3
   },
   "file_extension": ".py",
   "mimetype": "text/x-python",
   "name": "python",
   "nbconvert_exporter": "python",
   "pygments_lexer": "ipython3",
   "version": "3.7.3"
  }
 },
 "nbformat": 4,
 "nbformat_minor": 2
}
